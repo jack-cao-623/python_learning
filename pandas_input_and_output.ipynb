{
  "nbformat": 4,
  "nbformat_minor": 0,
  "metadata": {
    "colab": {
      "provenance": [],
      "authorship_tag": "ABX9TyNli/6baErTw4ZOVUkviegz",
      "include_colab_link": true
    },
    "kernelspec": {
      "name": "python3",
      "display_name": "Python 3"
    },
    "language_info": {
      "name": "python"
    }
  },
  "cells": [
    {
      "cell_type": "markdown",
      "metadata": {
        "id": "view-in-github",
        "colab_type": "text"
      },
      "source": [
        "<a href=\"https://colab.research.google.com/github/jack-cao-623/python_learning/blob/main/pandas_input_and_output.ipynb\" target=\"_parent\"><img src=\"https://colab.research.google.com/assets/colab-badge.svg\" alt=\"Open In Colab\"/></a>"
      ]
    },
    {
      "cell_type": "markdown",
      "source": [
        "# Pandas input and output"
      ],
      "metadata": {
        "id": "3Mvz2icM0dmA"
      }
    },
    {
      "cell_type": "code",
      "source": [
        "# libraries needed\n",
        "import numpy as np\n",
        "import pandas as pd"
      ],
      "metadata": {
        "id": "OVq4mEvR0eUR"
      },
      "execution_count": 2,
      "outputs": []
    },
    {
      "cell_type": "markdown",
      "source": [
        "## Pass a URL to pd.read_csv( )"
      ],
      "metadata": {
        "id": "xOpFRmMQgiIk"
      }
    },
    {
      "cell_type": "code",
      "source": [
        "baby_names = pd.read_csv(\n",
        "    'https://data.cityofnewyork.us/api/views/25th-nujf/rows.csv'\n",
        ")\n",
        "\n",
        "baby_names.head()"
      ],
      "metadata": {
        "colab": {
          "base_uri": "https://localhost:8080/",
          "height": 206
        },
        "id": "-hNrwjnV0hu5",
        "outputId": "e16c4229-d146-479d-c3b4-6c6270e8ea05"
      },
      "execution_count": 4,
      "outputs": [
        {
          "output_type": "execute_result",
          "data": {
            "text/plain": [
              "   Year of Birth  Gender Ethnicity Child's First Name  Count  Rank\n",
              "0           2011  FEMALE  HISPANIC          GERALDINE     13    75\n",
              "1           2011  FEMALE  HISPANIC                GIA     21    67\n",
              "2           2011  FEMALE  HISPANIC             GIANNA     49    42\n",
              "3           2011  FEMALE  HISPANIC            GISELLE     38    51\n",
              "4           2011  FEMALE  HISPANIC              GRACE     36    53"
            ],
            "text/html": [
              "\n",
              "  <div id=\"df-2339c128-bb06-45de-8738-7e9232755858\">\n",
              "    <div class=\"colab-df-container\">\n",
              "      <div>\n",
              "<style scoped>\n",
              "    .dataframe tbody tr th:only-of-type {\n",
              "        vertical-align: middle;\n",
              "    }\n",
              "\n",
              "    .dataframe tbody tr th {\n",
              "        vertical-align: top;\n",
              "    }\n",
              "\n",
              "    .dataframe thead th {\n",
              "        text-align: right;\n",
              "    }\n",
              "</style>\n",
              "<table border=\"1\" class=\"dataframe\">\n",
              "  <thead>\n",
              "    <tr style=\"text-align: right;\">\n",
              "      <th></th>\n",
              "      <th>Year of Birth</th>\n",
              "      <th>Gender</th>\n",
              "      <th>Ethnicity</th>\n",
              "      <th>Child's First Name</th>\n",
              "      <th>Count</th>\n",
              "      <th>Rank</th>\n",
              "    </tr>\n",
              "  </thead>\n",
              "  <tbody>\n",
              "    <tr>\n",
              "      <th>0</th>\n",
              "      <td>2011</td>\n",
              "      <td>FEMALE</td>\n",
              "      <td>HISPANIC</td>\n",
              "      <td>GERALDINE</td>\n",
              "      <td>13</td>\n",
              "      <td>75</td>\n",
              "    </tr>\n",
              "    <tr>\n",
              "      <th>1</th>\n",
              "      <td>2011</td>\n",
              "      <td>FEMALE</td>\n",
              "      <td>HISPANIC</td>\n",
              "      <td>GIA</td>\n",
              "      <td>21</td>\n",
              "      <td>67</td>\n",
              "    </tr>\n",
              "    <tr>\n",
              "      <th>2</th>\n",
              "      <td>2011</td>\n",
              "      <td>FEMALE</td>\n",
              "      <td>HISPANIC</td>\n",
              "      <td>GIANNA</td>\n",
              "      <td>49</td>\n",
              "      <td>42</td>\n",
              "    </tr>\n",
              "    <tr>\n",
              "      <th>3</th>\n",
              "      <td>2011</td>\n",
              "      <td>FEMALE</td>\n",
              "      <td>HISPANIC</td>\n",
              "      <td>GISELLE</td>\n",
              "      <td>38</td>\n",
              "      <td>51</td>\n",
              "    </tr>\n",
              "    <tr>\n",
              "      <th>4</th>\n",
              "      <td>2011</td>\n",
              "      <td>FEMALE</td>\n",
              "      <td>HISPANIC</td>\n",
              "      <td>GRACE</td>\n",
              "      <td>36</td>\n",
              "      <td>53</td>\n",
              "    </tr>\n",
              "  </tbody>\n",
              "</table>\n",
              "</div>\n",
              "      <button class=\"colab-df-convert\" onclick=\"convertToInteractive('df-2339c128-bb06-45de-8738-7e9232755858')\"\n",
              "              title=\"Convert this dataframe to an interactive table.\"\n",
              "              style=\"display:none;\">\n",
              "        \n",
              "  <svg xmlns=\"http://www.w3.org/2000/svg\" height=\"24px\"viewBox=\"0 0 24 24\"\n",
              "       width=\"24px\">\n",
              "    <path d=\"M0 0h24v24H0V0z\" fill=\"none\"/>\n",
              "    <path d=\"M18.56 5.44l.94 2.06.94-2.06 2.06-.94-2.06-.94-.94-2.06-.94 2.06-2.06.94zm-11 1L8.5 8.5l.94-2.06 2.06-.94-2.06-.94L8.5 2.5l-.94 2.06-2.06.94zm10 10l.94 2.06.94-2.06 2.06-.94-2.06-.94-.94-2.06-.94 2.06-2.06.94z\"/><path d=\"M17.41 7.96l-1.37-1.37c-.4-.4-.92-.59-1.43-.59-.52 0-1.04.2-1.43.59L10.3 9.45l-7.72 7.72c-.78.78-.78 2.05 0 2.83L4 21.41c.39.39.9.59 1.41.59.51 0 1.02-.2 1.41-.59l7.78-7.78 2.81-2.81c.8-.78.8-2.07 0-2.86zM5.41 20L4 18.59l7.72-7.72 1.47 1.35L5.41 20z\"/>\n",
              "  </svg>\n",
              "      </button>\n",
              "      \n",
              "  <style>\n",
              "    .colab-df-container {\n",
              "      display:flex;\n",
              "      flex-wrap:wrap;\n",
              "      gap: 12px;\n",
              "    }\n",
              "\n",
              "    .colab-df-convert {\n",
              "      background-color: #E8F0FE;\n",
              "      border: none;\n",
              "      border-radius: 50%;\n",
              "      cursor: pointer;\n",
              "      display: none;\n",
              "      fill: #1967D2;\n",
              "      height: 32px;\n",
              "      padding: 0 0 0 0;\n",
              "      width: 32px;\n",
              "    }\n",
              "\n",
              "    .colab-df-convert:hover {\n",
              "      background-color: #E2EBFA;\n",
              "      box-shadow: 0px 1px 2px rgba(60, 64, 67, 0.3), 0px 1px 3px 1px rgba(60, 64, 67, 0.15);\n",
              "      fill: #174EA6;\n",
              "    }\n",
              "\n",
              "    [theme=dark] .colab-df-convert {\n",
              "      background-color: #3B4455;\n",
              "      fill: #D2E3FC;\n",
              "    }\n",
              "\n",
              "    [theme=dark] .colab-df-convert:hover {\n",
              "      background-color: #434B5C;\n",
              "      box-shadow: 0px 1px 3px 1px rgba(0, 0, 0, 0.15);\n",
              "      filter: drop-shadow(0px 1px 2px rgba(0, 0, 0, 0.3));\n",
              "      fill: #FFFFFF;\n",
              "    }\n",
              "  </style>\n",
              "\n",
              "      <script>\n",
              "        const buttonEl =\n",
              "          document.querySelector('#df-2339c128-bb06-45de-8738-7e9232755858 button.colab-df-convert');\n",
              "        buttonEl.style.display =\n",
              "          google.colab.kernel.accessAllowed ? 'block' : 'none';\n",
              "\n",
              "        async function convertToInteractive(key) {\n",
              "          const element = document.querySelector('#df-2339c128-bb06-45de-8738-7e9232755858');\n",
              "          const dataTable =\n",
              "            await google.colab.kernel.invokeFunction('convertToInteractive',\n",
              "                                                     [key], {});\n",
              "          if (!dataTable) return;\n",
              "\n",
              "          const docLinkHtml = 'Like what you see? Visit the ' +\n",
              "            '<a target=\"_blank\" href=https://colab.research.google.com/notebooks/data_table.ipynb>data table notebook</a>'\n",
              "            + ' to learn more about interactive tables.';\n",
              "          element.innerHTML = '';\n",
              "          dataTable['output_type'] = 'display_data';\n",
              "          await google.colab.output.renderOutput(dataTable, element);\n",
              "          const docLink = document.createElement('div');\n",
              "          docLink.innerHTML = docLinkHtml;\n",
              "          element.appendChild(docLink);\n",
              "        }\n",
              "      </script>\n",
              "    </div>\n",
              "  </div>\n",
              "  "
            ]
          },
          "metadata": {},
          "execution_count": 4
        }
      ]
    },
    {
      "cell_type": "markdown",
      "source": [
        "## Quick object conversions"
      ],
      "metadata": {
        "id": "rzCaU12Xhwbc"
      }
    },
    {
      "cell_type": "code",
      "source": [
        "# convert Series to DataFrame\n",
        "baby_names[\"Child's First Name\"].to_frame()"
      ],
      "metadata": {
        "colab": {
          "base_uri": "https://localhost:8080/",
          "height": 424
        },
        "id": "w_hC60g3kIIh",
        "outputId": "acec0486-ab6c-4290-ce2d-e253188c6f8a"
      },
      "execution_count": 10,
      "outputs": [
        {
          "output_type": "execute_result",
          "data": {
            "text/plain": [
              "      Child's First Name\n",
              "0              GERALDINE\n",
              "1                    GIA\n",
              "2                 GIANNA\n",
              "3                GISELLE\n",
              "4                  GRACE\n",
              "...                  ...\n",
              "49504               Nala\n",
              "49505            Royalty\n",
              "49506            Sariyah\n",
              "49507             Simone\n",
              "49508              Zahra\n",
              "\n",
              "[49509 rows x 1 columns]"
            ],
            "text/html": [
              "\n",
              "  <div id=\"df-8a86bd38-e666-449a-a8ad-bfc2441d5b74\">\n",
              "    <div class=\"colab-df-container\">\n",
              "      <div>\n",
              "<style scoped>\n",
              "    .dataframe tbody tr th:only-of-type {\n",
              "        vertical-align: middle;\n",
              "    }\n",
              "\n",
              "    .dataframe tbody tr th {\n",
              "        vertical-align: top;\n",
              "    }\n",
              "\n",
              "    .dataframe thead th {\n",
              "        text-align: right;\n",
              "    }\n",
              "</style>\n",
              "<table border=\"1\" class=\"dataframe\">\n",
              "  <thead>\n",
              "    <tr style=\"text-align: right;\">\n",
              "      <th></th>\n",
              "      <th>Child's First Name</th>\n",
              "    </tr>\n",
              "  </thead>\n",
              "  <tbody>\n",
              "    <tr>\n",
              "      <th>0</th>\n",
              "      <td>GERALDINE</td>\n",
              "    </tr>\n",
              "    <tr>\n",
              "      <th>1</th>\n",
              "      <td>GIA</td>\n",
              "    </tr>\n",
              "    <tr>\n",
              "      <th>2</th>\n",
              "      <td>GIANNA</td>\n",
              "    </tr>\n",
              "    <tr>\n",
              "      <th>3</th>\n",
              "      <td>GISELLE</td>\n",
              "    </tr>\n",
              "    <tr>\n",
              "      <th>4</th>\n",
              "      <td>GRACE</td>\n",
              "    </tr>\n",
              "    <tr>\n",
              "      <th>...</th>\n",
              "      <td>...</td>\n",
              "    </tr>\n",
              "    <tr>\n",
              "      <th>49504</th>\n",
              "      <td>Nala</td>\n",
              "    </tr>\n",
              "    <tr>\n",
              "      <th>49505</th>\n",
              "      <td>Royalty</td>\n",
              "    </tr>\n",
              "    <tr>\n",
              "      <th>49506</th>\n",
              "      <td>Sariyah</td>\n",
              "    </tr>\n",
              "    <tr>\n",
              "      <th>49507</th>\n",
              "      <td>Simone</td>\n",
              "    </tr>\n",
              "    <tr>\n",
              "      <th>49508</th>\n",
              "      <td>Zahra</td>\n",
              "    </tr>\n",
              "  </tbody>\n",
              "</table>\n",
              "<p>49509 rows × 1 columns</p>\n",
              "</div>\n",
              "      <button class=\"colab-df-convert\" onclick=\"convertToInteractive('df-8a86bd38-e666-449a-a8ad-bfc2441d5b74')\"\n",
              "              title=\"Convert this dataframe to an interactive table.\"\n",
              "              style=\"display:none;\">\n",
              "        \n",
              "  <svg xmlns=\"http://www.w3.org/2000/svg\" height=\"24px\"viewBox=\"0 0 24 24\"\n",
              "       width=\"24px\">\n",
              "    <path d=\"M0 0h24v24H0V0z\" fill=\"none\"/>\n",
              "    <path d=\"M18.56 5.44l.94 2.06.94-2.06 2.06-.94-2.06-.94-.94-2.06-.94 2.06-2.06.94zm-11 1L8.5 8.5l.94-2.06 2.06-.94-2.06-.94L8.5 2.5l-.94 2.06-2.06.94zm10 10l.94 2.06.94-2.06 2.06-.94-2.06-.94-.94-2.06-.94 2.06-2.06.94z\"/><path d=\"M17.41 7.96l-1.37-1.37c-.4-.4-.92-.59-1.43-.59-.52 0-1.04.2-1.43.59L10.3 9.45l-7.72 7.72c-.78.78-.78 2.05 0 2.83L4 21.41c.39.39.9.59 1.41.59.51 0 1.02-.2 1.41-.59l7.78-7.78 2.81-2.81c.8-.78.8-2.07 0-2.86zM5.41 20L4 18.59l7.72-7.72 1.47 1.35L5.41 20z\"/>\n",
              "  </svg>\n",
              "      </button>\n",
              "      \n",
              "  <style>\n",
              "    .colab-df-container {\n",
              "      display:flex;\n",
              "      flex-wrap:wrap;\n",
              "      gap: 12px;\n",
              "    }\n",
              "\n",
              "    .colab-df-convert {\n",
              "      background-color: #E8F0FE;\n",
              "      border: none;\n",
              "      border-radius: 50%;\n",
              "      cursor: pointer;\n",
              "      display: none;\n",
              "      fill: #1967D2;\n",
              "      height: 32px;\n",
              "      padding: 0 0 0 0;\n",
              "      width: 32px;\n",
              "    }\n",
              "\n",
              "    .colab-df-convert:hover {\n",
              "      background-color: #E2EBFA;\n",
              "      box-shadow: 0px 1px 2px rgba(60, 64, 67, 0.3), 0px 1px 3px 1px rgba(60, 64, 67, 0.15);\n",
              "      fill: #174EA6;\n",
              "    }\n",
              "\n",
              "    [theme=dark] .colab-df-convert {\n",
              "      background-color: #3B4455;\n",
              "      fill: #D2E3FC;\n",
              "    }\n",
              "\n",
              "    [theme=dark] .colab-df-convert:hover {\n",
              "      background-color: #434B5C;\n",
              "      box-shadow: 0px 1px 3px 1px rgba(0, 0, 0, 0.15);\n",
              "      filter: drop-shadow(0px 1px 2px rgba(0, 0, 0, 0.3));\n",
              "      fill: #FFFFFF;\n",
              "    }\n",
              "  </style>\n",
              "\n",
              "      <script>\n",
              "        const buttonEl =\n",
              "          document.querySelector('#df-8a86bd38-e666-449a-a8ad-bfc2441d5b74 button.colab-df-convert');\n",
              "        buttonEl.style.display =\n",
              "          google.colab.kernel.accessAllowed ? 'block' : 'none';\n",
              "\n",
              "        async function convertToInteractive(key) {\n",
              "          const element = document.querySelector('#df-8a86bd38-e666-449a-a8ad-bfc2441d5b74');\n",
              "          const dataTable =\n",
              "            await google.colab.kernel.invokeFunction('convertToInteractive',\n",
              "                                                     [key], {});\n",
              "          if (!dataTable) return;\n",
              "\n",
              "          const docLinkHtml = 'Like what you see? Visit the ' +\n",
              "            '<a target=\"_blank\" href=https://colab.research.google.com/notebooks/data_table.ipynb>data table notebook</a>'\n",
              "            + ' to learn more about interactive tables.';\n",
              "          element.innerHTML = '';\n",
              "          dataTable['output_type'] = 'display_data';\n",
              "          await google.colab.output.renderOutput(dataTable, element);\n",
              "          const docLink = document.createElement('div');\n",
              "          docLink.innerHTML = docLinkHtml;\n",
              "          element.appendChild(docLink);\n",
              "        }\n",
              "      </script>\n",
              "    </div>\n",
              "  </div>\n",
              "  "
            ]
          },
          "metadata": {},
          "execution_count": 10
        }
      ]
    },
    {
      "cell_type": "code",
      "source": [
        "# convert Series to list\n",
        "baby_names[\"Child's First Name\"].tolist()\n",
        "\n",
        "Output = None"
      ],
      "metadata": {
        "id": "xFmx0-0ehc3n"
      },
      "execution_count": 7,
      "outputs": []
    },
    {
      "cell_type": "code",
      "source": [
        "# convert series to dictionary\n",
        "baby_names[\"Child's First Name\"].to_dict()\n",
        "\n",
        "# remember that in a dictionary, keys must be unique\n",
        "# our index values are each unique\n",
        "\n",
        "Output = None"
      ],
      "metadata": {
        "id": "Ia4ufxm2j5P6"
      },
      "execution_count": 9,
      "outputs": []
    },
    {
      "cell_type": "code",
      "source": [
        "# get a string where names are de-duped, first letter capitalized, and sorted alphabetically\n",
        "# each name is separated by a comma\n",
        "\n",
        "first_name_series = (\n",
        "   baby_names[\"Child's First Name\"]\n",
        "      .drop_duplicates()                   # keeps it as a Series, which .unique() doesn't\n",
        "      .str.title()                         # capitalize first letter of each name\n",
        "      .sort_values()                       # sort alphabetically\n",
        ")\n",
        "\n",
        "first_name_series"
      ],
      "metadata": {
        "colab": {
          "base_uri": "https://localhost:8080/"
        },
        "id": "SfgqK16YkAcc",
        "outputId": "14db8d99-cded-476c-f71f-f438265d3d91"
      },
      "execution_count": 23,
      "outputs": [
        {
          "output_type": "execute_result",
          "data": {
            "text/plain": [
              "7922       Aahil\n",
              "1111     Aaliyah\n",
              "5944     Aaliyah\n",
              "547        Aarav\n",
              "8577       Aarav\n",
              "          ...   \n",
              "6663        Zoya\n",
              "7192        Zuri\n",
              "1295        Zuri\n",
              "39296     Zyaire\n",
              "897       Zyaire\n",
              "Name: Child's First Name, Length: 3211, dtype: object"
            ]
          },
          "metadata": {},
          "execution_count": 23
        }
      ]
    },
    {
      "cell_type": "code",
      "source": [
        "# put a comma and space in between each element of the Series\n",
        "\", \".join(first_name_series)"
      ],
      "metadata": {
        "colab": {
          "base_uri": "https://localhost:8080/",
          "height": 161
        },
        "id": "OG6dnugykQeB",
        "outputId": "fc22a395-f8d5-4f68-c811-484dec121268"
      },
      "execution_count": 24,
      "outputs": [
        {
          "output_type": "execute_result",
          "data": {
            "text/plain": [
              "\"Aahil, Aaliyah, Aaliyah, Aarav, Aarav, Aaron, Aaron, Aarya, Aaryan, Aayan, Aayan, Aayat, Abby, Abby, Abdiel, Abdiel, Abdoul, Abdoul, Abdoulaye, Abdoulaye, Abdul, Abdul, Abdullah, Abdullah, Abdulloh, Abe, Abel, Abel, Abigail, Abigail, Aboubacar, Abraham, Abraham, Abrar, Abrielle, Abril, Abubakr, Ace, Ada, Ada, Adalynn, Adam, Adam, Adan, Adan, Addison, Addison, Adelaide, Adelaide, Adele, Adele, Adelina, Adeline, Adeline, Adelyn, Adelynn, Aden, Aden, Adiel, Adina, Adina, Aditya, Aditya, Adonis, Adonis, Adrian, Adrian, Adriana, Adriana, Adrianna, Adrianna, Adriel, Adriel, Adyan, Ahad, Aharon, Aharon, Ahmad, Ahmad, Ahmed, Ahmed, Ahnaf, Ahron, Ahron, Ahuva, Ahuva, Aicha, Aicha, Aidan, Aidan, Aiden, Aiden, Ailani, Aileen, Aileen, Aimee, Aimee, Aisha, Aisha, Aissata, Aissatou, Aissatou, Aitana, Aiza, Aiza, Aizah, Akiva, Akiva, Alahia, Alaia, Alaina, Alan, Alan, Alana, Alana, Alani, Alani, Alanis, Alanna, Alayna, Alba, Albert, Albert, Alberto, Alberto, Aldo, Aleah, Alec, Alec, Aleena, Aleena, Alejandra, Alejandra, Alejandro, Alejandro, Aleksander, Aleksandra, Alessandra, Alessandra, Alessandro, Alessia, Alessia, Alex, Alex, Alexa, Alexa, Alexander, Alexander, Alexandra, Alexandra, Alexandria, Alexandria, Alexia, Alexia, Alexis, Alexis, Alfred, Alfredo, Alfredo, Ali, Ali, Alia, Aliah, Alice, Alice, Alicia, Alicia, Alijah, Alina, Alina, Alisa, Alisa, Alisha, Alisha, Alison, Alison, Alissa, Alisson, Alisson, Aliya, Aliyah, Aliyah, Aliza, Aliza, Allan, Allan, Allen, Allen, Allison, Allison, Allyson, Allyson, Alma, Alma, Alondra, Alondra, Alonso, Alpha, Alpha, Alston, Alston, Alter, Alvin, Alvin, Alyson, Alyssa, Alyssa, Amadou, Amadou, Amaia, Amalia, Amalia, Amanda, Amanda, Amani, Amani, Amar'E, Amar'E, Amara, Amare, Amare, Amari, Amari, Amaya, Amaya, Amayah, Ambar, Amber, Amber, Amberly, Ameer, Amelia, Amelia, Amelie, Amelie, Amia, Amina, Amina, Aminata, Aminata, Amir, Amir, Amira, Amira, Amirah, Amirah, Amirjon, Amiya, Amiyah, Amiyah, Amora, Amrom, Amrom, Amy, Amy, Ana, Ana, Anabel, Anabella, Anabelle, Anabia, Anahi, Anais, Anais, Analia, Analia, Ananya, Anas, Anastasia, Anastasia, Anaya, Anaya, Anayah, Anderson, Anderson, Andre, Andre, Andrea, Andrea, Andres, Andres, Andrew, Andrew, Andy, Andy, Angel, Angel, Angela, Angela, Angelica, Angelica, Angelina, Angelina, Angeline, Angelique, Angelique, Angelo, Angelo, Angely, Angie, Angie, Angus, Anika, Anika, Anisa, Anisha, Aniya, Aniya, Aniyah, Aniyah, Anjali, Anna, Anna, Annabel, Annabel, Annabella, Annabelle, Annabelle, Annalise, Anne, Anne, Annie, Annie, Annika, Ansel, Anson, Anson, Anthony, Anthony, Anton, Antonella, Antonia, Antonia, Antonio, Antonio, Anya, Anya, April, April, Arabella, Archer, Archer, Arden, Arely, Arely, Arham, Ari, Ari, Aria, Aria, Ariadna, Ariadne, Ariah, Arian, Ariana, Ariana, Arianna, Arianna, Arianny, Arianny, Ariel, Ariel, Ariela, Ariella, Ariella, Arielle, Arielle, Arisha, Arisha, Ariyah, Arjun, Arjun, Arleth, Arlette, Arlo, Armaan, Armaan, Armando, Armando, Armani, Armani, Aron, Aron, Arthur, Arthur, Arturo, Arturo, Arvin, Arya, Arya, Aryan, Aryan, Arye, Aryeh, Aryeh, Asher, Asher, Ashley, Ashley, Ashly, Ashly, Ashton, Ashton, Asia, Astrid, Atara, Atara, Athena, Athena, Atticus, Aubree, Aubree, Aubrey, Aubrey, Audrey, Audrey, August, August, Augustus, Augustus, Aurelia, Aurora, Aurora, Austin, Austin, Autumn, Autumn, Ava, Ava, Avery, Avery, Avi, Avi, Aviel, Avigail, Avigail, Avital, Aviva, Aviva, Avraham, Avraham, Avril, Avrohom, Avrohom, Avrum, Avrum, Awa, Axel, Axel, Aya, Aya, Ayaan, Ayaan, Ayala, Ayan, Ayan, Ayanna, Ayat, Ayden, Ayden, Aydin, Ayelet, Ayesha, Ayesha, Ayla, Ayla, Ayleen, Ayleen, Aylin, Aylin, Ayra, Azaan, Azaria, Azariah, Aziza, Baila, Baila, Bailey, Barbara, Barbara, Baruch, Baruch, Basya, Batsheva, Batsheva, Batya, Batya, Beatrice, Beatrice, Beatrix, Beau, Beckett, Beckett, Belen, Bella, Bella, Ben, Ben, Benjamin, Benjamin, Bennett, Bennett, Benson, Benson, Bentzion, Bentzion, Benzion, Benzion, Berish, Berish, Berl, Bethany, Bianca, Bianca, Billie, Bina, Bintou, Bintou, Binyamin, Binyomin, Binyomin, Blair, Blake, Blake, Blessing, Blima, Blima, Blimy, Blimy, Bodhi, Bonnie, Bonnie, Boruch, Boruch, Boubacar, Boubacar, Bowen, Bracha, Bracha, Bradley, Bradley, Brady, Brady, Brandon, Brandon, Brayan, Brayan, Brayden, Brayden, Breindy, Breindy, Brenda, Brenda, Brendan, Brendan, Bria, Brian, Brian, Briana, Briana, Brianna, Brianna, Brianny, Brianny, Bridget, Bridget, Briella, Brielle, Brielle, Brigitte, Britney, Britney, Brittany, Brittany, Brody, Brody, Brooke, Brooke, Brooklyn, Brooklyn, Brooks, Bruce, Bruce, Brucha, Brucha, Bruchy, Bruchy, Bruno, Bryan, Bryan, Bryanna, Bryanna, Bryant, Bryant, Bryce, Bryce, Brynn, Brynn, Bryson, Bryson, Burech, Byron, Byron, Caden, Caden, Caiden, Cairo, Caitlin, Caitlin, Caleb, Caleb, Cali, Callie, Calvin, Calvin, Camden, Cameron, Cameron, Camila, Camila, Camilla, Camilla, Camille, Camille, Camilo, Camilo, Camren, Camren, Carina, Carla, Carlos, Carlos, Carly, Carmelo, Carmelo, Carmen, Carmen, Carmine, Carmine, Carolina, Carolina, Caroline, Caroline, Carson, Carson, Carter, Carter, Casey, Cassandra, Cassandra, Cassidy, Cataleya, Catalina, Catalina, Catherine, Catherine, Cayden, Cayden, Cecelia, Cecilia, Cecilia, Celeste, Celeste, Celia, Celia, Celine, Cesar, Cesar, Chace, Chad, Chad, Chaim, Chaim, Chana, Chana, Chance, Chance, Chanel, Chanie, Chany, Chany, Charles, Charles, Charlie, Charlie, Charlotte, Charlotte, Chase, Chase, Chava, Chava, Chavy, Chavy, Chaya, Chaya, Chelsea, Chelsea, Cheskel, Cheskel, Chesky, Chesky, Cheyenne, Chiara, Chloe, Chloe, Chris, Chris, Christian, Christian, Christina, Christina, Christine, Christine, Christopher, Christopher, Christy, Cindy, Cindy, Claire, Claire, Clara, Clara, Clark, Claudia, Clementine, Cleo, Cody, Cody, Cole, Cole, Colette, Colette, Colin, Colin, Colton, Connie, Connie, Connor, Connor, Conor, Conor, Cooper, Cooper, Cora, Cora, Corey, Corey, Cormac, Cristian, Cristian, Cristina, Cristofer, Cristopher, Cristopher, Crosby, Crystal, Crystal, Cynthia, Cynthia, Cyrus, Cyrus, Dahlia, Dahlia, Daisy, Daisy, Dakota, Dakota, Daleyza, Dalia, Dalia, Dallas, Damani, Damari, Damaris, Damian, Damian, Damien, Damien, Damon, Dana, Dana, Daniel, Daniel, Daniela, Daniela, Daniella, Daniella, Danielle, Danielle, Danna, Danna, Danny, Danny, Dante, Dante, Daphne, Daphne, Dara, Daria, Dariel, Dariel, Darius, Darius, Darren, Darren, Darwin, Darwin, Dashiell, Dashiell, David, David, Dayana, Dayana, Dean, Dean, Deborah, Deborah, Declan, Declan, Delilah, Delilah, Demi, Denis, Denise, Denisse, Dennis, Dennis, Denzel, Denzel, Dereck, Dereck, Derek, Derek, Derick, Derick, Derrick, Derrick, Desmond, Destiny, Destiny, Devin, Devin, Devoiry, Devon, Devora, Devora, Devorah, Devorah, Devory, Diana, Diana, Diego, Diego, Dilan, Dillon, Dina, Dina, Dion, Dior, Diya, Diya, Diyora, Dominic, Dominic, Dominick, Dominick, Donovan, Donovan, Doris, Doris, Dov, Dov, Dovid, Dovid, Dream, Drew, Drew, Dua, Dulce, Dulce, Duvid, Dwayne, Dylan, Dylan, Ean, Eason, Eason, Eddie, Eddie, Eddy, Eddy, Eden, Eden, Edgar, Edgar, Edison, Edison, Edith, Eduardo, Eduardo, Edward, Edward, Edwin, Edwin, Efraim, Efraim, Egypt, Egypt, Eileen, Eileen, Eitan, Eitan, Elaine, Elaine, Elan, Elan, Eleanor, Eleanor, Elena, Elena, Eleni, Eli, Eli, Eliam, Elian, Elian, Eliana, Eliana, Elianna, Elianna, Elianny, Elianny, Elias, Elias, Eliel, Eliezer, Eliezer, Elijah, Elijah, Elimelech, Elimelech, Elina, Elina, Eliot, Elisa, Elisa, Elise, Elise, Elisheva, Elisheva, Eliyahu, Eliyahu, Eliza, Eliza, Elizabeth, Elizabeth, Ella, Ella, Elle, Elle, Elliana, Elliana, Ellie, Ellie, Elliot, Elliot, Elliott, Elliott, Ellis, Ellis, Elodie, Eloise, Eloise, Elsa, Elsa, Eluzer, Eluzer, Elvin, Elvis, Elvis, Elya, Emaan, Emani, Emanuel, Emanuel, Emely, Emely, Emerson, Emerson, Emery, Emil, Emilia, Emilia, Emiliano, Emiliano, Emilio, Emilio, Emily, Emily, Emir, Emma, Emma, Emmanuel, Emmanuel, Emmanuella, Emmeline, Emmett, Emmett, Emmy, Empress, Enrique, Enrique, Enzo, Ephraim, Ephraim, Eric, Eric, Erica, Erica, Erick, Erick, Erik, Erik, Erika, Erika, Erin, Erin, Ermias, Eshaal, Eshal, Eshan, Esme, Esme, Esmeralda, Esmeralda, Essence, Esteban, Esteban, Estelle, Estelle, Ester, Ester, Esther, Esther, Estrella, Esty, Esty, Ethan, Ethan, Etty, Etty, Eunice, Eva, Eva, Evan, Evan, Evangeline, Evangeline, Eve, Eve, Evelina, Evelyn, Evelyn, Everett, Everett, Everly, Evie, Eyad, Ezekiel, Ezekiel, Ezequiel, Ezequiel, Ezra, Ezra, Ezriel, Ezriel, Fabian, Fabian, Faiga, Faiga, Faigy, Faigy, Faith, Faith, Fanta, Fanta, Farah, Farhan, Farhan, Farida, Fatima, Fatima, Fatou, Fatou, Fatoumata, Fatoumata, Felipe, Felix, Felix, Fernanda, Fernanda, Fernando, Fernando, Feynman, Filip, Filip, Finley, Finley, Finn, Finn, Finnegan, Fiona, Fiona, Fishel, Florence, Fradel, Fradel, Frady, Frady, Fraidy, Fraidy, Frances, Frances, Francesca, Francesca, Francesco, Francesco, Francis, Francisco, Francisco, Frank, Frank, Franklin, Franklin, Freddy, Frederick, Frederick, Freida, Freya, Frida, Frieda, Frimet, Frimet, Gabriel, Gabriel, Gabriela, Gabriela, Gabriella, Gabriella, Gabrielle, Gabrielle, Gael, Gael, Gaia, Galilea, Gary, Gavin, Gavin, Gavriel, Gavriel, Gemma, Gemma, Genesis, Genesis, Genevieve, Genevieve, George, George, Georgia, Georgia, Georgina, Geraldine, Gerard, Gerardo, Gerardo, Gia, Gia, Giada, Giancarlo, Gianluca, Gianna, Gianna, Gianni, Gideon, Giovani, Giovani, Giovanna, Giovanna, Giovanni, Giovanni, Giovanny, Giovanny, Giselle, Giselle, Gittel, Gittel, Gitty, Gitty, Giulia, Giulia, Giuliana, Giuliana, Giuseppe, Golda, Golda, Goldie, Goldy, Goldy, Gordon, Gordon, Grace, Grace, Graham, Graham, Grant, Grant, Grayson, Grayson, Gregory, Gregory, Greta, Greta, Grey, Greyson, Greyson, Griffin, Griffin, Guadalupe, Guadalupe, Gustavo, Gustavo, Guy, Gwendolyn, Hadassa, Hadassah, Hadassah, Hadley, Hadley, Hafsa, Hafsa, Hailey, Hailey, Hailie, Haley, Haley, Hamza, Hamza, Hana, Hana, Haniya, Hanley, Hanna, Hanna, Hannah, Hannah, Hao, Hareem, Hareem, Harley, Harlow, Harmony, Harmony, Harper, Harper, Harrison, Harrison, Harry, Harry, Harvey, Harvey, Hashim, Hassan, Hassan, Hawa, Hawa, Hayden, Hayden, Haylee, Haylee, Hayley, Hazel, Hazel, Heaven, Heaven, Heavenly, Hector, Hector, Heidi, Heidi, Heidy, Heidy, Helen, Helen, Helena, Helena, Henchy, Hendy, Henny, Henny, Henry, Henry, Herman, Hersh, Hersh, Hershel, Hershel, Hershy, Hershy, Hillel, Hinda, Hinda, Hindy, Hindy, Holden, Hoorain, Hope, Hudson, Hudson, Hugo, Hugo, Hunter, Hunter, Ian, Ian, Ibrahim, Ibrahim, Ibrahima, Ibrahima, Ibrohim, Idris, Idy, Idy, Iker, Iker, Ilan, Ilan, Ilana, Ilana, Imani, Imani, Imogen, Imona, Imran, Inaaya, Inaya, Ines, Ines, Ingrid, Irene, Irene, Iris, Iris, Isaac, Isaac, Isabel, Isabel, Isabela, Isabela, Isabella, Isabella, Isabelle, Isabelle, Isaiah, Isaiah, Isaias, Ishaan, Ishaan, Ishmael, Isiah, Isiah, Isis, Isis, Isla, Isla, Ismael, Ismael, Ismail, Israel, Israel, Issac, Issac, Itzel, Itzel, Ivaan, Ivan, Ivan, Ivanna, Ivanna, Ivy, Ivy, Iymona, Izabella, Izabella, Izaiah, Jabari, Jace, Jace, Jack, Jack, Jackson, Jackson, Jacky, Jacky, Jacob, Jacob, Jacqueline, Jacqueline, Jad, Jad, Jada, Jada, Jade, Jade, Jaden, Jaden, Jadiel, Jadiel, Jael, Jael, Jaelyn, Jaelyn, Jaelynn, Jaheim, Jaheim, Jahir, Jahmir, Jahmir, Jaiden, Jaiden, Jaime, Jaime, Jair, Jake, Jake, Jakob, Jakub, Jalen, Jalen, Jaliyah, Jaliyah, Jamal, Jamal, Jamar, Jamari, Jamari, Jamel, Jamel, James, James, Jameson, Jamie, Jamie, Jamir, Jamir, Jana, Jana, Janae, Jane, Jane, Janelle, Janelle, Janice, Janice, Janiel, Janiya, Janiya, Janiyah, Janiyah, Jannat, Jannat, Jannatul, Januel, Januel, Jared, Jared, Jariel, Jariel, Jasiah, Jasiah, Jaslene, Jaslene, Jaslyn, Jasmin, Jasmin, Jasmina, Jasmine, Jasmine, Jason, Jason, Jasper, Jasper, Javier, Javier, Jax, Jaxon, Jaxon, Jaxson, Jay, Jay, Jayce, Jayce, Jayceon, Jaycob, Jayda, Jayda, Jayden, Jayden, Jayla, Jayla, Jaylah, Jaylah, Jaylee, Jayleen, Jayleen, Jaylen, Jaylen, Jaylene, Jaylene, Jaylin, Jaylin, Jaylyn, Jayren, Jayson, Jayson, Jaziel, Jazlyn, Jazlyn, Jazmin, Jazmin, Jazmine, Jazmine, Jazzlyn, Jean, Jean, Jeancarlos, Jefferson, Jefferson, Jeffrey, Jeffrey, Jelani, Jencarlos, Jenna, Jenna, Jennifer, Jennifer, Jenny, Jenny, Jeremiah, Jeremiah, Jeremias, Jeremias, Jeremy, Jeremy, Jermaine, Jerry, Jerry, Jesse, Jesse, Jessica, Jessica, Jessie, Jessie, Jesus, Jesus, Jewel, Jia, Jimena, Jimena, Jimmy, Jimmy, Joanna, Joanna, Joaquin, Joaquin, Jocelyn, Jocelyn, Joel, Joel, Johan, Johan, Johann, Johann, Johanna, Johanna, John, John, Johnathan, Johnny, Johnny, Jolie, Jolie, Jolin, Jonael, Jonah, Jonah, Jonas, Jonas, Jonathan, Jonathan, Jordan, Jordan, Jordi, Jordyn, Jordyn, Jorge, Jorge, Jose, Jose, Josef, Joselyn, Joselyn, Joseph, Joseph, Josephine, Josephine, Joshua, Joshua, Josiah, Josiah, Josie, Josue, Josue, Journee, Journey, Joy, Joy, Joyce, Joyce, Joziah, Juan, Juan, Judah, Judah, Jude, Jude, Judy, Judy, Julia, Julia, Julian, Julian, Juliana, Juliana, Julianna, Julianna, Julie, Julie, Julien, Julien, Juliet, Juliet, Juliette, Juliette, Julio, Julio, Julissa, Julissa, Julius, Julius, Jun, June, June, Junior, Junior, Juniper, Justice, Justice, Justin, Justin, Kabir, Kacper, Kaden, Kaden, Kadiatou, Kaelyn, Kai, Kai, Kaia, Kaiden, Kaiden, Kailani, Kailee, Kailey, Kailey, Kailyn, Kailyn, Kairo, Kaitlyn, Kaitlyn, Kalani, Kaleb, Kaleb, Kali, Kaliyah, Kaliyah, Kamari, Kamari, Kameron, Kameron, Kamila, Kamila, Kamiyah, Kamiyah, Kamren, Karas, Kareem, Kareem, Karen, Karen, Karina, Karina, Karla, Karla, Karter, Kassandra, Kate, Kate, Katelyn, Katelyn, Katelynn, Katelynn, Katerina, Katherine, Katherine, Kathryn, Katie, Katie, Kaya, Kayden, Kayden, Kayla, Kayla, Kaylani, Kaylee, Kaylee, Kayleen, Kayleen, Kayleigh, Kaylie, Kaylie, Kaylin, Kaylin, Kayson, Kazi, Kehlani, Keila, Keily, Keily, Keira, Keira, Keith, Kelly, Kelly, Kelsey, Kelsey, Kelvin, Kelvin, Kendra, Kendra, Kendrick, Kennedi, Kennedy, Kennedy, Kenneth, Kenneth, Kenny, Kenny, Kenya, Kenzie, Kenzo, Kevin, Kevin, Keyla, Keyla, Khadija, Khadijah, Khaleesi, Khalil, Khalil, Khari, Khloe, Khloe, Kian, Kiara, Kiara, Kiera, Kieran, Kieran, Kimberly, Kimberly, Kimi, Kimora, Kimora, King, King, Kingsley, Kingsley, Kingston, Kingston, Kira, Kira, Kiyan, Kori, Kourtney, Krish, Krish, Kristen, Kristian, Kristian, Kristina, Krystal, Kyla, Kyla, Kyle, Kyle, Kylee, Kylee, Kylie, Kylie, Kymani, Kymani, Kyree, Kyrie, Kyro, Kyson, Laia, Laila, Laila, Lailah, Laith, Lamar, Lana, Lana, Landon, Landon, Lara, Lara, Larry, Laura, Laura, Lauren, Lauren, Lauryn, Lawrence, Lawrence, Layan, Layla, Layla, Lazer, Lazer, Lea, Lea, Leah, Leah, Leandro, Leandro, Leanna, Leela, Leela, Legend, Leia, Leibish, Leila, Leila, Leilani, Leilani, Leilany, Lena, Lena, Lennox, Lenny, Lenny, Leo, Leo, Leon, Leon, Leona, Leonard, Leonardo, Leonardo, Leonel, Leonel, Leonidas, Leora, Leora, Lesley, Leslie, Leslie, Lesly, Lesly, Lev, Lev, Levi, Levi, Leyla, Leyla, Lia, Lia, Liah, Liam, Liam, Lian, Liana, Liana, Lianna, Liba, Liba, Libby, Libby, Lielle, Lila, Lila, Lilah, Lilah, Lilia, Lilian, Liliana, Liliana, Lillian, Lillian, Lilliana, Lilly, Lilly, Lily, Lily, Lina, Lina, Lincoln, Linda, Linda, Lindsay, Lindsay, Lionel, Liora, Lipa, Lipa, Lisa, Litzy, Litzy, Liv, Liv, Livia, Livia, Liyana, Liz, Lizbeth, Lizbeth, Lizeth, Logan, Logan, Lola, Lola, London, London, Londyn, Londyn, Lorenzo, Lorenzo, Louis, Louis, Louisa, Louisa, Louise, Luca, Luca, Lucas, Lucas, Lucia, Lucia, Lucian, Luciana, Lucien, Lucille, Lucy, Lucy, Luis, Luis, Luka, Luka, Lukas, Lukas, Luke, Luke, Luna, Luna, Luz, Luz, Lyanna, Lydia, Lydia, Lyla, Lyla, Lyric, Lyric, Mabel, Mackenzie, Mackenzie, Maddox, Madeleine, Madeleine, Madeline, Madeline, Madelyn, Madelyn, Madina, Madison, Madison, Madisyn, Mae, Mae, Maeve, Maeve, Magaly, Maggie, Maggie, Mahamadou, Mahamadou, Mahnoor, Maia, Maimouna, Maisie, Maison, Maite, Major, Makai, Makai, Makayla, Makayla, Makenzie, Makhi, Maksim, Malachi, Malachi, Malak, Malak, Malaysia, Malcolm, Malcolm, Malek, Malia, Malia, Maliha, Malik, Malik, Malika, Maliyah, Maliyah, Malka, Malka, Malky, Malky, Mamadou, Mamadou, Mandy, Mandy, Manha, Manha, Manuel, Manuel, Marc, Marc, Marcel, Marcelo, Marco, Marco, Marcos, Marcos, Marcus, Marcus, Margaret, Margaret, Margaux, Margot, Margot, Maria, Maria, Mariah, Mariah, Mariam, Mariam, Mariama, Mariama, Mariana, Mariana, Marie, Marielle, Marilyn, Marilyn, Marina, Marina, Mario, Mario, Marisol, Marjorie, Mark, Mark, Marley, Marlon, Marlon, Marlowe, Marquis, Martin, Martin, Marvin, Marvin, Mary, Mary, Maryam, Maryam, Mason, Mason, Massimo, Mateo, Mateo, Mathew, Mathew, Mathias, Mathias, Matias, Matias, Matilda, Matilda, Matteo, Matteo, Matthew, Matthew, Matthias, Maurice, Mauricio, Mauricio, Maverick, Max, Max, Maxim, Maxim, Maximilian, Maximilian, Maximiliano, Maximiliano, Maximo, Maximo, Maximus, Maximus, Maxwell, Maxwell, Maya, Maya, Mayar, Mayer, Mayer, Mayson, Mckenzie, Mckenzie, Mckenzie, Md, Mechel, Meera, Megan, Megan, Meghan, Meilech, Meilech, Meir, Meir, Meira, Mekhi, Mekhi, Melania, Melanie, Melanie, Melany, Melany, Melina, Melina, Melissa, Melissa, Melody, Melody, Melvin, Melvin, Menachem, Menachem, Menashe, Menashe, Mendel, Mendel, Mendy, Mendy, Menucha, Meshilem, Messiah, Messiah, Meyer, Meyer, Mia, Mia, Miah, Miah, Micaela, Micah, Micah, Michael, Michael, Michaela, Michaela, Michal, Michal, Michelle, Michelle, Miguel, Miguel, Mika, Mikael, Mikaela, Mikaela, Mikayla, Mikayla, Mike, Mike, Mila, Mila, Milagros, Milan, Milan, Milana, Milani, Milania, Milena, Milena, Miles, Miles, Miley, Miley, Millie, Milo, Milo, Mina, Mina, Mindy, Mindy, Mira, Miracle, Miracle, Miranda, Miranda, Mirel, Mirel, Miri, Miri, Miriam, Miriam, Misael, Miya, Mohamed, Mohamed, Mohammad, Mohammad, Mohammed, Mohammed, Moises, Moises, Moishe, Moishe, Moishy, Mollie, Molly, Molly, Monica, Monserrat, Montserrat, Mordche, Mordechai, Mordechai, Morgan, Morgan, Morris, Morris, Moses, Moses, Moshe, Moshe, Motty, Mouhamed, Moussa, Moussa, Muhammad, Muhammad, Muhammad Ali, Muntaha, Musa, Musa, Mushka, Muslima, Mustafa, Mustafa, Mya, Mya, Myles, Myles, Myra, Nabiha, Nachman, Nachman, Nadia, Nadia, Naftali, Naftali, Naftuli, Naftuli, Nahla, Nahla, Nailah, Nala, Nalani, Nana, Nancy, Naomi, Naomi, Nashla, Nashley, Nashly, Nasir, Nasir, Natalia, Natalia, Natalie, Natalie, Nataly, Natasha, Natasha, Nathalia, Nathalia, Nathalie, Nathalie, Nathaly, Nathaly, Nathan, Nathan, Nathanael, Nathanael, Nathaniel, Nathaniel, Nava, Nayeli, Nayeli, Nayla, Nazir, Nechama, Nechama, Nehemiah, Nehemiah, Neil, Neil, Nelson, Nelson, Nevaeh, Nevaeh, Neymar, Neymar, Nia, Nia, Niam, Nicholas, Nicholas, Nico, Nico, Nicolas, Nicolas, Nicole, Nicole, Nicolette, Nicolette, Nigel, Nikhil, Nikita, Nikita, Nikolai, Nikolas, Nikolas, Nina, Nina, Noa, Noa, Noach, Noah, Noah, Noam, Noam, Noel, Noel, Noelle, Noemi, Noemi, Nolan, Nolan, Noor, Noor, Nora, Nora, Norah, Nosson, Nosson, Nova, Nuchem, Nusrat, Nyah, Nyla, Nyla, Nylah, Nylah, Olive, Olive, Oliver, Oliver, Olivia, Olivia, Olympia, Omar, Omar, Omari, Omari, Ophelia, Oren, Ori, Orion, Orlando, Orly, Oscar, Oscar, Oskar, Otis, Otto, Oumar, Oumar, Oumou, Oumou, Ousmane, Ousmane, Owen, Owen, Pablo, Pablo, Paige, Paige, Paloma, Pamela, Paola, Paris, Paris, Parizoda, Parker, Parker, Patrick, Patrick, Paul, Paul, Paula, Paula, Payton, Pearl, Pearl, Pedro, Pedro, Penelope, Penelope, Perel, Perel, Peretz, Perl, Perl, Perla, Perla, Perry, Perry, Pessy, Pessy, Peter, Peter, Peyton, Peyton, Philip, Philip, Phoebe, Phoebe, Phoenix, Phoenix, Pierce, Pinchas, Pinchas, Pinchus, Pinchus, Piper, Piper, Polina, Poppy, Precious, Preston, Preston, Prince, Prince, Princess, Princess, Princeton, Priscilla, Queena, Queenie, Queenie, Quincy, Quincy, Quinn, Quinn, Rachel, Rachel, Rafael, Rafael, Rahaf, Raina, Raina, Raizel, Raizel, Raizy, Raizy, Ralph, Randy, Randy, Raphael, Raphael, Raquel, Raquel, Raul, Raul, Raya, Rayan, Rayan, Raymond, Raymond, Rayna, Rayyan, Rayyan, Reagan, Reagan, Rebecca, Rebecca, Reed, Reed, Reem, Reem, Reese, Reese, Rehan, Rehan, Reid, Reid, Reign, Reina, Reizy, Remi, Remy, Rena, Renata, Renee, Renee, Reuben, Reuven, Reuven, Rhea, Rhys, Ricardo, Ricardo, Richard, Richard, Ricky, Ricky, Rifka, Rifka, Rifky, Rifky, Rihanna, Rihanna, Riley, Riley, Rina, Riva, River, Rivka, Rivka, Rivkah, Rivky, Rivky, Riya, Robert, Robert, Roberto, Roberto, Rocco, Rocco, Rochel, Rochel, Rodney, Rodrigo, Rodrigo, Roger, Roger, Rohaan, Rohan, Rohan, Roiza, Roizy, Roizy, Roman, Roman, Romeo, Romeo, Romy, Ronald, Ronald, Ronaldo, Ronan, Ronan, Rory, Rory, Rosa, Rosa, Rose, Rose, Roselyn, Roselyn, Rosemary, Rosie, Rosie, Rowan, Rowan, Roy, Roy, Royal, Royalty, Royce, Royce, Ruben, Ruben, Ruby, Ruby, Ruchel, Ruchy, Ruchy, Russell, Ruth, Ruth, Ryan, Ryan, Ryder, Ryder, Rylee, Sabiha, Sabina, Sabrina, Sabrina, Sade, Sadie, Sadie, Safa, Safwan, Sage, Sage, Sahil, Saif, Saifan, Saige, Saint, Salma, Salma, Salome, Salome, Salvatore, Salvatore, Sam, Sam, Sama, Samaira, Samantha, Samantha, Samara, Samara, Sami, Sami, Samir, Samir, Samira, Samiya, Samiyah, Samiyah, Sammy, Samuel, Samuel, Sanaa, Sanaa, Sanai, Sanai, Sandra, Saniya, Saniyah, Saniyah, Santiago, Santiago, Santino, Santino, Saoirse, Sapphire, Sara, Sara, Sarah, Sarah, Sarahi, Sarai, Sarai, Sari, Sariah, Sariah, Sarina, Sariyah, Sasha, Sasha, Saul, Saul, Savanna, Savannah, Savannah, Savion, Sawyer, Scarlet, Scarlet, Scarlett, Scarlett, Scott, Sean, Sean, Sebastian, Sebastian, Sekou, Selena, Selena, Selim, Selina, Selina, Selma, Serafina, Serena, Serena, Serenity, Serenity, Sergio, Sergio, Seth, Seth, Sevyn, Shaina, Shaina, Shaindel, Shaindel, Shaindy, Shaindy, Shalom, Shalom, Shane, Shane, Shania, Shania, Shaniya, Sharon, Sharon, Shaul, Shaul, Shawn, Shawn, Shaya, Shaya, Shayaan, Shayan, Shayan, Shayla, Shayla, Shayna, Shea, Shea, Sheldon, Sherlyn, Sherlyn, Sherry, Shevy, Shevy, Shia, Shia, Shifra, Shifra, Shiloh, Shiloh, Shimon, Shimon, Shira, Shira, Shirley, Shirley, Shloime, Shloime, Shloimy, Shloimy, Shloma, Shloma, Shlome, Shlome, Shlomo, Shlomo, Shmiel, Shmiel, Shmuel, Shmuel, Shneur, Shneur, Sholom, Sholom, Shoshana, Shoshana, Shraga, Shreya, Shukrona, Shulem, Shulem, Sidney, Siena, Siena, Sienna, Sienna, Silas, Silas, Sima, Sima, Simcha, Simcha, Simi, Simi, Simon, Simon, Simone, Simone, Sincere, Sincere, Sky, Skye, Skye, Skyla, Skyla, Skylah, Skylah, Skylar, Skylar, Skyler, Skyler, Sloane, Sloane, Sofia, Sofia, Solomon, Solomon, Sonia, Sonia, Sonny, Sophia, Sophia, Sophie, Sophie, Soraya, Spencer, Spencer, Stacey, Stacy, Stacy, Stanley, Stanley, Stefan, Stella, Stella, Stephanie, Stephanie, Stephany, Stephen, Stephen, Steve, Steve, Steven, Steven, Subhan, Sulaiman, Summer, Summer, Sunny, Suri, Suri, Sury, Sury, Sydney, Sydney, Syed, Syed, Syeda, Syeda, Sylvia, Sylvia, Sylvie, Sylvie, Symphony, Tabitha, Tahmid, Talia, Talia, Taliyah, Tallulah, Tamar, Tamar, Tamara, Tamia, Tamia, Tanisha, Tanisha, Taraji, Tasnim, Tatiana, Tatiana, Taylor, Taylor, Teagan, Tehila, Tenzin, Tenzin, Terrell, Terrence, Terry, Terry, Tess, Tessa, Tessa, Thea, Theo, Theo, Theodora, Theodore, Theodore, Thiago, Thierno, Thomas, Thomas, Tiana, Tiana, Tianna, Tianna, Tiffany, Tiffany, Timothy, Timothy, Timur, Tina, Tina, Toba, Tobias, Toby, Toby, Tomas, Tomas, Tony, Tony, Tori, Tori, Tova, Trany, Travis, Travis, Trinity, Trinity, Tristan, Tristan, Troy, Tyler, Tyler, Tzipora, Tzipora, Tziporah, Tziporah, Tzippy, Tzippy, Tzirel, Tzivia, Tzvi, Tzvi, Umar, Uriel, Uriel, Usher, Usher, Valentin, Valentina, Valentina, Valentino, Valeria, Valeria, Valerie, Valerie, Valery, Vanessa, Vanessa, Veer, Vera, Vera, Veronica, Veronica, Veronika, Vicky, Vicky, Victor, Victor, Victoria, Victoria, Vienna, Vihaan, Vihaan, Viktor, Vincent, Vincent, Vincenzo, Vincenzo, Violet, Violet, Violeta, Virginia, Vivian, Vivian, Viviana, Viviana, Vivienne, Vivienne, Walker, Walter, Wendy, Wendy, Wesley, Wesley, Weston, Wilder, Willa, Willa, William, William, Willow, Wilson, Wilson, Winnie, Winnie, Winston, Winston, Winter, Wolf, Wyatt, Wyatt, Wynter, Wynter, Xander, Xavier, Xavier, Ximena, Ximena, Xin, Yaakov, Yaakov, Yachet, Yachet, Yadiel, Yadiel, Yael, Yael, Yahir, Yahir, Yahya, Yair, Yakov, Yakov, Yamilet, Yamileth, Yamileth, Yandel, Yandel, Yaniel, Yanky, Yara, Yara, Yareli, Yaretzi, Yaretzi, Yariel, Yariel, Yaritza, Yaseen, Yaseen, Yasmin, Yasmina, Yasmine, Yasmine, Yassin, Yechezkel, Yechiel, Yechiel, Yehoshua, Yehoshua, Yehuda, Yehuda, Yehudah, Yehudis, Yehudis, Yerik, Yesenia, Yeshaya, Yida, Yida, Yidel, Yidel, Yides, Yides, Yisrael, Yisrael, Yisroel, Yisroel, Yitta, Yitty, Yitty, Yitzchak, Yitzchak, Yitzchok, Yitzchok, Yocheved, Yocheved, Yoel, Yoel, Yona, Yonah, Yonah, Yonatan, Yosef, Yosef, Yossi, Yossi, Younis, Yousef, Yousef, Youssef, Youssef, Yu, Yuna, Yusuf, Yusuf, Zabdiel, Zachariah, Zachary, Zachary, Zahara, Zahara, Zahir, Zahra, Zahra, Zaid, Zaiden, Zain, Zain, Zainab, Zainab, Zaire, Zaire, Zakaria, Zalmen, Zalmen, Zamir, Zander, Zane, Zaniyah, Zaniyah, Zara, Zara, Zaria, Zaria, Zariah, Zariah, Zayan, Zayan, Zayden, Zayden, Zayn, Zelda, Zendaya, Zev, Zev, Zhuri, Zion, Zion, Zissy, Zissy, Zoe, Zoe, Zoey, Zoey, Zora, Zoya, Zuri, Zuri, Zyaire, Zyaire\""
            ],
            "application/vnd.google.colaboratory.intrinsic+json": {
              "type": "string"
            }
          },
          "metadata": {},
          "execution_count": 24
        }
      ]
    },
    {
      "cell_type": "code",
      "source": [
        "# whatever is in quotes to the left of .join() method, put that in between each element of list or series\n",
        "# above is a series inside .join()\n",
        "# below is a list inside .join()\n",
        "' | '.join(['a', 'b', 'c'])"
      ],
      "metadata": {
        "colab": {
          "base_uri": "https://localhost:8080/",
          "height": 35
        },
        "id": "vYaKTCjOmvSj",
        "outputId": "9ea4384f-c775-45bb-f47e-bb6363ffc162"
      },
      "execution_count": 28,
      "outputs": [
        {
          "output_type": "execute_result",
          "data": {
            "text/plain": [
              "'a | b | c'"
            ],
            "application/vnd.google.colaboratory.intrinsic+json": {
              "type": "string"
            }
          },
          "metadata": {},
          "execution_count": 28
        }
      ]
    },
    {
      "cell_type": "markdown",
      "source": [
        "## to_csv( ) method"
      ],
      "metadata": {
        "id": "Y2d2niZYnFf5"
      }
    },
    {
      "cell_type": "code",
      "source": [],
      "metadata": {
        "id": "wdsGe443m4ag"
      },
      "execution_count": null,
      "outputs": []
    }
  ]
}