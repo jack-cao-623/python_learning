{
  "nbformat": 4,
  "nbformat_minor": 0,
  "metadata": {
    "colab": {
      "provenance": [],
      "authorship_tag": "ABX9TyNfO9rlTrgLYlyQxI3RYUbo",
      "include_colab_link": true
    },
    "kernelspec": {
      "name": "python3",
      "display_name": "Python 3"
    },
    "language_info": {
      "name": "python"
    }
  },
  "cells": [
    {
      "cell_type": "markdown",
      "metadata": {
        "id": "view-in-github",
        "colab_type": "text"
      },
      "source": [
        "<a href=\"https://colab.research.google.com/github/jack-cao-623/python_learning/blob/main/effective_pandas_ch_04.ipynb\" target=\"_parent\"><img src=\"https://colab.research.google.com/assets/colab-badge.svg\" alt=\"Open In Colab\"/></a>"
      ]
    },
    {
      "cell_type": "markdown",
      "source": [
        "# Chapter 4: Series Introduction"
      ],
      "metadata": {
        "id": "CppJ5mpiGRoU"
      }
    },
    {
      "cell_type": "code",
      "execution_count": 27,
      "metadata": {
        "id": "z5v0brkzzScj"
      },
      "outputs": [],
      "source": [
        "# libraries needed\n",
        "import numpy as np\n",
        "import pandas as pd"
      ]
    },
    {
      "cell_type": "code",
      "source": [
        "# create a dictionary called series; dictionaries are key-value pairs\n",
        "series = {\n",
        "    'index':[0, 1, 2, 3],\n",
        "    'data':[145, 142, 38, 13],\n",
        "    'name':'songs'\n",
        "}\n",
        "print(series)"
      ],
      "metadata": {
        "id": "AYYBK3Hsz7M1",
        "colab": {
          "base_uri": "https://localhost:8080/"
        },
        "outputId": "f1d0f1eb-30af-452b-e885-8a7a13cc700c"
      },
      "execution_count": 28,
      "outputs": [
        {
          "output_type": "stream",
          "name": "stdout",
          "text": [
            "{'index': [0, 1, 2, 3], 'data': [145, 142, 38, 13], 'name': 'songs'}\n"
          ]
        }
      ]
    },
    {
      "cell_type": "code",
      "source": [
        "# extract different keys from series dictionary\n",
        "print(series['index'])\n",
        "print(series['data'])\n",
        "print(series['name'])\n",
        "\n",
        "# should get 38\n",
        "print(series['data'][2])"
      ],
      "metadata": {
        "colab": {
          "base_uri": "https://localhost:8080/"
        },
        "id": "HEcTbFWRGksS",
        "outputId": "4959a6c2-e8f6-4a6e-a057-2367059cdfe0"
      },
      "execution_count": 29,
      "outputs": [
        {
          "output_type": "stream",
          "name": "stdout",
          "text": [
            "[0, 1, 2, 3]\n",
            "[145, 142, 38, 13]\n",
            "songs\n",
            "38\n"
          ]
        }
      ]
    },
    {
      "cell_type": "code",
      "source": [
        "# create a series\n",
        "songs2 = pd.Series(\n",
        "    data = [145, 142, 38, 13],\n",
        "    name = 'counts'\n",
        ")\n",
        "print(songs2)\n",
        "\n",
        "# index defaults to 0, 1, 2, 3..."
      ],
      "metadata": {
        "colab": {
          "base_uri": "https://localhost:8080/"
        },
        "id": "yM_dhxy7GpVY",
        "outputId": "2a1c8aba-70c8-4ac0-abe4-7a15ecccd3a0"
      },
      "execution_count": null,
      "outputs": [
        {
          "output_type": "stream",
          "name": "stdout",
          "text": [
            "0    145\n",
            "1    142\n",
            "2     38\n",
            "3     13\n",
            "Name: counts, dtype: int64\n"
          ]
        }
      ]
    },
    {
      "cell_type": "code",
      "source": [
        "# name the indices\n",
        "songs3 = pd.Series(\n",
        "    data = [145, 142, 38, 13],\n",
        "    name = 'counts',\n",
        "    index = ['Paul', 'John', 'George', 'Ringo']\n",
        ")\n",
        "print(songs3)"
      ],
      "metadata": {
        "colab": {
          "base_uri": "https://localhost:8080/"
        },
        "id": "F3YZcQJSHK1s",
        "outputId": "c00d14aa-0da9-44fb-9808-773240b0cbc4"
      },
      "execution_count": null,
      "outputs": [
        {
          "output_type": "stream",
          "name": "stdout",
          "text": [
            "Paul      145\n",
            "John      142\n",
            "George     38\n",
            "Ringo      13\n",
            "Name: counts, dtype: int64\n"
          ]
        }
      ]
    },
    {
      "cell_type": "code",
      "source": [
        "# create a series with a NULL, np.nan, not a number\n",
        "nan_series = pd.Series(\n",
        "    data = [2, np.nan],\n",
        "    index = ['Ono', 'Clapton']\n",
        ")\n",
        "\n",
        "print(nan_series)"
      ],
      "metadata": {
        "colab": {
          "base_uri": "https://localhost:8080/"
        },
        "id": "0feAdIVuIIxf",
        "outputId": "fa7c2ba6-1edd-43a1-bb2f-b66af714688a"
      },
      "execution_count": null,
      "outputs": [
        {
          "output_type": "stream",
          "name": "stdout",
          "text": [
            "Ono        2.0\n",
            "Clapton    NaN\n",
            "dtype: float64\n"
          ]
        }
      ]
    },
    {
      "cell_type": "code",
      "source": [
        "# count how many values in nan_series; should just get 1\n",
        "print(nan_series.count())\n",
        "\n",
        "# size of nan_series; should get 2\n",
        "print(len(nan_series))\n",
        "print(nan_series.size)"
      ],
      "metadata": {
        "colab": {
          "base_uri": "https://localhost:8080/"
        },
        "id": "5e9-eK51JD6J",
        "outputId": "8cf826d5-e56b-45d0-c05f-c5637cdfab94"
      },
      "execution_count": null,
      "outputs": [
        {
          "output_type": "stream",
          "name": "stdout",
          "text": [
            "1\n",
            "2\n",
            "2\n"
          ]
        }
      ]
    },
    {
      "cell_type": "code",
      "source": [
        "# find mean of songs3\n",
        "print(songs3)\n",
        "\n",
        "# mean is output of this\n",
        "print(\"\\n\")\n",
        "print('mean:')\n",
        "print(songs3.mean())"
      ],
      "metadata": {
        "colab": {
          "base_uri": "https://localhost:8080/"
        },
        "id": "kMEfp2qTJLCE",
        "outputId": "3b810795-3bbc-4559-c072-2d0d2920753b"
      },
      "execution_count": null,
      "outputs": [
        {
          "output_type": "stream",
          "name": "stdout",
          "text": [
            "Paul      145\n",
            "John      142\n",
            "George     38\n",
            "Ringo      13\n",
            "Name: counts, dtype: int64\n",
            "\n",
            "\n",
            "mean:\n",
            "84.5\n"
          ]
        }
      ]
    },
    {
      "cell_type": "code",
      "source": [
        "# find songs greater than median\n",
        "print('mean:')\n",
        "print(songs3.mean())\n",
        "\n",
        "print('\\n')\n",
        "print('songs greater than the mean:')\n",
        "print(songs3[songs3 > songs3.mean()])"
      ],
      "metadata": {
        "colab": {
          "base_uri": "https://localhost:8080/"
        },
        "id": "TDqgZ3qVJnLd",
        "outputId": "acc14535-e5d8-482f-ec9c-414e789eb393"
      },
      "execution_count": null,
      "outputs": [
        {
          "output_type": "stream",
          "name": "stdout",
          "text": [
            "mean:\n",
            "84.5\n",
            "\n",
            "\n",
            "songs greater than the mean:\n",
            "Paul    145\n",
            "John    142\n",
            "Name: counts, dtype: int64\n"
          ]
        }
      ]
    },
    {
      "cell_type": "code",
      "source": [
        "# part about cateorical data in series; skipped for now"
      ],
      "metadata": {
        "id": "Nx1B8dJ3KWXv"
      },
      "execution_count": null,
      "outputs": []
    }
  ]
}