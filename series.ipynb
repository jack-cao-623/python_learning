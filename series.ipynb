{
  "nbformat": 4,
  "nbformat_minor": 0,
  "metadata": {
    "colab": {
      "provenance": [],
      "collapsed_sections": [
        "D6LaNcv4xc1U",
        "4ejS2mWN0lqd",
        "YHwhnJ9-2qc6",
        "c4Y5hWlq4ylI",
        "nWnvnFDffFLS",
        "RhsRXx7Tsvc2",
        "TA7fs5c51hrj",
        "ye96LWfoQ4p9",
        "WE8tKLvmp9nN",
        "z1GmXS5psVdn",
        "ZETp5758vCay",
        "9iGGzOiCxKES",
        "FdtsrdkmzWNc"
      ],
      "toc_visible": true,
      "authorship_tag": "ABX9TyOrz6edk+o5yQgyXSeUyww4",
      "include_colab_link": true
    },
    "kernelspec": {
      "name": "python3",
      "display_name": "Python 3"
    },
    "language_info": {
      "name": "python"
    }
  },
  "cells": [
    {
      "cell_type": "markdown",
      "metadata": {
        "id": "view-in-github",
        "colab_type": "text"
      },
      "source": [
        "<a href=\"https://colab.research.google.com/github/jack-cao-623/python_learning/blob/main/series.ipynb\" target=\"_parent\"><img src=\"https://colab.research.google.com/assets/colab-badge.svg\" alt=\"Open In Colab\"/></a>"
      ]
    },
    {
      "cell_type": "markdown",
      "source": [
        "# Series\n",
        "- *object* from Pandas library\n",
        "- Series is 1D labelled array, or a single column of data"
      ],
      "metadata": {
        "id": "zCzuNwnWxD0p"
      }
    },
    {
      "cell_type": "code",
      "source": [
        "# libraries needed\n",
        "import numpy as np\n",
        "import pandas as pd"
      ],
      "metadata": {
        "id": "YX3MSX1MxBcZ"
      },
      "execution_count": 4,
      "outputs": []
    },
    {
      "cell_type": "markdown",
      "source": [
        "## Create a Pandas Series object from a Python list\n",
        "- Series is a object; 1D labelled array\n",
        "- Python list: can store elements in order; each element has a numeric position in line, i.e., the index\n",
        "- Python dictionary: able to establish associations between keys and value, key:value pairs\n",
        "- Series combines best of a list and a dictionary in a single object; equivalent to a column of data in a spreadsheet; preserve a numeric identifier to each element; but identifier can also be labelled with an identifier, like a dictionary\n",
        "- Series also gives us methods"
      ],
      "metadata": {
        "id": "D6LaNcv4xc1U"
      }
    },
    {
      "cell_type": "code",
      "source": [
        "# list\n",
        "ice_cream_flavors = ['Chocolate', 'Vanilla', 'Strawberry', 'Rum Raisin']"
      ],
      "metadata": {
        "id": "FabRpZ5NxM56"
      },
      "execution_count": 5,
      "outputs": []
    },
    {
      "cell_type": "code",
      "source": [
        "# create a Series object with ice_cream_flavors\n",
        "pd.Series(data = ice_cream_flavors)"
      ],
      "metadata": {
        "colab": {
          "base_uri": "https://localhost:8080/"
        },
        "id": "0VES0gwmyGkh",
        "outputId": "d478847a-c90d-40a5-a045-5f374ad7abd0"
      },
      "execution_count": 6,
      "outputs": [
        {
          "output_type": "execute_result",
          "data": {
            "text/plain": [
              "0     Chocolate\n",
              "1       Vanilla\n",
              "2    Strawberry\n",
              "3    Rum Raisin\n",
              "dtype: object"
            ]
          },
          "metadata": {},
          "execution_count": 6
        }
      ]
    },
    {
      "cell_type": "code",
      "source": [
        "# pd.Series() is a class; blueprint for creating objects\n",
        "# dtype means data type\n",
        "  # tells us the type of data for elements in series; ice cream flavors is a str (string); referred to as an object\n",
        "  # object covers more than strings"
      ],
      "metadata": {
        "id": "JFhOt7uIyO3m"
      },
      "execution_count": 7,
      "outputs": []
    },
    {
      "cell_type": "code",
      "source": [
        "# pull out index\n",
        "pd.Series(data = ice_cream_flavors).index"
      ],
      "metadata": {
        "colab": {
          "base_uri": "https://localhost:8080/"
        },
        "id": "gNJm1pX1y6sw",
        "outputId": "957acd96-c0ab-433d-930c-54ae7e563a00"
      },
      "execution_count": 8,
      "outputs": [
        {
          "output_type": "execute_result",
          "data": {
            "text/plain": [
              "RangeIndex(start=0, stop=4, step=1)"
            ]
          },
          "metadata": {},
          "execution_count": 8
        }
      ]
    },
    {
      "cell_type": "code",
      "source": [
        "# index defaults to 0, 1, 2, 3...ascending numeric\n",
        "# this is like a list...don't get the dictionary benefit, see bullet point in title"
      ],
      "metadata": {
        "id": "3ufZIGGay8qa"
      },
      "execution_count": 9,
      "outputs": []
    },
    {
      "cell_type": "code",
      "source": [
        "# create another Series\n",
        "lottery = [15, 3, 14, 6, 9, 10]\n",
        "pd.Series(data = lottery)"
      ],
      "metadata": {
        "colab": {
          "base_uri": "https://localhost:8080/"
        },
        "id": "IobECZz2zXZP",
        "outputId": "45434ec5-378b-4834-a9f4-eba7787c2b60"
      },
      "execution_count": 10,
      "outputs": [
        {
          "output_type": "execute_result",
          "data": {
            "text/plain": [
              "0    15\n",
              "1     3\n",
              "2    14\n",
              "3     6\n",
              "4     9\n",
              "5    10\n",
              "dtype: int64"
            ]
          },
          "metadata": {},
          "execution_count": 10
        }
      ]
    },
    {
      "cell_type": "code",
      "source": [
        "# dtype doesn't refer to index; it refers to the elements"
      ],
      "metadata": {
        "id": "TtZcydCqzfkV"
      },
      "execution_count": 11,
      "outputs": []
    },
    {
      "cell_type": "code",
      "source": [
        "registrations = [True, False, False, True, True]\n",
        "pd.Series(registrations)"
      ],
      "metadata": {
        "colab": {
          "base_uri": "https://localhost:8080/"
        },
        "id": "EgAZJUZ4z_eh",
        "outputId": "417d3100-ff81-4d1a-9d41-1f483a6e8fc2"
      },
      "execution_count": 12,
      "outputs": [
        {
          "output_type": "execute_result",
          "data": {
            "text/plain": [
              "0     True\n",
              "1    False\n",
              "2    False\n",
              "3     True\n",
              "4     True\n",
              "dtype: bool"
            ]
          },
          "metadata": {},
          "execution_count": 12
        }
      ]
    },
    {
      "cell_type": "code",
      "source": [
        "# dtype doesn't refer to index; it refers to the elements"
      ],
      "metadata": {
        "id": "Pe3iw-JO0EGA"
      },
      "execution_count": 13,
      "outputs": []
    },
    {
      "cell_type": "code",
      "source": [
        "# convention is to include arguments, not data = ...; just put in the arguments; fewer keystrokes"
      ],
      "metadata": {
        "id": "dJIE-2h10Inv"
      },
      "execution_count": 14,
      "outputs": []
    },
    {
      "cell_type": "code",
      "source": [
        "# a Series is equivalent to 1 column of data; Dataframe is a bunch of Series glued together with common index"
      ],
      "metadata": {
        "id": "_tj63YKO0N9u"
      },
      "execution_count": 15,
      "outputs": []
    },
    {
      "cell_type": "markdown",
      "source": [
        "## Create a Pandas Series object with a dictionary\n",
        "- key takeaway: index of a Series doesn't need to be numeric"
      ],
      "metadata": {
        "id": "4ejS2mWN0lqd"
      }
    },
    {
      "cell_type": "code",
      "source": [
        "# dictionary\n",
        "sushi = {\n",
        "    'salmon':'orange',\n",
        "    'tuna':'red',\n",
        "    'eel':'brown'\n",
        "}\n",
        "print(sushi)"
      ],
      "metadata": {
        "colab": {
          "base_uri": "https://localhost:8080/"
        },
        "id": "s3gYaY0X0UwO",
        "outputId": "1fd706e1-f1a6-4896-8ba3-1fc5240a50c4"
      },
      "execution_count": 16,
      "outputs": [
        {
          "output_type": "stream",
          "name": "stdout",
          "text": [
            "{'salmon': 'orange', 'tuna': 'red', 'eel': 'brown'}\n"
          ]
        }
      ]
    },
    {
      "cell_type": "code",
      "source": [
        "# create series\n",
        "pd.Series(sushi)"
      ],
      "metadata": {
        "colab": {
          "base_uri": "https://localhost:8080/"
        },
        "id": "u2KuIOPg05Xm",
        "outputId": "69bc1ef3-137f-4038-9eca-d461c0e1b8e0"
      },
      "execution_count": 17,
      "outputs": [
        {
          "output_type": "execute_result",
          "data": {
            "text/plain": [
              "salmon    orange\n",
              "tuna         red\n",
              "eel        brown\n",
              "dtype: object"
            ]
          },
          "metadata": {},
          "execution_count": 17
        }
      ]
    },
    {
      "cell_type": "code",
      "source": [
        "# remember dtype: object reers to data type of the values (orange, red, brown)"
      ],
      "metadata": {
        "id": "s-moJdEK08rN"
      },
      "execution_count": 18,
      "outputs": []
    },
    {
      "cell_type": "code",
      "source": [
        "# dictionary is unordered; but pd.Series(sushi) is ordered and labeled\n",
        "print(pd.Series(sushi).iloc[0])\n",
        "print(pd.Series(sushi).loc['salmon'])"
      ],
      "metadata": {
        "colab": {
          "base_uri": "https://localhost:8080/"
        },
        "id": "XawSQ--G1A0f",
        "outputId": "bee5179e-f1d9-438b-92dd-48dd9de5f6d3"
      },
      "execution_count": 19,
      "outputs": [
        {
          "output_type": "stream",
          "name": "stdout",
          "text": [
            "orange\n",
            "orange\n"
          ]
        }
      ]
    },
    {
      "cell_type": "code",
      "source": [
        "# Pandas Series lets you have duplicated labels for indices; can't do this in a dictionary"
      ],
      "metadata": {
        "id": "WsXncgP91Qao"
      },
      "execution_count": 20,
      "outputs": []
    },
    {
      "cell_type": "code",
      "source": [
        "# create the same Series object but without a dictionary\n",
        "pd.Series(\n",
        "    data = ['orange', 'red', 'brown'],       # dictionary value equivalent\n",
        "    index = ['salmon', 'tuna', 'eel']        # dictionary key equivalent\n",
        ")"
      ],
      "metadata": {
        "colab": {
          "base_uri": "https://localhost:8080/"
        },
        "id": "tdz2Tp4y13ml",
        "outputId": "e6a208f9-1096-4b33-c404-5153dc6c8301"
      },
      "execution_count": 21,
      "outputs": [
        {
          "output_type": "execute_result",
          "data": {
            "text/plain": [
              "salmon    orange\n",
              "tuna         red\n",
              "eel        brown\n",
              "dtype: object"
            ]
          },
          "metadata": {},
          "execution_count": 21
        }
      ]
    },
    {
      "cell_type": "markdown",
      "source": [
        "## Intro to Methods\n",
        "- method is a directive, command, behavior that we can have an object do for us"
      ],
      "metadata": {
        "id": "YHwhnJ9-2qc6"
      }
    },
    {
      "cell_type": "code",
      "source": [
        "# example method: capitalize 'hello'\n",
        "'hello'.upper()"
      ],
      "metadata": {
        "colab": {
          "base_uri": "https://localhost:8080/",
          "height": 0
        },
        "id": "ipNjrygA1-FJ",
        "outputId": "a56fa34b-e9af-4fe6-87b8-0b83dbbd1d4e"
      },
      "execution_count": 22,
      "outputs": [
        {
          "output_type": "execute_result",
          "data": {
            "text/plain": [
              "'HELLO'"
            ],
            "application/vnd.google.colaboratory.intrinsic+json": {
              "type": "string"
            }
          },
          "metadata": {},
          "execution_count": 22
        }
      ]
    },
    {
      "cell_type": "code",
      "source": [
        "# upper() is an example method"
      ],
      "metadata": {
        "id": "e4Hxyht02y-Q"
      },
      "execution_count": 23,
      "outputs": []
    },
    {
      "cell_type": "code",
      "source": [
        "# strings can't be mutated by methods, e.g.:\n",
        "a = 'hello'\n",
        "print(a.upper()) # 'HELLO'\n",
        "print(a)         # 'hello'"
      ],
      "metadata": {
        "colab": {
          "base_uri": "https://localhost:8080/"
        },
        "id": "dVMEDqKR21RI",
        "outputId": "7579bae3-e325-40f0-ad67-a1f59daf410b"
      },
      "execution_count": 24,
      "outputs": [
        {
          "output_type": "stream",
          "name": "stdout",
          "text": [
            "HELLO\n",
            "hello\n"
          ]
        }
      ]
    },
    {
      "cell_type": "code",
      "source": [
        "# above, .upper() method doesn't mutate or change a"
      ],
      "metadata": {
        "id": "JuMLRQsf3Foe"
      },
      "execution_count": 25,
      "outputs": []
    },
    {
      "cell_type": "code",
      "source": [
        "# but some methods may modify the object it's evoked upon\n",
        "b = [1, 2, 3]\n",
        "b.append(4)   \n",
        "print(b)           # [1, 2, 3, 4]"
      ],
      "metadata": {
        "colab": {
          "base_uri": "https://localhost:8080/"
        },
        "id": "vMejj8dm3JBt",
        "outputId": "719bfdd4-38a0-442a-9921-a3f95be4f0f9"
      },
      "execution_count": 26,
      "outputs": [
        {
          "output_type": "stream",
          "name": "stdout",
          "text": [
            "[1, 2, 3, 4]\n"
          ]
        }
      ]
    },
    {
      "cell_type": "code",
      "source": [
        "# above, .append() method changes the list, b"
      ],
      "metadata": {
        "id": "GhmKTipG3m1h"
      },
      "execution_count": 27,
      "outputs": []
    },
    {
      "cell_type": "code",
      "source": [
        "# create a Pandas Series\n",
        "prices = pd.Series([2.99, 4.45, 1.36])\n",
        "prices"
      ],
      "metadata": {
        "colab": {
          "base_uri": "https://localhost:8080/"
        },
        "id": "uV-Otl2y3yEd",
        "outputId": "88577777-255b-4512-b1ea-5ce79d92ffd1"
      },
      "execution_count": 28,
      "outputs": [
        {
          "output_type": "execute_result",
          "data": {
            "text/plain": [
              "0    2.99\n",
              "1    4.45\n",
              "2    1.36\n",
              "dtype: float64"
            ]
          },
          "metadata": {},
          "execution_count": 28
        }
      ]
    },
    {
      "cell_type": "code",
      "source": [
        "# add up values\n",
        "prices.sum()"
      ],
      "metadata": {
        "colab": {
          "base_uri": "https://localhost:8080/"
        },
        "id": "LZ5hMG4P37Uy",
        "outputId": "15d7768a-2935-42d6-f7ff-6bf6e5dacef6"
      },
      "execution_count": 29,
      "outputs": [
        {
          "output_type": "execute_result",
          "data": {
            "text/plain": [
              "8.8"
            ]
          },
          "metadata": {},
          "execution_count": 29
        }
      ]
    },
    {
      "cell_type": "code",
      "source": [
        "# multiply the values\n",
        "prices.product()"
      ],
      "metadata": {
        "colab": {
          "base_uri": "https://localhost:8080/"
        },
        "id": "mAvA94ap4HaH",
        "outputId": "758efc44-abf3-4a78-d4c5-0a90d2c7be0f"
      },
      "execution_count": 30,
      "outputs": [
        {
          "output_type": "execute_result",
          "data": {
            "text/plain": [
              "18.095480000000006"
            ]
          },
          "metadata": {},
          "execution_count": 30
        }
      ]
    },
    {
      "cell_type": "code",
      "source": [
        "print(2.99 * 4.45 * 1.36)"
      ],
      "metadata": {
        "colab": {
          "base_uri": "https://localhost:8080/"
        },
        "id": "6MowJTQy4MwG",
        "outputId": "6fdbcbe6-4271-423a-93e0-d3c8d53db540"
      },
      "execution_count": 31,
      "outputs": [
        {
          "output_type": "stream",
          "name": "stdout",
          "text": [
            "18.095480000000006\n"
          ]
        }
      ]
    },
    {
      "cell_type": "code",
      "source": [
        "# find mean of the three values\n",
        "prices.mean()"
      ],
      "metadata": {
        "colab": {
          "base_uri": "https://localhost:8080/"
        },
        "id": "-zQv0Vxv4PIO",
        "outputId": "d8457d3c-c76b-4de6-8f61-a24d2afef061"
      },
      "execution_count": 32,
      "outputs": [
        {
          "output_type": "execute_result",
          "data": {
            "text/plain": [
              "2.9333333333333336"
            ]
          },
          "metadata": {},
          "execution_count": 32
        }
      ]
    },
    {
      "cell_type": "code",
      "source": [
        "# another way of finding the average\n",
        "prices.sum() / len(prices)"
      ],
      "metadata": {
        "colab": {
          "base_uri": "https://localhost:8080/"
        },
        "id": "GWG6H6MA4R_t",
        "outputId": "d26d4274-5199-4da0-83a0-0ce5136ba60c"
      },
      "execution_count": 33,
      "outputs": [
        {
          "output_type": "execute_result",
          "data": {
            "text/plain": [
              "2.9333333333333336"
            ]
          },
          "metadata": {},
          "execution_count": 33
        }
      ]
    },
    {
      "cell_type": "code",
      "source": [
        "# the above methods don't require paremeters/arguments; other methods do require arguments"
      ],
      "metadata": {
        "id": "ODohcKiK4Tcl"
      },
      "execution_count": 34,
      "outputs": []
    },
    {
      "cell_type": "markdown",
      "source": [
        "## Intro to attributes\n",
        "- attribute is a detail/characteristic/fact/property that an object can tell us about itself\n",
        "- method is a behavior or command, akin to a verb\n",
        "- attribute is akin to an adjective"
      ],
      "metadata": {
        "id": "c4Y5hWlq4ylI"
      }
    },
    {
      "cell_type": "code",
      "source": [
        "# create a Series\n",
        "adjectives = pd.Series(['smart', 'handsome', 'charming', 'brilliant', 'humble', 'smart'])\n",
        "print(adjectives)"
      ],
      "metadata": {
        "colab": {
          "base_uri": "https://localhost:8080/"
        },
        "id": "V7Eik2rr4dcL",
        "outputId": "ceb42237-8324-4cdd-c369-a4b721168075"
      },
      "execution_count": 35,
      "outputs": [
        {
          "output_type": "stream",
          "name": "stdout",
          "text": [
            "0        smart\n",
            "1     handsome\n",
            "2     charming\n",
            "3    brilliant\n",
            "4       humble\n",
            "5        smart\n",
            "dtype: object\n"
          ]
        }
      ]
    },
    {
      "cell_type": "code",
      "source": [
        "# how many elements are in Series\n",
        "adjectives.size"
      ],
      "metadata": {
        "colab": {
          "base_uri": "https://localhost:8080/"
        },
        "id": "GdNVg6d85YN8",
        "outputId": "b4133585-4a16-4c24-bb7e-b84b6f149b57"
      },
      "execution_count": 36,
      "outputs": [
        {
          "output_type": "execute_result",
          "data": {
            "text/plain": [
              "6"
            ]
          },
          "metadata": {},
          "execution_count": 36
        }
      ]
    },
    {
      "cell_type": "code",
      "source": [
        "# whether each element is unique, i.e., no duplicates\n",
        "adjectives.is_unique"
      ],
      "metadata": {
        "colab": {
          "base_uri": "https://localhost:8080/"
        },
        "id": "MWgIUvLO5k4S",
        "outputId": "8115d80d-9371-4bea-965f-09359b20cd45"
      },
      "execution_count": 37,
      "outputs": [
        {
          "output_type": "execute_result",
          "data": {
            "text/plain": [
              "False"
            ]
          },
          "metadata": {},
          "execution_count": 37
        }
      ]
    },
    {
      "cell_type": "code",
      "source": [
        "# methods have parentheses, e.g., series.method()\n",
        "# attributes don't have parentheses, e.g., series.attribute\n",
        "# when you do series. and wait, methods are indicated by box, attributes by wrench"
      ],
      "metadata": {
        "id": "lRWszHOz5qux"
      },
      "execution_count": 38,
      "outputs": []
    },
    {
      "cell_type": "code",
      "source": [
        "# pull out values; Series consists of index and values; this is an attribute\n",
        "adjectives.values"
      ],
      "metadata": {
        "colab": {
          "base_uri": "https://localhost:8080/"
        },
        "id": "dqcOZjGm6IcM",
        "outputId": "f3b25ffd-14c8-4472-a36c-8e4acbe60cb0"
      },
      "execution_count": 39,
      "outputs": [
        {
          "output_type": "execute_result",
          "data": {
            "text/plain": [
              "array(['smart', 'handsome', 'charming', 'brilliant', 'humble', 'smart'],\n",
              "      dtype=object)"
            ]
          },
          "metadata": {},
          "execution_count": 39
        }
      ]
    },
    {
      "cell_type": "code",
      "source": [
        "# above, values is a numpy array; pandas is built top of numpy\n",
        "type(adjectives.values)"
      ],
      "metadata": {
        "colab": {
          "base_uri": "https://localhost:8080/"
        },
        "id": "8CxEftNw6995",
        "outputId": "0070b0f1-069d-4c4b-e328-48b978aca7d5"
      },
      "execution_count": 40,
      "outputs": [
        {
          "output_type": "execute_result",
          "data": {
            "text/plain": [
              "numpy.ndarray"
            ]
          },
          "metadata": {},
          "execution_count": 40
        }
      ]
    },
    {
      "cell_type": "code",
      "source": [
        "# pull out index\n",
        "adjectives.index"
      ],
      "metadata": {
        "colab": {
          "base_uri": "https://localhost:8080/"
        },
        "id": "ddPxwBLB7C9H",
        "outputId": "c31c4b2c-c8a6-4339-91b2-5914c027c4b8"
      },
      "execution_count": 41,
      "outputs": [
        {
          "output_type": "execute_result",
          "data": {
            "text/plain": [
              "RangeIndex(start=0, stop=6, step=1)"
            ]
          },
          "metadata": {},
          "execution_count": 41
        }
      ]
    },
    {
      "cell_type": "code",
      "source": [
        "type(adjectives.index)\n",
        "# index is from pandas"
      ],
      "metadata": {
        "colab": {
          "base_uri": "https://localhost:8080/"
        },
        "id": "3eG4KOlUeHrU",
        "outputId": "bb2e4376-b0cb-46c5-856a-eb05b075e68d"
      },
      "execution_count": 42,
      "outputs": [
        {
          "output_type": "execute_result",
          "data": {
            "text/plain": [
              "pandas.core.indexes.range.RangeIndex"
            ]
          },
          "metadata": {},
          "execution_count": 42
        }
      ]
    },
    {
      "cell_type": "code",
      "source": [
        "# data type\n",
        "adjectives.dtype\n",
        "  # 'O' for object"
      ],
      "metadata": {
        "colab": {
          "base_uri": "https://localhost:8080/"
        },
        "id": "HaellaCVeOyJ",
        "outputId": "02d8c487-f922-4d15-9c0e-bf59bc004a52"
      },
      "execution_count": 43,
      "outputs": [
        {
          "output_type": "execute_result",
          "data": {
            "text/plain": [
              "dtype('O')"
            ]
          },
          "metadata": {},
          "execution_count": 43
        }
      ]
    },
    {
      "cell_type": "code",
      "source": [
        "prices.dtype"
      ],
      "metadata": {
        "colab": {
          "base_uri": "https://localhost:8080/"
        },
        "id": "-0ACnWsTel7Q",
        "outputId": "4011f3be-97be-46ec-90da-2809bd8a3fb5"
      },
      "execution_count": 44,
      "outputs": [
        {
          "output_type": "execute_result",
          "data": {
            "text/plain": [
              "dtype('float64')"
            ]
          },
          "metadata": {},
          "execution_count": 44
        }
      ]
    },
    {
      "cell_type": "markdown",
      "source": [
        "## Parameters and arguments\n",
        "- Paramter is generic name, i.e., left side of equal sign inside a .method()\n",
        "- Argument is specific/conrete value, i.e., right side of equal sign inside a .method()\n",
        "\n",
        "E.g., difficulty is a parameter; easy, medium, hard are potentil arguments for the difficulty parameter"
      ],
      "metadata": {
        "id": "nWnvnFDffFLS"
      }
    },
    {
      "cell_type": "code",
      "source": [
        "# create two lists\n",
        "fruits = ['apple', 'banana', 'orange', 'blueberry', 'raspberry']\n",
        "day_of_week = ['Mon', 'Tue', 'Wed', 'Thu', 'Fri']"
      ],
      "metadata": {
        "id": "fGX-AkqqepEI"
      },
      "execution_count": 45,
      "outputs": []
    },
    {
      "cell_type": "code",
      "source": [
        "# create series where fruits is the value and day_of_week is index\n",
        "pd.Series(\n",
        "    data = fruits,\n",
        "    index = day_of_week\n",
        ")"
      ],
      "metadata": {
        "colab": {
          "base_uri": "https://localhost:8080/"
        },
        "id": "73NLgE2IjWLh",
        "outputId": "d78e28f7-c27b-4301-8d47-abdc91202eec"
      },
      "execution_count": 46,
      "outputs": [
        {
          "output_type": "execute_result",
          "data": {
            "text/plain": [
              "Mon        apple\n",
              "Tue       banana\n",
              "Wed       orange\n",
              "Thu    blueberry\n",
              "Fri    raspberry\n",
              "dtype: object"
            ]
          },
          "metadata": {},
          "execution_count": 46
        }
      ]
    },
    {
      "cell_type": "code",
      "source": [
        "# above, data and index are parameters; fruits and day_of_week are arguments"
      ],
      "metadata": {
        "id": "yH3xbcmmjfGz"
      },
      "execution_count": 47,
      "outputs": []
    },
    {
      "cell_type": "code",
      "source": [
        "# equivalent to the above\n",
        "pd.Series(fruits, day_of_week)\n",
        "  # first paramter is data; second parameter is index; decided by pandas development team"
      ],
      "metadata": {
        "colab": {
          "base_uri": "https://localhost:8080/"
        },
        "id": "nGIS1OA7ju3N",
        "outputId": "3fa4c245-ac9b-4305-b6b7-ae93bc10e679"
      },
      "execution_count": 48,
      "outputs": [
        {
          "output_type": "execute_result",
          "data": {
            "text/plain": [
              "Mon        apple\n",
              "Tue       banana\n",
              "Wed       orange\n",
              "Thu    blueberry\n",
              "Fri    raspberry\n",
              "dtype: object"
            ]
          },
          "metadata": {},
          "execution_count": 48
        }
      ]
    },
    {
      "cell_type": "code",
      "source": [
        "# can you switch it around?\n",
        "pd.Series(index = day_of_week, data = fruits)\n",
        "  # yes, just like R"
      ],
      "metadata": {
        "colab": {
          "base_uri": "https://localhost:8080/"
        },
        "id": "2vu-mkQkj2HD",
        "outputId": "7a398cfa-070a-4c7b-ccfc-1d4768e23022"
      },
      "execution_count": 49,
      "outputs": [
        {
          "output_type": "execute_result",
          "data": {
            "text/plain": [
              "Mon        apple\n",
              "Tue       banana\n",
              "Wed       orange\n",
              "Thu    blueberry\n",
              "Fri    raspberry\n",
              "dtype: object"
            ]
          },
          "metadata": {},
          "execution_count": 49
        }
      ]
    },
    {
      "cell_type": "code",
      "source": [
        "# but convention is just to type the arguments, not the parameters and equal signs\n",
        "# i.e., just right side and rely on position/sequence\n",
        "# ORDER MATTERS!"
      ],
      "metadata": {
        "id": "pDlTeDSFkF3s"
      },
      "execution_count": 50,
      "outputs": []
    },
    {
      "cell_type": "code",
      "source": [
        "pd.Series(day_of_week, fruits) # weekday is the data, fruits is the index\n",
        "# ORDER MATTERS!"
      ],
      "metadata": {
        "colab": {
          "base_uri": "https://localhost:8080/"
        },
        "id": "5QYxDf-gkd4e",
        "outputId": "ba45a397-0d9f-4114-ab68-bf1a277bd873"
      },
      "execution_count": 51,
      "outputs": [
        {
          "output_type": "execute_result",
          "data": {
            "text/plain": [
              "apple        Mon\n",
              "banana       Tue\n",
              "orange       Wed\n",
              "blueberry    Thu\n",
              "raspberry    Fri\n",
              "dtype: object"
            ]
          },
          "metadata": {},
          "execution_count": 51
        }
      ]
    },
    {
      "cell_type": "code",
      "source": [
        "# but when you're explicit about parameters, order doesn't matter\n",
        "pd.Series(\n",
        "    data = fruits,\n",
        "    index = day_of_week\n",
        ")"
      ],
      "metadata": {
        "colab": {
          "base_uri": "https://localhost:8080/"
        },
        "id": "_xqOWtgVkgUm",
        "outputId": "3deda7e0-b68d-49e7-b032-561150ac3e4d"
      },
      "execution_count": 52,
      "outputs": [
        {
          "output_type": "execute_result",
          "data": {
            "text/plain": [
              "Mon        apple\n",
              "Tue       banana\n",
              "Wed       orange\n",
              "Thu    blueberry\n",
              "Fri    raspberry\n",
              "dtype: object"
            ]
          },
          "metadata": {},
          "execution_count": 52
        }
      ]
    },
    {
      "cell_type": "code",
      "source": [
        "# same as above\n",
        "pd.Series(\n",
        "    index = day_of_week,\n",
        "    data = fruits\n",
        ")"
      ],
      "metadata": {
        "colab": {
          "base_uri": "https://localhost:8080/"
        },
        "id": "R5273sOIpp81",
        "outputId": "99c8d104-7c37-45b5-eed4-b00d914329b1"
      },
      "execution_count": 53,
      "outputs": [
        {
          "output_type": "execute_result",
          "data": {
            "text/plain": [
              "Mon        apple\n",
              "Tue       banana\n",
              "Wed       orange\n",
              "Thu    blueberry\n",
              "Fri    raspberry\n",
              "dtype: object"
            ]
          },
          "metadata": {},
          "execution_count": 53
        }
      ]
    },
    {
      "cell_type": "code",
      "source": [
        "# being explicit is known as keyword paramters or keyword arguments"
      ],
      "metadata": {
        "id": "1V_aYQ4cpvpm"
      },
      "execution_count": 54,
      "outputs": []
    },
    {
      "cell_type": "code",
      "source": [
        "# can also mix and match; include some keywords but not others\n",
        "pd.Series(fruits, index = day_of_week)"
      ],
      "metadata": {
        "colab": {
          "base_uri": "https://localhost:8080/"
        },
        "id": "Rq3kzCsyqtPl",
        "outputId": "65070747-5e75-4faf-c5a0-a40e2eef13d4"
      },
      "execution_count": 55,
      "outputs": [
        {
          "output_type": "execute_result",
          "data": {
            "text/plain": [
              "Mon        apple\n",
              "Tue       banana\n",
              "Wed       orange\n",
              "Thu    blueberry\n",
              "Fri    raspberry\n",
              "dtype: object"
            ]
          },
          "metadata": {},
          "execution_count": 55
        }
      ]
    },
    {
      "cell_type": "code",
      "source": [
        "# pandas Series can have duplicate indices, unlike Python dictionary\n",
        "pd.Series(\n",
        "    data = [1, 2, 3, 3],\n",
        "    index = ['a', 'b', 'c', 'c']\n",
        ")"
      ],
      "metadata": {
        "colab": {
          "base_uri": "https://localhost:8080/"
        },
        "id": "YxbGzFruqxn0",
        "outputId": "bfb8db45-b85d-4db4-c333-aafebd2e6687"
      },
      "execution_count": 56,
      "outputs": [
        {
          "output_type": "execute_result",
          "data": {
            "text/plain": [
              "a    1\n",
              "b    2\n",
              "c    3\n",
              "c    3\n",
              "dtype: int64"
            ]
          },
          "metadata": {},
          "execution_count": 56
        }
      ]
    },
    {
      "cell_type": "code",
      "source": [
        "# data and index arguments must be of the same length"
      ],
      "metadata": {
        "id": "nxgtutx2q1br"
      },
      "execution_count": 57,
      "outputs": []
    },
    {
      "cell_type": "markdown",
      "source": [
        "## Import Pandas Series with pd.read_csv() function"
      ],
      "metadata": {
        "id": "RhsRXx7Tsvc2"
      }
    },
    {
      "cell_type": "code",
      "source": [
        "pd.read_csv('https://raw.githubusercontent.com/jack-cao-623/python_learning/main/pandas/pokemon.csv')"
      ],
      "metadata": {
        "colab": {
          "base_uri": "https://localhost:8080/",
          "height": 0
        },
        "id": "W4BojVamrzAU",
        "outputId": "e1a222b5-14a6-46d7-c91c-cbd9a2053690"
      },
      "execution_count": 58,
      "outputs": [
        {
          "output_type": "execute_result",
          "data": {
            "text/plain": [
              "        Pokemon     Type\n",
              "0     Bulbasaur    Grass\n",
              "1       Ivysaur    Grass\n",
              "2      Venusaur    Grass\n",
              "3    Charmander     Fire\n",
              "4    Charmeleon     Fire\n",
              "..          ...      ...\n",
              "716     Yveltal     Dark\n",
              "717     Zygarde   Dragon\n",
              "718     Diancie     Rock\n",
              "719       Hoopa  Psychic\n",
              "720   Volcanion     Fire\n",
              "\n",
              "[721 rows x 2 columns]"
            ],
            "text/html": [
              "\n",
              "  <div id=\"df-1dae9836-0f27-43a6-84c1-0629e481f4c9\">\n",
              "    <div class=\"colab-df-container\">\n",
              "      <div>\n",
              "<style scoped>\n",
              "    .dataframe tbody tr th:only-of-type {\n",
              "        vertical-align: middle;\n",
              "    }\n",
              "\n",
              "    .dataframe tbody tr th {\n",
              "        vertical-align: top;\n",
              "    }\n",
              "\n",
              "    .dataframe thead th {\n",
              "        text-align: right;\n",
              "    }\n",
              "</style>\n",
              "<table border=\"1\" class=\"dataframe\">\n",
              "  <thead>\n",
              "    <tr style=\"text-align: right;\">\n",
              "      <th></th>\n",
              "      <th>Pokemon</th>\n",
              "      <th>Type</th>\n",
              "    </tr>\n",
              "  </thead>\n",
              "  <tbody>\n",
              "    <tr>\n",
              "      <th>0</th>\n",
              "      <td>Bulbasaur</td>\n",
              "      <td>Grass</td>\n",
              "    </tr>\n",
              "    <tr>\n",
              "      <th>1</th>\n",
              "      <td>Ivysaur</td>\n",
              "      <td>Grass</td>\n",
              "    </tr>\n",
              "    <tr>\n",
              "      <th>2</th>\n",
              "      <td>Venusaur</td>\n",
              "      <td>Grass</td>\n",
              "    </tr>\n",
              "    <tr>\n",
              "      <th>3</th>\n",
              "      <td>Charmander</td>\n",
              "      <td>Fire</td>\n",
              "    </tr>\n",
              "    <tr>\n",
              "      <th>4</th>\n",
              "      <td>Charmeleon</td>\n",
              "      <td>Fire</td>\n",
              "    </tr>\n",
              "    <tr>\n",
              "      <th>...</th>\n",
              "      <td>...</td>\n",
              "      <td>...</td>\n",
              "    </tr>\n",
              "    <tr>\n",
              "      <th>716</th>\n",
              "      <td>Yveltal</td>\n",
              "      <td>Dark</td>\n",
              "    </tr>\n",
              "    <tr>\n",
              "      <th>717</th>\n",
              "      <td>Zygarde</td>\n",
              "      <td>Dragon</td>\n",
              "    </tr>\n",
              "    <tr>\n",
              "      <th>718</th>\n",
              "      <td>Diancie</td>\n",
              "      <td>Rock</td>\n",
              "    </tr>\n",
              "    <tr>\n",
              "      <th>719</th>\n",
              "      <td>Hoopa</td>\n",
              "      <td>Psychic</td>\n",
              "    </tr>\n",
              "    <tr>\n",
              "      <th>720</th>\n",
              "      <td>Volcanion</td>\n",
              "      <td>Fire</td>\n",
              "    </tr>\n",
              "  </tbody>\n",
              "</table>\n",
              "<p>721 rows × 2 columns</p>\n",
              "</div>\n",
              "      <button class=\"colab-df-convert\" onclick=\"convertToInteractive('df-1dae9836-0f27-43a6-84c1-0629e481f4c9')\"\n",
              "              title=\"Convert this dataframe to an interactive table.\"\n",
              "              style=\"display:none;\">\n",
              "        \n",
              "  <svg xmlns=\"http://www.w3.org/2000/svg\" height=\"24px\"viewBox=\"0 0 24 24\"\n",
              "       width=\"24px\">\n",
              "    <path d=\"M0 0h24v24H0V0z\" fill=\"none\"/>\n",
              "    <path d=\"M18.56 5.44l.94 2.06.94-2.06 2.06-.94-2.06-.94-.94-2.06-.94 2.06-2.06.94zm-11 1L8.5 8.5l.94-2.06 2.06-.94-2.06-.94L8.5 2.5l-.94 2.06-2.06.94zm10 10l.94 2.06.94-2.06 2.06-.94-2.06-.94-.94-2.06-.94 2.06-2.06.94z\"/><path d=\"M17.41 7.96l-1.37-1.37c-.4-.4-.92-.59-1.43-.59-.52 0-1.04.2-1.43.59L10.3 9.45l-7.72 7.72c-.78.78-.78 2.05 0 2.83L4 21.41c.39.39.9.59 1.41.59.51 0 1.02-.2 1.41-.59l7.78-7.78 2.81-2.81c.8-.78.8-2.07 0-2.86zM5.41 20L4 18.59l7.72-7.72 1.47 1.35L5.41 20z\"/>\n",
              "  </svg>\n",
              "      </button>\n",
              "      \n",
              "  <style>\n",
              "    .colab-df-container {\n",
              "      display:flex;\n",
              "      flex-wrap:wrap;\n",
              "      gap: 12px;\n",
              "    }\n",
              "\n",
              "    .colab-df-convert {\n",
              "      background-color: #E8F0FE;\n",
              "      border: none;\n",
              "      border-radius: 50%;\n",
              "      cursor: pointer;\n",
              "      display: none;\n",
              "      fill: #1967D2;\n",
              "      height: 32px;\n",
              "      padding: 0 0 0 0;\n",
              "      width: 32px;\n",
              "    }\n",
              "\n",
              "    .colab-df-convert:hover {\n",
              "      background-color: #E2EBFA;\n",
              "      box-shadow: 0px 1px 2px rgba(60, 64, 67, 0.3), 0px 1px 3px 1px rgba(60, 64, 67, 0.15);\n",
              "      fill: #174EA6;\n",
              "    }\n",
              "\n",
              "    [theme=dark] .colab-df-convert {\n",
              "      background-color: #3B4455;\n",
              "      fill: #D2E3FC;\n",
              "    }\n",
              "\n",
              "    [theme=dark] .colab-df-convert:hover {\n",
              "      background-color: #434B5C;\n",
              "      box-shadow: 0px 1px 3px 1px rgba(0, 0, 0, 0.15);\n",
              "      filter: drop-shadow(0px 1px 2px rgba(0, 0, 0, 0.3));\n",
              "      fill: #FFFFFF;\n",
              "    }\n",
              "  </style>\n",
              "\n",
              "      <script>\n",
              "        const buttonEl =\n",
              "          document.querySelector('#df-1dae9836-0f27-43a6-84c1-0629e481f4c9 button.colab-df-convert');\n",
              "        buttonEl.style.display =\n",
              "          google.colab.kernel.accessAllowed ? 'block' : 'none';\n",
              "\n",
              "        async function convertToInteractive(key) {\n",
              "          const element = document.querySelector('#df-1dae9836-0f27-43a6-84c1-0629e481f4c9');\n",
              "          const dataTable =\n",
              "            await google.colab.kernel.invokeFunction('convertToInteractive',\n",
              "                                                     [key], {});\n",
              "          if (!dataTable) return;\n",
              "\n",
              "          const docLinkHtml = 'Like what you see? Visit the ' +\n",
              "            '<a target=\"_blank\" href=https://colab.research.google.com/notebooks/data_table.ipynb>data table notebook</a>'\n",
              "            + ' to learn more about interactive tables.';\n",
              "          element.innerHTML = '';\n",
              "          dataTable['output_type'] = 'display_data';\n",
              "          await google.colab.output.renderOutput(dataTable, element);\n",
              "          const docLink = document.createElement('div');\n",
              "          docLink.innerHTML = docLinkHtml;\n",
              "          element.appendChild(docLink);\n",
              "        }\n",
              "      </script>\n",
              "    </div>\n",
              "  </div>\n",
              "  "
            ]
          },
          "metadata": {},
          "execution_count": 58
        }
      ]
    },
    {
      "cell_type": "code",
      "source": [
        "# above is not a Series; it's a DataFrame"
      ],
      "metadata": {
        "id": "gbO2uPhmtcoU"
      },
      "execution_count": 59,
      "outputs": []
    },
    {
      "cell_type": "code",
      "source": [
        "pokemon = (\n",
        "    pd.read_csv(\n",
        "      'https://raw.githubusercontent.com/jack-cao-623/python_learning/main/pandas/pokemon.csv',\n",
        "      usecols = ['Pokemon']  # only import these columns; must be a list\n",
        "    )              # this is a dataframe with one column\n",
        "    .squeeze()     # convert dataframe to series\n",
        ")\n",
        "\n",
        "pokemon"
      ],
      "metadata": {
        "colab": {
          "base_uri": "https://localhost:8080/"
        },
        "id": "qBTY9PJ4ud9D",
        "outputId": "43218385-45bc-4df4-e430-2a45daac3106"
      },
      "execution_count": 60,
      "outputs": [
        {
          "output_type": "execute_result",
          "data": {
            "text/plain": [
              "0       Bulbasaur\n",
              "1         Ivysaur\n",
              "2        Venusaur\n",
              "3      Charmander\n",
              "4      Charmeleon\n",
              "          ...    \n",
              "716       Yveltal\n",
              "717       Zygarde\n",
              "718       Diancie\n",
              "719         Hoopa\n",
              "720     Volcanion\n",
              "Name: Pokemon, Length: 721, dtype: object"
            ]
          },
          "metadata": {},
          "execution_count": 60
        }
      ]
    },
    {
      "cell_type": "code",
      "source": [
        "# elipsis ... indicates gap in data; still there, but not showing it; otherwise, entire screen will be taken up"
      ],
      "metadata": {
        "id": "7bIfw8XeuiLC"
      },
      "execution_count": 61,
      "outputs": []
    },
    {
      "cell_type": "code",
      "source": [
        "# another example\n",
        "google = (\n",
        "    pd.read_csv(\n",
        "        'https://raw.githubusercontent.com/jack-cao-623/python_learning/main/pandas/google_stock_price.csv',\n",
        "        usecols = ['Stock Price']    # only read in this columns\n",
        "    )\n",
        "    .squeeze(axis = 'columns')  # convert to Series\n",
        ")\n",
        "\n",
        "google"
      ],
      "metadata": {
        "colab": {
          "base_uri": "https://localhost:8080/"
        },
        "id": "is2T22Nxv0Ps",
        "outputId": "b04d36b9-49e3-4607-951d-5d5229c94bfa"
      },
      "execution_count": 62,
      "outputs": [
        {
          "output_type": "execute_result",
          "data": {
            "text/plain": [
              "0        50.12\n",
              "1        54.10\n",
              "2        54.65\n",
              "3        52.38\n",
              "4        52.95\n",
              "         ...  \n",
              "3007    772.88\n",
              "3008    771.07\n",
              "3009    773.18\n",
              "3010    771.61\n",
              "3011    782.22\n",
              "Name: Stock Price, Length: 3012, dtype: float64"
            ]
          },
          "metadata": {},
          "execution_count": 62
        }
      ]
    },
    {
      "cell_type": "markdown",
      "source": [
        "## .head() and .tail() method on a Series\n",
        "- purpose is to preview first or last n entries\n",
        "- returns a view\n",
        "- copies vs. views becomes an issue when cleaning/manipulating/wrangling data"
      ],
      "metadata": {
        "id": "TA7fs5c51hrj"
      }
    },
    {
      "cell_type": "code",
      "source": [
        "google.head(n = 5)     # view first entries in google"
      ],
      "metadata": {
        "colab": {
          "base_uri": "https://localhost:8080/"
        },
        "id": "SpHuGfv4v2EL",
        "outputId": "7f0b0aed-2732-4393-bb36-81d9da627a32"
      },
      "execution_count": 63,
      "outputs": [
        {
          "output_type": "execute_result",
          "data": {
            "text/plain": [
              "0    50.12\n",
              "1    54.10\n",
              "2    54.65\n",
              "3    52.38\n",
              "4    52.95\n",
              "Name: Stock Price, dtype: float64"
            ]
          },
          "metadata": {},
          "execution_count": 63
        }
      ]
    },
    {
      "cell_type": "code",
      "source": [
        "google.tail(n = 5)     # view last entries in google"
      ],
      "metadata": {
        "colab": {
          "base_uri": "https://localhost:8080/"
        },
        "id": "9dvr8Ehrzqsx",
        "outputId": "ff7cf4b0-8bd1-4563-f6d5-3bde3fe6eea0"
      },
      "execution_count": 64,
      "outputs": [
        {
          "output_type": "execute_result",
          "data": {
            "text/plain": [
              "3007    772.88\n",
              "3008    771.07\n",
              "3009    773.18\n",
              "3010    771.61\n",
              "3011    782.22\n",
              "Name: Stock Price, dtype: float64"
            ]
          },
          "metadata": {},
          "execution_count": 64
        }
      ]
    },
    {
      "cell_type": "code",
      "source": [
        "# view last 10 rows of pokemon\n",
        "pokemon.tail(n = 10)"
      ],
      "metadata": {
        "colab": {
          "base_uri": "https://localhost:8080/"
        },
        "id": "3WwfRq8q1sJx",
        "outputId": "b8bb847c-80c9-4742-b4f9-04dd36d61651"
      },
      "execution_count": 65,
      "outputs": [
        {
          "output_type": "execute_result",
          "data": {
            "text/plain": [
              "711     Bergmite\n",
              "712      Avalugg\n",
              "713       Noibat\n",
              "714      Noivern\n",
              "715      Xerneas\n",
              "716      Yveltal\n",
              "717      Zygarde\n",
              "718      Diancie\n",
              "719        Hoopa\n",
              "720    Volcanion\n",
              "Name: Pokemon, dtype: object"
            ]
          },
          "metadata": {},
          "execution_count": 65
        }
      ]
    },
    {
      "cell_type": "code",
      "source": [
        "# above is equivalent to:\n",
        "pokemon[-10:]"
      ],
      "metadata": {
        "colab": {
          "base_uri": "https://localhost:8080/"
        },
        "id": "L_zEIj98OnXz",
        "outputId": "a4a58059-b0a6-45a1-eb0b-1ef972e1a6cc"
      },
      "execution_count": 66,
      "outputs": [
        {
          "output_type": "execute_result",
          "data": {
            "text/plain": [
              "711     Bergmite\n",
              "712      Avalugg\n",
              "713       Noibat\n",
              "714      Noivern\n",
              "715      Xerneas\n",
              "716      Yveltal\n",
              "717      Zygarde\n",
              "718      Diancie\n",
              "719        Hoopa\n",
              "720    Volcanion\n",
              "Name: Pokemon, dtype: object"
            ]
          },
          "metadata": {},
          "execution_count": 66
        }
      ]
    },
    {
      "cell_type": "markdown",
      "source": [
        "## Passing Series to Python built-in functions"
      ],
      "metadata": {
        "id": "ye96LWfoQ4p9"
      }
    },
    {
      "cell_type": "code",
      "source": [
        "# number of elements in series, null and non-null\n",
        "len(pokemon)"
      ],
      "metadata": {
        "colab": {
          "base_uri": "https://localhost:8080/"
        },
        "id": "PXtL5DQLOpRT",
        "outputId": "974e8e30-a0dd-40ec-e374-c614d659cdab"
      },
      "execution_count": 67,
      "outputs": [
        {
          "output_type": "execute_result",
          "data": {
            "text/plain": [
              "721"
            ]
          },
          "metadata": {},
          "execution_count": 67
        }
      ]
    },
    {
      "cell_type": "code",
      "source": [
        "len(pd.Series([1, np.nan, 2])) # length of 3"
      ],
      "metadata": {
        "colab": {
          "base_uri": "https://localhost:8080/"
        },
        "id": "34tMPgn0lBqu",
        "outputId": "805eee71-c5af-4f08-e76e-dba78b33574b"
      },
      "execution_count": 68,
      "outputs": [
        {
          "output_type": "execute_result",
          "data": {
            "text/plain": [
              "3"
            ]
          },
          "metadata": {},
          "execution_count": 68
        }
      ]
    },
    {
      "cell_type": "code",
      "source": [
        "type(pokemon) # pokemon is a series"
      ],
      "metadata": {
        "colab": {
          "base_uri": "https://localhost:8080/"
        },
        "id": "C4FxqSeYlFs9",
        "outputId": "22e4654a-aa52-4343-e5de-22fb17850363"
      },
      "execution_count": 69,
      "outputs": [
        {
          "output_type": "execute_result",
          "data": {
            "text/plain": [
              "pandas.core.series.Series"
            ]
          },
          "metadata": {},
          "execution_count": 69
        }
      ]
    },
    {
      "cell_type": "code",
      "source": [
        "dir(pokemon)[:5]  # returns a list of methods and attributes available for pokemon\n",
        "# equivalent to pokemon.[shift + tab]"
      ],
      "metadata": {
        "colab": {
          "base_uri": "https://localhost:8080/"
        },
        "id": "QOVavynWoJQY",
        "outputId": "55fb30ec-8d75-41a5-c5ca-9b84809ae557"
      },
      "execution_count": 70,
      "outputs": [
        {
          "output_type": "execute_result",
          "data": {
            "text/plain": [
              "['T', '_AXIS_LEN', '_AXIS_ORDERS', '_AXIS_REVERSED', '_AXIS_TO_AXIS_NUMBER']"
            ]
          },
          "metadata": {},
          "execution_count": 70
        }
      ]
    },
    {
      "cell_type": "code",
      "source": [
        "sorted(pokemon)[:5]  # sort pokemon in alphabetical order; returns a list"
      ],
      "metadata": {
        "colab": {
          "base_uri": "https://localhost:8080/"
        },
        "id": "qde-ZzLVoL6y",
        "outputId": "79432112-b129-4b5d-aea7-0ae78b94ebfe"
      },
      "execution_count": 71,
      "outputs": [
        {
          "output_type": "execute_result",
          "data": {
            "text/plain": [
              "['Abomasnow', 'Abra', 'Absol', 'Accelgor', 'Aegislash']"
            ]
          },
          "metadata": {},
          "execution_count": 71
        }
      ]
    },
    {
      "cell_type": "code",
      "source": [
        "type(sorted(pokemon)) # this is a list; nested"
      ],
      "metadata": {
        "colab": {
          "base_uri": "https://localhost:8080/"
        },
        "id": "C0cTHE5eoY-u",
        "outputId": "f3c4b0e8-4da9-48b9-f8d5-db512217b64e"
      },
      "execution_count": 72,
      "outputs": [
        {
          "output_type": "execute_result",
          "data": {
            "text/plain": [
              "list"
            ]
          },
          "metadata": {},
          "execution_count": 72
        }
      ]
    },
    {
      "cell_type": "code",
      "source": [
        "# sort google\n",
        "sorted(google)[:5] # first 5 elements"
      ],
      "metadata": {
        "colab": {
          "base_uri": "https://localhost:8080/"
        },
        "id": "1-aGde9-of-m",
        "outputId": "116df904-d3ce-4082-b7ea-2bd22fa99ff5"
      },
      "execution_count": 73,
      "outputs": [
        {
          "output_type": "execute_result",
          "data": {
            "text/plain": [
              "[49.95, 50.07, 50.12, 50.7, 50.74]"
            ]
          },
          "metadata": {},
          "execution_count": 73
        }
      ]
    },
    {
      "cell_type": "code",
      "source": [
        "# convert pokemon series to a list\n",
        "list(pokemon)[:5]"
      ],
      "metadata": {
        "colab": {
          "base_uri": "https://localhost:8080/"
        },
        "id": "rb-nDht7opZ_",
        "outputId": "62d9a6ea-6daa-4ecc-88de-c44088615308"
      },
      "execution_count": 74,
      "outputs": [
        {
          "output_type": "execute_result",
          "data": {
            "text/plain": [
              "['Bulbasaur', 'Ivysaur', 'Venusaur', 'Charmander', 'Charmeleon']"
            ]
          },
          "metadata": {},
          "execution_count": 74
        }
      ]
    },
    {
      "cell_type": "code",
      "source": [
        "# convert pokemon series to a dicitionary where keys are indices and elements are values\n",
        "dict(pokemon) ## super long don't run"
      ],
      "metadata": {
        "colab": {
          "base_uri": "https://localhost:8080/"
        },
        "id": "qCIbLBuyovi_",
        "outputId": "f1772032-28d4-43da-d22c-df3678446735"
      },
      "execution_count": 75,
      "outputs": [
        {
          "output_type": "execute_result",
          "data": {
            "text/plain": [
              "{0: 'Bulbasaur',\n",
              " 1: 'Ivysaur',\n",
              " 2: 'Venusaur',\n",
              " 3: 'Charmander',\n",
              " 4: 'Charmeleon',\n",
              " 5: 'Charizard',\n",
              " 6: 'Squirtle',\n",
              " 7: 'Wartortle',\n",
              " 8: 'Blastoise',\n",
              " 9: 'Caterpie',\n",
              " 10: 'Metapod',\n",
              " 11: 'Butterfree',\n",
              " 12: 'Weedle',\n",
              " 13: 'Kakuna',\n",
              " 14: 'Beedrill',\n",
              " 15: 'Pidgey',\n",
              " 16: 'Pidgeotto',\n",
              " 17: 'Pidgeot',\n",
              " 18: 'Rattata',\n",
              " 19: 'Raticate',\n",
              " 20: 'Spearow',\n",
              " 21: 'Fearow',\n",
              " 22: 'Ekans',\n",
              " 23: 'Arbok',\n",
              " 24: 'Pikachu',\n",
              " 25: 'Raichu',\n",
              " 26: 'Sandshrew',\n",
              " 27: 'Sandslash',\n",
              " 28: 'Nidoran',\n",
              " 29: 'Nidorina',\n",
              " 30: 'Nidoqueen',\n",
              " 31: 'Nidoran♂',\n",
              " 32: 'Nidorino',\n",
              " 33: 'Nidoking',\n",
              " 34: 'Clefairy',\n",
              " 35: 'Clefable',\n",
              " 36: 'Vulpix',\n",
              " 37: 'Ninetales',\n",
              " 38: 'Jigglypuff',\n",
              " 39: 'Wigglytuff',\n",
              " 40: 'Zubat',\n",
              " 41: 'Golbat',\n",
              " 42: 'Oddish',\n",
              " 43: 'Gloom',\n",
              " 44: 'Vileplume',\n",
              " 45: 'Paras',\n",
              " 46: 'Parasect',\n",
              " 47: 'Venonat',\n",
              " 48: 'Venomoth',\n",
              " 49: 'Diglett',\n",
              " 50: 'Dugtrio',\n",
              " 51: 'Meowth',\n",
              " 52: 'Persian',\n",
              " 53: 'Psyduck',\n",
              " 54: 'Golduck',\n",
              " 55: 'Mankey',\n",
              " 56: 'Primeape',\n",
              " 57: 'Growlithe',\n",
              " 58: 'Arcanine',\n",
              " 59: 'Poliwag',\n",
              " 60: 'Poliwhirl',\n",
              " 61: 'Poliwrath',\n",
              " 62: 'Abra',\n",
              " 63: 'Kadabra',\n",
              " 64: 'Alakazam',\n",
              " 65: 'Machop',\n",
              " 66: 'Machoke',\n",
              " 67: 'Machamp',\n",
              " 68: 'Bellsprout',\n",
              " 69: 'Weepinbell',\n",
              " 70: 'Victreebel',\n",
              " 71: 'Tentacool',\n",
              " 72: 'Tentacruel',\n",
              " 73: 'Geodude',\n",
              " 74: 'Graveler',\n",
              " 75: 'Golem',\n",
              " 76: 'Ponyta',\n",
              " 77: 'Rapidash',\n",
              " 78: 'Slowpoke',\n",
              " 79: 'Slowbro',\n",
              " 80: 'Magnemite',\n",
              " 81: 'Magneton',\n",
              " 82: \"Farfetch'd\",\n",
              " 83: 'Doduo',\n",
              " 84: 'Dodrio',\n",
              " 85: 'Seel',\n",
              " 86: 'Dewgong',\n",
              " 87: 'Grimer',\n",
              " 88: 'Muk',\n",
              " 89: 'Shellder',\n",
              " 90: 'Cloyster',\n",
              " 91: 'Gastly',\n",
              " 92: 'Haunter',\n",
              " 93: 'Gengar',\n",
              " 94: 'Onix',\n",
              " 95: 'Drowzee',\n",
              " 96: 'Hypno',\n",
              " 97: 'Krabby',\n",
              " 98: 'Kingler',\n",
              " 99: 'Voltorb',\n",
              " 100: 'Electrode',\n",
              " 101: 'Exeggcute',\n",
              " 102: 'Exeggutor',\n",
              " 103: 'Cubone',\n",
              " 104: 'Marowak',\n",
              " 105: 'Hitmonlee',\n",
              " 106: 'Hitmonchan',\n",
              " 107: 'Lickitung',\n",
              " 108: 'Koffing',\n",
              " 109: 'Weezing',\n",
              " 110: 'Rhyhorn',\n",
              " 111: 'Rhydon',\n",
              " 112: 'Chansey',\n",
              " 113: 'Tangela',\n",
              " 114: 'Kangaskhan',\n",
              " 115: 'Horsea',\n",
              " 116: 'Seadra',\n",
              " 117: 'Goldeen',\n",
              " 118: 'Seaking',\n",
              " 119: 'Staryu',\n",
              " 120: 'Starmie',\n",
              " 121: 'Mr. Mime',\n",
              " 122: 'Scyther',\n",
              " 123: 'Jynx',\n",
              " 124: 'Electabuzz',\n",
              " 125: 'Magmar',\n",
              " 126: 'Pinsir',\n",
              " 127: 'Tauros',\n",
              " 128: 'Magikarp',\n",
              " 129: 'Gyarados',\n",
              " 130: 'Lapras',\n",
              " 131: 'Ditto',\n",
              " 132: 'Eevee',\n",
              " 133: 'Vaporeon',\n",
              " 134: 'Jolteon',\n",
              " 135: 'Flareon',\n",
              " 136: 'Porygon',\n",
              " 137: 'Omanyte',\n",
              " 138: 'Omastar',\n",
              " 139: 'Kabuto',\n",
              " 140: 'Kabutops',\n",
              " 141: 'Aerodactyl',\n",
              " 142: 'Snorlax',\n",
              " 143: 'Articuno',\n",
              " 144: 'Zapdos',\n",
              " 145: 'Moltres',\n",
              " 146: 'Dratini',\n",
              " 147: 'Dragonair',\n",
              " 148: 'Dragonite',\n",
              " 149: 'Mewtwo',\n",
              " 150: 'Mew',\n",
              " 151: 'Chikorita',\n",
              " 152: 'Bayleef',\n",
              " 153: 'Meganium',\n",
              " 154: 'Cyndaquil',\n",
              " 155: 'Quilava',\n",
              " 156: 'Typhlosion',\n",
              " 157: 'Totodile',\n",
              " 158: 'Croconaw',\n",
              " 159: 'Feraligatr',\n",
              " 160: 'Sentret',\n",
              " 161: 'Furret',\n",
              " 162: 'Hoothoot',\n",
              " 163: 'Noctowl',\n",
              " 164: 'Ledyba',\n",
              " 165: 'Ledian',\n",
              " 166: 'Spinarak',\n",
              " 167: 'Ariados',\n",
              " 168: 'Crobat',\n",
              " 169: 'Chinchou',\n",
              " 170: 'Lanturn',\n",
              " 171: 'Pichu',\n",
              " 172: 'Cleffa',\n",
              " 173: 'Igglybuff',\n",
              " 174: 'Togepi',\n",
              " 175: 'Togetic',\n",
              " 176: 'Natu',\n",
              " 177: 'Xatu',\n",
              " 178: 'Mareep',\n",
              " 179: 'Flaaffy',\n",
              " 180: 'Ampharos',\n",
              " 181: 'Bellossom',\n",
              " 182: 'Marill',\n",
              " 183: 'Azumarill',\n",
              " 184: 'Sudowoodo',\n",
              " 185: 'Politoed',\n",
              " 186: 'Hoppip',\n",
              " 187: 'Skiploom',\n",
              " 188: 'Jumpluff',\n",
              " 189: 'Aipom',\n",
              " 190: 'Sunkern',\n",
              " 191: 'Sunflora',\n",
              " 192: 'Yanma',\n",
              " 193: 'Wooper',\n",
              " 194: 'Quagsire',\n",
              " 195: 'Espeon',\n",
              " 196: 'Umbreon',\n",
              " 197: 'Murkrow',\n",
              " 198: 'Slowking',\n",
              " 199: 'Misdreavus',\n",
              " 200: 'Unown',\n",
              " 201: 'Wobbuffet',\n",
              " 202: 'Girafarig',\n",
              " 203: 'Pineco',\n",
              " 204: 'Forretress',\n",
              " 205: 'Dunsparce',\n",
              " 206: 'Gligar',\n",
              " 207: 'Steelix',\n",
              " 208: 'Snubbull',\n",
              " 209: 'Granbull',\n",
              " 210: 'Qwilfish',\n",
              " 211: 'Scizor',\n",
              " 212: 'Shuckle',\n",
              " 213: 'Heracross',\n",
              " 214: 'Sneasel',\n",
              " 215: 'Teddiursa',\n",
              " 216: 'Ursaring',\n",
              " 217: 'Slugma',\n",
              " 218: 'Magcargo',\n",
              " 219: 'Swinub',\n",
              " 220: 'Piloswine',\n",
              " 221: 'Corsola',\n",
              " 222: 'Remoraid',\n",
              " 223: 'Octillery',\n",
              " 224: 'Delibird',\n",
              " 225: 'Mantine',\n",
              " 226: 'Skarmory',\n",
              " 227: 'Houndour',\n",
              " 228: 'Houndoom',\n",
              " 229: 'Kingdra',\n",
              " 230: 'Phanpy',\n",
              " 231: 'Donphan',\n",
              " 232: 'Porygon2',\n",
              " 233: 'Stantler',\n",
              " 234: 'Smeargle',\n",
              " 235: 'Tyrogue',\n",
              " 236: 'Hitmontop',\n",
              " 237: 'Smoochum',\n",
              " 238: 'Elekid',\n",
              " 239: 'Magby',\n",
              " 240: 'Miltank',\n",
              " 241: 'Blissey',\n",
              " 242: 'Raikou',\n",
              " 243: 'Entei',\n",
              " 244: 'Suicune',\n",
              " 245: 'Larvitar',\n",
              " 246: 'Pupitar',\n",
              " 247: 'Tyranitar',\n",
              " 248: 'Lugia',\n",
              " 249: 'Ho-oh',\n",
              " 250: 'Celebi',\n",
              " 251: 'Treecko',\n",
              " 252: 'Grovyle',\n",
              " 253: 'Sceptile',\n",
              " 254: 'Torchic',\n",
              " 255: 'Combusken',\n",
              " 256: 'Blaziken',\n",
              " 257: 'Mudkip',\n",
              " 258: 'Marshtomp',\n",
              " 259: 'Swampert',\n",
              " 260: 'Poochyena',\n",
              " 261: 'Mightyena',\n",
              " 262: 'Zigzagoon',\n",
              " 263: 'Linoone',\n",
              " 264: 'Wurmple',\n",
              " 265: 'Silcoon',\n",
              " 266: 'Beautifly',\n",
              " 267: 'Cascoon',\n",
              " 268: 'Dustox',\n",
              " 269: 'Lotad',\n",
              " 270: 'Lombre',\n",
              " 271: 'Ludicolo',\n",
              " 272: 'Seedot',\n",
              " 273: 'Nuzleaf',\n",
              " 274: 'Shiftry',\n",
              " 275: 'Taillow',\n",
              " 276: 'Swellow',\n",
              " 277: 'Wingull',\n",
              " 278: 'Pelipper',\n",
              " 279: 'Ralts',\n",
              " 280: 'Kirlia',\n",
              " 281: 'Gardevoir',\n",
              " 282: 'Surskit',\n",
              " 283: 'Masquerain',\n",
              " 284: 'Shroomish',\n",
              " 285: 'Breloom',\n",
              " 286: 'Slakoth',\n",
              " 287: 'Vigoroth',\n",
              " 288: 'Slaking',\n",
              " 289: 'Nincada',\n",
              " 290: 'Ninjask',\n",
              " 291: 'Shedinja',\n",
              " 292: 'Whismur',\n",
              " 293: 'Loudred',\n",
              " 294: 'Exploud',\n",
              " 295: 'Makuhita',\n",
              " 296: 'Hariyama',\n",
              " 297: 'Azurill',\n",
              " 298: 'Nosepass',\n",
              " 299: 'Skitty',\n",
              " 300: 'Delcatty',\n",
              " 301: 'Sableye',\n",
              " 302: 'Mawile',\n",
              " 303: 'Aron',\n",
              " 304: 'Lairon',\n",
              " 305: 'Aggron',\n",
              " 306: 'Meditite',\n",
              " 307: 'Medicham',\n",
              " 308: 'Electrike',\n",
              " 309: 'Manectric',\n",
              " 310: 'Plusle',\n",
              " 311: 'Minun',\n",
              " 312: 'Volbeat',\n",
              " 313: 'Illumise',\n",
              " 314: 'Roselia',\n",
              " 315: 'Gulpin',\n",
              " 316: 'Swalot',\n",
              " 317: 'Carvanha',\n",
              " 318: 'Sharpedo',\n",
              " 319: 'Wailmer',\n",
              " 320: 'Wailord',\n",
              " 321: 'Numel',\n",
              " 322: 'Camerupt',\n",
              " 323: 'Torkoal',\n",
              " 324: 'Spoink',\n",
              " 325: 'Grumpig',\n",
              " 326: 'Spinda',\n",
              " 327: 'Trapinch',\n",
              " 328: 'Vibrava',\n",
              " 329: 'Flygon',\n",
              " 330: 'Cacnea',\n",
              " 331: 'Cacturne',\n",
              " 332: 'Swablu',\n",
              " 333: 'Altaria',\n",
              " 334: 'Zangoose',\n",
              " 335: 'Seviper',\n",
              " 336: 'Lunatone',\n",
              " 337: 'Solrock',\n",
              " 338: 'Barboach',\n",
              " 339: 'Whiscash',\n",
              " 340: 'Corphish',\n",
              " 341: 'Crawdaunt',\n",
              " 342: 'Baltoy',\n",
              " 343: 'Claydol',\n",
              " 344: 'Lileep',\n",
              " 345: 'Cradily',\n",
              " 346: 'Anorith',\n",
              " 347: 'Armaldo',\n",
              " 348: 'Feebas',\n",
              " 349: 'Milotic',\n",
              " 350: 'Castform',\n",
              " 351: 'Kecleon',\n",
              " 352: 'Shuppet',\n",
              " 353: 'Banette',\n",
              " 354: 'Duskull',\n",
              " 355: 'Dusclops',\n",
              " 356: 'Tropius',\n",
              " 357: 'Chimecho',\n",
              " 358: 'Absol',\n",
              " 359: 'Wynaut',\n",
              " 360: 'Snorunt',\n",
              " 361: 'Glalie',\n",
              " 362: 'Spheal',\n",
              " 363: 'Sealeo',\n",
              " 364: 'Walrein',\n",
              " 365: 'Clamperl',\n",
              " 366: 'Huntail',\n",
              " 367: 'Gorebyss',\n",
              " 368: 'Relicanth',\n",
              " 369: 'Luvdisc',\n",
              " 370: 'Bagon',\n",
              " 371: 'Shelgon',\n",
              " 372: 'Salamence',\n",
              " 373: 'Beldum',\n",
              " 374: 'Metang',\n",
              " 375: 'Metagross',\n",
              " 376: 'Regirock',\n",
              " 377: 'Regice',\n",
              " 378: 'Registeel',\n",
              " 379: 'Latias',\n",
              " 380: 'Latios',\n",
              " 381: 'Kyogre',\n",
              " 382: 'Groudon',\n",
              " 383: 'Rayquaza',\n",
              " 384: 'Jirachi',\n",
              " 385: 'Deoxys',\n",
              " 386: 'Turtwig',\n",
              " 387: 'Grotle',\n",
              " 388: 'Torterra',\n",
              " 389: 'Chimchar',\n",
              " 390: 'Monferno',\n",
              " 391: 'Infernape',\n",
              " 392: 'Piplup',\n",
              " 393: 'Prinplup',\n",
              " 394: 'Empoleon',\n",
              " 395: 'Starly',\n",
              " 396: 'Staravia',\n",
              " 397: 'Staraptor',\n",
              " 398: 'Bidoof',\n",
              " 399: 'Bibarel',\n",
              " 400: 'Kricketot',\n",
              " 401: 'Kricketune',\n",
              " 402: 'Shinx',\n",
              " 403: 'Luxio',\n",
              " 404: 'Luxray',\n",
              " 405: 'Budew',\n",
              " 406: 'Roserade',\n",
              " 407: 'Cranidos',\n",
              " 408: 'Rampardos',\n",
              " 409: 'Shieldon',\n",
              " 410: 'Bastiodon',\n",
              " 411: 'Burmy',\n",
              " 412: 'Wormadam',\n",
              " 413: 'Mothim',\n",
              " 414: 'Combee',\n",
              " 415: 'Vespiquen',\n",
              " 416: 'Pachirisu',\n",
              " 417: 'Buizel',\n",
              " 418: 'Floatzel',\n",
              " 419: 'Cherubi',\n",
              " 420: 'Cherrim',\n",
              " 421: 'Shellos',\n",
              " 422: 'Gastrodon',\n",
              " 423: 'Ambipom',\n",
              " 424: 'Drifloon',\n",
              " 425: 'Drifblim',\n",
              " 426: 'Buneary',\n",
              " 427: 'Lopunny',\n",
              " 428: 'Mismagius',\n",
              " 429: 'Honchkrow',\n",
              " 430: 'Glameow',\n",
              " 431: 'Purugly',\n",
              " 432: 'Chingling',\n",
              " 433: 'Stunky',\n",
              " 434: 'Skuntank',\n",
              " 435: 'Bronzor',\n",
              " 436: 'Bronzong',\n",
              " 437: 'Bonsly',\n",
              " 438: 'Mime Jr.',\n",
              " 439: 'Happiny',\n",
              " 440: 'Chatot',\n",
              " 441: 'Spiritomb',\n",
              " 442: 'Gible',\n",
              " 443: 'Gabite',\n",
              " 444: 'Garchomp',\n",
              " 445: 'Munchlax',\n",
              " 446: 'Riolu',\n",
              " 447: 'Lucario',\n",
              " 448: 'Hippopotas',\n",
              " 449: 'Hippowdon',\n",
              " 450: 'Skorupi',\n",
              " 451: 'Drapion',\n",
              " 452: 'Croagunk',\n",
              " 453: 'Toxicroak',\n",
              " 454: 'Carnivine',\n",
              " 455: 'Finneon',\n",
              " 456: 'Lumineon',\n",
              " 457: 'Mantyke',\n",
              " 458: 'Snover',\n",
              " 459: 'Abomasnow',\n",
              " 460: 'Weavile',\n",
              " 461: 'Magnezone',\n",
              " 462: 'Lickilicky',\n",
              " 463: 'Rhyperior',\n",
              " 464: 'Tangrowth',\n",
              " 465: 'Electivire',\n",
              " 466: 'Magmortar',\n",
              " 467: 'Togekiss',\n",
              " 468: 'Yanmega',\n",
              " 469: 'Leafeon',\n",
              " 470: 'Glaceon',\n",
              " 471: 'Gliscor',\n",
              " 472: 'Mamoswine',\n",
              " 473: 'Porygon-Z',\n",
              " 474: 'Gallade',\n",
              " 475: 'Probopass',\n",
              " 476: 'Dusknoir',\n",
              " 477: 'Froslass',\n",
              " 478: 'Rotom',\n",
              " 479: 'Uxie',\n",
              " 480: 'Mesprit',\n",
              " 481: 'Azelf',\n",
              " 482: 'Dialga',\n",
              " 483: 'Palkia',\n",
              " 484: 'Heatran',\n",
              " 485: 'Regigigas',\n",
              " 486: 'Giratina',\n",
              " 487: 'Cresselia',\n",
              " 488: 'Phione',\n",
              " 489: 'Manaphy',\n",
              " 490: 'Darkrai',\n",
              " 491: 'Shaymin',\n",
              " 492: 'Arceus',\n",
              " 493: 'Victini',\n",
              " 494: 'Snivy',\n",
              " 495: 'Servine',\n",
              " 496: 'Serperior',\n",
              " 497: 'Tepig',\n",
              " 498: 'Pignite',\n",
              " 499: 'Emboar',\n",
              " 500: 'Oshawott',\n",
              " 501: 'Dewott',\n",
              " 502: 'Samurott',\n",
              " 503: 'Patrat',\n",
              " 504: 'Watchog',\n",
              " 505: 'Lillipup',\n",
              " 506: 'Herdier',\n",
              " 507: 'Stoutland',\n",
              " 508: 'Purrloin',\n",
              " 509: 'Liepard',\n",
              " 510: 'Pansage',\n",
              " 511: 'Simisage',\n",
              " 512: 'Pansear',\n",
              " 513: 'Simisear',\n",
              " 514: 'Panpour',\n",
              " 515: 'Simipour',\n",
              " 516: 'Munna',\n",
              " 517: 'Musharna',\n",
              " 518: 'Pidove',\n",
              " 519: 'Tranquill',\n",
              " 520: 'Unfezant',\n",
              " 521: 'Blitzle',\n",
              " 522: 'Zebstrika',\n",
              " 523: 'Roggenrola',\n",
              " 524: 'Boldore',\n",
              " 525: 'Gigalith',\n",
              " 526: 'Woobat',\n",
              " 527: 'Swoobat',\n",
              " 528: 'Drilbur',\n",
              " 529: 'Excadrill',\n",
              " 530: 'Audino',\n",
              " 531: 'Timburr',\n",
              " 532: 'Gurdurr',\n",
              " 533: 'Conkeldurr',\n",
              " 534: 'Tympole',\n",
              " 535: 'Palpitoad',\n",
              " 536: 'Seismitoad',\n",
              " 537: 'Throh',\n",
              " 538: 'Sawk',\n",
              " 539: 'Sewaddle',\n",
              " 540: 'Swadloon',\n",
              " 541: 'Leavanny',\n",
              " 542: 'Venipede',\n",
              " 543: 'Whirlipede',\n",
              " 544: 'Scolipede',\n",
              " 545: 'Cottonee',\n",
              " 546: 'Whimsicott',\n",
              " 547: 'Petilil',\n",
              " 548: 'Lilligant',\n",
              " 549: 'Basculin',\n",
              " 550: 'Sandile',\n",
              " 551: 'Krokorok',\n",
              " 552: 'Krookodile',\n",
              " 553: 'Darumaka',\n",
              " 554: 'Darmanitan',\n",
              " 555: 'Maractus',\n",
              " 556: 'Dwebble',\n",
              " 557: 'Crustle',\n",
              " 558: 'Scraggy',\n",
              " 559: 'Scrafty',\n",
              " 560: 'Sigilyph',\n",
              " 561: 'Yamask',\n",
              " 562: 'Cofagrigus',\n",
              " 563: 'Tirtouga',\n",
              " 564: 'Carracosta',\n",
              " 565: 'Archen',\n",
              " 566: 'Archeops',\n",
              " 567: 'Trubbish',\n",
              " 568: 'Garbodor',\n",
              " 569: 'Zorua',\n",
              " 570: 'Zoroark',\n",
              " 571: 'Minccino',\n",
              " 572: 'Cinccino',\n",
              " 573: 'Gothita',\n",
              " 574: 'Gothorita',\n",
              " 575: 'Gothitelle',\n",
              " 576: 'Solosis',\n",
              " 577: 'Duosion',\n",
              " 578: 'Reuniclus',\n",
              " 579: 'Ducklett',\n",
              " 580: 'Swanna',\n",
              " 581: 'Vanillite',\n",
              " 582: 'Vanillish',\n",
              " 583: 'Vanilluxe',\n",
              " 584: 'Deerling',\n",
              " 585: 'Sawsbuck',\n",
              " 586: 'Emolga',\n",
              " 587: 'Karrablast',\n",
              " 588: 'Escavalier',\n",
              " 589: 'Foongus',\n",
              " 590: 'Amoonguss',\n",
              " 591: 'Frillish',\n",
              " 592: 'Jellicent',\n",
              " 593: 'Alomomola',\n",
              " 594: 'Joltik',\n",
              " 595: 'Galvantula',\n",
              " 596: 'Ferroseed',\n",
              " 597: 'Ferrothorn',\n",
              " 598: 'Klink',\n",
              " 599: 'Klang',\n",
              " 600: 'Klinklang',\n",
              " 601: 'Tynamo',\n",
              " 602: 'Eelektrik',\n",
              " 603: 'Eelektross',\n",
              " 604: 'Elgyem',\n",
              " 605: 'Beheeyem',\n",
              " 606: 'Litwick',\n",
              " 607: 'Lampent',\n",
              " 608: 'Chandelure',\n",
              " 609: 'Axew',\n",
              " 610: 'Fraxure',\n",
              " 611: 'Haxorus',\n",
              " 612: 'Cubchoo',\n",
              " 613: 'Beartic',\n",
              " 614: 'Cryogonal',\n",
              " 615: 'Shelmet',\n",
              " 616: 'Accelgor',\n",
              " 617: 'Stunfisk',\n",
              " 618: 'Mienfoo',\n",
              " 619: 'Mienshao',\n",
              " 620: 'Druddigon',\n",
              " 621: 'Golett',\n",
              " 622: 'Golurk',\n",
              " 623: 'Pawniard',\n",
              " 624: 'Bisharp',\n",
              " 625: 'Bouffalant',\n",
              " 626: 'Rufflet',\n",
              " 627: 'Braviary',\n",
              " 628: 'Vullaby',\n",
              " 629: 'Mandibuzz',\n",
              " 630: 'Heatmor',\n",
              " 631: 'Durant',\n",
              " 632: 'Deino',\n",
              " 633: 'Zweilous',\n",
              " 634: 'Hydreigon',\n",
              " 635: 'Larvesta',\n",
              " 636: 'Volcarona',\n",
              " 637: 'Cobalion',\n",
              " 638: 'Terrakion',\n",
              " 639: 'Virizion',\n",
              " 640: 'Tornadus',\n",
              " 641: 'Thundurus',\n",
              " 642: 'Reshiram',\n",
              " 643: 'Zekrom',\n",
              " 644: 'Landorus',\n",
              " 645: 'Kyurem',\n",
              " 646: 'Keldeo',\n",
              " 647: 'Meloetta',\n",
              " 648: 'Genesect',\n",
              " 649: 'Chespin',\n",
              " 650: 'Quilladin',\n",
              " 651: 'Chesnaught',\n",
              " 652: 'Fennekin',\n",
              " 653: 'Braixen',\n",
              " 654: 'Delphox',\n",
              " 655: 'Froakie',\n",
              " 656: 'Frogadier',\n",
              " 657: 'Greninja',\n",
              " 658: 'Bunnelby',\n",
              " 659: 'Diggersby',\n",
              " 660: 'Fletchling',\n",
              " 661: 'Fletchinder',\n",
              " 662: 'Talonflame',\n",
              " 663: 'Scatterbug',\n",
              " 664: 'Spewpa',\n",
              " 665: 'Vivillon',\n",
              " 666: 'Litleo',\n",
              " 667: 'Pyroar',\n",
              " 668: 'Flabébé',\n",
              " 669: 'Floette',\n",
              " 670: 'Florges',\n",
              " 671: 'Skiddo',\n",
              " 672: 'Gogoat',\n",
              " 673: 'Pancham',\n",
              " 674: 'Pangoro',\n",
              " 675: 'Furfrou',\n",
              " 676: 'Espurr',\n",
              " 677: 'Meowstic',\n",
              " 678: 'Honedge',\n",
              " 679: 'Doublade',\n",
              " 680: 'Aegislash',\n",
              " 681: 'Spritzee',\n",
              " 682: 'Aromatisse',\n",
              " 683: 'Swirlix',\n",
              " 684: 'Slurpuff',\n",
              " 685: 'Inkay',\n",
              " 686: 'Malamar',\n",
              " 687: 'Binacle',\n",
              " 688: 'Barbaracle',\n",
              " 689: 'Skrelp',\n",
              " 690: 'Dragalge',\n",
              " 691: 'Clauncher',\n",
              " 692: 'Clawitzer',\n",
              " 693: 'Helioptile',\n",
              " 694: 'Heliolisk',\n",
              " 695: 'Tyrunt',\n",
              " 696: 'Tyrantrum',\n",
              " 697: 'Amaura',\n",
              " 698: 'Aurorus',\n",
              " 699: 'Sylveon',\n",
              " 700: 'Hawlucha',\n",
              " 701: 'Dedenne',\n",
              " 702: 'Carbink',\n",
              " 703: 'Goomy',\n",
              " 704: 'Sliggoo',\n",
              " 705: 'Goodra',\n",
              " 706: 'Klefki',\n",
              " 707: 'Phantump',\n",
              " 708: 'Trevenant',\n",
              " 709: 'Pumpkaboo',\n",
              " 710: 'Gourgeist',\n",
              " 711: 'Bergmite',\n",
              " 712: 'Avalugg',\n",
              " 713: 'Noibat',\n",
              " 714: 'Noivern',\n",
              " 715: 'Xerneas',\n",
              " 716: 'Yveltal',\n",
              " 717: 'Zygarde',\n",
              " 718: 'Diancie',\n",
              " 719: 'Hoopa',\n",
              " 720: 'Volcanion'}"
            ]
          },
          "metadata": {},
          "execution_count": 75
        }
      ]
    },
    {
      "cell_type": "code",
      "source": [
        "# return highest and lowest stock values\n",
        "print(google.max())\n",
        "print(google.min())"
      ],
      "metadata": {
        "colab": {
          "base_uri": "https://localhost:8080/"
        },
        "id": "x6gLaUioo1Zl",
        "outputId": "f20b2bfc-88fd-4815-d6f8-a4278c8a6c75"
      },
      "execution_count": 76,
      "outputs": [
        {
          "output_type": "stream",
          "name": "stdout",
          "text": [
            "782.22\n",
            "49.95\n"
          ]
        }
      ]
    },
    {
      "cell_type": "code",
      "source": [
        "# above is equivalent to:\n",
        "print(max(google))\n",
        "print(min(google))"
      ],
      "metadata": {
        "colab": {
          "base_uri": "https://localhost:8080/"
        },
        "id": "RYug1hsfpu4R",
        "outputId": "56da3346-9e7c-4f56-eddf-a9606d6f2d53"
      },
      "execution_count": 77,
      "outputs": [
        {
          "output_type": "stream",
          "name": "stdout",
          "text": [
            "782.22\n",
            "49.95\n"
          ]
        }
      ]
    },
    {
      "cell_type": "markdown",
      "source": [
        "## The .sort_values() method"
      ],
      "metadata": {
        "id": "WE8tKLvmp9nN"
      }
    },
    {
      "cell_type": "code",
      "source": [
        "# sort pokemon alphabetically\n",
        "pokemon.sort_values()"
      ],
      "metadata": {
        "colab": {
          "base_uri": "https://localhost:8080/"
        },
        "id": "SLiUrK-zpyow",
        "outputId": "933549e1-cc94-4285-fcf6-85af0d868798"
      },
      "execution_count": 78,
      "outputs": [
        {
          "output_type": "execute_result",
          "data": {
            "text/plain": [
              "459    Abomasnow\n",
              "62          Abra\n",
              "358        Absol\n",
              "616     Accelgor\n",
              "680    Aegislash\n",
              "         ...    \n",
              "570      Zoroark\n",
              "569        Zorua\n",
              "40         Zubat\n",
              "633     Zweilous\n",
              "717      Zygarde\n",
              "Name: Pokemon, Length: 721, dtype: object"
            ]
          },
          "metadata": {},
          "execution_count": 78
        }
      ]
    },
    {
      "cell_type": "code",
      "source": [
        "# method chaining\n",
        "(\n",
        "    pokemon\n",
        "      .sort_values()   # sort alphabetically\n",
        "      .head()          # view first entries\n",
        ")"
      ],
      "metadata": {
        "colab": {
          "base_uri": "https://localhost:8080/"
        },
        "id": "SzGyfaqrqOAz",
        "outputId": "08db5c70-8dd7-46c1-9646-c108f30f9a65"
      },
      "execution_count": 79,
      "outputs": [
        {
          "output_type": "execute_result",
          "data": {
            "text/plain": [
              "459    Abomasnow\n",
              "62          Abra\n",
              "358        Absol\n",
              "616     Accelgor\n",
              "680    Aegislash\n",
              "Name: Pokemon, dtype: object"
            ]
          },
          "metadata": {},
          "execution_count": 79
        }
      ]
    },
    {
      "cell_type": "code",
      "source": [
        "# sort in descending order\n",
        "(\n",
        "    pokemon\n",
        "      .sort_values(ascending = False)    # reverse alphabetical order\n",
        "      .head(n = 5)\n",
        ")"
      ],
      "metadata": {
        "colab": {
          "base_uri": "https://localhost:8080/"
        },
        "id": "Yd_jnG6NqY5J",
        "outputId": "55863ef4-27b0-48b9-b986-0a261edd36ac"
      },
      "execution_count": 80,
      "outputs": [
        {
          "output_type": "execute_result",
          "data": {
            "text/plain": [
              "717     Zygarde\n",
              "633    Zweilous\n",
              "40        Zubat\n",
              "569       Zorua\n",
              "570     Zoroark\n",
              "Name: Pokemon, dtype: object"
            ]
          },
          "metadata": {},
          "execution_count": 80
        }
      ]
    },
    {
      "cell_type": "code",
      "source": [
        "# sort google stock prices\n",
        "(\n",
        "    google\n",
        "      .sort_values(ascending = True)\n",
        ")"
      ],
      "metadata": {
        "colab": {
          "base_uri": "https://localhost:8080/"
        },
        "id": "bmPUeq32qm7S",
        "outputId": "0aaa5c1d-a578-4cbb-a809-059a4590cb40"
      },
      "execution_count": 81,
      "outputs": [
        {
          "output_type": "execute_result",
          "data": {
            "text/plain": [
              "11       49.95\n",
              "9        50.07\n",
              "0        50.12\n",
              "10       50.70\n",
              "12       50.74\n",
              "         ...  \n",
              "3010    771.61\n",
              "3007    772.88\n",
              "3009    773.18\n",
              "2859    776.60\n",
              "3011    782.22\n",
              "Name: Stock Price, Length: 3012, dtype: float64"
            ]
          },
          "metadata": {},
          "execution_count": 81
        }
      ]
    },
    {
      "cell_type": "code",
      "source": [
        "# note that index moves with the sort\n",
        "# 11 was in position 11"
      ],
      "metadata": {
        "id": "_I3M52sQqwQv"
      },
      "execution_count": 82,
      "outputs": []
    },
    {
      "cell_type": "code",
      "source": [
        "# from highest to lowest stock price\n",
        "(\n",
        "    google\n",
        "      .sort_values(ascending = False)\n",
        ")"
      ],
      "metadata": {
        "colab": {
          "base_uri": "https://localhost:8080/"
        },
        "id": "96WCX3etq9IO",
        "outputId": "596b8339-6b8f-4cb3-8db7-0bed7d9f6dc8"
      },
      "execution_count": 83,
      "outputs": [
        {
          "output_type": "execute_result",
          "data": {
            "text/plain": [
              "3011    782.22\n",
              "2859    776.60\n",
              "3009    773.18\n",
              "3007    772.88\n",
              "3010    771.61\n",
              "         ...  \n",
              "12       50.74\n",
              "10       50.70\n",
              "0        50.12\n",
              "9        50.07\n",
              "11       49.95\n",
              "Name: Stock Price, Length: 3012, dtype: float64"
            ]
          },
          "metadata": {},
          "execution_count": 83
        }
      ]
    },
    {
      "cell_type": "markdown",
      "source": [
        "## The sort_index() method"
      ],
      "metadata": {
        "id": "z1GmXS5psVdn"
      }
    },
    {
      "cell_type": "code",
      "source": [
        "# pokemon series, but pokemon is index and type is entry\n",
        "pokemon2 = (\n",
        "    pd.read_csv(\n",
        "        'https://raw.githubusercontent.com/jack-cao-623/python_learning/main/pandas/pokemon.csv',\n",
        "        index_col = 'Pokemon'\n",
        "    )\n",
        "      .squeeze(axis = 'columns')  # convert DataFrame to Series\n",
        ")\n",
        "\n",
        "pokemon2"
      ],
      "metadata": {
        "colab": {
          "base_uri": "https://localhost:8080/"
        },
        "id": "UdTvrnrnq_ft",
        "outputId": "793f6b85-8201-42fc-bf80-ccb143409c75"
      },
      "execution_count": 84,
      "outputs": [
        {
          "output_type": "execute_result",
          "data": {
            "text/plain": [
              "Pokemon\n",
              "Bulbasaur       Grass\n",
              "Ivysaur         Grass\n",
              "Venusaur        Grass\n",
              "Charmander       Fire\n",
              "Charmeleon       Fire\n",
              "               ...   \n",
              "Yveltal          Dark\n",
              "Zygarde        Dragon\n",
              "Diancie          Rock\n",
              "Hoopa         Psychic\n",
              "Volcanion        Fire\n",
              "Name: Type, Length: 721, dtype: object"
            ]
          },
          "metadata": {},
          "execution_count": 84
        }
      ]
    },
    {
      "cell_type": "code",
      "source": [
        "# sort index\n",
        "pokemon2.sort_index(ascending = True)"
      ],
      "metadata": {
        "colab": {
          "base_uri": "https://localhost:8080/"
        },
        "id": "TZ-qOs7bsb5u",
        "outputId": "1fa95a2a-a8f2-4e6d-f891-c1f0a7e7f9a3"
      },
      "execution_count": 85,
      "outputs": [
        {
          "output_type": "execute_result",
          "data": {
            "text/plain": [
              "Pokemon\n",
              "Abomasnow      Grass\n",
              "Abra         Psychic\n",
              "Absol           Dark\n",
              "Accelgor         Bug\n",
              "Aegislash      Steel\n",
              "              ...   \n",
              "Zoroark         Dark\n",
              "Zorua           Dark\n",
              "Zubat         Poison\n",
              "Zweilous        Dark\n",
              "Zygarde       Dragon\n",
              "Name: Type, Length: 721, dtype: object"
            ]
          },
          "metadata": {},
          "execution_count": 85
        }
      ]
    },
    {
      "cell_type": "code",
      "source": [
        "# sort reverse alphabetical order\n",
        "(\n",
        "    pokemon2\n",
        "      .sort_index(ascending = False)\n",
        ")"
      ],
      "metadata": {
        "colab": {
          "base_uri": "https://localhost:8080/"
        },
        "id": "WzZ-KjCTtsaU",
        "outputId": "675f5084-c864-4a9a-f15f-e7c7a23b85b7"
      },
      "execution_count": 86,
      "outputs": [
        {
          "output_type": "execute_result",
          "data": {
            "text/plain": [
              "Pokemon\n",
              "Zygarde       Dragon\n",
              "Zweilous        Dark\n",
              "Zubat         Poison\n",
              "Zorua           Dark\n",
              "Zoroark         Dark\n",
              "              ...   \n",
              "Aegislash      Steel\n",
              "Accelgor         Bug\n",
              "Absol           Dark\n",
              "Abra         Psychic\n",
              "Abomasnow      Grass\n",
              "Name: Type, Length: 721, dtype: object"
            ]
          },
          "metadata": {},
          "execution_count": 86
        }
      ]
    },
    {
      "cell_type": "markdown",
      "source": [
        "## Check for Inclusion with Python's in keyword"
      ],
      "metadata": {
        "id": "ZETp5758vCay"
      }
    },
    {
      "cell_type": "code",
      "source": [
        "pokemon # we'll work this series"
      ],
      "metadata": {
        "colab": {
          "base_uri": "https://localhost:8080/"
        },
        "id": "wEfmLF9pt8S3",
        "outputId": "b17f8d86-2c76-43f8-d6da-ac5e9146205f"
      },
      "execution_count": 87,
      "outputs": [
        {
          "output_type": "execute_result",
          "data": {
            "text/plain": [
              "0       Bulbasaur\n",
              "1         Ivysaur\n",
              "2        Venusaur\n",
              "3      Charmander\n",
              "4      Charmeleon\n",
              "          ...    \n",
              "716       Yveltal\n",
              "717       Zygarde\n",
              "718       Diancie\n",
              "719         Hoopa\n",
              "720     Volcanion\n",
              "Name: Pokemon, Length: 721, dtype: object"
            ]
          },
          "metadata": {},
          "execution_count": 87
        }
      ]
    },
    {
      "cell_type": "code",
      "source": [
        "# is 'car' in 'racecar'\n",
        "'car' in 'racecar'"
      ],
      "metadata": {
        "colab": {
          "base_uri": "https://localhost:8080/"
        },
        "id": "zENP2EODvGun",
        "outputId": "0babe85a-52dc-47af-fb4c-de49141b1fe0"
      },
      "execution_count": 88,
      "outputs": [
        {
          "output_type": "execute_result",
          "data": {
            "text/plain": [
              "True"
            ]
          },
          "metadata": {},
          "execution_count": 88
        }
      ]
    },
    {
      "cell_type": "code",
      "source": [
        "# is 2 in [1, 2, 3]\n",
        "2 in [1, 2, 3]"
      ],
      "metadata": {
        "colab": {
          "base_uri": "https://localhost:8080/"
        },
        "id": "-YPA6ryHvKIA",
        "outputId": "483b041f-a15f-4e63-fd25-89af9d51fdc1"
      },
      "execution_count": 89,
      "outputs": [
        {
          "output_type": "execute_result",
          "data": {
            "text/plain": [
              "True"
            ]
          },
          "metadata": {},
          "execution_count": 89
        }
      ]
    },
    {
      "cell_type": "code",
      "source": [
        "# by default, in checks in series index, not series values\n",
        "'Bulbasaur' in pokemon\n",
        "  # False because 'Bulbasaur' isn't in the index"
      ],
      "metadata": {
        "colab": {
          "base_uri": "https://localhost:8080/"
        },
        "id": "jTgnZRscvYBK",
        "outputId": "1a32fd65-3e67-4e2d-8e0b-a5961e891427"
      },
      "execution_count": 90,
      "outputs": [
        {
          "output_type": "execute_result",
          "data": {
            "text/plain": [
              "False"
            ]
          },
          "metadata": {},
          "execution_count": 90
        }
      ]
    },
    {
      "cell_type": "code",
      "source": [
        "100 in pokemon\n",
        "  # True because 100 is an index in pokemon Series"
      ],
      "metadata": {
        "colab": {
          "base_uri": "https://localhost:8080/"
        },
        "id": "FAYFD7kXvfVL",
        "outputId": "167e16ea-17a5-4e78-91c4-da3627518fb4"
      },
      "execution_count": 91,
      "outputs": [
        {
          "output_type": "execute_result",
          "data": {
            "text/plain": [
              "True"
            ]
          },
          "metadata": {},
          "execution_count": 91
        }
      ]
    },
    {
      "cell_type": "code",
      "source": [
        "# above is equivalent to:\n",
        "100 in pokemon.index"
      ],
      "metadata": {
        "colab": {
          "base_uri": "https://localhost:8080/"
        },
        "id": "L3jH3ZbUvk4D",
        "outputId": "43a81da0-e0fc-4b70-e4a7-6e6d286f9894"
      },
      "execution_count": 92,
      "outputs": [
        {
          "output_type": "execute_result",
          "data": {
            "text/plain": [
              "True"
            ]
          },
          "metadata": {},
          "execution_count": 92
        }
      ]
    },
    {
      "cell_type": "code",
      "source": [
        "# check if 'Bulbasaur' is in pokemon values\n",
        "'Bulbasaur' in pokemon.values"
      ],
      "metadata": {
        "colab": {
          "base_uri": "https://localhost:8080/"
        },
        "id": "aU-V1k3Jvp__",
        "outputId": "cfe4400f-290b-43f1-965a-662c04821dab"
      },
      "execution_count": 93,
      "outputs": [
        {
          "output_type": "execute_result",
          "data": {
            "text/plain": [
              "True"
            ]
          },
          "metadata": {},
          "execution_count": 93
        }
      ]
    },
    {
      "cell_type": "code",
      "source": [
        "# check if 'Mewtwo' is in pokemon\n",
        "'Mewtwo' in pokemon.values"
      ],
      "metadata": {
        "colab": {
          "base_uri": "https://localhost:8080/"
        },
        "id": "Rj5anZtCv00M",
        "outputId": "71b017b5-9d3a-4344-8b6a-dbf8a5275a89"
      },
      "execution_count": 94,
      "outputs": [
        {
          "output_type": "execute_result",
          "data": {
            "text/plain": [
              "True"
            ]
          },
          "metadata": {},
          "execution_count": 94
        }
      ]
    },
    {
      "cell_type": "code",
      "source": [
        "# check if 'Darth Vader' is in pokemon\n",
        "'Darth Vader' in pokemon.values"
      ],
      "metadata": {
        "colab": {
          "base_uri": "https://localhost:8080/"
        },
        "id": "Mj38uatmv6eU",
        "outputId": "6575a131-0adf-4a27-88dd-334a3af2e3d4"
      },
      "execution_count": 95,
      "outputs": [
        {
          "output_type": "execute_result",
          "data": {
            "text/plain": [
              "False"
            ]
          },
          "metadata": {},
          "execution_count": 95
        }
      ]
    },
    {
      "cell_type": "markdown",
      "source": [
        "## Exract Series Value by Index Position"
      ],
      "metadata": {
        "id": "9iGGzOiCxKES"
      }
    },
    {
      "cell_type": "code",
      "source": [
        "# extract value in first index\n",
        "pokemon[0]"
      ],
      "metadata": {
        "colab": {
          "base_uri": "https://localhost:8080/",
          "height": 0
        },
        "id": "GbniZkvdv_bq",
        "outputId": "987fa4f3-83a4-47a4-8873-812903e93851"
      },
      "execution_count": 96,
      "outputs": [
        {
          "output_type": "execute_result",
          "data": {
            "text/plain": [
              "'Bulbasaur'"
            ],
            "application/vnd.google.colaboratory.intrinsic+json": {
              "type": "string"
            }
          },
          "metadata": {},
          "execution_count": 96
        }
      ]
    },
    {
      "cell_type": "code",
      "source": [
        "# above is equivalent to\n",
        "pokemon.iloc[0]"
      ],
      "metadata": {
        "colab": {
          "base_uri": "https://localhost:8080/",
          "height": 0
        },
        "id": "n6f_pUB7xeSn",
        "outputId": "c671d400-df15-4a2a-92de-cc8c3d38d2c1"
      },
      "execution_count": 97,
      "outputs": [
        {
          "output_type": "execute_result",
          "data": {
            "text/plain": [
              "'Bulbasaur'"
            ],
            "application/vnd.google.colaboratory.intrinsic+json": {
              "type": "string"
            }
          },
          "metadata": {},
          "execution_count": 97
        }
      ]
    },
    {
      "cell_type": "code",
      "source": [
        "# slices\n",
        "pokemon[0:10] # 0 thru 9"
      ],
      "metadata": {
        "colab": {
          "base_uri": "https://localhost:8080/"
        },
        "id": "3ZTM-lSUxfu2",
        "outputId": "03c4efdd-6708-4816-f720-ccf44b3385be"
      },
      "execution_count": 98,
      "outputs": [
        {
          "output_type": "execute_result",
          "data": {
            "text/plain": [
              "0     Bulbasaur\n",
              "1       Ivysaur\n",
              "2      Venusaur\n",
              "3    Charmander\n",
              "4    Charmeleon\n",
              "5     Charizard\n",
              "6      Squirtle\n",
              "7     Wartortle\n",
              "8     Blastoise\n",
              "9      Caterpie\n",
              "Name: Pokemon, dtype: object"
            ]
          },
          "metadata": {},
          "execution_count": 98
        }
      ]
    },
    {
      "cell_type": "code",
      "source": [
        "# above is equivalent to:\n",
        "pokemon[:10]"
      ],
      "metadata": {
        "colab": {
          "base_uri": "https://localhost:8080/"
        },
        "id": "yst7SFbMxvu1",
        "outputId": "f120424f-08c3-4102-884a-6c14b95f35af"
      },
      "execution_count": 99,
      "outputs": [
        {
          "output_type": "execute_result",
          "data": {
            "text/plain": [
              "0     Bulbasaur\n",
              "1       Ivysaur\n",
              "2      Venusaur\n",
              "3    Charmander\n",
              "4    Charmeleon\n",
              "5     Charizard\n",
              "6      Squirtle\n",
              "7     Wartortle\n",
              "8     Blastoise\n",
              "9      Caterpie\n",
              "Name: Pokemon, dtype: object"
            ]
          },
          "metadata": {},
          "execution_count": 99
        }
      ]
    },
    {
      "cell_type": "code",
      "source": [
        "# get 51 thru 60\n",
        "pokemon[51:61]"
      ],
      "metadata": {
        "colab": {
          "base_uri": "https://localhost:8080/"
        },
        "id": "lKdE2kR1xy52",
        "outputId": "d101fa28-4c8d-45f4-aa45-06f56f12c983"
      },
      "execution_count": 100,
      "outputs": [
        {
          "output_type": "execute_result",
          "data": {
            "text/plain": [
              "51       Meowth\n",
              "52      Persian\n",
              "53      Psyduck\n",
              "54      Golduck\n",
              "55       Mankey\n",
              "56     Primeape\n",
              "57    Growlithe\n",
              "58     Arcanine\n",
              "59      Poliwag\n",
              "60    Poliwhirl\n",
              "Name: Pokemon, dtype: object"
            ]
          },
          "metadata": {},
          "execution_count": 100
        }
      ]
    },
    {
      "cell_type": "code",
      "source": [
        "# pull out values at position 100, 200, and 151\n",
        "pokemon[[100, 200, 151]]"
      ],
      "metadata": {
        "colab": {
          "base_uri": "https://localhost:8080/"
        },
        "id": "eOHsm4eCx1_2",
        "outputId": "278eb1f4-2095-480c-92d8-3efd268e2d04"
      },
      "execution_count": 101,
      "outputs": [
        {
          "output_type": "execute_result",
          "data": {
            "text/plain": [
              "100    Electrode\n",
              "200        Unown\n",
              "151    Chikorita\n",
              "Name: Pokemon, dtype: object"
            ]
          },
          "metadata": {},
          "execution_count": 101
        }
      ]
    },
    {
      "cell_type": "code",
      "source": [
        "# above is equivalent to\n",
        "pokemon.iloc[[100, 200, 151]]"
      ],
      "metadata": {
        "colab": {
          "base_uri": "https://localhost:8080/"
        },
        "id": "cYM4EHfEyL1u",
        "outputId": "ad8f50cc-0e8e-4345-e957-9ea5ebb3488a"
      },
      "execution_count": 102,
      "outputs": [
        {
          "output_type": "execute_result",
          "data": {
            "text/plain": [
              "100    Electrode\n",
              "200        Unown\n",
              "151    Chikorita\n",
              "Name: Pokemon, dtype: object"
            ]
          },
          "metadata": {},
          "execution_count": 102
        }
      ]
    },
    {
      "cell_type": "code",
      "source": [
        "# more slicing\n",
        "pokemon[17:87]"
      ],
      "metadata": {
        "colab": {
          "base_uri": "https://localhost:8080/"
        },
        "id": "NsZ2An66yP7P",
        "outputId": "e093ef10-3f64-4130-81d3-e606083d451b"
      },
      "execution_count": 103,
      "outputs": [
        {
          "output_type": "execute_result",
          "data": {
            "text/plain": [
              "17       Pidgeot\n",
              "18       Rattata\n",
              "19      Raticate\n",
              "20       Spearow\n",
              "21        Fearow\n",
              "         ...    \n",
              "82    Farfetch'd\n",
              "83         Doduo\n",
              "84        Dodrio\n",
              "85          Seel\n",
              "86       Dewgong\n",
              "Name: Pokemon, Length: 70, dtype: object"
            ]
          },
          "metadata": {},
          "execution_count": 103
        }
      ]
    },
    {
      "cell_type": "code",
      "source": [
        "# last 13 values\n",
        "pokemon[-13:]"
      ],
      "metadata": {
        "colab": {
          "base_uri": "https://localhost:8080/"
        },
        "id": "evEgKRI8ybLj",
        "outputId": "b624411b-e99c-49c5-c4af-35d8d88f2925"
      },
      "execution_count": 104,
      "outputs": [
        {
          "output_type": "execute_result",
          "data": {
            "text/plain": [
              "708    Trevenant\n",
              "709    Pumpkaboo\n",
              "710    Gourgeist\n",
              "711     Bergmite\n",
              "712      Avalugg\n",
              "713       Noibat\n",
              "714      Noivern\n",
              "715      Xerneas\n",
              "716      Yveltal\n",
              "717      Zygarde\n",
              "718      Diancie\n",
              "719        Hoopa\n",
              "720    Volcanion\n",
              "Name: Pokemon, dtype: object"
            ]
          },
          "metadata": {},
          "execution_count": 104
        }
      ]
    },
    {
      "cell_type": "code",
      "source": [
        "# above is equivalen to\n",
        "pokemon.tail(n = 13)"
      ],
      "metadata": {
        "colab": {
          "base_uri": "https://localhost:8080/"
        },
        "id": "0GukseMQyfX0",
        "outputId": "6466ba06-61f0-4206-e2b3-1e20bbf7fa8d"
      },
      "execution_count": 105,
      "outputs": [
        {
          "output_type": "execute_result",
          "data": {
            "text/plain": [
              "708    Trevenant\n",
              "709    Pumpkaboo\n",
              "710    Gourgeist\n",
              "711     Bergmite\n",
              "712      Avalugg\n",
              "713       Noibat\n",
              "714      Noivern\n",
              "715      Xerneas\n",
              "716      Yveltal\n",
              "717      Zygarde\n",
              "718      Diancie\n",
              "719        Hoopa\n",
              "720    Volcanion\n",
              "Name: Pokemon, dtype: object"
            ]
          },
          "metadata": {},
          "execution_count": 105
        }
      ]
    },
    {
      "cell_type": "code",
      "source": [
        "# last element of pokemon\n",
        "pokemon.iloc[-1]"
      ],
      "metadata": {
        "colab": {
          "base_uri": "https://localhost:8080/",
          "height": 0
        },
        "id": "W7_xXI7QykKs",
        "outputId": "b2739751-1ad7-4486-82e1-624cd7831041"
      },
      "execution_count": 106,
      "outputs": [
        {
          "output_type": "execute_result",
          "data": {
            "text/plain": [
              "'Volcanion'"
            ],
            "application/vnd.google.colaboratory.intrinsic+json": {
              "type": "string"
            }
          },
          "metadata": {},
          "execution_count": 106
        }
      ]
    },
    {
      "cell_type": "code",
      "source": [
        "# above is equivalento to\n",
        "pokemon[-1:]"
      ],
      "metadata": {
        "colab": {
          "base_uri": "https://localhost:8080/"
        },
        "id": "NsUWhy15y9bK",
        "outputId": "ac7227dd-b7e6-4edb-b22a-82ed8c109f69"
      },
      "execution_count": 107,
      "outputs": [
        {
          "output_type": "execute_result",
          "data": {
            "text/plain": [
              "720    Volcanion\n",
              "Name: Pokemon, dtype: object"
            ]
          },
          "metadata": {},
          "execution_count": 107
        }
      ]
    },
    {
      "cell_type": "code",
      "source": [
        "#pokemon[-1] # won't work"
      ],
      "metadata": {
        "id": "2tx2uIWWzB-Z"
      },
      "execution_count": 108,
      "outputs": []
    },
    {
      "cell_type": "markdown",
      "source": [
        "## Extra Series value by Index Label"
      ],
      "metadata": {
        "id": "FdtsrdkmzWNc"
      }
    },
    {
      "cell_type": "code",
      "source": [
        "pokemon2"
      ],
      "metadata": {
        "colab": {
          "base_uri": "https://localhost:8080/"
        },
        "id": "a4VZHj9rzG3A",
        "outputId": "9675cb09-dcea-4db9-db52-8fccb2266b3b"
      },
      "execution_count": 109,
      "outputs": [
        {
          "output_type": "execute_result",
          "data": {
            "text/plain": [
              "Pokemon\n",
              "Bulbasaur       Grass\n",
              "Ivysaur         Grass\n",
              "Venusaur        Grass\n",
              "Charmander       Fire\n",
              "Charmeleon       Fire\n",
              "               ...   \n",
              "Yveltal          Dark\n",
              "Zygarde        Dragon\n",
              "Diancie          Rock\n",
              "Hoopa         Psychic\n",
              "Volcanion        Fire\n",
              "Name: Type, Length: 721, dtype: object"
            ]
          },
          "metadata": {},
          "execution_count": 109
        }
      ]
    },
    {
      "cell_type": "code",
      "source": [
        "# pokemon type for 'Bulbasaur'\n",
        "pokemon2['Bulbasaur']"
      ],
      "metadata": {
        "colab": {
          "base_uri": "https://localhost:8080/",
          "height": 0
        },
        "id": "BmNyIlOxzZI4",
        "outputId": "d3c1753a-f001-492f-a069-63e7e3b63347"
      },
      "execution_count": 110,
      "outputs": [
        {
          "output_type": "execute_result",
          "data": {
            "text/plain": [
              "'Grass'"
            ],
            "application/vnd.google.colaboratory.intrinsic+json": {
              "type": "string"
            }
          },
          "metadata": {},
          "execution_count": 110
        }
      ]
    },
    {
      "cell_type": "code",
      "source": [
        "# above is equivalent to:\n",
        "pokemon2.loc['Bulbasaur']"
      ],
      "metadata": {
        "colab": {
          "base_uri": "https://localhost:8080/",
          "height": 0
        },
        "id": "WC8EhOtdzdO3",
        "outputId": "72f49399-6dd7-4475-c85a-b72a0c372141"
      },
      "execution_count": 111,
      "outputs": [
        {
          "output_type": "execute_result",
          "data": {
            "text/plain": [
              "'Grass'"
            ],
            "application/vnd.google.colaboratory.intrinsic+json": {
              "type": "string"
            }
          },
          "metadata": {},
          "execution_count": 111
        }
      ]
    },
    {
      "cell_type": "code",
      "source": [
        "# can also do integer position\n",
        "pokemon2[0]"
      ],
      "metadata": {
        "colab": {
          "base_uri": "https://localhost:8080/",
          "height": 0
        },
        "id": "LPILrm4NzgEg",
        "outputId": "1cfae7f3-7687-47a8-a0e8-d1646843d171"
      },
      "execution_count": 112,
      "outputs": [
        {
          "output_type": "execute_result",
          "data": {
            "text/plain": [
              "'Grass'"
            ],
            "application/vnd.google.colaboratory.intrinsic+json": {
              "type": "string"
            }
          },
          "metadata": {},
          "execution_count": 112
        }
      ]
    },
    {
      "cell_type": "code",
      "source": [
        "# above, we don't see 0 or other numbers for index, but they're \"there\""
      ],
      "metadata": {
        "id": "ukIW-whWznaQ"
      },
      "execution_count": 113,
      "outputs": []
    },
    {
      "cell_type": "code",
      "source": [
        "# pull out multiple parts from pokemon2\n",
        "pokemon2[['Mewtwo', 'Mew', 'Charizard']]"
      ],
      "metadata": {
        "colab": {
          "base_uri": "https://localhost:8080/"
        },
        "id": "BMoea4Dnz8cM",
        "outputId": "8770387e-225b-48e8-bb19-e83c1d949ca4"
      },
      "execution_count": 114,
      "outputs": [
        {
          "output_type": "execute_result",
          "data": {
            "text/plain": [
              "Pokemon\n",
              "Mewtwo       Psychic\n",
              "Mew          Psychic\n",
              "Charizard       Fire\n",
              "Name: Type, dtype: object"
            ]
          },
          "metadata": {},
          "execution_count": 114
        }
      ]
    },
    {
      "cell_type": "code",
      "source": [
        "# every index has a label and a numeric position; can use label or numeric position"
      ],
      "metadata": {
        "id": "o-e5iebs0CHD"
      },
      "execution_count": 115,
      "outputs": []
    },
    {
      "cell_type": "markdown",
      "source": [
        "## The get method\n",
        "- similar to .iloc[] and .loc[]\n",
        "- advantage is there's a default parameter that outputs argument when index isn't in series"
      ],
      "metadata": {
        "id": "OxM2DHim1GxF"
      }
    },
    {
      "cell_type": "code",
      "source": [
        "pokemon2.get(key = 'Bulbasaur', default = 'Not in Series')"
      ],
      "metadata": {
        "id": "NNRJRYVd0bDi",
        "colab": {
          "base_uri": "https://localhost:8080/",
          "height": 35
        },
        "outputId": "8cf94f3b-539f-4a39-d113-64e4551c663c"
      },
      "execution_count": 116,
      "outputs": [
        {
          "output_type": "execute_result",
          "data": {
            "text/plain": [
              "'Grass'"
            ],
            "application/vnd.google.colaboratory.intrinsic+json": {
              "type": "string"
            }
          },
          "metadata": {},
          "execution_count": 116
        }
      ]
    },
    {
      "cell_type": "code",
      "source": [
        "pokemon2.get(key = [0, 5, 10])  # in index 0, 5, and 10"
      ],
      "metadata": {
        "colab": {
          "base_uri": "https://localhost:8080/"
        },
        "id": "pNNVZnosCxwv",
        "outputId": "ff754e4f-d115-4044-c5be-a92badec063e"
      },
      "execution_count": 117,
      "outputs": [
        {
          "output_type": "execute_result",
          "data": {
            "text/plain": [
              "Pokemon\n",
              "Bulbasaur    Grass\n",
              "Charizard     Fire\n",
              "Metapod        Bug\n",
              "Name: Type, dtype: object"
            ]
          },
          "metadata": {},
          "execution_count": 117
        }
      ]
    },
    {
      "cell_type": "code",
      "source": [
        "# above is equivalent to:\n",
        "pokemon2.iloc[[0, 5, 10]]"
      ],
      "metadata": {
        "colab": {
          "base_uri": "https://localhost:8080/"
        },
        "id": "-EpNimAUC4UU",
        "outputId": "5eed041b-1735-419b-ca15-6bbb726e6a53"
      },
      "execution_count": 118,
      "outputs": [
        {
          "output_type": "execute_result",
          "data": {
            "text/plain": [
              "Pokemon\n",
              "Bulbasaur    Grass\n",
              "Charizard     Fire\n",
              "Metapod        Bug\n",
              "Name: Type, dtype: object"
            ]
          },
          "metadata": {},
          "execution_count": 118
        }
      ]
    },
    {
      "cell_type": "code",
      "source": [
        "pokemon2.get(key = ['Charizard', 'Mew'], default = 'Does not exist')"
      ],
      "metadata": {
        "colab": {
          "base_uri": "https://localhost:8080/"
        },
        "id": "a1o2_yguC94L",
        "outputId": "e0f57c16-c59a-46ff-c3aa-6846c0f538f3"
      },
      "execution_count": 119,
      "outputs": [
        {
          "output_type": "execute_result",
          "data": {
            "text/plain": [
              "Pokemon\n",
              "Charizard       Fire\n",
              "Mew          Psychic\n",
              "Name: Type, dtype: object"
            ]
          },
          "metadata": {},
          "execution_count": 119
        }
      ]
    },
    {
      "cell_type": "code",
      "source": [
        "# above is equivalen to:\n",
        "pokemon2.loc[['Charizard', 'Mew']]"
      ],
      "metadata": {
        "colab": {
          "base_uri": "https://localhost:8080/"
        },
        "id": "idY2B-LNDF7Y",
        "outputId": "e749b4b3-6072-40fd-9fa5-73d793e79332"
      },
      "execution_count": 120,
      "outputs": [
        {
          "output_type": "execute_result",
          "data": {
            "text/plain": [
              "Pokemon\n",
              "Charizard       Fire\n",
              "Mew          Psychic\n",
              "Name: Type, dtype: object"
            ]
          },
          "metadata": {},
          "execution_count": 120
        }
      ]
    },
    {
      "cell_type": "code",
      "source": [
        "# some indices are in series; others aren't\n",
        "pokemon2.get(key = ['Charizard', 'Mew', 'Darth Vader'], default = 'Does not exist')"
      ],
      "metadata": {
        "colab": {
          "base_uri": "https://localhost:8080/",
          "height": 35
        },
        "id": "Lzt25Z-JDJJP",
        "outputId": "f3db1181-0f54-4fc1-c741-943193f9cc17"
      },
      "execution_count": 121,
      "outputs": [
        {
          "output_type": "execute_result",
          "data": {
            "text/plain": [
              "'Does not exist'"
            ],
            "application/vnd.google.colaboratory.intrinsic+json": {
              "type": "string"
            }
          },
          "metadata": {},
          "execution_count": 121
        }
      ]
    },
    {
      "cell_type": "code",
      "source": [
        "# above, Charizard and Mew are indices in the series, but Darth Vader isn't"
      ],
      "metadata": {
        "id": "wqcJ90MEDbVq"
      },
      "execution_count": 122,
      "outputs": []
    },
    {
      "cell_type": "markdown",
      "source": [
        "## Override a Series value"
      ],
      "metadata": {
        "id": "JpDGS1rUDfQn"
      }
    },
    {
      "cell_type": "code",
      "source": [
        "pokemon.head()"
      ],
      "metadata": {
        "colab": {
          "base_uri": "https://localhost:8080/"
        },
        "id": "OnebOyYvE9Co",
        "outputId": "90bf6c14-b47a-4149-bc67-345a1fb5692b"
      },
      "execution_count": 123,
      "outputs": [
        {
          "output_type": "execute_result",
          "data": {
            "text/plain": [
              "0     Bulbasaur\n",
              "1       Ivysaur\n",
              "2      Venusaur\n",
              "3    Charmander\n",
              "4    Charmeleon\n",
              "Name: Pokemon, dtype: object"
            ]
          },
          "metadata": {},
          "execution_count": 123
        }
      ]
    },
    {
      "cell_type": "code",
      "source": [
        "# change 'Bulbasaur' to 'bulbasaur', i.e., make it lowecase\n",
        "pokemon.iloc[0] = pokemon.values[0].lower()"
      ],
      "metadata": {
        "id": "fS84cTqQE-TR"
      },
      "execution_count": 124,
      "outputs": []
    },
    {
      "cell_type": "code",
      "source": [
        "pokemon.head()"
      ],
      "metadata": {
        "colab": {
          "base_uri": "https://localhost:8080/"
        },
        "id": "I5teZsXxFGX3",
        "outputId": "316fadbd-37c9-4eb6-901b-e3383af464bd"
      },
      "execution_count": 125,
      "outputs": [
        {
          "output_type": "execute_result",
          "data": {
            "text/plain": [
              "0     bulbasaur\n",
              "1       Ivysaur\n",
              "2      Venusaur\n",
              "3    Charmander\n",
              "4    Charmeleon\n",
              "Name: Pokemon, dtype: object"
            ]
          },
          "metadata": {},
          "execution_count": 125
        }
      ]
    },
    {
      "cell_type": "code",
      "source": [
        "# change Charmander, Charmeleon, and Charizard to charmander, charmeleon,and charizard\n",
        "pokemon.iloc[3:6] = ['charmander', 'charmeleon', 'charizard']"
      ],
      "metadata": {
        "id": "EVuOlJzSFIcn"
      },
      "execution_count": 126,
      "outputs": []
    },
    {
      "cell_type": "code",
      "source": [
        "print(pokemon.iloc[3:6])"
      ],
      "metadata": {
        "colab": {
          "base_uri": "https://localhost:8080/"
        },
        "id": "Jm5JOp3hFSYd",
        "outputId": "9adad781-40f4-47ad-df80-8acc20e36383"
      },
      "execution_count": 127,
      "outputs": [
        {
          "output_type": "stream",
          "name": "stdout",
          "text": [
            "3    charmander\n",
            "4    charmeleon\n",
            "5     charizard\n",
            "Name: Pokemon, dtype: object\n"
          ]
        }
      ]
    },
    {
      "cell_type": "code",
      "source": [
        "pokemon.head(n = 10)"
      ],
      "metadata": {
        "colab": {
          "base_uri": "https://localhost:8080/"
        },
        "id": "3OddTmYzFYc8",
        "outputId": "195e1fdd-b947-4fb2-c59c-5b35802c4d39"
      },
      "execution_count": 128,
      "outputs": [
        {
          "output_type": "execute_result",
          "data": {
            "text/plain": [
              "0     bulbasaur\n",
              "1       Ivysaur\n",
              "2      Venusaur\n",
              "3    charmander\n",
              "4    charmeleon\n",
              "5     charizard\n",
              "6      Squirtle\n",
              "7     Wartortle\n",
              "8     Blastoise\n",
              "9      Caterpie\n",
              "Name: Pokemon, dtype: object"
            ]
          },
          "metadata": {},
          "execution_count": 128
        }
      ]
    },
    {
      "cell_type": "code",
      "source": [
        "# change values for string indices"
      ],
      "metadata": {
        "id": "XkuY1G1-FeLz"
      },
      "execution_count": 129,
      "outputs": []
    },
    {
      "cell_type": "code",
      "source": [
        "pokemon2.head()"
      ],
      "metadata": {
        "colab": {
          "base_uri": "https://localhost:8080/"
        },
        "id": "1pfacFUXFiSq",
        "outputId": "1383842e-3305-47f9-8210-06ad295c113a"
      },
      "execution_count": 130,
      "outputs": [
        {
          "output_type": "execute_result",
          "data": {
            "text/plain": [
              "Pokemon\n",
              "Bulbasaur     Grass\n",
              "Ivysaur       Grass\n",
              "Venusaur      Grass\n",
              "Charmander     Fire\n",
              "Charmeleon     Fire\n",
              "Name: Type, dtype: object"
            ]
          },
          "metadata": {},
          "execution_count": 130
        }
      ]
    },
    {
      "cell_type": "code",
      "source": [
        "# Change Bulbasaur - Grass to - awesome\n",
        "pokemon2['Bulbasaur'] = 'awesome'"
      ],
      "metadata": {
        "id": "e0Fy_VAqFnzW"
      },
      "execution_count": 131,
      "outputs": []
    },
    {
      "cell_type": "code",
      "source": [
        "pokemon2.head()"
      ],
      "metadata": {
        "colab": {
          "base_uri": "https://localhost:8080/"
        },
        "id": "xD-0rF9BFs9F",
        "outputId": "ebeb1a84-fa57-45b0-d931-6029aec72a81"
      },
      "execution_count": 132,
      "outputs": [
        {
          "output_type": "execute_result",
          "data": {
            "text/plain": [
              "Pokemon\n",
              "Bulbasaur     awesome\n",
              "Ivysaur         Grass\n",
              "Venusaur        Grass\n",
              "Charmander       Fire\n",
              "Charmeleon       Fire\n",
              "Name: Type, dtype: object"
            ]
          },
          "metadata": {},
          "execution_count": 132
        }
      ]
    },
    {
      "cell_type": "code",
      "source": [
        "# add a new entry to pokemon\n",
        "pokemon[1500] = 'Darth Vader'"
      ],
      "metadata": {
        "id": "NMqkD-lDFurs"
      },
      "execution_count": 133,
      "outputs": []
    },
    {
      "cell_type": "code",
      "source": [
        "pokemon.tail()"
      ],
      "metadata": {
        "colab": {
          "base_uri": "https://localhost:8080/"
        },
        "id": "GQQmSZnKFzV7",
        "outputId": "0093f3bf-79f2-4126-a680-3071c5c850f7"
      },
      "execution_count": 134,
      "outputs": [
        {
          "output_type": "execute_result",
          "data": {
            "text/plain": [
              "717         Zygarde\n",
              "718         Diancie\n",
              "719           Hoopa\n",
              "720       Volcanion\n",
              "1500    Darth Vader\n",
              "Name: Pokemon, dtype: object"
            ]
          },
          "metadata": {},
          "execution_count": 134
        }
      ]
    },
    {
      "cell_type": "markdown",
      "source": [
        "## The .copy() method"
      ],
      "metadata": {
        "id": "LBSVHvY6F3H0"
      }
    },
    {
      "cell_type": "code",
      "source": [
        "# import pokemon as a dataframe\n",
        "pokemon_df = (\n",
        "    pd.read_csv(\n",
        "        'https://raw.githubusercontent.com/jack-cao-623/python_learning/main/pandas/pokemon.csv',\n",
        "        usecols = ['Pokemon']\n",
        "    )\n",
        ")"
      ],
      "metadata": {
        "id": "25_jHMsSF0XL"
      },
      "execution_count": 135,
      "outputs": []
    },
    {
      "cell_type": "code",
      "source": [
        "pokemon_df.head()"
      ],
      "metadata": {
        "colab": {
          "base_uri": "https://localhost:8080/",
          "height": 206
        },
        "id": "R7Bw8dsHKHUO",
        "outputId": "f4f857bc-65d4-47b5-cb37-f8fae89861b8"
      },
      "execution_count": 136,
      "outputs": [
        {
          "output_type": "execute_result",
          "data": {
            "text/plain": [
              "      Pokemon\n",
              "0   Bulbasaur\n",
              "1     Ivysaur\n",
              "2    Venusaur\n",
              "3  Charmander\n",
              "4  Charmeleon"
            ],
            "text/html": [
              "\n",
              "  <div id=\"df-e12a6507-da27-40c8-8745-55c623b3514e\">\n",
              "    <div class=\"colab-df-container\">\n",
              "      <div>\n",
              "<style scoped>\n",
              "    .dataframe tbody tr th:only-of-type {\n",
              "        vertical-align: middle;\n",
              "    }\n",
              "\n",
              "    .dataframe tbody tr th {\n",
              "        vertical-align: top;\n",
              "    }\n",
              "\n",
              "    .dataframe thead th {\n",
              "        text-align: right;\n",
              "    }\n",
              "</style>\n",
              "<table border=\"1\" class=\"dataframe\">\n",
              "  <thead>\n",
              "    <tr style=\"text-align: right;\">\n",
              "      <th></th>\n",
              "      <th>Pokemon</th>\n",
              "    </tr>\n",
              "  </thead>\n",
              "  <tbody>\n",
              "    <tr>\n",
              "      <th>0</th>\n",
              "      <td>Bulbasaur</td>\n",
              "    </tr>\n",
              "    <tr>\n",
              "      <th>1</th>\n",
              "      <td>Ivysaur</td>\n",
              "    </tr>\n",
              "    <tr>\n",
              "      <th>2</th>\n",
              "      <td>Venusaur</td>\n",
              "    </tr>\n",
              "    <tr>\n",
              "      <th>3</th>\n",
              "      <td>Charmander</td>\n",
              "    </tr>\n",
              "    <tr>\n",
              "      <th>4</th>\n",
              "      <td>Charmeleon</td>\n",
              "    </tr>\n",
              "  </tbody>\n",
              "</table>\n",
              "</div>\n",
              "      <button class=\"colab-df-convert\" onclick=\"convertToInteractive('df-e12a6507-da27-40c8-8745-55c623b3514e')\"\n",
              "              title=\"Convert this dataframe to an interactive table.\"\n",
              "              style=\"display:none;\">\n",
              "        \n",
              "  <svg xmlns=\"http://www.w3.org/2000/svg\" height=\"24px\"viewBox=\"0 0 24 24\"\n",
              "       width=\"24px\">\n",
              "    <path d=\"M0 0h24v24H0V0z\" fill=\"none\"/>\n",
              "    <path d=\"M18.56 5.44l.94 2.06.94-2.06 2.06-.94-2.06-.94-.94-2.06-.94 2.06-2.06.94zm-11 1L8.5 8.5l.94-2.06 2.06-.94-2.06-.94L8.5 2.5l-.94 2.06-2.06.94zm10 10l.94 2.06.94-2.06 2.06-.94-2.06-.94-.94-2.06-.94 2.06-2.06.94z\"/><path d=\"M17.41 7.96l-1.37-1.37c-.4-.4-.92-.59-1.43-.59-.52 0-1.04.2-1.43.59L10.3 9.45l-7.72 7.72c-.78.78-.78 2.05 0 2.83L4 21.41c.39.39.9.59 1.41.59.51 0 1.02-.2 1.41-.59l7.78-7.78 2.81-2.81c.8-.78.8-2.07 0-2.86zM5.41 20L4 18.59l7.72-7.72 1.47 1.35L5.41 20z\"/>\n",
              "  </svg>\n",
              "      </button>\n",
              "      \n",
              "  <style>\n",
              "    .colab-df-container {\n",
              "      display:flex;\n",
              "      flex-wrap:wrap;\n",
              "      gap: 12px;\n",
              "    }\n",
              "\n",
              "    .colab-df-convert {\n",
              "      background-color: #E8F0FE;\n",
              "      border: none;\n",
              "      border-radius: 50%;\n",
              "      cursor: pointer;\n",
              "      display: none;\n",
              "      fill: #1967D2;\n",
              "      height: 32px;\n",
              "      padding: 0 0 0 0;\n",
              "      width: 32px;\n",
              "    }\n",
              "\n",
              "    .colab-df-convert:hover {\n",
              "      background-color: #E2EBFA;\n",
              "      box-shadow: 0px 1px 2px rgba(60, 64, 67, 0.3), 0px 1px 3px 1px rgba(60, 64, 67, 0.15);\n",
              "      fill: #174EA6;\n",
              "    }\n",
              "\n",
              "    [theme=dark] .colab-df-convert {\n",
              "      background-color: #3B4455;\n",
              "      fill: #D2E3FC;\n",
              "    }\n",
              "\n",
              "    [theme=dark] .colab-df-convert:hover {\n",
              "      background-color: #434B5C;\n",
              "      box-shadow: 0px 1px 3px 1px rgba(0, 0, 0, 0.15);\n",
              "      filter: drop-shadow(0px 1px 2px rgba(0, 0, 0, 0.3));\n",
              "      fill: #FFFFFF;\n",
              "    }\n",
              "  </style>\n",
              "\n",
              "      <script>\n",
              "        const buttonEl =\n",
              "          document.querySelector('#df-e12a6507-da27-40c8-8745-55c623b3514e button.colab-df-convert');\n",
              "        buttonEl.style.display =\n",
              "          google.colab.kernel.accessAllowed ? 'block' : 'none';\n",
              "\n",
              "        async function convertToInteractive(key) {\n",
              "          const element = document.querySelector('#df-e12a6507-da27-40c8-8745-55c623b3514e');\n",
              "          const dataTable =\n",
              "            await google.colab.kernel.invokeFunction('convertToInteractive',\n",
              "                                                     [key], {});\n",
              "          if (!dataTable) return;\n",
              "\n",
              "          const docLinkHtml = 'Like what you see? Visit the ' +\n",
              "            '<a target=\"_blank\" href=https://colab.research.google.com/notebooks/data_table.ipynb>data table notebook</a>'\n",
              "            + ' to learn more about interactive tables.';\n",
              "          element.innerHTML = '';\n",
              "          dataTable['output_type'] = 'display_data';\n",
              "          await google.colab.output.renderOutput(dataTable, element);\n",
              "          const docLink = document.createElement('div');\n",
              "          docLink.innerHTML = docLinkHtml;\n",
              "          element.appendChild(docLink);\n",
              "        }\n",
              "      </script>\n",
              "    </div>\n",
              "  </div>\n",
              "  "
            ]
          },
          "metadata": {},
          "execution_count": 136
        }
      ]
    },
    {
      "cell_type": "code",
      "source": [
        "# view of pokemon_df as a series; view, not a copy, in other words, a persepctive\n",
        "pokemon_series = pokemon_df.squeeze(axis = 'columns')"
      ],
      "metadata": {
        "id": "WxgPr10sKM6i"
      },
      "execution_count": 137,
      "outputs": []
    },
    {
      "cell_type": "code",
      "source": [
        "pokemon_series.head()"
      ],
      "metadata": {
        "colab": {
          "base_uri": "https://localhost:8080/"
        },
        "id": "58a4Q7hEKWYQ",
        "outputId": "8d1b04c7-8ea5-4508-f4b3-5a54404a35c4"
      },
      "execution_count": 138,
      "outputs": [
        {
          "output_type": "execute_result",
          "data": {
            "text/plain": [
              "0     Bulbasaur\n",
              "1       Ivysaur\n",
              "2      Venusaur\n",
              "3    Charmander\n",
              "4    Charmeleon\n",
              "Name: Pokemon, dtype: object"
            ]
          },
          "metadata": {},
          "execution_count": 138
        }
      ]
    },
    {
      "cell_type": "code",
      "source": [
        "# in pokemon_series, change 'Bulbasaur' to 'Whatever'\n",
        "pokemon_series[0] = 'Whatever'\n",
        "pokemon_series.head(n = 1)"
      ],
      "metadata": {
        "colab": {
          "base_uri": "https://localhost:8080/"
        },
        "id": "UBh7IOw9KXSh",
        "outputId": "d8aad071-b804-49f2-87f4-113c632ab960"
      },
      "execution_count": 139,
      "outputs": [
        {
          "output_type": "execute_result",
          "data": {
            "text/plain": [
              "0    Whatever\n",
              "Name: Pokemon, dtype: object"
            ]
          },
          "metadata": {},
          "execution_count": 139
        }
      ]
    },
    {
      "cell_type": "code",
      "source": [
        "# Bulbasaur has changed to Whatever in pokemon_df\n",
        "pokemon_df.head()"
      ],
      "metadata": {
        "colab": {
          "base_uri": "https://localhost:8080/",
          "height": 206
        },
        "id": "iJf7bqXaKtdZ",
        "outputId": "f5986d57-f036-41cb-b0f5-573f5a504756"
      },
      "execution_count": 140,
      "outputs": [
        {
          "output_type": "execute_result",
          "data": {
            "text/plain": [
              "      Pokemon\n",
              "0    Whatever\n",
              "1     Ivysaur\n",
              "2    Venusaur\n",
              "3  Charmander\n",
              "4  Charmeleon"
            ],
            "text/html": [
              "\n",
              "  <div id=\"df-6ca252ac-9eff-442b-b926-eaf5a6ecb9a9\">\n",
              "    <div class=\"colab-df-container\">\n",
              "      <div>\n",
              "<style scoped>\n",
              "    .dataframe tbody tr th:only-of-type {\n",
              "        vertical-align: middle;\n",
              "    }\n",
              "\n",
              "    .dataframe tbody tr th {\n",
              "        vertical-align: top;\n",
              "    }\n",
              "\n",
              "    .dataframe thead th {\n",
              "        text-align: right;\n",
              "    }\n",
              "</style>\n",
              "<table border=\"1\" class=\"dataframe\">\n",
              "  <thead>\n",
              "    <tr style=\"text-align: right;\">\n",
              "      <th></th>\n",
              "      <th>Pokemon</th>\n",
              "    </tr>\n",
              "  </thead>\n",
              "  <tbody>\n",
              "    <tr>\n",
              "      <th>0</th>\n",
              "      <td>Whatever</td>\n",
              "    </tr>\n",
              "    <tr>\n",
              "      <th>1</th>\n",
              "      <td>Ivysaur</td>\n",
              "    </tr>\n",
              "    <tr>\n",
              "      <th>2</th>\n",
              "      <td>Venusaur</td>\n",
              "    </tr>\n",
              "    <tr>\n",
              "      <th>3</th>\n",
              "      <td>Charmander</td>\n",
              "    </tr>\n",
              "    <tr>\n",
              "      <th>4</th>\n",
              "      <td>Charmeleon</td>\n",
              "    </tr>\n",
              "  </tbody>\n",
              "</table>\n",
              "</div>\n",
              "      <button class=\"colab-df-convert\" onclick=\"convertToInteractive('df-6ca252ac-9eff-442b-b926-eaf5a6ecb9a9')\"\n",
              "              title=\"Convert this dataframe to an interactive table.\"\n",
              "              style=\"display:none;\">\n",
              "        \n",
              "  <svg xmlns=\"http://www.w3.org/2000/svg\" height=\"24px\"viewBox=\"0 0 24 24\"\n",
              "       width=\"24px\">\n",
              "    <path d=\"M0 0h24v24H0V0z\" fill=\"none\"/>\n",
              "    <path d=\"M18.56 5.44l.94 2.06.94-2.06 2.06-.94-2.06-.94-.94-2.06-.94 2.06-2.06.94zm-11 1L8.5 8.5l.94-2.06 2.06-.94-2.06-.94L8.5 2.5l-.94 2.06-2.06.94zm10 10l.94 2.06.94-2.06 2.06-.94-2.06-.94-.94-2.06-.94 2.06-2.06.94z\"/><path d=\"M17.41 7.96l-1.37-1.37c-.4-.4-.92-.59-1.43-.59-.52 0-1.04.2-1.43.59L10.3 9.45l-7.72 7.72c-.78.78-.78 2.05 0 2.83L4 21.41c.39.39.9.59 1.41.59.51 0 1.02-.2 1.41-.59l7.78-7.78 2.81-2.81c.8-.78.8-2.07 0-2.86zM5.41 20L4 18.59l7.72-7.72 1.47 1.35L5.41 20z\"/>\n",
              "  </svg>\n",
              "      </button>\n",
              "      \n",
              "  <style>\n",
              "    .colab-df-container {\n",
              "      display:flex;\n",
              "      flex-wrap:wrap;\n",
              "      gap: 12px;\n",
              "    }\n",
              "\n",
              "    .colab-df-convert {\n",
              "      background-color: #E8F0FE;\n",
              "      border: none;\n",
              "      border-radius: 50%;\n",
              "      cursor: pointer;\n",
              "      display: none;\n",
              "      fill: #1967D2;\n",
              "      height: 32px;\n",
              "      padding: 0 0 0 0;\n",
              "      width: 32px;\n",
              "    }\n",
              "\n",
              "    .colab-df-convert:hover {\n",
              "      background-color: #E2EBFA;\n",
              "      box-shadow: 0px 1px 2px rgba(60, 64, 67, 0.3), 0px 1px 3px 1px rgba(60, 64, 67, 0.15);\n",
              "      fill: #174EA6;\n",
              "    }\n",
              "\n",
              "    [theme=dark] .colab-df-convert {\n",
              "      background-color: #3B4455;\n",
              "      fill: #D2E3FC;\n",
              "    }\n",
              "\n",
              "    [theme=dark] .colab-df-convert:hover {\n",
              "      background-color: #434B5C;\n",
              "      box-shadow: 0px 1px 3px 1px rgba(0, 0, 0, 0.15);\n",
              "      filter: drop-shadow(0px 1px 2px rgba(0, 0, 0, 0.3));\n",
              "      fill: #FFFFFF;\n",
              "    }\n",
              "  </style>\n",
              "\n",
              "      <script>\n",
              "        const buttonEl =\n",
              "          document.querySelector('#df-6ca252ac-9eff-442b-b926-eaf5a6ecb9a9 button.colab-df-convert');\n",
              "        buttonEl.style.display =\n",
              "          google.colab.kernel.accessAllowed ? 'block' : 'none';\n",
              "\n",
              "        async function convertToInteractive(key) {\n",
              "          const element = document.querySelector('#df-6ca252ac-9eff-442b-b926-eaf5a6ecb9a9');\n",
              "          const dataTable =\n",
              "            await google.colab.kernel.invokeFunction('convertToInteractive',\n",
              "                                                     [key], {});\n",
              "          if (!dataTable) return;\n",
              "\n",
              "          const docLinkHtml = 'Like what you see? Visit the ' +\n",
              "            '<a target=\"_blank\" href=https://colab.research.google.com/notebooks/data_table.ipynb>data table notebook</a>'\n",
              "            + ' to learn more about interactive tables.';\n",
              "          element.innerHTML = '';\n",
              "          dataTable['output_type'] = 'display_data';\n",
              "          await google.colab.output.renderOutput(dataTable, element);\n",
              "          const docLink = document.createElement('div');\n",
              "          docLink.innerHTML = docLinkHtml;\n",
              "          element.appendChild(docLink);\n",
              "        }\n",
              "      </script>\n",
              "    </div>\n",
              "  </div>\n",
              "  "
            ]
          },
          "metadata": {},
          "execution_count": 140
        }
      ]
    },
    {
      "cell_type": "code",
      "source": [
        "# reason for this behavior is pokemon_series is a view on pokemon_df\n",
        "# pokemon_df is the house; pokemon_series is a door to the house; view is just super close to it so you don't see the full house\n",
        "# change the door, change the house\n",
        "# changing pokemon_series introduces side effects; mutated pokemon_df"
      ],
      "metadata": {
        "id": "ogLpGeQyKwDQ"
      },
      "execution_count": 141,
      "outputs": []
    },
    {
      "cell_type": "code",
      "source": [
        "# here's how you only change pokemon_series\n",
        "\n",
        "# reimport pokemon_df\n",
        "pokemon_df = (\n",
        "    pd.read_csv(\n",
        "        'https://raw.githubusercontent.com/jack-cao-623/python_learning/main/pandas/pokemon.csv',\n",
        "        usecols = ['Pokemon']\n",
        "    )\n",
        ")\n",
        "\n",
        "# make pokemon_series, but this time a copy using .copy() method\n",
        "pokemon_series = pokemon_df.squeeze(axis = 'columns').copy()"
      ],
      "metadata": {
        "id": "5Gpt9ieqLD2l"
      },
      "execution_count": 142,
      "outputs": []
    },
    {
      "cell_type": "code",
      "source": [
        "# make change to pokemon_series\n",
        "pokemon_series[0] = 'Whatever'\n",
        "pokemon_series.get(key = 0)"
      ],
      "metadata": {
        "colab": {
          "base_uri": "https://localhost:8080/",
          "height": 35
        },
        "id": "9QKXqZwmLpF6",
        "outputId": "cc622321-e760-43d6-a784-0cd4a0d04333"
      },
      "execution_count": 143,
      "outputs": [
        {
          "output_type": "execute_result",
          "data": {
            "text/plain": [
              "'Whatever'"
            ],
            "application/vnd.google.colaboratory.intrinsic+json": {
              "type": "string"
            }
          },
          "metadata": {},
          "execution_count": 143
        }
      ]
    },
    {
      "cell_type": "code",
      "source": [
        "# change didn't impact pokemon_df\n",
        "pokemon_df.head(n = 1)"
      ],
      "metadata": {
        "colab": {
          "base_uri": "https://localhost:8080/",
          "height": 81
        },
        "id": "1NqwPA9TLvA7",
        "outputId": "c57263d7-c322-4362-fda1-d53ecbab84c2"
      },
      "execution_count": 144,
      "outputs": [
        {
          "output_type": "execute_result",
          "data": {
            "text/plain": [
              "     Pokemon\n",
              "0  Bulbasaur"
            ],
            "text/html": [
              "\n",
              "  <div id=\"df-61d56c88-dc70-4830-ad4d-43adc7ac4c3f\">\n",
              "    <div class=\"colab-df-container\">\n",
              "      <div>\n",
              "<style scoped>\n",
              "    .dataframe tbody tr th:only-of-type {\n",
              "        vertical-align: middle;\n",
              "    }\n",
              "\n",
              "    .dataframe tbody tr th {\n",
              "        vertical-align: top;\n",
              "    }\n",
              "\n",
              "    .dataframe thead th {\n",
              "        text-align: right;\n",
              "    }\n",
              "</style>\n",
              "<table border=\"1\" class=\"dataframe\">\n",
              "  <thead>\n",
              "    <tr style=\"text-align: right;\">\n",
              "      <th></th>\n",
              "      <th>Pokemon</th>\n",
              "    </tr>\n",
              "  </thead>\n",
              "  <tbody>\n",
              "    <tr>\n",
              "      <th>0</th>\n",
              "      <td>Bulbasaur</td>\n",
              "    </tr>\n",
              "  </tbody>\n",
              "</table>\n",
              "</div>\n",
              "      <button class=\"colab-df-convert\" onclick=\"convertToInteractive('df-61d56c88-dc70-4830-ad4d-43adc7ac4c3f')\"\n",
              "              title=\"Convert this dataframe to an interactive table.\"\n",
              "              style=\"display:none;\">\n",
              "        \n",
              "  <svg xmlns=\"http://www.w3.org/2000/svg\" height=\"24px\"viewBox=\"0 0 24 24\"\n",
              "       width=\"24px\">\n",
              "    <path d=\"M0 0h24v24H0V0z\" fill=\"none\"/>\n",
              "    <path d=\"M18.56 5.44l.94 2.06.94-2.06 2.06-.94-2.06-.94-.94-2.06-.94 2.06-2.06.94zm-11 1L8.5 8.5l.94-2.06 2.06-.94-2.06-.94L8.5 2.5l-.94 2.06-2.06.94zm10 10l.94 2.06.94-2.06 2.06-.94-2.06-.94-.94-2.06-.94 2.06-2.06.94z\"/><path d=\"M17.41 7.96l-1.37-1.37c-.4-.4-.92-.59-1.43-.59-.52 0-1.04.2-1.43.59L10.3 9.45l-7.72 7.72c-.78.78-.78 2.05 0 2.83L4 21.41c.39.39.9.59 1.41.59.51 0 1.02-.2 1.41-.59l7.78-7.78 2.81-2.81c.8-.78.8-2.07 0-2.86zM5.41 20L4 18.59l7.72-7.72 1.47 1.35L5.41 20z\"/>\n",
              "  </svg>\n",
              "      </button>\n",
              "      \n",
              "  <style>\n",
              "    .colab-df-container {\n",
              "      display:flex;\n",
              "      flex-wrap:wrap;\n",
              "      gap: 12px;\n",
              "    }\n",
              "\n",
              "    .colab-df-convert {\n",
              "      background-color: #E8F0FE;\n",
              "      border: none;\n",
              "      border-radius: 50%;\n",
              "      cursor: pointer;\n",
              "      display: none;\n",
              "      fill: #1967D2;\n",
              "      height: 32px;\n",
              "      padding: 0 0 0 0;\n",
              "      width: 32px;\n",
              "    }\n",
              "\n",
              "    .colab-df-convert:hover {\n",
              "      background-color: #E2EBFA;\n",
              "      box-shadow: 0px 1px 2px rgba(60, 64, 67, 0.3), 0px 1px 3px 1px rgba(60, 64, 67, 0.15);\n",
              "      fill: #174EA6;\n",
              "    }\n",
              "\n",
              "    [theme=dark] .colab-df-convert {\n",
              "      background-color: #3B4455;\n",
              "      fill: #D2E3FC;\n",
              "    }\n",
              "\n",
              "    [theme=dark] .colab-df-convert:hover {\n",
              "      background-color: #434B5C;\n",
              "      box-shadow: 0px 1px 3px 1px rgba(0, 0, 0, 0.15);\n",
              "      filter: drop-shadow(0px 1px 2px rgba(0, 0, 0, 0.3));\n",
              "      fill: #FFFFFF;\n",
              "    }\n",
              "  </style>\n",
              "\n",
              "      <script>\n",
              "        const buttonEl =\n",
              "          document.querySelector('#df-61d56c88-dc70-4830-ad4d-43adc7ac4c3f button.colab-df-convert');\n",
              "        buttonEl.style.display =\n",
              "          google.colab.kernel.accessAllowed ? 'block' : 'none';\n",
              "\n",
              "        async function convertToInteractive(key) {\n",
              "          const element = document.querySelector('#df-61d56c88-dc70-4830-ad4d-43adc7ac4c3f');\n",
              "          const dataTable =\n",
              "            await google.colab.kernel.invokeFunction('convertToInteractive',\n",
              "                                                     [key], {});\n",
              "          if (!dataTable) return;\n",
              "\n",
              "          const docLinkHtml = 'Like what you see? Visit the ' +\n",
              "            '<a target=\"_blank\" href=https://colab.research.google.com/notebooks/data_table.ipynb>data table notebook</a>'\n",
              "            + ' to learn more about interactive tables.';\n",
              "          element.innerHTML = '';\n",
              "          dataTable['output_type'] = 'display_data';\n",
              "          await google.colab.output.renderOutput(dataTable, element);\n",
              "          const docLink = document.createElement('div');\n",
              "          docLink.innerHTML = docLinkHtml;\n",
              "          element.appendChild(docLink);\n",
              "        }\n",
              "      </script>\n",
              "    </div>\n",
              "  </div>\n",
              "  "
            ]
          },
          "metadata": {},
          "execution_count": 144
        }
      ]
    },
    {
      "cell_type": "markdown",
      "source": [
        "## The inplace parameter\n",
        "- In a method call, there's a parameter called inplace; if set to True, it modifies the underlying object\n",
        "- Equivalent to reassigning to variable --> this way is encouaraged\n",
        "- inplace = True will be deprecated; discouraged from using this"
      ],
      "metadata": {
        "id": "jaU-d6jtMA9W"
      }
    },
    {
      "cell_type": "code",
      "source": [
        "# see here:\n",
        "# https://github.com/jack-cao-623/python_learning/blob/main/why_you_should_never_use_inplace_true.ipynb"
      ],
      "metadata": {
        "id": "fAVfRlQXLxQT"
      },
      "execution_count": 145,
      "outputs": []
    },
    {
      "cell_type": "code",
      "source": [
        "# series\n",
        "fb_stock = pd.Series(\n",
        "    data = [100, 120, 115, 120, 150, 90]\n",
        ")\n",
        "\n",
        "print(fb_stock)\n"
      ],
      "metadata": {
        "colab": {
          "base_uri": "https://localhost:8080/"
        },
        "id": "2uzh_G5dC2fQ",
        "outputId": "f7881bce-ece4-4946-a4e6-32ae92ced99f"
      },
      "execution_count": 149,
      "outputs": [
        {
          "output_type": "stream",
          "name": "stdout",
          "text": [
            "0    100\n",
            "1    120\n",
            "2    115\n",
            "3    120\n",
            "4    150\n",
            "5     90\n",
            "dtype: int64\n"
          ]
        }
      ]
    },
    {
      "cell_type": "code",
      "source": [
        "# sort values\n",
        "fb_stock = fb_stock.sort_values()\n",
        "print(fb_stock)"
      ],
      "metadata": {
        "colab": {
          "base_uri": "https://localhost:8080/"
        },
        "id": "_iUOIZ7EEjk0",
        "outputId": "cbea7025-e169-4307-a178-29fc317cd0f4"
      },
      "execution_count": 150,
      "outputs": [
        {
          "output_type": "stream",
          "name": "stdout",
          "text": [
            "5     90\n",
            "0    100\n",
            "2    115\n",
            "1    120\n",
            "3    120\n",
            "4    150\n",
            "dtype: int64\n"
          ]
        }
      ]
    },
    {
      "cell_type": "code",
      "source": [
        "# above is equivalent to; but above is preferred; \n",
        "# inplace = True is discourage; see other notebook linked to abve\n",
        "fb_stock = pd.Series(\n",
        "    data = [100, 120, 115, 120, 150, 90]\n",
        ")\n",
        "\n",
        "fb_stock.sort_values(inplace = True)\n",
        "\n",
        "print(fb_stock)"
      ],
      "metadata": {
        "colab": {
          "base_uri": "https://localhost:8080/"
        },
        "id": "8txqdWPRE7ny",
        "outputId": "e46a1f9c-ed8e-44f7-cc0c-893f62152da4"
      },
      "execution_count": 151,
      "outputs": [
        {
          "output_type": "stream",
          "name": "stdout",
          "text": [
            "5     90\n",
            "0    100\n",
            "2    115\n",
            "1    120\n",
            "3    120\n",
            "4    150\n",
            "dtype: int64\n"
          ]
        }
      ]
    },
    {
      "cell_type": "code",
      "source": [
        "# create dataframe\n",
        "google_df = pd.DataFrame(\n",
        "    {\n",
        "        'stock': [0, 3, 2, 1]\n",
        "    }\n",
        ")\n",
        "\n",
        "print(google_df)"
      ],
      "metadata": {
        "colab": {
          "base_uri": "https://localhost:8080/"
        },
        "id": "bFLxrm5UFBd4",
        "outputId": "43462513-ace6-471f-d77b-0b57d0a7ff08"
      },
      "execution_count": 153,
      "outputs": [
        {
          "output_type": "stream",
          "name": "stdout",
          "text": [
            "   stock\n",
            "0      0\n",
            "1      3\n",
            "2      2\n",
            "3      1\n"
          ]
        }
      ]
    },
    {
      "cell_type": "code",
      "source": [
        "# this results in an error\n",
        "(\n",
        "    google_df\n",
        "      .squeeze(axis = 'columns')    # view as a series\n",
        "      .sort_values(inplace = True)  # sort; is this what it means that you can't chain?\n",
        ")"
      ],
      "metadata": {
        "colab": {
          "base_uri": "https://localhost:8080/",
          "height": 425
        },
        "id": "XXpAw0Y9HJgA",
        "outputId": "37e20781-9ec7-4fa3-b995-b25983afac63"
      },
      "execution_count": 156,
      "outputs": [
        {
          "output_type": "error",
          "ename": "ValueError",
          "evalue": "ignored",
          "traceback": [
            "\u001b[0;31m---------------------------------------------------------------------------\u001b[0m",
            "\u001b[0;31mValueError\u001b[0m                                Traceback (most recent call last)",
            "\u001b[0;32m<ipython-input-156-15a6abab732b>\u001b[0m in \u001b[0;36m<module>\u001b[0;34m\u001b[0m\n\u001b[1;32m      1\u001b[0m (\n\u001b[0;32m----> 2\u001b[0;31m     \u001b[0mgoogle_df\u001b[0m\u001b[0;34m\u001b[0m\u001b[0;34m\u001b[0m\u001b[0m\n\u001b[0m\u001b[1;32m      3\u001b[0m       \u001b[0;34m.\u001b[0m\u001b[0msqueeze\u001b[0m\u001b[0;34m(\u001b[0m\u001b[0maxis\u001b[0m \u001b[0;34m=\u001b[0m \u001b[0;34m'columns'\u001b[0m\u001b[0;34m)\u001b[0m   \u001b[0;31m# view as a series\u001b[0m\u001b[0;34m\u001b[0m\u001b[0;34m\u001b[0m\u001b[0m\n\u001b[1;32m      4\u001b[0m       \u001b[0;34m.\u001b[0m\u001b[0msort_values\u001b[0m\u001b[0;34m(\u001b[0m\u001b[0minplace\u001b[0m \u001b[0;34m=\u001b[0m \u001b[0;32mTrue\u001b[0m\u001b[0;34m)\u001b[0m               \u001b[0;31m# sort\u001b[0m\u001b[0;34m\u001b[0m\u001b[0;34m\u001b[0m\u001b[0m\n\u001b[1;32m      5\u001b[0m )\n",
            "\u001b[0;32m/usr/local/lib/python3.8/dist-packages/pandas/util/_decorators.py\u001b[0m in \u001b[0;36mwrapper\u001b[0;34m(*args, **kwargs)\u001b[0m\n\u001b[1;32m    309\u001b[0m                     \u001b[0mstacklevel\u001b[0m\u001b[0;34m=\u001b[0m\u001b[0mstacklevel\u001b[0m\u001b[0;34m,\u001b[0m\u001b[0;34m\u001b[0m\u001b[0;34m\u001b[0m\u001b[0m\n\u001b[1;32m    310\u001b[0m                 )\n\u001b[0;32m--> 311\u001b[0;31m             \u001b[0;32mreturn\u001b[0m \u001b[0mfunc\u001b[0m\u001b[0;34m(\u001b[0m\u001b[0;34m*\u001b[0m\u001b[0margs\u001b[0m\u001b[0;34m,\u001b[0m \u001b[0;34m**\u001b[0m\u001b[0mkwargs\u001b[0m\u001b[0;34m)\u001b[0m\u001b[0;34m\u001b[0m\u001b[0;34m\u001b[0m\u001b[0m\n\u001b[0m\u001b[1;32m    312\u001b[0m \u001b[0;34m\u001b[0m\u001b[0m\n\u001b[1;32m    313\u001b[0m         \u001b[0;32mreturn\u001b[0m \u001b[0mwrapper\u001b[0m\u001b[0;34m\u001b[0m\u001b[0;34m\u001b[0m\u001b[0m\n",
            "\u001b[0;32m/usr/local/lib/python3.8/dist-packages/pandas/core/series.py\u001b[0m in \u001b[0;36msort_values\u001b[0;34m(self, axis, ascending, inplace, kind, na_position, ignore_index, key)\u001b[0m\n\u001b[1;32m   3432\u001b[0m         \u001b[0;31m# GH 5856/5853\u001b[0m\u001b[0;34m\u001b[0m\u001b[0;34m\u001b[0m\u001b[0;34m\u001b[0m\u001b[0m\n\u001b[1;32m   3433\u001b[0m         \u001b[0;32mif\u001b[0m \u001b[0minplace\u001b[0m \u001b[0;32mand\u001b[0m \u001b[0mself\u001b[0m\u001b[0;34m.\u001b[0m\u001b[0m_is_cached\u001b[0m\u001b[0;34m:\u001b[0m\u001b[0;34m\u001b[0m\u001b[0;34m\u001b[0m\u001b[0m\n\u001b[0;32m-> 3434\u001b[0;31m             raise ValueError(\n\u001b[0m\u001b[1;32m   3435\u001b[0m                 \u001b[0;34m\"This Series is a view of some other array, to \"\u001b[0m\u001b[0;34m\u001b[0m\u001b[0;34m\u001b[0m\u001b[0m\n\u001b[1;32m   3436\u001b[0m                 \u001b[0;34m\"sort in-place you must create a copy\"\u001b[0m\u001b[0;34m\u001b[0m\u001b[0;34m\u001b[0m\u001b[0m\n",
            "\u001b[0;31mValueError\u001b[0m: This Series is a view of some other array, to sort in-place you must create a copy"
          ]
        }
      ]
    },
    {
      "cell_type": "markdown",
      "source": [
        "## Math Methods on Series objects"
      ],
      "metadata": {
        "id": "PouJV6f4HmU8"
      }
    },
    {
      "cell_type": "code",
      "source": [
        "# series\n",
        "google"
      ],
      "metadata": {
        "colab": {
          "base_uri": "https://localhost:8080/"
        },
        "id": "3NexyFLdHPnv",
        "outputId": "c5a911a1-45be-4533-8f4d-a51d8d0649ad"
      },
      "execution_count": 157,
      "outputs": [
        {
          "output_type": "execute_result",
          "data": {
            "text/plain": [
              "0        50.12\n",
              "1        54.10\n",
              "2        54.65\n",
              "3        52.38\n",
              "4        52.95\n",
              "         ...  \n",
              "3007    772.88\n",
              "3008    771.07\n",
              "3009    773.18\n",
              "3010    771.61\n",
              "3011    782.22\n",
              "Name: Stock Price, Length: 3012, dtype: float64"
            ]
          },
          "metadata": {},
          "execution_count": 157
        }
      ]
    },
    {
      "cell_type": "code",
      "source": [
        "# .count() method counts the number of non-null/non-missing values\n",
        "google.count()"
      ],
      "metadata": {
        "colab": {
          "base_uri": "https://localhost:8080/"
        },
        "id": "GBeyrhZlHzgn",
        "outputId": "fe84c547-6c8d-41e5-f9d6-6898fd7b1429"
      },
      "execution_count": 159,
      "outputs": [
        {
          "output_type": "execute_result",
          "data": {
            "text/plain": [
              "3012"
            ]
          },
          "metadata": {},
          "execution_count": 159
        }
      ]
    },
    {
      "cell_type": "code",
      "source": [
        "# .sum() method adds up series values\n",
        "google.sum()"
      ],
      "metadata": {
        "colab": {
          "base_uri": "https://localhost:8080/"
        },
        "id": "bHlaQMcfH9XU",
        "outputId": "95f0fe63-bc72-475d-9c91-59ff10752e84"
      },
      "execution_count": 160,
      "outputs": [
        {
          "output_type": "execute_result",
          "data": {
            "text/plain": [
              "1006942.0"
            ]
          },
          "metadata": {},
          "execution_count": 160
        }
      ]
    },
    {
      "cell_type": "code",
      "source": [
        "# .mean() method tells you average of series values\n",
        "google.mean()"
      ],
      "metadata": {
        "colab": {
          "base_uri": "https://localhost:8080/"
        },
        "id": "ur4rcUE6Ijla",
        "outputId": "8e6cbf4b-3963-4496-ba91-1f91f98c610b"
      },
      "execution_count": 161,
      "outputs": [
        {
          "output_type": "execute_result",
          "data": {
            "text/plain": [
              "334.3100929614874"
            ]
          },
          "metadata": {},
          "execution_count": 161
        }
      ]
    },
    {
      "cell_type": "code",
      "source": [
        "# above is equivalent to:\n",
        "google.sum() / google.count()"
      ],
      "metadata": {
        "colab": {
          "base_uri": "https://localhost:8080/"
        },
        "id": "38ti6rYVIl4D",
        "outputId": "191453c3-ec8f-40ad-c032-154429f0340e"
      },
      "execution_count": 162,
      "outputs": [
        {
          "output_type": "execute_result",
          "data": {
            "text/plain": [
              "334.3100929614874"
            ]
          },
          "metadata": {},
          "execution_count": 162
        }
      ]
    },
    {
      "cell_type": "code",
      "source": [
        "# .product() multiples series values together\n",
        "google.product()"
      ],
      "metadata": {
        "colab": {
          "base_uri": "https://localhost:8080/"
        },
        "id": "uCnCUMnJIqLW",
        "outputId": "0af4f2d6-396f-41bf-8627-65e6d1f38dcb"
      },
      "execution_count": 163,
      "outputs": [
        {
          "output_type": "execute_result",
          "data": {
            "text/plain": [
              "inf"
            ]
          },
          "metadata": {},
          "execution_count": 163
        }
      ]
    },
    {
      "cell_type": "code",
      "source": [
        "# .std() method calculates standard deviation\n",
        "google.std()"
      ],
      "metadata": {
        "colab": {
          "base_uri": "https://localhost:8080/"
        },
        "id": "McFHrX0wIvO_",
        "outputId": "2f5674a0-75c1-406a-a226-03596ecfe8c2"
      },
      "execution_count": 164,
      "outputs": [
        {
          "output_type": "execute_result",
          "data": {
            "text/plain": [
              "173.18720477113115"
            ]
          },
          "metadata": {},
          "execution_count": 164
        }
      ]
    },
    {
      "cell_type": "code",
      "source": [
        "# .min() method gives you smallest values in series\n",
        "google.min()"
      ],
      "metadata": {
        "colab": {
          "base_uri": "https://localhost:8080/"
        },
        "id": "sQQuYIMgIzKB",
        "outputId": "ead35ded-73e1-42c6-a5dd-9d88cf0fd487"
      },
      "execution_count": 165,
      "outputs": [
        {
          "output_type": "execute_result",
          "data": {
            "text/plain": [
              "49.95"
            ]
          },
          "metadata": {},
          "execution_count": 165
        }
      ]
    },
    {
      "cell_type": "code",
      "source": [
        "# .max() method gives you largest value in series\n",
        "google.max()"
      ],
      "metadata": {
        "colab": {
          "base_uri": "https://localhost:8080/"
        },
        "id": "auftUPkFI1iM",
        "outputId": "c6fa4084-2ac1-47e5-b95d-9a2992b3f350"
      },
      "execution_count": 166,
      "outputs": [
        {
          "output_type": "execute_result",
          "data": {
            "text/plain": [
              "782.22"
            ]
          },
          "metadata": {},
          "execution_count": 166
        }
      ]
    },
    {
      "cell_type": "code",
      "source": [
        "# .median() method gives you median value in series\n",
        "google.median()"
      ],
      "metadata": {
        "colab": {
          "base_uri": "https://localhost:8080/"
        },
        "id": "RE2qlEuOI42k",
        "outputId": "593fa0df-1a79-4a45-f1db-4153fb6b4b64"
      },
      "execution_count": 167,
      "outputs": [
        {
          "output_type": "execute_result",
          "data": {
            "text/plain": [
              "283.315"
            ]
          },
          "metadata": {},
          "execution_count": 167
        }
      ]
    },
    {
      "cell_type": "code",
      "source": [
        "# .mode() method gives you the mode\n",
        "google.mode()"
      ],
      "metadata": {
        "colab": {
          "base_uri": "https://localhost:8080/"
        },
        "id": "bEUDIsN-I7Vz",
        "outputId": "6fb00bd7-2d90-4da9-98cd-62d423078b26"
      },
      "execution_count": 168,
      "outputs": [
        {
          "output_type": "execute_result",
          "data": {
            "text/plain": [
              "0    291.21\n",
              "dtype: float64"
            ]
          },
          "metadata": {},
          "execution_count": 168
        }
      ]
    },
    {
      "cell_type": "code",
      "source": [
        "# above is equivalent to\n",
        "google.value_counts().index[0]"
      ],
      "metadata": {
        "colab": {
          "base_uri": "https://localhost:8080/"
        },
        "id": "7M59uKSvI_yr",
        "outputId": "bed1b16b-a7b7-4800-a9f1-786c9ee9c339"
      },
      "execution_count": 173,
      "outputs": [
        {
          "output_type": "execute_result",
          "data": {
            "text/plain": [
              "291.21"
            ]
          },
          "metadata": {},
          "execution_count": 173
        }
      ]
    },
    {
      "cell_type": "code",
      "source": [
        "# get a bunch of summary statistics\n",
        "google.describe()"
      ],
      "metadata": {
        "colab": {
          "base_uri": "https://localhost:8080/"
        },
        "id": "KSZaLBQbJCH6",
        "outputId": "6954dd45-176f-44db-d26f-7e122b03e408"
      },
      "execution_count": 174,
      "outputs": [
        {
          "output_type": "execute_result",
          "data": {
            "text/plain": [
              "count    3012.000000\n",
              "mean      334.310093\n",
              "std       173.187205\n",
              "min        49.950000\n",
              "25%       218.045000\n",
              "50%       283.315000\n",
              "75%       443.000000\n",
              "max       782.220000\n",
              "Name: Stock Price, dtype: float64"
            ]
          },
          "metadata": {},
          "execution_count": 174
        }
      ]
    },
    {
      "cell_type": "code",
      "source": [],
      "metadata": {
        "id": "_mnoezbPJV9_"
      },
      "execution_count": null,
      "outputs": []
    }
  ]
}