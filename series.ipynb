{
  "nbformat": 4,
  "nbformat_minor": 0,
  "metadata": {
    "colab": {
      "provenance": [],
      "collapsed_sections": [
        "D6LaNcv4xc1U",
        "4ejS2mWN0lqd",
        "YHwhnJ9-2qc6",
        "c4Y5hWlq4ylI",
        "nWnvnFDffFLS",
        "RhsRXx7Tsvc2",
        "TA7fs5c51hrj",
        "ye96LWfoQ4p9",
        "WE8tKLvmp9nN",
        "z1GmXS5psVdn"
      ],
      "authorship_tag": "ABX9TyOnrCG034HCOlF/k42MNQdq",
      "include_colab_link": true
    },
    "kernelspec": {
      "name": "python3",
      "display_name": "Python 3"
    },
    "language_info": {
      "name": "python"
    }
  },
  "cells": [
    {
      "cell_type": "markdown",
      "metadata": {
        "id": "view-in-github",
        "colab_type": "text"
      },
      "source": [
        "<a href=\"https://colab.research.google.com/github/jack-cao-623/python_learning/blob/main/series.ipynb\" target=\"_parent\"><img src=\"https://colab.research.google.com/assets/colab-badge.svg\" alt=\"Open In Colab\"/></a>"
      ]
    },
    {
      "cell_type": "markdown",
      "source": [
        "# Series\n",
        "- *object* from Pandas library\n",
        "- Series is 1D labelled array, or a single column of data"
      ],
      "metadata": {
        "id": "zCzuNwnWxD0p"
      }
    },
    {
      "cell_type": "code",
      "source": [
        "# libraries needed\n",
        "import numpy as np\n",
        "import pandas as pd"
      ],
      "metadata": {
        "id": "YX3MSX1MxBcZ"
      },
      "execution_count": 122,
      "outputs": []
    },
    {
      "cell_type": "markdown",
      "source": [
        "## Create a Pandas Series object from a Python list\n",
        "- Series is a object; 1D labelled array\n",
        "- Python list: can store elements in order; each element has a numeric position in line, i.e., the index\n",
        "- Python dictionary: able to establish associations between keys and value, key:value pairs\n",
        "- Series combines best of a list and a dictionary in a single object; equivalent to a column of data in a spreadsheet; preserve a numeric identifier to each element; but identifier can also be labelled with an identifier, like a dictionary\n",
        "- Series also gives us methods"
      ],
      "metadata": {
        "id": "D6LaNcv4xc1U"
      }
    },
    {
      "cell_type": "code",
      "source": [
        "# list\n",
        "ice_cream_flavors = ['Chocolate', 'Vanilla', 'Strawberry', 'Rum Raisin']"
      ],
      "metadata": {
        "id": "FabRpZ5NxM56"
      },
      "execution_count": 2,
      "outputs": []
    },
    {
      "cell_type": "code",
      "source": [
        "# create a Series object with ice_cream_flavors\n",
        "pd.Series(data = ice_cream_flavors)"
      ],
      "metadata": {
        "colab": {
          "base_uri": "https://localhost:8080/"
        },
        "id": "0VES0gwmyGkh",
        "outputId": "e1175ec3-8fed-46cc-8130-7b0fd8bb3b21"
      },
      "execution_count": 3,
      "outputs": [
        {
          "output_type": "execute_result",
          "data": {
            "text/plain": [
              "0     Chocolate\n",
              "1       Vanilla\n",
              "2    Strawberry\n",
              "3    Rum Raisin\n",
              "dtype: object"
            ]
          },
          "metadata": {},
          "execution_count": 3
        }
      ]
    },
    {
      "cell_type": "code",
      "source": [
        "# pd.Series() is a class; blueprint for creating objects\n",
        "# dtype means data type\n",
        "  # tells us the type of data for elements in series; ice cream flavors is a str (string); referred to as an object\n",
        "  # object covers more than strings"
      ],
      "metadata": {
        "id": "JFhOt7uIyO3m"
      },
      "execution_count": 4,
      "outputs": []
    },
    {
      "cell_type": "code",
      "source": [
        "# pull out index\n",
        "pd.Series(data = ice_cream_flavors).index"
      ],
      "metadata": {
        "colab": {
          "base_uri": "https://localhost:8080/"
        },
        "id": "gNJm1pX1y6sw",
        "outputId": "9d3780ef-43f5-4f3f-b81b-530b07c8c312"
      },
      "execution_count": 5,
      "outputs": [
        {
          "output_type": "execute_result",
          "data": {
            "text/plain": [
              "RangeIndex(start=0, stop=4, step=1)"
            ]
          },
          "metadata": {},
          "execution_count": 5
        }
      ]
    },
    {
      "cell_type": "code",
      "source": [
        "# index defaults to 0, 1, 2, 3...ascending numeric\n",
        "# this is like a list...don't get the dictionary benefit, see bullet point in title"
      ],
      "metadata": {
        "id": "3ufZIGGay8qa"
      },
      "execution_count": 6,
      "outputs": []
    },
    {
      "cell_type": "code",
      "source": [
        "# create another Series\n",
        "lottery = [15, 3, 14, 6, 9, 10]\n",
        "pd.Series(data = lottery)"
      ],
      "metadata": {
        "colab": {
          "base_uri": "https://localhost:8080/"
        },
        "id": "IobECZz2zXZP",
        "outputId": "76858ea0-714d-4448-cc10-3106752ae473"
      },
      "execution_count": 7,
      "outputs": [
        {
          "output_type": "execute_result",
          "data": {
            "text/plain": [
              "0    15\n",
              "1     3\n",
              "2    14\n",
              "3     6\n",
              "4     9\n",
              "5    10\n",
              "dtype: int64"
            ]
          },
          "metadata": {},
          "execution_count": 7
        }
      ]
    },
    {
      "cell_type": "code",
      "source": [
        "# dtype doesn't refer to index; it refers to the elements"
      ],
      "metadata": {
        "id": "TtZcydCqzfkV"
      },
      "execution_count": 8,
      "outputs": []
    },
    {
      "cell_type": "code",
      "source": [
        "registrations = [True, False, False, True, True]\n",
        "pd.Series(registrations)"
      ],
      "metadata": {
        "colab": {
          "base_uri": "https://localhost:8080/"
        },
        "id": "EgAZJUZ4z_eh",
        "outputId": "425c1bd5-984a-4066-e604-5522d695060e"
      },
      "execution_count": 9,
      "outputs": [
        {
          "output_type": "execute_result",
          "data": {
            "text/plain": [
              "0     True\n",
              "1    False\n",
              "2    False\n",
              "3     True\n",
              "4     True\n",
              "dtype: bool"
            ]
          },
          "metadata": {},
          "execution_count": 9
        }
      ]
    },
    {
      "cell_type": "code",
      "source": [
        "# dtype doesn't refer to index; it refers to the elements"
      ],
      "metadata": {
        "id": "Pe3iw-JO0EGA"
      },
      "execution_count": 10,
      "outputs": []
    },
    {
      "cell_type": "code",
      "source": [
        "# convention is to include arguments, not data = ...; just put in the arguments; fewer keystrokes"
      ],
      "metadata": {
        "id": "dJIE-2h10Inv"
      },
      "execution_count": 11,
      "outputs": []
    },
    {
      "cell_type": "code",
      "source": [
        "# a Series is equivalent to 1 column of data; Dataframe is a bunch of Series glued together with common index"
      ],
      "metadata": {
        "id": "_tj63YKO0N9u"
      },
      "execution_count": 12,
      "outputs": []
    },
    {
      "cell_type": "markdown",
      "source": [
        "## Create a Pandas Series object with a dictionary\n",
        "- key takeaway: index of a Series doesn't need to be numeric"
      ],
      "metadata": {
        "id": "4ejS2mWN0lqd"
      }
    },
    {
      "cell_type": "code",
      "source": [
        "# dictionary\n",
        "sushi = {\n",
        "    'salmon':'orange',\n",
        "    'tuna':'red',\n",
        "    'eel':'brown'\n",
        "}\n",
        "print(sushi)"
      ],
      "metadata": {
        "colab": {
          "base_uri": "https://localhost:8080/"
        },
        "id": "s3gYaY0X0UwO",
        "outputId": "1198e335-bfbe-407e-f8a5-1feec8a9d052"
      },
      "execution_count": 45,
      "outputs": [
        {
          "output_type": "stream",
          "name": "stdout",
          "text": [
            "{'salmon': 'orange', 'tuna': 'red', 'eel': 'brown'}\n"
          ]
        }
      ]
    },
    {
      "cell_type": "code",
      "source": [
        "# create series\n",
        "pd.Series(sushi)"
      ],
      "metadata": {
        "colab": {
          "base_uri": "https://localhost:8080/"
        },
        "id": "u2KuIOPg05Xm",
        "outputId": "76613a75-9505-4e22-bafc-d3d9dcc1c1cd"
      },
      "execution_count": 46,
      "outputs": [
        {
          "output_type": "execute_result",
          "data": {
            "text/plain": [
              "salmon    orange\n",
              "tuna         red\n",
              "eel        brown\n",
              "dtype: object"
            ]
          },
          "metadata": {},
          "execution_count": 46
        }
      ]
    },
    {
      "cell_type": "code",
      "source": [
        "# remember dtype: object reers to data type of the values (orange, red, brown)"
      ],
      "metadata": {
        "id": "s-moJdEK08rN"
      },
      "execution_count": 47,
      "outputs": []
    },
    {
      "cell_type": "code",
      "source": [
        "# dictionary is unordered; but pd.Series(sushi) is ordered and labeled\n",
        "print(pd.Series(sushi).iloc[0])\n",
        "print(pd.Series(sushi).loc['salmon'])"
      ],
      "metadata": {
        "colab": {
          "base_uri": "https://localhost:8080/"
        },
        "id": "XawSQ--G1A0f",
        "outputId": "06177648-20ce-4174-9c6a-3e1c08918b2a"
      },
      "execution_count": 48,
      "outputs": [
        {
          "output_type": "stream",
          "name": "stdout",
          "text": [
            "orange\n",
            "orange\n"
          ]
        }
      ]
    },
    {
      "cell_type": "code",
      "source": [
        "# Pandas Series lets you have duplicated labels for indices; can't do this in a dictionary"
      ],
      "metadata": {
        "id": "WsXncgP91Qao"
      },
      "execution_count": 49,
      "outputs": []
    },
    {
      "cell_type": "code",
      "source": [
        "# create the same Series object but without a dictionary\n",
        "pd.Series(\n",
        "    data = ['orange', 'red', 'brown'],       # dictionary value equivalent\n",
        "    index = ['salmon', 'tuna', 'eel']        # dictionary key equivalent\n",
        ")"
      ],
      "metadata": {
        "colab": {
          "base_uri": "https://localhost:8080/"
        },
        "id": "tdz2Tp4y13ml",
        "outputId": "34b284c9-6a25-456b-e1e3-b1269eff276c"
      },
      "execution_count": 50,
      "outputs": [
        {
          "output_type": "execute_result",
          "data": {
            "text/plain": [
              "salmon    orange\n",
              "tuna         red\n",
              "eel        brown\n",
              "dtype: object"
            ]
          },
          "metadata": {},
          "execution_count": 50
        }
      ]
    },
    {
      "cell_type": "markdown",
      "source": [
        "## Intro to Methods\n",
        "- method is a directive, command, behavior that we can have an object do for us"
      ],
      "metadata": {
        "id": "YHwhnJ9-2qc6"
      }
    },
    {
      "cell_type": "code",
      "source": [
        "# example method: capitalize 'hello'\n",
        "'hello'.upper()"
      ],
      "metadata": {
        "colab": {
          "base_uri": "https://localhost:8080/",
          "height": 35
        },
        "id": "ipNjrygA1-FJ",
        "outputId": "9b0f5144-8836-48ae-a0ae-6055efb919df"
      },
      "execution_count": 51,
      "outputs": [
        {
          "output_type": "execute_result",
          "data": {
            "text/plain": [
              "'HELLO'"
            ],
            "application/vnd.google.colaboratory.intrinsic+json": {
              "type": "string"
            }
          },
          "metadata": {},
          "execution_count": 51
        }
      ]
    },
    {
      "cell_type": "code",
      "source": [
        "# upper() is an example method"
      ],
      "metadata": {
        "id": "e4Hxyht02y-Q"
      },
      "execution_count": 52,
      "outputs": []
    },
    {
      "cell_type": "code",
      "source": [
        "# strings can't be mutated by methods, e.g.:\n",
        "a = 'hello'\n",
        "print(a.upper()) # 'HELLO'\n",
        "print(a)         # 'hello'"
      ],
      "metadata": {
        "colab": {
          "base_uri": "https://localhost:8080/"
        },
        "id": "dVMEDqKR21RI",
        "outputId": "73128485-a71c-426a-89a6-6ddeefb58f90"
      },
      "execution_count": 53,
      "outputs": [
        {
          "output_type": "stream",
          "name": "stdout",
          "text": [
            "HELLO\n",
            "hello\n"
          ]
        }
      ]
    },
    {
      "cell_type": "code",
      "source": [
        "# above, .upper() method doesn't mutate or change a"
      ],
      "metadata": {
        "id": "JuMLRQsf3Foe"
      },
      "execution_count": 54,
      "outputs": []
    },
    {
      "cell_type": "code",
      "source": [
        "# but some methods may modify the object it's evoked upon\n",
        "b = [1, 2, 3]\n",
        "b.append(4)   \n",
        "print(b)           # [1, 2, 3, 4]"
      ],
      "metadata": {
        "colab": {
          "base_uri": "https://localhost:8080/"
        },
        "id": "vMejj8dm3JBt",
        "outputId": "8b71866d-1a01-4c97-e170-5e0a3528cf23"
      },
      "execution_count": 55,
      "outputs": [
        {
          "output_type": "stream",
          "name": "stdout",
          "text": [
            "[1, 2, 3, 4]\n"
          ]
        }
      ]
    },
    {
      "cell_type": "code",
      "source": [
        "# above, .append() method changes the list, b"
      ],
      "metadata": {
        "id": "GhmKTipG3m1h"
      },
      "execution_count": 56,
      "outputs": []
    },
    {
      "cell_type": "code",
      "source": [
        "# create a Pandas Series\n",
        "prices = pd.Series([2.99, 4.45, 1.36])\n",
        "prices"
      ],
      "metadata": {
        "colab": {
          "base_uri": "https://localhost:8080/"
        },
        "id": "uV-Otl2y3yEd",
        "outputId": "96ce8c2d-69eb-46a7-c3ed-f76601bfe343"
      },
      "execution_count": 57,
      "outputs": [
        {
          "output_type": "execute_result",
          "data": {
            "text/plain": [
              "0    2.99\n",
              "1    4.45\n",
              "2    1.36\n",
              "dtype: float64"
            ]
          },
          "metadata": {},
          "execution_count": 57
        }
      ]
    },
    {
      "cell_type": "code",
      "source": [
        "# add up values\n",
        "prices.sum()"
      ],
      "metadata": {
        "colab": {
          "base_uri": "https://localhost:8080/"
        },
        "id": "LZ5hMG4P37Uy",
        "outputId": "f954b670-f487-4721-f470-9c7aa2c19e00"
      },
      "execution_count": 58,
      "outputs": [
        {
          "output_type": "execute_result",
          "data": {
            "text/plain": [
              "8.8"
            ]
          },
          "metadata": {},
          "execution_count": 58
        }
      ]
    },
    {
      "cell_type": "code",
      "source": [
        "# multiply the values\n",
        "prices.product()"
      ],
      "metadata": {
        "colab": {
          "base_uri": "https://localhost:8080/"
        },
        "id": "mAvA94ap4HaH",
        "outputId": "5ede177e-f45f-451f-d8c7-2ad8d83bcb9e"
      },
      "execution_count": 59,
      "outputs": [
        {
          "output_type": "execute_result",
          "data": {
            "text/plain": [
              "18.095480000000006"
            ]
          },
          "metadata": {},
          "execution_count": 59
        }
      ]
    },
    {
      "cell_type": "code",
      "source": [
        "print(2.99 * 4.45 * 1.36)"
      ],
      "metadata": {
        "colab": {
          "base_uri": "https://localhost:8080/"
        },
        "id": "6MowJTQy4MwG",
        "outputId": "d9c8a745-2be2-4c30-eb9e-3aeb113972a4"
      },
      "execution_count": 60,
      "outputs": [
        {
          "output_type": "stream",
          "name": "stdout",
          "text": [
            "18.095480000000006\n"
          ]
        }
      ]
    },
    {
      "cell_type": "code",
      "source": [
        "# find mean of the three values\n",
        "prices.mean()"
      ],
      "metadata": {
        "colab": {
          "base_uri": "https://localhost:8080/"
        },
        "id": "-zQv0Vxv4PIO",
        "outputId": "b7e2e8e6-9eef-4e04-ac49-590eacbb157f"
      },
      "execution_count": 61,
      "outputs": [
        {
          "output_type": "execute_result",
          "data": {
            "text/plain": [
              "2.9333333333333336"
            ]
          },
          "metadata": {},
          "execution_count": 61
        }
      ]
    },
    {
      "cell_type": "code",
      "source": [
        "# another way of finding the average\n",
        "prices.sum() / len(prices)"
      ],
      "metadata": {
        "colab": {
          "base_uri": "https://localhost:8080/"
        },
        "id": "GWG6H6MA4R_t",
        "outputId": "b572626f-e086-4857-ebe5-20d9d98307f7"
      },
      "execution_count": 62,
      "outputs": [
        {
          "output_type": "execute_result",
          "data": {
            "text/plain": [
              "2.9333333333333336"
            ]
          },
          "metadata": {},
          "execution_count": 62
        }
      ]
    },
    {
      "cell_type": "code",
      "source": [
        "# the above methods don't require paremeters/arguments; other methods do require arguments"
      ],
      "metadata": {
        "id": "ODohcKiK4Tcl"
      },
      "execution_count": 63,
      "outputs": []
    },
    {
      "cell_type": "markdown",
      "source": [
        "## Intro to attributes\n",
        "- attribute is a detail/characteristic/fact/property that an object can tell us about itself\n",
        "- method is a behavior or command, akin to a verb\n",
        "- attribute is akin to an adjective"
      ],
      "metadata": {
        "id": "c4Y5hWlq4ylI"
      }
    },
    {
      "cell_type": "code",
      "source": [
        "# create a Series\n",
        "adjectives = pd.Series(['smart', 'handsome', 'charming', 'brilliant', 'humble', 'smart'])\n",
        "print(adjectives)"
      ],
      "metadata": {
        "colab": {
          "base_uri": "https://localhost:8080/"
        },
        "id": "V7Eik2rr4dcL",
        "outputId": "d043f1e2-11bb-4b06-f7c4-fb7a4a952b3d"
      },
      "execution_count": 32,
      "outputs": [
        {
          "output_type": "stream",
          "name": "stdout",
          "text": [
            "0        smart\n",
            "1     handsome\n",
            "2     charming\n",
            "3    brilliant\n",
            "4       humble\n",
            "5        smart\n",
            "dtype: object\n"
          ]
        }
      ]
    },
    {
      "cell_type": "code",
      "source": [
        "# how many elements are in Series\n",
        "adjectives.size"
      ],
      "metadata": {
        "colab": {
          "base_uri": "https://localhost:8080/"
        },
        "id": "GdNVg6d85YN8",
        "outputId": "454b2397-2957-4668-83ed-06c8ae1e78f6"
      },
      "execution_count": 33,
      "outputs": [
        {
          "output_type": "execute_result",
          "data": {
            "text/plain": [
              "6"
            ]
          },
          "metadata": {},
          "execution_count": 33
        }
      ]
    },
    {
      "cell_type": "code",
      "source": [
        "# whether each element is unique, i.e., no duplicates\n",
        "adjectives.is_unique"
      ],
      "metadata": {
        "colab": {
          "base_uri": "https://localhost:8080/"
        },
        "id": "MWgIUvLO5k4S",
        "outputId": "bafc4697-a0f0-4397-cd0c-b1f9e01c6db6"
      },
      "execution_count": 34,
      "outputs": [
        {
          "output_type": "execute_result",
          "data": {
            "text/plain": [
              "False"
            ]
          },
          "metadata": {},
          "execution_count": 34
        }
      ]
    },
    {
      "cell_type": "code",
      "source": [
        "# methods have parentheses, e.g., series.method()\n",
        "# attributes don't have parentheses, e.g., series.attribute\n",
        "# when you do series. and wait, methods are indicated by box, attributes by wrench"
      ],
      "metadata": {
        "id": "lRWszHOz5qux"
      },
      "execution_count": 35,
      "outputs": []
    },
    {
      "cell_type": "code",
      "source": [
        "# pull out values; Series consists of index and values; this is an attribute\n",
        "adjectives.values"
      ],
      "metadata": {
        "colab": {
          "base_uri": "https://localhost:8080/"
        },
        "id": "dqcOZjGm6IcM",
        "outputId": "3e94bf0c-8ee2-424b-916f-b676ef3653fb"
      },
      "execution_count": 36,
      "outputs": [
        {
          "output_type": "execute_result",
          "data": {
            "text/plain": [
              "array(['smart', 'handsome', 'charming', 'brilliant', 'humble', 'smart'],\n",
              "      dtype=object)"
            ]
          },
          "metadata": {},
          "execution_count": 36
        }
      ]
    },
    {
      "cell_type": "code",
      "source": [
        "# above, values is a numpy array; pandas is built top of numpy\n",
        "type(adjectives.values)"
      ],
      "metadata": {
        "colab": {
          "base_uri": "https://localhost:8080/"
        },
        "id": "8CxEftNw6995",
        "outputId": "ba78f9f3-b697-428f-f1f5-2152ee519b30"
      },
      "execution_count": 38,
      "outputs": [
        {
          "output_type": "execute_result",
          "data": {
            "text/plain": [
              "numpy.ndarray"
            ]
          },
          "metadata": {},
          "execution_count": 38
        }
      ]
    },
    {
      "cell_type": "code",
      "source": [
        "# pull out index\n",
        "adjectives.index"
      ],
      "metadata": {
        "colab": {
          "base_uri": "https://localhost:8080/"
        },
        "id": "ddPxwBLB7C9H",
        "outputId": "022b2351-4bdd-413c-c80d-307265956dd7"
      },
      "execution_count": 41,
      "outputs": [
        {
          "output_type": "execute_result",
          "data": {
            "text/plain": [
              "RangeIndex(start=0, stop=6, step=1)"
            ]
          },
          "metadata": {},
          "execution_count": 41
        }
      ]
    },
    {
      "cell_type": "code",
      "source": [
        "type(adjectives.index)\n",
        "# index is from pandas"
      ],
      "metadata": {
        "colab": {
          "base_uri": "https://localhost:8080/"
        },
        "id": "3eG4KOlUeHrU",
        "outputId": "0772b515-2ca1-4014-838a-0ba01de3d55e"
      },
      "execution_count": 42,
      "outputs": [
        {
          "output_type": "execute_result",
          "data": {
            "text/plain": [
              "pandas.core.indexes.range.RangeIndex"
            ]
          },
          "metadata": {},
          "execution_count": 42
        }
      ]
    },
    {
      "cell_type": "code",
      "source": [
        "# data type\n",
        "adjectives.dtype\n",
        "  # 'O' for object"
      ],
      "metadata": {
        "colab": {
          "base_uri": "https://localhost:8080/"
        },
        "id": "HaellaCVeOyJ",
        "outputId": "baec1518-353d-443e-ae48-910e59517cb5"
      },
      "execution_count": 43,
      "outputs": [
        {
          "output_type": "execute_result",
          "data": {
            "text/plain": [
              "dtype('O')"
            ]
          },
          "metadata": {},
          "execution_count": 43
        }
      ]
    },
    {
      "cell_type": "code",
      "source": [
        "prices.dtype"
      ],
      "metadata": {
        "colab": {
          "base_uri": "https://localhost:8080/"
        },
        "id": "-0ACnWsTel7Q",
        "outputId": "e3c5e097-5115-49c9-d8a0-5ae9e3ddf7fd"
      },
      "execution_count": 64,
      "outputs": [
        {
          "output_type": "execute_result",
          "data": {
            "text/plain": [
              "dtype('float64')"
            ]
          },
          "metadata": {},
          "execution_count": 64
        }
      ]
    },
    {
      "cell_type": "markdown",
      "source": [
        "## Parameters and arguments\n",
        "- Paramter is generic name, i.e., left side of equal sign inside a .method()\n",
        "- Argument is specific/conrete value, i.e., right side of equal sign inside a .method()\n",
        "\n",
        "E.g., difficulty is a parameter; easy, medium, hard are potentil arguments for the difficulty parameter"
      ],
      "metadata": {
        "id": "nWnvnFDffFLS"
      }
    },
    {
      "cell_type": "code",
      "source": [
        "# create two lists\n",
        "fruits = ['apple', 'banana', 'orange', 'blueberry', 'raspberry']\n",
        "day_of_week = ['Mon', 'Tue', 'Wed', 'Thu', 'Fri']"
      ],
      "metadata": {
        "id": "fGX-AkqqepEI"
      },
      "execution_count": 65,
      "outputs": []
    },
    {
      "cell_type": "code",
      "source": [
        "# create series where fruits is the value and day_of_week is index\n",
        "pd.Series(\n",
        "    data = fruits,\n",
        "    index = day_of_week\n",
        ")"
      ],
      "metadata": {
        "colab": {
          "base_uri": "https://localhost:8080/"
        },
        "id": "73NLgE2IjWLh",
        "outputId": "89e5cada-2318-413b-8778-1c367ffd9eb6"
      },
      "execution_count": 66,
      "outputs": [
        {
          "output_type": "execute_result",
          "data": {
            "text/plain": [
              "Mon        apple\n",
              "Tue       banana\n",
              "Wed       orange\n",
              "Thu    blueberry\n",
              "Fri    raspberry\n",
              "dtype: object"
            ]
          },
          "metadata": {},
          "execution_count": 66
        }
      ]
    },
    {
      "cell_type": "code",
      "source": [
        "# above, data and index are parameters; fruits and day_of_week are arguments"
      ],
      "metadata": {
        "id": "yH3xbcmmjfGz"
      },
      "execution_count": 67,
      "outputs": []
    },
    {
      "cell_type": "code",
      "source": [
        "# equivalent to the above\n",
        "pd.Series(fruits, day_of_week)\n",
        "  # first paramter is data; second parameter is index; decided by pandas development team"
      ],
      "metadata": {
        "colab": {
          "base_uri": "https://localhost:8080/"
        },
        "id": "nGIS1OA7ju3N",
        "outputId": "8247b966-a49e-4642-df8a-d3798d78b924"
      },
      "execution_count": 68,
      "outputs": [
        {
          "output_type": "execute_result",
          "data": {
            "text/plain": [
              "Mon        apple\n",
              "Tue       banana\n",
              "Wed       orange\n",
              "Thu    blueberry\n",
              "Fri    raspberry\n",
              "dtype: object"
            ]
          },
          "metadata": {},
          "execution_count": 68
        }
      ]
    },
    {
      "cell_type": "code",
      "source": [
        "# can you switch it around?\n",
        "pd.Series(index = day_of_week, data = fruits)\n",
        "  # yes, just like R"
      ],
      "metadata": {
        "colab": {
          "base_uri": "https://localhost:8080/"
        },
        "id": "2vu-mkQkj2HD",
        "outputId": "8038d54e-ae46-4962-e730-d6070a8c570b"
      },
      "execution_count": 69,
      "outputs": [
        {
          "output_type": "execute_result",
          "data": {
            "text/plain": [
              "Mon        apple\n",
              "Tue       banana\n",
              "Wed       orange\n",
              "Thu    blueberry\n",
              "Fri    raspberry\n",
              "dtype: object"
            ]
          },
          "metadata": {},
          "execution_count": 69
        }
      ]
    },
    {
      "cell_type": "code",
      "source": [
        "# but convention is just to type the arguments, not the parameters and equal signs\n",
        "# i.e., just right side and rely on position/sequence\n",
        "# ORDER MATTERS!"
      ],
      "metadata": {
        "id": "pDlTeDSFkF3s"
      },
      "execution_count": 70,
      "outputs": []
    },
    {
      "cell_type": "code",
      "source": [
        "pd.Series(day_of_week, fruits) # weekday is the data, fruits is the index\n",
        "# ORDER MATTERS!"
      ],
      "metadata": {
        "colab": {
          "base_uri": "https://localhost:8080/"
        },
        "id": "5QYxDf-gkd4e",
        "outputId": "8bb88bf7-e260-4985-e97a-5bea8f71bce2"
      },
      "execution_count": 72,
      "outputs": [
        {
          "output_type": "execute_result",
          "data": {
            "text/plain": [
              "apple        Mon\n",
              "banana       Tue\n",
              "orange       Wed\n",
              "blueberry    Thu\n",
              "raspberry    Fri\n",
              "dtype: object"
            ]
          },
          "metadata": {},
          "execution_count": 72
        }
      ]
    },
    {
      "cell_type": "code",
      "source": [
        "# but when you're explicit about parameters, order doesn't matter\n",
        "pd.Series(\n",
        "    data = fruits,\n",
        "    index = day_of_week\n",
        ")"
      ],
      "metadata": {
        "colab": {
          "base_uri": "https://localhost:8080/"
        },
        "id": "_xqOWtgVkgUm",
        "outputId": "6a108d44-4dbb-4a08-b4ee-e13e2df3c136"
      },
      "execution_count": 73,
      "outputs": [
        {
          "output_type": "execute_result",
          "data": {
            "text/plain": [
              "Mon        apple\n",
              "Tue       banana\n",
              "Wed       orange\n",
              "Thu    blueberry\n",
              "Fri    raspberry\n",
              "dtype: object"
            ]
          },
          "metadata": {},
          "execution_count": 73
        }
      ]
    },
    {
      "cell_type": "code",
      "source": [
        "# same as above\n",
        "pd.Series(\n",
        "    index = day_of_week,\n",
        "    data = fruits\n",
        ")"
      ],
      "metadata": {
        "colab": {
          "base_uri": "https://localhost:8080/"
        },
        "id": "R5273sOIpp81",
        "outputId": "463a49fd-60de-414c-9716-89176c722d08"
      },
      "execution_count": 74,
      "outputs": [
        {
          "output_type": "execute_result",
          "data": {
            "text/plain": [
              "Mon        apple\n",
              "Tue       banana\n",
              "Wed       orange\n",
              "Thu    blueberry\n",
              "Fri    raspberry\n",
              "dtype: object"
            ]
          },
          "metadata": {},
          "execution_count": 74
        }
      ]
    },
    {
      "cell_type": "code",
      "source": [
        "# being explicit is known as keyword paramters or keyword arguments"
      ],
      "metadata": {
        "id": "1V_aYQ4cpvpm"
      },
      "execution_count": 75,
      "outputs": []
    },
    {
      "cell_type": "code",
      "source": [
        "# can also mix and match; include some keywords but not others\n",
        "pd.Series(fruits, index = day_of_week)"
      ],
      "metadata": {
        "colab": {
          "base_uri": "https://localhost:8080/"
        },
        "id": "Rq3kzCsyqtPl",
        "outputId": "c4d4aa2c-e73d-4e8f-c2fb-d9e6628cbb5d"
      },
      "execution_count": 76,
      "outputs": [
        {
          "output_type": "execute_result",
          "data": {
            "text/plain": [
              "Mon        apple\n",
              "Tue       banana\n",
              "Wed       orange\n",
              "Thu    blueberry\n",
              "Fri    raspberry\n",
              "dtype: object"
            ]
          },
          "metadata": {},
          "execution_count": 76
        }
      ]
    },
    {
      "cell_type": "code",
      "source": [
        "# pandas Series can have duplicate indices, unlike Python dictionary\n",
        "pd.Series(\n",
        "    data = [1, 2, 3, 3],\n",
        "    index = ['a', 'b', 'c', 'c']\n",
        ")"
      ],
      "metadata": {
        "colab": {
          "base_uri": "https://localhost:8080/"
        },
        "id": "YxbGzFruqxn0",
        "outputId": "ce8140cb-60d4-452f-c743-59aa2e6871cb"
      },
      "execution_count": 85,
      "outputs": [
        {
          "output_type": "execute_result",
          "data": {
            "text/plain": [
              "a    1\n",
              "b    2\n",
              "c    3\n",
              "c    3\n",
              "dtype: int64"
            ]
          },
          "metadata": {},
          "execution_count": 85
        }
      ]
    },
    {
      "cell_type": "code",
      "source": [
        "# data and index arguments must be of the same length"
      ],
      "metadata": {
        "id": "nxgtutx2q1br"
      },
      "execution_count": 86,
      "outputs": []
    },
    {
      "cell_type": "markdown",
      "source": [
        "## Import Pandas Series with pd.read_csv() function"
      ],
      "metadata": {
        "id": "RhsRXx7Tsvc2"
      }
    },
    {
      "cell_type": "code",
      "source": [
        "pd.read_csv('https://raw.githubusercontent.com/jack-cao-623/python_learning/main/pandas/pokemon.csv')"
      ],
      "metadata": {
        "colab": {
          "base_uri": "https://localhost:8080/",
          "height": 424
        },
        "id": "W4BojVamrzAU",
        "outputId": "a05f7157-548b-4fa8-a9f9-2a4506df0632"
      },
      "execution_count": 88,
      "outputs": [
        {
          "output_type": "execute_result",
          "data": {
            "text/plain": [
              "        Pokemon     Type\n",
              "0     Bulbasaur    Grass\n",
              "1       Ivysaur    Grass\n",
              "2      Venusaur    Grass\n",
              "3    Charmander     Fire\n",
              "4    Charmeleon     Fire\n",
              "..          ...      ...\n",
              "716     Yveltal     Dark\n",
              "717     Zygarde   Dragon\n",
              "718     Diancie     Rock\n",
              "719       Hoopa  Psychic\n",
              "720   Volcanion     Fire\n",
              "\n",
              "[721 rows x 2 columns]"
            ],
            "text/html": [
              "\n",
              "  <div id=\"df-a11ae05f-b354-4345-974b-605d62ee92e1\">\n",
              "    <div class=\"colab-df-container\">\n",
              "      <div>\n",
              "<style scoped>\n",
              "    .dataframe tbody tr th:only-of-type {\n",
              "        vertical-align: middle;\n",
              "    }\n",
              "\n",
              "    .dataframe tbody tr th {\n",
              "        vertical-align: top;\n",
              "    }\n",
              "\n",
              "    .dataframe thead th {\n",
              "        text-align: right;\n",
              "    }\n",
              "</style>\n",
              "<table border=\"1\" class=\"dataframe\">\n",
              "  <thead>\n",
              "    <tr style=\"text-align: right;\">\n",
              "      <th></th>\n",
              "      <th>Pokemon</th>\n",
              "      <th>Type</th>\n",
              "    </tr>\n",
              "  </thead>\n",
              "  <tbody>\n",
              "    <tr>\n",
              "      <th>0</th>\n",
              "      <td>Bulbasaur</td>\n",
              "      <td>Grass</td>\n",
              "    </tr>\n",
              "    <tr>\n",
              "      <th>1</th>\n",
              "      <td>Ivysaur</td>\n",
              "      <td>Grass</td>\n",
              "    </tr>\n",
              "    <tr>\n",
              "      <th>2</th>\n",
              "      <td>Venusaur</td>\n",
              "      <td>Grass</td>\n",
              "    </tr>\n",
              "    <tr>\n",
              "      <th>3</th>\n",
              "      <td>Charmander</td>\n",
              "      <td>Fire</td>\n",
              "    </tr>\n",
              "    <tr>\n",
              "      <th>4</th>\n",
              "      <td>Charmeleon</td>\n",
              "      <td>Fire</td>\n",
              "    </tr>\n",
              "    <tr>\n",
              "      <th>...</th>\n",
              "      <td>...</td>\n",
              "      <td>...</td>\n",
              "    </tr>\n",
              "    <tr>\n",
              "      <th>716</th>\n",
              "      <td>Yveltal</td>\n",
              "      <td>Dark</td>\n",
              "    </tr>\n",
              "    <tr>\n",
              "      <th>717</th>\n",
              "      <td>Zygarde</td>\n",
              "      <td>Dragon</td>\n",
              "    </tr>\n",
              "    <tr>\n",
              "      <th>718</th>\n",
              "      <td>Diancie</td>\n",
              "      <td>Rock</td>\n",
              "    </tr>\n",
              "    <tr>\n",
              "      <th>719</th>\n",
              "      <td>Hoopa</td>\n",
              "      <td>Psychic</td>\n",
              "    </tr>\n",
              "    <tr>\n",
              "      <th>720</th>\n",
              "      <td>Volcanion</td>\n",
              "      <td>Fire</td>\n",
              "    </tr>\n",
              "  </tbody>\n",
              "</table>\n",
              "<p>721 rows × 2 columns</p>\n",
              "</div>\n",
              "      <button class=\"colab-df-convert\" onclick=\"convertToInteractive('df-a11ae05f-b354-4345-974b-605d62ee92e1')\"\n",
              "              title=\"Convert this dataframe to an interactive table.\"\n",
              "              style=\"display:none;\">\n",
              "        \n",
              "  <svg xmlns=\"http://www.w3.org/2000/svg\" height=\"24px\"viewBox=\"0 0 24 24\"\n",
              "       width=\"24px\">\n",
              "    <path d=\"M0 0h24v24H0V0z\" fill=\"none\"/>\n",
              "    <path d=\"M18.56 5.44l.94 2.06.94-2.06 2.06-.94-2.06-.94-.94-2.06-.94 2.06-2.06.94zm-11 1L8.5 8.5l.94-2.06 2.06-.94-2.06-.94L8.5 2.5l-.94 2.06-2.06.94zm10 10l.94 2.06.94-2.06 2.06-.94-2.06-.94-.94-2.06-.94 2.06-2.06.94z\"/><path d=\"M17.41 7.96l-1.37-1.37c-.4-.4-.92-.59-1.43-.59-.52 0-1.04.2-1.43.59L10.3 9.45l-7.72 7.72c-.78.78-.78 2.05 0 2.83L4 21.41c.39.39.9.59 1.41.59.51 0 1.02-.2 1.41-.59l7.78-7.78 2.81-2.81c.8-.78.8-2.07 0-2.86zM5.41 20L4 18.59l7.72-7.72 1.47 1.35L5.41 20z\"/>\n",
              "  </svg>\n",
              "      </button>\n",
              "      \n",
              "  <style>\n",
              "    .colab-df-container {\n",
              "      display:flex;\n",
              "      flex-wrap:wrap;\n",
              "      gap: 12px;\n",
              "    }\n",
              "\n",
              "    .colab-df-convert {\n",
              "      background-color: #E8F0FE;\n",
              "      border: none;\n",
              "      border-radius: 50%;\n",
              "      cursor: pointer;\n",
              "      display: none;\n",
              "      fill: #1967D2;\n",
              "      height: 32px;\n",
              "      padding: 0 0 0 0;\n",
              "      width: 32px;\n",
              "    }\n",
              "\n",
              "    .colab-df-convert:hover {\n",
              "      background-color: #E2EBFA;\n",
              "      box-shadow: 0px 1px 2px rgba(60, 64, 67, 0.3), 0px 1px 3px 1px rgba(60, 64, 67, 0.15);\n",
              "      fill: #174EA6;\n",
              "    }\n",
              "\n",
              "    [theme=dark] .colab-df-convert {\n",
              "      background-color: #3B4455;\n",
              "      fill: #D2E3FC;\n",
              "    }\n",
              "\n",
              "    [theme=dark] .colab-df-convert:hover {\n",
              "      background-color: #434B5C;\n",
              "      box-shadow: 0px 1px 3px 1px rgba(0, 0, 0, 0.15);\n",
              "      filter: drop-shadow(0px 1px 2px rgba(0, 0, 0, 0.3));\n",
              "      fill: #FFFFFF;\n",
              "    }\n",
              "  </style>\n",
              "\n",
              "      <script>\n",
              "        const buttonEl =\n",
              "          document.querySelector('#df-a11ae05f-b354-4345-974b-605d62ee92e1 button.colab-df-convert');\n",
              "        buttonEl.style.display =\n",
              "          google.colab.kernel.accessAllowed ? 'block' : 'none';\n",
              "\n",
              "        async function convertToInteractive(key) {\n",
              "          const element = document.querySelector('#df-a11ae05f-b354-4345-974b-605d62ee92e1');\n",
              "          const dataTable =\n",
              "            await google.colab.kernel.invokeFunction('convertToInteractive',\n",
              "                                                     [key], {});\n",
              "          if (!dataTable) return;\n",
              "\n",
              "          const docLinkHtml = 'Like what you see? Visit the ' +\n",
              "            '<a target=\"_blank\" href=https://colab.research.google.com/notebooks/data_table.ipynb>data table notebook</a>'\n",
              "            + ' to learn more about interactive tables.';\n",
              "          element.innerHTML = '';\n",
              "          dataTable['output_type'] = 'display_data';\n",
              "          await google.colab.output.renderOutput(dataTable, element);\n",
              "          const docLink = document.createElement('div');\n",
              "          docLink.innerHTML = docLinkHtml;\n",
              "          element.appendChild(docLink);\n",
              "        }\n",
              "      </script>\n",
              "    </div>\n",
              "  </div>\n",
              "  "
            ]
          },
          "metadata": {},
          "execution_count": 88
        }
      ]
    },
    {
      "cell_type": "code",
      "source": [
        "# above is not a Series; it's a DataFrame"
      ],
      "metadata": {
        "id": "gbO2uPhmtcoU"
      },
      "execution_count": 89,
      "outputs": []
    },
    {
      "cell_type": "code",
      "source": [
        "pokemon = (\n",
        "    pd.read_csv(\n",
        "      'https://raw.githubusercontent.com/jack-cao-623/python_learning/main/pandas/pokemon.csv',\n",
        "      usecols = ['Pokemon']  # only import these columns; must be a list\n",
        "    )              # this is a dataframe with one column\n",
        "    .squeeze()     # convert dataframe to series\n",
        ")\n",
        "\n",
        "pokemon"
      ],
      "metadata": {
        "colab": {
          "base_uri": "https://localhost:8080/"
        },
        "id": "qBTY9PJ4ud9D",
        "outputId": "8772275c-5a73-4b43-dfd4-0f8028ca7809"
      },
      "execution_count": 98,
      "outputs": [
        {
          "output_type": "execute_result",
          "data": {
            "text/plain": [
              "0       Bulbasaur\n",
              "1         Ivysaur\n",
              "2        Venusaur\n",
              "3      Charmander\n",
              "4      Charmeleon\n",
              "          ...    \n",
              "716       Yveltal\n",
              "717       Zygarde\n",
              "718       Diancie\n",
              "719         Hoopa\n",
              "720     Volcanion\n",
              "Name: Pokemon, Length: 721, dtype: object"
            ]
          },
          "metadata": {},
          "execution_count": 98
        }
      ]
    },
    {
      "cell_type": "code",
      "source": [
        "# elipsis ... indicates gap in data; still there, but not showing it; otherwise, entire screen will be taken up"
      ],
      "metadata": {
        "id": "7bIfw8XeuiLC"
      },
      "execution_count": 99,
      "outputs": []
    },
    {
      "cell_type": "code",
      "source": [
        "# another example\n",
        "google = (\n",
        "    pd.read_csv(\n",
        "        'https://raw.githubusercontent.com/jack-cao-623/python_learning/main/pandas/google_stock_price.csv',\n",
        "        usecols = ['Stock Price']    # only read in this columns\n",
        "    )\n",
        "    .squeeze(axis = 'columns')  # convert to Series\n",
        ")\n",
        "\n",
        "google"
      ],
      "metadata": {
        "colab": {
          "base_uri": "https://localhost:8080/"
        },
        "id": "is2T22Nxv0Ps",
        "outputId": "da29580a-ae47-437d-c74f-eccf356b1eb0"
      },
      "execution_count": 109,
      "outputs": [
        {
          "output_type": "execute_result",
          "data": {
            "text/plain": [
              "0        50.12\n",
              "1        54.10\n",
              "2        54.65\n",
              "3        52.38\n",
              "4        52.95\n",
              "         ...  \n",
              "3007    772.88\n",
              "3008    771.07\n",
              "3009    773.18\n",
              "3010    771.61\n",
              "3011    782.22\n",
              "Name: Stock Price, Length: 3012, dtype: float64"
            ]
          },
          "metadata": {},
          "execution_count": 109
        }
      ]
    },
    {
      "cell_type": "markdown",
      "source": [
        "## .head() and .tail() method on a Series\n",
        "- purpose is to preview first or last n entries\n",
        "- returns a view\n",
        "- copies vs. views becomes an issue when cleaning/manipulating/wrangling data"
      ],
      "metadata": {
        "id": "TA7fs5c51hrj"
      }
    },
    {
      "cell_type": "code",
      "source": [
        "google.head(n = 5)     # view first entries in google"
      ],
      "metadata": {
        "colab": {
          "base_uri": "https://localhost:8080/"
        },
        "id": "SpHuGfv4v2EL",
        "outputId": "24b3fdc5-a859-4512-e7b6-4abcf59a6703"
      },
      "execution_count": 112,
      "outputs": [
        {
          "output_type": "execute_result",
          "data": {
            "text/plain": [
              "0    50.12\n",
              "1    54.10\n",
              "2    54.65\n",
              "3    52.38\n",
              "4    52.95\n",
              "Name: Stock Price, dtype: float64"
            ]
          },
          "metadata": {},
          "execution_count": 112
        }
      ]
    },
    {
      "cell_type": "code",
      "source": [
        "google.tail(n = 5)     # view last entries in google"
      ],
      "metadata": {
        "colab": {
          "base_uri": "https://localhost:8080/"
        },
        "id": "9dvr8Ehrzqsx",
        "outputId": "e934ea4a-6253-4a99-a242-d120ab882e1c"
      },
      "execution_count": 116,
      "outputs": [
        {
          "output_type": "execute_result",
          "data": {
            "text/plain": [
              "3007    772.88\n",
              "3008    771.07\n",
              "3009    773.18\n",
              "3010    771.61\n",
              "3011    782.22\n",
              "Name: Stock Price, dtype: float64"
            ]
          },
          "metadata": {},
          "execution_count": 116
        }
      ]
    },
    {
      "cell_type": "code",
      "source": [
        "# view last 10 rows of pokemon\n",
        "pokemon.tail(n = 10)"
      ],
      "metadata": {
        "colab": {
          "base_uri": "https://localhost:8080/"
        },
        "id": "3WwfRq8q1sJx",
        "outputId": "5d487c6b-b0a5-4166-fa5e-a8683adfdea6"
      },
      "execution_count": 117,
      "outputs": [
        {
          "output_type": "execute_result",
          "data": {
            "text/plain": [
              "711     Bergmite\n",
              "712      Avalugg\n",
              "713       Noibat\n",
              "714      Noivern\n",
              "715      Xerneas\n",
              "716      Yveltal\n",
              "717      Zygarde\n",
              "718      Diancie\n",
              "719        Hoopa\n",
              "720    Volcanion\n",
              "Name: Pokemon, dtype: object"
            ]
          },
          "metadata": {},
          "execution_count": 117
        }
      ]
    },
    {
      "cell_type": "code",
      "source": [
        "# above is equivalent to:\n",
        "pokemon[-10:]"
      ],
      "metadata": {
        "colab": {
          "base_uri": "https://localhost:8080/"
        },
        "id": "L_zEIj98OnXz",
        "outputId": "7806b1c4-b184-46e5-cad7-e22801a85e95"
      },
      "execution_count": 119,
      "outputs": [
        {
          "output_type": "execute_result",
          "data": {
            "text/plain": [
              "711     Bergmite\n",
              "712      Avalugg\n",
              "713       Noibat\n",
              "714      Noivern\n",
              "715      Xerneas\n",
              "716      Yveltal\n",
              "717      Zygarde\n",
              "718      Diancie\n",
              "719        Hoopa\n",
              "720    Volcanion\n",
              "Name: Pokemon, dtype: object"
            ]
          },
          "metadata": {},
          "execution_count": 119
        }
      ]
    },
    {
      "cell_type": "markdown",
      "source": [
        "## Passing Series to Python built-in functions"
      ],
      "metadata": {
        "id": "ye96LWfoQ4p9"
      }
    },
    {
      "cell_type": "code",
      "source": [
        "# number of elements in series, null and non-null\n",
        "len(pokemon)"
      ],
      "metadata": {
        "colab": {
          "base_uri": "https://localhost:8080/"
        },
        "id": "PXtL5DQLOpRT",
        "outputId": "abf24106-5451-43e8-d53c-d46b47b39162"
      },
      "execution_count": 120,
      "outputs": [
        {
          "output_type": "execute_result",
          "data": {
            "text/plain": [
              "721"
            ]
          },
          "metadata": {},
          "execution_count": 120
        }
      ]
    },
    {
      "cell_type": "code",
      "source": [
        "len(pd.Series([1, np.nan, 2])) # length of 3"
      ],
      "metadata": {
        "colab": {
          "base_uri": "https://localhost:8080/"
        },
        "id": "34tMPgn0lBqu",
        "outputId": "3fd95768-2761-42af-c08a-c54a73bad025"
      },
      "execution_count": 123,
      "outputs": [
        {
          "output_type": "execute_result",
          "data": {
            "text/plain": [
              "3"
            ]
          },
          "metadata": {},
          "execution_count": 123
        }
      ]
    },
    {
      "cell_type": "code",
      "source": [
        "type(pokemon) # pokemon is a series"
      ],
      "metadata": {
        "colab": {
          "base_uri": "https://localhost:8080/"
        },
        "id": "C4FxqSeYlFs9",
        "outputId": "899b8977-c444-4bb1-dd6c-e459f29be78c"
      },
      "execution_count": 124,
      "outputs": [
        {
          "output_type": "execute_result",
          "data": {
            "text/plain": [
              "pandas.core.series.Series"
            ]
          },
          "metadata": {},
          "execution_count": 124
        }
      ]
    },
    {
      "cell_type": "code",
      "source": [
        "dir(pokemon)[:5]  # returns a list of methods and attributes available for pokemon\n",
        "# equivalent to pokemon.[shift + tab]"
      ],
      "metadata": {
        "colab": {
          "base_uri": "https://localhost:8080/"
        },
        "id": "QOVavynWoJQY",
        "outputId": "a2f67281-c3da-4b70-85b8-30f379347d65"
      },
      "execution_count": 127,
      "outputs": [
        {
          "output_type": "execute_result",
          "data": {
            "text/plain": [
              "['T', '_AXIS_LEN', '_AXIS_ORDERS', '_AXIS_REVERSED', '_AXIS_TO_AXIS_NUMBER']"
            ]
          },
          "metadata": {},
          "execution_count": 127
        }
      ]
    },
    {
      "cell_type": "code",
      "source": [
        "sorted(pokemon)[:5]  # sort pokemon in alphabetical order; returns a list"
      ],
      "metadata": {
        "colab": {
          "base_uri": "https://localhost:8080/"
        },
        "id": "qde-ZzLVoL6y",
        "outputId": "25e228a0-881f-4d82-d060-e8f13cfb4d98"
      },
      "execution_count": 129,
      "outputs": [
        {
          "output_type": "execute_result",
          "data": {
            "text/plain": [
              "['Abomasnow', 'Abra', 'Absol', 'Accelgor', 'Aegislash']"
            ]
          },
          "metadata": {},
          "execution_count": 129
        }
      ]
    },
    {
      "cell_type": "code",
      "source": [
        "type(sorted(pokemon)) # this is a list; nested"
      ],
      "metadata": {
        "colab": {
          "base_uri": "https://localhost:8080/"
        },
        "id": "C0cTHE5eoY-u",
        "outputId": "e6f5d25a-59fe-4429-f7ff-ef71c6d71267"
      },
      "execution_count": 130,
      "outputs": [
        {
          "output_type": "execute_result",
          "data": {
            "text/plain": [
              "list"
            ]
          },
          "metadata": {},
          "execution_count": 130
        }
      ]
    },
    {
      "cell_type": "code",
      "source": [
        "# sort google\n",
        "sorted(google)[:5] # first 5 elements"
      ],
      "metadata": {
        "colab": {
          "base_uri": "https://localhost:8080/"
        },
        "id": "1-aGde9-of-m",
        "outputId": "93b7b6f2-28e9-45d9-a2ed-c54062177cad"
      },
      "execution_count": 131,
      "outputs": [
        {
          "output_type": "execute_result",
          "data": {
            "text/plain": [
              "[49.95, 50.07, 50.12, 50.7, 50.74]"
            ]
          },
          "metadata": {},
          "execution_count": 131
        }
      ]
    },
    {
      "cell_type": "code",
      "source": [
        "# convert pokemon series to a list\n",
        "list(pokemon)[:5]"
      ],
      "metadata": {
        "colab": {
          "base_uri": "https://localhost:8080/"
        },
        "id": "rb-nDht7opZ_",
        "outputId": "0733a62d-84fa-4eb9-ea1c-aae11cee6cd8"
      },
      "execution_count": 133,
      "outputs": [
        {
          "output_type": "execute_result",
          "data": {
            "text/plain": [
              "['Bulbasaur', 'Ivysaur', 'Venusaur', 'Charmander', 'Charmeleon']"
            ]
          },
          "metadata": {},
          "execution_count": 133
        }
      ]
    },
    {
      "cell_type": "code",
      "source": [
        "# convert pokemon series to a dicitionary where keys are indices and elements are values\n",
        "dict(pokemon) ## super long don't run"
      ],
      "metadata": {
        "colab": {
          "base_uri": "https://localhost:8080/"
        },
        "id": "qCIbLBuyovi_",
        "outputId": "b8c4ac96-110d-4874-d68f-6b02db6cdf4f"
      },
      "execution_count": 142,
      "outputs": [
        {
          "output_type": "execute_result",
          "data": {
            "text/plain": [
              "dict_items"
            ]
          },
          "metadata": {},
          "execution_count": 142
        }
      ]
    },
    {
      "cell_type": "code",
      "source": [
        "# return highest and lowest stock values\n",
        "print(google.max())\n",
        "print(google.min())"
      ],
      "metadata": {
        "colab": {
          "base_uri": "https://localhost:8080/"
        },
        "id": "x6gLaUioo1Zl",
        "outputId": "e7844738-519e-4ff9-af6c-fdf6d654e73d"
      },
      "execution_count": 144,
      "outputs": [
        {
          "output_type": "stream",
          "name": "stdout",
          "text": [
            "782.22\n",
            "49.95\n"
          ]
        }
      ]
    },
    {
      "cell_type": "code",
      "source": [
        "# above is equivalent to:\n",
        "print(max(google))\n",
        "print(min(google))"
      ],
      "metadata": {
        "colab": {
          "base_uri": "https://localhost:8080/"
        },
        "id": "RYug1hsfpu4R",
        "outputId": "0628dc87-e8ae-4cb1-9869-0ed883fc8c5f"
      },
      "execution_count": 145,
      "outputs": [
        {
          "output_type": "stream",
          "name": "stdout",
          "text": [
            "782.22\n",
            "49.95\n"
          ]
        }
      ]
    },
    {
      "cell_type": "markdown",
      "source": [
        "## The .sort_values() method"
      ],
      "metadata": {
        "id": "WE8tKLvmp9nN"
      }
    },
    {
      "cell_type": "code",
      "source": [
        "# sort pokemon alphabetically\n",
        "pokemon.sort_values()"
      ],
      "metadata": {
        "colab": {
          "base_uri": "https://localhost:8080/"
        },
        "id": "SLiUrK-zpyow",
        "outputId": "470a1261-db91-4917-9c38-66fc8801b0ea"
      },
      "execution_count": 147,
      "outputs": [
        {
          "output_type": "execute_result",
          "data": {
            "text/plain": [
              "0       Bulbasaur\n",
              "1         Ivysaur\n",
              "2        Venusaur\n",
              "3      Charmander\n",
              "4      Charmeleon\n",
              "          ...    \n",
              "716       Yveltal\n",
              "717       Zygarde\n",
              "718       Diancie\n",
              "719         Hoopa\n",
              "720     Volcanion\n",
              "Name: Pokemon, Length: 721, dtype: object"
            ]
          },
          "metadata": {},
          "execution_count": 147
        }
      ]
    },
    {
      "cell_type": "code",
      "source": [
        "# method chaining\n",
        "(\n",
        "    pokemon\n",
        "      .sort_values()   # sort alphabetically\n",
        "      .head()          # view first entries\n",
        ")"
      ],
      "metadata": {
        "colab": {
          "base_uri": "https://localhost:8080/"
        },
        "id": "SzGyfaqrqOAz",
        "outputId": "9e00cf0c-540a-4c65-80b0-719d12e6b5b0"
      },
      "execution_count": 148,
      "outputs": [
        {
          "output_type": "execute_result",
          "data": {
            "text/plain": [
              "459    Abomasnow\n",
              "62          Abra\n",
              "358        Absol\n",
              "616     Accelgor\n",
              "680    Aegislash\n",
              "Name: Pokemon, dtype: object"
            ]
          },
          "metadata": {},
          "execution_count": 148
        }
      ]
    },
    {
      "cell_type": "code",
      "source": [
        "# sort in descending order\n",
        "(\n",
        "    pokemon\n",
        "      .sort_values(ascending = False)    # reverse alphabetical order\n",
        "      .head(n = 5)\n",
        ")"
      ],
      "metadata": {
        "colab": {
          "base_uri": "https://localhost:8080/"
        },
        "id": "Yd_jnG6NqY5J",
        "outputId": "5ba9c147-7cb0-43cd-dfd6-8c4ae97625ad"
      },
      "execution_count": 149,
      "outputs": [
        {
          "output_type": "execute_result",
          "data": {
            "text/plain": [
              "717     Zygarde\n",
              "633    Zweilous\n",
              "40        Zubat\n",
              "569       Zorua\n",
              "570     Zoroark\n",
              "Name: Pokemon, dtype: object"
            ]
          },
          "metadata": {},
          "execution_count": 149
        }
      ]
    },
    {
      "cell_type": "code",
      "source": [
        "# sort google stock prices\n",
        "(\n",
        "    google\n",
        "      .sort_values(ascending = True)\n",
        ")"
      ],
      "metadata": {
        "colab": {
          "base_uri": "https://localhost:8080/"
        },
        "id": "bmPUeq32qm7S",
        "outputId": "683f805f-7f72-4645-a382-68afbe6464b1"
      },
      "execution_count": 150,
      "outputs": [
        {
          "output_type": "execute_result",
          "data": {
            "text/plain": [
              "11       49.95\n",
              "9        50.07\n",
              "0        50.12\n",
              "10       50.70\n",
              "12       50.74\n",
              "         ...  \n",
              "3010    771.61\n",
              "3007    772.88\n",
              "3009    773.18\n",
              "2859    776.60\n",
              "3011    782.22\n",
              "Name: Stock Price, Length: 3012, dtype: float64"
            ]
          },
          "metadata": {},
          "execution_count": 150
        }
      ]
    },
    {
      "cell_type": "code",
      "source": [
        "# note that index moves with the sort\n",
        "# 11 was in position 11"
      ],
      "metadata": {
        "id": "_I3M52sQqwQv"
      },
      "execution_count": 151,
      "outputs": []
    },
    {
      "cell_type": "code",
      "source": [
        "# from highest to lowest stock price\n",
        "(\n",
        "    google\n",
        "      .sort_values(ascending = False)\n",
        ")"
      ],
      "metadata": {
        "colab": {
          "base_uri": "https://localhost:8080/"
        },
        "id": "96WCX3etq9IO",
        "outputId": "4c48a2ac-c599-494c-e0e1-4e1273ba2347"
      },
      "execution_count": 152,
      "outputs": [
        {
          "output_type": "execute_result",
          "data": {
            "text/plain": [
              "3011    782.22\n",
              "2859    776.60\n",
              "3009    773.18\n",
              "3007    772.88\n",
              "3010    771.61\n",
              "         ...  \n",
              "12       50.74\n",
              "10       50.70\n",
              "0        50.12\n",
              "9        50.07\n",
              "11       49.95\n",
              "Name: Stock Price, Length: 3012, dtype: float64"
            ]
          },
          "metadata": {},
          "execution_count": 152
        }
      ]
    },
    {
      "cell_type": "markdown",
      "source": [
        "## The sort_index() method"
      ],
      "metadata": {
        "id": "z1GmXS5psVdn"
      }
    },
    {
      "cell_type": "code",
      "source": [
        "# pokemon series, but pokemon is index and type is entry\n",
        "pokemon2 = (\n",
        "    pd.read_csv(\n",
        "        'https://raw.githubusercontent.com/jack-cao-623/python_learning/main/pandas/pokemon.csv',\n",
        "        index_col = 'Pokemon'\n",
        "    )\n",
        "      .squeeze(axis = 'columns')  # convert DataFrame to Series\n",
        ")\n",
        "\n",
        "pokemon2"
      ],
      "metadata": {
        "colab": {
          "base_uri": "https://localhost:8080/"
        },
        "id": "UdTvrnrnq_ft",
        "outputId": "cd8355d0-9088-4551-ebe0-ef6e39b6e73c"
      },
      "execution_count": 159,
      "outputs": [
        {
          "output_type": "execute_result",
          "data": {
            "text/plain": [
              "Pokemon\n",
              "Bulbasaur       Grass\n",
              "Ivysaur         Grass\n",
              "Venusaur        Grass\n",
              "Charmander       Fire\n",
              "Charmeleon       Fire\n",
              "               ...   \n",
              "Yveltal          Dark\n",
              "Zygarde        Dragon\n",
              "Diancie          Rock\n",
              "Hoopa         Psychic\n",
              "Volcanion        Fire\n",
              "Name: Type, Length: 721, dtype: object"
            ]
          },
          "metadata": {},
          "execution_count": 159
        }
      ]
    },
    {
      "cell_type": "code",
      "source": [
        "# sort index\n",
        "pokemon2.sort_index(ascending = True)"
      ],
      "metadata": {
        "colab": {
          "base_uri": "https://localhost:8080/"
        },
        "id": "TZ-qOs7bsb5u",
        "outputId": "22249f4e-a6a5-4f9e-ecbe-520fb55706bc"
      },
      "execution_count": 160,
      "outputs": [
        {
          "output_type": "execute_result",
          "data": {
            "text/plain": [
              "Pokemon\n",
              "Abomasnow      Grass\n",
              "Abra         Psychic\n",
              "Absol           Dark\n",
              "Accelgor         Bug\n",
              "Aegislash      Steel\n",
              "              ...   \n",
              "Zoroark         Dark\n",
              "Zorua           Dark\n",
              "Zubat         Poison\n",
              "Zweilous        Dark\n",
              "Zygarde       Dragon\n",
              "Name: Type, Length: 721, dtype: object"
            ]
          },
          "metadata": {},
          "execution_count": 160
        }
      ]
    },
    {
      "cell_type": "code",
      "source": [
        "# sort reverse alphabetical order\n",
        "(\n",
        "    pokemon2\n",
        "      .sort_index(ascending = False)\n",
        ")"
      ],
      "metadata": {
        "colab": {
          "base_uri": "https://localhost:8080/"
        },
        "id": "WzZ-KjCTtsaU",
        "outputId": "f849f60b-ba6f-4fd3-f6fe-490422c2dc7d"
      },
      "execution_count": 161,
      "outputs": [
        {
          "output_type": "execute_result",
          "data": {
            "text/plain": [
              "Pokemon\n",
              "Zygarde       Dragon\n",
              "Zweilous        Dark\n",
              "Zubat         Poison\n",
              "Zorua           Dark\n",
              "Zoroark         Dark\n",
              "              ...   \n",
              "Aegislash      Steel\n",
              "Accelgor         Bug\n",
              "Absol           Dark\n",
              "Abra         Psychic\n",
              "Abomasnow      Grass\n",
              "Name: Type, Length: 721, dtype: object"
            ]
          },
          "metadata": {},
          "execution_count": 161
        }
      ]
    },
    {
      "cell_type": "markdown",
      "source": [
        "# Check for Inclusion with Python's in keyword"
      ],
      "metadata": {
        "id": "ZETp5758vCay"
      }
    },
    {
      "cell_type": "code",
      "source": [
        "pokemon # we'll work this series"
      ],
      "metadata": {
        "colab": {
          "base_uri": "https://localhost:8080/"
        },
        "id": "wEfmLF9pt8S3",
        "outputId": "656c7a8f-6b0f-4b25-d089-ad89c19b0693"
      },
      "execution_count": 162,
      "outputs": [
        {
          "output_type": "execute_result",
          "data": {
            "text/plain": [
              "0       Bulbasaur\n",
              "1         Ivysaur\n",
              "2        Venusaur\n",
              "3      Charmander\n",
              "4      Charmeleon\n",
              "          ...    \n",
              "716       Yveltal\n",
              "717       Zygarde\n",
              "718       Diancie\n",
              "719         Hoopa\n",
              "720     Volcanion\n",
              "Name: Pokemon, Length: 721, dtype: object"
            ]
          },
          "metadata": {},
          "execution_count": 162
        }
      ]
    },
    {
      "cell_type": "code",
      "source": [
        "# is 'car' in 'racecar'\n",
        "'car' in 'racecar'"
      ],
      "metadata": {
        "colab": {
          "base_uri": "https://localhost:8080/"
        },
        "id": "zENP2EODvGun",
        "outputId": "ab571963-89fe-405f-a142-e570e1bb5cc8"
      },
      "execution_count": 165,
      "outputs": [
        {
          "output_type": "execute_result",
          "data": {
            "text/plain": [
              "True"
            ]
          },
          "metadata": {},
          "execution_count": 165
        }
      ]
    },
    {
      "cell_type": "code",
      "source": [
        "# is 2 in [1, 2, 3]\n",
        "2 in [1, 2, 3]"
      ],
      "metadata": {
        "colab": {
          "base_uri": "https://localhost:8080/"
        },
        "id": "-YPA6ryHvKIA",
        "outputId": "da153e93-8118-4649-e846-bdba7f9dcc8a"
      },
      "execution_count": 166,
      "outputs": [
        {
          "output_type": "execute_result",
          "data": {
            "text/plain": [
              "True"
            ]
          },
          "metadata": {},
          "execution_count": 166
        }
      ]
    },
    {
      "cell_type": "code",
      "source": [
        "# by default, in checks in series index, not series values\n",
        "'Bulbasaur' in pokemon\n",
        "  # False because 'Bulbasaur' isn't in the index"
      ],
      "metadata": {
        "colab": {
          "base_uri": "https://localhost:8080/"
        },
        "id": "jTgnZRscvYBK",
        "outputId": "942b3f77-9fb9-431e-fafd-59a8bd4ec1ac"
      },
      "execution_count": 167,
      "outputs": [
        {
          "output_type": "execute_result",
          "data": {
            "text/plain": [
              "False"
            ]
          },
          "metadata": {},
          "execution_count": 167
        }
      ]
    },
    {
      "cell_type": "code",
      "source": [
        "100 in pokemon\n",
        "  # True because 100 is an index in pokemon Series"
      ],
      "metadata": {
        "colab": {
          "base_uri": "https://localhost:8080/"
        },
        "id": "FAYFD7kXvfVL",
        "outputId": "a66216ff-b829-4464-abee-89c7be13a73c"
      },
      "execution_count": 168,
      "outputs": [
        {
          "output_type": "execute_result",
          "data": {
            "text/plain": [
              "True"
            ]
          },
          "metadata": {},
          "execution_count": 168
        }
      ]
    },
    {
      "cell_type": "code",
      "source": [
        "# above is equivalent to:\n",
        "100 in pokemon.index"
      ],
      "metadata": {
        "colab": {
          "base_uri": "https://localhost:8080/"
        },
        "id": "L3jH3ZbUvk4D",
        "outputId": "fae6f93c-bf2d-4d89-8c62-adafc3a9e6bb"
      },
      "execution_count": 169,
      "outputs": [
        {
          "output_type": "execute_result",
          "data": {
            "text/plain": [
              "True"
            ]
          },
          "metadata": {},
          "execution_count": 169
        }
      ]
    },
    {
      "cell_type": "code",
      "source": [
        "# check if 'Bulbasaur' is in pokemon values\n",
        "'Bulbasaur' in pokemon.values"
      ],
      "metadata": {
        "colab": {
          "base_uri": "https://localhost:8080/"
        },
        "id": "aU-V1k3Jvp__",
        "outputId": "7aac4da9-b9a5-4504-a11d-56562991b341"
      },
      "execution_count": 170,
      "outputs": [
        {
          "output_type": "execute_result",
          "data": {
            "text/plain": [
              "True"
            ]
          },
          "metadata": {},
          "execution_count": 170
        }
      ]
    },
    {
      "cell_type": "code",
      "source": [
        "# check if 'Mewtwo' is in pokemon\n",
        "'Mewtwo' in pokemon.values"
      ],
      "metadata": {
        "colab": {
          "base_uri": "https://localhost:8080/"
        },
        "id": "Rj5anZtCv00M",
        "outputId": "dff33f7d-1915-4e54-fdb4-89abce046d08"
      },
      "execution_count": 171,
      "outputs": [
        {
          "output_type": "execute_result",
          "data": {
            "text/plain": [
              "True"
            ]
          },
          "metadata": {},
          "execution_count": 171
        }
      ]
    },
    {
      "cell_type": "code",
      "source": [
        "# check if 'Darth Vader' is in pokemon\n",
        "'Darth Vader' in pokemon.values"
      ],
      "metadata": {
        "colab": {
          "base_uri": "https://localhost:8080/"
        },
        "id": "Mj38uatmv6eU",
        "outputId": "f3bd8cfe-bd85-4793-a014-6f7fc9c48a09"
      },
      "execution_count": 172,
      "outputs": [
        {
          "output_type": "execute_result",
          "data": {
            "text/plain": [
              "False"
            ]
          },
          "metadata": {},
          "execution_count": 172
        }
      ]
    },
    {
      "cell_type": "markdown",
      "source": [
        "## Exract Series Value by Index Position"
      ],
      "metadata": {
        "id": "9iGGzOiCxKES"
      }
    },
    {
      "cell_type": "code",
      "source": [
        "# extract value in first index\n",
        "pokemon[0]"
      ],
      "metadata": {
        "colab": {
          "base_uri": "https://localhost:8080/",
          "height": 35
        },
        "id": "GbniZkvdv_bq",
        "outputId": "90ea9ff3-f969-4baa-9c22-2970e29fc241"
      },
      "execution_count": 176,
      "outputs": [
        {
          "output_type": "execute_result",
          "data": {
            "text/plain": [
              "'Bulbasaur'"
            ],
            "application/vnd.google.colaboratory.intrinsic+json": {
              "type": "string"
            }
          },
          "metadata": {},
          "execution_count": 176
        }
      ]
    },
    {
      "cell_type": "code",
      "source": [
        "# above is equivalent to\n",
        "pokemon.iloc[0]"
      ],
      "metadata": {
        "colab": {
          "base_uri": "https://localhost:8080/",
          "height": 35
        },
        "id": "n6f_pUB7xeSn",
        "outputId": "060cae91-a4a8-4204-8888-b4af62ed7dba"
      },
      "execution_count": 177,
      "outputs": [
        {
          "output_type": "execute_result",
          "data": {
            "text/plain": [
              "'Bulbasaur'"
            ],
            "application/vnd.google.colaboratory.intrinsic+json": {
              "type": "string"
            }
          },
          "metadata": {},
          "execution_count": 177
        }
      ]
    },
    {
      "cell_type": "code",
      "source": [
        "# slices\n",
        "pokemon[0:10] # 0 thru 9"
      ],
      "metadata": {
        "colab": {
          "base_uri": "https://localhost:8080/"
        },
        "id": "3ZTM-lSUxfu2",
        "outputId": "09bb8864-3a96-4c0d-c572-d2a69ef99c40"
      },
      "execution_count": 178,
      "outputs": [
        {
          "output_type": "execute_result",
          "data": {
            "text/plain": [
              "0     Bulbasaur\n",
              "1       Ivysaur\n",
              "2      Venusaur\n",
              "3    Charmander\n",
              "4    Charmeleon\n",
              "5     Charizard\n",
              "6      Squirtle\n",
              "7     Wartortle\n",
              "8     Blastoise\n",
              "9      Caterpie\n",
              "Name: Pokemon, dtype: object"
            ]
          },
          "metadata": {},
          "execution_count": 178
        }
      ]
    },
    {
      "cell_type": "code",
      "source": [
        "# above is equivalent to:\n",
        "pokemon[:10]"
      ],
      "metadata": {
        "colab": {
          "base_uri": "https://localhost:8080/"
        },
        "id": "yst7SFbMxvu1",
        "outputId": "593ae8a1-b8e0-4c0d-f689-16edab15dfbd"
      },
      "execution_count": 179,
      "outputs": [
        {
          "output_type": "execute_result",
          "data": {
            "text/plain": [
              "0     Bulbasaur\n",
              "1       Ivysaur\n",
              "2      Venusaur\n",
              "3    Charmander\n",
              "4    Charmeleon\n",
              "5     Charizard\n",
              "6      Squirtle\n",
              "7     Wartortle\n",
              "8     Blastoise\n",
              "9      Caterpie\n",
              "Name: Pokemon, dtype: object"
            ]
          },
          "metadata": {},
          "execution_count": 179
        }
      ]
    },
    {
      "cell_type": "code",
      "source": [
        "# get 51 thru 60\n",
        "pokemon[51:61]"
      ],
      "metadata": {
        "colab": {
          "base_uri": "https://localhost:8080/"
        },
        "id": "lKdE2kR1xy52",
        "outputId": "717099e7-8b4a-4b8e-f607-d2826fe98290"
      },
      "execution_count": 180,
      "outputs": [
        {
          "output_type": "execute_result",
          "data": {
            "text/plain": [
              "51       Meowth\n",
              "52      Persian\n",
              "53      Psyduck\n",
              "54      Golduck\n",
              "55       Mankey\n",
              "56     Primeape\n",
              "57    Growlithe\n",
              "58     Arcanine\n",
              "59      Poliwag\n",
              "60    Poliwhirl\n",
              "Name: Pokemon, dtype: object"
            ]
          },
          "metadata": {},
          "execution_count": 180
        }
      ]
    },
    {
      "cell_type": "code",
      "source": [
        "# pull out values at position 100, 200, and 151\n",
        "pokemon[[100, 200, 151]]"
      ],
      "metadata": {
        "colab": {
          "base_uri": "https://localhost:8080/"
        },
        "id": "eOHsm4eCx1_2",
        "outputId": "6fa38b2b-0541-411b-bb72-4c06c5076477"
      },
      "execution_count": 181,
      "outputs": [
        {
          "output_type": "execute_result",
          "data": {
            "text/plain": [
              "100    Electrode\n",
              "200        Unown\n",
              "151    Chikorita\n",
              "Name: Pokemon, dtype: object"
            ]
          },
          "metadata": {},
          "execution_count": 181
        }
      ]
    },
    {
      "cell_type": "code",
      "source": [
        "# above is equivalent to\n",
        "pokemon.iloc[[100, 200, 151]]"
      ],
      "metadata": {
        "colab": {
          "base_uri": "https://localhost:8080/"
        },
        "id": "cYM4EHfEyL1u",
        "outputId": "65cb76c0-8289-4e65-95a5-1021b35e6e1d"
      },
      "execution_count": 182,
      "outputs": [
        {
          "output_type": "execute_result",
          "data": {
            "text/plain": [
              "100    Electrode\n",
              "200        Unown\n",
              "151    Chikorita\n",
              "Name: Pokemon, dtype: object"
            ]
          },
          "metadata": {},
          "execution_count": 182
        }
      ]
    },
    {
      "cell_type": "code",
      "source": [
        "# more slicing\n",
        "pokemon[17:87]"
      ],
      "metadata": {
        "colab": {
          "base_uri": "https://localhost:8080/"
        },
        "id": "NsZ2An66yP7P",
        "outputId": "d60fcc7c-e095-487e-d885-dd0d0cf0b66a"
      },
      "execution_count": 183,
      "outputs": [
        {
          "output_type": "execute_result",
          "data": {
            "text/plain": [
              "17       Pidgeot\n",
              "18       Rattata\n",
              "19      Raticate\n",
              "20       Spearow\n",
              "21        Fearow\n",
              "         ...    \n",
              "82    Farfetch'd\n",
              "83         Doduo\n",
              "84        Dodrio\n",
              "85          Seel\n",
              "86       Dewgong\n",
              "Name: Pokemon, Length: 70, dtype: object"
            ]
          },
          "metadata": {},
          "execution_count": 183
        }
      ]
    },
    {
      "cell_type": "code",
      "source": [
        "# last 13 values\n",
        "pokemon[-13:]"
      ],
      "metadata": {
        "colab": {
          "base_uri": "https://localhost:8080/"
        },
        "id": "evEgKRI8ybLj",
        "outputId": "f4d397e8-c3cb-4262-f394-e470d7f1987f"
      },
      "execution_count": 184,
      "outputs": [
        {
          "output_type": "execute_result",
          "data": {
            "text/plain": [
              "708    Trevenant\n",
              "709    Pumpkaboo\n",
              "710    Gourgeist\n",
              "711     Bergmite\n",
              "712      Avalugg\n",
              "713       Noibat\n",
              "714      Noivern\n",
              "715      Xerneas\n",
              "716      Yveltal\n",
              "717      Zygarde\n",
              "718      Diancie\n",
              "719        Hoopa\n",
              "720    Volcanion\n",
              "Name: Pokemon, dtype: object"
            ]
          },
          "metadata": {},
          "execution_count": 184
        }
      ]
    },
    {
      "cell_type": "code",
      "source": [
        "# above is equivalen to\n",
        "pokemon.tail(n = 13)"
      ],
      "metadata": {
        "colab": {
          "base_uri": "https://localhost:8080/"
        },
        "id": "0GukseMQyfX0",
        "outputId": "494e75b5-acff-4c92-812a-28e0c52ba073"
      },
      "execution_count": 185,
      "outputs": [
        {
          "output_type": "execute_result",
          "data": {
            "text/plain": [
              "708    Trevenant\n",
              "709    Pumpkaboo\n",
              "710    Gourgeist\n",
              "711     Bergmite\n",
              "712      Avalugg\n",
              "713       Noibat\n",
              "714      Noivern\n",
              "715      Xerneas\n",
              "716      Yveltal\n",
              "717      Zygarde\n",
              "718      Diancie\n",
              "719        Hoopa\n",
              "720    Volcanion\n",
              "Name: Pokemon, dtype: object"
            ]
          },
          "metadata": {},
          "execution_count": 185
        }
      ]
    },
    {
      "cell_type": "code",
      "source": [
        "# last element of pokemon\n",
        "pokemon.iloc[-1]"
      ],
      "metadata": {
        "colab": {
          "base_uri": "https://localhost:8080/",
          "height": 35
        },
        "id": "W7_xXI7QykKs",
        "outputId": "28243e2c-3595-4e1c-e825-656fad030ca9"
      },
      "execution_count": 187,
      "outputs": [
        {
          "output_type": "execute_result",
          "data": {
            "text/plain": [
              "'Volcanion'"
            ],
            "application/vnd.google.colaboratory.intrinsic+json": {
              "type": "string"
            }
          },
          "metadata": {},
          "execution_count": 187
        }
      ]
    },
    {
      "cell_type": "code",
      "source": [
        "# above is equivalento to\n",
        "pokemon[-1:]"
      ],
      "metadata": {
        "colab": {
          "base_uri": "https://localhost:8080/"
        },
        "id": "NsUWhy15y9bK",
        "outputId": "da1057e6-8490-489d-b52e-5d24dc7e3a03"
      },
      "execution_count": 188,
      "outputs": [
        {
          "output_type": "execute_result",
          "data": {
            "text/plain": [
              "720    Volcanion\n",
              "Name: Pokemon, dtype: object"
            ]
          },
          "metadata": {},
          "execution_count": 188
        }
      ]
    },
    {
      "cell_type": "code",
      "source": [
        "#pokemon[-1] # won't work"
      ],
      "metadata": {
        "id": "2tx2uIWWzB-Z"
      },
      "execution_count": 190,
      "outputs": []
    },
    {
      "cell_type": "markdown",
      "source": [
        "## Extra Series value by Index Label"
      ],
      "metadata": {
        "id": "FdtsrdkmzWNc"
      }
    },
    {
      "cell_type": "code",
      "source": [
        "pokemon2"
      ],
      "metadata": {
        "colab": {
          "base_uri": "https://localhost:8080/"
        },
        "id": "a4VZHj9rzG3A",
        "outputId": "a38cdc52-38e3-4de5-f7ad-00d388e8db87"
      },
      "execution_count": 191,
      "outputs": [
        {
          "output_type": "execute_result",
          "data": {
            "text/plain": [
              "Pokemon\n",
              "Bulbasaur       Grass\n",
              "Ivysaur         Grass\n",
              "Venusaur        Grass\n",
              "Charmander       Fire\n",
              "Charmeleon       Fire\n",
              "               ...   \n",
              "Yveltal          Dark\n",
              "Zygarde        Dragon\n",
              "Diancie          Rock\n",
              "Hoopa         Psychic\n",
              "Volcanion        Fire\n",
              "Name: Type, Length: 721, dtype: object"
            ]
          },
          "metadata": {},
          "execution_count": 191
        }
      ]
    },
    {
      "cell_type": "code",
      "source": [
        "# pokemon type for 'Bulbasaur'\n",
        "pokemon2['Bulbasaur']"
      ],
      "metadata": {
        "colab": {
          "base_uri": "https://localhost:8080/",
          "height": 35
        },
        "id": "BmNyIlOxzZI4",
        "outputId": "51ad7ae2-dfed-404c-95d4-508a1febf80f"
      },
      "execution_count": 192,
      "outputs": [
        {
          "output_type": "execute_result",
          "data": {
            "text/plain": [
              "'Grass'"
            ],
            "application/vnd.google.colaboratory.intrinsic+json": {
              "type": "string"
            }
          },
          "metadata": {},
          "execution_count": 192
        }
      ]
    },
    {
      "cell_type": "code",
      "source": [
        "# above is equivalent to:\n",
        "pokemon2.loc['Bulbasaur']"
      ],
      "metadata": {
        "colab": {
          "base_uri": "https://localhost:8080/",
          "height": 35
        },
        "id": "WC8EhOtdzdO3",
        "outputId": "7b22b95f-5401-48bc-f85f-30e10a37ecc2"
      },
      "execution_count": 193,
      "outputs": [
        {
          "output_type": "execute_result",
          "data": {
            "text/plain": [
              "'Grass'"
            ],
            "application/vnd.google.colaboratory.intrinsic+json": {
              "type": "string"
            }
          },
          "metadata": {},
          "execution_count": 193
        }
      ]
    },
    {
      "cell_type": "code",
      "source": [
        "# can also do integer position\n",
        "pokemon2[0]"
      ],
      "metadata": {
        "colab": {
          "base_uri": "https://localhost:8080/",
          "height": 35
        },
        "id": "LPILrm4NzgEg",
        "outputId": "226cef9d-bf5d-43e4-daee-b5ec3c6974f0"
      },
      "execution_count": 194,
      "outputs": [
        {
          "output_type": "execute_result",
          "data": {
            "text/plain": [
              "'Grass'"
            ],
            "application/vnd.google.colaboratory.intrinsic+json": {
              "type": "string"
            }
          },
          "metadata": {},
          "execution_count": 194
        }
      ]
    },
    {
      "cell_type": "code",
      "source": [
        "# above, we don't see 0 or other numbers for index, but they're \"there\""
      ],
      "metadata": {
        "id": "ukIW-whWznaQ"
      },
      "execution_count": 195,
      "outputs": []
    },
    {
      "cell_type": "code",
      "source": [
        "# pull out multiple parts from pokemon2\n",
        "pokemon2[['Mewtwo', 'Mew', 'Charizard']]"
      ],
      "metadata": {
        "colab": {
          "base_uri": "https://localhost:8080/"
        },
        "id": "BMoea4Dnz8cM",
        "outputId": "256d0b4e-0a11-4dc5-8cc1-0b1193ea7279"
      },
      "execution_count": 196,
      "outputs": [
        {
          "output_type": "execute_result",
          "data": {
            "text/plain": [
              "Pokemon\n",
              "Mewtwo       Psychic\n",
              "Mew          Psychic\n",
              "Charizard       Fire\n",
              "Name: Type, dtype: object"
            ]
          },
          "metadata": {},
          "execution_count": 196
        }
      ]
    },
    {
      "cell_type": "code",
      "source": [
        "# every index has a label and a numeric position; can use label or numeric position"
      ],
      "metadata": {
        "id": "o-e5iebs0CHD"
      },
      "execution_count": 197,
      "outputs": []
    },
    {
      "cell_type": "markdown",
      "source": [
        "## The get method"
      ],
      "metadata": {
        "id": "OxM2DHim1GxF"
      }
    },
    {
      "cell_type": "code",
      "source": [],
      "metadata": {
        "id": "NNRJRYVd0bDi"
      },
      "execution_count": null,
      "outputs": []
    }
  ]
}