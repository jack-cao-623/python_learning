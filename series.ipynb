{
  "nbformat": 4,
  "nbformat_minor": 0,
  "metadata": {
    "colab": {
      "provenance": [],
      "collapsed_sections": [
        "D6LaNcv4xc1U",
        "4ejS2mWN0lqd",
        "YHwhnJ9-2qc6",
        "c4Y5hWlq4ylI",
        "nWnvnFDffFLS",
        "RhsRXx7Tsvc2",
        "TA7fs5c51hrj",
        "ye96LWfoQ4p9",
        "WE8tKLvmp9nN",
        "z1GmXS5psVdn",
        "ZETp5758vCay",
        "9iGGzOiCxKES",
        "FdtsrdkmzWNc"
      ],
      "authorship_tag": "ABX9TyN3zaER3MWvzxJUyUChKMhi",
      "include_colab_link": true
    },
    "kernelspec": {
      "name": "python3",
      "display_name": "Python 3"
    },
    "language_info": {
      "name": "python"
    }
  },
  "cells": [
    {
      "cell_type": "markdown",
      "metadata": {
        "id": "view-in-github",
        "colab_type": "text"
      },
      "source": [
        "<a href=\"https://colab.research.google.com/github/jack-cao-623/python_learning/blob/main/series.ipynb\" target=\"_parent\"><img src=\"https://colab.research.google.com/assets/colab-badge.svg\" alt=\"Open In Colab\"/></a>"
      ]
    },
    {
      "cell_type": "markdown",
      "source": [
        "# Series\n",
        "- *object* from Pandas library\n",
        "- Series is 1D labelled array, or a single column of data"
      ],
      "metadata": {
        "id": "zCzuNwnWxD0p"
      }
    },
    {
      "cell_type": "code",
      "source": [
        "# libraries needed\n",
        "import numpy as np\n",
        "import pandas as pd"
      ],
      "metadata": {
        "id": "YX3MSX1MxBcZ"
      },
      "execution_count": 149,
      "outputs": []
    },
    {
      "cell_type": "markdown",
      "source": [
        "## Create a Pandas Series object from a Python list\n",
        "- Series is a object; 1D labelled array\n",
        "- Python list: can store elements in order; each element has a numeric position in line, i.e., the index\n",
        "- Python dictionary: able to establish associations between keys and value, key:value pairs\n",
        "- Series combines best of a list and a dictionary in a single object; equivalent to a column of data in a spreadsheet; preserve a numeric identifier to each element; but identifier can also be labelled with an identifier, like a dictionary\n",
        "- Series also gives us methods"
      ],
      "metadata": {
        "id": "D6LaNcv4xc1U"
      }
    },
    {
      "cell_type": "code",
      "source": [
        "# list\n",
        "ice_cream_flavors = ['Chocolate', 'Vanilla', 'Strawberry', 'Rum Raisin']"
      ],
      "metadata": {
        "id": "FabRpZ5NxM56"
      },
      "execution_count": 150,
      "outputs": []
    },
    {
      "cell_type": "code",
      "source": [
        "# create a Series object with ice_cream_flavors\n",
        "pd.Series(data = ice_cream_flavors)"
      ],
      "metadata": {
        "colab": {
          "base_uri": "https://localhost:8080/"
        },
        "id": "0VES0gwmyGkh",
        "outputId": "92959bac-ad84-430c-fa59-04457aa0a7d8"
      },
      "execution_count": 151,
      "outputs": [
        {
          "output_type": "execute_result",
          "data": {
            "text/plain": [
              "0     Chocolate\n",
              "1       Vanilla\n",
              "2    Strawberry\n",
              "3    Rum Raisin\n",
              "dtype: object"
            ]
          },
          "metadata": {},
          "execution_count": 151
        }
      ]
    },
    {
      "cell_type": "code",
      "source": [
        "# pd.Series() is a class; blueprint for creating objects\n",
        "# dtype means data type\n",
        "  # tells us the type of data for elements in series; ice cream flavors is a str (string); referred to as an object\n",
        "  # object covers more than strings"
      ],
      "metadata": {
        "id": "JFhOt7uIyO3m"
      },
      "execution_count": 152,
      "outputs": []
    },
    {
      "cell_type": "code",
      "source": [
        "# pull out index\n",
        "pd.Series(data = ice_cream_flavors).index"
      ],
      "metadata": {
        "colab": {
          "base_uri": "https://localhost:8080/"
        },
        "id": "gNJm1pX1y6sw",
        "outputId": "a506de0c-c92d-4a54-f2b0-7d23f6c817c5"
      },
      "execution_count": 153,
      "outputs": [
        {
          "output_type": "execute_result",
          "data": {
            "text/plain": [
              "RangeIndex(start=0, stop=4, step=1)"
            ]
          },
          "metadata": {},
          "execution_count": 153
        }
      ]
    },
    {
      "cell_type": "code",
      "source": [
        "# index defaults to 0, 1, 2, 3...ascending numeric\n",
        "# this is like a list...don't get the dictionary benefit, see bullet point in title"
      ],
      "metadata": {
        "id": "3ufZIGGay8qa"
      },
      "execution_count": 154,
      "outputs": []
    },
    {
      "cell_type": "code",
      "source": [
        "# create another Series\n",
        "lottery = [15, 3, 14, 6, 9, 10]\n",
        "pd.Series(data = lottery)"
      ],
      "metadata": {
        "colab": {
          "base_uri": "https://localhost:8080/"
        },
        "id": "IobECZz2zXZP",
        "outputId": "3a474d9c-37d4-4a16-a242-876586df4ab9"
      },
      "execution_count": 155,
      "outputs": [
        {
          "output_type": "execute_result",
          "data": {
            "text/plain": [
              "0    15\n",
              "1     3\n",
              "2    14\n",
              "3     6\n",
              "4     9\n",
              "5    10\n",
              "dtype: int64"
            ]
          },
          "metadata": {},
          "execution_count": 155
        }
      ]
    },
    {
      "cell_type": "code",
      "source": [
        "# dtype doesn't refer to index; it refers to the elements"
      ],
      "metadata": {
        "id": "TtZcydCqzfkV"
      },
      "execution_count": 156,
      "outputs": []
    },
    {
      "cell_type": "code",
      "source": [
        "registrations = [True, False, False, True, True]\n",
        "pd.Series(registrations)"
      ],
      "metadata": {
        "colab": {
          "base_uri": "https://localhost:8080/"
        },
        "id": "EgAZJUZ4z_eh",
        "outputId": "20ccc53b-5ff9-460f-e656-2bd247352cd9"
      },
      "execution_count": 157,
      "outputs": [
        {
          "output_type": "execute_result",
          "data": {
            "text/plain": [
              "0     True\n",
              "1    False\n",
              "2    False\n",
              "3     True\n",
              "4     True\n",
              "dtype: bool"
            ]
          },
          "metadata": {},
          "execution_count": 157
        }
      ]
    },
    {
      "cell_type": "code",
      "source": [
        "# dtype doesn't refer to index; it refers to the elements"
      ],
      "metadata": {
        "id": "Pe3iw-JO0EGA"
      },
      "execution_count": 158,
      "outputs": []
    },
    {
      "cell_type": "code",
      "source": [
        "# convention is to include arguments, not data = ...; just put in the arguments; fewer keystrokes"
      ],
      "metadata": {
        "id": "dJIE-2h10Inv"
      },
      "execution_count": 159,
      "outputs": []
    },
    {
      "cell_type": "code",
      "source": [
        "# a Series is equivalent to 1 column of data; Dataframe is a bunch of Series glued together with common index"
      ],
      "metadata": {
        "id": "_tj63YKO0N9u"
      },
      "execution_count": 160,
      "outputs": []
    },
    {
      "cell_type": "markdown",
      "source": [
        "## Create a Pandas Series object with a dictionary\n",
        "- key takeaway: index of a Series doesn't need to be numeric"
      ],
      "metadata": {
        "id": "4ejS2mWN0lqd"
      }
    },
    {
      "cell_type": "code",
      "source": [
        "# dictionary\n",
        "sushi = {\n",
        "    'salmon':'orange',\n",
        "    'tuna':'red',\n",
        "    'eel':'brown'\n",
        "}\n",
        "print(sushi)"
      ],
      "metadata": {
        "colab": {
          "base_uri": "https://localhost:8080/"
        },
        "id": "s3gYaY0X0UwO",
        "outputId": "861414cf-36ec-4a19-bd54-114c6fe50b93"
      },
      "execution_count": 161,
      "outputs": [
        {
          "output_type": "stream",
          "name": "stdout",
          "text": [
            "{'salmon': 'orange', 'tuna': 'red', 'eel': 'brown'}\n"
          ]
        }
      ]
    },
    {
      "cell_type": "code",
      "source": [
        "# create series\n",
        "pd.Series(sushi)"
      ],
      "metadata": {
        "colab": {
          "base_uri": "https://localhost:8080/"
        },
        "id": "u2KuIOPg05Xm",
        "outputId": "993b37c6-7056-4a2c-86f3-fd383e20397e"
      },
      "execution_count": 162,
      "outputs": [
        {
          "output_type": "execute_result",
          "data": {
            "text/plain": [
              "salmon    orange\n",
              "tuna         red\n",
              "eel        brown\n",
              "dtype: object"
            ]
          },
          "metadata": {},
          "execution_count": 162
        }
      ]
    },
    {
      "cell_type": "code",
      "source": [
        "# remember dtype: object reers to data type of the values (orange, red, brown)"
      ],
      "metadata": {
        "id": "s-moJdEK08rN"
      },
      "execution_count": 163,
      "outputs": []
    },
    {
      "cell_type": "code",
      "source": [
        "# dictionary is unordered; but pd.Series(sushi) is ordered and labeled\n",
        "print(pd.Series(sushi).iloc[0])\n",
        "print(pd.Series(sushi).loc['salmon'])"
      ],
      "metadata": {
        "colab": {
          "base_uri": "https://localhost:8080/"
        },
        "id": "XawSQ--G1A0f",
        "outputId": "d40f451d-0dd2-4d84-a07c-412d155b35c2"
      },
      "execution_count": 164,
      "outputs": [
        {
          "output_type": "stream",
          "name": "stdout",
          "text": [
            "orange\n",
            "orange\n"
          ]
        }
      ]
    },
    {
      "cell_type": "code",
      "source": [
        "# Pandas Series lets you have duplicated labels for indices; can't do this in a dictionary"
      ],
      "metadata": {
        "id": "WsXncgP91Qao"
      },
      "execution_count": 165,
      "outputs": []
    },
    {
      "cell_type": "code",
      "source": [
        "# create the same Series object but without a dictionary\n",
        "pd.Series(\n",
        "    data = ['orange', 'red', 'brown'],       # dictionary value equivalent\n",
        "    index = ['salmon', 'tuna', 'eel']        # dictionary key equivalent\n",
        ")"
      ],
      "metadata": {
        "colab": {
          "base_uri": "https://localhost:8080/"
        },
        "id": "tdz2Tp4y13ml",
        "outputId": "cdf59bc3-585a-421b-eddf-caf00c04851f"
      },
      "execution_count": 166,
      "outputs": [
        {
          "output_type": "execute_result",
          "data": {
            "text/plain": [
              "salmon    orange\n",
              "tuna         red\n",
              "eel        brown\n",
              "dtype: object"
            ]
          },
          "metadata": {},
          "execution_count": 166
        }
      ]
    },
    {
      "cell_type": "markdown",
      "source": [
        "## Intro to Methods\n",
        "- method is a directive, command, behavior that we can have an object do for us"
      ],
      "metadata": {
        "id": "YHwhnJ9-2qc6"
      }
    },
    {
      "cell_type": "code",
      "source": [
        "# example method: capitalize 'hello'\n",
        "'hello'.upper()"
      ],
      "metadata": {
        "colab": {
          "base_uri": "https://localhost:8080/",
          "height": 0
        },
        "id": "ipNjrygA1-FJ",
        "outputId": "10491fc7-3182-4c80-f10c-18aa0bedb816"
      },
      "execution_count": 167,
      "outputs": [
        {
          "output_type": "execute_result",
          "data": {
            "text/plain": [
              "'HELLO'"
            ],
            "application/vnd.google.colaboratory.intrinsic+json": {
              "type": "string"
            }
          },
          "metadata": {},
          "execution_count": 167
        }
      ]
    },
    {
      "cell_type": "code",
      "source": [
        "# upper() is an example method"
      ],
      "metadata": {
        "id": "e4Hxyht02y-Q"
      },
      "execution_count": 168,
      "outputs": []
    },
    {
      "cell_type": "code",
      "source": [
        "# strings can't be mutated by methods, e.g.:\n",
        "a = 'hello'\n",
        "print(a.upper()) # 'HELLO'\n",
        "print(a)         # 'hello'"
      ],
      "metadata": {
        "colab": {
          "base_uri": "https://localhost:8080/"
        },
        "id": "dVMEDqKR21RI",
        "outputId": "60dbc310-9848-4699-86d8-ee7ade8122e9"
      },
      "execution_count": 169,
      "outputs": [
        {
          "output_type": "stream",
          "name": "stdout",
          "text": [
            "HELLO\n",
            "hello\n"
          ]
        }
      ]
    },
    {
      "cell_type": "code",
      "source": [
        "# above, .upper() method doesn't mutate or change a"
      ],
      "metadata": {
        "id": "JuMLRQsf3Foe"
      },
      "execution_count": 170,
      "outputs": []
    },
    {
      "cell_type": "code",
      "source": [
        "# but some methods may modify the object it's evoked upon\n",
        "b = [1, 2, 3]\n",
        "b.append(4)   \n",
        "print(b)           # [1, 2, 3, 4]"
      ],
      "metadata": {
        "colab": {
          "base_uri": "https://localhost:8080/"
        },
        "id": "vMejj8dm3JBt",
        "outputId": "dbf490d3-b08b-4f5a-abab-05881a5a913e"
      },
      "execution_count": 171,
      "outputs": [
        {
          "output_type": "stream",
          "name": "stdout",
          "text": [
            "[1, 2, 3, 4]\n"
          ]
        }
      ]
    },
    {
      "cell_type": "code",
      "source": [
        "# above, .append() method changes the list, b"
      ],
      "metadata": {
        "id": "GhmKTipG3m1h"
      },
      "execution_count": 172,
      "outputs": []
    },
    {
      "cell_type": "code",
      "source": [
        "# create a Pandas Series\n",
        "prices = pd.Series([2.99, 4.45, 1.36])\n",
        "prices"
      ],
      "metadata": {
        "colab": {
          "base_uri": "https://localhost:8080/"
        },
        "id": "uV-Otl2y3yEd",
        "outputId": "5bfe8e2b-7814-4c6d-998f-e9e7176986b4"
      },
      "execution_count": 173,
      "outputs": [
        {
          "output_type": "execute_result",
          "data": {
            "text/plain": [
              "0    2.99\n",
              "1    4.45\n",
              "2    1.36\n",
              "dtype: float64"
            ]
          },
          "metadata": {},
          "execution_count": 173
        }
      ]
    },
    {
      "cell_type": "code",
      "source": [
        "# add up values\n",
        "prices.sum()"
      ],
      "metadata": {
        "colab": {
          "base_uri": "https://localhost:8080/"
        },
        "id": "LZ5hMG4P37Uy",
        "outputId": "4ebb152d-17bd-4fbc-cfd0-2c38278f24e5"
      },
      "execution_count": 174,
      "outputs": [
        {
          "output_type": "execute_result",
          "data": {
            "text/plain": [
              "8.8"
            ]
          },
          "metadata": {},
          "execution_count": 174
        }
      ]
    },
    {
      "cell_type": "code",
      "source": [
        "# multiply the values\n",
        "prices.product()"
      ],
      "metadata": {
        "colab": {
          "base_uri": "https://localhost:8080/"
        },
        "id": "mAvA94ap4HaH",
        "outputId": "7e62f42f-1d99-438c-e0e5-f537a5a590ef"
      },
      "execution_count": 175,
      "outputs": [
        {
          "output_type": "execute_result",
          "data": {
            "text/plain": [
              "18.095480000000006"
            ]
          },
          "metadata": {},
          "execution_count": 175
        }
      ]
    },
    {
      "cell_type": "code",
      "source": [
        "print(2.99 * 4.45 * 1.36)"
      ],
      "metadata": {
        "colab": {
          "base_uri": "https://localhost:8080/"
        },
        "id": "6MowJTQy4MwG",
        "outputId": "418bbf36-e7d8-4704-b3d1-0e0f59d3f46b"
      },
      "execution_count": 176,
      "outputs": [
        {
          "output_type": "stream",
          "name": "stdout",
          "text": [
            "18.095480000000006\n"
          ]
        }
      ]
    },
    {
      "cell_type": "code",
      "source": [
        "# find mean of the three values\n",
        "prices.mean()"
      ],
      "metadata": {
        "colab": {
          "base_uri": "https://localhost:8080/"
        },
        "id": "-zQv0Vxv4PIO",
        "outputId": "ad80d2ed-da2a-4591-f458-fb5070a20f50"
      },
      "execution_count": 177,
      "outputs": [
        {
          "output_type": "execute_result",
          "data": {
            "text/plain": [
              "2.9333333333333336"
            ]
          },
          "metadata": {},
          "execution_count": 177
        }
      ]
    },
    {
      "cell_type": "code",
      "source": [
        "# another way of finding the average\n",
        "prices.sum() / len(prices)"
      ],
      "metadata": {
        "colab": {
          "base_uri": "https://localhost:8080/"
        },
        "id": "GWG6H6MA4R_t",
        "outputId": "b1363f4e-0250-4367-c09e-8be4538c7c73"
      },
      "execution_count": 178,
      "outputs": [
        {
          "output_type": "execute_result",
          "data": {
            "text/plain": [
              "2.9333333333333336"
            ]
          },
          "metadata": {},
          "execution_count": 178
        }
      ]
    },
    {
      "cell_type": "code",
      "source": [
        "# the above methods don't require paremeters/arguments; other methods do require arguments"
      ],
      "metadata": {
        "id": "ODohcKiK4Tcl"
      },
      "execution_count": 179,
      "outputs": []
    },
    {
      "cell_type": "markdown",
      "source": [
        "## Intro to attributes\n",
        "- attribute is a detail/characteristic/fact/property that an object can tell us about itself\n",
        "- method is a behavior or command, akin to a verb\n",
        "- attribute is akin to an adjective"
      ],
      "metadata": {
        "id": "c4Y5hWlq4ylI"
      }
    },
    {
      "cell_type": "code",
      "source": [
        "# create a Series\n",
        "adjectives = pd.Series(['smart', 'handsome', 'charming', 'brilliant', 'humble', 'smart'])\n",
        "print(adjectives)"
      ],
      "metadata": {
        "colab": {
          "base_uri": "https://localhost:8080/"
        },
        "id": "V7Eik2rr4dcL",
        "outputId": "f3b4bac6-f031-4333-a559-54486d391fc4"
      },
      "execution_count": 180,
      "outputs": [
        {
          "output_type": "stream",
          "name": "stdout",
          "text": [
            "0        smart\n",
            "1     handsome\n",
            "2     charming\n",
            "3    brilliant\n",
            "4       humble\n",
            "5        smart\n",
            "dtype: object\n"
          ]
        }
      ]
    },
    {
      "cell_type": "code",
      "source": [
        "# how many elements are in Series\n",
        "adjectives.size"
      ],
      "metadata": {
        "colab": {
          "base_uri": "https://localhost:8080/"
        },
        "id": "GdNVg6d85YN8",
        "outputId": "9dd836fc-0b6c-4930-f86e-5645779fbf44"
      },
      "execution_count": 181,
      "outputs": [
        {
          "output_type": "execute_result",
          "data": {
            "text/plain": [
              "6"
            ]
          },
          "metadata": {},
          "execution_count": 181
        }
      ]
    },
    {
      "cell_type": "code",
      "source": [
        "# whether each element is unique, i.e., no duplicates\n",
        "adjectives.is_unique"
      ],
      "metadata": {
        "colab": {
          "base_uri": "https://localhost:8080/"
        },
        "id": "MWgIUvLO5k4S",
        "outputId": "fbab23b2-9960-41e7-cd2b-76367617b735"
      },
      "execution_count": 182,
      "outputs": [
        {
          "output_type": "execute_result",
          "data": {
            "text/plain": [
              "False"
            ]
          },
          "metadata": {},
          "execution_count": 182
        }
      ]
    },
    {
      "cell_type": "code",
      "source": [
        "# methods have parentheses, e.g., series.method()\n",
        "# attributes don't have parentheses, e.g., series.attribute\n",
        "# when you do series. and wait, methods are indicated by box, attributes by wrench"
      ],
      "metadata": {
        "id": "lRWszHOz5qux"
      },
      "execution_count": 183,
      "outputs": []
    },
    {
      "cell_type": "code",
      "source": [
        "# pull out values; Series consists of index and values; this is an attribute\n",
        "adjectives.values"
      ],
      "metadata": {
        "colab": {
          "base_uri": "https://localhost:8080/"
        },
        "id": "dqcOZjGm6IcM",
        "outputId": "71477e93-33d5-4edd-f81d-a2406690cfeb"
      },
      "execution_count": 184,
      "outputs": [
        {
          "output_type": "execute_result",
          "data": {
            "text/plain": [
              "array(['smart', 'handsome', 'charming', 'brilliant', 'humble', 'smart'],\n",
              "      dtype=object)"
            ]
          },
          "metadata": {},
          "execution_count": 184
        }
      ]
    },
    {
      "cell_type": "code",
      "source": [
        "# above, values is a numpy array; pandas is built top of numpy\n",
        "type(adjectives.values)"
      ],
      "metadata": {
        "colab": {
          "base_uri": "https://localhost:8080/"
        },
        "id": "8CxEftNw6995",
        "outputId": "7c9e46d6-d60d-44bd-8186-8db5e7fb96cf"
      },
      "execution_count": 185,
      "outputs": [
        {
          "output_type": "execute_result",
          "data": {
            "text/plain": [
              "numpy.ndarray"
            ]
          },
          "metadata": {},
          "execution_count": 185
        }
      ]
    },
    {
      "cell_type": "code",
      "source": [
        "# pull out index\n",
        "adjectives.index"
      ],
      "metadata": {
        "colab": {
          "base_uri": "https://localhost:8080/"
        },
        "id": "ddPxwBLB7C9H",
        "outputId": "48a20ec2-84d5-4bf0-980b-ab1986ad8bc9"
      },
      "execution_count": 186,
      "outputs": [
        {
          "output_type": "execute_result",
          "data": {
            "text/plain": [
              "RangeIndex(start=0, stop=6, step=1)"
            ]
          },
          "metadata": {},
          "execution_count": 186
        }
      ]
    },
    {
      "cell_type": "code",
      "source": [
        "type(adjectives.index)\n",
        "# index is from pandas"
      ],
      "metadata": {
        "colab": {
          "base_uri": "https://localhost:8080/"
        },
        "id": "3eG4KOlUeHrU",
        "outputId": "2669e692-4928-4e6a-fe22-ff449cc13903"
      },
      "execution_count": 187,
      "outputs": [
        {
          "output_type": "execute_result",
          "data": {
            "text/plain": [
              "pandas.core.indexes.range.RangeIndex"
            ]
          },
          "metadata": {},
          "execution_count": 187
        }
      ]
    },
    {
      "cell_type": "code",
      "source": [
        "# data type\n",
        "adjectives.dtype\n",
        "  # 'O' for object"
      ],
      "metadata": {
        "colab": {
          "base_uri": "https://localhost:8080/"
        },
        "id": "HaellaCVeOyJ",
        "outputId": "48c69757-f7d4-440b-cd65-0647658ba1fd"
      },
      "execution_count": 188,
      "outputs": [
        {
          "output_type": "execute_result",
          "data": {
            "text/plain": [
              "dtype('O')"
            ]
          },
          "metadata": {},
          "execution_count": 188
        }
      ]
    },
    {
      "cell_type": "code",
      "source": [
        "prices.dtype"
      ],
      "metadata": {
        "colab": {
          "base_uri": "https://localhost:8080/"
        },
        "id": "-0ACnWsTel7Q",
        "outputId": "bdbd9580-a2db-46c7-95a7-d7d149c1dc2e"
      },
      "execution_count": 189,
      "outputs": [
        {
          "output_type": "execute_result",
          "data": {
            "text/plain": [
              "dtype('float64')"
            ]
          },
          "metadata": {},
          "execution_count": 189
        }
      ]
    },
    {
      "cell_type": "markdown",
      "source": [
        "## Parameters and arguments\n",
        "- Paramter is generic name, i.e., left side of equal sign inside a .method()\n",
        "- Argument is specific/conrete value, i.e., right side of equal sign inside a .method()\n",
        "\n",
        "E.g., difficulty is a parameter; easy, medium, hard are potentil arguments for the difficulty parameter"
      ],
      "metadata": {
        "id": "nWnvnFDffFLS"
      }
    },
    {
      "cell_type": "code",
      "source": [
        "# create two lists\n",
        "fruits = ['apple', 'banana', 'orange', 'blueberry', 'raspberry']\n",
        "day_of_week = ['Mon', 'Tue', 'Wed', 'Thu', 'Fri']"
      ],
      "metadata": {
        "id": "fGX-AkqqepEI"
      },
      "execution_count": 190,
      "outputs": []
    },
    {
      "cell_type": "code",
      "source": [
        "# create series where fruits is the value and day_of_week is index\n",
        "pd.Series(\n",
        "    data = fruits,\n",
        "    index = day_of_week\n",
        ")"
      ],
      "metadata": {
        "colab": {
          "base_uri": "https://localhost:8080/"
        },
        "id": "73NLgE2IjWLh",
        "outputId": "7defec90-2669-454a-ea8e-96734cb120dd"
      },
      "execution_count": 191,
      "outputs": [
        {
          "output_type": "execute_result",
          "data": {
            "text/plain": [
              "Mon        apple\n",
              "Tue       banana\n",
              "Wed       orange\n",
              "Thu    blueberry\n",
              "Fri    raspberry\n",
              "dtype: object"
            ]
          },
          "metadata": {},
          "execution_count": 191
        }
      ]
    },
    {
      "cell_type": "code",
      "source": [
        "# above, data and index are parameters; fruits and day_of_week are arguments"
      ],
      "metadata": {
        "id": "yH3xbcmmjfGz"
      },
      "execution_count": 192,
      "outputs": []
    },
    {
      "cell_type": "code",
      "source": [
        "# equivalent to the above\n",
        "pd.Series(fruits, day_of_week)\n",
        "  # first paramter is data; second parameter is index; decided by pandas development team"
      ],
      "metadata": {
        "colab": {
          "base_uri": "https://localhost:8080/"
        },
        "id": "nGIS1OA7ju3N",
        "outputId": "9e7b09ac-07a3-49cb-95b1-526745dc0c85"
      },
      "execution_count": 193,
      "outputs": [
        {
          "output_type": "execute_result",
          "data": {
            "text/plain": [
              "Mon        apple\n",
              "Tue       banana\n",
              "Wed       orange\n",
              "Thu    blueberry\n",
              "Fri    raspberry\n",
              "dtype: object"
            ]
          },
          "metadata": {},
          "execution_count": 193
        }
      ]
    },
    {
      "cell_type": "code",
      "source": [
        "# can you switch it around?\n",
        "pd.Series(index = day_of_week, data = fruits)\n",
        "  # yes, just like R"
      ],
      "metadata": {
        "colab": {
          "base_uri": "https://localhost:8080/"
        },
        "id": "2vu-mkQkj2HD",
        "outputId": "2c323b25-90e7-4bfd-ed93-2dd75f3ad4d7"
      },
      "execution_count": 194,
      "outputs": [
        {
          "output_type": "execute_result",
          "data": {
            "text/plain": [
              "Mon        apple\n",
              "Tue       banana\n",
              "Wed       orange\n",
              "Thu    blueberry\n",
              "Fri    raspberry\n",
              "dtype: object"
            ]
          },
          "metadata": {},
          "execution_count": 194
        }
      ]
    },
    {
      "cell_type": "code",
      "source": [
        "# but convention is just to type the arguments, not the parameters and equal signs\n",
        "# i.e., just right side and rely on position/sequence\n",
        "# ORDER MATTERS!"
      ],
      "metadata": {
        "id": "pDlTeDSFkF3s"
      },
      "execution_count": 195,
      "outputs": []
    },
    {
      "cell_type": "code",
      "source": [
        "pd.Series(day_of_week, fruits) # weekday is the data, fruits is the index\n",
        "# ORDER MATTERS!"
      ],
      "metadata": {
        "colab": {
          "base_uri": "https://localhost:8080/"
        },
        "id": "5QYxDf-gkd4e",
        "outputId": "776ac8a5-775c-4edd-9b65-90f5fff6755a"
      },
      "execution_count": 196,
      "outputs": [
        {
          "output_type": "execute_result",
          "data": {
            "text/plain": [
              "apple        Mon\n",
              "banana       Tue\n",
              "orange       Wed\n",
              "blueberry    Thu\n",
              "raspberry    Fri\n",
              "dtype: object"
            ]
          },
          "metadata": {},
          "execution_count": 196
        }
      ]
    },
    {
      "cell_type": "code",
      "source": [
        "# but when you're explicit about parameters, order doesn't matter\n",
        "pd.Series(\n",
        "    data = fruits,\n",
        "    index = day_of_week\n",
        ")"
      ],
      "metadata": {
        "colab": {
          "base_uri": "https://localhost:8080/"
        },
        "id": "_xqOWtgVkgUm",
        "outputId": "15d39f9a-f373-47b7-c872-f8d0ad9ccdeb"
      },
      "execution_count": 197,
      "outputs": [
        {
          "output_type": "execute_result",
          "data": {
            "text/plain": [
              "Mon        apple\n",
              "Tue       banana\n",
              "Wed       orange\n",
              "Thu    blueberry\n",
              "Fri    raspberry\n",
              "dtype: object"
            ]
          },
          "metadata": {},
          "execution_count": 197
        }
      ]
    },
    {
      "cell_type": "code",
      "source": [
        "# same as above\n",
        "pd.Series(\n",
        "    index = day_of_week,\n",
        "    data = fruits\n",
        ")"
      ],
      "metadata": {
        "colab": {
          "base_uri": "https://localhost:8080/"
        },
        "id": "R5273sOIpp81",
        "outputId": "0ac1860a-8acc-4044-8159-36b70c5e71c3"
      },
      "execution_count": 198,
      "outputs": [
        {
          "output_type": "execute_result",
          "data": {
            "text/plain": [
              "Mon        apple\n",
              "Tue       banana\n",
              "Wed       orange\n",
              "Thu    blueberry\n",
              "Fri    raspberry\n",
              "dtype: object"
            ]
          },
          "metadata": {},
          "execution_count": 198
        }
      ]
    },
    {
      "cell_type": "code",
      "source": [
        "# being explicit is known as keyword paramters or keyword arguments"
      ],
      "metadata": {
        "id": "1V_aYQ4cpvpm"
      },
      "execution_count": 199,
      "outputs": []
    },
    {
      "cell_type": "code",
      "source": [
        "# can also mix and match; include some keywords but not others\n",
        "pd.Series(fruits, index = day_of_week)"
      ],
      "metadata": {
        "colab": {
          "base_uri": "https://localhost:8080/"
        },
        "id": "Rq3kzCsyqtPl",
        "outputId": "c2b56d78-7b77-4e85-fcf3-16d368ce4757"
      },
      "execution_count": 200,
      "outputs": [
        {
          "output_type": "execute_result",
          "data": {
            "text/plain": [
              "Mon        apple\n",
              "Tue       banana\n",
              "Wed       orange\n",
              "Thu    blueberry\n",
              "Fri    raspberry\n",
              "dtype: object"
            ]
          },
          "metadata": {},
          "execution_count": 200
        }
      ]
    },
    {
      "cell_type": "code",
      "source": [
        "# pandas Series can have duplicate indices, unlike Python dictionary\n",
        "pd.Series(\n",
        "    data = [1, 2, 3, 3],\n",
        "    index = ['a', 'b', 'c', 'c']\n",
        ")"
      ],
      "metadata": {
        "colab": {
          "base_uri": "https://localhost:8080/"
        },
        "id": "YxbGzFruqxn0",
        "outputId": "cbb60f9e-ae23-41ba-b028-0098f1775c24"
      },
      "execution_count": 201,
      "outputs": [
        {
          "output_type": "execute_result",
          "data": {
            "text/plain": [
              "a    1\n",
              "b    2\n",
              "c    3\n",
              "c    3\n",
              "dtype: int64"
            ]
          },
          "metadata": {},
          "execution_count": 201
        }
      ]
    },
    {
      "cell_type": "code",
      "source": [
        "# data and index arguments must be of the same length"
      ],
      "metadata": {
        "id": "nxgtutx2q1br"
      },
      "execution_count": 202,
      "outputs": []
    },
    {
      "cell_type": "markdown",
      "source": [
        "## Import Pandas Series with pd.read_csv() function"
      ],
      "metadata": {
        "id": "RhsRXx7Tsvc2"
      }
    },
    {
      "cell_type": "code",
      "source": [
        "pd.read_csv('https://raw.githubusercontent.com/jack-cao-623/python_learning/main/pandas/pokemon.csv')"
      ],
      "metadata": {
        "colab": {
          "base_uri": "https://localhost:8080/",
          "height": 0
        },
        "id": "W4BojVamrzAU",
        "outputId": "18d4c82e-8628-437d-98a3-60eeec465947"
      },
      "execution_count": 203,
      "outputs": [
        {
          "output_type": "execute_result",
          "data": {
            "text/plain": [
              "        Pokemon     Type\n",
              "0     Bulbasaur    Grass\n",
              "1       Ivysaur    Grass\n",
              "2      Venusaur    Grass\n",
              "3    Charmander     Fire\n",
              "4    Charmeleon     Fire\n",
              "..          ...      ...\n",
              "716     Yveltal     Dark\n",
              "717     Zygarde   Dragon\n",
              "718     Diancie     Rock\n",
              "719       Hoopa  Psychic\n",
              "720   Volcanion     Fire\n",
              "\n",
              "[721 rows x 2 columns]"
            ],
            "text/html": [
              "\n",
              "  <div id=\"df-4591b815-b5e6-4a85-a98f-74f578e9a3a9\">\n",
              "    <div class=\"colab-df-container\">\n",
              "      <div>\n",
              "<style scoped>\n",
              "    .dataframe tbody tr th:only-of-type {\n",
              "        vertical-align: middle;\n",
              "    }\n",
              "\n",
              "    .dataframe tbody tr th {\n",
              "        vertical-align: top;\n",
              "    }\n",
              "\n",
              "    .dataframe thead th {\n",
              "        text-align: right;\n",
              "    }\n",
              "</style>\n",
              "<table border=\"1\" class=\"dataframe\">\n",
              "  <thead>\n",
              "    <tr style=\"text-align: right;\">\n",
              "      <th></th>\n",
              "      <th>Pokemon</th>\n",
              "      <th>Type</th>\n",
              "    </tr>\n",
              "  </thead>\n",
              "  <tbody>\n",
              "    <tr>\n",
              "      <th>0</th>\n",
              "      <td>Bulbasaur</td>\n",
              "      <td>Grass</td>\n",
              "    </tr>\n",
              "    <tr>\n",
              "      <th>1</th>\n",
              "      <td>Ivysaur</td>\n",
              "      <td>Grass</td>\n",
              "    </tr>\n",
              "    <tr>\n",
              "      <th>2</th>\n",
              "      <td>Venusaur</td>\n",
              "      <td>Grass</td>\n",
              "    </tr>\n",
              "    <tr>\n",
              "      <th>3</th>\n",
              "      <td>Charmander</td>\n",
              "      <td>Fire</td>\n",
              "    </tr>\n",
              "    <tr>\n",
              "      <th>4</th>\n",
              "      <td>Charmeleon</td>\n",
              "      <td>Fire</td>\n",
              "    </tr>\n",
              "    <tr>\n",
              "      <th>...</th>\n",
              "      <td>...</td>\n",
              "      <td>...</td>\n",
              "    </tr>\n",
              "    <tr>\n",
              "      <th>716</th>\n",
              "      <td>Yveltal</td>\n",
              "      <td>Dark</td>\n",
              "    </tr>\n",
              "    <tr>\n",
              "      <th>717</th>\n",
              "      <td>Zygarde</td>\n",
              "      <td>Dragon</td>\n",
              "    </tr>\n",
              "    <tr>\n",
              "      <th>718</th>\n",
              "      <td>Diancie</td>\n",
              "      <td>Rock</td>\n",
              "    </tr>\n",
              "    <tr>\n",
              "      <th>719</th>\n",
              "      <td>Hoopa</td>\n",
              "      <td>Psychic</td>\n",
              "    </tr>\n",
              "    <tr>\n",
              "      <th>720</th>\n",
              "      <td>Volcanion</td>\n",
              "      <td>Fire</td>\n",
              "    </tr>\n",
              "  </tbody>\n",
              "</table>\n",
              "<p>721 rows × 2 columns</p>\n",
              "</div>\n",
              "      <button class=\"colab-df-convert\" onclick=\"convertToInteractive('df-4591b815-b5e6-4a85-a98f-74f578e9a3a9')\"\n",
              "              title=\"Convert this dataframe to an interactive table.\"\n",
              "              style=\"display:none;\">\n",
              "        \n",
              "  <svg xmlns=\"http://www.w3.org/2000/svg\" height=\"24px\"viewBox=\"0 0 24 24\"\n",
              "       width=\"24px\">\n",
              "    <path d=\"M0 0h24v24H0V0z\" fill=\"none\"/>\n",
              "    <path d=\"M18.56 5.44l.94 2.06.94-2.06 2.06-.94-2.06-.94-.94-2.06-.94 2.06-2.06.94zm-11 1L8.5 8.5l.94-2.06 2.06-.94-2.06-.94L8.5 2.5l-.94 2.06-2.06.94zm10 10l.94 2.06.94-2.06 2.06-.94-2.06-.94-.94-2.06-.94 2.06-2.06.94z\"/><path d=\"M17.41 7.96l-1.37-1.37c-.4-.4-.92-.59-1.43-.59-.52 0-1.04.2-1.43.59L10.3 9.45l-7.72 7.72c-.78.78-.78 2.05 0 2.83L4 21.41c.39.39.9.59 1.41.59.51 0 1.02-.2 1.41-.59l7.78-7.78 2.81-2.81c.8-.78.8-2.07 0-2.86zM5.41 20L4 18.59l7.72-7.72 1.47 1.35L5.41 20z\"/>\n",
              "  </svg>\n",
              "      </button>\n",
              "      \n",
              "  <style>\n",
              "    .colab-df-container {\n",
              "      display:flex;\n",
              "      flex-wrap:wrap;\n",
              "      gap: 12px;\n",
              "    }\n",
              "\n",
              "    .colab-df-convert {\n",
              "      background-color: #E8F0FE;\n",
              "      border: none;\n",
              "      border-radius: 50%;\n",
              "      cursor: pointer;\n",
              "      display: none;\n",
              "      fill: #1967D2;\n",
              "      height: 32px;\n",
              "      padding: 0 0 0 0;\n",
              "      width: 32px;\n",
              "    }\n",
              "\n",
              "    .colab-df-convert:hover {\n",
              "      background-color: #E2EBFA;\n",
              "      box-shadow: 0px 1px 2px rgba(60, 64, 67, 0.3), 0px 1px 3px 1px rgba(60, 64, 67, 0.15);\n",
              "      fill: #174EA6;\n",
              "    }\n",
              "\n",
              "    [theme=dark] .colab-df-convert {\n",
              "      background-color: #3B4455;\n",
              "      fill: #D2E3FC;\n",
              "    }\n",
              "\n",
              "    [theme=dark] .colab-df-convert:hover {\n",
              "      background-color: #434B5C;\n",
              "      box-shadow: 0px 1px 3px 1px rgba(0, 0, 0, 0.15);\n",
              "      filter: drop-shadow(0px 1px 2px rgba(0, 0, 0, 0.3));\n",
              "      fill: #FFFFFF;\n",
              "    }\n",
              "  </style>\n",
              "\n",
              "      <script>\n",
              "        const buttonEl =\n",
              "          document.querySelector('#df-4591b815-b5e6-4a85-a98f-74f578e9a3a9 button.colab-df-convert');\n",
              "        buttonEl.style.display =\n",
              "          google.colab.kernel.accessAllowed ? 'block' : 'none';\n",
              "\n",
              "        async function convertToInteractive(key) {\n",
              "          const element = document.querySelector('#df-4591b815-b5e6-4a85-a98f-74f578e9a3a9');\n",
              "          const dataTable =\n",
              "            await google.colab.kernel.invokeFunction('convertToInteractive',\n",
              "                                                     [key], {});\n",
              "          if (!dataTable) return;\n",
              "\n",
              "          const docLinkHtml = 'Like what you see? Visit the ' +\n",
              "            '<a target=\"_blank\" href=https://colab.research.google.com/notebooks/data_table.ipynb>data table notebook</a>'\n",
              "            + ' to learn more about interactive tables.';\n",
              "          element.innerHTML = '';\n",
              "          dataTable['output_type'] = 'display_data';\n",
              "          await google.colab.output.renderOutput(dataTable, element);\n",
              "          const docLink = document.createElement('div');\n",
              "          docLink.innerHTML = docLinkHtml;\n",
              "          element.appendChild(docLink);\n",
              "        }\n",
              "      </script>\n",
              "    </div>\n",
              "  </div>\n",
              "  "
            ]
          },
          "metadata": {},
          "execution_count": 203
        }
      ]
    },
    {
      "cell_type": "code",
      "source": [
        "# above is not a Series; it's a DataFrame"
      ],
      "metadata": {
        "id": "gbO2uPhmtcoU"
      },
      "execution_count": 204,
      "outputs": []
    },
    {
      "cell_type": "code",
      "source": [
        "pokemon = (\n",
        "    pd.read_csv(\n",
        "      'https://raw.githubusercontent.com/jack-cao-623/python_learning/main/pandas/pokemon.csv',\n",
        "      usecols = ['Pokemon']  # only import these columns; must be a list\n",
        "    )              # this is a dataframe with one column\n",
        "    .squeeze()     # convert dataframe to series\n",
        ")\n",
        "\n",
        "pokemon"
      ],
      "metadata": {
        "colab": {
          "base_uri": "https://localhost:8080/"
        },
        "id": "qBTY9PJ4ud9D",
        "outputId": "ed4845f1-f086-429f-f881-83908154ee03"
      },
      "execution_count": 205,
      "outputs": [
        {
          "output_type": "execute_result",
          "data": {
            "text/plain": [
              "0       Bulbasaur\n",
              "1         Ivysaur\n",
              "2        Venusaur\n",
              "3      Charmander\n",
              "4      Charmeleon\n",
              "          ...    \n",
              "716       Yveltal\n",
              "717       Zygarde\n",
              "718       Diancie\n",
              "719         Hoopa\n",
              "720     Volcanion\n",
              "Name: Pokemon, Length: 721, dtype: object"
            ]
          },
          "metadata": {},
          "execution_count": 205
        }
      ]
    },
    {
      "cell_type": "code",
      "source": [
        "# elipsis ... indicates gap in data; still there, but not showing it; otherwise, entire screen will be taken up"
      ],
      "metadata": {
        "id": "7bIfw8XeuiLC"
      },
      "execution_count": 206,
      "outputs": []
    },
    {
      "cell_type": "code",
      "source": [
        "# another example\n",
        "google = (\n",
        "    pd.read_csv(\n",
        "        'https://raw.githubusercontent.com/jack-cao-623/python_learning/main/pandas/google_stock_price.csv',\n",
        "        usecols = ['Stock Price']    # only read in this columns\n",
        "    )\n",
        "    .squeeze(axis = 'columns')  # convert to Series\n",
        ")\n",
        "\n",
        "google"
      ],
      "metadata": {
        "colab": {
          "base_uri": "https://localhost:8080/"
        },
        "id": "is2T22Nxv0Ps",
        "outputId": "e73a9d80-20d4-4923-8dea-93831b6018f7"
      },
      "execution_count": 207,
      "outputs": [
        {
          "output_type": "execute_result",
          "data": {
            "text/plain": [
              "0        50.12\n",
              "1        54.10\n",
              "2        54.65\n",
              "3        52.38\n",
              "4        52.95\n",
              "         ...  \n",
              "3007    772.88\n",
              "3008    771.07\n",
              "3009    773.18\n",
              "3010    771.61\n",
              "3011    782.22\n",
              "Name: Stock Price, Length: 3012, dtype: float64"
            ]
          },
          "metadata": {},
          "execution_count": 207
        }
      ]
    },
    {
      "cell_type": "markdown",
      "source": [
        "## .head() and .tail() method on a Series\n",
        "- purpose is to preview first or last n entries\n",
        "- returns a view\n",
        "- copies vs. views becomes an issue when cleaning/manipulating/wrangling data"
      ],
      "metadata": {
        "id": "TA7fs5c51hrj"
      }
    },
    {
      "cell_type": "code",
      "source": [
        "google.head(n = 5)     # view first entries in google"
      ],
      "metadata": {
        "colab": {
          "base_uri": "https://localhost:8080/"
        },
        "id": "SpHuGfv4v2EL",
        "outputId": "936dd326-f650-48f4-8ab0-52a3dabafc29"
      },
      "execution_count": 208,
      "outputs": [
        {
          "output_type": "execute_result",
          "data": {
            "text/plain": [
              "0    50.12\n",
              "1    54.10\n",
              "2    54.65\n",
              "3    52.38\n",
              "4    52.95\n",
              "Name: Stock Price, dtype: float64"
            ]
          },
          "metadata": {},
          "execution_count": 208
        }
      ]
    },
    {
      "cell_type": "code",
      "source": [
        "google.tail(n = 5)     # view last entries in google"
      ],
      "metadata": {
        "colab": {
          "base_uri": "https://localhost:8080/"
        },
        "id": "9dvr8Ehrzqsx",
        "outputId": "27206c29-2b3c-47f3-bf3e-e76cdcd6a645"
      },
      "execution_count": 209,
      "outputs": [
        {
          "output_type": "execute_result",
          "data": {
            "text/plain": [
              "3007    772.88\n",
              "3008    771.07\n",
              "3009    773.18\n",
              "3010    771.61\n",
              "3011    782.22\n",
              "Name: Stock Price, dtype: float64"
            ]
          },
          "metadata": {},
          "execution_count": 209
        }
      ]
    },
    {
      "cell_type": "code",
      "source": [
        "# view last 10 rows of pokemon\n",
        "pokemon.tail(n = 10)"
      ],
      "metadata": {
        "colab": {
          "base_uri": "https://localhost:8080/"
        },
        "id": "3WwfRq8q1sJx",
        "outputId": "45419402-6db0-440b-9ccd-2713b9a1b880"
      },
      "execution_count": 210,
      "outputs": [
        {
          "output_type": "execute_result",
          "data": {
            "text/plain": [
              "711     Bergmite\n",
              "712      Avalugg\n",
              "713       Noibat\n",
              "714      Noivern\n",
              "715      Xerneas\n",
              "716      Yveltal\n",
              "717      Zygarde\n",
              "718      Diancie\n",
              "719        Hoopa\n",
              "720    Volcanion\n",
              "Name: Pokemon, dtype: object"
            ]
          },
          "metadata": {},
          "execution_count": 210
        }
      ]
    },
    {
      "cell_type": "code",
      "source": [
        "# above is equivalent to:\n",
        "pokemon[-10:]"
      ],
      "metadata": {
        "colab": {
          "base_uri": "https://localhost:8080/"
        },
        "id": "L_zEIj98OnXz",
        "outputId": "f3ab3c61-a180-4e85-869e-687dc863bb82"
      },
      "execution_count": 211,
      "outputs": [
        {
          "output_type": "execute_result",
          "data": {
            "text/plain": [
              "711     Bergmite\n",
              "712      Avalugg\n",
              "713       Noibat\n",
              "714      Noivern\n",
              "715      Xerneas\n",
              "716      Yveltal\n",
              "717      Zygarde\n",
              "718      Diancie\n",
              "719        Hoopa\n",
              "720    Volcanion\n",
              "Name: Pokemon, dtype: object"
            ]
          },
          "metadata": {},
          "execution_count": 211
        }
      ]
    },
    {
      "cell_type": "markdown",
      "source": [
        "## Passing Series to Python built-in functions"
      ],
      "metadata": {
        "id": "ye96LWfoQ4p9"
      }
    },
    {
      "cell_type": "code",
      "source": [
        "# number of elements in series, null and non-null\n",
        "len(pokemon)"
      ],
      "metadata": {
        "colab": {
          "base_uri": "https://localhost:8080/"
        },
        "id": "PXtL5DQLOpRT",
        "outputId": "7d4e495d-632b-47e5-c0cb-68ee47c868d4"
      },
      "execution_count": 212,
      "outputs": [
        {
          "output_type": "execute_result",
          "data": {
            "text/plain": [
              "721"
            ]
          },
          "metadata": {},
          "execution_count": 212
        }
      ]
    },
    {
      "cell_type": "code",
      "source": [
        "len(pd.Series([1, np.nan, 2])) # length of 3"
      ],
      "metadata": {
        "colab": {
          "base_uri": "https://localhost:8080/"
        },
        "id": "34tMPgn0lBqu",
        "outputId": "4afbc8d9-dd89-4ed0-8995-05ac3da0bc32"
      },
      "execution_count": 213,
      "outputs": [
        {
          "output_type": "execute_result",
          "data": {
            "text/plain": [
              "3"
            ]
          },
          "metadata": {},
          "execution_count": 213
        }
      ]
    },
    {
      "cell_type": "code",
      "source": [
        "type(pokemon) # pokemon is a series"
      ],
      "metadata": {
        "colab": {
          "base_uri": "https://localhost:8080/"
        },
        "id": "C4FxqSeYlFs9",
        "outputId": "b7612e91-ac8a-40c2-9acd-e2f020ffddeb"
      },
      "execution_count": 214,
      "outputs": [
        {
          "output_type": "execute_result",
          "data": {
            "text/plain": [
              "pandas.core.series.Series"
            ]
          },
          "metadata": {},
          "execution_count": 214
        }
      ]
    },
    {
      "cell_type": "code",
      "source": [
        "dir(pokemon)[:5]  # returns a list of methods and attributes available for pokemon\n",
        "# equivalent to pokemon.[shift + tab]"
      ],
      "metadata": {
        "colab": {
          "base_uri": "https://localhost:8080/"
        },
        "id": "QOVavynWoJQY",
        "outputId": "537c1ca0-f7ef-4a65-c842-b427d8207e39"
      },
      "execution_count": 215,
      "outputs": [
        {
          "output_type": "execute_result",
          "data": {
            "text/plain": [
              "['T', '_AXIS_LEN', '_AXIS_ORDERS', '_AXIS_REVERSED', '_AXIS_TO_AXIS_NUMBER']"
            ]
          },
          "metadata": {},
          "execution_count": 215
        }
      ]
    },
    {
      "cell_type": "code",
      "source": [
        "sorted(pokemon)[:5]  # sort pokemon in alphabetical order; returns a list"
      ],
      "metadata": {
        "colab": {
          "base_uri": "https://localhost:8080/"
        },
        "id": "qde-ZzLVoL6y",
        "outputId": "10c48c1f-357a-4081-a77e-af495b4fbd02"
      },
      "execution_count": 216,
      "outputs": [
        {
          "output_type": "execute_result",
          "data": {
            "text/plain": [
              "['Abomasnow', 'Abra', 'Absol', 'Accelgor', 'Aegislash']"
            ]
          },
          "metadata": {},
          "execution_count": 216
        }
      ]
    },
    {
      "cell_type": "code",
      "source": [
        "type(sorted(pokemon)) # this is a list; nested"
      ],
      "metadata": {
        "colab": {
          "base_uri": "https://localhost:8080/"
        },
        "id": "C0cTHE5eoY-u",
        "outputId": "304529d3-16c1-4b37-e52b-f5c3ce633d28"
      },
      "execution_count": 217,
      "outputs": [
        {
          "output_type": "execute_result",
          "data": {
            "text/plain": [
              "list"
            ]
          },
          "metadata": {},
          "execution_count": 217
        }
      ]
    },
    {
      "cell_type": "code",
      "source": [
        "# sort google\n",
        "sorted(google)[:5] # first 5 elements"
      ],
      "metadata": {
        "colab": {
          "base_uri": "https://localhost:8080/"
        },
        "id": "1-aGde9-of-m",
        "outputId": "ce411b3b-0cba-452a-9b13-1c66105f7eeb"
      },
      "execution_count": 218,
      "outputs": [
        {
          "output_type": "execute_result",
          "data": {
            "text/plain": [
              "[49.95, 50.07, 50.12, 50.7, 50.74]"
            ]
          },
          "metadata": {},
          "execution_count": 218
        }
      ]
    },
    {
      "cell_type": "code",
      "source": [
        "# convert pokemon series to a list\n",
        "list(pokemon)[:5]"
      ],
      "metadata": {
        "colab": {
          "base_uri": "https://localhost:8080/"
        },
        "id": "rb-nDht7opZ_",
        "outputId": "2afc8998-c3a8-460c-d764-b8b75404c414"
      },
      "execution_count": 219,
      "outputs": [
        {
          "output_type": "execute_result",
          "data": {
            "text/plain": [
              "['Bulbasaur', 'Ivysaur', 'Venusaur', 'Charmander', 'Charmeleon']"
            ]
          },
          "metadata": {},
          "execution_count": 219
        }
      ]
    },
    {
      "cell_type": "code",
      "source": [
        "# convert pokemon series to a dicitionary where keys are indices and elements are values\n",
        "dict(pokemon) ## super long don't run"
      ],
      "metadata": {
        "colab": {
          "base_uri": "https://localhost:8080/"
        },
        "id": "qCIbLBuyovi_",
        "outputId": "514bc67c-237a-45a8-cdd4-01731f62c2f6"
      },
      "execution_count": 220,
      "outputs": [
        {
          "output_type": "execute_result",
          "data": {
            "text/plain": [
              "{0: 'Bulbasaur',\n",
              " 1: 'Ivysaur',\n",
              " 2: 'Venusaur',\n",
              " 3: 'Charmander',\n",
              " 4: 'Charmeleon',\n",
              " 5: 'Charizard',\n",
              " 6: 'Squirtle',\n",
              " 7: 'Wartortle',\n",
              " 8: 'Blastoise',\n",
              " 9: 'Caterpie',\n",
              " 10: 'Metapod',\n",
              " 11: 'Butterfree',\n",
              " 12: 'Weedle',\n",
              " 13: 'Kakuna',\n",
              " 14: 'Beedrill',\n",
              " 15: 'Pidgey',\n",
              " 16: 'Pidgeotto',\n",
              " 17: 'Pidgeot',\n",
              " 18: 'Rattata',\n",
              " 19: 'Raticate',\n",
              " 20: 'Spearow',\n",
              " 21: 'Fearow',\n",
              " 22: 'Ekans',\n",
              " 23: 'Arbok',\n",
              " 24: 'Pikachu',\n",
              " 25: 'Raichu',\n",
              " 26: 'Sandshrew',\n",
              " 27: 'Sandslash',\n",
              " 28: 'Nidoran',\n",
              " 29: 'Nidorina',\n",
              " 30: 'Nidoqueen',\n",
              " 31: 'Nidoran♂',\n",
              " 32: 'Nidorino',\n",
              " 33: 'Nidoking',\n",
              " 34: 'Clefairy',\n",
              " 35: 'Clefable',\n",
              " 36: 'Vulpix',\n",
              " 37: 'Ninetales',\n",
              " 38: 'Jigglypuff',\n",
              " 39: 'Wigglytuff',\n",
              " 40: 'Zubat',\n",
              " 41: 'Golbat',\n",
              " 42: 'Oddish',\n",
              " 43: 'Gloom',\n",
              " 44: 'Vileplume',\n",
              " 45: 'Paras',\n",
              " 46: 'Parasect',\n",
              " 47: 'Venonat',\n",
              " 48: 'Venomoth',\n",
              " 49: 'Diglett',\n",
              " 50: 'Dugtrio',\n",
              " 51: 'Meowth',\n",
              " 52: 'Persian',\n",
              " 53: 'Psyduck',\n",
              " 54: 'Golduck',\n",
              " 55: 'Mankey',\n",
              " 56: 'Primeape',\n",
              " 57: 'Growlithe',\n",
              " 58: 'Arcanine',\n",
              " 59: 'Poliwag',\n",
              " 60: 'Poliwhirl',\n",
              " 61: 'Poliwrath',\n",
              " 62: 'Abra',\n",
              " 63: 'Kadabra',\n",
              " 64: 'Alakazam',\n",
              " 65: 'Machop',\n",
              " 66: 'Machoke',\n",
              " 67: 'Machamp',\n",
              " 68: 'Bellsprout',\n",
              " 69: 'Weepinbell',\n",
              " 70: 'Victreebel',\n",
              " 71: 'Tentacool',\n",
              " 72: 'Tentacruel',\n",
              " 73: 'Geodude',\n",
              " 74: 'Graveler',\n",
              " 75: 'Golem',\n",
              " 76: 'Ponyta',\n",
              " 77: 'Rapidash',\n",
              " 78: 'Slowpoke',\n",
              " 79: 'Slowbro',\n",
              " 80: 'Magnemite',\n",
              " 81: 'Magneton',\n",
              " 82: \"Farfetch'd\",\n",
              " 83: 'Doduo',\n",
              " 84: 'Dodrio',\n",
              " 85: 'Seel',\n",
              " 86: 'Dewgong',\n",
              " 87: 'Grimer',\n",
              " 88: 'Muk',\n",
              " 89: 'Shellder',\n",
              " 90: 'Cloyster',\n",
              " 91: 'Gastly',\n",
              " 92: 'Haunter',\n",
              " 93: 'Gengar',\n",
              " 94: 'Onix',\n",
              " 95: 'Drowzee',\n",
              " 96: 'Hypno',\n",
              " 97: 'Krabby',\n",
              " 98: 'Kingler',\n",
              " 99: 'Voltorb',\n",
              " 100: 'Electrode',\n",
              " 101: 'Exeggcute',\n",
              " 102: 'Exeggutor',\n",
              " 103: 'Cubone',\n",
              " 104: 'Marowak',\n",
              " 105: 'Hitmonlee',\n",
              " 106: 'Hitmonchan',\n",
              " 107: 'Lickitung',\n",
              " 108: 'Koffing',\n",
              " 109: 'Weezing',\n",
              " 110: 'Rhyhorn',\n",
              " 111: 'Rhydon',\n",
              " 112: 'Chansey',\n",
              " 113: 'Tangela',\n",
              " 114: 'Kangaskhan',\n",
              " 115: 'Horsea',\n",
              " 116: 'Seadra',\n",
              " 117: 'Goldeen',\n",
              " 118: 'Seaking',\n",
              " 119: 'Staryu',\n",
              " 120: 'Starmie',\n",
              " 121: 'Mr. Mime',\n",
              " 122: 'Scyther',\n",
              " 123: 'Jynx',\n",
              " 124: 'Electabuzz',\n",
              " 125: 'Magmar',\n",
              " 126: 'Pinsir',\n",
              " 127: 'Tauros',\n",
              " 128: 'Magikarp',\n",
              " 129: 'Gyarados',\n",
              " 130: 'Lapras',\n",
              " 131: 'Ditto',\n",
              " 132: 'Eevee',\n",
              " 133: 'Vaporeon',\n",
              " 134: 'Jolteon',\n",
              " 135: 'Flareon',\n",
              " 136: 'Porygon',\n",
              " 137: 'Omanyte',\n",
              " 138: 'Omastar',\n",
              " 139: 'Kabuto',\n",
              " 140: 'Kabutops',\n",
              " 141: 'Aerodactyl',\n",
              " 142: 'Snorlax',\n",
              " 143: 'Articuno',\n",
              " 144: 'Zapdos',\n",
              " 145: 'Moltres',\n",
              " 146: 'Dratini',\n",
              " 147: 'Dragonair',\n",
              " 148: 'Dragonite',\n",
              " 149: 'Mewtwo',\n",
              " 150: 'Mew',\n",
              " 151: 'Chikorita',\n",
              " 152: 'Bayleef',\n",
              " 153: 'Meganium',\n",
              " 154: 'Cyndaquil',\n",
              " 155: 'Quilava',\n",
              " 156: 'Typhlosion',\n",
              " 157: 'Totodile',\n",
              " 158: 'Croconaw',\n",
              " 159: 'Feraligatr',\n",
              " 160: 'Sentret',\n",
              " 161: 'Furret',\n",
              " 162: 'Hoothoot',\n",
              " 163: 'Noctowl',\n",
              " 164: 'Ledyba',\n",
              " 165: 'Ledian',\n",
              " 166: 'Spinarak',\n",
              " 167: 'Ariados',\n",
              " 168: 'Crobat',\n",
              " 169: 'Chinchou',\n",
              " 170: 'Lanturn',\n",
              " 171: 'Pichu',\n",
              " 172: 'Cleffa',\n",
              " 173: 'Igglybuff',\n",
              " 174: 'Togepi',\n",
              " 175: 'Togetic',\n",
              " 176: 'Natu',\n",
              " 177: 'Xatu',\n",
              " 178: 'Mareep',\n",
              " 179: 'Flaaffy',\n",
              " 180: 'Ampharos',\n",
              " 181: 'Bellossom',\n",
              " 182: 'Marill',\n",
              " 183: 'Azumarill',\n",
              " 184: 'Sudowoodo',\n",
              " 185: 'Politoed',\n",
              " 186: 'Hoppip',\n",
              " 187: 'Skiploom',\n",
              " 188: 'Jumpluff',\n",
              " 189: 'Aipom',\n",
              " 190: 'Sunkern',\n",
              " 191: 'Sunflora',\n",
              " 192: 'Yanma',\n",
              " 193: 'Wooper',\n",
              " 194: 'Quagsire',\n",
              " 195: 'Espeon',\n",
              " 196: 'Umbreon',\n",
              " 197: 'Murkrow',\n",
              " 198: 'Slowking',\n",
              " 199: 'Misdreavus',\n",
              " 200: 'Unown',\n",
              " 201: 'Wobbuffet',\n",
              " 202: 'Girafarig',\n",
              " 203: 'Pineco',\n",
              " 204: 'Forretress',\n",
              " 205: 'Dunsparce',\n",
              " 206: 'Gligar',\n",
              " 207: 'Steelix',\n",
              " 208: 'Snubbull',\n",
              " 209: 'Granbull',\n",
              " 210: 'Qwilfish',\n",
              " 211: 'Scizor',\n",
              " 212: 'Shuckle',\n",
              " 213: 'Heracross',\n",
              " 214: 'Sneasel',\n",
              " 215: 'Teddiursa',\n",
              " 216: 'Ursaring',\n",
              " 217: 'Slugma',\n",
              " 218: 'Magcargo',\n",
              " 219: 'Swinub',\n",
              " 220: 'Piloswine',\n",
              " 221: 'Corsola',\n",
              " 222: 'Remoraid',\n",
              " 223: 'Octillery',\n",
              " 224: 'Delibird',\n",
              " 225: 'Mantine',\n",
              " 226: 'Skarmory',\n",
              " 227: 'Houndour',\n",
              " 228: 'Houndoom',\n",
              " 229: 'Kingdra',\n",
              " 230: 'Phanpy',\n",
              " 231: 'Donphan',\n",
              " 232: 'Porygon2',\n",
              " 233: 'Stantler',\n",
              " 234: 'Smeargle',\n",
              " 235: 'Tyrogue',\n",
              " 236: 'Hitmontop',\n",
              " 237: 'Smoochum',\n",
              " 238: 'Elekid',\n",
              " 239: 'Magby',\n",
              " 240: 'Miltank',\n",
              " 241: 'Blissey',\n",
              " 242: 'Raikou',\n",
              " 243: 'Entei',\n",
              " 244: 'Suicune',\n",
              " 245: 'Larvitar',\n",
              " 246: 'Pupitar',\n",
              " 247: 'Tyranitar',\n",
              " 248: 'Lugia',\n",
              " 249: 'Ho-oh',\n",
              " 250: 'Celebi',\n",
              " 251: 'Treecko',\n",
              " 252: 'Grovyle',\n",
              " 253: 'Sceptile',\n",
              " 254: 'Torchic',\n",
              " 255: 'Combusken',\n",
              " 256: 'Blaziken',\n",
              " 257: 'Mudkip',\n",
              " 258: 'Marshtomp',\n",
              " 259: 'Swampert',\n",
              " 260: 'Poochyena',\n",
              " 261: 'Mightyena',\n",
              " 262: 'Zigzagoon',\n",
              " 263: 'Linoone',\n",
              " 264: 'Wurmple',\n",
              " 265: 'Silcoon',\n",
              " 266: 'Beautifly',\n",
              " 267: 'Cascoon',\n",
              " 268: 'Dustox',\n",
              " 269: 'Lotad',\n",
              " 270: 'Lombre',\n",
              " 271: 'Ludicolo',\n",
              " 272: 'Seedot',\n",
              " 273: 'Nuzleaf',\n",
              " 274: 'Shiftry',\n",
              " 275: 'Taillow',\n",
              " 276: 'Swellow',\n",
              " 277: 'Wingull',\n",
              " 278: 'Pelipper',\n",
              " 279: 'Ralts',\n",
              " 280: 'Kirlia',\n",
              " 281: 'Gardevoir',\n",
              " 282: 'Surskit',\n",
              " 283: 'Masquerain',\n",
              " 284: 'Shroomish',\n",
              " 285: 'Breloom',\n",
              " 286: 'Slakoth',\n",
              " 287: 'Vigoroth',\n",
              " 288: 'Slaking',\n",
              " 289: 'Nincada',\n",
              " 290: 'Ninjask',\n",
              " 291: 'Shedinja',\n",
              " 292: 'Whismur',\n",
              " 293: 'Loudred',\n",
              " 294: 'Exploud',\n",
              " 295: 'Makuhita',\n",
              " 296: 'Hariyama',\n",
              " 297: 'Azurill',\n",
              " 298: 'Nosepass',\n",
              " 299: 'Skitty',\n",
              " 300: 'Delcatty',\n",
              " 301: 'Sableye',\n",
              " 302: 'Mawile',\n",
              " 303: 'Aron',\n",
              " 304: 'Lairon',\n",
              " 305: 'Aggron',\n",
              " 306: 'Meditite',\n",
              " 307: 'Medicham',\n",
              " 308: 'Electrike',\n",
              " 309: 'Manectric',\n",
              " 310: 'Plusle',\n",
              " 311: 'Minun',\n",
              " 312: 'Volbeat',\n",
              " 313: 'Illumise',\n",
              " 314: 'Roselia',\n",
              " 315: 'Gulpin',\n",
              " 316: 'Swalot',\n",
              " 317: 'Carvanha',\n",
              " 318: 'Sharpedo',\n",
              " 319: 'Wailmer',\n",
              " 320: 'Wailord',\n",
              " 321: 'Numel',\n",
              " 322: 'Camerupt',\n",
              " 323: 'Torkoal',\n",
              " 324: 'Spoink',\n",
              " 325: 'Grumpig',\n",
              " 326: 'Spinda',\n",
              " 327: 'Trapinch',\n",
              " 328: 'Vibrava',\n",
              " 329: 'Flygon',\n",
              " 330: 'Cacnea',\n",
              " 331: 'Cacturne',\n",
              " 332: 'Swablu',\n",
              " 333: 'Altaria',\n",
              " 334: 'Zangoose',\n",
              " 335: 'Seviper',\n",
              " 336: 'Lunatone',\n",
              " 337: 'Solrock',\n",
              " 338: 'Barboach',\n",
              " 339: 'Whiscash',\n",
              " 340: 'Corphish',\n",
              " 341: 'Crawdaunt',\n",
              " 342: 'Baltoy',\n",
              " 343: 'Claydol',\n",
              " 344: 'Lileep',\n",
              " 345: 'Cradily',\n",
              " 346: 'Anorith',\n",
              " 347: 'Armaldo',\n",
              " 348: 'Feebas',\n",
              " 349: 'Milotic',\n",
              " 350: 'Castform',\n",
              " 351: 'Kecleon',\n",
              " 352: 'Shuppet',\n",
              " 353: 'Banette',\n",
              " 354: 'Duskull',\n",
              " 355: 'Dusclops',\n",
              " 356: 'Tropius',\n",
              " 357: 'Chimecho',\n",
              " 358: 'Absol',\n",
              " 359: 'Wynaut',\n",
              " 360: 'Snorunt',\n",
              " 361: 'Glalie',\n",
              " 362: 'Spheal',\n",
              " 363: 'Sealeo',\n",
              " 364: 'Walrein',\n",
              " 365: 'Clamperl',\n",
              " 366: 'Huntail',\n",
              " 367: 'Gorebyss',\n",
              " 368: 'Relicanth',\n",
              " 369: 'Luvdisc',\n",
              " 370: 'Bagon',\n",
              " 371: 'Shelgon',\n",
              " 372: 'Salamence',\n",
              " 373: 'Beldum',\n",
              " 374: 'Metang',\n",
              " 375: 'Metagross',\n",
              " 376: 'Regirock',\n",
              " 377: 'Regice',\n",
              " 378: 'Registeel',\n",
              " 379: 'Latias',\n",
              " 380: 'Latios',\n",
              " 381: 'Kyogre',\n",
              " 382: 'Groudon',\n",
              " 383: 'Rayquaza',\n",
              " 384: 'Jirachi',\n",
              " 385: 'Deoxys',\n",
              " 386: 'Turtwig',\n",
              " 387: 'Grotle',\n",
              " 388: 'Torterra',\n",
              " 389: 'Chimchar',\n",
              " 390: 'Monferno',\n",
              " 391: 'Infernape',\n",
              " 392: 'Piplup',\n",
              " 393: 'Prinplup',\n",
              " 394: 'Empoleon',\n",
              " 395: 'Starly',\n",
              " 396: 'Staravia',\n",
              " 397: 'Staraptor',\n",
              " 398: 'Bidoof',\n",
              " 399: 'Bibarel',\n",
              " 400: 'Kricketot',\n",
              " 401: 'Kricketune',\n",
              " 402: 'Shinx',\n",
              " 403: 'Luxio',\n",
              " 404: 'Luxray',\n",
              " 405: 'Budew',\n",
              " 406: 'Roserade',\n",
              " 407: 'Cranidos',\n",
              " 408: 'Rampardos',\n",
              " 409: 'Shieldon',\n",
              " 410: 'Bastiodon',\n",
              " 411: 'Burmy',\n",
              " 412: 'Wormadam',\n",
              " 413: 'Mothim',\n",
              " 414: 'Combee',\n",
              " 415: 'Vespiquen',\n",
              " 416: 'Pachirisu',\n",
              " 417: 'Buizel',\n",
              " 418: 'Floatzel',\n",
              " 419: 'Cherubi',\n",
              " 420: 'Cherrim',\n",
              " 421: 'Shellos',\n",
              " 422: 'Gastrodon',\n",
              " 423: 'Ambipom',\n",
              " 424: 'Drifloon',\n",
              " 425: 'Drifblim',\n",
              " 426: 'Buneary',\n",
              " 427: 'Lopunny',\n",
              " 428: 'Mismagius',\n",
              " 429: 'Honchkrow',\n",
              " 430: 'Glameow',\n",
              " 431: 'Purugly',\n",
              " 432: 'Chingling',\n",
              " 433: 'Stunky',\n",
              " 434: 'Skuntank',\n",
              " 435: 'Bronzor',\n",
              " 436: 'Bronzong',\n",
              " 437: 'Bonsly',\n",
              " 438: 'Mime Jr.',\n",
              " 439: 'Happiny',\n",
              " 440: 'Chatot',\n",
              " 441: 'Spiritomb',\n",
              " 442: 'Gible',\n",
              " 443: 'Gabite',\n",
              " 444: 'Garchomp',\n",
              " 445: 'Munchlax',\n",
              " 446: 'Riolu',\n",
              " 447: 'Lucario',\n",
              " 448: 'Hippopotas',\n",
              " 449: 'Hippowdon',\n",
              " 450: 'Skorupi',\n",
              " 451: 'Drapion',\n",
              " 452: 'Croagunk',\n",
              " 453: 'Toxicroak',\n",
              " 454: 'Carnivine',\n",
              " 455: 'Finneon',\n",
              " 456: 'Lumineon',\n",
              " 457: 'Mantyke',\n",
              " 458: 'Snover',\n",
              " 459: 'Abomasnow',\n",
              " 460: 'Weavile',\n",
              " 461: 'Magnezone',\n",
              " 462: 'Lickilicky',\n",
              " 463: 'Rhyperior',\n",
              " 464: 'Tangrowth',\n",
              " 465: 'Electivire',\n",
              " 466: 'Magmortar',\n",
              " 467: 'Togekiss',\n",
              " 468: 'Yanmega',\n",
              " 469: 'Leafeon',\n",
              " 470: 'Glaceon',\n",
              " 471: 'Gliscor',\n",
              " 472: 'Mamoswine',\n",
              " 473: 'Porygon-Z',\n",
              " 474: 'Gallade',\n",
              " 475: 'Probopass',\n",
              " 476: 'Dusknoir',\n",
              " 477: 'Froslass',\n",
              " 478: 'Rotom',\n",
              " 479: 'Uxie',\n",
              " 480: 'Mesprit',\n",
              " 481: 'Azelf',\n",
              " 482: 'Dialga',\n",
              " 483: 'Palkia',\n",
              " 484: 'Heatran',\n",
              " 485: 'Regigigas',\n",
              " 486: 'Giratina',\n",
              " 487: 'Cresselia',\n",
              " 488: 'Phione',\n",
              " 489: 'Manaphy',\n",
              " 490: 'Darkrai',\n",
              " 491: 'Shaymin',\n",
              " 492: 'Arceus',\n",
              " 493: 'Victini',\n",
              " 494: 'Snivy',\n",
              " 495: 'Servine',\n",
              " 496: 'Serperior',\n",
              " 497: 'Tepig',\n",
              " 498: 'Pignite',\n",
              " 499: 'Emboar',\n",
              " 500: 'Oshawott',\n",
              " 501: 'Dewott',\n",
              " 502: 'Samurott',\n",
              " 503: 'Patrat',\n",
              " 504: 'Watchog',\n",
              " 505: 'Lillipup',\n",
              " 506: 'Herdier',\n",
              " 507: 'Stoutland',\n",
              " 508: 'Purrloin',\n",
              " 509: 'Liepard',\n",
              " 510: 'Pansage',\n",
              " 511: 'Simisage',\n",
              " 512: 'Pansear',\n",
              " 513: 'Simisear',\n",
              " 514: 'Panpour',\n",
              " 515: 'Simipour',\n",
              " 516: 'Munna',\n",
              " 517: 'Musharna',\n",
              " 518: 'Pidove',\n",
              " 519: 'Tranquill',\n",
              " 520: 'Unfezant',\n",
              " 521: 'Blitzle',\n",
              " 522: 'Zebstrika',\n",
              " 523: 'Roggenrola',\n",
              " 524: 'Boldore',\n",
              " 525: 'Gigalith',\n",
              " 526: 'Woobat',\n",
              " 527: 'Swoobat',\n",
              " 528: 'Drilbur',\n",
              " 529: 'Excadrill',\n",
              " 530: 'Audino',\n",
              " 531: 'Timburr',\n",
              " 532: 'Gurdurr',\n",
              " 533: 'Conkeldurr',\n",
              " 534: 'Tympole',\n",
              " 535: 'Palpitoad',\n",
              " 536: 'Seismitoad',\n",
              " 537: 'Throh',\n",
              " 538: 'Sawk',\n",
              " 539: 'Sewaddle',\n",
              " 540: 'Swadloon',\n",
              " 541: 'Leavanny',\n",
              " 542: 'Venipede',\n",
              " 543: 'Whirlipede',\n",
              " 544: 'Scolipede',\n",
              " 545: 'Cottonee',\n",
              " 546: 'Whimsicott',\n",
              " 547: 'Petilil',\n",
              " 548: 'Lilligant',\n",
              " 549: 'Basculin',\n",
              " 550: 'Sandile',\n",
              " 551: 'Krokorok',\n",
              " 552: 'Krookodile',\n",
              " 553: 'Darumaka',\n",
              " 554: 'Darmanitan',\n",
              " 555: 'Maractus',\n",
              " 556: 'Dwebble',\n",
              " 557: 'Crustle',\n",
              " 558: 'Scraggy',\n",
              " 559: 'Scrafty',\n",
              " 560: 'Sigilyph',\n",
              " 561: 'Yamask',\n",
              " 562: 'Cofagrigus',\n",
              " 563: 'Tirtouga',\n",
              " 564: 'Carracosta',\n",
              " 565: 'Archen',\n",
              " 566: 'Archeops',\n",
              " 567: 'Trubbish',\n",
              " 568: 'Garbodor',\n",
              " 569: 'Zorua',\n",
              " 570: 'Zoroark',\n",
              " 571: 'Minccino',\n",
              " 572: 'Cinccino',\n",
              " 573: 'Gothita',\n",
              " 574: 'Gothorita',\n",
              " 575: 'Gothitelle',\n",
              " 576: 'Solosis',\n",
              " 577: 'Duosion',\n",
              " 578: 'Reuniclus',\n",
              " 579: 'Ducklett',\n",
              " 580: 'Swanna',\n",
              " 581: 'Vanillite',\n",
              " 582: 'Vanillish',\n",
              " 583: 'Vanilluxe',\n",
              " 584: 'Deerling',\n",
              " 585: 'Sawsbuck',\n",
              " 586: 'Emolga',\n",
              " 587: 'Karrablast',\n",
              " 588: 'Escavalier',\n",
              " 589: 'Foongus',\n",
              " 590: 'Amoonguss',\n",
              " 591: 'Frillish',\n",
              " 592: 'Jellicent',\n",
              " 593: 'Alomomola',\n",
              " 594: 'Joltik',\n",
              " 595: 'Galvantula',\n",
              " 596: 'Ferroseed',\n",
              " 597: 'Ferrothorn',\n",
              " 598: 'Klink',\n",
              " 599: 'Klang',\n",
              " 600: 'Klinklang',\n",
              " 601: 'Tynamo',\n",
              " 602: 'Eelektrik',\n",
              " 603: 'Eelektross',\n",
              " 604: 'Elgyem',\n",
              " 605: 'Beheeyem',\n",
              " 606: 'Litwick',\n",
              " 607: 'Lampent',\n",
              " 608: 'Chandelure',\n",
              " 609: 'Axew',\n",
              " 610: 'Fraxure',\n",
              " 611: 'Haxorus',\n",
              " 612: 'Cubchoo',\n",
              " 613: 'Beartic',\n",
              " 614: 'Cryogonal',\n",
              " 615: 'Shelmet',\n",
              " 616: 'Accelgor',\n",
              " 617: 'Stunfisk',\n",
              " 618: 'Mienfoo',\n",
              " 619: 'Mienshao',\n",
              " 620: 'Druddigon',\n",
              " 621: 'Golett',\n",
              " 622: 'Golurk',\n",
              " 623: 'Pawniard',\n",
              " 624: 'Bisharp',\n",
              " 625: 'Bouffalant',\n",
              " 626: 'Rufflet',\n",
              " 627: 'Braviary',\n",
              " 628: 'Vullaby',\n",
              " 629: 'Mandibuzz',\n",
              " 630: 'Heatmor',\n",
              " 631: 'Durant',\n",
              " 632: 'Deino',\n",
              " 633: 'Zweilous',\n",
              " 634: 'Hydreigon',\n",
              " 635: 'Larvesta',\n",
              " 636: 'Volcarona',\n",
              " 637: 'Cobalion',\n",
              " 638: 'Terrakion',\n",
              " 639: 'Virizion',\n",
              " 640: 'Tornadus',\n",
              " 641: 'Thundurus',\n",
              " 642: 'Reshiram',\n",
              " 643: 'Zekrom',\n",
              " 644: 'Landorus',\n",
              " 645: 'Kyurem',\n",
              " 646: 'Keldeo',\n",
              " 647: 'Meloetta',\n",
              " 648: 'Genesect',\n",
              " 649: 'Chespin',\n",
              " 650: 'Quilladin',\n",
              " 651: 'Chesnaught',\n",
              " 652: 'Fennekin',\n",
              " 653: 'Braixen',\n",
              " 654: 'Delphox',\n",
              " 655: 'Froakie',\n",
              " 656: 'Frogadier',\n",
              " 657: 'Greninja',\n",
              " 658: 'Bunnelby',\n",
              " 659: 'Diggersby',\n",
              " 660: 'Fletchling',\n",
              " 661: 'Fletchinder',\n",
              " 662: 'Talonflame',\n",
              " 663: 'Scatterbug',\n",
              " 664: 'Spewpa',\n",
              " 665: 'Vivillon',\n",
              " 666: 'Litleo',\n",
              " 667: 'Pyroar',\n",
              " 668: 'Flabébé',\n",
              " 669: 'Floette',\n",
              " 670: 'Florges',\n",
              " 671: 'Skiddo',\n",
              " 672: 'Gogoat',\n",
              " 673: 'Pancham',\n",
              " 674: 'Pangoro',\n",
              " 675: 'Furfrou',\n",
              " 676: 'Espurr',\n",
              " 677: 'Meowstic',\n",
              " 678: 'Honedge',\n",
              " 679: 'Doublade',\n",
              " 680: 'Aegislash',\n",
              " 681: 'Spritzee',\n",
              " 682: 'Aromatisse',\n",
              " 683: 'Swirlix',\n",
              " 684: 'Slurpuff',\n",
              " 685: 'Inkay',\n",
              " 686: 'Malamar',\n",
              " 687: 'Binacle',\n",
              " 688: 'Barbaracle',\n",
              " 689: 'Skrelp',\n",
              " 690: 'Dragalge',\n",
              " 691: 'Clauncher',\n",
              " 692: 'Clawitzer',\n",
              " 693: 'Helioptile',\n",
              " 694: 'Heliolisk',\n",
              " 695: 'Tyrunt',\n",
              " 696: 'Tyrantrum',\n",
              " 697: 'Amaura',\n",
              " 698: 'Aurorus',\n",
              " 699: 'Sylveon',\n",
              " 700: 'Hawlucha',\n",
              " 701: 'Dedenne',\n",
              " 702: 'Carbink',\n",
              " 703: 'Goomy',\n",
              " 704: 'Sliggoo',\n",
              " 705: 'Goodra',\n",
              " 706: 'Klefki',\n",
              " 707: 'Phantump',\n",
              " 708: 'Trevenant',\n",
              " 709: 'Pumpkaboo',\n",
              " 710: 'Gourgeist',\n",
              " 711: 'Bergmite',\n",
              " 712: 'Avalugg',\n",
              " 713: 'Noibat',\n",
              " 714: 'Noivern',\n",
              " 715: 'Xerneas',\n",
              " 716: 'Yveltal',\n",
              " 717: 'Zygarde',\n",
              " 718: 'Diancie',\n",
              " 719: 'Hoopa',\n",
              " 720: 'Volcanion'}"
            ]
          },
          "metadata": {},
          "execution_count": 220
        }
      ]
    },
    {
      "cell_type": "code",
      "source": [
        "# return highest and lowest stock values\n",
        "print(google.max())\n",
        "print(google.min())"
      ],
      "metadata": {
        "colab": {
          "base_uri": "https://localhost:8080/"
        },
        "id": "x6gLaUioo1Zl",
        "outputId": "2fec61cb-fda5-4988-80f2-791791e4903e"
      },
      "execution_count": 221,
      "outputs": [
        {
          "output_type": "stream",
          "name": "stdout",
          "text": [
            "782.22\n",
            "49.95\n"
          ]
        }
      ]
    },
    {
      "cell_type": "code",
      "source": [
        "# above is equivalent to:\n",
        "print(max(google))\n",
        "print(min(google))"
      ],
      "metadata": {
        "colab": {
          "base_uri": "https://localhost:8080/"
        },
        "id": "RYug1hsfpu4R",
        "outputId": "54c86d14-808c-4273-84c8-e8bc2c4d94ba"
      },
      "execution_count": 222,
      "outputs": [
        {
          "output_type": "stream",
          "name": "stdout",
          "text": [
            "782.22\n",
            "49.95\n"
          ]
        }
      ]
    },
    {
      "cell_type": "markdown",
      "source": [
        "## The .sort_values() method"
      ],
      "metadata": {
        "id": "WE8tKLvmp9nN"
      }
    },
    {
      "cell_type": "code",
      "source": [
        "# sort pokemon alphabetically\n",
        "pokemon.sort_values()"
      ],
      "metadata": {
        "colab": {
          "base_uri": "https://localhost:8080/"
        },
        "id": "SLiUrK-zpyow",
        "outputId": "a4b376af-69d2-47f2-a825-257240f8d4fc"
      },
      "execution_count": 223,
      "outputs": [
        {
          "output_type": "execute_result",
          "data": {
            "text/plain": [
              "459    Abomasnow\n",
              "62          Abra\n",
              "358        Absol\n",
              "616     Accelgor\n",
              "680    Aegislash\n",
              "         ...    \n",
              "570      Zoroark\n",
              "569        Zorua\n",
              "40         Zubat\n",
              "633     Zweilous\n",
              "717      Zygarde\n",
              "Name: Pokemon, Length: 721, dtype: object"
            ]
          },
          "metadata": {},
          "execution_count": 223
        }
      ]
    },
    {
      "cell_type": "code",
      "source": [
        "# method chaining\n",
        "(\n",
        "    pokemon\n",
        "      .sort_values()   # sort alphabetically\n",
        "      .head()          # view first entries\n",
        ")"
      ],
      "metadata": {
        "colab": {
          "base_uri": "https://localhost:8080/"
        },
        "id": "SzGyfaqrqOAz",
        "outputId": "a0268055-f0f4-4738-cc09-9584a5b37ee3"
      },
      "execution_count": 224,
      "outputs": [
        {
          "output_type": "execute_result",
          "data": {
            "text/plain": [
              "459    Abomasnow\n",
              "62          Abra\n",
              "358        Absol\n",
              "616     Accelgor\n",
              "680    Aegislash\n",
              "Name: Pokemon, dtype: object"
            ]
          },
          "metadata": {},
          "execution_count": 224
        }
      ]
    },
    {
      "cell_type": "code",
      "source": [
        "# sort in descending order\n",
        "(\n",
        "    pokemon\n",
        "      .sort_values(ascending = False)    # reverse alphabetical order\n",
        "      .head(n = 5)\n",
        ")"
      ],
      "metadata": {
        "colab": {
          "base_uri": "https://localhost:8080/"
        },
        "id": "Yd_jnG6NqY5J",
        "outputId": "ff45f283-092a-4098-ab85-cca3d776567e"
      },
      "execution_count": 225,
      "outputs": [
        {
          "output_type": "execute_result",
          "data": {
            "text/plain": [
              "717     Zygarde\n",
              "633    Zweilous\n",
              "40        Zubat\n",
              "569       Zorua\n",
              "570     Zoroark\n",
              "Name: Pokemon, dtype: object"
            ]
          },
          "metadata": {},
          "execution_count": 225
        }
      ]
    },
    {
      "cell_type": "code",
      "source": [
        "# sort google stock prices\n",
        "(\n",
        "    google\n",
        "      .sort_values(ascending = True)\n",
        ")"
      ],
      "metadata": {
        "colab": {
          "base_uri": "https://localhost:8080/"
        },
        "id": "bmPUeq32qm7S",
        "outputId": "3dd00bf5-a67e-4918-aaf5-0627233a85ab"
      },
      "execution_count": 226,
      "outputs": [
        {
          "output_type": "execute_result",
          "data": {
            "text/plain": [
              "11       49.95\n",
              "9        50.07\n",
              "0        50.12\n",
              "10       50.70\n",
              "12       50.74\n",
              "         ...  \n",
              "3010    771.61\n",
              "3007    772.88\n",
              "3009    773.18\n",
              "2859    776.60\n",
              "3011    782.22\n",
              "Name: Stock Price, Length: 3012, dtype: float64"
            ]
          },
          "metadata": {},
          "execution_count": 226
        }
      ]
    },
    {
      "cell_type": "code",
      "source": [
        "# note that index moves with the sort\n",
        "# 11 was in position 11"
      ],
      "metadata": {
        "id": "_I3M52sQqwQv"
      },
      "execution_count": 227,
      "outputs": []
    },
    {
      "cell_type": "code",
      "source": [
        "# from highest to lowest stock price\n",
        "(\n",
        "    google\n",
        "      .sort_values(ascending = False)\n",
        ")"
      ],
      "metadata": {
        "colab": {
          "base_uri": "https://localhost:8080/"
        },
        "id": "96WCX3etq9IO",
        "outputId": "7faaf084-4739-4e32-d195-b86fc19d17e4"
      },
      "execution_count": 228,
      "outputs": [
        {
          "output_type": "execute_result",
          "data": {
            "text/plain": [
              "3011    782.22\n",
              "2859    776.60\n",
              "3009    773.18\n",
              "3007    772.88\n",
              "3010    771.61\n",
              "         ...  \n",
              "12       50.74\n",
              "10       50.70\n",
              "0        50.12\n",
              "9        50.07\n",
              "11       49.95\n",
              "Name: Stock Price, Length: 3012, dtype: float64"
            ]
          },
          "metadata": {},
          "execution_count": 228
        }
      ]
    },
    {
      "cell_type": "markdown",
      "source": [
        "## The sort_index() method"
      ],
      "metadata": {
        "id": "z1GmXS5psVdn"
      }
    },
    {
      "cell_type": "code",
      "source": [
        "# pokemon series, but pokemon is index and type is entry\n",
        "pokemon2 = (\n",
        "    pd.read_csv(\n",
        "        'https://raw.githubusercontent.com/jack-cao-623/python_learning/main/pandas/pokemon.csv',\n",
        "        index_col = 'Pokemon'\n",
        "    )\n",
        "      .squeeze(axis = 'columns')  # convert DataFrame to Series\n",
        ")\n",
        "\n",
        "pokemon2"
      ],
      "metadata": {
        "colab": {
          "base_uri": "https://localhost:8080/"
        },
        "id": "UdTvrnrnq_ft",
        "outputId": "f70cf4dc-002c-4f30-9b26-5b80ef8023ed"
      },
      "execution_count": 229,
      "outputs": [
        {
          "output_type": "execute_result",
          "data": {
            "text/plain": [
              "Pokemon\n",
              "Bulbasaur       Grass\n",
              "Ivysaur         Grass\n",
              "Venusaur        Grass\n",
              "Charmander       Fire\n",
              "Charmeleon       Fire\n",
              "               ...   \n",
              "Yveltal          Dark\n",
              "Zygarde        Dragon\n",
              "Diancie          Rock\n",
              "Hoopa         Psychic\n",
              "Volcanion        Fire\n",
              "Name: Type, Length: 721, dtype: object"
            ]
          },
          "metadata": {},
          "execution_count": 229
        }
      ]
    },
    {
      "cell_type": "code",
      "source": [
        "# sort index\n",
        "pokemon2.sort_index(ascending = True)"
      ],
      "metadata": {
        "colab": {
          "base_uri": "https://localhost:8080/"
        },
        "id": "TZ-qOs7bsb5u",
        "outputId": "dbb17641-78c2-48a3-9e62-ee8dda0f2849"
      },
      "execution_count": 230,
      "outputs": [
        {
          "output_type": "execute_result",
          "data": {
            "text/plain": [
              "Pokemon\n",
              "Abomasnow      Grass\n",
              "Abra         Psychic\n",
              "Absol           Dark\n",
              "Accelgor         Bug\n",
              "Aegislash      Steel\n",
              "              ...   \n",
              "Zoroark         Dark\n",
              "Zorua           Dark\n",
              "Zubat         Poison\n",
              "Zweilous        Dark\n",
              "Zygarde       Dragon\n",
              "Name: Type, Length: 721, dtype: object"
            ]
          },
          "metadata": {},
          "execution_count": 230
        }
      ]
    },
    {
      "cell_type": "code",
      "source": [
        "# sort reverse alphabetical order\n",
        "(\n",
        "    pokemon2\n",
        "      .sort_index(ascending = False)\n",
        ")"
      ],
      "metadata": {
        "colab": {
          "base_uri": "https://localhost:8080/"
        },
        "id": "WzZ-KjCTtsaU",
        "outputId": "4bfc4400-180d-46cb-e442-7da9f7b42acd"
      },
      "execution_count": 231,
      "outputs": [
        {
          "output_type": "execute_result",
          "data": {
            "text/plain": [
              "Pokemon\n",
              "Zygarde       Dragon\n",
              "Zweilous        Dark\n",
              "Zubat         Poison\n",
              "Zorua           Dark\n",
              "Zoroark         Dark\n",
              "              ...   \n",
              "Aegislash      Steel\n",
              "Accelgor         Bug\n",
              "Absol           Dark\n",
              "Abra         Psychic\n",
              "Abomasnow      Grass\n",
              "Name: Type, Length: 721, dtype: object"
            ]
          },
          "metadata": {},
          "execution_count": 231
        }
      ]
    },
    {
      "cell_type": "markdown",
      "source": [
        "## Check for Inclusion with Python's in keyword"
      ],
      "metadata": {
        "id": "ZETp5758vCay"
      }
    },
    {
      "cell_type": "code",
      "source": [
        "pokemon # we'll work this series"
      ],
      "metadata": {
        "colab": {
          "base_uri": "https://localhost:8080/"
        },
        "id": "wEfmLF9pt8S3",
        "outputId": "cdf7e0f5-e32f-4c18-8e5b-0437df218af6"
      },
      "execution_count": 232,
      "outputs": [
        {
          "output_type": "execute_result",
          "data": {
            "text/plain": [
              "0       Bulbasaur\n",
              "1         Ivysaur\n",
              "2        Venusaur\n",
              "3      Charmander\n",
              "4      Charmeleon\n",
              "          ...    \n",
              "716       Yveltal\n",
              "717       Zygarde\n",
              "718       Diancie\n",
              "719         Hoopa\n",
              "720     Volcanion\n",
              "Name: Pokemon, Length: 721, dtype: object"
            ]
          },
          "metadata": {},
          "execution_count": 232
        }
      ]
    },
    {
      "cell_type": "code",
      "source": [
        "# is 'car' in 'racecar'\n",
        "'car' in 'racecar'"
      ],
      "metadata": {
        "colab": {
          "base_uri": "https://localhost:8080/"
        },
        "id": "zENP2EODvGun",
        "outputId": "36926cfd-f39a-4994-debc-4bf2bd46ef33"
      },
      "execution_count": 233,
      "outputs": [
        {
          "output_type": "execute_result",
          "data": {
            "text/plain": [
              "True"
            ]
          },
          "metadata": {},
          "execution_count": 233
        }
      ]
    },
    {
      "cell_type": "code",
      "source": [
        "# is 2 in [1, 2, 3]\n",
        "2 in [1, 2, 3]"
      ],
      "metadata": {
        "colab": {
          "base_uri": "https://localhost:8080/"
        },
        "id": "-YPA6ryHvKIA",
        "outputId": "15fea473-c84a-4ea2-ad75-8a429d690803"
      },
      "execution_count": 234,
      "outputs": [
        {
          "output_type": "execute_result",
          "data": {
            "text/plain": [
              "True"
            ]
          },
          "metadata": {},
          "execution_count": 234
        }
      ]
    },
    {
      "cell_type": "code",
      "source": [
        "# by default, in checks in series index, not series values\n",
        "'Bulbasaur' in pokemon\n",
        "  # False because 'Bulbasaur' isn't in the index"
      ],
      "metadata": {
        "colab": {
          "base_uri": "https://localhost:8080/"
        },
        "id": "jTgnZRscvYBK",
        "outputId": "d33eef8a-51ed-4a81-d937-a5d85a925976"
      },
      "execution_count": 235,
      "outputs": [
        {
          "output_type": "execute_result",
          "data": {
            "text/plain": [
              "False"
            ]
          },
          "metadata": {},
          "execution_count": 235
        }
      ]
    },
    {
      "cell_type": "code",
      "source": [
        "100 in pokemon\n",
        "  # True because 100 is an index in pokemon Series"
      ],
      "metadata": {
        "colab": {
          "base_uri": "https://localhost:8080/"
        },
        "id": "FAYFD7kXvfVL",
        "outputId": "785c8cba-b16d-4210-c449-1f34445b2a38"
      },
      "execution_count": 236,
      "outputs": [
        {
          "output_type": "execute_result",
          "data": {
            "text/plain": [
              "True"
            ]
          },
          "metadata": {},
          "execution_count": 236
        }
      ]
    },
    {
      "cell_type": "code",
      "source": [
        "# above is equivalent to:\n",
        "100 in pokemon.index"
      ],
      "metadata": {
        "colab": {
          "base_uri": "https://localhost:8080/"
        },
        "id": "L3jH3ZbUvk4D",
        "outputId": "912c8e52-a96c-4197-c354-752e3f82154a"
      },
      "execution_count": 237,
      "outputs": [
        {
          "output_type": "execute_result",
          "data": {
            "text/plain": [
              "True"
            ]
          },
          "metadata": {},
          "execution_count": 237
        }
      ]
    },
    {
      "cell_type": "code",
      "source": [
        "# check if 'Bulbasaur' is in pokemon values\n",
        "'Bulbasaur' in pokemon.values"
      ],
      "metadata": {
        "colab": {
          "base_uri": "https://localhost:8080/"
        },
        "id": "aU-V1k3Jvp__",
        "outputId": "1b3ca0bd-4c5a-4e75-a068-b78e151ba3cf"
      },
      "execution_count": 238,
      "outputs": [
        {
          "output_type": "execute_result",
          "data": {
            "text/plain": [
              "True"
            ]
          },
          "metadata": {},
          "execution_count": 238
        }
      ]
    },
    {
      "cell_type": "code",
      "source": [
        "# check if 'Mewtwo' is in pokemon\n",
        "'Mewtwo' in pokemon.values"
      ],
      "metadata": {
        "colab": {
          "base_uri": "https://localhost:8080/"
        },
        "id": "Rj5anZtCv00M",
        "outputId": "fc4177f3-b2ea-4a4d-f939-3b7a5b3e5bb9"
      },
      "execution_count": 239,
      "outputs": [
        {
          "output_type": "execute_result",
          "data": {
            "text/plain": [
              "True"
            ]
          },
          "metadata": {},
          "execution_count": 239
        }
      ]
    },
    {
      "cell_type": "code",
      "source": [
        "# check if 'Darth Vader' is in pokemon\n",
        "'Darth Vader' in pokemon.values"
      ],
      "metadata": {
        "colab": {
          "base_uri": "https://localhost:8080/"
        },
        "id": "Mj38uatmv6eU",
        "outputId": "a80b8e85-28b4-4295-8395-3b490a3f81a1"
      },
      "execution_count": 240,
      "outputs": [
        {
          "output_type": "execute_result",
          "data": {
            "text/plain": [
              "False"
            ]
          },
          "metadata": {},
          "execution_count": 240
        }
      ]
    },
    {
      "cell_type": "markdown",
      "source": [
        "## Exract Series Value by Index Position"
      ],
      "metadata": {
        "id": "9iGGzOiCxKES"
      }
    },
    {
      "cell_type": "code",
      "source": [
        "# extract value in first index\n",
        "pokemon[0]"
      ],
      "metadata": {
        "colab": {
          "base_uri": "https://localhost:8080/",
          "height": 0
        },
        "id": "GbniZkvdv_bq",
        "outputId": "ef75b631-4607-43d8-8e5e-38601db6ca0c"
      },
      "execution_count": 241,
      "outputs": [
        {
          "output_type": "execute_result",
          "data": {
            "text/plain": [
              "'Bulbasaur'"
            ],
            "application/vnd.google.colaboratory.intrinsic+json": {
              "type": "string"
            }
          },
          "metadata": {},
          "execution_count": 241
        }
      ]
    },
    {
      "cell_type": "code",
      "source": [
        "# above is equivalent to\n",
        "pokemon.iloc[0]"
      ],
      "metadata": {
        "colab": {
          "base_uri": "https://localhost:8080/",
          "height": 0
        },
        "id": "n6f_pUB7xeSn",
        "outputId": "c29f2ec5-7fcb-4fcf-eb26-fe27afcb8107"
      },
      "execution_count": 242,
      "outputs": [
        {
          "output_type": "execute_result",
          "data": {
            "text/plain": [
              "'Bulbasaur'"
            ],
            "application/vnd.google.colaboratory.intrinsic+json": {
              "type": "string"
            }
          },
          "metadata": {},
          "execution_count": 242
        }
      ]
    },
    {
      "cell_type": "code",
      "source": [
        "# slices\n",
        "pokemon[0:10] # 0 thru 9"
      ],
      "metadata": {
        "colab": {
          "base_uri": "https://localhost:8080/"
        },
        "id": "3ZTM-lSUxfu2",
        "outputId": "3a45b107-9e7e-4975-d96f-2bd8bc7d5596"
      },
      "execution_count": 243,
      "outputs": [
        {
          "output_type": "execute_result",
          "data": {
            "text/plain": [
              "0     Bulbasaur\n",
              "1       Ivysaur\n",
              "2      Venusaur\n",
              "3    Charmander\n",
              "4    Charmeleon\n",
              "5     Charizard\n",
              "6      Squirtle\n",
              "7     Wartortle\n",
              "8     Blastoise\n",
              "9      Caterpie\n",
              "Name: Pokemon, dtype: object"
            ]
          },
          "metadata": {},
          "execution_count": 243
        }
      ]
    },
    {
      "cell_type": "code",
      "source": [
        "# above is equivalent to:\n",
        "pokemon[:10]"
      ],
      "metadata": {
        "colab": {
          "base_uri": "https://localhost:8080/"
        },
        "id": "yst7SFbMxvu1",
        "outputId": "67a39afa-881a-4d15-de4d-a5b1fbed137d"
      },
      "execution_count": 244,
      "outputs": [
        {
          "output_type": "execute_result",
          "data": {
            "text/plain": [
              "0     Bulbasaur\n",
              "1       Ivysaur\n",
              "2      Venusaur\n",
              "3    Charmander\n",
              "4    Charmeleon\n",
              "5     Charizard\n",
              "6      Squirtle\n",
              "7     Wartortle\n",
              "8     Blastoise\n",
              "9      Caterpie\n",
              "Name: Pokemon, dtype: object"
            ]
          },
          "metadata": {},
          "execution_count": 244
        }
      ]
    },
    {
      "cell_type": "code",
      "source": [
        "# get 51 thru 60\n",
        "pokemon[51:61]"
      ],
      "metadata": {
        "colab": {
          "base_uri": "https://localhost:8080/"
        },
        "id": "lKdE2kR1xy52",
        "outputId": "9dda711b-c226-459a-db4c-7ab0e9272f12"
      },
      "execution_count": 245,
      "outputs": [
        {
          "output_type": "execute_result",
          "data": {
            "text/plain": [
              "51       Meowth\n",
              "52      Persian\n",
              "53      Psyduck\n",
              "54      Golduck\n",
              "55       Mankey\n",
              "56     Primeape\n",
              "57    Growlithe\n",
              "58     Arcanine\n",
              "59      Poliwag\n",
              "60    Poliwhirl\n",
              "Name: Pokemon, dtype: object"
            ]
          },
          "metadata": {},
          "execution_count": 245
        }
      ]
    },
    {
      "cell_type": "code",
      "source": [
        "# pull out values at position 100, 200, and 151\n",
        "pokemon[[100, 200, 151]]"
      ],
      "metadata": {
        "colab": {
          "base_uri": "https://localhost:8080/"
        },
        "id": "eOHsm4eCx1_2",
        "outputId": "4980a060-2f53-4043-aab9-c3f1353ed613"
      },
      "execution_count": 246,
      "outputs": [
        {
          "output_type": "execute_result",
          "data": {
            "text/plain": [
              "100    Electrode\n",
              "200        Unown\n",
              "151    Chikorita\n",
              "Name: Pokemon, dtype: object"
            ]
          },
          "metadata": {},
          "execution_count": 246
        }
      ]
    },
    {
      "cell_type": "code",
      "source": [
        "# above is equivalent to\n",
        "pokemon.iloc[[100, 200, 151]]"
      ],
      "metadata": {
        "colab": {
          "base_uri": "https://localhost:8080/"
        },
        "id": "cYM4EHfEyL1u",
        "outputId": "bb64f273-9316-4edd-a988-4ba32c3df31b"
      },
      "execution_count": 247,
      "outputs": [
        {
          "output_type": "execute_result",
          "data": {
            "text/plain": [
              "100    Electrode\n",
              "200        Unown\n",
              "151    Chikorita\n",
              "Name: Pokemon, dtype: object"
            ]
          },
          "metadata": {},
          "execution_count": 247
        }
      ]
    },
    {
      "cell_type": "code",
      "source": [
        "# more slicing\n",
        "pokemon[17:87]"
      ],
      "metadata": {
        "colab": {
          "base_uri": "https://localhost:8080/"
        },
        "id": "NsZ2An66yP7P",
        "outputId": "95380566-bec1-44f6-f521-7694323da3b2"
      },
      "execution_count": 248,
      "outputs": [
        {
          "output_type": "execute_result",
          "data": {
            "text/plain": [
              "17       Pidgeot\n",
              "18       Rattata\n",
              "19      Raticate\n",
              "20       Spearow\n",
              "21        Fearow\n",
              "         ...    \n",
              "82    Farfetch'd\n",
              "83         Doduo\n",
              "84        Dodrio\n",
              "85          Seel\n",
              "86       Dewgong\n",
              "Name: Pokemon, Length: 70, dtype: object"
            ]
          },
          "metadata": {},
          "execution_count": 248
        }
      ]
    },
    {
      "cell_type": "code",
      "source": [
        "# last 13 values\n",
        "pokemon[-13:]"
      ],
      "metadata": {
        "colab": {
          "base_uri": "https://localhost:8080/"
        },
        "id": "evEgKRI8ybLj",
        "outputId": "3ab22690-bf6a-4b32-a853-c775d1804a69"
      },
      "execution_count": 249,
      "outputs": [
        {
          "output_type": "execute_result",
          "data": {
            "text/plain": [
              "708    Trevenant\n",
              "709    Pumpkaboo\n",
              "710    Gourgeist\n",
              "711     Bergmite\n",
              "712      Avalugg\n",
              "713       Noibat\n",
              "714      Noivern\n",
              "715      Xerneas\n",
              "716      Yveltal\n",
              "717      Zygarde\n",
              "718      Diancie\n",
              "719        Hoopa\n",
              "720    Volcanion\n",
              "Name: Pokemon, dtype: object"
            ]
          },
          "metadata": {},
          "execution_count": 249
        }
      ]
    },
    {
      "cell_type": "code",
      "source": [
        "# above is equivalen to\n",
        "pokemon.tail(n = 13)"
      ],
      "metadata": {
        "colab": {
          "base_uri": "https://localhost:8080/"
        },
        "id": "0GukseMQyfX0",
        "outputId": "518f76a1-0cb3-4783-9e4b-483e499a6cc6"
      },
      "execution_count": 250,
      "outputs": [
        {
          "output_type": "execute_result",
          "data": {
            "text/plain": [
              "708    Trevenant\n",
              "709    Pumpkaboo\n",
              "710    Gourgeist\n",
              "711     Bergmite\n",
              "712      Avalugg\n",
              "713       Noibat\n",
              "714      Noivern\n",
              "715      Xerneas\n",
              "716      Yveltal\n",
              "717      Zygarde\n",
              "718      Diancie\n",
              "719        Hoopa\n",
              "720    Volcanion\n",
              "Name: Pokemon, dtype: object"
            ]
          },
          "metadata": {},
          "execution_count": 250
        }
      ]
    },
    {
      "cell_type": "code",
      "source": [
        "# last element of pokemon\n",
        "pokemon.iloc[-1]"
      ],
      "metadata": {
        "colab": {
          "base_uri": "https://localhost:8080/",
          "height": 0
        },
        "id": "W7_xXI7QykKs",
        "outputId": "fd5d323d-c012-49da-823b-e993566665bc"
      },
      "execution_count": 251,
      "outputs": [
        {
          "output_type": "execute_result",
          "data": {
            "text/plain": [
              "'Volcanion'"
            ],
            "application/vnd.google.colaboratory.intrinsic+json": {
              "type": "string"
            }
          },
          "metadata": {},
          "execution_count": 251
        }
      ]
    },
    {
      "cell_type": "code",
      "source": [
        "# above is equivalento to\n",
        "pokemon[-1:]"
      ],
      "metadata": {
        "colab": {
          "base_uri": "https://localhost:8080/"
        },
        "id": "NsUWhy15y9bK",
        "outputId": "82166557-0d06-4251-8f94-3bc7282c4eca"
      },
      "execution_count": 252,
      "outputs": [
        {
          "output_type": "execute_result",
          "data": {
            "text/plain": [
              "720    Volcanion\n",
              "Name: Pokemon, dtype: object"
            ]
          },
          "metadata": {},
          "execution_count": 252
        }
      ]
    },
    {
      "cell_type": "code",
      "source": [
        "#pokemon[-1] # won't work"
      ],
      "metadata": {
        "id": "2tx2uIWWzB-Z"
      },
      "execution_count": 253,
      "outputs": []
    },
    {
      "cell_type": "markdown",
      "source": [
        "## Extra Series value by Index Label"
      ],
      "metadata": {
        "id": "FdtsrdkmzWNc"
      }
    },
    {
      "cell_type": "code",
      "source": [
        "pokemon2"
      ],
      "metadata": {
        "colab": {
          "base_uri": "https://localhost:8080/"
        },
        "id": "a4VZHj9rzG3A",
        "outputId": "b0c858ce-8ce0-419d-c14d-d28be0bcd8c8"
      },
      "execution_count": 254,
      "outputs": [
        {
          "output_type": "execute_result",
          "data": {
            "text/plain": [
              "Pokemon\n",
              "Bulbasaur       Grass\n",
              "Ivysaur         Grass\n",
              "Venusaur        Grass\n",
              "Charmander       Fire\n",
              "Charmeleon       Fire\n",
              "               ...   \n",
              "Yveltal          Dark\n",
              "Zygarde        Dragon\n",
              "Diancie          Rock\n",
              "Hoopa         Psychic\n",
              "Volcanion        Fire\n",
              "Name: Type, Length: 721, dtype: object"
            ]
          },
          "metadata": {},
          "execution_count": 254
        }
      ]
    },
    {
      "cell_type": "code",
      "source": [
        "# pokemon type for 'Bulbasaur'\n",
        "pokemon2['Bulbasaur']"
      ],
      "metadata": {
        "colab": {
          "base_uri": "https://localhost:8080/",
          "height": 0
        },
        "id": "BmNyIlOxzZI4",
        "outputId": "6bfa4c71-2a4f-49e1-9d66-09277b69a195"
      },
      "execution_count": 255,
      "outputs": [
        {
          "output_type": "execute_result",
          "data": {
            "text/plain": [
              "'Grass'"
            ],
            "application/vnd.google.colaboratory.intrinsic+json": {
              "type": "string"
            }
          },
          "metadata": {},
          "execution_count": 255
        }
      ]
    },
    {
      "cell_type": "code",
      "source": [
        "# above is equivalent to:\n",
        "pokemon2.loc['Bulbasaur']"
      ],
      "metadata": {
        "colab": {
          "base_uri": "https://localhost:8080/",
          "height": 0
        },
        "id": "WC8EhOtdzdO3",
        "outputId": "f63639fe-3ed9-43ce-8663-9dcdfe64d897"
      },
      "execution_count": 256,
      "outputs": [
        {
          "output_type": "execute_result",
          "data": {
            "text/plain": [
              "'Grass'"
            ],
            "application/vnd.google.colaboratory.intrinsic+json": {
              "type": "string"
            }
          },
          "metadata": {},
          "execution_count": 256
        }
      ]
    },
    {
      "cell_type": "code",
      "source": [
        "# can also do integer position\n",
        "pokemon2[0]"
      ],
      "metadata": {
        "colab": {
          "base_uri": "https://localhost:8080/",
          "height": 0
        },
        "id": "LPILrm4NzgEg",
        "outputId": "aba76d28-05e1-4903-a0d3-a73e32266cba"
      },
      "execution_count": 257,
      "outputs": [
        {
          "output_type": "execute_result",
          "data": {
            "text/plain": [
              "'Grass'"
            ],
            "application/vnd.google.colaboratory.intrinsic+json": {
              "type": "string"
            }
          },
          "metadata": {},
          "execution_count": 257
        }
      ]
    },
    {
      "cell_type": "code",
      "source": [
        "# above, we don't see 0 or other numbers for index, but they're \"there\""
      ],
      "metadata": {
        "id": "ukIW-whWznaQ"
      },
      "execution_count": 258,
      "outputs": []
    },
    {
      "cell_type": "code",
      "source": [
        "# pull out multiple parts from pokemon2\n",
        "pokemon2[['Mewtwo', 'Mew', 'Charizard']]"
      ],
      "metadata": {
        "colab": {
          "base_uri": "https://localhost:8080/"
        },
        "id": "BMoea4Dnz8cM",
        "outputId": "1a42507b-dda6-40d3-aa46-0e2c1ea88878"
      },
      "execution_count": 259,
      "outputs": [
        {
          "output_type": "execute_result",
          "data": {
            "text/plain": [
              "Pokemon\n",
              "Mewtwo       Psychic\n",
              "Mew          Psychic\n",
              "Charizard       Fire\n",
              "Name: Type, dtype: object"
            ]
          },
          "metadata": {},
          "execution_count": 259
        }
      ]
    },
    {
      "cell_type": "code",
      "source": [
        "# every index has a label and a numeric position; can use label or numeric position"
      ],
      "metadata": {
        "id": "o-e5iebs0CHD"
      },
      "execution_count": 260,
      "outputs": []
    },
    {
      "cell_type": "markdown",
      "source": [
        "## The get method\n",
        "- similar to .iloc[] and .loc[]\n",
        "- advantage is there's a default parameter that outputs argument when index isn't in series"
      ],
      "metadata": {
        "id": "OxM2DHim1GxF"
      }
    },
    {
      "cell_type": "code",
      "source": [
        "pokemon2.get(key = 'Bulbasaur', default = 'Not in Series')"
      ],
      "metadata": {
        "id": "NNRJRYVd0bDi",
        "colab": {
          "base_uri": "https://localhost:8080/",
          "height": 35
        },
        "outputId": "9b502888-52b4-4701-92b1-e02388bc66e6"
      },
      "execution_count": 261,
      "outputs": [
        {
          "output_type": "execute_result",
          "data": {
            "text/plain": [
              "'Grass'"
            ],
            "application/vnd.google.colaboratory.intrinsic+json": {
              "type": "string"
            }
          },
          "metadata": {},
          "execution_count": 261
        }
      ]
    },
    {
      "cell_type": "code",
      "source": [
        "pokemon2.get(key = [0, 5, 10])  # in index 0, 5, and 10"
      ],
      "metadata": {
        "colab": {
          "base_uri": "https://localhost:8080/"
        },
        "id": "pNNVZnosCxwv",
        "outputId": "7cab7d7d-30c3-4df7-fba2-5754213a3a6d"
      },
      "execution_count": 262,
      "outputs": [
        {
          "output_type": "execute_result",
          "data": {
            "text/plain": [
              "Pokemon\n",
              "Bulbasaur    Grass\n",
              "Charizard     Fire\n",
              "Metapod        Bug\n",
              "Name: Type, dtype: object"
            ]
          },
          "metadata": {},
          "execution_count": 262
        }
      ]
    },
    {
      "cell_type": "code",
      "source": [
        "# above is equivalent to:\n",
        "pokemon2.iloc[[0, 5, 10]]"
      ],
      "metadata": {
        "colab": {
          "base_uri": "https://localhost:8080/"
        },
        "id": "-EpNimAUC4UU",
        "outputId": "f4812530-57a0-4171-8eae-d2fefc9db87d"
      },
      "execution_count": 263,
      "outputs": [
        {
          "output_type": "execute_result",
          "data": {
            "text/plain": [
              "Pokemon\n",
              "Bulbasaur    Grass\n",
              "Charizard     Fire\n",
              "Metapod        Bug\n",
              "Name: Type, dtype: object"
            ]
          },
          "metadata": {},
          "execution_count": 263
        }
      ]
    },
    {
      "cell_type": "code",
      "source": [
        "pokemon2.get(key = ['Charizard', 'Mew'], default = 'Does not exist')"
      ],
      "metadata": {
        "colab": {
          "base_uri": "https://localhost:8080/"
        },
        "id": "a1o2_yguC94L",
        "outputId": "32473324-3a4f-46c3-c86f-58c007c9d85e"
      },
      "execution_count": 264,
      "outputs": [
        {
          "output_type": "execute_result",
          "data": {
            "text/plain": [
              "Pokemon\n",
              "Charizard       Fire\n",
              "Mew          Psychic\n",
              "Name: Type, dtype: object"
            ]
          },
          "metadata": {},
          "execution_count": 264
        }
      ]
    },
    {
      "cell_type": "code",
      "source": [
        "# above is equivalen to:\n",
        "pokemon2.loc[['Charizard', 'Mew']]"
      ],
      "metadata": {
        "colab": {
          "base_uri": "https://localhost:8080/"
        },
        "id": "idY2B-LNDF7Y",
        "outputId": "fb1e4c2c-6c1b-4df3-9e5d-c45dbaf791fb"
      },
      "execution_count": 265,
      "outputs": [
        {
          "output_type": "execute_result",
          "data": {
            "text/plain": [
              "Pokemon\n",
              "Charizard       Fire\n",
              "Mew          Psychic\n",
              "Name: Type, dtype: object"
            ]
          },
          "metadata": {},
          "execution_count": 265
        }
      ]
    },
    {
      "cell_type": "code",
      "source": [
        "# some indices are in series; others aren't\n",
        "pokemon2.get(key = ['Charizard', 'Mew', 'Darth Vader'], default = 'Does not exist')"
      ],
      "metadata": {
        "colab": {
          "base_uri": "https://localhost:8080/",
          "height": 35
        },
        "id": "Lzt25Z-JDJJP",
        "outputId": "3d823238-d2b9-45bb-8b25-9fb5b5f59f44"
      },
      "execution_count": 266,
      "outputs": [
        {
          "output_type": "execute_result",
          "data": {
            "text/plain": [
              "'Does not exist'"
            ],
            "application/vnd.google.colaboratory.intrinsic+json": {
              "type": "string"
            }
          },
          "metadata": {},
          "execution_count": 266
        }
      ]
    },
    {
      "cell_type": "code",
      "source": [
        "# above, Charizard and Mew are indices in the series, but Darth Vader isn't"
      ],
      "metadata": {
        "id": "wqcJ90MEDbVq"
      },
      "execution_count": 267,
      "outputs": []
    },
    {
      "cell_type": "markdown",
      "source": [
        "## Override a Series value"
      ],
      "metadata": {
        "id": "JpDGS1rUDfQn"
      }
    },
    {
      "cell_type": "code",
      "source": [
        "pokemon.head()"
      ],
      "metadata": {
        "colab": {
          "base_uri": "https://localhost:8080/"
        },
        "id": "OnebOyYvE9Co",
        "outputId": "ae157409-e473-44b0-c237-c75b174df132"
      },
      "execution_count": 268,
      "outputs": [
        {
          "output_type": "execute_result",
          "data": {
            "text/plain": [
              "0     Bulbasaur\n",
              "1       Ivysaur\n",
              "2      Venusaur\n",
              "3    Charmander\n",
              "4    Charmeleon\n",
              "Name: Pokemon, dtype: object"
            ]
          },
          "metadata": {},
          "execution_count": 268
        }
      ]
    },
    {
      "cell_type": "code",
      "source": [
        "# change 'Bulbasaur' to 'bulbasaur', i.e., make it lowecase\n",
        "pokemon.iloc[0] = pokemon.values[0].lower()"
      ],
      "metadata": {
        "id": "fS84cTqQE-TR"
      },
      "execution_count": 269,
      "outputs": []
    },
    {
      "cell_type": "code",
      "source": [
        "pokemon.head()"
      ],
      "metadata": {
        "colab": {
          "base_uri": "https://localhost:8080/"
        },
        "id": "I5teZsXxFGX3",
        "outputId": "d1195759-e2f8-47a6-fcb4-f37a2fa68d99"
      },
      "execution_count": 270,
      "outputs": [
        {
          "output_type": "execute_result",
          "data": {
            "text/plain": [
              "0     bulbasaur\n",
              "1       Ivysaur\n",
              "2      Venusaur\n",
              "3    Charmander\n",
              "4    Charmeleon\n",
              "Name: Pokemon, dtype: object"
            ]
          },
          "metadata": {},
          "execution_count": 270
        }
      ]
    },
    {
      "cell_type": "code",
      "source": [
        "# change Charmander, Charmeleon, and Charizard to charmander, charmeleon,and charizard\n",
        "pokemon.iloc[3:6] = ['charmander', 'charmeleon', 'charizard']"
      ],
      "metadata": {
        "id": "EVuOlJzSFIcn"
      },
      "execution_count": 271,
      "outputs": []
    },
    {
      "cell_type": "code",
      "source": [
        "print(pokemon.iloc[3:6])"
      ],
      "metadata": {
        "colab": {
          "base_uri": "https://localhost:8080/"
        },
        "id": "Jm5JOp3hFSYd",
        "outputId": "87222d46-03c6-4a12-a05e-9d817fc83431"
      },
      "execution_count": 272,
      "outputs": [
        {
          "output_type": "stream",
          "name": "stdout",
          "text": [
            "3    charmander\n",
            "4    charmeleon\n",
            "5     charizard\n",
            "Name: Pokemon, dtype: object\n"
          ]
        }
      ]
    },
    {
      "cell_type": "code",
      "source": [
        "pokemon.head(n = 10)"
      ],
      "metadata": {
        "colab": {
          "base_uri": "https://localhost:8080/"
        },
        "id": "3OddTmYzFYc8",
        "outputId": "eab1914a-6d5a-48ad-96b5-4d8d0706629b"
      },
      "execution_count": 273,
      "outputs": [
        {
          "output_type": "execute_result",
          "data": {
            "text/plain": [
              "0     bulbasaur\n",
              "1       Ivysaur\n",
              "2      Venusaur\n",
              "3    charmander\n",
              "4    charmeleon\n",
              "5     charizard\n",
              "6      Squirtle\n",
              "7     Wartortle\n",
              "8     Blastoise\n",
              "9      Caterpie\n",
              "Name: Pokemon, dtype: object"
            ]
          },
          "metadata": {},
          "execution_count": 273
        }
      ]
    },
    {
      "cell_type": "code",
      "source": [
        "# change values for string indices"
      ],
      "metadata": {
        "id": "XkuY1G1-FeLz"
      },
      "execution_count": 274,
      "outputs": []
    },
    {
      "cell_type": "code",
      "source": [
        "pokemon2.head()"
      ],
      "metadata": {
        "colab": {
          "base_uri": "https://localhost:8080/"
        },
        "id": "1pfacFUXFiSq",
        "outputId": "4ed00c50-34ec-4b99-fffb-2ab9153af4a0"
      },
      "execution_count": 275,
      "outputs": [
        {
          "output_type": "execute_result",
          "data": {
            "text/plain": [
              "Pokemon\n",
              "Bulbasaur     Grass\n",
              "Ivysaur       Grass\n",
              "Venusaur      Grass\n",
              "Charmander     Fire\n",
              "Charmeleon     Fire\n",
              "Name: Type, dtype: object"
            ]
          },
          "metadata": {},
          "execution_count": 275
        }
      ]
    },
    {
      "cell_type": "code",
      "source": [
        "# Change Bulbasaur - Grass to - awesome\n",
        "pokemon2['Bulbasaur'] = 'awesome'"
      ],
      "metadata": {
        "id": "e0Fy_VAqFnzW"
      },
      "execution_count": 276,
      "outputs": []
    },
    {
      "cell_type": "code",
      "source": [
        "pokemon2.head()"
      ],
      "metadata": {
        "colab": {
          "base_uri": "https://localhost:8080/"
        },
        "id": "xD-0rF9BFs9F",
        "outputId": "8f23a337-0bc3-4081-ed3f-5539b2c138f6"
      },
      "execution_count": 277,
      "outputs": [
        {
          "output_type": "execute_result",
          "data": {
            "text/plain": [
              "Pokemon\n",
              "Bulbasaur     awesome\n",
              "Ivysaur         Grass\n",
              "Venusaur        Grass\n",
              "Charmander       Fire\n",
              "Charmeleon       Fire\n",
              "Name: Type, dtype: object"
            ]
          },
          "metadata": {},
          "execution_count": 277
        }
      ]
    },
    {
      "cell_type": "code",
      "source": [
        "# add a new entry to pokemon\n",
        "pokemon[1500] = 'Darth Vader'"
      ],
      "metadata": {
        "id": "NMqkD-lDFurs"
      },
      "execution_count": 278,
      "outputs": []
    },
    {
      "cell_type": "code",
      "source": [
        "pokemon.tail()"
      ],
      "metadata": {
        "colab": {
          "base_uri": "https://localhost:8080/"
        },
        "id": "GQQmSZnKFzV7",
        "outputId": "289fa829-a2b4-4982-fcff-00439df8fdc4"
      },
      "execution_count": 279,
      "outputs": [
        {
          "output_type": "execute_result",
          "data": {
            "text/plain": [
              "717         Zygarde\n",
              "718         Diancie\n",
              "719           Hoopa\n",
              "720       Volcanion\n",
              "1500    Darth Vader\n",
              "Name: Pokemon, dtype: object"
            ]
          },
          "metadata": {},
          "execution_count": 279
        }
      ]
    },
    {
      "cell_type": "markdown",
      "source": [
        "## The .copy() method"
      ],
      "metadata": {
        "id": "LBSVHvY6F3H0"
      }
    },
    {
      "cell_type": "code",
      "source": [
        "# import pokemon as a dataframe\n",
        "pokemon_df = (\n",
        "    pd.read_csv(\n",
        "        'https://raw.githubusercontent.com/jack-cao-623/python_learning/main/pandas/pokemon.csv',\n",
        "        usecols = ['Pokemon']\n",
        "    )\n",
        ")"
      ],
      "metadata": {
        "id": "25_jHMsSF0XL"
      },
      "execution_count": 280,
      "outputs": []
    },
    {
      "cell_type": "code",
      "source": [
        "pokemon_df.head()"
      ],
      "metadata": {
        "colab": {
          "base_uri": "https://localhost:8080/",
          "height": 206
        },
        "id": "R7Bw8dsHKHUO",
        "outputId": "024215c3-e0ef-4613-b9f1-c685e2695774"
      },
      "execution_count": 281,
      "outputs": [
        {
          "output_type": "execute_result",
          "data": {
            "text/plain": [
              "      Pokemon\n",
              "0   Bulbasaur\n",
              "1     Ivysaur\n",
              "2    Venusaur\n",
              "3  Charmander\n",
              "4  Charmeleon"
            ],
            "text/html": [
              "\n",
              "  <div id=\"df-e0d5d7ee-4d8b-4f58-a147-83813f197d7f\">\n",
              "    <div class=\"colab-df-container\">\n",
              "      <div>\n",
              "<style scoped>\n",
              "    .dataframe tbody tr th:only-of-type {\n",
              "        vertical-align: middle;\n",
              "    }\n",
              "\n",
              "    .dataframe tbody tr th {\n",
              "        vertical-align: top;\n",
              "    }\n",
              "\n",
              "    .dataframe thead th {\n",
              "        text-align: right;\n",
              "    }\n",
              "</style>\n",
              "<table border=\"1\" class=\"dataframe\">\n",
              "  <thead>\n",
              "    <tr style=\"text-align: right;\">\n",
              "      <th></th>\n",
              "      <th>Pokemon</th>\n",
              "    </tr>\n",
              "  </thead>\n",
              "  <tbody>\n",
              "    <tr>\n",
              "      <th>0</th>\n",
              "      <td>Bulbasaur</td>\n",
              "    </tr>\n",
              "    <tr>\n",
              "      <th>1</th>\n",
              "      <td>Ivysaur</td>\n",
              "    </tr>\n",
              "    <tr>\n",
              "      <th>2</th>\n",
              "      <td>Venusaur</td>\n",
              "    </tr>\n",
              "    <tr>\n",
              "      <th>3</th>\n",
              "      <td>Charmander</td>\n",
              "    </tr>\n",
              "    <tr>\n",
              "      <th>4</th>\n",
              "      <td>Charmeleon</td>\n",
              "    </tr>\n",
              "  </tbody>\n",
              "</table>\n",
              "</div>\n",
              "      <button class=\"colab-df-convert\" onclick=\"convertToInteractive('df-e0d5d7ee-4d8b-4f58-a147-83813f197d7f')\"\n",
              "              title=\"Convert this dataframe to an interactive table.\"\n",
              "              style=\"display:none;\">\n",
              "        \n",
              "  <svg xmlns=\"http://www.w3.org/2000/svg\" height=\"24px\"viewBox=\"0 0 24 24\"\n",
              "       width=\"24px\">\n",
              "    <path d=\"M0 0h24v24H0V0z\" fill=\"none\"/>\n",
              "    <path d=\"M18.56 5.44l.94 2.06.94-2.06 2.06-.94-2.06-.94-.94-2.06-.94 2.06-2.06.94zm-11 1L8.5 8.5l.94-2.06 2.06-.94-2.06-.94L8.5 2.5l-.94 2.06-2.06.94zm10 10l.94 2.06.94-2.06 2.06-.94-2.06-.94-.94-2.06-.94 2.06-2.06.94z\"/><path d=\"M17.41 7.96l-1.37-1.37c-.4-.4-.92-.59-1.43-.59-.52 0-1.04.2-1.43.59L10.3 9.45l-7.72 7.72c-.78.78-.78 2.05 0 2.83L4 21.41c.39.39.9.59 1.41.59.51 0 1.02-.2 1.41-.59l7.78-7.78 2.81-2.81c.8-.78.8-2.07 0-2.86zM5.41 20L4 18.59l7.72-7.72 1.47 1.35L5.41 20z\"/>\n",
              "  </svg>\n",
              "      </button>\n",
              "      \n",
              "  <style>\n",
              "    .colab-df-container {\n",
              "      display:flex;\n",
              "      flex-wrap:wrap;\n",
              "      gap: 12px;\n",
              "    }\n",
              "\n",
              "    .colab-df-convert {\n",
              "      background-color: #E8F0FE;\n",
              "      border: none;\n",
              "      border-radius: 50%;\n",
              "      cursor: pointer;\n",
              "      display: none;\n",
              "      fill: #1967D2;\n",
              "      height: 32px;\n",
              "      padding: 0 0 0 0;\n",
              "      width: 32px;\n",
              "    }\n",
              "\n",
              "    .colab-df-convert:hover {\n",
              "      background-color: #E2EBFA;\n",
              "      box-shadow: 0px 1px 2px rgba(60, 64, 67, 0.3), 0px 1px 3px 1px rgba(60, 64, 67, 0.15);\n",
              "      fill: #174EA6;\n",
              "    }\n",
              "\n",
              "    [theme=dark] .colab-df-convert {\n",
              "      background-color: #3B4455;\n",
              "      fill: #D2E3FC;\n",
              "    }\n",
              "\n",
              "    [theme=dark] .colab-df-convert:hover {\n",
              "      background-color: #434B5C;\n",
              "      box-shadow: 0px 1px 3px 1px rgba(0, 0, 0, 0.15);\n",
              "      filter: drop-shadow(0px 1px 2px rgba(0, 0, 0, 0.3));\n",
              "      fill: #FFFFFF;\n",
              "    }\n",
              "  </style>\n",
              "\n",
              "      <script>\n",
              "        const buttonEl =\n",
              "          document.querySelector('#df-e0d5d7ee-4d8b-4f58-a147-83813f197d7f button.colab-df-convert');\n",
              "        buttonEl.style.display =\n",
              "          google.colab.kernel.accessAllowed ? 'block' : 'none';\n",
              "\n",
              "        async function convertToInteractive(key) {\n",
              "          const element = document.querySelector('#df-e0d5d7ee-4d8b-4f58-a147-83813f197d7f');\n",
              "          const dataTable =\n",
              "            await google.colab.kernel.invokeFunction('convertToInteractive',\n",
              "                                                     [key], {});\n",
              "          if (!dataTable) return;\n",
              "\n",
              "          const docLinkHtml = 'Like what you see? Visit the ' +\n",
              "            '<a target=\"_blank\" href=https://colab.research.google.com/notebooks/data_table.ipynb>data table notebook</a>'\n",
              "            + ' to learn more about interactive tables.';\n",
              "          element.innerHTML = '';\n",
              "          dataTable['output_type'] = 'display_data';\n",
              "          await google.colab.output.renderOutput(dataTable, element);\n",
              "          const docLink = document.createElement('div');\n",
              "          docLink.innerHTML = docLinkHtml;\n",
              "          element.appendChild(docLink);\n",
              "        }\n",
              "      </script>\n",
              "    </div>\n",
              "  </div>\n",
              "  "
            ]
          },
          "metadata": {},
          "execution_count": 281
        }
      ]
    },
    {
      "cell_type": "code",
      "source": [
        "# view of pokemon_df as a series; view, not a copy, in other words, a persepctive\n",
        "pokemon_series = pokemon_df.squeeze(axis = 'columns')"
      ],
      "metadata": {
        "id": "WxgPr10sKM6i"
      },
      "execution_count": 282,
      "outputs": []
    },
    {
      "cell_type": "code",
      "source": [
        "pokemon_series.head()"
      ],
      "metadata": {
        "colab": {
          "base_uri": "https://localhost:8080/"
        },
        "id": "58a4Q7hEKWYQ",
        "outputId": "58fc4d13-d3a8-4f4b-b8a0-6c00d018be78"
      },
      "execution_count": 283,
      "outputs": [
        {
          "output_type": "execute_result",
          "data": {
            "text/plain": [
              "0     Bulbasaur\n",
              "1       Ivysaur\n",
              "2      Venusaur\n",
              "3    Charmander\n",
              "4    Charmeleon\n",
              "Name: Pokemon, dtype: object"
            ]
          },
          "metadata": {},
          "execution_count": 283
        }
      ]
    },
    {
      "cell_type": "code",
      "source": [
        "# in pokemon_series, change 'Bulbasaur' to 'Whatever'\n",
        "pokemon_series[0] = 'Whatever'\n",
        "pokemon_series.head(n = 1)"
      ],
      "metadata": {
        "colab": {
          "base_uri": "https://localhost:8080/"
        },
        "id": "UBh7IOw9KXSh",
        "outputId": "07009082-5bab-4d6d-d08c-8000dc30acb0"
      },
      "execution_count": 284,
      "outputs": [
        {
          "output_type": "execute_result",
          "data": {
            "text/plain": [
              "0    Whatever\n",
              "Name: Pokemon, dtype: object"
            ]
          },
          "metadata": {},
          "execution_count": 284
        }
      ]
    },
    {
      "cell_type": "code",
      "source": [
        "# Bulbasaur has changed to Whatever in pokemon_df\n",
        "pokemon_df.head()"
      ],
      "metadata": {
        "colab": {
          "base_uri": "https://localhost:8080/",
          "height": 206
        },
        "id": "iJf7bqXaKtdZ",
        "outputId": "07d68b44-7a09-4c9c-de8e-db024f0acbb4"
      },
      "execution_count": 285,
      "outputs": [
        {
          "output_type": "execute_result",
          "data": {
            "text/plain": [
              "      Pokemon\n",
              "0    Whatever\n",
              "1     Ivysaur\n",
              "2    Venusaur\n",
              "3  Charmander\n",
              "4  Charmeleon"
            ],
            "text/html": [
              "\n",
              "  <div id=\"df-ded0721c-cc05-4052-8eea-31ffdec58e17\">\n",
              "    <div class=\"colab-df-container\">\n",
              "      <div>\n",
              "<style scoped>\n",
              "    .dataframe tbody tr th:only-of-type {\n",
              "        vertical-align: middle;\n",
              "    }\n",
              "\n",
              "    .dataframe tbody tr th {\n",
              "        vertical-align: top;\n",
              "    }\n",
              "\n",
              "    .dataframe thead th {\n",
              "        text-align: right;\n",
              "    }\n",
              "</style>\n",
              "<table border=\"1\" class=\"dataframe\">\n",
              "  <thead>\n",
              "    <tr style=\"text-align: right;\">\n",
              "      <th></th>\n",
              "      <th>Pokemon</th>\n",
              "    </tr>\n",
              "  </thead>\n",
              "  <tbody>\n",
              "    <tr>\n",
              "      <th>0</th>\n",
              "      <td>Whatever</td>\n",
              "    </tr>\n",
              "    <tr>\n",
              "      <th>1</th>\n",
              "      <td>Ivysaur</td>\n",
              "    </tr>\n",
              "    <tr>\n",
              "      <th>2</th>\n",
              "      <td>Venusaur</td>\n",
              "    </tr>\n",
              "    <tr>\n",
              "      <th>3</th>\n",
              "      <td>Charmander</td>\n",
              "    </tr>\n",
              "    <tr>\n",
              "      <th>4</th>\n",
              "      <td>Charmeleon</td>\n",
              "    </tr>\n",
              "  </tbody>\n",
              "</table>\n",
              "</div>\n",
              "      <button class=\"colab-df-convert\" onclick=\"convertToInteractive('df-ded0721c-cc05-4052-8eea-31ffdec58e17')\"\n",
              "              title=\"Convert this dataframe to an interactive table.\"\n",
              "              style=\"display:none;\">\n",
              "        \n",
              "  <svg xmlns=\"http://www.w3.org/2000/svg\" height=\"24px\"viewBox=\"0 0 24 24\"\n",
              "       width=\"24px\">\n",
              "    <path d=\"M0 0h24v24H0V0z\" fill=\"none\"/>\n",
              "    <path d=\"M18.56 5.44l.94 2.06.94-2.06 2.06-.94-2.06-.94-.94-2.06-.94 2.06-2.06.94zm-11 1L8.5 8.5l.94-2.06 2.06-.94-2.06-.94L8.5 2.5l-.94 2.06-2.06.94zm10 10l.94 2.06.94-2.06 2.06-.94-2.06-.94-.94-2.06-.94 2.06-2.06.94z\"/><path d=\"M17.41 7.96l-1.37-1.37c-.4-.4-.92-.59-1.43-.59-.52 0-1.04.2-1.43.59L10.3 9.45l-7.72 7.72c-.78.78-.78 2.05 0 2.83L4 21.41c.39.39.9.59 1.41.59.51 0 1.02-.2 1.41-.59l7.78-7.78 2.81-2.81c.8-.78.8-2.07 0-2.86zM5.41 20L4 18.59l7.72-7.72 1.47 1.35L5.41 20z\"/>\n",
              "  </svg>\n",
              "      </button>\n",
              "      \n",
              "  <style>\n",
              "    .colab-df-container {\n",
              "      display:flex;\n",
              "      flex-wrap:wrap;\n",
              "      gap: 12px;\n",
              "    }\n",
              "\n",
              "    .colab-df-convert {\n",
              "      background-color: #E8F0FE;\n",
              "      border: none;\n",
              "      border-radius: 50%;\n",
              "      cursor: pointer;\n",
              "      display: none;\n",
              "      fill: #1967D2;\n",
              "      height: 32px;\n",
              "      padding: 0 0 0 0;\n",
              "      width: 32px;\n",
              "    }\n",
              "\n",
              "    .colab-df-convert:hover {\n",
              "      background-color: #E2EBFA;\n",
              "      box-shadow: 0px 1px 2px rgba(60, 64, 67, 0.3), 0px 1px 3px 1px rgba(60, 64, 67, 0.15);\n",
              "      fill: #174EA6;\n",
              "    }\n",
              "\n",
              "    [theme=dark] .colab-df-convert {\n",
              "      background-color: #3B4455;\n",
              "      fill: #D2E3FC;\n",
              "    }\n",
              "\n",
              "    [theme=dark] .colab-df-convert:hover {\n",
              "      background-color: #434B5C;\n",
              "      box-shadow: 0px 1px 3px 1px rgba(0, 0, 0, 0.15);\n",
              "      filter: drop-shadow(0px 1px 2px rgba(0, 0, 0, 0.3));\n",
              "      fill: #FFFFFF;\n",
              "    }\n",
              "  </style>\n",
              "\n",
              "      <script>\n",
              "        const buttonEl =\n",
              "          document.querySelector('#df-ded0721c-cc05-4052-8eea-31ffdec58e17 button.colab-df-convert');\n",
              "        buttonEl.style.display =\n",
              "          google.colab.kernel.accessAllowed ? 'block' : 'none';\n",
              "\n",
              "        async function convertToInteractive(key) {\n",
              "          const element = document.querySelector('#df-ded0721c-cc05-4052-8eea-31ffdec58e17');\n",
              "          const dataTable =\n",
              "            await google.colab.kernel.invokeFunction('convertToInteractive',\n",
              "                                                     [key], {});\n",
              "          if (!dataTable) return;\n",
              "\n",
              "          const docLinkHtml = 'Like what you see? Visit the ' +\n",
              "            '<a target=\"_blank\" href=https://colab.research.google.com/notebooks/data_table.ipynb>data table notebook</a>'\n",
              "            + ' to learn more about interactive tables.';\n",
              "          element.innerHTML = '';\n",
              "          dataTable['output_type'] = 'display_data';\n",
              "          await google.colab.output.renderOutput(dataTable, element);\n",
              "          const docLink = document.createElement('div');\n",
              "          docLink.innerHTML = docLinkHtml;\n",
              "          element.appendChild(docLink);\n",
              "        }\n",
              "      </script>\n",
              "    </div>\n",
              "  </div>\n",
              "  "
            ]
          },
          "metadata": {},
          "execution_count": 285
        }
      ]
    },
    {
      "cell_type": "code",
      "source": [
        "# reason for this behavior is pokemon_series is a view on pokemon_df\n",
        "# pokemon_df is the house; pokemon_series is a door to the house; view is just super close to it so you don't see the full house\n",
        "# change the door, change the house\n",
        "# changing pokemon_series introduces side effects; mutated pokemon_df"
      ],
      "metadata": {
        "id": "ogLpGeQyKwDQ"
      },
      "execution_count": 286,
      "outputs": []
    },
    {
      "cell_type": "code",
      "source": [
        "# here's how you only change pokemon_series\n",
        "\n",
        "# reimport pokemon_df\n",
        "pokemon_df = (\n",
        "    pd.read_csv(\n",
        "        'https://raw.githubusercontent.com/jack-cao-623/python_learning/main/pandas/pokemon.csv',\n",
        "        usecols = ['Pokemon']\n",
        "    )\n",
        ")\n",
        "\n",
        "# make pokemon_series, but this time a copy using .copy() method\n",
        "pokemon_series = pokemon_df.squeeze(axis = 'columns').copy()"
      ],
      "metadata": {
        "id": "5Gpt9ieqLD2l"
      },
      "execution_count": 287,
      "outputs": []
    },
    {
      "cell_type": "code",
      "source": [
        "# make change to pokemon_series\n",
        "pokemon_series[0] = 'Whatever'\n",
        "pokemon_series.get(key = 0)"
      ],
      "metadata": {
        "colab": {
          "base_uri": "https://localhost:8080/",
          "height": 35
        },
        "id": "9QKXqZwmLpF6",
        "outputId": "fa199206-70e0-4c6c-a0b1-2abf40ec388c"
      },
      "execution_count": 288,
      "outputs": [
        {
          "output_type": "execute_result",
          "data": {
            "text/plain": [
              "'Whatever'"
            ],
            "application/vnd.google.colaboratory.intrinsic+json": {
              "type": "string"
            }
          },
          "metadata": {},
          "execution_count": 288
        }
      ]
    },
    {
      "cell_type": "code",
      "source": [
        "# change didn't impact pokemon_df\n",
        "pokemon_df.head(n = 1)"
      ],
      "metadata": {
        "colab": {
          "base_uri": "https://localhost:8080/",
          "height": 81
        },
        "id": "1NqwPA9TLvA7",
        "outputId": "4662d6d0-1b59-433e-bb45-794bce4fb113"
      },
      "execution_count": 289,
      "outputs": [
        {
          "output_type": "execute_result",
          "data": {
            "text/plain": [
              "     Pokemon\n",
              "0  Bulbasaur"
            ],
            "text/html": [
              "\n",
              "  <div id=\"df-97f23f8d-e2c9-48bc-a0c9-3a5a952d2f67\">\n",
              "    <div class=\"colab-df-container\">\n",
              "      <div>\n",
              "<style scoped>\n",
              "    .dataframe tbody tr th:only-of-type {\n",
              "        vertical-align: middle;\n",
              "    }\n",
              "\n",
              "    .dataframe tbody tr th {\n",
              "        vertical-align: top;\n",
              "    }\n",
              "\n",
              "    .dataframe thead th {\n",
              "        text-align: right;\n",
              "    }\n",
              "</style>\n",
              "<table border=\"1\" class=\"dataframe\">\n",
              "  <thead>\n",
              "    <tr style=\"text-align: right;\">\n",
              "      <th></th>\n",
              "      <th>Pokemon</th>\n",
              "    </tr>\n",
              "  </thead>\n",
              "  <tbody>\n",
              "    <tr>\n",
              "      <th>0</th>\n",
              "      <td>Bulbasaur</td>\n",
              "    </tr>\n",
              "  </tbody>\n",
              "</table>\n",
              "</div>\n",
              "      <button class=\"colab-df-convert\" onclick=\"convertToInteractive('df-97f23f8d-e2c9-48bc-a0c9-3a5a952d2f67')\"\n",
              "              title=\"Convert this dataframe to an interactive table.\"\n",
              "              style=\"display:none;\">\n",
              "        \n",
              "  <svg xmlns=\"http://www.w3.org/2000/svg\" height=\"24px\"viewBox=\"0 0 24 24\"\n",
              "       width=\"24px\">\n",
              "    <path d=\"M0 0h24v24H0V0z\" fill=\"none\"/>\n",
              "    <path d=\"M18.56 5.44l.94 2.06.94-2.06 2.06-.94-2.06-.94-.94-2.06-.94 2.06-2.06.94zm-11 1L8.5 8.5l.94-2.06 2.06-.94-2.06-.94L8.5 2.5l-.94 2.06-2.06.94zm10 10l.94 2.06.94-2.06 2.06-.94-2.06-.94-.94-2.06-.94 2.06-2.06.94z\"/><path d=\"M17.41 7.96l-1.37-1.37c-.4-.4-.92-.59-1.43-.59-.52 0-1.04.2-1.43.59L10.3 9.45l-7.72 7.72c-.78.78-.78 2.05 0 2.83L4 21.41c.39.39.9.59 1.41.59.51 0 1.02-.2 1.41-.59l7.78-7.78 2.81-2.81c.8-.78.8-2.07 0-2.86zM5.41 20L4 18.59l7.72-7.72 1.47 1.35L5.41 20z\"/>\n",
              "  </svg>\n",
              "      </button>\n",
              "      \n",
              "  <style>\n",
              "    .colab-df-container {\n",
              "      display:flex;\n",
              "      flex-wrap:wrap;\n",
              "      gap: 12px;\n",
              "    }\n",
              "\n",
              "    .colab-df-convert {\n",
              "      background-color: #E8F0FE;\n",
              "      border: none;\n",
              "      border-radius: 50%;\n",
              "      cursor: pointer;\n",
              "      display: none;\n",
              "      fill: #1967D2;\n",
              "      height: 32px;\n",
              "      padding: 0 0 0 0;\n",
              "      width: 32px;\n",
              "    }\n",
              "\n",
              "    .colab-df-convert:hover {\n",
              "      background-color: #E2EBFA;\n",
              "      box-shadow: 0px 1px 2px rgba(60, 64, 67, 0.3), 0px 1px 3px 1px rgba(60, 64, 67, 0.15);\n",
              "      fill: #174EA6;\n",
              "    }\n",
              "\n",
              "    [theme=dark] .colab-df-convert {\n",
              "      background-color: #3B4455;\n",
              "      fill: #D2E3FC;\n",
              "    }\n",
              "\n",
              "    [theme=dark] .colab-df-convert:hover {\n",
              "      background-color: #434B5C;\n",
              "      box-shadow: 0px 1px 3px 1px rgba(0, 0, 0, 0.15);\n",
              "      filter: drop-shadow(0px 1px 2px rgba(0, 0, 0, 0.3));\n",
              "      fill: #FFFFFF;\n",
              "    }\n",
              "  </style>\n",
              "\n",
              "      <script>\n",
              "        const buttonEl =\n",
              "          document.querySelector('#df-97f23f8d-e2c9-48bc-a0c9-3a5a952d2f67 button.colab-df-convert');\n",
              "        buttonEl.style.display =\n",
              "          google.colab.kernel.accessAllowed ? 'block' : 'none';\n",
              "\n",
              "        async function convertToInteractive(key) {\n",
              "          const element = document.querySelector('#df-97f23f8d-e2c9-48bc-a0c9-3a5a952d2f67');\n",
              "          const dataTable =\n",
              "            await google.colab.kernel.invokeFunction('convertToInteractive',\n",
              "                                                     [key], {});\n",
              "          if (!dataTable) return;\n",
              "\n",
              "          const docLinkHtml = 'Like what you see? Visit the ' +\n",
              "            '<a target=\"_blank\" href=https://colab.research.google.com/notebooks/data_table.ipynb>data table notebook</a>'\n",
              "            + ' to learn more about interactive tables.';\n",
              "          element.innerHTML = '';\n",
              "          dataTable['output_type'] = 'display_data';\n",
              "          await google.colab.output.renderOutput(dataTable, element);\n",
              "          const docLink = document.createElement('div');\n",
              "          docLink.innerHTML = docLinkHtml;\n",
              "          element.appendChild(docLink);\n",
              "        }\n",
              "      </script>\n",
              "    </div>\n",
              "  </div>\n",
              "  "
            ]
          },
          "metadata": {},
          "execution_count": 289
        }
      ]
    },
    {
      "cell_type": "markdown",
      "source": [
        "## The inplace parameter\n",
        "- In a method call, there's a parameter called inplace; if set to True, it modifies the underlying object\n",
        "- Equivalent to reassigning to variable --> this way is encouaraged\n",
        "- inplace = True will be deprecated; discouraged from using this"
      ],
      "metadata": {
        "id": "jaU-d6jtMA9W"
      }
    },
    {
      "cell_type": "code",
      "source": [
        "# see here:\n",
        "# https://github.com/jack-cao-623/python_learning/blob/main/why_you_should_never_use_inplace_true.ipynb"
      ],
      "metadata": {
        "id": "fAVfRlQXLxQT"
      },
      "execution_count": 290,
      "outputs": []
    },
    {
      "cell_type": "code",
      "source": [
        "# series\n",
        "fb_stock = pd.Series(\n",
        "    data = [100, 120, 115, 120, 150, 90]\n",
        ")\n",
        "\n",
        "print(fb_stock)\n"
      ],
      "metadata": {
        "colab": {
          "base_uri": "https://localhost:8080/"
        },
        "id": "2uzh_G5dC2fQ",
        "outputId": "6870619a-1f66-4195-bfd3-8fe0191ec3bc"
      },
      "execution_count": 291,
      "outputs": [
        {
          "output_type": "stream",
          "name": "stdout",
          "text": [
            "0    100\n",
            "1    120\n",
            "2    115\n",
            "3    120\n",
            "4    150\n",
            "5     90\n",
            "dtype: int64\n"
          ]
        }
      ]
    },
    {
      "cell_type": "code",
      "source": [
        "# sort values\n",
        "fb_stock = fb_stock.sort_values()\n",
        "print(fb_stock)"
      ],
      "metadata": {
        "colab": {
          "base_uri": "https://localhost:8080/"
        },
        "id": "_iUOIZ7EEjk0",
        "outputId": "f8d8cf96-67d8-48f5-ba19-4210639aa0af"
      },
      "execution_count": 292,
      "outputs": [
        {
          "output_type": "stream",
          "name": "stdout",
          "text": [
            "5     90\n",
            "0    100\n",
            "2    115\n",
            "1    120\n",
            "3    120\n",
            "4    150\n",
            "dtype: int64\n"
          ]
        }
      ]
    },
    {
      "cell_type": "code",
      "source": [
        "# above is equivalent to; but above is preferred; \n",
        "# inplace = True is discourage; see other notebook linked to abve\n",
        "fb_stock = pd.Series(\n",
        "    data = [100, 120, 115, 120, 150, 90]\n",
        ")\n",
        "\n",
        "fb_stock.sort_values(inplace = True)\n",
        "\n",
        "print(fb_stock)"
      ],
      "metadata": {
        "colab": {
          "base_uri": "https://localhost:8080/"
        },
        "id": "8txqdWPRE7ny",
        "outputId": "a2ce892e-5fc6-45ab-a92c-64cab9cdfe73"
      },
      "execution_count": 293,
      "outputs": [
        {
          "output_type": "stream",
          "name": "stdout",
          "text": [
            "5     90\n",
            "0    100\n",
            "2    115\n",
            "1    120\n",
            "3    120\n",
            "4    150\n",
            "dtype: int64\n"
          ]
        }
      ]
    },
    {
      "cell_type": "code",
      "source": [
        "# create dataframe\n",
        "google_df = pd.DataFrame(\n",
        "    {\n",
        "        'stock': [0, 3, 2, 1]\n",
        "    }\n",
        ")\n",
        "\n",
        "print(google_df)"
      ],
      "metadata": {
        "colab": {
          "base_uri": "https://localhost:8080/"
        },
        "id": "bFLxrm5UFBd4",
        "outputId": "b4446778-bf30-49f7-b78e-9ef056e7377e"
      },
      "execution_count": 294,
      "outputs": [
        {
          "output_type": "stream",
          "name": "stdout",
          "text": [
            "   stock\n",
            "0      0\n",
            "1      3\n",
            "2      2\n",
            "3      1\n"
          ]
        }
      ]
    },
    {
      "cell_type": "code",
      "source": [
        "# this results in an error\n",
        "#(\n",
        " #   google_df\n",
        "  #    .squeeze(axis = 'columns')    # view as a series\n",
        "   #   .sort_values(inplace = True)  # sort; is this what it means that you can't chain?\n",
        "#)"
      ],
      "metadata": {
        "id": "XXpAw0Y9HJgA"
      },
      "execution_count": 295,
      "outputs": []
    },
    {
      "cell_type": "markdown",
      "source": [
        "## Math Methods on Series objects"
      ],
      "metadata": {
        "id": "PouJV6f4HmU8"
      }
    },
    {
      "cell_type": "code",
      "source": [
        "# series\n",
        "google"
      ],
      "metadata": {
        "colab": {
          "base_uri": "https://localhost:8080/"
        },
        "id": "3NexyFLdHPnv",
        "outputId": "9b2ff7c2-ab4a-40fe-fdd3-7e23b5a7c5e9"
      },
      "execution_count": 296,
      "outputs": [
        {
          "output_type": "execute_result",
          "data": {
            "text/plain": [
              "0        50.12\n",
              "1        54.10\n",
              "2        54.65\n",
              "3        52.38\n",
              "4        52.95\n",
              "         ...  \n",
              "3007    772.88\n",
              "3008    771.07\n",
              "3009    773.18\n",
              "3010    771.61\n",
              "3011    782.22\n",
              "Name: Stock Price, Length: 3012, dtype: float64"
            ]
          },
          "metadata": {},
          "execution_count": 296
        }
      ]
    },
    {
      "cell_type": "code",
      "source": [
        "# .count() method counts the number of non-null/non-missing values\n",
        "google.count()"
      ],
      "metadata": {
        "colab": {
          "base_uri": "https://localhost:8080/"
        },
        "id": "GBeyrhZlHzgn",
        "outputId": "37238d5a-f9b4-4303-a12f-4e8a7ac1591a"
      },
      "execution_count": 297,
      "outputs": [
        {
          "output_type": "execute_result",
          "data": {
            "text/plain": [
              "3012"
            ]
          },
          "metadata": {},
          "execution_count": 297
        }
      ]
    },
    {
      "cell_type": "code",
      "source": [
        "# .sum() method adds up series values\n",
        "google.sum()"
      ],
      "metadata": {
        "colab": {
          "base_uri": "https://localhost:8080/"
        },
        "id": "bHlaQMcfH9XU",
        "outputId": "d37cb206-6c46-43a3-8b93-1c7e30e32955"
      },
      "execution_count": 298,
      "outputs": [
        {
          "output_type": "execute_result",
          "data": {
            "text/plain": [
              "1006942.0"
            ]
          },
          "metadata": {},
          "execution_count": 298
        }
      ]
    },
    {
      "cell_type": "code",
      "source": [
        "# .mean() method tells you average of series values\n",
        "google.mean()"
      ],
      "metadata": {
        "colab": {
          "base_uri": "https://localhost:8080/"
        },
        "id": "ur4rcUE6Ijla",
        "outputId": "ea59a14e-dd54-4300-b9a3-70d9b7f1efd3"
      },
      "execution_count": 299,
      "outputs": [
        {
          "output_type": "execute_result",
          "data": {
            "text/plain": [
              "334.3100929614874"
            ]
          },
          "metadata": {},
          "execution_count": 299
        }
      ]
    },
    {
      "cell_type": "code",
      "source": [
        "# above is equivalent to:\n",
        "google.sum() / google.count()"
      ],
      "metadata": {
        "colab": {
          "base_uri": "https://localhost:8080/"
        },
        "id": "38ti6rYVIl4D",
        "outputId": "d8098ec4-4ca2-4190-ea5b-826b4e53075c"
      },
      "execution_count": 300,
      "outputs": [
        {
          "output_type": "execute_result",
          "data": {
            "text/plain": [
              "334.3100929614874"
            ]
          },
          "metadata": {},
          "execution_count": 300
        }
      ]
    },
    {
      "cell_type": "code",
      "source": [
        "# .product() multiples series values together\n",
        "google.product()"
      ],
      "metadata": {
        "colab": {
          "base_uri": "https://localhost:8080/"
        },
        "id": "uCnCUMnJIqLW",
        "outputId": "f87b0f61-3818-4a68-de8a-7fa76ba162f0"
      },
      "execution_count": 301,
      "outputs": [
        {
          "output_type": "execute_result",
          "data": {
            "text/plain": [
              "inf"
            ]
          },
          "metadata": {},
          "execution_count": 301
        }
      ]
    },
    {
      "cell_type": "code",
      "source": [
        "# .std() method calculates standard deviation\n",
        "google.std()"
      ],
      "metadata": {
        "colab": {
          "base_uri": "https://localhost:8080/"
        },
        "id": "McFHrX0wIvO_",
        "outputId": "8e13b574-c832-4b89-a0b9-0d832749bc62"
      },
      "execution_count": 302,
      "outputs": [
        {
          "output_type": "execute_result",
          "data": {
            "text/plain": [
              "173.18720477113115"
            ]
          },
          "metadata": {},
          "execution_count": 302
        }
      ]
    },
    {
      "cell_type": "code",
      "source": [
        "# .min() method gives you smallest values in series\n",
        "google.min()"
      ],
      "metadata": {
        "colab": {
          "base_uri": "https://localhost:8080/"
        },
        "id": "sQQuYIMgIzKB",
        "outputId": "a7d9853c-6a42-4624-f09d-870f2390b724"
      },
      "execution_count": 303,
      "outputs": [
        {
          "output_type": "execute_result",
          "data": {
            "text/plain": [
              "49.95"
            ]
          },
          "metadata": {},
          "execution_count": 303
        }
      ]
    },
    {
      "cell_type": "code",
      "source": [
        "# .max() method gives you largest value in series\n",
        "google.max()"
      ],
      "metadata": {
        "colab": {
          "base_uri": "https://localhost:8080/"
        },
        "id": "auftUPkFI1iM",
        "outputId": "7a2f8533-dcfe-4026-ac68-a211f6da6f3a"
      },
      "execution_count": 304,
      "outputs": [
        {
          "output_type": "execute_result",
          "data": {
            "text/plain": [
              "782.22"
            ]
          },
          "metadata": {},
          "execution_count": 304
        }
      ]
    },
    {
      "cell_type": "code",
      "source": [
        "# .median() method gives you median value in series\n",
        "google.median()"
      ],
      "metadata": {
        "colab": {
          "base_uri": "https://localhost:8080/"
        },
        "id": "RE2qlEuOI42k",
        "outputId": "5a338d72-6e0a-4bcc-89be-540d65e110a0"
      },
      "execution_count": 305,
      "outputs": [
        {
          "output_type": "execute_result",
          "data": {
            "text/plain": [
              "283.315"
            ]
          },
          "metadata": {},
          "execution_count": 305
        }
      ]
    },
    {
      "cell_type": "code",
      "source": [
        "# .mode() method gives you the mode\n",
        "google.mode()"
      ],
      "metadata": {
        "colab": {
          "base_uri": "https://localhost:8080/"
        },
        "id": "bEUDIsN-I7Vz",
        "outputId": "a8623fe2-79f5-4516-9d97-ece05717878f"
      },
      "execution_count": 306,
      "outputs": [
        {
          "output_type": "execute_result",
          "data": {
            "text/plain": [
              "0    291.21\n",
              "dtype: float64"
            ]
          },
          "metadata": {},
          "execution_count": 306
        }
      ]
    },
    {
      "cell_type": "code",
      "source": [
        "# above is equivalent to\n",
        "google.value_counts().index[0]"
      ],
      "metadata": {
        "colab": {
          "base_uri": "https://localhost:8080/"
        },
        "id": "7M59uKSvI_yr",
        "outputId": "084dd2eb-d83d-4164-e720-57b05fc6f982"
      },
      "execution_count": 307,
      "outputs": [
        {
          "output_type": "execute_result",
          "data": {
            "text/plain": [
              "291.21"
            ]
          },
          "metadata": {},
          "execution_count": 307
        }
      ]
    },
    {
      "cell_type": "code",
      "source": [
        "# get a bunch of summary statistics\n",
        "google.describe()"
      ],
      "metadata": {
        "colab": {
          "base_uri": "https://localhost:8080/"
        },
        "id": "KSZaLBQbJCH6",
        "outputId": "79cee8d6-5fa3-4a04-aae1-2dd386bb2a6b"
      },
      "execution_count": 308,
      "outputs": [
        {
          "output_type": "execute_result",
          "data": {
            "text/plain": [
              "count    3012.000000\n",
              "mean      334.310093\n",
              "std       173.187205\n",
              "min        49.950000\n",
              "25%       218.045000\n",
              "50%       283.315000\n",
              "75%       443.000000\n",
              "max       782.220000\n",
              "Name: Stock Price, dtype: float64"
            ]
          },
          "metadata": {},
          "execution_count": 308
        }
      ]
    },
    {
      "cell_type": "markdown",
      "source": [
        "## Broadcasting"
      ],
      "metadata": {
        "id": "UJ2jQy7KtuZA"
      }
    },
    {
      "cell_type": "code",
      "source": [
        "# add 10 to each value\n",
        "google + 10"
      ],
      "metadata": {
        "id": "_mnoezbPJV9_",
        "colab": {
          "base_uri": "https://localhost:8080/"
        },
        "outputId": "b7e7400e-f7de-4494-cc30-52975ab3d898"
      },
      "execution_count": 309,
      "outputs": [
        {
          "output_type": "execute_result",
          "data": {
            "text/plain": [
              "0        60.12\n",
              "1        64.10\n",
              "2        64.65\n",
              "3        62.38\n",
              "4        62.95\n",
              "         ...  \n",
              "3007    782.88\n",
              "3008    781.07\n",
              "3009    783.18\n",
              "3010    781.61\n",
              "3011    792.22\n",
              "Name: Stock Price, Length: 3012, dtype: float64"
            ]
          },
          "metadata": {},
          "execution_count": 309
        }
      ]
    },
    {
      "cell_type": "code",
      "source": [
        "# above is equivalent to\n",
        "google.add(10)"
      ],
      "metadata": {
        "colab": {
          "base_uri": "https://localhost:8080/"
        },
        "id": "ncjW4EWwtwCu",
        "outputId": "879e0884-573f-478e-8704-c465a399d1a1"
      },
      "execution_count": 310,
      "outputs": [
        {
          "output_type": "execute_result",
          "data": {
            "text/plain": [
              "0        60.12\n",
              "1        64.10\n",
              "2        64.65\n",
              "3        62.38\n",
              "4        62.95\n",
              "         ...  \n",
              "3007    782.88\n",
              "3008    781.07\n",
              "3009    783.18\n",
              "3010    781.61\n",
              "3011    792.22\n",
              "Name: Stock Price, Length: 3012, dtype: float64"
            ]
          },
          "metadata": {},
          "execution_count": 310
        }
      ]
    },
    {
      "cell_type": "code",
      "source": [
        "# subtract 30 from each value\n",
        "google - 30"
      ],
      "metadata": {
        "colab": {
          "base_uri": "https://localhost:8080/"
        },
        "id": "bujg-BOWt3Eu",
        "outputId": "c741ef3c-84d1-4bee-fa9c-f1aa76d6edb9"
      },
      "execution_count": 311,
      "outputs": [
        {
          "output_type": "execute_result",
          "data": {
            "text/plain": [
              "0        20.12\n",
              "1        24.10\n",
              "2        24.65\n",
              "3        22.38\n",
              "4        22.95\n",
              "         ...  \n",
              "3007    742.88\n",
              "3008    741.07\n",
              "3009    743.18\n",
              "3010    741.61\n",
              "3011    752.22\n",
              "Name: Stock Price, Length: 3012, dtype: float64"
            ]
          },
          "metadata": {},
          "execution_count": 311
        }
      ]
    },
    {
      "cell_type": "code",
      "source": [
        "# above is equivalent to:\n",
        "google.subtract(30)"
      ],
      "metadata": {
        "colab": {
          "base_uri": "https://localhost:8080/"
        },
        "id": "QgQLTe0Lt6Re",
        "outputId": "458367a6-1107-4b80-b478-6b5157a39f27"
      },
      "execution_count": 312,
      "outputs": [
        {
          "output_type": "execute_result",
          "data": {
            "text/plain": [
              "0        20.12\n",
              "1        24.10\n",
              "2        24.65\n",
              "3        22.38\n",
              "4        22.95\n",
              "         ...  \n",
              "3007    742.88\n",
              "3008    741.07\n",
              "3009    743.18\n",
              "3010    741.61\n",
              "3011    752.22\n",
              "Name: Stock Price, Length: 3012, dtype: float64"
            ]
          },
          "metadata": {},
          "execution_count": 312
        }
      ]
    },
    {
      "cell_type": "markdown",
      "source": [
        "## .value_counts() method\n",
        "- counts the number of occurences of each value in a series"
      ],
      "metadata": {
        "id": "rePtDsL1ubG7"
      }
    },
    {
      "cell_type": "code",
      "source": [
        "pokemon2.head()"
      ],
      "metadata": {
        "colab": {
          "base_uri": "https://localhost:8080/"
        },
        "id": "LCPeM0C1uAuE",
        "outputId": "c8255901-5ff1-46d9-f6be-a7e653971d2a"
      },
      "execution_count": 313,
      "outputs": [
        {
          "output_type": "execute_result",
          "data": {
            "text/plain": [
              "Pokemon\n",
              "Bulbasaur     awesome\n",
              "Ivysaur         Grass\n",
              "Venusaur        Grass\n",
              "Charmander       Fire\n",
              "Charmeleon       Fire\n",
              "Name: Type, dtype: object"
            ]
          },
          "metadata": {},
          "execution_count": 313
        }
      ]
    },
    {
      "cell_type": "code",
      "source": [
        "# count how many timeseach type occurs\n",
        "pokemon2.value_counts()"
      ],
      "metadata": {
        "colab": {
          "base_uri": "https://localhost:8080/"
        },
        "id": "YIkPWrb1ufcV",
        "outputId": "1d31fff8-8bfc-424b-dde4-2d9b56dff66a"
      },
      "execution_count": 314,
      "outputs": [
        {
          "output_type": "execute_result",
          "data": {
            "text/plain": [
              "Water       105\n",
              "Normal       93\n",
              "Grass        65\n",
              "Bug          63\n",
              "Fire         47\n",
              "Psychic      47\n",
              "Rock         41\n",
              "Electric     36\n",
              "Ground       30\n",
              "Dark         28\n",
              "Poison       28\n",
              "Fighting     25\n",
              "Dragon       24\n",
              "Ghost        23\n",
              "Ice          23\n",
              "Steel        22\n",
              "Fairy        17\n",
              "Flying        3\n",
              "awesome       1\n",
              "Name: Type, dtype: int64"
            ]
          },
          "metadata": {},
          "execution_count": 314
        }
      ]
    },
    {
      "cell_type": "code",
      "source": [
        "# above, by default, arranged by descending order"
      ],
      "metadata": {
        "id": "rGioL0Siuk6V"
      },
      "execution_count": 315,
      "outputs": []
    },
    {
      "cell_type": "code",
      "source": [
        "# arrange by ascending order\n",
        "pokemon2.value_counts(ascending = True)"
      ],
      "metadata": {
        "colab": {
          "base_uri": "https://localhost:8080/"
        },
        "id": "4IRPcbAfuyq4",
        "outputId": "d086e309-3ac2-4af3-dc17-235ef0f7b45a"
      },
      "execution_count": 316,
      "outputs": [
        {
          "output_type": "execute_result",
          "data": {
            "text/plain": [
              "awesome       1\n",
              "Flying        3\n",
              "Fairy        17\n",
              "Steel        22\n",
              "Ice          23\n",
              "Ghost        23\n",
              "Dragon       24\n",
              "Fighting     25\n",
              "Poison       28\n",
              "Dark         28\n",
              "Ground       30\n",
              "Electric     36\n",
              "Rock         41\n",
              "Psychic      47\n",
              "Fire         47\n",
              "Bug          63\n",
              "Grass        65\n",
              "Normal       93\n",
              "Water       105\n",
              "Name: Type, dtype: int64"
            ]
          },
          "metadata": {},
          "execution_count": 316
        }
      ]
    },
    {
      "cell_type": "code",
      "source": [
        "# 10 pokemon types that are least common\n",
        "(\n",
        "    pokemon2\n",
        "      .value_counts(ascending = True)\n",
        "      [:10]\n",
        ")"
      ],
      "metadata": {
        "colab": {
          "base_uri": "https://localhost:8080/"
        },
        "id": "WK82P9nRu4ZT",
        "outputId": "a422255a-9ddb-45cd-bc50-0a540eeda6f3"
      },
      "execution_count": 317,
      "outputs": [
        {
          "output_type": "execute_result",
          "data": {
            "text/plain": [
              "awesome      1\n",
              "Flying       3\n",
              "Fairy       17\n",
              "Steel       22\n",
              "Ice         23\n",
              "Ghost       23\n",
              "Dragon      24\n",
              "Fighting    25\n",
              "Poison      28\n",
              "Dark        28\n",
              "Name: Type, dtype: int64"
            ]
          },
          "metadata": {},
          "execution_count": 317
        }
      ]
    },
    {
      "cell_type": "code",
      "source": [
        "# how does value counts handle missing values?\n",
        "series_with_missing_values = pd.Series(\n",
        "    data = [1, 2, 2, 3, 3, 3, None, None]\n",
        ")\n",
        "\n",
        "series_with_missing_values.value_counts(dropna = False)"
      ],
      "metadata": {
        "colab": {
          "base_uri": "https://localhost:8080/"
        },
        "id": "20sR6aJ6vG1w",
        "outputId": "e05182a0-a1b5-4dbf-a357-9395b73eb7af"
      },
      "execution_count": 318,
      "outputs": [
        {
          "output_type": "execute_result",
          "data": {
            "text/plain": [
              "3.0    3\n",
              "2.0    2\n",
              "NaN    2\n",
              "1.0    1\n",
              "dtype: int64"
            ]
          },
          "metadata": {},
          "execution_count": 318
        }
      ]
    },
    {
      "cell_type": "code",
      "source": [
        "# above, missing is ignored "
      ],
      "metadata": {
        "id": "icuM2ZrQ4QT5"
      },
      "execution_count": 319,
      "outputs": []
    },
    {
      "cell_type": "code",
      "source": [
        "# one more example with np.nan\n",
        "\n",
        "(\n",
        "    pd.Series(\n",
        "        data = ['haha', 'haha', 'haha', 'lol', 'lol', np.nan, np.nan]\n",
        "    )\n",
        "    .value_counts(dropna = False)   # parameter set to True by default; but set to False, lets you count missing\n",
        ")"
      ],
      "metadata": {
        "colab": {
          "base_uri": "https://localhost:8080/"
        },
        "id": "7T5mgive4UKw",
        "outputId": "2ab50387-bc76-4710-9321-e41702828a13"
      },
      "execution_count": 320,
      "outputs": [
        {
          "output_type": "execute_result",
          "data": {
            "text/plain": [
              "haha    3\n",
              "lol     2\n",
              "NaN     2\n",
              "dtype: int64"
            ]
          },
          "metadata": {},
          "execution_count": 320
        }
      ]
    },
    {
      "cell_type": "code",
      "source": [
        "# above, missing is ignored"
      ],
      "metadata": {
        "id": "nVuHEpu64aSe"
      },
      "execution_count": 321,
      "outputs": []
    },
    {
      "cell_type": "code",
      "source": [
        "# normalize; put in percentages\n",
        "(\n",
        "    pd.Series(\n",
        "        data = ['haha', 'haha', 'haha', 'lol', 'lol', np.nan, np.nan]\n",
        "    )\n",
        "    .value_counts(\n",
        "        normalize = True,    # express as a percentage\n",
        "        dropna = False\n",
        "    )\n",
        ")"
      ],
      "metadata": {
        "colab": {
          "base_uri": "https://localhost:8080/"
        },
        "id": "NBUby9mSLolR",
        "outputId": "4cfcce5f-16e7-4de3-a507-fdca945ef6f4"
      },
      "execution_count": 322,
      "outputs": [
        {
          "output_type": "execute_result",
          "data": {
            "text/plain": [
              "haha    0.428571\n",
              "lol     0.285714\n",
              "NaN     0.285714\n",
              "dtype: float64"
            ]
          },
          "metadata": {},
          "execution_count": 322
        }
      ]
    },
    {
      "cell_type": "code",
      "source": [
        "# percentages\n",
        "(\n",
        "    pokemon2.value_counts()\n",
        "    .div(pokemon2.count())\n",
        "    .sort_values(ascending = False)\n",
        "    .mul(100)\n",
        ")\n"
      ],
      "metadata": {
        "colab": {
          "base_uri": "https://localhost:8080/"
        },
        "id": "WWfi-31QLuum",
        "outputId": "64340cee-eced-4564-9406-f62655cbd17d"
      },
      "execution_count": 323,
      "outputs": [
        {
          "output_type": "execute_result",
          "data": {
            "text/plain": [
              "Water       14.563107\n",
              "Normal      12.898752\n",
              "Grass        9.015257\n",
              "Bug          8.737864\n",
              "Fire         6.518724\n",
              "Psychic      6.518724\n",
              "Rock         5.686546\n",
              "Electric     4.993065\n",
              "Ground       4.160888\n",
              "Poison       3.883495\n",
              "Dark         3.883495\n",
              "Fighting     3.467406\n",
              "Dragon       3.328710\n",
              "Ghost        3.190014\n",
              "Ice          3.190014\n",
              "Steel        3.051318\n",
              "Fairy        2.357836\n",
              "Flying       0.416089\n",
              "awesome      0.138696\n",
              "Name: Type, dtype: float64"
            ]
          },
          "metadata": {},
          "execution_count": 323
        }
      ]
    },
    {
      "cell_type": "markdown",
      "source": [
        "## The .apply() method\n",
        "- applies a function to each value in the series"
      ],
      "metadata": {
        "id": "7fuzuDmeQkVl"
      }
    },
    {
      "cell_type": "code",
      "source": [
        "pokemon2"
      ],
      "metadata": {
        "colab": {
          "base_uri": "https://localhost:8080/"
        },
        "id": "YMGNIT8rNGPG",
        "outputId": "d7657e38-caf4-4da9-e17d-a6e1dbebdce6"
      },
      "execution_count": 324,
      "outputs": [
        {
          "output_type": "execute_result",
          "data": {
            "text/plain": [
              "Pokemon\n",
              "Bulbasaur     awesome\n",
              "Ivysaur         Grass\n",
              "Venusaur        Grass\n",
              "Charmander       Fire\n",
              "Charmeleon       Fire\n",
              "               ...   \n",
              "Yveltal          Dark\n",
              "Zygarde        Dragon\n",
              "Diancie          Rock\n",
              "Hoopa         Psychic\n",
              "Volcanion        Fire\n",
              "Name: Type, Length: 721, dtype: object"
            ]
          },
          "metadata": {},
          "execution_count": 324
        }
      ]
    },
    {
      "cell_type": "code",
      "source": [
        "# number of characters in awesome\n",
        "len(pokemon2.values[0])"
      ],
      "metadata": {
        "colab": {
          "base_uri": "https://localhost:8080/"
        },
        "id": "3C3RPZ0VRM0o",
        "outputId": "51d3cbb9-681a-4f18-cae9-a2475c6995f7"
      },
      "execution_count": 325,
      "outputs": [
        {
          "output_type": "execute_result",
          "data": {
            "text/plain": [
              "7"
            ]
          },
          "metadata": {},
          "execution_count": 325
        }
      ]
    },
    {
      "cell_type": "code",
      "source": [
        "# number of characters in Grass\n",
        "len(pokemon2.values[1])"
      ],
      "metadata": {
        "colab": {
          "base_uri": "https://localhost:8080/"
        },
        "id": "OwnlRqipRVl9",
        "outputId": "9340c251-5608-4fb3-9357-034a8123dea7"
      },
      "execution_count": 326,
      "outputs": [
        {
          "output_type": "execute_result",
          "data": {
            "text/plain": [
              "5"
            ]
          },
          "metadata": {},
          "execution_count": 326
        }
      ]
    },
    {
      "cell_type": "code",
      "source": [
        "# find length of each value in pokemon series\n",
        "(\n",
        "    pokemon2\n",
        "      .apply(lambda x: len(x))\n",
        ")"
      ],
      "metadata": {
        "colab": {
          "base_uri": "https://localhost:8080/"
        },
        "id": "9iECR4wpQw3G",
        "outputId": "844e92aa-0eb0-4758-9092-a9ccab6613da"
      },
      "execution_count": 327,
      "outputs": [
        {
          "output_type": "execute_result",
          "data": {
            "text/plain": [
              "Pokemon\n",
              "Bulbasaur     7\n",
              "Ivysaur       5\n",
              "Venusaur      5\n",
              "Charmander    4\n",
              "Charmeleon    4\n",
              "             ..\n",
              "Yveltal       4\n",
              "Zygarde       6\n",
              "Diancie       4\n",
              "Hoopa         7\n",
              "Volcanion     4\n",
              "Name: Type, Length: 721, dtype: int64"
            ]
          },
          "metadata": {},
          "execution_count": 327
        }
      ]
    },
    {
      "cell_type": "code",
      "source": [
        "# equivalent to above; just len is un-invoked function\n",
        "(\n",
        "    pokemon2\n",
        "      .apply(len)\n",
        ")"
      ],
      "metadata": {
        "colab": {
          "base_uri": "https://localhost:8080/"
        },
        "id": "wYaKsvHUQ1-V",
        "outputId": "b26ec2b9-8b9f-42cb-fde4-2b6fcee10425"
      },
      "execution_count": 329,
      "outputs": [
        {
          "output_type": "execute_result",
          "data": {
            "text/plain": [
              "Pokemon\n",
              "Bulbasaur     7\n",
              "Ivysaur       5\n",
              "Venusaur      5\n",
              "Charmander    4\n",
              "Charmeleon    4\n",
              "             ..\n",
              "Yveltal       4\n",
              "Zygarde       6\n",
              "Diancie       4\n",
              "Hoopa         7\n",
              "Volcanion     4\n",
              "Name: Type, Length: 721, dtype: int64"
            ]
          },
          "metadata": {},
          "execution_count": 329
        }
      ]
    },
    {
      "cell_type": "code",
      "source": [
        "pokemon2"
      ],
      "metadata": {
        "colab": {
          "base_uri": "https://localhost:8080/"
        },
        "id": "CeOVEdQ5yZZh",
        "outputId": "117393cb-a426-4bac-a97a-2e6e2a62946e"
      },
      "execution_count": 330,
      "outputs": [
        {
          "output_type": "execute_result",
          "data": {
            "text/plain": [
              "Pokemon\n",
              "Bulbasaur     awesome\n",
              "Ivysaur         Grass\n",
              "Venusaur        Grass\n",
              "Charmander       Fire\n",
              "Charmeleon       Fire\n",
              "               ...   \n",
              "Yveltal          Dark\n",
              "Zygarde        Dragon\n",
              "Diancie          Rock\n",
              "Hoopa         Psychic\n",
              "Volcanion        Fire\n",
              "Name: Type, Length: 721, dtype: object"
            ]
          },
          "metadata": {},
          "execution_count": 330
        }
      ]
    },
    {
      "cell_type": "code",
      "source": [
        "# categorize Grass, Fire, and Water as Classic\n",
        "# Normal as Boring\n",
        "# Otherwise keep as is\n",
        "\n",
        "# function\n",
        "def categorize_pokemon(pokemon_type):\n",
        "  if pokemon_type in ['Grass', 'Fire', 'Water']:    # like SQL\n",
        "    return 'Classic'\n",
        "  elif pokemon_type == 'Normal':\n",
        "    return 'Boring'\n",
        "  else:\n",
        "    return 'TBD'\n",
        "\n",
        "# apply function to each value in pokemon2 series\n",
        "(\n",
        "    pokemon2\n",
        "      .apply(categorize_pokemon)     # argument is un-invoked function defined above; in lieu of lambda function\n",
        ")"
      ],
      "metadata": {
        "colab": {
          "base_uri": "https://localhost:8080/"
        },
        "id": "8v9hIviRz6z1",
        "outputId": "05d8946e-7f3e-44cf-e971-4a55846c8fa6"
      },
      "execution_count": 337,
      "outputs": [
        {
          "output_type": "execute_result",
          "data": {
            "text/plain": [
              "Pokemon\n",
              "Bulbasaur         TBD\n",
              "Ivysaur       Classic\n",
              "Venusaur      Classic\n",
              "Charmander    Classic\n",
              "Charmeleon    Classic\n",
              "               ...   \n",
              "Yveltal           TBD\n",
              "Zygarde           TBD\n",
              "Diancie           TBD\n",
              "Hoopa             TBD\n",
              "Volcanion     Classic\n",
              "Name: Type, Length: 721, dtype: object"
            ]
          },
          "metadata": {},
          "execution_count": 337
        }
      ]
    },
    {
      "cell_type": "markdown",
      "source": [
        "## .map() method\n",
        "- input is an association that maps values to what you want\n",
        "- E.g., a dictionary, a series"
      ],
      "metadata": {
        "id": "kLRxk8b33VUl"
      }
    },
    {
      "cell_type": "code",
      "source": [
        "pokemon2"
      ],
      "metadata": {
        "colab": {
          "base_uri": "https://localhost:8080/"
        },
        "id": "JgbOXgsY0IIr",
        "outputId": "7e29d7ca-f731-4eb6-f133-9696fb46c4a6"
      },
      "execution_count": 341,
      "outputs": [
        {
          "output_type": "execute_result",
          "data": {
            "text/plain": [
              "Pokemon\n",
              "Bulbasaur     awesome\n",
              "Ivysaur         Grass\n",
              "Venusaur        Grass\n",
              "Charmander       Fire\n",
              "Charmeleon       Fire\n",
              "               ...   \n",
              "Yveltal          Dark\n",
              "Zygarde        Dragon\n",
              "Diancie          Rock\n",
              "Hoopa         Psychic\n",
              "Volcanion        Fire\n",
              "Name: Type, Length: 721, dtype: object"
            ]
          },
          "metadata": {},
          "execution_count": 341
        }
      ]
    },
    {
      "cell_type": "code",
      "source": [
        "# another way to categorize pokemon types\n",
        "pokemon_type_mappings = {\n",
        "    'Grass': 'Classic',\n",
        "    'Fire': 'Classic',\n",
        "    'Water': 'Classic',\n",
        "    'Normal': 'Boring'\n",
        "    # but nothing for 'else TBD'\n",
        "}\n",
        "\n",
        "pokemon2.map(pokemon_type_mappings)"
      ],
      "metadata": {
        "colab": {
          "base_uri": "https://localhost:8080/"
        },
        "id": "avPMU92e4IpJ",
        "outputId": "f48c5ce7-ebf8-4316-8c4b-501b5fb0d172"
      },
      "execution_count": 347,
      "outputs": [
        {
          "output_type": "execute_result",
          "data": {
            "text/plain": [
              "Pokemon\n",
              "Bulbasaur         NaN\n",
              "Ivysaur       Classic\n",
              "Venusaur      Classic\n",
              "Charmander    Classic\n",
              "Charmeleon    Classic\n",
              "               ...   \n",
              "Yveltal           NaN\n",
              "Zygarde           NaN\n",
              "Diancie           NaN\n",
              "Hoopa             NaN\n",
              "Volcanion     Classic\n",
              "Name: Type, Length: 721, dtype: object"
            ]
          },
          "metadata": {},
          "execution_count": 347
        }
      ]
    },
    {
      "cell_type": "code",
      "source": [
        "# above, NaN is for values that aren't mapped"
      ],
      "metadata": {
        "id": "7IY1wkON4Le3"
      },
      "execution_count": 344,
      "outputs": []
    },
    {
      "cell_type": "markdown",
      "source": [
        "## End of section on Series"
      ],
      "metadata": {
        "id": "UXPfaTq-7O0D"
      }
    },
    {
      "cell_type": "code",
      "source": [],
      "metadata": {
        "id": "zjGCdxiY4MD2"
      },
      "execution_count": null,
      "outputs": []
    }
  ]
}