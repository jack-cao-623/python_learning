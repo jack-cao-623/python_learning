{
  "nbformat": 4,
  "nbformat_minor": 0,
  "metadata": {
    "colab": {
      "provenance": [],
      "authorship_tag": "ABX9TyO4mMWx0bBXjgd2aiIyk50a",
      "include_colab_link": true
    },
    "kernelspec": {
      "name": "python3",
      "display_name": "Python 3"
    },
    "language_info": {
      "name": "python"
    }
  },
  "cells": [
    {
      "cell_type": "markdown",
      "metadata": {
        "id": "view-in-github",
        "colab_type": "text"
      },
      "source": [
        "<a href=\"https://colab.research.google.com/github/jack-cao-623/python_learning/blob/main/python_object_oriented_programming.ipynb\" target=\"_parent\"><img src=\"https://colab.research.google.com/assets/colab-badge.svg\" alt=\"Open In Colab\"/></a>"
      ]
    },
    {
      "cell_type": "markdown",
      "source": [
        "# Object-oriented programming in Python\n",
        "From: https://realpython.com/python3-object-oriented-programming/"
      ],
      "metadata": {
        "id": "dLYHph2FWBSN"
      }
    },
    {
      "cell_type": "code",
      "execution_count": 1,
      "metadata": {
        "id": "9WvE2XHuV6tW"
      },
      "outputs": [],
      "source": [
        "# create a class called Dog\n",
        "class Dog:\n",
        "  # Class attirbute, species\n",
        "  species = 'Canis familiaris'\n",
        "\n",
        "  # Instance attributes, name and age\n",
        "  def __init__(self, name, age):\n",
        "    self.name = name\n",
        "    self.age = age"
      ]
    },
    {
      "cell_type": "code",
      "source": [
        "# instances of Dog\n",
        "a = Dog('Buddy', 4)\n",
        "b = Dog('Buddy', 4)"
      ],
      "metadata": {
        "id": "Hx6YAcPKWUDk"
      },
      "execution_count": 2,
      "outputs": []
    },
    {
      "cell_type": "code",
      "source": [
        "# a and b are different \n",
        "a == b"
      ],
      "metadata": {
        "colab": {
          "base_uri": "https://localhost:8080/"
        },
        "id": "EamIuHNcWhSR",
        "outputId": "d8446e9f-6dea-4ef7-db83-9221724cba07"
      },
      "execution_count": 3,
      "outputs": [
        {
          "output_type": "execute_result",
          "data": {
            "text/plain": [
              "False"
            ]
          },
          "metadata": {},
          "execution_count": 3
        }
      ]
    },
    {
      "cell_type": "code",
      "source": [
        "# another class\n",
        "class empty_class:\n",
        "  pass"
      ],
      "metadata": {
        "id": "LRuU4jqDWjag"
      },
      "execution_count": 4,
      "outputs": []
    },
    {
      "cell_type": "code",
      "source": [
        "# c and d are different\n",
        "c = empty_class()\n",
        "d = empty_class()\n",
        "c == d"
      ],
      "metadata": {
        "colab": {
          "base_uri": "https://localhost:8080/"
        },
        "id": "0ZAFafIBWopY",
        "outputId": "f3db0feb-0609-4a04-99bb-1ba3db65f3ab"
      },
      "execution_count": 5,
      "outputs": [
        {
          "output_type": "execute_result",
          "data": {
            "text/plain": [
              "False"
            ]
          },
          "metadata": {},
          "execution_count": 5
        }
      ]
    },
    {
      "cell_type": "code",
      "source": [
        "# attributes of a\n",
        "print(a.name)       # instance attribute\n",
        "print(a.age)        # instance attribute\n",
        "print(a.species)    # class attribute"
      ],
      "metadata": {
        "colab": {
          "base_uri": "https://localhost:8080/"
        },
        "id": "50SqVzugWsgQ",
        "outputId": "9823704e-5809-4786-adfb-c1cd9e402036"
      },
      "execution_count": 9,
      "outputs": [
        {
          "output_type": "stream",
          "name": "stdout",
          "text": [
            "Buddy\n",
            "4\n",
            "Canis familiaris\n"
          ]
        }
      ]
    },
    {
      "cell_type": "code",
      "source": [
        "# can change attributes\n",
        "a.age = 100\n",
        "print(a.age)"
      ],
      "metadata": {
        "colab": {
          "base_uri": "https://localhost:8080/"
        },
        "id": "iaDyZYmaXTm0",
        "outputId": "a77e5709-c3bf-4eaa-c38c-8c20b53f1c6d"
      },
      "execution_count": 11,
      "outputs": [
        {
          "output_type": "stream",
          "name": "stdout",
          "text": [
            "100\n"
          ]
        }
      ]
    },
    {
      "cell_type": "code",
      "source": [
        "# add instance methods to Dog class\n",
        "class Dog:\n",
        "  # Class attirbute, species\n",
        "  species = 'Canis familiaris'\n",
        "\n",
        "  # Instance attributes, name and age\n",
        "  def __init__(self, name, age):\n",
        "    self.name = name\n",
        "    self.age = age\n",
        "\n",
        "  # Instance method\n",
        "  def __str__(self):\n",
        "    return f\"{self.name} is {self.age} years old\""
      ],
      "metadata": {
        "id": "0bWykEFRXiRx"
      },
      "execution_count": 12,
      "outputs": []
    },
    {
      "cell_type": "code",
      "source": [
        "buddy = Dog('Buddy', 10)\n",
        "print(buddy)"
      ],
      "metadata": {
        "colab": {
          "base_uri": "https://localhost:8080/"
        },
        "id": "Z-6eNf2FYCzf",
        "outputId": "8c251f4a-0902-4a90-b136-0d675ade142e"
      },
      "execution_count": 13,
      "outputs": [
        {
          "output_type": "stream",
          "name": "stdout",
          "text": [
            "Buddy is 10 years old\n"
          ]
        }
      ]
    },
    {
      "cell_type": "code",
      "source": [
        "# Exercise\n",
        "class Car:\n",
        "  # instance attributes\n",
        "  def __init__(self, color, mileage):          # __init__ is a dunder method\n",
        "    self.color = color\n",
        "    self.mileage = mileage\n",
        "  # instance method\n",
        "  def __str__(self):                           # __str__ is a dunder method\n",
        "    return f\"The {self.color} car has {self.mileage} miles.\""
      ],
      "metadata": {
        "id": "koAqxwJyYG4D"
      },
      "execution_count": 15,
      "outputs": []
    },
    {
      "cell_type": "code",
      "source": [
        "# instantiate two objects of class Car\n",
        "blue_car = Car('blue', 20_000)\n",
        "red_car = Car('red', 30_000)"
      ],
      "metadata": {
        "id": "YaiXF3xyZEXE"
      },
      "execution_count": 20,
      "outputs": []
    },
    {
      "cell_type": "code",
      "source": [
        "print(blue_car)\n",
        "print(red_car)"
      ],
      "metadata": {
        "colab": {
          "base_uri": "https://localhost:8080/"
        },
        "id": "-NFT_H1EZLes",
        "outputId": "ca07b4e1-be47-48d9-e42c-12ada1b37645"
      },
      "execution_count": 21,
      "outputs": [
        {
          "output_type": "stream",
          "name": "stdout",
          "text": [
            "The blue car has 20000 miles.\n",
            "The red car has 30000 miles.\n"
          ]
        }
      ]
    },
    {
      "cell_type": "code",
      "source": [
        "(30_000 - 10_000) # 30k minus 10k"
      ],
      "metadata": {
        "colab": {
          "base_uri": "https://localhost:8080/"
        },
        "id": "e-zGOj8xZPY0",
        "outputId": "f3101ec2-4a78-4aa2-9c6c-4f105281de7c"
      },
      "execution_count": 23,
      "outputs": [
        {
          "output_type": "execute_result",
          "data": {
            "text/plain": [
              "20000"
            ]
          },
          "metadata": {},
          "execution_count": 23
        }
      ]
    },
    {
      "cell_type": "code",
      "source": [
        "1_000 == 1000  # 1k == 1k"
      ],
      "metadata": {
        "colab": {
          "base_uri": "https://localhost:8080/"
        },
        "id": "yNptS9PYZh85",
        "outputId": "34569d98-712e-4ac9-dc20-338dc2774826"
      },
      "execution_count": 25,
      "outputs": [
        {
          "output_type": "execute_result",
          "data": {
            "text/plain": [
              "True"
            ]
          },
          "metadata": {},
          "execution_count": 25
        }
      ]
    },
    {
      "cell_type": "code",
      "source": [],
      "metadata": {
        "id": "VDpl9cfWZlvp"
      },
      "execution_count": null,
      "outputs": []
    }
  ]
}