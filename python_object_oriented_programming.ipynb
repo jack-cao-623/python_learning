{
  "nbformat": 4,
  "nbformat_minor": 0,
  "metadata": {
    "colab": {
      "provenance": [],
      "authorship_tag": "ABX9TyNNc+vG63EdkIiz612uAzOD",
      "include_colab_link": true
    },
    "kernelspec": {
      "name": "python3",
      "display_name": "Python 3"
    },
    "language_info": {
      "name": "python"
    }
  },
  "cells": [
    {
      "cell_type": "markdown",
      "metadata": {
        "id": "view-in-github",
        "colab_type": "text"
      },
      "source": [
        "<a href=\"https://colab.research.google.com/github/jack-cao-623/python_learning/blob/main/python_object_oriented_programming.ipynb\" target=\"_parent\"><img src=\"https://colab.research.google.com/assets/colab-badge.svg\" alt=\"Open In Colab\"/></a>"
      ]
    },
    {
      "cell_type": "markdown",
      "source": [
        "# Object-oriented programming in Python\n",
        "From: https://realpython.com/python3-object-oriented-programming/"
      ],
      "metadata": {
        "id": "dLYHph2FWBSN"
      }
    },
    {
      "cell_type": "code",
      "execution_count": 1,
      "metadata": {
        "id": "9WvE2XHuV6tW"
      },
      "outputs": [],
      "source": [
        "# create a class called Dog\n",
        "class Dog:\n",
        "  # Class attirbute, species\n",
        "  species = 'Canis familiaris'\n",
        "\n",
        "  # Instance attributes, name and age\n",
        "  def __init__(self, name, age):\n",
        "    self.name = name\n",
        "    self.age = age"
      ]
    },
    {
      "cell_type": "code",
      "source": [
        "# instances of Dog\n",
        "a = Dog('Buddy', 4)\n",
        "b = Dog('Buddy', 4)"
      ],
      "metadata": {
        "id": "Hx6YAcPKWUDk"
      },
      "execution_count": 2,
      "outputs": []
    },
    {
      "cell_type": "code",
      "source": [
        "# a and b are different \n",
        "a == b"
      ],
      "metadata": {
        "colab": {
          "base_uri": "https://localhost:8080/"
        },
        "id": "EamIuHNcWhSR",
        "outputId": "d8446e9f-6dea-4ef7-db83-9221724cba07"
      },
      "execution_count": 3,
      "outputs": [
        {
          "output_type": "execute_result",
          "data": {
            "text/plain": [
              "False"
            ]
          },
          "metadata": {},
          "execution_count": 3
        }
      ]
    },
    {
      "cell_type": "code",
      "source": [
        "# another class\n",
        "class empty_class:\n",
        "  pass"
      ],
      "metadata": {
        "id": "LRuU4jqDWjag"
      },
      "execution_count": 4,
      "outputs": []
    },
    {
      "cell_type": "code",
      "source": [
        "# c and d are different\n",
        "c = empty_class()\n",
        "d = empty_class()\n",
        "c == d"
      ],
      "metadata": {
        "colab": {
          "base_uri": "https://localhost:8080/"
        },
        "id": "0ZAFafIBWopY",
        "outputId": "f3db0feb-0609-4a04-99bb-1ba3db65f3ab"
      },
      "execution_count": 5,
      "outputs": [
        {
          "output_type": "execute_result",
          "data": {
            "text/plain": [
              "False"
            ]
          },
          "metadata": {},
          "execution_count": 5
        }
      ]
    },
    {
      "cell_type": "code",
      "source": [
        "# attributes of a\n",
        "print(a.name)       # instance attribute\n",
        "print(a.age)        # instance attribute\n",
        "print(a.species)    # class attribute"
      ],
      "metadata": {
        "colab": {
          "base_uri": "https://localhost:8080/"
        },
        "id": "50SqVzugWsgQ",
        "outputId": "9823704e-5809-4786-adfb-c1cd9e402036"
      },
      "execution_count": 9,
      "outputs": [
        {
          "output_type": "stream",
          "name": "stdout",
          "text": [
            "Buddy\n",
            "4\n",
            "Canis familiaris\n"
          ]
        }
      ]
    },
    {
      "cell_type": "code",
      "source": [
        "# can change attributes\n",
        "a.age = 100\n",
        "print(a.age)"
      ],
      "metadata": {
        "colab": {
          "base_uri": "https://localhost:8080/"
        },
        "id": "iaDyZYmaXTm0",
        "outputId": "a77e5709-c3bf-4eaa-c38c-8c20b53f1c6d"
      },
      "execution_count": 11,
      "outputs": [
        {
          "output_type": "stream",
          "name": "stdout",
          "text": [
            "100\n"
          ]
        }
      ]
    },
    {
      "cell_type": "code",
      "source": [
        "# add instance methods to Dog class\n",
        "class Dog:\n",
        "  # Class attirbute, species\n",
        "  species = 'Canis familiaris'\n",
        "\n",
        "  # Instance attributes, name and age\n",
        "  def __init__(self, name, age):\n",
        "    self.name = name\n",
        "    self.age = age\n",
        "\n",
        "  # Instance method\n",
        "  def __str__(self):\n",
        "    return f\"{self.name} is {self.age} years old\""
      ],
      "metadata": {
        "id": "0bWykEFRXiRx"
      },
      "execution_count": 12,
      "outputs": []
    },
    {
      "cell_type": "code",
      "source": [
        "buddy = Dog('Buddy', 10)\n",
        "print(buddy)"
      ],
      "metadata": {
        "colab": {
          "base_uri": "https://localhost:8080/"
        },
        "id": "Z-6eNf2FYCzf",
        "outputId": "8c251f4a-0902-4a90-b136-0d675ade142e"
      },
      "execution_count": 13,
      "outputs": [
        {
          "output_type": "stream",
          "name": "stdout",
          "text": [
            "Buddy is 10 years old\n"
          ]
        }
      ]
    },
    {
      "cell_type": "code",
      "source": [
        "# Exercise\n",
        "class Car:\n",
        "  # instance attributes\n",
        "  def __init__(self, color, mileage):          # __init__ is a dunder method\n",
        "    self.color = color\n",
        "    self.mileage = mileage\n",
        "  # instance method\n",
        "  def __str__(self):                           # __str__ is a dunder method\n",
        "    return f\"The {self.color} car has {self.mileage} miles.\""
      ],
      "metadata": {
        "id": "koAqxwJyYG4D"
      },
      "execution_count": 15,
      "outputs": []
    },
    {
      "cell_type": "code",
      "source": [
        "# instantiate two objects of class Car\n",
        "blue_car = Car('blue', 20_000)\n",
        "red_car = Car('red', 30_000)"
      ],
      "metadata": {
        "id": "YaiXF3xyZEXE"
      },
      "execution_count": 20,
      "outputs": []
    },
    {
      "cell_type": "code",
      "source": [
        "print(blue_car)\n",
        "print(red_car)"
      ],
      "metadata": {
        "colab": {
          "base_uri": "https://localhost:8080/"
        },
        "id": "-NFT_H1EZLes",
        "outputId": "ca07b4e1-be47-48d9-e42c-12ada1b37645"
      },
      "execution_count": 21,
      "outputs": [
        {
          "output_type": "stream",
          "name": "stdout",
          "text": [
            "The blue car has 20000 miles.\n",
            "The red car has 30000 miles.\n"
          ]
        }
      ]
    },
    {
      "cell_type": "code",
      "source": [
        "(30_000 - 10_000) # 30k minus 10k"
      ],
      "metadata": {
        "colab": {
          "base_uri": "https://localhost:8080/"
        },
        "id": "e-zGOj8xZPY0",
        "outputId": "f3101ec2-4a78-4aa2-9c6c-4f105281de7c"
      },
      "execution_count": 23,
      "outputs": [
        {
          "output_type": "execute_result",
          "data": {
            "text/plain": [
              "20000"
            ]
          },
          "metadata": {},
          "execution_count": 23
        }
      ]
    },
    {
      "cell_type": "code",
      "source": [
        "1_000 == 1000  # 1k == 1k"
      ],
      "metadata": {
        "colab": {
          "base_uri": "https://localhost:8080/"
        },
        "id": "yNptS9PYZh85",
        "outputId": "34569d98-712e-4ac9-dc20-338dc2774826"
      },
      "execution_count": 25,
      "outputs": [
        {
          "output_type": "execute_result",
          "data": {
            "text/plain": [
              "True"
            ]
          },
          "metadata": {},
          "execution_count": 25
        }
      ]
    },
    {
      "cell_type": "markdown",
      "source": [
        "## Inheritance"
      ],
      "metadata": {
        "id": "iCbwcnKyc3r9"
      }
    },
    {
      "cell_type": "code",
      "source": [
        "# class called Dog; this is the parent\n",
        "class Dog:\n",
        "\n",
        "  # class attribute, species\n",
        "  species = 'Canis familiaris'\n",
        "\n",
        "  # instance attributes, name and age\n",
        "  def __init__(self, name, age):\n",
        "    self.name = name\n",
        "    self.age = age\n",
        "\n",
        "  # instance methods\n",
        "  def __str__(self):\n",
        "    return f\"{self.name} is {self.age} years old\"\n",
        "\n",
        "  def speak(self, sound):\n",
        "    return f\"{self.name} says {sound}\""
      ],
      "metadata": {
        "id": "VDpl9cfWZlvp"
      },
      "execution_count": 26,
      "outputs": []
    },
    {
      "cell_type": "code",
      "source": [
        "# child classes\n",
        "class JackRussellTerrier(Dog):\n",
        "  pass\n",
        "\n",
        "class Dachshund(Dog):\n",
        "  pass\n",
        "\n",
        "class Bulldog(Dog):\n",
        "  pass\n"
      ],
      "metadata": {
        "id": "LKh9BTtNd5Q3"
      },
      "execution_count": 27,
      "outputs": []
    },
    {
      "cell_type": "code",
      "source": [
        "# instantiate objects\n",
        "miles = JackRussellTerrier('miles', 4)\n",
        "buddy = Dachshund('buddy', 9)\n",
        "jack = Bulldog('jack', 3)\n",
        "jim = Bulldog('jim', 5)"
      ],
      "metadata": {
        "id": "Ou9Rm4rBeEqv"
      },
      "execution_count": 28,
      "outputs": []
    },
    {
      "cell_type": "code",
      "source": [
        "# show inheritance\n",
        "print(miles.species)\n",
        "print(buddy.name)\n",
        "print(jack)\n",
        "print(jim.speak('woof'))"
      ],
      "metadata": {
        "colab": {
          "base_uri": "https://localhost:8080/"
        },
        "id": "y_QHL-gNeT7r",
        "outputId": "4e596a8e-8e61-440d-8a1e-3f3489fae316"
      },
      "execution_count": 32,
      "outputs": [
        {
          "output_type": "stream",
          "name": "stdout",
          "text": [
            "Canis familiaris\n",
            "buddy\n",
            "jack is 3 years old\n",
            "jim says woof\n"
          ]
        }
      ]
    },
    {
      "cell_type": "code",
      "source": [
        "# what class is jim\n",
        "print(type(jim))       # jim is of class Bulldog\n",
        "print(jim)"
      ],
      "metadata": {
        "colab": {
          "base_uri": "https://localhost:8080/"
        },
        "id": "4tCOFEZDeX_6",
        "outputId": "86e1910e-f552-46b2-d160-896c1c026eb7"
      },
      "execution_count": 36,
      "outputs": [
        {
          "output_type": "stream",
          "name": "stdout",
          "text": [
            "<class '__main__.Bulldog'>\n",
            "jim is 5 years old\n"
          ]
        }
      ]
    },
    {
      "cell_type": "code",
      "source": [
        "# check if object is an instance of a class\n",
        "isinstance(miles, JackRussellTerrier)"
      ],
      "metadata": {
        "colab": {
          "base_uri": "https://localhost:8080/"
        },
        "id": "YQPzAxPZeiAJ",
        "outputId": "8f890cc8-1bfe-454a-8b55-468a776a4497"
      },
      "execution_count": 37,
      "outputs": [
        {
          "output_type": "execute_result",
          "data": {
            "text/plain": [
              "True"
            ]
          },
          "metadata": {},
          "execution_count": 37
        }
      ]
    },
    {
      "cell_type": "code",
      "source": [
        "isinstance(miles, Dog)"
      ],
      "metadata": {
        "colab": {
          "base_uri": "https://localhost:8080/"
        },
        "id": "HgxMJkR2fZ6L",
        "outputId": "c2604037-6561-48cc-e5a7-c3ede8f3bf06"
      },
      "execution_count": 38,
      "outputs": [
        {
          "output_type": "execute_result",
          "data": {
            "text/plain": [
              "True"
            ]
          },
          "metadata": {},
          "execution_count": 38
        }
      ]
    },
    {
      "cell_type": "code",
      "source": [
        "isinstance(buddy, Bulldog)"
      ],
      "metadata": {
        "colab": {
          "base_uri": "https://localhost:8080/"
        },
        "id": "XF0fSL3PfeQH",
        "outputId": "3ac3d2f1-eadf-4ad9-986e-f4f819ff933c"
      },
      "execution_count": 39,
      "outputs": [
        {
          "output_type": "execute_result",
          "data": {
            "text/plain": [
              "False"
            ]
          },
          "metadata": {},
          "execution_count": 39
        }
      ]
    },
    {
      "cell_type": "code",
      "source": [
        "isinstance(buddy, Dog)"
      ],
      "metadata": {
        "colab": {
          "base_uri": "https://localhost:8080/"
        },
        "id": "ceUsfbHzfh_D",
        "outputId": "0817a93c-5984-401b-f646-f5777ba7be48"
      },
      "execution_count": 40,
      "outputs": [
        {
          "output_type": "execute_result",
          "data": {
            "text/plain": [
              "True"
            ]
          },
          "metadata": {},
          "execution_count": 40
        }
      ]
    },
    {
      "cell_type": "markdown",
      "source": [
        "## Extend functionality of a parent class"
      ],
      "metadata": {
        "id": "V0fIzJ9jgw_i"
      }
    },
    {
      "cell_type": "code",
      "source": [
        "# rewrite JackRussellTerrier class\n",
        "class JackRussellTerrier(Dog):\n",
        "  def speak(self, sound = 'Arf'):\n",
        "    return f\"{self.name} says {sound}\""
      ],
      "metadata": {
        "id": "sU5x-cCZfjRE"
      },
      "execution_count": 41,
      "outputs": []
    },
    {
      "cell_type": "code",
      "source": [
        "miles = JackRussellTerrier('miles', 4)"
      ],
      "metadata": {
        "id": "-GJzCSgog7mI"
      },
      "execution_count": 42,
      "outputs": []
    },
    {
      "cell_type": "code",
      "source": [
        "print(miles.name)\n",
        "print(miles.age)\n",
        "print(miles)"
      ],
      "metadata": {
        "colab": {
          "base_uri": "https://localhost:8080/"
        },
        "id": "N96ccpmWg-TF",
        "outputId": "3ec3a25f-361c-4817-8f7f-4133382e943a"
      },
      "execution_count": 43,
      "outputs": [
        {
          "output_type": "stream",
          "name": "stdout",
          "text": [
            "miles\n",
            "4\n",
            "miles is 4 years old\n"
          ]
        }
      ]
    },
    {
      "cell_type": "code",
      "source": [
        "print(miles.speak())"
      ],
      "metadata": {
        "colab": {
          "base_uri": "https://localhost:8080/"
        },
        "id": "MX9nh39uhAqs",
        "outputId": "42fdc81f-dbe4-426b-9fc5-599871063596"
      },
      "execution_count": 44,
      "outputs": [
        {
          "output_type": "stream",
          "name": "stdout",
          "text": [
            "miles says Arf\n"
          ]
        }
      ]
    },
    {
      "cell_type": "code",
      "source": [
        "print(miles.speak(\"hello\"))"
      ],
      "metadata": {
        "colab": {
          "base_uri": "https://localhost:8080/"
        },
        "id": "boCMesh6hB1U",
        "outputId": "e2e21c1b-4388-44e4-d145-2432ab234dad"
      },
      "execution_count": 45,
      "outputs": [
        {
          "output_type": "stream",
          "name": "stdout",
          "text": [
            "miles says hello\n"
          ]
        }
      ]
    },
    {
      "cell_type": "code",
      "source": [
        "# exericse\n",
        "class Dog:\n",
        "    species = \"Canis familiaris\"\n",
        "\n",
        "    def __init__(self, name, age):\n",
        "        self.name = name\n",
        "        self.age = age\n",
        "\n",
        "    def __str__(self):\n",
        "        return f\"{self.name} is {self.age} years old\"\n",
        "\n",
        "    def speak(self, sound):\n",
        "        return f\"{self.name} says {sound}\""
      ],
      "metadata": {
        "id": "0yqnbAT8hDJ8"
      },
      "execution_count": 46,
      "outputs": []
    },
    {
      "cell_type": "code",
      "source": [
        "class GoldenRetriever(Dog):\n",
        "    def speak(self, sound = 'Bark'):\n",
        "      return f\"{self.name} says {sound}\""
      ],
      "metadata": {
        "id": "UB5YMAQYh3D8"
      },
      "execution_count": 47,
      "outputs": []
    },
    {
      "cell_type": "code",
      "source": [
        "golden_dog = GoldenRetriever('golden_dog', 99)\n",
        "golden_dog.speak()"
      ],
      "metadata": {
        "colab": {
          "base_uri": "https://localhost:8080/",
          "height": 35
        },
        "id": "2BwDj874h_50",
        "outputId": "d709b7f3-c8cd-4d18-8ac9-ae158fe3eefe"
      },
      "execution_count": 48,
      "outputs": [
        {
          "output_type": "execute_result",
          "data": {
            "text/plain": [
              "'golden_dog says Bark'"
            ],
            "application/vnd.google.colaboratory.intrinsic+json": {
              "type": "string"
            }
          },
          "metadata": {},
          "execution_count": 48
        }
      ]
    },
    {
      "cell_type": "code",
      "source": [],
      "metadata": {
        "id": "d9_3hiyMiDl8"
      },
      "execution_count": null,
      "outputs": []
    }
  ]
}