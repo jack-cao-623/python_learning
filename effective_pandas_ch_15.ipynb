{
  "nbformat": 4,
  "nbformat_minor": 0,
  "metadata": {
    "colab": {
      "provenance": [],
      "authorship_tag": "ABX9TyPApjiQwK/VJx0Doh/0FfN0",
      "include_colab_link": true
    },
    "kernelspec": {
      "name": "python3",
      "display_name": "Python 3"
    },
    "language_info": {
      "name": "python"
    }
  },
  "cells": [
    {
      "cell_type": "markdown",
      "metadata": {
        "id": "view-in-github",
        "colab_type": "text"
      },
      "source": [
        "<a href=\"https://colab.research.google.com/github/jack-cao-623/python_learning/blob/main/effective_pandas_ch_15.ipynb\" target=\"_parent\"><img src=\"https://colab.research.google.com/assets/colab-badge.svg\" alt=\"Open In Colab\"/></a>"
      ]
    },
    {
      "cell_type": "markdown",
      "source": [
        "# Chapter 15: Categorical Manipulation\n",
        "Akin to factors in R"
      ],
      "metadata": {
        "id": "9iN9oNKYbjn5"
      }
    },
    {
      "cell_type": "code",
      "execution_count": 1,
      "metadata": {
        "id": "zDpaPXMLbgGr"
      },
      "outputs": [],
      "source": [
        "# libraries needed\n",
        "import numpy as np\n",
        "import pandas as pd\n",
        "\n",
        "# show plots inline\n",
        "%matplotlib inline"
      ]
    },
    {
      "cell_type": "code",
      "source": [
        "# load data\n",
        "url = 'https://github.com/mattharrison/datasets/raw/master/data/vehicles.csv.zip'\n",
        "df = pd.read_csv(url)\n",
        "\n",
        "# view first view rows\n",
        "df.head(n = 5)"
      ],
      "metadata": {
        "colab": {
          "base_uri": "https://localhost:8080/",
          "height": 509
        },
        "id": "vzrDcFnabqF-",
        "outputId": "01535e31-ebc6-4384-c0da-a7530ede6a7d"
      },
      "execution_count": 2,
      "outputs": [
        {
          "output_type": "stream",
          "name": "stderr",
          "text": [
            "/usr/local/lib/python3.7/dist-packages/IPython/core/interactiveshell.py:3326: DtypeWarning: Columns (68,70,71,72,73,74,76,79) have mixed types.Specify dtype option on import or set low_memory=False.\n",
            "  exec(code_obj, self.user_global_ns, self.user_ns)\n"
          ]
        },
        {
          "output_type": "execute_result",
          "data": {
            "text/plain": [
              "   barrels08  barrelsA08  charge120  charge240  city08  city08U  cityA08  \\\n",
              "0  15.695714         0.0        0.0        0.0      19      0.0        0   \n",
              "1  29.964545         0.0        0.0        0.0       9      0.0        0   \n",
              "2  12.207778         0.0        0.0        0.0      23      0.0        0   \n",
              "3  29.964545         0.0        0.0        0.0      10      0.0        0   \n",
              "4  17.347895         0.0        0.0        0.0      17      0.0        0   \n",
              "\n",
              "   cityA08U  cityCD  cityE  ...  mfrCode  c240Dscr  charge240b  c240bDscr  \\\n",
              "0       0.0     0.0    0.0  ...      NaN       NaN         0.0        NaN   \n",
              "1       0.0     0.0    0.0  ...      NaN       NaN         0.0        NaN   \n",
              "2       0.0     0.0    0.0  ...      NaN       NaN         0.0        NaN   \n",
              "3       0.0     0.0    0.0  ...      NaN       NaN         0.0        NaN   \n",
              "4       0.0     0.0    0.0  ...      NaN       NaN         0.0        NaN   \n",
              "\n",
              "                      createdOn                    modifiedOn  startStop  \\\n",
              "0  Tue Jan 01 00:00:00 EST 2013  Tue Jan 01 00:00:00 EST 2013        NaN   \n",
              "1  Tue Jan 01 00:00:00 EST 2013  Tue Jan 01 00:00:00 EST 2013        NaN   \n",
              "2  Tue Jan 01 00:00:00 EST 2013  Tue Jan 01 00:00:00 EST 2013        NaN   \n",
              "3  Tue Jan 01 00:00:00 EST 2013  Tue Jan 01 00:00:00 EST 2013        NaN   \n",
              "4  Tue Jan 01 00:00:00 EST 2013  Tue Jan 01 00:00:00 EST 2013        NaN   \n",
              "\n",
              "   phevCity  phevHwy  phevComb  \n",
              "0         0        0         0  \n",
              "1         0        0         0  \n",
              "2         0        0         0  \n",
              "3         0        0         0  \n",
              "4         0        0         0  \n",
              "\n",
              "[5 rows x 83 columns]"
            ],
            "text/html": [
              "\n",
              "  <div id=\"df-c5d1f153-7990-4a3a-81a4-842ab7439c49\">\n",
              "    <div class=\"colab-df-container\">\n",
              "      <div>\n",
              "<style scoped>\n",
              "    .dataframe tbody tr th:only-of-type {\n",
              "        vertical-align: middle;\n",
              "    }\n",
              "\n",
              "    .dataframe tbody tr th {\n",
              "        vertical-align: top;\n",
              "    }\n",
              "\n",
              "    .dataframe thead th {\n",
              "        text-align: right;\n",
              "    }\n",
              "</style>\n",
              "<table border=\"1\" class=\"dataframe\">\n",
              "  <thead>\n",
              "    <tr style=\"text-align: right;\">\n",
              "      <th></th>\n",
              "      <th>barrels08</th>\n",
              "      <th>barrelsA08</th>\n",
              "      <th>charge120</th>\n",
              "      <th>charge240</th>\n",
              "      <th>city08</th>\n",
              "      <th>city08U</th>\n",
              "      <th>cityA08</th>\n",
              "      <th>cityA08U</th>\n",
              "      <th>cityCD</th>\n",
              "      <th>cityE</th>\n",
              "      <th>...</th>\n",
              "      <th>mfrCode</th>\n",
              "      <th>c240Dscr</th>\n",
              "      <th>charge240b</th>\n",
              "      <th>c240bDscr</th>\n",
              "      <th>createdOn</th>\n",
              "      <th>modifiedOn</th>\n",
              "      <th>startStop</th>\n",
              "      <th>phevCity</th>\n",
              "      <th>phevHwy</th>\n",
              "      <th>phevComb</th>\n",
              "    </tr>\n",
              "  </thead>\n",
              "  <tbody>\n",
              "    <tr>\n",
              "      <th>0</th>\n",
              "      <td>15.695714</td>\n",
              "      <td>0.0</td>\n",
              "      <td>0.0</td>\n",
              "      <td>0.0</td>\n",
              "      <td>19</td>\n",
              "      <td>0.0</td>\n",
              "      <td>0</td>\n",
              "      <td>0.0</td>\n",
              "      <td>0.0</td>\n",
              "      <td>0.0</td>\n",
              "      <td>...</td>\n",
              "      <td>NaN</td>\n",
              "      <td>NaN</td>\n",
              "      <td>0.0</td>\n",
              "      <td>NaN</td>\n",
              "      <td>Tue Jan 01 00:00:00 EST 2013</td>\n",
              "      <td>Tue Jan 01 00:00:00 EST 2013</td>\n",
              "      <td>NaN</td>\n",
              "      <td>0</td>\n",
              "      <td>0</td>\n",
              "      <td>0</td>\n",
              "    </tr>\n",
              "    <tr>\n",
              "      <th>1</th>\n",
              "      <td>29.964545</td>\n",
              "      <td>0.0</td>\n",
              "      <td>0.0</td>\n",
              "      <td>0.0</td>\n",
              "      <td>9</td>\n",
              "      <td>0.0</td>\n",
              "      <td>0</td>\n",
              "      <td>0.0</td>\n",
              "      <td>0.0</td>\n",
              "      <td>0.0</td>\n",
              "      <td>...</td>\n",
              "      <td>NaN</td>\n",
              "      <td>NaN</td>\n",
              "      <td>0.0</td>\n",
              "      <td>NaN</td>\n",
              "      <td>Tue Jan 01 00:00:00 EST 2013</td>\n",
              "      <td>Tue Jan 01 00:00:00 EST 2013</td>\n",
              "      <td>NaN</td>\n",
              "      <td>0</td>\n",
              "      <td>0</td>\n",
              "      <td>0</td>\n",
              "    </tr>\n",
              "    <tr>\n",
              "      <th>2</th>\n",
              "      <td>12.207778</td>\n",
              "      <td>0.0</td>\n",
              "      <td>0.0</td>\n",
              "      <td>0.0</td>\n",
              "      <td>23</td>\n",
              "      <td>0.0</td>\n",
              "      <td>0</td>\n",
              "      <td>0.0</td>\n",
              "      <td>0.0</td>\n",
              "      <td>0.0</td>\n",
              "      <td>...</td>\n",
              "      <td>NaN</td>\n",
              "      <td>NaN</td>\n",
              "      <td>0.0</td>\n",
              "      <td>NaN</td>\n",
              "      <td>Tue Jan 01 00:00:00 EST 2013</td>\n",
              "      <td>Tue Jan 01 00:00:00 EST 2013</td>\n",
              "      <td>NaN</td>\n",
              "      <td>0</td>\n",
              "      <td>0</td>\n",
              "      <td>0</td>\n",
              "    </tr>\n",
              "    <tr>\n",
              "      <th>3</th>\n",
              "      <td>29.964545</td>\n",
              "      <td>0.0</td>\n",
              "      <td>0.0</td>\n",
              "      <td>0.0</td>\n",
              "      <td>10</td>\n",
              "      <td>0.0</td>\n",
              "      <td>0</td>\n",
              "      <td>0.0</td>\n",
              "      <td>0.0</td>\n",
              "      <td>0.0</td>\n",
              "      <td>...</td>\n",
              "      <td>NaN</td>\n",
              "      <td>NaN</td>\n",
              "      <td>0.0</td>\n",
              "      <td>NaN</td>\n",
              "      <td>Tue Jan 01 00:00:00 EST 2013</td>\n",
              "      <td>Tue Jan 01 00:00:00 EST 2013</td>\n",
              "      <td>NaN</td>\n",
              "      <td>0</td>\n",
              "      <td>0</td>\n",
              "      <td>0</td>\n",
              "    </tr>\n",
              "    <tr>\n",
              "      <th>4</th>\n",
              "      <td>17.347895</td>\n",
              "      <td>0.0</td>\n",
              "      <td>0.0</td>\n",
              "      <td>0.0</td>\n",
              "      <td>17</td>\n",
              "      <td>0.0</td>\n",
              "      <td>0</td>\n",
              "      <td>0.0</td>\n",
              "      <td>0.0</td>\n",
              "      <td>0.0</td>\n",
              "      <td>...</td>\n",
              "      <td>NaN</td>\n",
              "      <td>NaN</td>\n",
              "      <td>0.0</td>\n",
              "      <td>NaN</td>\n",
              "      <td>Tue Jan 01 00:00:00 EST 2013</td>\n",
              "      <td>Tue Jan 01 00:00:00 EST 2013</td>\n",
              "      <td>NaN</td>\n",
              "      <td>0</td>\n",
              "      <td>0</td>\n",
              "      <td>0</td>\n",
              "    </tr>\n",
              "  </tbody>\n",
              "</table>\n",
              "<p>5 rows × 83 columns</p>\n",
              "</div>\n",
              "      <button class=\"colab-df-convert\" onclick=\"convertToInteractive('df-c5d1f153-7990-4a3a-81a4-842ab7439c49')\"\n",
              "              title=\"Convert this dataframe to an interactive table.\"\n",
              "              style=\"display:none;\">\n",
              "        \n",
              "  <svg xmlns=\"http://www.w3.org/2000/svg\" height=\"24px\"viewBox=\"0 0 24 24\"\n",
              "       width=\"24px\">\n",
              "    <path d=\"M0 0h24v24H0V0z\" fill=\"none\"/>\n",
              "    <path d=\"M18.56 5.44l.94 2.06.94-2.06 2.06-.94-2.06-.94-.94-2.06-.94 2.06-2.06.94zm-11 1L8.5 8.5l.94-2.06 2.06-.94-2.06-.94L8.5 2.5l-.94 2.06-2.06.94zm10 10l.94 2.06.94-2.06 2.06-.94-2.06-.94-.94-2.06-.94 2.06-2.06.94z\"/><path d=\"M17.41 7.96l-1.37-1.37c-.4-.4-.92-.59-1.43-.59-.52 0-1.04.2-1.43.59L10.3 9.45l-7.72 7.72c-.78.78-.78 2.05 0 2.83L4 21.41c.39.39.9.59 1.41.59.51 0 1.02-.2 1.41-.59l7.78-7.78 2.81-2.81c.8-.78.8-2.07 0-2.86zM5.41 20L4 18.59l7.72-7.72 1.47 1.35L5.41 20z\"/>\n",
              "  </svg>\n",
              "      </button>\n",
              "      \n",
              "  <style>\n",
              "    .colab-df-container {\n",
              "      display:flex;\n",
              "      flex-wrap:wrap;\n",
              "      gap: 12px;\n",
              "    }\n",
              "\n",
              "    .colab-df-convert {\n",
              "      background-color: #E8F0FE;\n",
              "      border: none;\n",
              "      border-radius: 50%;\n",
              "      cursor: pointer;\n",
              "      display: none;\n",
              "      fill: #1967D2;\n",
              "      height: 32px;\n",
              "      padding: 0 0 0 0;\n",
              "      width: 32px;\n",
              "    }\n",
              "\n",
              "    .colab-df-convert:hover {\n",
              "      background-color: #E2EBFA;\n",
              "      box-shadow: 0px 1px 2px rgba(60, 64, 67, 0.3), 0px 1px 3px 1px rgba(60, 64, 67, 0.15);\n",
              "      fill: #174EA6;\n",
              "    }\n",
              "\n",
              "    [theme=dark] .colab-df-convert {\n",
              "      background-color: #3B4455;\n",
              "      fill: #D2E3FC;\n",
              "    }\n",
              "\n",
              "    [theme=dark] .colab-df-convert:hover {\n",
              "      background-color: #434B5C;\n",
              "      box-shadow: 0px 1px 3px 1px rgba(0, 0, 0, 0.15);\n",
              "      filter: drop-shadow(0px 1px 2px rgba(0, 0, 0, 0.3));\n",
              "      fill: #FFFFFF;\n",
              "    }\n",
              "  </style>\n",
              "\n",
              "      <script>\n",
              "        const buttonEl =\n",
              "          document.querySelector('#df-c5d1f153-7990-4a3a-81a4-842ab7439c49 button.colab-df-convert');\n",
              "        buttonEl.style.display =\n",
              "          google.colab.kernel.accessAllowed ? 'block' : 'none';\n",
              "\n",
              "        async function convertToInteractive(key) {\n",
              "          const element = document.querySelector('#df-c5d1f153-7990-4a3a-81a4-842ab7439c49');\n",
              "          const dataTable =\n",
              "            await google.colab.kernel.invokeFunction('convertToInteractive',\n",
              "                                                     [key], {});\n",
              "          if (!dataTable) return;\n",
              "\n",
              "          const docLinkHtml = 'Like what you see? Visit the ' +\n",
              "            '<a target=\"_blank\" href=https://colab.research.google.com/notebooks/data_table.ipynb>data table notebook</a>'\n",
              "            + ' to learn more about interactive tables.';\n",
              "          element.innerHTML = '';\n",
              "          dataTable['output_type'] = 'display_data';\n",
              "          await google.colab.output.renderOutput(dataTable, element);\n",
              "          const docLink = document.createElement('div');\n",
              "          docLink.innerHTML = docLinkHtml;\n",
              "          element.appendChild(docLink);\n",
              "        }\n",
              "      </script>\n",
              "    </div>\n",
              "  </div>\n",
              "  "
            ]
          },
          "metadata": {},
          "execution_count": 2
        }
      ]
    },
    {
      "cell_type": "code",
      "source": [
        "# save make as a series\n",
        "make = df['make']\n",
        "print(make)"
      ],
      "metadata": {
        "colab": {
          "base_uri": "https://localhost:8080/"
        },
        "id": "XLIx0DEmb7le",
        "outputId": "9b5d74a0-1815-4f7d-a510-13b5dd938dfc"
      },
      "execution_count": 3,
      "outputs": [
        {
          "output_type": "stream",
          "name": "stdout",
          "text": [
            "0        Alfa Romeo\n",
            "1           Ferrari\n",
            "2             Dodge\n",
            "3             Dodge\n",
            "4            Subaru\n",
            "            ...    \n",
            "41139        Subaru\n",
            "41140        Subaru\n",
            "41141        Subaru\n",
            "41142        Subaru\n",
            "41143        Subaru\n",
            "Name: make, Length: 41144, dtype: object\n"
          ]
        }
      ]
    },
    {
      "cell_type": "code",
      "source": [
        "# make is an object; conver to category\n",
        "make_cat = make.astype('category')\n",
        "print(make_cat)"
      ],
      "metadata": {
        "colab": {
          "base_uri": "https://localhost:8080/"
        },
        "id": "BPqRqR_tcAs9",
        "outputId": "aa3d91cb-5453-4f4f-edcb-2320fa7bfa78"
      },
      "execution_count": 4,
      "outputs": [
        {
          "output_type": "stream",
          "name": "stdout",
          "text": [
            "0        Alfa Romeo\n",
            "1           Ferrari\n",
            "2             Dodge\n",
            "3             Dodge\n",
            "4            Subaru\n",
            "            ...    \n",
            "41139        Subaru\n",
            "41140        Subaru\n",
            "41141        Subaru\n",
            "41142        Subaru\n",
            "41143        Subaru\n",
            "Name: make, Length: 41144, dtype: category\n",
            "Categories (136, object): ['AM General', 'ASC Incorporated', 'Acura', 'Alfa Romeo', ..., 'Volvo',\n",
            "                           'Wallace Environmental', 'Yugo', 'smart']\n"
          ]
        }
      ]
    },
    {
      "cell_type": "code",
      "source": [
        "# make has 136 unique values\n",
        "make.nunique()"
      ],
      "metadata": {
        "colab": {
          "base_uri": "https://localhost:8080/"
        },
        "id": "49EU9NGkcFZ8",
        "outputId": "8e6568df-b010-4e67-d10d-8157250369ff"
      },
      "execution_count": 5,
      "outputs": [
        {
          "output_type": "execute_result",
          "data": {
            "text/plain": [
              "136"
            ]
          },
          "metadata": {},
          "execution_count": 5
        }
      ]
    },
    {
      "cell_type": "code",
      "source": [
        "# make_cat takes up less memory than make\n",
        "print(make.memory_usage(deep = True))\n",
        "print(make_cat.memory_usage(deep = True))"
      ],
      "metadata": {
        "colab": {
          "base_uri": "https://localhost:8080/"
        },
        "id": "9bcQcU8tcJRD",
        "outputId": "bce84935-c486-40a3-c789-bde3c4726423"
      },
      "execution_count": 7,
      "outputs": [
        {
          "output_type": "stream",
          "name": "stdout",
          "text": [
            "2606395\n",
            "95888\n"
          ]
        }
      ]
    },
    {
      "cell_type": "code",
      "source": [
        "# turn make into an ordered category\n",
        "make_ordered_cat = make.astype(\n",
        "    pd.CategoricalDtype(\n",
        "        categories = sorted(make.unique()), ordered = True\n",
        "        )\n",
        ")\n",
        "\n",
        "print(make_ordered_cat)"
      ],
      "metadata": {
        "colab": {
          "base_uri": "https://localhost:8080/"
        },
        "id": "Iug27xCucWIA",
        "outputId": "81050434-4546-4247-9748-137eae73b8b4"
      },
      "execution_count": 19,
      "outputs": [
        {
          "output_type": "stream",
          "name": "stdout",
          "text": [
            "0        Alfa Romeo\n",
            "1           Ferrari\n",
            "2             Dodge\n",
            "3             Dodge\n",
            "4            Subaru\n",
            "            ...    \n",
            "41139        Subaru\n",
            "41140        Subaru\n",
            "41141        Subaru\n",
            "41142        Subaru\n",
            "41143        Subaru\n",
            "Name: make, Length: 41144, dtype: category\n",
            "Categories (136, object): ['AM General' < 'ASC Incorporated' < 'Acura' < 'Alfa Romeo' ... 'Volvo' <\n",
            "                           'Wallace Environmental' < 'Yugo' < 'smart']\n"
          ]
        }
      ]
    },
    {
      "cell_type": "code",
      "source": [
        "# with make_ordered_cat, can do things like the following:\n",
        "print(make_ordered_cat.min())\n",
        "# and also .max()"
      ],
      "metadata": {
        "colab": {
          "base_uri": "https://localhost:8080/"
        },
        "id": "a5bc7t1Xcjtk",
        "outputId": "5dfc955b-199a-481d-b8d0-0856bdef46fb"
      },
      "execution_count": 20,
      "outputs": [
        {
          "output_type": "stream",
          "name": "stdout",
          "text": [
            "AM General\n"
          ]
        }
      ]
    },
    {
      "cell_type": "code",
      "source": [
        "# current categories in make_cat\n",
        "make_cat.cat.categories"
      ],
      "metadata": {
        "colab": {
          "base_uri": "https://localhost:8080/"
        },
        "id": "CWNjarmedKPm",
        "outputId": "3da77d74-639b-4499-dfd7-d16ef412e813"
      },
      "execution_count": 22,
      "outputs": [
        {
          "output_type": "execute_result",
          "data": {
            "text/plain": [
              "Index(['AM General', 'ASC Incorporated', 'Acura', 'Alfa Romeo',\n",
              "       'American Motors Corporation', 'Aston Martin', 'Audi',\n",
              "       'Aurora Cars Ltd', 'Autokraft Limited', 'Avanti Motor Corporation',\n",
              "       ...\n",
              "       'Toyota', 'VPG', 'Vector', 'Vixen Motor Company',\n",
              "       'Volga Associated Automobile', 'Volkswagen', 'Volvo',\n",
              "       'Wallace Environmental', 'Yugo', 'smart'],\n",
              "      dtype='object', length=136)"
            ]
          },
          "metadata": {},
          "execution_count": 22
        }
      ]
    },
    {
      "cell_type": "code",
      "source": [
        "# change categories to lower case\n",
        "make_cat.cat.rename_categories(\n",
        "    [x.lower() for x in make_cat.cat.categories]   # change everything to lower case\n",
        ")"
      ],
      "metadata": {
        "colab": {
          "base_uri": "https://localhost:8080/"
        },
        "id": "qkQu66UOipTu",
        "outputId": "8a60d79d-86c3-4539-d80f-b6fed55ba760"
      },
      "execution_count": 26,
      "outputs": [
        {
          "output_type": "execute_result",
          "data": {
            "text/plain": [
              "0        alfa romeo\n",
              "1           ferrari\n",
              "2             dodge\n",
              "3             dodge\n",
              "4            subaru\n",
              "            ...    \n",
              "41139        subaru\n",
              "41140        subaru\n",
              "41141        subaru\n",
              "41142        subaru\n",
              "41143        subaru\n",
              "Name: make, Length: 41144, dtype: category\n",
              "Categories (136, object): ['am general', 'asc incorporated', 'acura', 'alfa romeo', ..., 'volvo',\n",
              "                           'wallace environmental', 'yugo', 'smart']"
            ]
          },
          "metadata": {},
          "execution_count": 26
        }
      ]
    },
    {
      "cell_type": "code",
      "source": [
        " [x.lower() for x in make_cat.cat.categories]  # square brackets indicate a list"
      ],
      "metadata": {
        "colab": {
          "base_uri": "https://localhost:8080/"
        },
        "id": "8WJ9W1lKiw3T",
        "outputId": "a745cdeb-d80e-4351-e5f7-bb63e3d6c625"
      },
      "execution_count": 33,
      "outputs": [
        {
          "output_type": "execute_result",
          "data": {
            "text/plain": [
              "['am general',\n",
              " 'asc incorporated',\n",
              " 'acura',\n",
              " 'alfa romeo',\n",
              " 'american motors corporation',\n",
              " 'aston martin',\n",
              " 'audi',\n",
              " 'aurora cars ltd',\n",
              " 'autokraft limited',\n",
              " 'avanti motor corporation',\n",
              " 'azure dynamics',\n",
              " 'bmw',\n",
              " 'bmw alpina',\n",
              " 'byd',\n",
              " 'bentley',\n",
              " 'bertone',\n",
              " 'bill dovell motor car company',\n",
              " 'bitter gmbh and co. kg',\n",
              " 'bugatti',\n",
              " 'buick',\n",
              " 'ccc engineering',\n",
              " 'coda automotive',\n",
              " 'cx automotive',\n",
              " 'cadillac',\n",
              " 'chevrolet',\n",
              " 'chrysler',\n",
              " 'consulier industries inc',\n",
              " 'dabryan coach builders inc',\n",
              " 'dacia',\n",
              " 'daewoo',\n",
              " 'daihatsu',\n",
              " 'dodge',\n",
              " 'e. p. dutton, inc.',\n",
              " 'eagle',\n",
              " 'environmental rsch and devp corp',\n",
              " 'evans automobiles',\n",
              " 'excalibur autos',\n",
              " 'federal coach',\n",
              " 'ferrari',\n",
              " 'fiat',\n",
              " 'fisker',\n",
              " 'ford',\n",
              " 'gmc',\n",
              " 'general motors',\n",
              " 'genesis',\n",
              " 'geo',\n",
              " 'goldacre',\n",
              " 'grumman allied industries',\n",
              " 'grumman olson',\n",
              " 'honda',\n",
              " 'hummer',\n",
              " 'hyundai',\n",
              " 'import foreign auto sales inc',\n",
              " 'import trade services',\n",
              " 'infiniti',\n",
              " 'isis imports ltd',\n",
              " 'isuzu',\n",
              " 'j.k. motors',\n",
              " 'jba motorcars, inc.',\n",
              " 'jaguar',\n",
              " 'jeep',\n",
              " 'karma',\n",
              " 'kenyon corporation of america',\n",
              " 'kia',\n",
              " 'koenigsegg',\n",
              " 'laforza automobile inc',\n",
              " 'lambda control systems',\n",
              " 'lamborghini',\n",
              " 'land rover',\n",
              " 'lexus',\n",
              " 'lincoln',\n",
              " 'london coach co inc',\n",
              " 'london taxi',\n",
              " 'lotus',\n",
              " 'mini',\n",
              " 'mahindra',\n",
              " 'maserati',\n",
              " 'maybach',\n",
              " 'mazda',\n",
              " 'mclaren automotive',\n",
              " 'mcevoy motors',\n",
              " 'mercedes-benz',\n",
              " 'mercury',\n",
              " 'merkur',\n",
              " 'mitsubishi',\n",
              " 'mobility ventures llc',\n",
              " 'morgan',\n",
              " 'nissan',\n",
              " 'oldsmobile',\n",
              " 'pas inc - gmc',\n",
              " 'pas, inc',\n",
              " 'pagani',\n",
              " 'panos',\n",
              " 'panoz auto-development',\n",
              " 'panther car company limited',\n",
              " 'peugeot',\n",
              " 'pininfarina',\n",
              " 'plymouth',\n",
              " 'pontiac',\n",
              " 'porsche',\n",
              " 'quantum technologies',\n",
              " 'qvale',\n",
              " 'ruf automobile',\n",
              " 'ram',\n",
              " 'red shift ltd.',\n",
              " 'renault',\n",
              " 'rolls-royce',\n",
              " 'roush performance',\n",
              " 'ruf automobile gmbh',\n",
              " 's and s coach company  e.p. dutton',\n",
              " 'srt',\n",
              " 'saab',\n",
              " 'saleen',\n",
              " 'saleen performance',\n",
              " 'saturn',\n",
              " 'scion',\n",
              " 'shelby',\n",
              " 'spyker',\n",
              " 'sterling',\n",
              " 'subaru',\n",
              " 'superior coaches div e.p. dutton',\n",
              " 'suzuki',\n",
              " 'tvr engineering ltd',\n",
              " 'tecstar, lp',\n",
              " 'tesla',\n",
              " 'texas coach company',\n",
              " 'toyota',\n",
              " 'vpg',\n",
              " 'vector',\n",
              " 'vixen motor company',\n",
              " 'volga associated automobile',\n",
              " 'volkswagen',\n",
              " 'volvo',\n",
              " 'wallace environmental',\n",
              " 'yugo',\n",
              " 'smart']"
            ]
          },
          "metadata": {},
          "execution_count": 33
        }
      ]
    },
    {
      "cell_type": "code",
      "source": [
        "# for first one hundred elements in make_cat, get counts for each make\n",
        "(\n",
        "    make_cat\n",
        "      .iloc[0:100]           # first 100, 0 thru 99\n",
        "      .value_counts()        # get counts; includes all categories, not just the ones in the first 100\n",
        "      .loc[lambda x: x > 0]  # only observed; remove when count isn't greater than 0\n",
        "      #.sum()                 # check to make sure it's 100; comment out when done\n",
        ")"
      ],
      "metadata": {
        "colab": {
          "base_uri": "https://localhost:8080/"
        },
        "id": "K10VkGoYjKJj",
        "outputId": "89edb4bc-ca9e-41cb-f859-9e306a0fdd1d"
      },
      "execution_count": 41,
      "outputs": [
        {
          "output_type": "execute_result",
          "data": {
            "text/plain": [
              "Dodge            17\n",
              "Oldsmobile        8\n",
              "Ford              8\n",
              "Buick             7\n",
              "Chevrolet         5\n",
              "Plymouth          5\n",
              "Mazda             5\n",
              "Cadillac          4\n",
              "Volkswagen        4\n",
              "Toyota            4\n",
              "Mercury           4\n",
              "Pontiac           4\n",
              "Hyundai           3\n",
              "Subaru            3\n",
              "BMW               3\n",
              "Nissan            3\n",
              "Infiniti          2\n",
              "CX Automotive     2\n",
              "Audi              2\n",
              "Volvo             2\n",
              "Ferrari           1\n",
              "Rolls-Royce       1\n",
              "Lexus             1\n",
              "Chrysler          1\n",
              "Alfa Romeo        1\n",
              "Name: make, dtype: int64"
            ]
          },
          "metadata": {},
          "execution_count": 41
        }
      ]
    },
    {
      "cell_type": "code",
      "source": [
        "# what does .first() do?\n",
        "\n",
        "# also part on generalizing which you skipped for now"
      ],
      "metadata": {
        "id": "9ZzleUNWj6St"
      },
      "execution_count": null,
      "outputs": []
    }
  ]
}