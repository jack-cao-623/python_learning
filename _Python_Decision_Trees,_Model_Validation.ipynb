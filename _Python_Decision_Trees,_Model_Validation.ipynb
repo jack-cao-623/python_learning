{
  "nbformat": 4,
  "nbformat_minor": 0,
  "metadata": {
    "colab": {
      "provenance": [],
      "toc_visible": true,
      "mount_file_id": "1jSy51DB9pSeeDRFDSmYodngIMuxZH-Gz",
      "authorship_tag": "ABX9TyOEGUaCXu0ijDs5JwLO9G+a",
      "include_colab_link": true
    },
    "kernelspec": {
      "name": "python3",
      "display_name": "Python 3"
    },
    "language_info": {
      "name": "python"
    }
  },
  "cells": [
    {
      "cell_type": "markdown",
      "metadata": {
        "id": "view-in-github",
        "colab_type": "text"
      },
      "source": [
        "<a href=\"https://colab.research.google.com/github/jack-cao-623/python_learning/blob/main/_Python_Decision_Trees%2C_Model_Validation.ipynb\" target=\"_parent\"><img src=\"https://colab.research.google.com/assets/colab-badge.svg\" alt=\"Open In Colab\"/></a>"
      ]
    },
    {
      "cell_type": "markdown",
      "source": [
        "# Python Decision Trees, Model Validation"
      ],
      "metadata": {
        "id": "97wTkjHdJYAT"
      }
    },
    {
      "cell_type": "markdown",
      "source": [
        "## Set up"
      ],
      "metadata": {
        "id": "oH--5_lsLtQ7"
      }
    },
    {
      "cell_type": "code",
      "execution_count": 3,
      "metadata": {
        "colab": {
          "base_uri": "https://localhost:8080/"
        },
        "id": "1SEKp5ldJWaM",
        "outputId": "30a654a7-d558-4d60-a4c6-3d7a8634af1a"
      },
      "outputs": [
        {
          "output_type": "stream",
          "name": "stdout",
          "text": [
            "Looking in indexes: https://pypi.org/simple, https://us-python.pkg.dev/colab-wheels/public/simple/\n",
            "Requirement already satisfied: kaggle in /usr/local/lib/python3.8/dist-packages (1.5.12)\n",
            "Requirement already satisfied: tqdm in /usr/local/lib/python3.8/dist-packages (from kaggle) (4.64.1)\n",
            "Requirement already satisfied: python-slugify in /usr/local/lib/python3.8/dist-packages (from kaggle) (7.0.0)\n",
            "Requirement already satisfied: six>=1.10 in /usr/local/lib/python3.8/dist-packages (from kaggle) (1.15.0)\n",
            "Requirement already satisfied: urllib3 in /usr/local/lib/python3.8/dist-packages (from kaggle) (1.24.3)\n",
            "Requirement already satisfied: python-dateutil in /usr/local/lib/python3.8/dist-packages (from kaggle) (2.8.2)\n",
            "Requirement already satisfied: certifi in /usr/local/lib/python3.8/dist-packages (from kaggle) (2022.9.24)\n",
            "Requirement already satisfied: requests in /usr/local/lib/python3.8/dist-packages (from kaggle) (2.23.0)\n",
            "Requirement already satisfied: text-unidecode>=1.3 in /usr/local/lib/python3.8/dist-packages (from python-slugify->kaggle) (1.3)\n",
            "Requirement already satisfied: chardet<4,>=3.0.2 in /usr/local/lib/python3.8/dist-packages (from requests->kaggle) (3.0.4)\n",
            "Requirement already satisfied: idna<3,>=2.5 in /usr/local/lib/python3.8/dist-packages (from requests->kaggle) (2.10)\n",
            "mkdir: cannot create directory ‘/root/.kaggle’: File exists\n",
            "train.csv: Skipping, found more recently modified local copy (use --force to force download)\n"
          ]
        }
      ],
      "source": [
        "# get data from kaggle\n",
        "  # first, mount google drive; click on file folder icon on left, then mount icon\n",
        "\n",
        "! pip install kaggle                                                # install kaggle library; may not need this? try without next time\n",
        "! mkdir ~/.kaggle                                                   # create directory named kaggle; may not need this? try without next time\n",
        "! cp /content/drive/MyDrive/kaggle.json ~/.kaggle/kaggle.json       # copy .json file from mounted drive to current instance; probably need this, but try without\n",
        "\n",
        "! kaggle competitions download home-data-for-ml-course -f train.csv # download train.csv from home-data-for-ml-course"
      ]
    },
    {
      "cell_type": "code",
      "source": [
        "# libraries needed\n",
        "import numpy as np\n",
        "import pandas as pd\n",
        "\n",
        "from sklearn.tree import DecisionTreeRegressor       # to fit decision tree\n",
        "from sklearn.metrics import mean_absolute_error      # to caluclate MAE\n",
        "from sklearn.model_selection import train_test_split # to split in training and test"
      ],
      "metadata": {
        "id": "rEw1h7hQKnsJ"
      },
      "execution_count": 16,
      "outputs": []
    },
    {
      "cell_type": "code",
      "source": [
        "# load data\n",
        "home_data = pd.read_csv('train.csv')\n",
        "\n",
        "# view\n",
        "home_data.head()"
      ],
      "metadata": {
        "colab": {
          "base_uri": "https://localhost:8080/",
          "height": 300
        },
        "id": "Xsb-a_KrMQgO",
        "outputId": "83a3ac5e-d477-4831-f0e4-d4c9fc19c549"
      },
      "execution_count": 17,
      "outputs": [
        {
          "output_type": "execute_result",
          "data": {
            "text/plain": [
              "   Id  MSSubClass MSZoning  LotFrontage  LotArea Street Alley LotShape  \\\n",
              "0   1          60       RL         65.0     8450   Pave   NaN      Reg   \n",
              "1   2          20       RL         80.0     9600   Pave   NaN      Reg   \n",
              "2   3          60       RL         68.0    11250   Pave   NaN      IR1   \n",
              "3   4          70       RL         60.0     9550   Pave   NaN      IR1   \n",
              "4   5          60       RL         84.0    14260   Pave   NaN      IR1   \n",
              "\n",
              "  LandContour Utilities  ... PoolArea PoolQC Fence MiscFeature MiscVal MoSold  \\\n",
              "0         Lvl    AllPub  ...        0    NaN   NaN         NaN       0      2   \n",
              "1         Lvl    AllPub  ...        0    NaN   NaN         NaN       0      5   \n",
              "2         Lvl    AllPub  ...        0    NaN   NaN         NaN       0      9   \n",
              "3         Lvl    AllPub  ...        0    NaN   NaN         NaN       0      2   \n",
              "4         Lvl    AllPub  ...        0    NaN   NaN         NaN       0     12   \n",
              "\n",
              "  YrSold  SaleType  SaleCondition  SalePrice  \n",
              "0   2008        WD         Normal     208500  \n",
              "1   2007        WD         Normal     181500  \n",
              "2   2008        WD         Normal     223500  \n",
              "3   2006        WD        Abnorml     140000  \n",
              "4   2008        WD         Normal     250000  \n",
              "\n",
              "[5 rows x 81 columns]"
            ],
            "text/html": [
              "\n",
              "  <div id=\"df-ba2ee83f-6f4b-471a-a584-863bc598da1e\">\n",
              "    <div class=\"colab-df-container\">\n",
              "      <div>\n",
              "<style scoped>\n",
              "    .dataframe tbody tr th:only-of-type {\n",
              "        vertical-align: middle;\n",
              "    }\n",
              "\n",
              "    .dataframe tbody tr th {\n",
              "        vertical-align: top;\n",
              "    }\n",
              "\n",
              "    .dataframe thead th {\n",
              "        text-align: right;\n",
              "    }\n",
              "</style>\n",
              "<table border=\"1\" class=\"dataframe\">\n",
              "  <thead>\n",
              "    <tr style=\"text-align: right;\">\n",
              "      <th></th>\n",
              "      <th>Id</th>\n",
              "      <th>MSSubClass</th>\n",
              "      <th>MSZoning</th>\n",
              "      <th>LotFrontage</th>\n",
              "      <th>LotArea</th>\n",
              "      <th>Street</th>\n",
              "      <th>Alley</th>\n",
              "      <th>LotShape</th>\n",
              "      <th>LandContour</th>\n",
              "      <th>Utilities</th>\n",
              "      <th>...</th>\n",
              "      <th>PoolArea</th>\n",
              "      <th>PoolQC</th>\n",
              "      <th>Fence</th>\n",
              "      <th>MiscFeature</th>\n",
              "      <th>MiscVal</th>\n",
              "      <th>MoSold</th>\n",
              "      <th>YrSold</th>\n",
              "      <th>SaleType</th>\n",
              "      <th>SaleCondition</th>\n",
              "      <th>SalePrice</th>\n",
              "    </tr>\n",
              "  </thead>\n",
              "  <tbody>\n",
              "    <tr>\n",
              "      <th>0</th>\n",
              "      <td>1</td>\n",
              "      <td>60</td>\n",
              "      <td>RL</td>\n",
              "      <td>65.0</td>\n",
              "      <td>8450</td>\n",
              "      <td>Pave</td>\n",
              "      <td>NaN</td>\n",
              "      <td>Reg</td>\n",
              "      <td>Lvl</td>\n",
              "      <td>AllPub</td>\n",
              "      <td>...</td>\n",
              "      <td>0</td>\n",
              "      <td>NaN</td>\n",
              "      <td>NaN</td>\n",
              "      <td>NaN</td>\n",
              "      <td>0</td>\n",
              "      <td>2</td>\n",
              "      <td>2008</td>\n",
              "      <td>WD</td>\n",
              "      <td>Normal</td>\n",
              "      <td>208500</td>\n",
              "    </tr>\n",
              "    <tr>\n",
              "      <th>1</th>\n",
              "      <td>2</td>\n",
              "      <td>20</td>\n",
              "      <td>RL</td>\n",
              "      <td>80.0</td>\n",
              "      <td>9600</td>\n",
              "      <td>Pave</td>\n",
              "      <td>NaN</td>\n",
              "      <td>Reg</td>\n",
              "      <td>Lvl</td>\n",
              "      <td>AllPub</td>\n",
              "      <td>...</td>\n",
              "      <td>0</td>\n",
              "      <td>NaN</td>\n",
              "      <td>NaN</td>\n",
              "      <td>NaN</td>\n",
              "      <td>0</td>\n",
              "      <td>5</td>\n",
              "      <td>2007</td>\n",
              "      <td>WD</td>\n",
              "      <td>Normal</td>\n",
              "      <td>181500</td>\n",
              "    </tr>\n",
              "    <tr>\n",
              "      <th>2</th>\n",
              "      <td>3</td>\n",
              "      <td>60</td>\n",
              "      <td>RL</td>\n",
              "      <td>68.0</td>\n",
              "      <td>11250</td>\n",
              "      <td>Pave</td>\n",
              "      <td>NaN</td>\n",
              "      <td>IR1</td>\n",
              "      <td>Lvl</td>\n",
              "      <td>AllPub</td>\n",
              "      <td>...</td>\n",
              "      <td>0</td>\n",
              "      <td>NaN</td>\n",
              "      <td>NaN</td>\n",
              "      <td>NaN</td>\n",
              "      <td>0</td>\n",
              "      <td>9</td>\n",
              "      <td>2008</td>\n",
              "      <td>WD</td>\n",
              "      <td>Normal</td>\n",
              "      <td>223500</td>\n",
              "    </tr>\n",
              "    <tr>\n",
              "      <th>3</th>\n",
              "      <td>4</td>\n",
              "      <td>70</td>\n",
              "      <td>RL</td>\n",
              "      <td>60.0</td>\n",
              "      <td>9550</td>\n",
              "      <td>Pave</td>\n",
              "      <td>NaN</td>\n",
              "      <td>IR1</td>\n",
              "      <td>Lvl</td>\n",
              "      <td>AllPub</td>\n",
              "      <td>...</td>\n",
              "      <td>0</td>\n",
              "      <td>NaN</td>\n",
              "      <td>NaN</td>\n",
              "      <td>NaN</td>\n",
              "      <td>0</td>\n",
              "      <td>2</td>\n",
              "      <td>2006</td>\n",
              "      <td>WD</td>\n",
              "      <td>Abnorml</td>\n",
              "      <td>140000</td>\n",
              "    </tr>\n",
              "    <tr>\n",
              "      <th>4</th>\n",
              "      <td>5</td>\n",
              "      <td>60</td>\n",
              "      <td>RL</td>\n",
              "      <td>84.0</td>\n",
              "      <td>14260</td>\n",
              "      <td>Pave</td>\n",
              "      <td>NaN</td>\n",
              "      <td>IR1</td>\n",
              "      <td>Lvl</td>\n",
              "      <td>AllPub</td>\n",
              "      <td>...</td>\n",
              "      <td>0</td>\n",
              "      <td>NaN</td>\n",
              "      <td>NaN</td>\n",
              "      <td>NaN</td>\n",
              "      <td>0</td>\n",
              "      <td>12</td>\n",
              "      <td>2008</td>\n",
              "      <td>WD</td>\n",
              "      <td>Normal</td>\n",
              "      <td>250000</td>\n",
              "    </tr>\n",
              "  </tbody>\n",
              "</table>\n",
              "<p>5 rows × 81 columns</p>\n",
              "</div>\n",
              "      <button class=\"colab-df-convert\" onclick=\"convertToInteractive('df-ba2ee83f-6f4b-471a-a584-863bc598da1e')\"\n",
              "              title=\"Convert this dataframe to an interactive table.\"\n",
              "              style=\"display:none;\">\n",
              "        \n",
              "  <svg xmlns=\"http://www.w3.org/2000/svg\" height=\"24px\"viewBox=\"0 0 24 24\"\n",
              "       width=\"24px\">\n",
              "    <path d=\"M0 0h24v24H0V0z\" fill=\"none\"/>\n",
              "    <path d=\"M18.56 5.44l.94 2.06.94-2.06 2.06-.94-2.06-.94-.94-2.06-.94 2.06-2.06.94zm-11 1L8.5 8.5l.94-2.06 2.06-.94-2.06-.94L8.5 2.5l-.94 2.06-2.06.94zm10 10l.94 2.06.94-2.06 2.06-.94-2.06-.94-.94-2.06-.94 2.06-2.06.94z\"/><path d=\"M17.41 7.96l-1.37-1.37c-.4-.4-.92-.59-1.43-.59-.52 0-1.04.2-1.43.59L10.3 9.45l-7.72 7.72c-.78.78-.78 2.05 0 2.83L4 21.41c.39.39.9.59 1.41.59.51 0 1.02-.2 1.41-.59l7.78-7.78 2.81-2.81c.8-.78.8-2.07 0-2.86zM5.41 20L4 18.59l7.72-7.72 1.47 1.35L5.41 20z\"/>\n",
              "  </svg>\n",
              "      </button>\n",
              "      \n",
              "  <style>\n",
              "    .colab-df-container {\n",
              "      display:flex;\n",
              "      flex-wrap:wrap;\n",
              "      gap: 12px;\n",
              "    }\n",
              "\n",
              "    .colab-df-convert {\n",
              "      background-color: #E8F0FE;\n",
              "      border: none;\n",
              "      border-radius: 50%;\n",
              "      cursor: pointer;\n",
              "      display: none;\n",
              "      fill: #1967D2;\n",
              "      height: 32px;\n",
              "      padding: 0 0 0 0;\n",
              "      width: 32px;\n",
              "    }\n",
              "\n",
              "    .colab-df-convert:hover {\n",
              "      background-color: #E2EBFA;\n",
              "      box-shadow: 0px 1px 2px rgba(60, 64, 67, 0.3), 0px 1px 3px 1px rgba(60, 64, 67, 0.15);\n",
              "      fill: #174EA6;\n",
              "    }\n",
              "\n",
              "    [theme=dark] .colab-df-convert {\n",
              "      background-color: #3B4455;\n",
              "      fill: #D2E3FC;\n",
              "    }\n",
              "\n",
              "    [theme=dark] .colab-df-convert:hover {\n",
              "      background-color: #434B5C;\n",
              "      box-shadow: 0px 1px 3px 1px rgba(0, 0, 0, 0.15);\n",
              "      filter: drop-shadow(0px 1px 2px rgba(0, 0, 0, 0.3));\n",
              "      fill: #FFFFFF;\n",
              "    }\n",
              "  </style>\n",
              "\n",
              "      <script>\n",
              "        const buttonEl =\n",
              "          document.querySelector('#df-ba2ee83f-6f4b-471a-a584-863bc598da1e button.colab-df-convert');\n",
              "        buttonEl.style.display =\n",
              "          google.colab.kernel.accessAllowed ? 'block' : 'none';\n",
              "\n",
              "        async function convertToInteractive(key) {\n",
              "          const element = document.querySelector('#df-ba2ee83f-6f4b-471a-a584-863bc598da1e');\n",
              "          const dataTable =\n",
              "            await google.colab.kernel.invokeFunction('convertToInteractive',\n",
              "                                                     [key], {});\n",
              "          if (!dataTable) return;\n",
              "\n",
              "          const docLinkHtml = 'Like what you see? Visit the ' +\n",
              "            '<a target=\"_blank\" href=https://colab.research.google.com/notebooks/data_table.ipynb>data table notebook</a>'\n",
              "            + ' to learn more about interactive tables.';\n",
              "          element.innerHTML = '';\n",
              "          dataTable['output_type'] = 'display_data';\n",
              "          await google.colab.output.renderOutput(dataTable, element);\n",
              "          const docLink = document.createElement('div');\n",
              "          docLink.innerHTML = docLinkHtml;\n",
              "          element.appendChild(docLink);\n",
              "        }\n",
              "      </script>\n",
              "    </div>\n",
              "  </div>\n",
              "  "
            ]
          },
          "metadata": {},
          "execution_count": 17
        }
      ]
    },
    {
      "cell_type": "markdown",
      "source": [
        "## Fit decision tree on entire dataset"
      ],
      "metadata": {
        "id": "KnBZfylzMd-V"
      }
    },
    {
      "cell_type": "code",
      "source": [
        "# set prediction target y\n",
        "y = home_data['SalePrice']\n",
        "print(y)"
      ],
      "metadata": {
        "colab": {
          "base_uri": "https://localhost:8080/"
        },
        "id": "EQUJpKV2MhMM",
        "outputId": "7ce039a4-77a7-4968-a59b-eba7cd26bba0"
      },
      "execution_count": 18,
      "outputs": [
        {
          "output_type": "stream",
          "name": "stdout",
          "text": [
            "0       208500\n",
            "1       181500\n",
            "2       223500\n",
            "3       140000\n",
            "4       250000\n",
            "         ...  \n",
            "1455    175000\n",
            "1456    210000\n",
            "1457    266500\n",
            "1458    142125\n",
            "1459    147500\n",
            "Name: SalePrice, Length: 1460, dtype: int64\n"
          ]
        }
      ]
    },
    {
      "cell_type": "code",
      "source": [
        "# set features, X, to predict y\n",
        "X = home_data[['LotArea', 'YearBuilt', '1stFlrSF', '2ndFlrSF', 'FullBath', 'BedroomAbvGr', 'TotRmsAbvGrd']]\n",
        "print(X)"
      ],
      "metadata": {
        "colab": {
          "base_uri": "https://localhost:8080/"
        },
        "id": "WrL8hT2VMlhb",
        "outputId": "406d4412-3ebc-4ec0-ca34-9ef9fc7e40a2"
      },
      "execution_count": 19,
      "outputs": [
        {
          "output_type": "stream",
          "name": "stdout",
          "text": [
            "      LotArea  YearBuilt  1stFlrSF  2ndFlrSF  FullBath  BedroomAbvGr  \\\n",
            "0        8450       2003       856       854         2             3   \n",
            "1        9600       1976      1262         0         2             3   \n",
            "2       11250       2001       920       866         2             3   \n",
            "3        9550       1915       961       756         1             3   \n",
            "4       14260       2000      1145      1053         2             4   \n",
            "...       ...        ...       ...       ...       ...           ...   \n",
            "1455     7917       1999       953       694         2             3   \n",
            "1456    13175       1978      2073         0         2             3   \n",
            "1457     9042       1941      1188      1152         2             4   \n",
            "1458     9717       1950      1078         0         1             2   \n",
            "1459     9937       1965      1256         0         1             3   \n",
            "\n",
            "      TotRmsAbvGrd  \n",
            "0                8  \n",
            "1                6  \n",
            "2                6  \n",
            "3                7  \n",
            "4                9  \n",
            "...            ...  \n",
            "1455             7  \n",
            "1456             7  \n",
            "1457             9  \n",
            "1458             5  \n",
            "1459             6  \n",
            "\n",
            "[1460 rows x 7 columns]\n"
          ]
        }
      ]
    },
    {
      "cell_type": "code",
      "source": [
        "# fit decision tree model\n",
        "iowa_model = DecisionTreeRegressor()\n",
        "iowa_model.fit(X, y)"
      ],
      "metadata": {
        "colab": {
          "base_uri": "https://localhost:8080/"
        },
        "id": "_DdXMXKfMtCZ",
        "outputId": "480ee0ed-4641-4db9-87de-047c5c43fd4e"
      },
      "execution_count": 20,
      "outputs": [
        {
          "output_type": "execute_result",
          "data": {
            "text/plain": [
              "DecisionTreeRegressor()"
            ]
          },
          "metadata": {},
          "execution_count": 20
        }
      ]
    },
    {
      "cell_type": "code",
      "source": [
        "# view predicted sale prices and compare to actual for some of the data\n",
        "print(iowa_model.predict(X.head()))  # predicted\n",
        "print(y.head().tolist())             # actual"
      ],
      "metadata": {
        "colab": {
          "base_uri": "https://localhost:8080/"
        },
        "id": "BbcksY9iM2no",
        "outputId": "eca75d34-a1f8-4b73-f504-ec7856f0ad7a"
      },
      "execution_count": 21,
      "outputs": [
        {
          "output_type": "stream",
          "name": "stdout",
          "text": [
            "[208500. 181500. 223500. 140000. 250000.]\n",
            "[208500, 181500, 223500, 140000, 250000]\n"
          ]
        }
      ]
    },
    {
      "cell_type": "code",
      "source": [
        "# calculate mean absolute error\n",
        "mean_absolute_error(iowa_model.predict(X), y)"
      ],
      "metadata": {
        "colab": {
          "base_uri": "https://localhost:8080/"
        },
        "id": "Imd9tMipNN2T",
        "outputId": "da91a8c0-dc94-47bb-e9f8-ce63229fa0aa"
      },
      "execution_count": 22,
      "outputs": [
        {
          "output_type": "execute_result",
          "data": {
            "text/plain": [
              "62.35433789954339"
            ]
          },
          "metadata": {},
          "execution_count": 22
        }
      ]
    },
    {
      "cell_type": "markdown",
      "source": [
        "## Fit decision on training, validate on test"
      ],
      "metadata": {
        "id": "jBC_3PeKN2ag"
      }
    },
    {
      "cell_type": "code",
      "source": [
        "# split into training and test\n",
        "X_train, X_test, y_train, y_test = train_test_split(X, y , random_state = 1)  # defaults to 75% train, 25% test"
      ],
      "metadata": {
        "id": "Wn6cirWRNweg"
      },
      "execution_count": 23,
      "outputs": []
    },
    {
      "cell_type": "code",
      "source": [
        "# understand how it was split\n",
        "  # for X\n",
        "print(X.shape)\n",
        "print(X_train.shape)\n",
        "print(X_test.shape)\n",
        "\n",
        "  # for y\n",
        "print(y.shape)\n",
        "print(y_train.shape)\n",
        "print(y_test.shape)"
      ],
      "metadata": {
        "colab": {
          "base_uri": "https://localhost:8080/"
        },
        "id": "Kq7dhM8kOEvK",
        "outputId": "fff69f2d-8131-4d2e-ece0-fa36758abf43"
      },
      "execution_count": 27,
      "outputs": [
        {
          "output_type": "stream",
          "name": "stdout",
          "text": [
            "(1460, 7)\n",
            "(1095, 7)\n",
            "(365, 7)\n",
            "(1460,)\n",
            "(1095,)\n",
            "(365,)\n"
          ]
        }
      ]
    },
    {
      "cell_type": "code",
      "source": [
        "# fit model on training set\n",
        "iowa_model_train = DecisionTreeRegressor(random_state = 1)\n",
        "iowa_model_train.fit(X_train, y_train)"
      ],
      "metadata": {
        "colab": {
          "base_uri": "https://localhost:8080/"
        },
        "id": "sNH7MhgFOLH6",
        "outputId": "35b234c5-87af-49f3-cef0-d313792c0532"
      },
      "execution_count": 30,
      "outputs": [
        {
          "output_type": "execute_result",
          "data": {
            "text/plain": [
              "DecisionTreeRegressor(random_state=1)"
            ]
          },
          "metadata": {},
          "execution_count": 30
        }
      ]
    },
    {
      "cell_type": "code",
      "source": [
        "# predicted values\n",
        "predicted_y = iowa_model_train.predict(X_test)\n",
        "print(predicted_y)"
      ],
      "metadata": {
        "colab": {
          "base_uri": "https://localhost:8080/"
        },
        "id": "S-YVj03XPAtx",
        "outputId": "4ba1c64d-f78a-4753-83aa-82c042951792"
      },
      "execution_count": 32,
      "outputs": [
        {
          "output_type": "stream",
          "name": "stdout",
          "text": [
            "[186500. 184000. 130000.  92000. 164500. 220000. 335000. 144152. 215000.\n",
            " 262000. 180000. 121000. 175900. 210000. 248900. 131000. 100000. 149350.\n",
            " 235000. 156000. 149900. 265979. 193500. 377500. 100000. 162900. 145000.\n",
            " 180000. 582933. 146000. 140000.  91500. 112500. 113000. 145000. 312500.\n",
            " 110000. 132000. 305000. 128000. 162900. 115000. 110000. 124000. 215200.\n",
            " 180000.  79000. 192000. 282922. 235000. 132000. 325000.  80000. 237000.\n",
            " 208300. 100000. 120500. 162000. 153000. 187000. 185750. 335000. 129000.\n",
            " 124900. 185750. 133700. 127000. 230000. 146800. 157900. 136000. 153575.\n",
            " 335000. 177500. 143000. 202500. 168500. 105000. 305900. 192000. 190000.\n",
            " 140200. 134900. 128950. 213000. 108959. 149500. 190000. 175900. 160000.\n",
            " 250580. 157000. 120500. 147500. 118000. 117000. 110000. 130000. 148500.\n",
            " 148000. 190000. 130500. 127000. 120500. 135000. 168000. 176432. 128000.\n",
            " 147000. 260000. 132000. 129500. 171000. 181134. 227875. 189000. 282922.\n",
            "  94750. 185000. 194000. 159000. 279500. 290000. 135000. 299800. 165000.\n",
            " 394432. 135750. 155000. 212000. 310000. 134800.  84000. 122900.  80000.\n",
            " 191000. 755000. 147000. 248000. 106500. 145000. 359100. 145000. 192500.\n",
            " 149000. 252000. 109000. 215000. 220000. 138500. 185000. 185000. 120500.\n",
            " 181000. 173000. 335000.  67000. 149350.  67000. 156000. 119000. 110500.\n",
            " 184000. 147000. 156000. 171000. 177000. 159000. 125000. 105000. 284000.\n",
            " 167500. 200000. 312500. 213000. 135960. 205000. 237000. 107000. 163000.\n",
            " 132500. 155835. 165500. 138500. 257000. 160000. 394617. 281213. 161000.\n",
            " 127500.  88000. 139000.  89500. 132500. 134800. 335000. 248900. 155000.\n",
            " 147000.  86000. 185000. 200000. 180500. 215200. 319900. 105000. 194000.\n",
            " 340000. 256000. 280000. 186500. 105500. 155000. 133500. 255500. 253000.\n",
            " 130000.  92900. 256000. 100000. 755000. 138500. 168500. 112000. 127000.\n",
            " 109008. 197000. 245500. 171900. 162000. 128000. 173000. 132000. 118000.\n",
            " 235128. 118964. 260000. 116000. 185000. 315750. 236500. 140000. 151500.\n",
            " 184000.  84000. 130000. 154000. 205000. 110000. 151500. 123000. 129500.\n",
            " 173900. 181500. 165500. 106500. 184900.  84500. 377500. 118500. 180000.\n",
            " 190000. 208500. 181000.  98000. 157000. 151500.  84000. 139000. 100000.\n",
            " 161750. 165600. 116000. 118500. 187000. 147000. 112000. 132000. 230000.\n",
            " 128000. 147000. 125000. 145000. 151000. 284000. 221000. 140200. 129000.\n",
            " 290000. 105000.  96500. 310000. 140000. 132000. 203000. 221000. 215200.\n",
            " 214000. 139000.  91500. 148000. 155000. 115000. 180000. 165500. 223000.\n",
            " 139000. 179900. 150000. 185000. 163000. 176000. 127000. 227000. 146000.\n",
            "  99900. 275000. 180500. 180000. 157000. 186500. 179900. 137500. 219500.\n",
            " 155000. 345000. 197000. 205000. 159000. 159434. 156000. 196000. 252678.\n",
            " 255500. 213000. 150900. 143750. 139000. 260000. 189000. 213250. 207500.\n",
            "  80000. 221000. 109500. 155000. 165000. 149350. 204900. 105900. 155000.\n",
            " 176000. 395000. 149700. 147000. 143900. 226700. 176000. 116000. 325300.\n",
            " 133750. 188500. 148500. 284000. 201800.]\n"
          ]
        }
      ]
    },
    {
      "cell_type": "code",
      "source": [
        "# calcluate MAE\n",
        "mean_absolute_error(predicted_y, y_test)"
      ],
      "metadata": {
        "colab": {
          "base_uri": "https://localhost:8080/"
        },
        "id": "Bn_3Sp0APN0x",
        "outputId": "f4c3aa15-947b-4b85-9d06-aca892d991e7"
      },
      "execution_count": 33,
      "outputs": [
        {
          "output_type": "execute_result",
          "data": {
            "text/plain": [
              "29652.931506849316"
            ]
          },
          "metadata": {},
          "execution_count": 33
        }
      ]
    },
    {
      "cell_type": "code",
      "source": [],
      "metadata": {
        "id": "Fpaez9E5PUvx"
      },
      "execution_count": null,
      "outputs": []
    }
  ]
}