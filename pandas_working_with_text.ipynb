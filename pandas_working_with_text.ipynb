{
  "nbformat": 4,
  "nbformat_minor": 0,
  "metadata": {
    "colab": {
      "provenance": [],
      "authorship_tag": "ABX9TyMgZH/x+CgGdp8aXHcGOVtk",
      "include_colab_link": true
    },
    "kernelspec": {
      "name": "python3",
      "display_name": "Python 3"
    },
    "language_info": {
      "name": "python"
    }
  },
  "cells": [
    {
      "cell_type": "markdown",
      "metadata": {
        "id": "view-in-github",
        "colab_type": "text"
      },
      "source": [
        "<a href=\"https://colab.research.google.com/github/jack-cao-623/python_learning/blob/main/pandas_working_with_text.ipynb\" target=\"_parent\"><img src=\"https://colab.research.google.com/assets/colab-badge.svg\" alt=\"Open In Colab\"/></a>"
      ]
    },
    {
      "cell_type": "markdown",
      "source": [
        "# Working with text"
      ],
      "metadata": {
        "id": "eOb1KBabNogU"
      }
    },
    {
      "cell_type": "code",
      "source": [
        "# libraries needed\n",
        "import numpy as np\n",
        "import pandas as pd"
      ],
      "metadata": {
        "id": "bSGlkRH3NpW2"
      },
      "execution_count": 2,
      "outputs": []
    },
    {
      "cell_type": "code",
      "source": [
        "# load data\n",
        "chicago = pd.read_csv(\n",
        "    'https://raw.githubusercontent.com/jack-cao-623/python_learning/main/pandas/chicago.csv'\n",
        ")\n",
        "\n",
        "chicago.head()"
      ],
      "metadata": {
        "colab": {
          "base_uri": "https://localhost:8080/",
          "height": 206
        },
        "id": "v5Bi6gICNtFi",
        "outputId": "1b26556c-e200-4011-8a44-00ac899d2e77"
      },
      "execution_count": 3,
      "outputs": [
        {
          "output_type": "execute_result",
          "data": {
            "text/plain": [
              "                  Name            Position Title        Department  \\\n",
              "0      AARON,  ELVIA J          WATER RATE TAKER       WATER MGMNT   \n",
              "1    AARON,  JEFFERY M            POLICE OFFICER            POLICE   \n",
              "2       AARON,  KARINA            POLICE OFFICER            POLICE   \n",
              "3  AARON,  KIMBERLEI R  CHIEF CONTRACT EXPEDITER  GENERAL SERVICES   \n",
              "4  ABAD JR,  VICENTE M         CIVIL ENGINEER IV       WATER MGMNT   \n",
              "\n",
              "  Employee Annual Salary  \n",
              "0              $90744.00  \n",
              "1              $84450.00  \n",
              "2              $84450.00  \n",
              "3              $89880.00  \n",
              "4             $106836.00  "
            ],
            "text/html": [
              "\n",
              "  <div id=\"df-b3c60127-1e13-4847-bba3-b5abe334736f\">\n",
              "    <div class=\"colab-df-container\">\n",
              "      <div>\n",
              "<style scoped>\n",
              "    .dataframe tbody tr th:only-of-type {\n",
              "        vertical-align: middle;\n",
              "    }\n",
              "\n",
              "    .dataframe tbody tr th {\n",
              "        vertical-align: top;\n",
              "    }\n",
              "\n",
              "    .dataframe thead th {\n",
              "        text-align: right;\n",
              "    }\n",
              "</style>\n",
              "<table border=\"1\" class=\"dataframe\">\n",
              "  <thead>\n",
              "    <tr style=\"text-align: right;\">\n",
              "      <th></th>\n",
              "      <th>Name</th>\n",
              "      <th>Position Title</th>\n",
              "      <th>Department</th>\n",
              "      <th>Employee Annual Salary</th>\n",
              "    </tr>\n",
              "  </thead>\n",
              "  <tbody>\n",
              "    <tr>\n",
              "      <th>0</th>\n",
              "      <td>AARON,  ELVIA J</td>\n",
              "      <td>WATER RATE TAKER</td>\n",
              "      <td>WATER MGMNT</td>\n",
              "      <td>$90744.00</td>\n",
              "    </tr>\n",
              "    <tr>\n",
              "      <th>1</th>\n",
              "      <td>AARON,  JEFFERY M</td>\n",
              "      <td>POLICE OFFICER</td>\n",
              "      <td>POLICE</td>\n",
              "      <td>$84450.00</td>\n",
              "    </tr>\n",
              "    <tr>\n",
              "      <th>2</th>\n",
              "      <td>AARON,  KARINA</td>\n",
              "      <td>POLICE OFFICER</td>\n",
              "      <td>POLICE</td>\n",
              "      <td>$84450.00</td>\n",
              "    </tr>\n",
              "    <tr>\n",
              "      <th>3</th>\n",
              "      <td>AARON,  KIMBERLEI R</td>\n",
              "      <td>CHIEF CONTRACT EXPEDITER</td>\n",
              "      <td>GENERAL SERVICES</td>\n",
              "      <td>$89880.00</td>\n",
              "    </tr>\n",
              "    <tr>\n",
              "      <th>4</th>\n",
              "      <td>ABAD JR,  VICENTE M</td>\n",
              "      <td>CIVIL ENGINEER IV</td>\n",
              "      <td>WATER MGMNT</td>\n",
              "      <td>$106836.00</td>\n",
              "    </tr>\n",
              "  </tbody>\n",
              "</table>\n",
              "</div>\n",
              "      <button class=\"colab-df-convert\" onclick=\"convertToInteractive('df-b3c60127-1e13-4847-bba3-b5abe334736f')\"\n",
              "              title=\"Convert this dataframe to an interactive table.\"\n",
              "              style=\"display:none;\">\n",
              "        \n",
              "  <svg xmlns=\"http://www.w3.org/2000/svg\" height=\"24px\"viewBox=\"0 0 24 24\"\n",
              "       width=\"24px\">\n",
              "    <path d=\"M0 0h24v24H0V0z\" fill=\"none\"/>\n",
              "    <path d=\"M18.56 5.44l.94 2.06.94-2.06 2.06-.94-2.06-.94-.94-2.06-.94 2.06-2.06.94zm-11 1L8.5 8.5l.94-2.06 2.06-.94-2.06-.94L8.5 2.5l-.94 2.06-2.06.94zm10 10l.94 2.06.94-2.06 2.06-.94-2.06-.94-.94-2.06-.94 2.06-2.06.94z\"/><path d=\"M17.41 7.96l-1.37-1.37c-.4-.4-.92-.59-1.43-.59-.52 0-1.04.2-1.43.59L10.3 9.45l-7.72 7.72c-.78.78-.78 2.05 0 2.83L4 21.41c.39.39.9.59 1.41.59.51 0 1.02-.2 1.41-.59l7.78-7.78 2.81-2.81c.8-.78.8-2.07 0-2.86zM5.41 20L4 18.59l7.72-7.72 1.47 1.35L5.41 20z\"/>\n",
              "  </svg>\n",
              "      </button>\n",
              "      \n",
              "  <style>\n",
              "    .colab-df-container {\n",
              "      display:flex;\n",
              "      flex-wrap:wrap;\n",
              "      gap: 12px;\n",
              "    }\n",
              "\n",
              "    .colab-df-convert {\n",
              "      background-color: #E8F0FE;\n",
              "      border: none;\n",
              "      border-radius: 50%;\n",
              "      cursor: pointer;\n",
              "      display: none;\n",
              "      fill: #1967D2;\n",
              "      height: 32px;\n",
              "      padding: 0 0 0 0;\n",
              "      width: 32px;\n",
              "    }\n",
              "\n",
              "    .colab-df-convert:hover {\n",
              "      background-color: #E2EBFA;\n",
              "      box-shadow: 0px 1px 2px rgba(60, 64, 67, 0.3), 0px 1px 3px 1px rgba(60, 64, 67, 0.15);\n",
              "      fill: #174EA6;\n",
              "    }\n",
              "\n",
              "    [theme=dark] .colab-df-convert {\n",
              "      background-color: #3B4455;\n",
              "      fill: #D2E3FC;\n",
              "    }\n",
              "\n",
              "    [theme=dark] .colab-df-convert:hover {\n",
              "      background-color: #434B5C;\n",
              "      box-shadow: 0px 1px 3px 1px rgba(0, 0, 0, 0.15);\n",
              "      filter: drop-shadow(0px 1px 2px rgba(0, 0, 0, 0.3));\n",
              "      fill: #FFFFFF;\n",
              "    }\n",
              "  </style>\n",
              "\n",
              "      <script>\n",
              "        const buttonEl =\n",
              "          document.querySelector('#df-b3c60127-1e13-4847-bba3-b5abe334736f button.colab-df-convert');\n",
              "        buttonEl.style.display =\n",
              "          google.colab.kernel.accessAllowed ? 'block' : 'none';\n",
              "\n",
              "        async function convertToInteractive(key) {\n",
              "          const element = document.querySelector('#df-b3c60127-1e13-4847-bba3-b5abe334736f');\n",
              "          const dataTable =\n",
              "            await google.colab.kernel.invokeFunction('convertToInteractive',\n",
              "                                                     [key], {});\n",
              "          if (!dataTable) return;\n",
              "\n",
              "          const docLinkHtml = 'Like what you see? Visit the ' +\n",
              "            '<a target=\"_blank\" href=https://colab.research.google.com/notebooks/data_table.ipynb>data table notebook</a>'\n",
              "            + ' to learn more about interactive tables.';\n",
              "          element.innerHTML = '';\n",
              "          dataTable['output_type'] = 'display_data';\n",
              "          await google.colab.output.renderOutput(dataTable, element);\n",
              "          const docLink = document.createElement('div');\n",
              "          docLink.innerHTML = docLinkHtml;\n",
              "          element.appendChild(docLink);\n",
              "        }\n",
              "      </script>\n",
              "    </div>\n",
              "  </div>\n",
              "  "
            ]
          },
          "metadata": {},
          "execution_count": 3
        }
      ]
    },
    {
      "cell_type": "code",
      "source": [
        "# number of rows and columns\n",
        "chicago.shape"
      ],
      "metadata": {
        "colab": {
          "base_uri": "https://localhost:8080/"
        },
        "id": "ZwrpE1NXOOvX",
        "outputId": "bc46320a-350d-4a5f-eea0-e0862ba20ecd"
      },
      "execution_count": 4,
      "outputs": [
        {
          "output_type": "execute_result",
          "data": {
            "text/plain": [
              "(32063, 4)"
            ]
          },
          "metadata": {},
          "execution_count": 4
        }
      ]
    },
    {
      "cell_type": "code",
      "source": [
        "# data types, non-null counts, and memory usage\n",
        "chicago.info()"
      ],
      "metadata": {
        "colab": {
          "base_uri": "https://localhost:8080/"
        },
        "id": "PdSOVbZyOVrG",
        "outputId": "fe3e104f-11c1-4cce-d5cc-0be480cc00eb"
      },
      "execution_count": 5,
      "outputs": [
        {
          "output_type": "stream",
          "name": "stdout",
          "text": [
            "<class 'pandas.core.frame.DataFrame'>\n",
            "RangeIndex: 32063 entries, 0 to 32062\n",
            "Data columns (total 4 columns):\n",
            " #   Column                  Non-Null Count  Dtype \n",
            "---  ------                  --------------  ----- \n",
            " 0   Name                    32062 non-null  object\n",
            " 1   Position Title          32062 non-null  object\n",
            " 2   Department              32062 non-null  object\n",
            " 3   Employee Annual Salary  32062 non-null  object\n",
            "dtypes: object(4)\n",
            "memory usage: 1002.1+ KB\n"
          ]
        }
      ]
    },
    {
      "cell_type": "code",
      "source": [
        "# number of unique values for each column/Series\n",
        "chicago.nunique()\n",
        "\n",
        "# convert 'Department' to category"
      ],
      "metadata": {
        "colab": {
          "base_uri": "https://localhost:8080/"
        },
        "id": "QSr7m1DtO0zS",
        "outputId": "4f09d3bf-89ab-4ad4-c9cc-09d656369f1b"
      },
      "execution_count": 6,
      "outputs": [
        {
          "output_type": "execute_result",
          "data": {
            "text/plain": [
              "Name                      31776\n",
              "Position Title             1093\n",
              "Department                   35\n",
              "Employee Annual Salary     1156\n",
              "dtype: int64"
            ]
          },
          "metadata": {},
          "execution_count": 6
        }
      ]
    },
    {
      "cell_type": "code",
      "source": [
        "# convert 'Department' to category for memory optimization\n",
        "chicago['Department'] = chicago['Department'].astype('category')\n",
        "\n",
        "# memory savings\n",
        "chicago.info()       # from 1002 kb to 784 kb"
      ],
      "metadata": {
        "colab": {
          "base_uri": "https://localhost:8080/"
        },
        "id": "yaEFGwkROYwO",
        "outputId": "e1d6fab0-b8c4-495d-a12a-fc7f49a96b7b"
      },
      "execution_count": 7,
      "outputs": [
        {
          "output_type": "stream",
          "name": "stdout",
          "text": [
            "<class 'pandas.core.frame.DataFrame'>\n",
            "RangeIndex: 32063 entries, 0 to 32062\n",
            "Data columns (total 4 columns):\n",
            " #   Column                  Non-Null Count  Dtype   \n",
            "---  ------                  --------------  -----   \n",
            " 0   Name                    32062 non-null  object  \n",
            " 1   Position Title          32062 non-null  object  \n",
            " 2   Department              32062 non-null  category\n",
            " 3   Employee Annual Salary  32062 non-null  object  \n",
            "dtypes: category(1), object(3)\n",
            "memory usage: 784.2+ KB\n"
          ]
        }
      ]
    },
    {
      "cell_type": "code",
      "source": [
        "# import data\n",
        "chicago = pd.read_csv(\n",
        "    'https://raw.githubusercontent.com/jack-cao-623/python_learning/main/pandas/chicago.csv'\n",
        ")\n",
        "\n",
        "# convert 'Department' to category for memory savings\n",
        "chicago['Department'] = chicago['Department'].astype('category')\n",
        "\n",
        "# drop rows where all values are missing\n",
        "chicago = chicago.dropna(how = 'all')"
      ],
      "metadata": {
        "id": "8rLyu4DjOlPz"
      },
      "execution_count": 8,
      "outputs": []
    },
    {
      "cell_type": "markdown",
      "source": [
        "## Common string methods\n",
        "- .lower() method: convert all characters to lower case\n",
        "- .upper() method: convert all characters to upper case\n",
        "- .title() method: capitalize only the first letter of each word, based on space\n",
        "- len() function or df['col'].str.len(): count number of characters in a string\n",
        "- for a series, need .str pre-fix\n",
        "  - df['col'].str.len()\n",
        "  - df['col'].str.upper()\n",
        "  - df['col'].str.lower()\n",
        "  - df['col'].str.title()\n"
      ],
      "metadata": {
        "id": "1mAC2_QxPdd8"
      }
    },
    {
      "cell_type": "code",
      "source": [
        "# import data\n",
        "chicago = pd.read_csv(\n",
        "    'https://raw.githubusercontent.com/jack-cao-623/python_learning/main/pandas/chicago.csv'\n",
        ")\n",
        "\n",
        "# convert 'Department' to category for memory savings\n",
        "chicago['Department'] = chicago['Department'].astype('category')\n",
        "\n",
        "# drop rows where all values are missing\n",
        "chicago = chicago.dropna(how = 'all')"
      ],
      "metadata": {
        "id": "7b6j7rrbPZtz"
      },
      "execution_count": 9,
      "outputs": []
    },
    {
      "cell_type": "code",
      "source": [
        "# regular python stirngs\n",
        "\n",
        "# convert all to lower case\n",
        "'Some Characters are in UPPER CASE others are in lower case'.lower()"
      ],
      "metadata": {
        "colab": {
          "base_uri": "https://localhost:8080/",
          "height": 204
        },
        "id": "4mQtAxf5Pnfm",
        "outputId": "47165da7-42af-41f6-c9ca-3a37d583cb49"
      },
      "execution_count": 42,
      "outputs": [
        {
          "output_type": "error",
          "ename": "AttributeError",
          "evalue": "ignored",
          "traceback": [
            "\u001b[0;31m---------------------------------------------------------------------------\u001b[0m",
            "\u001b[0;31mAttributeError\u001b[0m                            Traceback (most recent call last)",
            "\u001b[0;32m<ipython-input-42-b90eb6b6f201>\u001b[0m in \u001b[0;36m<module>\u001b[0;34m\u001b[0m\n\u001b[1;32m      2\u001b[0m \u001b[0;34m\u001b[0m\u001b[0m\n\u001b[1;32m      3\u001b[0m \u001b[0;31m# convert all to lower case\u001b[0m\u001b[0;34m\u001b[0m\u001b[0;34m\u001b[0m\u001b[0;34m\u001b[0m\u001b[0m\n\u001b[0;32m----> 4\u001b[0;31m \u001b[0;34m'Some Characters are in UPPER CASE others are in lower case'\u001b[0m\u001b[0;34m.\u001b[0m\u001b[0mstr\u001b[0m\u001b[0;34m.\u001b[0m\u001b[0mlower\u001b[0m\u001b[0;34m(\u001b[0m\u001b[0;34m)\u001b[0m\u001b[0;34m\u001b[0m\u001b[0;34m\u001b[0m\u001b[0m\n\u001b[0m",
            "\u001b[0;31mAttributeError\u001b[0m: 'str' object has no attribute 'str'"
          ]
        }
      ]
    },
    {
      "cell_type": "code",
      "source": [
        "# convert all to upper case\n",
        "'Some Characters are in UPPER CASE others are in lower case'.upper()"
      ],
      "metadata": {
        "colab": {
          "base_uri": "https://localhost:8080/",
          "height": 35
        },
        "id": "7ksDj-iFN0FF",
        "outputId": "d832ab69-76b1-49c9-b9b4-caaf5c2e3800"
      },
      "execution_count": 33,
      "outputs": [
        {
          "output_type": "execute_result",
          "data": {
            "text/plain": [
              "'SOME CHARACTERS ARE IN UPPER CASE OTHERS ARE IN LOWER CASE'"
            ],
            "application/vnd.google.colaboratory.intrinsic+json": {
              "type": "string"
            }
          },
          "metadata": {},
          "execution_count": 33
        }
      ]
    },
    {
      "cell_type": "code",
      "source": [
        "# capitalize first letter of each word; based on spaces\n",
        "'Some Characters are in UPPER CASE others are in lower case'.title()"
      ],
      "metadata": {
        "colab": {
          "base_uri": "https://localhost:8080/",
          "height": 35
        },
        "id": "sUD2gSRZTBeG",
        "outputId": "6933298b-0081-4634-9e7f-0956f4fe04d9"
      },
      "execution_count": 34,
      "outputs": [
        {
          "output_type": "execute_result",
          "data": {
            "text/plain": [
              "'Some Characters Are In Upper Case Others Are In Lower Case'"
            ],
            "application/vnd.google.colaboratory.intrinsic+json": {
              "type": "string"
            }
          },
          "metadata": {},
          "execution_count": 34
        }
      ]
    },
    {
      "cell_type": "code",
      "source": [
        "# number of characters; not a method that's called; it's a built-in function\n",
        "len('this')"
      ],
      "metadata": {
        "colab": {
          "base_uri": "https://localhost:8080/"
        },
        "id": "lIP-fAk7TC1t",
        "outputId": "87b510c5-52ab-4c18-93e5-33ed5057f6fd"
      },
      "execution_count": 36,
      "outputs": [
        {
          "output_type": "execute_result",
          "data": {
            "text/plain": [
              "4"
            ]
          },
          "metadata": {},
          "execution_count": 36
        }
      ]
    },
    {
      "cell_type": "code",
      "source": [
        "# convert 'Name' Series/column to lowercase\n",
        "chicago['Name'].str.lower()                      # .str precursor; str for string"
      ],
      "metadata": {
        "colab": {
          "base_uri": "https://localhost:8080/"
        },
        "id": "3nZM_w46TZDR",
        "outputId": "4fbb2cdc-8b39-468f-eb5f-5a242cab3d51"
      },
      "execution_count": 41,
      "outputs": [
        {
          "output_type": "execute_result",
          "data": {
            "text/plain": [
              "0            aaron,  elvia j\n",
              "1          aaron,  jeffery m\n",
              "2             aaron,  karina\n",
              "3        aaron,  kimberlei r\n",
              "4        abad jr,  vicente m\n",
              "                ...         \n",
              "32057    zygadlo,  michael j\n",
              "32058     zygowicz,  peter j\n",
              "32059      zymantas,  mark e\n",
              "32060    zyrkowski,  carlo e\n",
              "32061    zyskowski,  dariusz\n",
              "Name: Name, Length: 32062, dtype: object"
            ]
          },
          "metadata": {},
          "execution_count": 41
        }
      ]
    },
    {
      "cell_type": "code",
      "source": [
        "# capitalize first letter in 'Name'\n",
        "chicago['Name'] = chicago['Name'].str.title()                     # need .str precursor\n",
        "\n",
        "# examine\n",
        "chicago.head()"
      ],
      "metadata": {
        "colab": {
          "base_uri": "https://localhost:8080/",
          "height": 206
        },
        "id": "AGQPdYjvTrjF",
        "outputId": "81c05eec-5be0-4a3f-8adc-4d23d332d55d"
      },
      "execution_count": 46,
      "outputs": [
        {
          "output_type": "execute_result",
          "data": {
            "text/plain": [
              "                  Name            Position Title        Department  \\\n",
              "0      Aaron,  Elvia J          WATER RATE TAKER       WATER MGMNT   \n",
              "1    Aaron,  Jeffery M            POLICE OFFICER            POLICE   \n",
              "2       Aaron,  Karina            POLICE OFFICER            POLICE   \n",
              "3  Aaron,  Kimberlei R  CHIEF CONTRACT EXPEDITER  GENERAL SERVICES   \n",
              "4  Abad Jr,  Vicente M         CIVIL ENGINEER IV       WATER MGMNT   \n",
              "\n",
              "  Employee Annual Salary  \n",
              "0              $90744.00  \n",
              "1              $84450.00  \n",
              "2              $84450.00  \n",
              "3              $89880.00  \n",
              "4             $106836.00  "
            ],
            "text/html": [
              "\n",
              "  <div id=\"df-84870771-ad47-4598-b59d-471b3d3c727e\">\n",
              "    <div class=\"colab-df-container\">\n",
              "      <div>\n",
              "<style scoped>\n",
              "    .dataframe tbody tr th:only-of-type {\n",
              "        vertical-align: middle;\n",
              "    }\n",
              "\n",
              "    .dataframe tbody tr th {\n",
              "        vertical-align: top;\n",
              "    }\n",
              "\n",
              "    .dataframe thead th {\n",
              "        text-align: right;\n",
              "    }\n",
              "</style>\n",
              "<table border=\"1\" class=\"dataframe\">\n",
              "  <thead>\n",
              "    <tr style=\"text-align: right;\">\n",
              "      <th></th>\n",
              "      <th>Name</th>\n",
              "      <th>Position Title</th>\n",
              "      <th>Department</th>\n",
              "      <th>Employee Annual Salary</th>\n",
              "    </tr>\n",
              "  </thead>\n",
              "  <tbody>\n",
              "    <tr>\n",
              "      <th>0</th>\n",
              "      <td>Aaron,  Elvia J</td>\n",
              "      <td>WATER RATE TAKER</td>\n",
              "      <td>WATER MGMNT</td>\n",
              "      <td>$90744.00</td>\n",
              "    </tr>\n",
              "    <tr>\n",
              "      <th>1</th>\n",
              "      <td>Aaron,  Jeffery M</td>\n",
              "      <td>POLICE OFFICER</td>\n",
              "      <td>POLICE</td>\n",
              "      <td>$84450.00</td>\n",
              "    </tr>\n",
              "    <tr>\n",
              "      <th>2</th>\n",
              "      <td>Aaron,  Karina</td>\n",
              "      <td>POLICE OFFICER</td>\n",
              "      <td>POLICE</td>\n",
              "      <td>$84450.00</td>\n",
              "    </tr>\n",
              "    <tr>\n",
              "      <th>3</th>\n",
              "      <td>Aaron,  Kimberlei R</td>\n",
              "      <td>CHIEF CONTRACT EXPEDITER</td>\n",
              "      <td>GENERAL SERVICES</td>\n",
              "      <td>$89880.00</td>\n",
              "    </tr>\n",
              "    <tr>\n",
              "      <th>4</th>\n",
              "      <td>Abad Jr,  Vicente M</td>\n",
              "      <td>CIVIL ENGINEER IV</td>\n",
              "      <td>WATER MGMNT</td>\n",
              "      <td>$106836.00</td>\n",
              "    </tr>\n",
              "  </tbody>\n",
              "</table>\n",
              "</div>\n",
              "      <button class=\"colab-df-convert\" onclick=\"convertToInteractive('df-84870771-ad47-4598-b59d-471b3d3c727e')\"\n",
              "              title=\"Convert this dataframe to an interactive table.\"\n",
              "              style=\"display:none;\">\n",
              "        \n",
              "  <svg xmlns=\"http://www.w3.org/2000/svg\" height=\"24px\"viewBox=\"0 0 24 24\"\n",
              "       width=\"24px\">\n",
              "    <path d=\"M0 0h24v24H0V0z\" fill=\"none\"/>\n",
              "    <path d=\"M18.56 5.44l.94 2.06.94-2.06 2.06-.94-2.06-.94-.94-2.06-.94 2.06-2.06.94zm-11 1L8.5 8.5l.94-2.06 2.06-.94-2.06-.94L8.5 2.5l-.94 2.06-2.06.94zm10 10l.94 2.06.94-2.06 2.06-.94-2.06-.94-.94-2.06-.94 2.06-2.06.94z\"/><path d=\"M17.41 7.96l-1.37-1.37c-.4-.4-.92-.59-1.43-.59-.52 0-1.04.2-1.43.59L10.3 9.45l-7.72 7.72c-.78.78-.78 2.05 0 2.83L4 21.41c.39.39.9.59 1.41.59.51 0 1.02-.2 1.41-.59l7.78-7.78 2.81-2.81c.8-.78.8-2.07 0-2.86zM5.41 20L4 18.59l7.72-7.72 1.47 1.35L5.41 20z\"/>\n",
              "  </svg>\n",
              "      </button>\n",
              "      \n",
              "  <style>\n",
              "    .colab-df-container {\n",
              "      display:flex;\n",
              "      flex-wrap:wrap;\n",
              "      gap: 12px;\n",
              "    }\n",
              "\n",
              "    .colab-df-convert {\n",
              "      background-color: #E8F0FE;\n",
              "      border: none;\n",
              "      border-radius: 50%;\n",
              "      cursor: pointer;\n",
              "      display: none;\n",
              "      fill: #1967D2;\n",
              "      height: 32px;\n",
              "      padding: 0 0 0 0;\n",
              "      width: 32px;\n",
              "    }\n",
              "\n",
              "    .colab-df-convert:hover {\n",
              "      background-color: #E2EBFA;\n",
              "      box-shadow: 0px 1px 2px rgba(60, 64, 67, 0.3), 0px 1px 3px 1px rgba(60, 64, 67, 0.15);\n",
              "      fill: #174EA6;\n",
              "    }\n",
              "\n",
              "    [theme=dark] .colab-df-convert {\n",
              "      background-color: #3B4455;\n",
              "      fill: #D2E3FC;\n",
              "    }\n",
              "\n",
              "    [theme=dark] .colab-df-convert:hover {\n",
              "      background-color: #434B5C;\n",
              "      box-shadow: 0px 1px 3px 1px rgba(0, 0, 0, 0.15);\n",
              "      filter: drop-shadow(0px 1px 2px rgba(0, 0, 0, 0.3));\n",
              "      fill: #FFFFFF;\n",
              "    }\n",
              "  </style>\n",
              "\n",
              "      <script>\n",
              "        const buttonEl =\n",
              "          document.querySelector('#df-84870771-ad47-4598-b59d-471b3d3c727e button.colab-df-convert');\n",
              "        buttonEl.style.display =\n",
              "          google.colab.kernel.accessAllowed ? 'block' : 'none';\n",
              "\n",
              "        async function convertToInteractive(key) {\n",
              "          const element = document.querySelector('#df-84870771-ad47-4598-b59d-471b3d3c727e');\n",
              "          const dataTable =\n",
              "            await google.colab.kernel.invokeFunction('convertToInteractive',\n",
              "                                                     [key], {});\n",
              "          if (!dataTable) return;\n",
              "\n",
              "          const docLinkHtml = 'Like what you see? Visit the ' +\n",
              "            '<a target=\"_blank\" href=https://colab.research.google.com/notebooks/data_table.ipynb>data table notebook</a>'\n",
              "            + ' to learn more about interactive tables.';\n",
              "          element.innerHTML = '';\n",
              "          dataTable['output_type'] = 'display_data';\n",
              "          await google.colab.output.renderOutput(dataTable, element);\n",
              "          const docLink = document.createElement('div');\n",
              "          docLink.innerHTML = docLinkHtml;\n",
              "          element.appendChild(docLink);\n",
              "        }\n",
              "      </script>\n",
              "    </div>\n",
              "  </div>\n",
              "  "
            ]
          },
          "metadata": {},
          "execution_count": 46
        }
      ]
    },
    {
      "cell_type": "code",
      "source": [
        "# number of characters in each name\n",
        "chicago['Name'].apply(len)"
      ],
      "metadata": {
        "colab": {
          "base_uri": "https://localhost:8080/"
        },
        "id": "swt6ujGqUpPy",
        "outputId": "3c3febf8-f8e9-4403-a60c-2036f52ec07b"
      },
      "execution_count": 44,
      "outputs": [
        {
          "output_type": "execute_result",
          "data": {
            "text/plain": [
              "0        15\n",
              "1        17\n",
              "2        14\n",
              "3        19\n",
              "4        19\n",
              "         ..\n",
              "32057    19\n",
              "32058    18\n",
              "32059    17\n",
              "32060    19\n",
              "32061    19\n",
              "Name: Name, Length: 32062, dtype: int64"
            ]
          },
          "metadata": {},
          "execution_count": 44
        }
      ]
    },
    {
      "cell_type": "code",
      "source": [
        "# above is equivalent to:\n",
        "chicago['Name'].str.len()"
      ],
      "metadata": {
        "colab": {
          "base_uri": "https://localhost:8080/"
        },
        "id": "vyDvzor5U07r",
        "outputId": "02d82d7c-7a21-469c-dc37-d7108dfa4449"
      },
      "execution_count": 47,
      "outputs": [
        {
          "output_type": "execute_result",
          "data": {
            "text/plain": [
              "0        15\n",
              "1        17\n",
              "2        14\n",
              "3        19\n",
              "4        19\n",
              "         ..\n",
              "32057    19\n",
              "32058    18\n",
              "32059    17\n",
              "32060    19\n",
              "32061    19\n",
              "Name: Name, Length: 32062, dtype: int64"
            ]
          },
          "metadata": {},
          "execution_count": 47
        }
      ]
    },
    {
      "cell_type": "markdown",
      "source": [
        "## .str.replace() method"
      ],
      "metadata": {
        "id": "RyzG62T2VzTa"
      }
    },
    {
      "cell_type": "code",
      "source": [
        "# import data\n",
        "chicago = pd.read_csv(\n",
        "    'https://raw.githubusercontent.com/jack-cao-623/python_learning/main/pandas/chicago.csv'\n",
        ")\n",
        "\n",
        "# convert 'Department' to category for memory savings\n",
        "chicago['Department'] = chicago['Department'].astype('category')\n",
        "\n",
        "# drop rows where all values are missing\n",
        "chicago = chicago.dropna(how = 'all')"
      ],
      "metadata": {
        "id": "kFDMs8M1VbC2"
      },
      "execution_count": 67,
      "outputs": []
    },
    {
      "cell_type": "code",
      "source": [
        "# replace lowercase l with uppercase L\n",
        "'hello world'.replace('l', 'L')"
      ],
      "metadata": {
        "colab": {
          "base_uri": "https://localhost:8080/",
          "height": 35
        },
        "id": "NQ9vrlmKWVHT",
        "outputId": "07e01473-1ee3-41a8-994b-0fdfbb7a0943"
      },
      "execution_count": 68,
      "outputs": [
        {
          "output_type": "execute_result",
          "data": {
            "text/plain": [
              "'heLLo worLd'"
            ],
            "application/vnd.google.colaboratory.intrinsic+json": {
              "type": "string"
            }
          },
          "metadata": {},
          "execution_count": 68
        }
      ]
    },
    {
      "cell_type": "code",
      "source": [
        "# replace h with space ''\n",
        "'hello world'.replace('h', '')"
      ],
      "metadata": {
        "colab": {
          "base_uri": "https://localhost:8080/",
          "height": 35
        },
        "id": "QvNjk9qMX15S",
        "outputId": "1fc5c000-9883-4627-ad44-1e13465281c7"
      },
      "execution_count": 69,
      "outputs": [
        {
          "output_type": "execute_result",
          "data": {
            "text/plain": [
              "'ello world'"
            ],
            "application/vnd.google.colaboratory.intrinsic+json": {
              "type": "string"
            }
          },
          "metadata": {},
          "execution_count": 69
        }
      ]
    },
    {
      "cell_type": "code",
      "source": [
        "# in 'Department', replace 'MGMNT' with 'MANAGEMENT'\n",
        "chicago['Department'] = chicago['Department'].str.replace('MGMNT', 'MANAGEMENT').astype('category')   # .str.replace() turns it back to a string; turn it into category again\n",
        "\n",
        "# examine\n",
        "chicago.head()"
      ],
      "metadata": {
        "colab": {
          "base_uri": "https://localhost:8080/",
          "height": 206
        },
        "id": "yWCu8VOaYMPU",
        "outputId": "7f960493-1963-42fa-ae60-a561f0862b26"
      },
      "execution_count": 70,
      "outputs": [
        {
          "output_type": "execute_result",
          "data": {
            "text/plain": [
              "                  Name            Position Title        Department  \\\n",
              "0      AARON,  ELVIA J          WATER RATE TAKER  WATER MANAGEMENT   \n",
              "1    AARON,  JEFFERY M            POLICE OFFICER            POLICE   \n",
              "2       AARON,  KARINA            POLICE OFFICER            POLICE   \n",
              "3  AARON,  KIMBERLEI R  CHIEF CONTRACT EXPEDITER  GENERAL SERVICES   \n",
              "4  ABAD JR,  VICENTE M         CIVIL ENGINEER IV  WATER MANAGEMENT   \n",
              "\n",
              "  Employee Annual Salary  \n",
              "0              $90744.00  \n",
              "1              $84450.00  \n",
              "2              $84450.00  \n",
              "3              $89880.00  \n",
              "4             $106836.00  "
            ],
            "text/html": [
              "\n",
              "  <div id=\"df-a98e8288-0467-4ff5-80f9-866d668b3130\">\n",
              "    <div class=\"colab-df-container\">\n",
              "      <div>\n",
              "<style scoped>\n",
              "    .dataframe tbody tr th:only-of-type {\n",
              "        vertical-align: middle;\n",
              "    }\n",
              "\n",
              "    .dataframe tbody tr th {\n",
              "        vertical-align: top;\n",
              "    }\n",
              "\n",
              "    .dataframe thead th {\n",
              "        text-align: right;\n",
              "    }\n",
              "</style>\n",
              "<table border=\"1\" class=\"dataframe\">\n",
              "  <thead>\n",
              "    <tr style=\"text-align: right;\">\n",
              "      <th></th>\n",
              "      <th>Name</th>\n",
              "      <th>Position Title</th>\n",
              "      <th>Department</th>\n",
              "      <th>Employee Annual Salary</th>\n",
              "    </tr>\n",
              "  </thead>\n",
              "  <tbody>\n",
              "    <tr>\n",
              "      <th>0</th>\n",
              "      <td>AARON,  ELVIA J</td>\n",
              "      <td>WATER RATE TAKER</td>\n",
              "      <td>WATER MANAGEMENT</td>\n",
              "      <td>$90744.00</td>\n",
              "    </tr>\n",
              "    <tr>\n",
              "      <th>1</th>\n",
              "      <td>AARON,  JEFFERY M</td>\n",
              "      <td>POLICE OFFICER</td>\n",
              "      <td>POLICE</td>\n",
              "      <td>$84450.00</td>\n",
              "    </tr>\n",
              "    <tr>\n",
              "      <th>2</th>\n",
              "      <td>AARON,  KARINA</td>\n",
              "      <td>POLICE OFFICER</td>\n",
              "      <td>POLICE</td>\n",
              "      <td>$84450.00</td>\n",
              "    </tr>\n",
              "    <tr>\n",
              "      <th>3</th>\n",
              "      <td>AARON,  KIMBERLEI R</td>\n",
              "      <td>CHIEF CONTRACT EXPEDITER</td>\n",
              "      <td>GENERAL SERVICES</td>\n",
              "      <td>$89880.00</td>\n",
              "    </tr>\n",
              "    <tr>\n",
              "      <th>4</th>\n",
              "      <td>ABAD JR,  VICENTE M</td>\n",
              "      <td>CIVIL ENGINEER IV</td>\n",
              "      <td>WATER MANAGEMENT</td>\n",
              "      <td>$106836.00</td>\n",
              "    </tr>\n",
              "  </tbody>\n",
              "</table>\n",
              "</div>\n",
              "      <button class=\"colab-df-convert\" onclick=\"convertToInteractive('df-a98e8288-0467-4ff5-80f9-866d668b3130')\"\n",
              "              title=\"Convert this dataframe to an interactive table.\"\n",
              "              style=\"display:none;\">\n",
              "        \n",
              "  <svg xmlns=\"http://www.w3.org/2000/svg\" height=\"24px\"viewBox=\"0 0 24 24\"\n",
              "       width=\"24px\">\n",
              "    <path d=\"M0 0h24v24H0V0z\" fill=\"none\"/>\n",
              "    <path d=\"M18.56 5.44l.94 2.06.94-2.06 2.06-.94-2.06-.94-.94-2.06-.94 2.06-2.06.94zm-11 1L8.5 8.5l.94-2.06 2.06-.94-2.06-.94L8.5 2.5l-.94 2.06-2.06.94zm10 10l.94 2.06.94-2.06 2.06-.94-2.06-.94-.94-2.06-.94 2.06-2.06.94z\"/><path d=\"M17.41 7.96l-1.37-1.37c-.4-.4-.92-.59-1.43-.59-.52 0-1.04.2-1.43.59L10.3 9.45l-7.72 7.72c-.78.78-.78 2.05 0 2.83L4 21.41c.39.39.9.59 1.41.59.51 0 1.02-.2 1.41-.59l7.78-7.78 2.81-2.81c.8-.78.8-2.07 0-2.86zM5.41 20L4 18.59l7.72-7.72 1.47 1.35L5.41 20z\"/>\n",
              "  </svg>\n",
              "      </button>\n",
              "      \n",
              "  <style>\n",
              "    .colab-df-container {\n",
              "      display:flex;\n",
              "      flex-wrap:wrap;\n",
              "      gap: 12px;\n",
              "    }\n",
              "\n",
              "    .colab-df-convert {\n",
              "      background-color: #E8F0FE;\n",
              "      border: none;\n",
              "      border-radius: 50%;\n",
              "      cursor: pointer;\n",
              "      display: none;\n",
              "      fill: #1967D2;\n",
              "      height: 32px;\n",
              "      padding: 0 0 0 0;\n",
              "      width: 32px;\n",
              "    }\n",
              "\n",
              "    .colab-df-convert:hover {\n",
              "      background-color: #E2EBFA;\n",
              "      box-shadow: 0px 1px 2px rgba(60, 64, 67, 0.3), 0px 1px 3px 1px rgba(60, 64, 67, 0.15);\n",
              "      fill: #174EA6;\n",
              "    }\n",
              "\n",
              "    [theme=dark] .colab-df-convert {\n",
              "      background-color: #3B4455;\n",
              "      fill: #D2E3FC;\n",
              "    }\n",
              "\n",
              "    [theme=dark] .colab-df-convert:hover {\n",
              "      background-color: #434B5C;\n",
              "      box-shadow: 0px 1px 3px 1px rgba(0, 0, 0, 0.15);\n",
              "      filter: drop-shadow(0px 1px 2px rgba(0, 0, 0, 0.3));\n",
              "      fill: #FFFFFF;\n",
              "    }\n",
              "  </style>\n",
              "\n",
              "      <script>\n",
              "        const buttonEl =\n",
              "          document.querySelector('#df-a98e8288-0467-4ff5-80f9-866d668b3130 button.colab-df-convert');\n",
              "        buttonEl.style.display =\n",
              "          google.colab.kernel.accessAllowed ? 'block' : 'none';\n",
              "\n",
              "        async function convertToInteractive(key) {\n",
              "          const element = document.querySelector('#df-a98e8288-0467-4ff5-80f9-866d668b3130');\n",
              "          const dataTable =\n",
              "            await google.colab.kernel.invokeFunction('convertToInteractive',\n",
              "                                                     [key], {});\n",
              "          if (!dataTable) return;\n",
              "\n",
              "          const docLinkHtml = 'Like what you see? Visit the ' +\n",
              "            '<a target=\"_blank\" href=https://colab.research.google.com/notebooks/data_table.ipynb>data table notebook</a>'\n",
              "            + ' to learn more about interactive tables.';\n",
              "          element.innerHTML = '';\n",
              "          dataTable['output_type'] = 'display_data';\n",
              "          await google.colab.output.renderOutput(dataTable, element);\n",
              "          const docLink = document.createElement('div');\n",
              "          docLink.innerHTML = docLinkHtml;\n",
              "          element.appendChild(docLink);\n",
              "        }\n",
              "      </script>\n",
              "    </div>\n",
              "  </div>\n",
              "  "
            ]
          },
          "metadata": {},
          "execution_count": 70
        }
      ]
    },
    {
      "cell_type": "code",
      "source": [
        "# convert 'Employee Annual Salary' to float\n",
        "chicago['Employee Annual Salary'] = (\n",
        "    chicago['Employee Annual Salary']\n",
        "      .str.replace('$', '')                  # replace '$' with '', i.e., nothing\n",
        "      .astype('float')                       # convert to float\n",
        ")\n",
        "\n",
        "chicago.head()"
      ],
      "metadata": {
        "colab": {
          "base_uri": "https://localhost:8080/",
          "height": 262
        },
        "id": "HcrueX_cYnB_",
        "outputId": "8d46aeaf-48b1-43e6-cc4e-b42b29c7c40c"
      },
      "execution_count": 71,
      "outputs": [
        {
          "output_type": "stream",
          "name": "stderr",
          "text": [
            "<ipython-input-71-e2038789226f>:3: FutureWarning: The default value of regex will change from True to False in a future version. In addition, single character regular expressions will *not* be treated as literal strings when regex=True.\n",
            "  chicago['Employee Annual Salary']\n"
          ]
        },
        {
          "output_type": "execute_result",
          "data": {
            "text/plain": [
              "                  Name            Position Title        Department  \\\n",
              "0      AARON,  ELVIA J          WATER RATE TAKER  WATER MANAGEMENT   \n",
              "1    AARON,  JEFFERY M            POLICE OFFICER            POLICE   \n",
              "2       AARON,  KARINA            POLICE OFFICER            POLICE   \n",
              "3  AARON,  KIMBERLEI R  CHIEF CONTRACT EXPEDITER  GENERAL SERVICES   \n",
              "4  ABAD JR,  VICENTE M         CIVIL ENGINEER IV  WATER MANAGEMENT   \n",
              "\n",
              "   Employee Annual Salary  \n",
              "0                 90744.0  \n",
              "1                 84450.0  \n",
              "2                 84450.0  \n",
              "3                 89880.0  \n",
              "4                106836.0  "
            ],
            "text/html": [
              "\n",
              "  <div id=\"df-d5dd5d8d-0d9f-4618-b254-c614fa8282a4\">\n",
              "    <div class=\"colab-df-container\">\n",
              "      <div>\n",
              "<style scoped>\n",
              "    .dataframe tbody tr th:only-of-type {\n",
              "        vertical-align: middle;\n",
              "    }\n",
              "\n",
              "    .dataframe tbody tr th {\n",
              "        vertical-align: top;\n",
              "    }\n",
              "\n",
              "    .dataframe thead th {\n",
              "        text-align: right;\n",
              "    }\n",
              "</style>\n",
              "<table border=\"1\" class=\"dataframe\">\n",
              "  <thead>\n",
              "    <tr style=\"text-align: right;\">\n",
              "      <th></th>\n",
              "      <th>Name</th>\n",
              "      <th>Position Title</th>\n",
              "      <th>Department</th>\n",
              "      <th>Employee Annual Salary</th>\n",
              "    </tr>\n",
              "  </thead>\n",
              "  <tbody>\n",
              "    <tr>\n",
              "      <th>0</th>\n",
              "      <td>AARON,  ELVIA J</td>\n",
              "      <td>WATER RATE TAKER</td>\n",
              "      <td>WATER MANAGEMENT</td>\n",
              "      <td>90744.0</td>\n",
              "    </tr>\n",
              "    <tr>\n",
              "      <th>1</th>\n",
              "      <td>AARON,  JEFFERY M</td>\n",
              "      <td>POLICE OFFICER</td>\n",
              "      <td>POLICE</td>\n",
              "      <td>84450.0</td>\n",
              "    </tr>\n",
              "    <tr>\n",
              "      <th>2</th>\n",
              "      <td>AARON,  KARINA</td>\n",
              "      <td>POLICE OFFICER</td>\n",
              "      <td>POLICE</td>\n",
              "      <td>84450.0</td>\n",
              "    </tr>\n",
              "    <tr>\n",
              "      <th>3</th>\n",
              "      <td>AARON,  KIMBERLEI R</td>\n",
              "      <td>CHIEF CONTRACT EXPEDITER</td>\n",
              "      <td>GENERAL SERVICES</td>\n",
              "      <td>89880.0</td>\n",
              "    </tr>\n",
              "    <tr>\n",
              "      <th>4</th>\n",
              "      <td>ABAD JR,  VICENTE M</td>\n",
              "      <td>CIVIL ENGINEER IV</td>\n",
              "      <td>WATER MANAGEMENT</td>\n",
              "      <td>106836.0</td>\n",
              "    </tr>\n",
              "  </tbody>\n",
              "</table>\n",
              "</div>\n",
              "      <button class=\"colab-df-convert\" onclick=\"convertToInteractive('df-d5dd5d8d-0d9f-4618-b254-c614fa8282a4')\"\n",
              "              title=\"Convert this dataframe to an interactive table.\"\n",
              "              style=\"display:none;\">\n",
              "        \n",
              "  <svg xmlns=\"http://www.w3.org/2000/svg\" height=\"24px\"viewBox=\"0 0 24 24\"\n",
              "       width=\"24px\">\n",
              "    <path d=\"M0 0h24v24H0V0z\" fill=\"none\"/>\n",
              "    <path d=\"M18.56 5.44l.94 2.06.94-2.06 2.06-.94-2.06-.94-.94-2.06-.94 2.06-2.06.94zm-11 1L8.5 8.5l.94-2.06 2.06-.94-2.06-.94L8.5 2.5l-.94 2.06-2.06.94zm10 10l.94 2.06.94-2.06 2.06-.94-2.06-.94-.94-2.06-.94 2.06-2.06.94z\"/><path d=\"M17.41 7.96l-1.37-1.37c-.4-.4-.92-.59-1.43-.59-.52 0-1.04.2-1.43.59L10.3 9.45l-7.72 7.72c-.78.78-.78 2.05 0 2.83L4 21.41c.39.39.9.59 1.41.59.51 0 1.02-.2 1.41-.59l7.78-7.78 2.81-2.81c.8-.78.8-2.07 0-2.86zM5.41 20L4 18.59l7.72-7.72 1.47 1.35L5.41 20z\"/>\n",
              "  </svg>\n",
              "      </button>\n",
              "      \n",
              "  <style>\n",
              "    .colab-df-container {\n",
              "      display:flex;\n",
              "      flex-wrap:wrap;\n",
              "      gap: 12px;\n",
              "    }\n",
              "\n",
              "    .colab-df-convert {\n",
              "      background-color: #E8F0FE;\n",
              "      border: none;\n",
              "      border-radius: 50%;\n",
              "      cursor: pointer;\n",
              "      display: none;\n",
              "      fill: #1967D2;\n",
              "      height: 32px;\n",
              "      padding: 0 0 0 0;\n",
              "      width: 32px;\n",
              "    }\n",
              "\n",
              "    .colab-df-convert:hover {\n",
              "      background-color: #E2EBFA;\n",
              "      box-shadow: 0px 1px 2px rgba(60, 64, 67, 0.3), 0px 1px 3px 1px rgba(60, 64, 67, 0.15);\n",
              "      fill: #174EA6;\n",
              "    }\n",
              "\n",
              "    [theme=dark] .colab-df-convert {\n",
              "      background-color: #3B4455;\n",
              "      fill: #D2E3FC;\n",
              "    }\n",
              "\n",
              "    [theme=dark] .colab-df-convert:hover {\n",
              "      background-color: #434B5C;\n",
              "      box-shadow: 0px 1px 3px 1px rgba(0, 0, 0, 0.15);\n",
              "      filter: drop-shadow(0px 1px 2px rgba(0, 0, 0, 0.3));\n",
              "      fill: #FFFFFF;\n",
              "    }\n",
              "  </style>\n",
              "\n",
              "      <script>\n",
              "        const buttonEl =\n",
              "          document.querySelector('#df-d5dd5d8d-0d9f-4618-b254-c614fa8282a4 button.colab-df-convert');\n",
              "        buttonEl.style.display =\n",
              "          google.colab.kernel.accessAllowed ? 'block' : 'none';\n",
              "\n",
              "        async function convertToInteractive(key) {\n",
              "          const element = document.querySelector('#df-d5dd5d8d-0d9f-4618-b254-c614fa8282a4');\n",
              "          const dataTable =\n",
              "            await google.colab.kernel.invokeFunction('convertToInteractive',\n",
              "                                                     [key], {});\n",
              "          if (!dataTable) return;\n",
              "\n",
              "          const docLinkHtml = 'Like what you see? Visit the ' +\n",
              "            '<a target=\"_blank\" href=https://colab.research.google.com/notebooks/data_table.ipynb>data table notebook</a>'\n",
              "            + ' to learn more about interactive tables.';\n",
              "          element.innerHTML = '';\n",
              "          dataTable['output_type'] = 'display_data';\n",
              "          await google.colab.output.renderOutput(dataTable, element);\n",
              "          const docLink = document.createElement('div');\n",
              "          docLink.innerHTML = docLinkHtml;\n",
              "          element.appendChild(docLink);\n",
              "        }\n",
              "      </script>\n",
              "    </div>\n",
              "  </div>\n",
              "  "
            ]
          },
          "metadata": {},
          "execution_count": 71
        }
      ]
    },
    {
      "cell_type": "code",
      "source": [
        "# check that it's a float\n",
        "chicago.info()"
      ],
      "metadata": {
        "colab": {
          "base_uri": "https://localhost:8080/"
        },
        "id": "xzojOvfJZEjy",
        "outputId": "ff4f7d52-4c3c-4eef-bdf8-31985a589b38"
      },
      "execution_count": 72,
      "outputs": [
        {
          "output_type": "stream",
          "name": "stdout",
          "text": [
            "<class 'pandas.core.frame.DataFrame'>\n",
            "Int64Index: 32062 entries, 0 to 32061\n",
            "Data columns (total 4 columns):\n",
            " #   Column                  Non-Null Count  Dtype   \n",
            "---  ------                  --------------  -----   \n",
            " 0   Name                    32062 non-null  object  \n",
            " 1   Position Title          32062 non-null  object  \n",
            " 2   Department              32062 non-null  category\n",
            " 3   Employee Annual Salary  32062 non-null  float64 \n",
            "dtypes: category(1), float64(1), object(2)\n",
            "memory usage: 1.0+ MB\n"
          ]
        }
      ]
    },
    {
      "cell_type": "code",
      "source": [
        "# total spend on all employees\n",
        "chicago['Employee Annual Salary'].sum()"
      ],
      "metadata": {
        "colab": {
          "base_uri": "https://localhost:8080/"
        },
        "id": "MwtfJb_XZQ3_",
        "outputId": "80706587-9547-4368-e551-3fecfef994a8"
      },
      "execution_count": 73,
      "outputs": [
        {
          "output_type": "execute_result",
          "data": {
            "text/plain": [
              "2571506375.36"
            ]
          },
          "metadata": {},
          "execution_count": 73
        }
      ]
    },
    {
      "cell_type": "code",
      "source": [
        "# average employee salary\n",
        "chicago['Employee Annual Salary'].mean()"
      ],
      "metadata": {
        "colab": {
          "base_uri": "https://localhost:8080/"
        },
        "id": "8hm8eYxxaVQ_",
        "outputId": "a87288ae-bded-4f83-d0e5-9478ce15be11"
      },
      "execution_count": 74,
      "outputs": [
        {
          "output_type": "execute_result",
          "data": {
            "text/plain": [
              "80204.17863389682"
            ]
          },
          "metadata": {},
          "execution_count": 74
        }
      ]
    },
    {
      "cell_type": "code",
      "source": [
        "# 10 largest salaries\n",
        "chicago['Employee Annual Salary'].nlargest(10)"
      ],
      "metadata": {
        "colab": {
          "base_uri": "https://localhost:8080/"
        },
        "id": "KWa3NYgBaX_2",
        "outputId": "e6311340-feaf-4bb1-d69b-8c29fdbc7861"
      },
      "execution_count": 76,
      "outputs": [
        {
          "output_type": "execute_result",
          "data": {
            "text/plain": [
              "8184     300000.0\n",
              "7954     216210.0\n",
              "25532    202728.0\n",
              "8924     197736.0\n",
              "8042     197724.0\n",
              "19208    195000.0\n",
              "3706     187680.0\n",
              "18556    187680.0\n",
              "29466    187680.0\n",
              "13754    185364.0\n",
              "Name: Employee Annual Salary, dtype: float64"
            ]
          },
          "metadata": {},
          "execution_count": 76
        }
      ]
    },
    {
      "cell_type": "code",
      "source": [
        "# who's making 300k?\n",
        "chicago.iloc[8184]"
      ],
      "metadata": {
        "colab": {
          "base_uri": "https://localhost:8080/"
        },
        "id": "ATUL0uxAadXm",
        "outputId": "35cefa6e-8e9d-492f-c40a-9c4a6b55f046"
      },
      "execution_count": 77,
      "outputs": [
        {
          "output_type": "execute_result",
          "data": {
            "text/plain": [
              "Name                              EVANS,  GINGER S\n",
              "Position Title            COMMISSIONER OF AVIATION\n",
              "Department                                AVIATION\n",
              "Employee Annual Salary                    300000.0\n",
              "Name: 8184, dtype: object"
            ]
          },
          "metadata": {},
          "execution_count": 77
        }
      ]
    },
    {
      "cell_type": "markdown",
      "source": [
        "## filtering with string methods"
      ],
      "metadata": {
        "id": "JoSdaKtKawxN"
      }
    },
    {
      "cell_type": "code",
      "source": [
        "# import data\n",
        "chicago = pd.read_csv(\n",
        "    'https://raw.githubusercontent.com/jack-cao-623/python_learning/main/pandas/chicago.csv'\n",
        ")\n",
        "\n",
        "# convert 'Department' to category for memory savings\n",
        "chicago['Department'] = chicago['Department'].astype('category')\n",
        "\n",
        "# drop rows where all values are missing\n",
        "chicago = chicago.dropna(how = 'all')"
      ],
      "metadata": {
        "id": "ScOP0VNraj7s"
      },
      "execution_count": 78,
      "outputs": []
    },
    {
      "cell_type": "code",
      "source": [],
      "metadata": {
        "id": "OZQ92RR6a0Xp"
      },
      "execution_count": null,
      "outputs": []
    }
  ]
}