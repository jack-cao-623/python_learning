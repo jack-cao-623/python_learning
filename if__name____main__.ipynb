{
  "nbformat": 4,
  "nbformat_minor": 0,
  "metadata": {
    "colab": {
      "provenance": [],
      "authorship_tag": "ABX9TyMWRMqlucJhCzy72ZCf11Lv",
      "include_colab_link": true
    },
    "kernelspec": {
      "name": "python3",
      "display_name": "Python 3"
    },
    "language_info": {
      "name": "python"
    }
  },
  "cells": [
    {
      "cell_type": "markdown",
      "metadata": {
        "id": "view-in-github",
        "colab_type": "text"
      },
      "source": [
        "<a href=\"https://colab.research.google.com/github/jack-cao-623/python_learning/blob/main/if__name____main__.ipynb\" target=\"_parent\"><img src=\"https://colab.research.google.com/assets/colab-badge.svg\" alt=\"Open In Colab\"/></a>"
      ]
    },
    {
      "cell_type": "markdown",
      "source": [
        "# What does if __name__ == '__main__' do?\n",
        "From HackerRank"
      ],
      "metadata": {
        "id": "IQyvZQiKigcL"
      }
    },
    {
      "cell_type": "code",
      "source": [
        "if __name__ == '__main__':\n",
        "  a = int(input())\n",
        "  b = int(input())\n",
        "  print(a + b)"
      ],
      "metadata": {
        "colab": {
          "base_uri": "https://localhost:8080/"
        },
        "id": "nuU1n7wsimuh",
        "outputId": "1fde4e04-2b43-4cfa-fe75-a3c5ad31f3f6"
      },
      "execution_count": 2,
      "outputs": [
        {
          "output_type": "stream",
          "name": "stdout",
          "text": [
            "2\n",
            "3\n",
            "5\n"
          ]
        }
      ]
    },
    {
      "cell_type": "code",
      "source": [
        "# way for asking for user input\n",
        "# \"The provided code stub reads two integers,  and , from STDIN.\""
      ],
      "metadata": {
        "id": "RVD-ulRBit1U"
      },
      "execution_count": 3,
      "outputs": []
    },
    {
      "cell_type": "code",
      "source": [],
      "metadata": {
        "id": "vm2tkbadjAlJ"
      },
      "execution_count": null,
      "outputs": []
    }
  ]
}