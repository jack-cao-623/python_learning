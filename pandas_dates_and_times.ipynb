{
  "nbformat": 4,
  "nbformat_minor": 0,
  "metadata": {
    "colab": {
      "provenance": [],
      "authorship_tag": "ABX9TyNbe38+4aEVvYBwGUUNpJIy",
      "include_colab_link": true
    },
    "kernelspec": {
      "name": "python3",
      "display_name": "Python 3"
    },
    "language_info": {
      "name": "python"
    }
  },
  "cells": [
    {
      "cell_type": "markdown",
      "metadata": {
        "id": "view-in-github",
        "colab_type": "text"
      },
      "source": [
        "<a href=\"https://colab.research.google.com/github/jack-cao-623/python_learning/blob/main/pandas_dates_and_times.ipynb\" target=\"_parent\"><img src=\"https://colab.research.google.com/assets/colab-badge.svg\" alt=\"Open In Colab\"/></a>"
      ]
    },
    {
      "cell_type": "markdown",
      "source": [
        "# Pandas Dates and Times\n",
        "- Python has a built-in date module"
      ],
      "metadata": {
        "id": "LMkcZTu6FC-h"
      }
    },
    {
      "cell_type": "code",
      "source": [
        "# libraries needed\n",
        "import numpy as np\n",
        "import pandas as pd\n",
        "import datetime as dt   \n",
        "\n",
        "# datetime is not an external library\n",
        "# it's part of Python; part of standard library; think of as internal libraries\n",
        "# not imported automatically to preserve memory\n",
        "\n",
        "# but imported the same way as pandas is to keep things consistent and simple"
      ],
      "metadata": {
        "id": "mRa9kXuWFEFJ"
      },
      "execution_count": 3,
      "outputs": []
    },
    {
      "cell_type": "markdown",
      "source": [
        "## Review of Python's datetime module\n",
        "- internal library Python loads on demand\n",
        "- not automatically loaded to preserve memory\n",
        "- module is synonymous with libary\n",
        "- dt.date() method creates a date object\n",
        "- dt.datetime() method creates a datetime object, which is date plus time hh:mm:ss"
      ],
      "metadata": {
        "id": "fvZAd1WRaHYC"
      }
    },
    {
      "cell_type": "code",
      "source": [
        "# .datetime() method is part of datetime module/library\n",
        "# .datetime() method creates a datetime object\n",
        "\n",
        "# date object: YYYY-MM-DD\n",
        "# datetime object: YYYY-MM-DD also includes timestamp"
      ],
      "metadata": {
        "id": "jD0-Db0CFGF_"
      },
      "execution_count": 4,
      "outputs": []
    },
    {
      "cell_type": "code",
      "source": [
        "# create date object using dt.date() method\n",
        "new_years_day = dt.date(year = 2023, month = 1, day = 1)\n",
        "new_years_day "
      ],
      "metadata": {
        "colab": {
          "base_uri": "https://localhost:8080/"
        },
        "id": "Duo-IBxIbe_Q",
        "outputId": "90ef1ae5-0dca-4b0d-fe3f-912177219a39"
      },
      "execution_count": 6,
      "outputs": [
        {
          "output_type": "execute_result",
          "data": {
            "text/plain": [
              "datetime.date(2023, 1, 1)"
            ]
          },
          "metadata": {},
          "execution_count": 6
        }
      ]
    },
    {
      "cell_type": "code",
      "source": [
        "# attributes on new_years_day\n",
        "print(new_years_day.year)\n",
        "print(new_years_day.month)\n",
        "print(new_years_day.day)"
      ],
      "metadata": {
        "colab": {
          "base_uri": "https://localhost:8080/"
        },
        "id": "Ozs31d6VbkrZ",
        "outputId": "3e421e67-63c7-4fa0-df5a-b2807e25acaa"
      },
      "execution_count": 8,
      "outputs": [
        {
          "output_type": "stream",
          "name": "stdout",
          "text": [
            "2023\n",
            "1\n",
            "1\n"
          ]
        }
      ]
    },
    {
      "cell_type": "code",
      "source": [
        "# create datetime object using dt.datetime() method\n",
        "maddie_bday = dt.datetime(\n",
        "    year = 2022, month = 3, day = 3,\n",
        "    hour = 1, minute = 39\n",
        ")\n",
        "\n",
        "maddie_bday"
      ],
      "metadata": {
        "colab": {
          "base_uri": "https://localhost:8080/"
        },
        "id": "feMzmKuReWw0",
        "outputId": "de6c4164-ddc8-493e-b7b5-9b1baed7e40f"
      },
      "execution_count": 11,
      "outputs": [
        {
          "output_type": "execute_result",
          "data": {
            "text/plain": [
              "datetime.datetime(2022, 3, 3, 1, 39)"
            ]
          },
          "metadata": {},
          "execution_count": 11
        }
      ]
    },
    {
      "cell_type": "code",
      "source": [
        "# view in alternative format\n",
        "str(maddie_bday)"
      ],
      "metadata": {
        "colab": {
          "base_uri": "https://localhost:8080/",
          "height": 35
        },
        "id": "eeY-eVWSfcJV",
        "outputId": "bfcdfa6c-710e-4968-c333-924333834151"
      },
      "execution_count": 12,
      "outputs": [
        {
          "output_type": "execute_result",
          "data": {
            "text/plain": [
              "'2022-03-03 01:39:00'"
            ],
            "application/vnd.google.colaboratory.intrinsic+json": {
              "type": "string"
            }
          },
          "metadata": {},
          "execution_count": 12
        }
      ]
    },
    {
      "cell_type": "code",
      "source": [
        "# attributes of maddie_bday\n",
        "print(maddie_bday.year)\n",
        "print(maddie_bday.month)\n",
        "print(maddie_bday.day)\n",
        "\n",
        "print(maddie_bday.hour)\n",
        "print(maddie_bday.minute)\n",
        "print(maddie_bday.second)"
      ],
      "metadata": {
        "colab": {
          "base_uri": "https://localhost:8080/"
        },
        "id": "_2nVTI3CfhLh",
        "outputId": "29661ada-5087-4425-df6f-2c9b1f5a7af8"
      },
      "execution_count": 15,
      "outputs": [
        {
          "output_type": "stream",
          "name": "stdout",
          "text": [
            "2022\n",
            "3\n",
            "3\n",
            "1\n",
            "39\n",
            "0\n"
          ]
        }
      ]
    },
    {
      "cell_type": "markdown",
      "source": [
        "## Pandas timestamp object"
      ],
      "metadata": {
        "id": "EpYhxro_fw89"
      }
    },
    {
      "cell_type": "code",
      "source": [],
      "metadata": {
        "id": "LPh59_JLfkyg"
      },
      "execution_count": null,
      "outputs": []
    }
  ]
}