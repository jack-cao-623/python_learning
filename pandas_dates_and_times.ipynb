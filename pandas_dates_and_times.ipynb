{
  "nbformat": 4,
  "nbformat_minor": 0,
  "metadata": {
    "colab": {
      "provenance": [],
      "authorship_tag": "ABX9TyP/wTFBDqV5oypHTPaq1pFj",
      "include_colab_link": true
    },
    "kernelspec": {
      "name": "python3",
      "display_name": "Python 3"
    },
    "language_info": {
      "name": "python"
    }
  },
  "cells": [
    {
      "cell_type": "markdown",
      "metadata": {
        "id": "view-in-github",
        "colab_type": "text"
      },
      "source": [
        "<a href=\"https://colab.research.google.com/github/jack-cao-623/python_learning/blob/main/pandas_dates_and_times.ipynb\" target=\"_parent\"><img src=\"https://colab.research.google.com/assets/colab-badge.svg\" alt=\"Open In Colab\"/></a>"
      ]
    },
    {
      "cell_type": "markdown",
      "source": [
        "# Pandas Dates and Times\n",
        "- Python has a built-in date module"
      ],
      "metadata": {
        "id": "LMkcZTu6FC-h"
      }
    },
    {
      "cell_type": "code",
      "source": [
        "# libraries needed\n",
        "import numpy as np\n",
        "import pandas as pd\n",
        "import datetime as dt   \n",
        "\n",
        "# datetime is not an external library\n",
        "# it's part of Python; part of standard library; think of as internal libraries\n",
        "# not imported automatically to preserve memory\n",
        "\n",
        "# but imported the same way as pandas is to keep things consistent and simple"
      ],
      "metadata": {
        "id": "mRa9kXuWFEFJ"
      },
      "execution_count": 65,
      "outputs": []
    },
    {
      "cell_type": "markdown",
      "source": [
        "## Review of Python's datetime module\n",
        "- internal library Python loads on demand\n",
        "- not automatically loaded to preserve memory\n",
        "- module is synonymous with libary\n",
        "- dt.date() method creates a date object\n",
        "- dt.datetime() method creates a datetime object, which is date plus time hh:mm:ss"
      ],
      "metadata": {
        "id": "fvZAd1WRaHYC"
      }
    },
    {
      "cell_type": "code",
      "source": [
        "# .datetime() method is part of datetime module/library\n",
        "# .datetime() method creates a datetime object\n",
        "\n",
        "# date object: YYYY-MM-DD\n",
        "# datetime object: YYYY-MM-DD also includes timestamp"
      ],
      "metadata": {
        "id": "jD0-Db0CFGF_"
      },
      "execution_count": 66,
      "outputs": []
    },
    {
      "cell_type": "code",
      "source": [
        "# create date object using dt.date() method\n",
        "new_years_day = dt.date(year = 2023, month = 1, day = 1)\n",
        "new_years_day "
      ],
      "metadata": {
        "colab": {
          "base_uri": "https://localhost:8080/"
        },
        "id": "Duo-IBxIbe_Q",
        "outputId": "b1ec9781-6e2f-4e15-8943-54024fe8b199"
      },
      "execution_count": 67,
      "outputs": [
        {
          "output_type": "execute_result",
          "data": {
            "text/plain": [
              "datetime.date(2023, 1, 1)"
            ]
          },
          "metadata": {},
          "execution_count": 67
        }
      ]
    },
    {
      "cell_type": "code",
      "source": [
        "# attributes on new_years_day\n",
        "print(new_years_day.year)\n",
        "print(new_years_day.month)\n",
        "print(new_years_day.day)"
      ],
      "metadata": {
        "colab": {
          "base_uri": "https://localhost:8080/"
        },
        "id": "Ozs31d6VbkrZ",
        "outputId": "835099bd-e9eb-4ff9-cfb5-b63ac5741c6d"
      },
      "execution_count": 68,
      "outputs": [
        {
          "output_type": "stream",
          "name": "stdout",
          "text": [
            "2023\n",
            "1\n",
            "1\n"
          ]
        }
      ]
    },
    {
      "cell_type": "code",
      "source": [
        "# create datetime object using dt.datetime() method\n",
        "maddie_bday = dt.datetime(\n",
        "    year = 2022, month = 3, day = 3,\n",
        "    hour = 1, minute = 39\n",
        ")\n",
        "\n",
        "maddie_bday"
      ],
      "metadata": {
        "colab": {
          "base_uri": "https://localhost:8080/"
        },
        "id": "feMzmKuReWw0",
        "outputId": "35a2d0fd-7df2-41eb-cfbe-f84a1c59f20d"
      },
      "execution_count": 69,
      "outputs": [
        {
          "output_type": "execute_result",
          "data": {
            "text/plain": [
              "datetime.datetime(2022, 3, 3, 1, 39)"
            ]
          },
          "metadata": {},
          "execution_count": 69
        }
      ]
    },
    {
      "cell_type": "code",
      "source": [
        "# view in alternative format\n",
        "str(maddie_bday)"
      ],
      "metadata": {
        "colab": {
          "base_uri": "https://localhost:8080/",
          "height": 35
        },
        "id": "eeY-eVWSfcJV",
        "outputId": "0da49df0-c9c7-4a9c-c2ad-51412ccfd26d"
      },
      "execution_count": 70,
      "outputs": [
        {
          "output_type": "execute_result",
          "data": {
            "text/plain": [
              "'2022-03-03 01:39:00'"
            ],
            "application/vnd.google.colaboratory.intrinsic+json": {
              "type": "string"
            }
          },
          "metadata": {},
          "execution_count": 70
        }
      ]
    },
    {
      "cell_type": "code",
      "source": [
        "# attributes of maddie_bday\n",
        "print(maddie_bday.year)\n",
        "print(maddie_bday.month)\n",
        "print(maddie_bday.day)\n",
        "\n",
        "print(maddie_bday.hour)\n",
        "print(maddie_bday.minute)\n",
        "print(maddie_bday.second)"
      ],
      "metadata": {
        "colab": {
          "base_uri": "https://localhost:8080/"
        },
        "id": "_2nVTI3CfhLh",
        "outputId": "40cf60f9-2e0e-4820-febb-11767e71502e"
      },
      "execution_count": 71,
      "outputs": [
        {
          "output_type": "stream",
          "name": "stdout",
          "text": [
            "2022\n",
            "3\n",
            "3\n",
            "1\n",
            "39\n",
            "0\n"
          ]
        }
      ]
    },
    {
      "cell_type": "markdown",
      "source": [
        "## Pandas timestamp object\n",
        "- equivalent of Python datetime object\n",
        "  - pandas Timestamp is better for data analysis; custom \n",
        "  built, so do things like add and subtract chunks of time; \n",
        "  more efficient\n",
        "- basically a single moment in time: a date and a time, but called a timestamp\n",
        "- don't need hour:minute:second part; default to midnight, 00:00:00\n",
        "- pd.Timestamp() method\n",
        "  - input is a string, can be flexible in string format\n",
        "  - but best stick with YYYY-MM-DD format"
      ],
      "metadata": {
        "id": "EpYhxro_fw89"
      }
    },
    {
      "cell_type": "code",
      "source": [
        "# January 1, 2023\n",
        "pd.Timestamp('2023-01-01')"
      ],
      "metadata": {
        "colab": {
          "base_uri": "https://localhost:8080/"
        },
        "id": "LPh59_JLfkyg",
        "outputId": "0b5f65be-63bc-42a3-ef74-3db3b0f4efff"
      },
      "execution_count": 72,
      "outputs": [
        {
          "output_type": "execute_result",
          "data": {
            "text/plain": [
              "Timestamp('2023-01-01 00:00:00')"
            ]
          },
          "metadata": {},
          "execution_count": 72
        }
      ]
    },
    {
      "cell_type": "code",
      "source": [
        "# also January 1, 2023\n",
        "pd.Timestamp('01/01/23')\n",
        "  # note the midnight default for time component"
      ],
      "metadata": {
        "colab": {
          "base_uri": "https://localhost:8080/"
        },
        "id": "OjXFyGv2_GoQ",
        "outputId": "2dcd4a05-5c72-4454-ba74-58fd568b90b0"
      },
      "execution_count": 73,
      "outputs": [
        {
          "output_type": "execute_result",
          "data": {
            "text/plain": [
              "Timestamp('2023-01-01 00:00:00')"
            ]
          },
          "metadata": {},
          "execution_count": 73
        }
      ]
    },
    {
      "cell_type": "code",
      "source": [
        "# March 3, 2022 at 1:39am, Maddie's birthday\n",
        "pd.Timestamp('2022-03-03 01:39:00')"
      ],
      "metadata": {
        "colab": {
          "base_uri": "https://localhost:8080/"
        },
        "id": "dCK9cCDW_La-",
        "outputId": "d746dde6-9671-4323-f334-078c9b06df89"
      },
      "execution_count": 74,
      "outputs": [
        {
          "output_type": "execute_result",
          "data": {
            "text/plain": [
              "Timestamp('2022-03-03 01:39:00')"
            ]
          },
          "metadata": {},
          "execution_count": 74
        }
      ]
    },
    {
      "cell_type": "code",
      "source": [
        "# also March 3, 2022 at 1:39am, Maddie's birthday\n",
        "pd.Timestamp('2022-03-03 1:39am')"
      ],
      "metadata": {
        "colab": {
          "base_uri": "https://localhost:8080/"
        },
        "id": "YRh4W6v7_-i2",
        "outputId": "08dcbf31-2ff1-4182-b1cc-69d8c4030a67"
      },
      "execution_count": 75,
      "outputs": [
        {
          "output_type": "execute_result",
          "data": {
            "text/plain": [
              "Timestamp('2022-03-03 01:39:00')"
            ]
          },
          "metadata": {},
          "execution_count": 75
        }
      ]
    },
    {
      "cell_type": "code",
      "source": [
        "# feed a Pandas Datetime object\n",
        "pd.Timestamp(dt.datetime(2023, 1, 1))"
      ],
      "metadata": {
        "colab": {
          "base_uri": "https://localhost:8080/"
        },
        "id": "mBo3LEsIACLH",
        "outputId": "047f9adb-ffc5-4346-960a-01ad93d4c69a"
      },
      "execution_count": 76,
      "outputs": [
        {
          "output_type": "execute_result",
          "data": {
            "text/plain": [
              "Timestamp('2023-01-01 00:00:00')"
            ]
          },
          "metadata": {},
          "execution_count": 76
        }
      ]
    },
    {
      "cell_type": "markdown",
      "source": [
        "## pd.DatetimeIndex object\n",
        "- a collection of pandas Timestamps"
      ],
      "metadata": {
        "id": "3rhRpxgJBUvZ"
      }
    },
    {
      "cell_type": "code",
      "source": [
        "# follow along video\n",
        "list_of_dates = ['2023-01-01', '2023-01-02', '2023-01-03']\n",
        "pd.DatetimeIndex(list_of_dates)\n",
        "\n",
        "# convert date column/Series to index --> more relevant use case you'll encounter"
      ],
      "metadata": {
        "colab": {
          "base_uri": "https://localhost:8080/"
        },
        "id": "igERqWJ5AzBw",
        "outputId": "161b8bd9-2783-4f2b-f31e-de9bdcc264e5"
      },
      "execution_count": 77,
      "outputs": [
        {
          "output_type": "execute_result",
          "data": {
            "text/plain": [
              "DatetimeIndex(['2023-01-01', '2023-01-02', '2023-01-03'], dtype='datetime64[ns]', freq=None)"
            ]
          },
          "metadata": {},
          "execution_count": 77
        }
      ]
    },
    {
      "cell_type": "code",
      "source": [
        "# using Python date\n",
        "another_list_of_dates = [dt.date(2023, 1, 1), dt.date(2023, 1, 2), dt.date(2023, 1, 3)]\n",
        "pd.DatetimeIndex(another_list_of_dates)"
      ],
      "metadata": {
        "colab": {
          "base_uri": "https://localhost:8080/"
        },
        "id": "c2BNRpIkSmlZ",
        "outputId": "4355a204-8e5e-451d-a399-7cf4ecdaf032"
      },
      "execution_count": 78,
      "outputs": [
        {
          "output_type": "execute_result",
          "data": {
            "text/plain": [
              "DatetimeIndex(['2023-01-01', '2023-01-02', '2023-01-03'], dtype='datetime64[ns]', freq=None)"
            ]
          },
          "metadata": {},
          "execution_count": 78
        }
      ]
    },
    {
      "cell_type": "code",
      "source": [
        "# create a Series where index is datetime\n",
        "pd.Series(\n",
        "    data = [1, 2, 3],\n",
        "    index = pd.DatetimeIndex(list_of_dates)         # list_of_dates defined above\n",
        ")"
      ],
      "metadata": {
        "colab": {
          "base_uri": "https://localhost:8080/"
        },
        "id": "JThz511-TBKy",
        "outputId": "671315e6-ce90-4246-ff7f-76bb6228217e"
      },
      "execution_count": 79,
      "outputs": [
        {
          "output_type": "execute_result",
          "data": {
            "text/plain": [
              "2023-01-01    1\n",
              "2023-01-02    2\n",
              "2023-01-03    3\n",
              "dtype: int64"
            ]
          },
          "metadata": {},
          "execution_count": 79
        }
      ]
    },
    {
      "cell_type": "code",
      "source": [
        "# convert data column/Series to index\n",
        "fake_dat = pd.DataFrame(\n",
        "    {\n",
        "        'purchase_date': ['2023-01-01', '2023-01-02', '2023-01-03'], \n",
        "        'purchase_amout': [100, 200, 300],\n",
        "        'item': ['pen', 'pencil', 'paper']\n",
        "    }\n",
        ")\n",
        "\n",
        "fake_dat"
      ],
      "metadata": {
        "colab": {
          "base_uri": "https://localhost:8080/",
          "height": 143
        },
        "id": "kvgQwnd0KIX2",
        "outputId": "53aad9ad-88b3-47eb-9f9e-d8ba05261999"
      },
      "execution_count": 80,
      "outputs": [
        {
          "output_type": "execute_result",
          "data": {
            "text/plain": [
              "  purchase_date  purchase_amout    item\n",
              "0    2023-01-01             100     pen\n",
              "1    2023-01-02             200  pencil\n",
              "2    2023-01-03             300   paper"
            ],
            "text/html": [
              "\n",
              "  <div id=\"df-07363f97-770c-4c4c-912a-b7fde4d1d568\">\n",
              "    <div class=\"colab-df-container\">\n",
              "      <div>\n",
              "<style scoped>\n",
              "    .dataframe tbody tr th:only-of-type {\n",
              "        vertical-align: middle;\n",
              "    }\n",
              "\n",
              "    .dataframe tbody tr th {\n",
              "        vertical-align: top;\n",
              "    }\n",
              "\n",
              "    .dataframe thead th {\n",
              "        text-align: right;\n",
              "    }\n",
              "</style>\n",
              "<table border=\"1\" class=\"dataframe\">\n",
              "  <thead>\n",
              "    <tr style=\"text-align: right;\">\n",
              "      <th></th>\n",
              "      <th>purchase_date</th>\n",
              "      <th>purchase_amout</th>\n",
              "      <th>item</th>\n",
              "    </tr>\n",
              "  </thead>\n",
              "  <tbody>\n",
              "    <tr>\n",
              "      <th>0</th>\n",
              "      <td>2023-01-01</td>\n",
              "      <td>100</td>\n",
              "      <td>pen</td>\n",
              "    </tr>\n",
              "    <tr>\n",
              "      <th>1</th>\n",
              "      <td>2023-01-02</td>\n",
              "      <td>200</td>\n",
              "      <td>pencil</td>\n",
              "    </tr>\n",
              "    <tr>\n",
              "      <th>2</th>\n",
              "      <td>2023-01-03</td>\n",
              "      <td>300</td>\n",
              "      <td>paper</td>\n",
              "    </tr>\n",
              "  </tbody>\n",
              "</table>\n",
              "</div>\n",
              "      <button class=\"colab-df-convert\" onclick=\"convertToInteractive('df-07363f97-770c-4c4c-912a-b7fde4d1d568')\"\n",
              "              title=\"Convert this dataframe to an interactive table.\"\n",
              "              style=\"display:none;\">\n",
              "        \n",
              "  <svg xmlns=\"http://www.w3.org/2000/svg\" height=\"24px\"viewBox=\"0 0 24 24\"\n",
              "       width=\"24px\">\n",
              "    <path d=\"M0 0h24v24H0V0z\" fill=\"none\"/>\n",
              "    <path d=\"M18.56 5.44l.94 2.06.94-2.06 2.06-.94-2.06-.94-.94-2.06-.94 2.06-2.06.94zm-11 1L8.5 8.5l.94-2.06 2.06-.94-2.06-.94L8.5 2.5l-.94 2.06-2.06.94zm10 10l.94 2.06.94-2.06 2.06-.94-2.06-.94-.94-2.06-.94 2.06-2.06.94z\"/><path d=\"M17.41 7.96l-1.37-1.37c-.4-.4-.92-.59-1.43-.59-.52 0-1.04.2-1.43.59L10.3 9.45l-7.72 7.72c-.78.78-.78 2.05 0 2.83L4 21.41c.39.39.9.59 1.41.59.51 0 1.02-.2 1.41-.59l7.78-7.78 2.81-2.81c.8-.78.8-2.07 0-2.86zM5.41 20L4 18.59l7.72-7.72 1.47 1.35L5.41 20z\"/>\n",
              "  </svg>\n",
              "      </button>\n",
              "      \n",
              "  <style>\n",
              "    .colab-df-container {\n",
              "      display:flex;\n",
              "      flex-wrap:wrap;\n",
              "      gap: 12px;\n",
              "    }\n",
              "\n",
              "    .colab-df-convert {\n",
              "      background-color: #E8F0FE;\n",
              "      border: none;\n",
              "      border-radius: 50%;\n",
              "      cursor: pointer;\n",
              "      display: none;\n",
              "      fill: #1967D2;\n",
              "      height: 32px;\n",
              "      padding: 0 0 0 0;\n",
              "      width: 32px;\n",
              "    }\n",
              "\n",
              "    .colab-df-convert:hover {\n",
              "      background-color: #E2EBFA;\n",
              "      box-shadow: 0px 1px 2px rgba(60, 64, 67, 0.3), 0px 1px 3px 1px rgba(60, 64, 67, 0.15);\n",
              "      fill: #174EA6;\n",
              "    }\n",
              "\n",
              "    [theme=dark] .colab-df-convert {\n",
              "      background-color: #3B4455;\n",
              "      fill: #D2E3FC;\n",
              "    }\n",
              "\n",
              "    [theme=dark] .colab-df-convert:hover {\n",
              "      background-color: #434B5C;\n",
              "      box-shadow: 0px 1px 3px 1px rgba(0, 0, 0, 0.15);\n",
              "      filter: drop-shadow(0px 1px 2px rgba(0, 0, 0, 0.3));\n",
              "      fill: #FFFFFF;\n",
              "    }\n",
              "  </style>\n",
              "\n",
              "      <script>\n",
              "        const buttonEl =\n",
              "          document.querySelector('#df-07363f97-770c-4c4c-912a-b7fde4d1d568 button.colab-df-convert');\n",
              "        buttonEl.style.display =\n",
              "          google.colab.kernel.accessAllowed ? 'block' : 'none';\n",
              "\n",
              "        async function convertToInteractive(key) {\n",
              "          const element = document.querySelector('#df-07363f97-770c-4c4c-912a-b7fde4d1d568');\n",
              "          const dataTable =\n",
              "            await google.colab.kernel.invokeFunction('convertToInteractive',\n",
              "                                                     [key], {});\n",
              "          if (!dataTable) return;\n",
              "\n",
              "          const docLinkHtml = 'Like what you see? Visit the ' +\n",
              "            '<a target=\"_blank\" href=https://colab.research.google.com/notebooks/data_table.ipynb>data table notebook</a>'\n",
              "            + ' to learn more about interactive tables.';\n",
              "          element.innerHTML = '';\n",
              "          dataTable['output_type'] = 'display_data';\n",
              "          await google.colab.output.renderOutput(dataTable, element);\n",
              "          const docLink = document.createElement('div');\n",
              "          docLink.innerHTML = docLinkHtml;\n",
              "          element.appendChild(docLink);\n",
              "        }\n",
              "      </script>\n",
              "    </div>\n",
              "  </div>\n",
              "  "
            ]
          },
          "metadata": {},
          "execution_count": 80
        }
      ]
    },
    {
      "cell_type": "code",
      "source": [
        "# convert purchase_date to datetime\n",
        "fake_dat['purchase_date'] = pd.to_datetime(fake_dat['purchase_date'])\n",
        "fake_dat.info()"
      ],
      "metadata": {
        "colab": {
          "base_uri": "https://localhost:8080/"
        },
        "id": "xDrOdtkQO0mV",
        "outputId": "0a374728-c03c-45f9-813e-0083da960765"
      },
      "execution_count": 81,
      "outputs": [
        {
          "output_type": "stream",
          "name": "stdout",
          "text": [
            "<class 'pandas.core.frame.DataFrame'>\n",
            "RangeIndex: 3 entries, 0 to 2\n",
            "Data columns (total 3 columns):\n",
            " #   Column          Non-Null Count  Dtype         \n",
            "---  ------          --------------  -----         \n",
            " 0   purchase_date   3 non-null      datetime64[ns]\n",
            " 1   purchase_amout  3 non-null      int64         \n",
            " 2   item            3 non-null      object        \n",
            "dtypes: datetime64[ns](1), int64(1), object(1)\n",
            "memory usage: 200.0+ bytes\n"
          ]
        }
      ]
    },
    {
      "cell_type": "code",
      "source": [
        "# make purchase_date the index\n",
        "(\n",
        "    fake_dat\n",
        "      .set_index('purchase_date')\n",
        "      .index\n",
        ")\n",
        "\n",
        "# index is already a datetime index"
      ],
      "metadata": {
        "colab": {
          "base_uri": "https://localhost:8080/"
        },
        "id": "wnxXiIIxQbvA",
        "outputId": "71152c1b-bc27-49db-cfd9-4a41c65051d7"
      },
      "execution_count": 82,
      "outputs": [
        {
          "output_type": "execute_result",
          "data": {
            "text/plain": [
              "DatetimeIndex(['2023-01-01', '2023-01-02', '2023-01-03'], dtype='datetime64[ns]', name='purchase_date', freq=None)"
            ]
          },
          "metadata": {},
          "execution_count": 82
        }
      ]
    },
    {
      "cell_type": "markdown",
      "source": [
        "## pd.to_datetime() method\n",
        "- convert to Pandas time related object\n",
        "- e.g., string or Python date object to Pandas datetime object\n",
        "- errors = 'coerce' for NaT, not a time, when something can't be converted to a Pandas datetime\n",
        "  - default is errors = 'raise'"
      ],
      "metadata": {
        "id": "QQh899p9T20R"
      }
    },
    {
      "cell_type": "code",
      "source": [
        "# convert strings to Pandas datetime\n",
        "pd.to_datetime('2023-01-01')"
      ],
      "metadata": {
        "colab": {
          "base_uri": "https://localhost:8080/"
        },
        "id": "9JGWkKb0QjzT",
        "outputId": "a5503010-e7d3-4a01-9f1e-961a50b94a46"
      },
      "execution_count": 83,
      "outputs": [
        {
          "output_type": "execute_result",
          "data": {
            "text/plain": [
              "Timestamp('2023-01-01 00:00:00')"
            ]
          },
          "metadata": {},
          "execution_count": 83
        }
      ]
    },
    {
      "cell_type": "code",
      "source": [
        "# can also convert a list of strings\n",
        "pd.to_datetime(['2023-01-01', '2023-01-02', '2023-01-03'])"
      ],
      "metadata": {
        "colab": {
          "base_uri": "https://localhost:8080/"
        },
        "id": "K-VDZoF-Uswy",
        "outputId": "8f3b451d-b0a6-4953-97a2-a5190ed1c0ea"
      },
      "execution_count": 84,
      "outputs": [
        {
          "output_type": "execute_result",
          "data": {
            "text/plain": [
              "DatetimeIndex(['2023-01-01', '2023-01-02', '2023-01-03'], dtype='datetime64[ns]', freq=None)"
            ]
          },
          "metadata": {},
          "execution_count": 84
        }
      ]
    },
    {
      "cell_type": "code",
      "source": [
        "# convert Pandas dates to datetime\n",
        "pd.to_datetime(dt.datetime(2023, 1, 1))\n",
        "\n",
        "# same with list"
      ],
      "metadata": {
        "colab": {
          "base_uri": "https://localhost:8080/"
        },
        "id": "_gQh1SXyUymE",
        "outputId": "76beb9d9-37a3-4b12-e7de-cdbf77d7af89"
      },
      "execution_count": 85,
      "outputs": [
        {
          "output_type": "execute_result",
          "data": {
            "text/plain": [
              "Timestamp('2023-01-01 00:00:00')"
            ]
          },
          "metadata": {},
          "execution_count": 85
        }
      ]
    },
    {
      "cell_type": "code",
      "source": [
        "# common use is converting existing Series to datetime\n",
        "purchase_dates = pd.Series(\n",
        "    data = ['2023-01-01', '2023-01-02', '2023-01-03']\n",
        ")\n",
        "\n",
        "purchase_dates"
      ],
      "metadata": {
        "colab": {
          "base_uri": "https://localhost:8080/"
        },
        "id": "SBffAKfZVUFv",
        "outputId": "a02da3c7-6607-40f2-d04b-9f5fb5c64672"
      },
      "execution_count": 86,
      "outputs": [
        {
          "output_type": "execute_result",
          "data": {
            "text/plain": [
              "0    2023-01-01\n",
              "1    2023-01-02\n",
              "2    2023-01-03\n",
              "dtype: object"
            ]
          },
          "metadata": {},
          "execution_count": 86
        }
      ]
    },
    {
      "cell_type": "code",
      "source": [
        "# convert purchase_dates Series to datetime\n",
        "purchase_dates = pd.to_datetime(purchase_dates)\n",
        "\n",
        "purchase_dates"
      ],
      "metadata": {
        "colab": {
          "base_uri": "https://localhost:8080/"
        },
        "id": "yNgMIxszVqi8",
        "outputId": "43f379f7-fa76-4124-bacb-dfac709baec7"
      },
      "execution_count": 87,
      "outputs": [
        {
          "output_type": "execute_result",
          "data": {
            "text/plain": [
              "0   2023-01-01\n",
              "1   2023-01-02\n",
              "2   2023-01-03\n",
              "dtype: datetime64[ns]"
            ]
          },
          "metadata": {},
          "execution_count": 87
        }
      ]
    },
    {
      "cell_type": "code",
      "source": [
        "# what if some of the dates aren't a date?\n",
        "(\n",
        "    pd.to_datetime(\n",
        "        pd.Series(\n",
        "            data = ['2023-01-01', '2023-01-02', 'hello', '2023-02-31'],  # first two are fine; hello and feb 31 aren't dates\n",
        "        ),\n",
        "        errors = 'coerce'                                                # default is 'raise'\n",
        "\n",
        "    )\n",
        ")\n",
        "\n",
        "# NaT is not a time; basically can't be converted in pandas datetime\n",
        "# akin to NaN"
      ],
      "metadata": {
        "colab": {
          "base_uri": "https://localhost:8080/"
        },
        "id": "VzdzjACNVwrC",
        "outputId": "6c5ff804-1198-4dd5-8aff-d1b4d63e5de6"
      },
      "execution_count": 93,
      "outputs": [
        {
          "output_type": "execute_result",
          "data": {
            "text/plain": [
              "0   2023-01-01\n",
              "1   2023-01-02\n",
              "2          NaT\n",
              "3          NaT\n",
              "dtype: datetime64[ns]"
            ]
          },
          "metadata": {},
          "execution_count": 93
        }
      ]
    },
    {
      "cell_type": "code",
      "source": [
        "# unix time: number of seconds since Jan 1, 1970 at midnight\n",
        "# need additional parameter: unit = 's'\n",
        "(\n",
        "    pd.to_datetime(\n",
        "        [1, 2, 3],                # unix time\n",
        "        unit = 's'\n",
        "    )\n",
        ")"
      ],
      "metadata": {
        "colab": {
          "base_uri": "https://localhost:8080/"
        },
        "id": "_CcQ7WIfW4Du",
        "outputId": "1779447b-21ed-4c37-dd2d-f2dd8be2e78e"
      },
      "execution_count": 96,
      "outputs": [
        {
          "output_type": "execute_result",
          "data": {
            "text/plain": [
              "DatetimeIndex(['1970-01-01 00:00:01', '1970-01-01 00:00:02',\n",
              "               '1970-01-01 00:00:03'],\n",
              "              dtype='datetime64[ns]', freq=None)"
            ]
          },
          "metadata": {},
          "execution_count": 96
        }
      ]
    },
    {
      "cell_type": "markdown",
      "source": [
        "## pd.date_range() method"
      ],
      "metadata": {
        "id": "XTgkImHiZ-4u"
      }
    },
    {
      "cell_type": "code",
      "source": [],
      "metadata": {
        "id": "_h4LSCE8Zn6T"
      },
      "execution_count": null,
      "outputs": []
    }
  ]
}