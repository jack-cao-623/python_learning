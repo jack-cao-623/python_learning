{
  "nbformat": 4,
  "nbformat_minor": 0,
  "metadata": {
    "colab": {
      "provenance": [],
      "authorship_tag": "ABX9TyPULjKW/ciLywg2PMfrcK3R",
      "include_colab_link": true
    },
    "kernelspec": {
      "name": "python3",
      "display_name": "Python 3"
    },
    "language_info": {
      "name": "python"
    }
  },
  "cells": [
    {
      "cell_type": "markdown",
      "metadata": {
        "id": "view-in-github",
        "colab_type": "text"
      },
      "source": [
        "<a href=\"https://colab.research.google.com/github/jack-cao-623/python_learning/blob/main/pandas_dates_and_times.ipynb\" target=\"_parent\"><img src=\"https://colab.research.google.com/assets/colab-badge.svg\" alt=\"Open In Colab\"/></a>"
      ]
    },
    {
      "cell_type": "markdown",
      "source": [
        "# Pandas Dates and Times\n",
        "- Python has a built-in date module"
      ],
      "metadata": {
        "id": "LMkcZTu6FC-h"
      }
    },
    {
      "cell_type": "code",
      "source": [
        "# libraries needed\n",
        "import numpy as np\n",
        "import pandas as pd\n",
        "import datetime as dt   \n",
        "\n",
        "# datetime is not an external library\n",
        "# it's part of Python; part of standard library; think of as internal libraries\n",
        "# not imported automatically to preserve memory\n",
        "\n",
        "# but imported the same way as pandas is to keep things consistent and simple"
      ],
      "metadata": {
        "id": "mRa9kXuWFEFJ"
      },
      "execution_count": 1,
      "outputs": []
    },
    {
      "cell_type": "markdown",
      "source": [
        "## Review of Python's datetime module\n",
        "- internal library Python loads on demand\n",
        "- not automatically loaded to preserve memory\n",
        "- module is synonymous with libary\n",
        "- dt.date() method creates a date object\n",
        "- dt.datetime() method creates a datetime object, which is date plus time hh:mm:ss"
      ],
      "metadata": {
        "id": "fvZAd1WRaHYC"
      }
    },
    {
      "cell_type": "code",
      "source": [
        "# .datetime() method is part of datetime module/library\n",
        "# .datetime() method creates a datetime object\n",
        "\n",
        "# date object: YYYY-MM-DD\n",
        "# datetime object: YYYY-MM-DD also includes timestamp"
      ],
      "metadata": {
        "id": "jD0-Db0CFGF_"
      },
      "execution_count": 2,
      "outputs": []
    },
    {
      "cell_type": "code",
      "source": [
        "# create date object using dt.date() method\n",
        "new_years_day = dt.date(year = 2023, month = 1, day = 1)\n",
        "new_years_day "
      ],
      "metadata": {
        "colab": {
          "base_uri": "https://localhost:8080/"
        },
        "id": "Duo-IBxIbe_Q",
        "outputId": "b1295308-2d84-4b52-f855-a6e6e56f74e9"
      },
      "execution_count": 3,
      "outputs": [
        {
          "output_type": "execute_result",
          "data": {
            "text/plain": [
              "datetime.date(2023, 1, 1)"
            ]
          },
          "metadata": {},
          "execution_count": 3
        }
      ]
    },
    {
      "cell_type": "code",
      "source": [
        "# attributes on new_years_day\n",
        "print(new_years_day.year)\n",
        "print(new_years_day.month)\n",
        "print(new_years_day.day)"
      ],
      "metadata": {
        "colab": {
          "base_uri": "https://localhost:8080/"
        },
        "id": "Ozs31d6VbkrZ",
        "outputId": "b031edcd-3f29-48d4-cc4d-734851f713a1"
      },
      "execution_count": 4,
      "outputs": [
        {
          "output_type": "stream",
          "name": "stdout",
          "text": [
            "2023\n",
            "1\n",
            "1\n"
          ]
        }
      ]
    },
    {
      "cell_type": "code",
      "source": [
        "# create datetime object using dt.datetime() method\n",
        "maddie_bday = dt.datetime(\n",
        "    year = 2022, month = 3, day = 3,\n",
        "    hour = 1, minute = 39\n",
        ")\n",
        "\n",
        "maddie_bday"
      ],
      "metadata": {
        "colab": {
          "base_uri": "https://localhost:8080/"
        },
        "id": "feMzmKuReWw0",
        "outputId": "d7f750bf-bb7f-458a-cc0d-09be4972f1bd"
      },
      "execution_count": 5,
      "outputs": [
        {
          "output_type": "execute_result",
          "data": {
            "text/plain": [
              "datetime.datetime(2022, 3, 3, 1, 39)"
            ]
          },
          "metadata": {},
          "execution_count": 5
        }
      ]
    },
    {
      "cell_type": "code",
      "source": [
        "# view in alternative format\n",
        "str(maddie_bday)"
      ],
      "metadata": {
        "colab": {
          "base_uri": "https://localhost:8080/",
          "height": 35
        },
        "id": "eeY-eVWSfcJV",
        "outputId": "9492b015-d6ca-4ba0-e242-103106c776bb"
      },
      "execution_count": 6,
      "outputs": [
        {
          "output_type": "execute_result",
          "data": {
            "text/plain": [
              "'2022-03-03 01:39:00'"
            ],
            "application/vnd.google.colaboratory.intrinsic+json": {
              "type": "string"
            }
          },
          "metadata": {},
          "execution_count": 6
        }
      ]
    },
    {
      "cell_type": "code",
      "source": [
        "# attributes of maddie_bday\n",
        "print(maddie_bday.year)\n",
        "print(maddie_bday.month)\n",
        "print(maddie_bday.day)\n",
        "\n",
        "print(maddie_bday.hour)\n",
        "print(maddie_bday.minute)\n",
        "print(maddie_bday.second)"
      ],
      "metadata": {
        "colab": {
          "base_uri": "https://localhost:8080/"
        },
        "id": "_2nVTI3CfhLh",
        "outputId": "f4d2b2d3-c95f-43df-95b0-c3ea9171c955"
      },
      "execution_count": 7,
      "outputs": [
        {
          "output_type": "stream",
          "name": "stdout",
          "text": [
            "2022\n",
            "3\n",
            "3\n",
            "1\n",
            "39\n",
            "0\n"
          ]
        }
      ]
    },
    {
      "cell_type": "markdown",
      "source": [
        "## Pandas timestamp object\n",
        "- equivalent of Python datetime object\n",
        "  - pandas Timestamp is better for data analysis; custom \n",
        "  built, so do things like add and subtract chunks of time; \n",
        "  more efficient\n",
        "- basically a single moment in time: a date and a time, but called a timestamp\n",
        "- don't need hour:minute:second part; default to midnight, 00:00:00\n",
        "- pd.Timestamp() method\n",
        "  - input is a string, can be flexible in string format\n",
        "  - but best stick with YYYY-MM-DD format"
      ],
      "metadata": {
        "id": "EpYhxro_fw89"
      }
    },
    {
      "cell_type": "code",
      "source": [
        "# January 1, 2023\n",
        "pd.Timestamp('2023-01-01')"
      ],
      "metadata": {
        "colab": {
          "base_uri": "https://localhost:8080/"
        },
        "id": "LPh59_JLfkyg",
        "outputId": "85857e89-4e64-4fc6-cb99-174b139310ca"
      },
      "execution_count": 8,
      "outputs": [
        {
          "output_type": "execute_result",
          "data": {
            "text/plain": [
              "Timestamp('2023-01-01 00:00:00')"
            ]
          },
          "metadata": {},
          "execution_count": 8
        }
      ]
    },
    {
      "cell_type": "code",
      "source": [
        "# also January 1, 2023\n",
        "pd.Timestamp('01/01/23')\n",
        "  # note the midnight default for time component"
      ],
      "metadata": {
        "colab": {
          "base_uri": "https://localhost:8080/"
        },
        "id": "OjXFyGv2_GoQ",
        "outputId": "9fd4bbc5-6a3f-4d37-ed38-a52b578d9d2a"
      },
      "execution_count": 9,
      "outputs": [
        {
          "output_type": "execute_result",
          "data": {
            "text/plain": [
              "Timestamp('2023-01-01 00:00:00')"
            ]
          },
          "metadata": {},
          "execution_count": 9
        }
      ]
    },
    {
      "cell_type": "code",
      "source": [
        "# March 3, 2022 at 1:39am, Maddie's birthday\n",
        "pd.Timestamp('2022-03-03 01:39:00')"
      ],
      "metadata": {
        "colab": {
          "base_uri": "https://localhost:8080/"
        },
        "id": "dCK9cCDW_La-",
        "outputId": "d9db0084-fc11-4374-8a50-8185eecee90c"
      },
      "execution_count": 10,
      "outputs": [
        {
          "output_type": "execute_result",
          "data": {
            "text/plain": [
              "Timestamp('2022-03-03 01:39:00')"
            ]
          },
          "metadata": {},
          "execution_count": 10
        }
      ]
    },
    {
      "cell_type": "code",
      "source": [
        "# also March 3, 2022 at 1:39am, Maddie's birthday\n",
        "pd.Timestamp('2022-03-03 1:39am')"
      ],
      "metadata": {
        "colab": {
          "base_uri": "https://localhost:8080/"
        },
        "id": "YRh4W6v7_-i2",
        "outputId": "f9683db6-5ca1-4f20-bc55-1090e53bd41d"
      },
      "execution_count": 11,
      "outputs": [
        {
          "output_type": "execute_result",
          "data": {
            "text/plain": [
              "Timestamp('2022-03-03 01:39:00')"
            ]
          },
          "metadata": {},
          "execution_count": 11
        }
      ]
    },
    {
      "cell_type": "code",
      "source": [
        "# feed a Pandas Datetime object\n",
        "pd.Timestamp(dt.datetime(2023, 1, 1))"
      ],
      "metadata": {
        "colab": {
          "base_uri": "https://localhost:8080/"
        },
        "id": "mBo3LEsIACLH",
        "outputId": "ba49dc45-6135-4579-8b62-a74ed3e742c6"
      },
      "execution_count": 16,
      "outputs": [
        {
          "output_type": "execute_result",
          "data": {
            "text/plain": [
              "Timestamp('2023-01-01 00:00:00')"
            ]
          },
          "metadata": {},
          "execution_count": 16
        }
      ]
    },
    {
      "cell_type": "markdown",
      "source": [
        "## pandas DateTimeIndex object\n",
        "- a collection of pandas Timestamps"
      ],
      "metadata": {
        "id": "3rhRpxgJBUvZ"
      }
    },
    {
      "cell_type": "code",
      "source": [],
      "metadata": {
        "id": "igERqWJ5AzBw"
      },
      "execution_count": null,
      "outputs": []
    }
  ]
}