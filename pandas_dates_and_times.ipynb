{
  "nbformat": 4,
  "nbformat_minor": 0,
  "metadata": {
    "colab": {
      "provenance": [],
      "authorship_tag": "ABX9TyN52ypwl0oOxKjUqt6fAaj/",
      "include_colab_link": true
    },
    "kernelspec": {
      "name": "python3",
      "display_name": "Python 3"
    },
    "language_info": {
      "name": "python"
    }
  },
  "cells": [
    {
      "cell_type": "markdown",
      "metadata": {
        "id": "view-in-github",
        "colab_type": "text"
      },
      "source": [
        "<a href=\"https://colab.research.google.com/github/jack-cao-623/python_learning/blob/main/pandas_dates_and_times.ipynb\" target=\"_parent\"><img src=\"https://colab.research.google.com/assets/colab-badge.svg\" alt=\"Open In Colab\"/></a>"
      ]
    },
    {
      "cell_type": "markdown",
      "source": [
        "# Pandas Dates and Times\n",
        "- Python has a built-in date module"
      ],
      "metadata": {
        "id": "LMkcZTu6FC-h"
      }
    },
    {
      "cell_type": "code",
      "source": [
        "# libraries needed\n",
        "import numpy as np\n",
        "import pandas as pd\n",
        "import datetime as dt   \n",
        "\n",
        "# datetime is not an external library\n",
        "# it's part of Python; part of standard library; think of as internal libraries\n",
        "# not imported automatically to preserve memory\n",
        "\n",
        "# but imported the same way as pandas is to keep things consistent and simple"
      ],
      "metadata": {
        "id": "mRa9kXuWFEFJ"
      },
      "execution_count": 27,
      "outputs": []
    },
    {
      "cell_type": "markdown",
      "source": [
        "## Review of Python's datetime module\n",
        "- internal library Python loads on demand\n",
        "- not automatically loaded to preserve memory\n",
        "- module is synonymous with libary\n",
        "- dt.date() method creates a date object\n",
        "- dt.datetime() method creates a datetime object, which is date plus time hh:mm:ss"
      ],
      "metadata": {
        "id": "fvZAd1WRaHYC"
      }
    },
    {
      "cell_type": "code",
      "source": [
        "# .datetime() method is part of datetime module/library\n",
        "# .datetime() method creates a datetime object\n",
        "\n",
        "# date object: YYYY-MM-DD\n",
        "# datetime object: YYYY-MM-DD also includes timestamp"
      ],
      "metadata": {
        "id": "jD0-Db0CFGF_"
      },
      "execution_count": 28,
      "outputs": []
    },
    {
      "cell_type": "code",
      "source": [
        "# create date object using dt.date() method\n",
        "new_years_day = dt.date(year = 2023, month = 1, day = 1)\n",
        "new_years_day "
      ],
      "metadata": {
        "colab": {
          "base_uri": "https://localhost:8080/"
        },
        "id": "Duo-IBxIbe_Q",
        "outputId": "94893462-994f-489e-edd9-ebcf9be5166b"
      },
      "execution_count": 29,
      "outputs": [
        {
          "output_type": "execute_result",
          "data": {
            "text/plain": [
              "datetime.date(2023, 1, 1)"
            ]
          },
          "metadata": {},
          "execution_count": 29
        }
      ]
    },
    {
      "cell_type": "code",
      "source": [
        "# attributes on new_years_day\n",
        "print(new_years_day.year)\n",
        "print(new_years_day.month)\n",
        "print(new_years_day.day)"
      ],
      "metadata": {
        "colab": {
          "base_uri": "https://localhost:8080/"
        },
        "id": "Ozs31d6VbkrZ",
        "outputId": "7c23fbff-4fdc-4555-debc-ff1af4e2fba2"
      },
      "execution_count": 30,
      "outputs": [
        {
          "output_type": "stream",
          "name": "stdout",
          "text": [
            "2023\n",
            "1\n",
            "1\n"
          ]
        }
      ]
    },
    {
      "cell_type": "code",
      "source": [
        "# create datetime object using dt.datetime() method\n",
        "maddie_bday = dt.datetime(\n",
        "    year = 2022, month = 3, day = 3,\n",
        "    hour = 1, minute = 39\n",
        ")\n",
        "\n",
        "maddie_bday"
      ],
      "metadata": {
        "colab": {
          "base_uri": "https://localhost:8080/"
        },
        "id": "feMzmKuReWw0",
        "outputId": "a9ece6a4-1455-48d1-87b6-02a94866bbb9"
      },
      "execution_count": 31,
      "outputs": [
        {
          "output_type": "execute_result",
          "data": {
            "text/plain": [
              "datetime.datetime(2022, 3, 3, 1, 39)"
            ]
          },
          "metadata": {},
          "execution_count": 31
        }
      ]
    },
    {
      "cell_type": "code",
      "source": [
        "# view in alternative format\n",
        "str(maddie_bday)"
      ],
      "metadata": {
        "colab": {
          "base_uri": "https://localhost:8080/",
          "height": 35
        },
        "id": "eeY-eVWSfcJV",
        "outputId": "d99667ed-8f1a-436e-806b-6cd97754e930"
      },
      "execution_count": 32,
      "outputs": [
        {
          "output_type": "execute_result",
          "data": {
            "text/plain": [
              "'2022-03-03 01:39:00'"
            ],
            "application/vnd.google.colaboratory.intrinsic+json": {
              "type": "string"
            }
          },
          "metadata": {},
          "execution_count": 32
        }
      ]
    },
    {
      "cell_type": "code",
      "source": [
        "# attributes of maddie_bday\n",
        "print(maddie_bday.year)\n",
        "print(maddie_bday.month)\n",
        "print(maddie_bday.day)\n",
        "\n",
        "print(maddie_bday.hour)\n",
        "print(maddie_bday.minute)\n",
        "print(maddie_bday.second)"
      ],
      "metadata": {
        "colab": {
          "base_uri": "https://localhost:8080/"
        },
        "id": "_2nVTI3CfhLh",
        "outputId": "f3cba7f2-d3a7-402f-b030-bb4066dbbc83"
      },
      "execution_count": 33,
      "outputs": [
        {
          "output_type": "stream",
          "name": "stdout",
          "text": [
            "2022\n",
            "3\n",
            "3\n",
            "1\n",
            "39\n",
            "0\n"
          ]
        }
      ]
    },
    {
      "cell_type": "markdown",
      "source": [
        "## Pandas timestamp object\n",
        "- equivalent of Python datetime object\n",
        "  - pandas Timestamp is better for data analysis; custom \n",
        "  built, so do things like add and subtract chunks of time; \n",
        "  more efficient\n",
        "- basically a single moment in time: a date and a time, but called a timestamp\n",
        "- don't need hour:minute:second part; default to midnight, 00:00:00\n",
        "- pd.Timestamp() method\n",
        "  - input is a string, can be flexible in string format\n",
        "  - but best stick with YYYY-MM-DD format"
      ],
      "metadata": {
        "id": "EpYhxro_fw89"
      }
    },
    {
      "cell_type": "code",
      "source": [
        "# January 1, 2023\n",
        "pd.Timestamp('2023-01-01')"
      ],
      "metadata": {
        "colab": {
          "base_uri": "https://localhost:8080/"
        },
        "id": "LPh59_JLfkyg",
        "outputId": "f470df34-7d59-4246-c44c-2f60ec66c167"
      },
      "execution_count": 34,
      "outputs": [
        {
          "output_type": "execute_result",
          "data": {
            "text/plain": [
              "Timestamp('2023-01-01 00:00:00')"
            ]
          },
          "metadata": {},
          "execution_count": 34
        }
      ]
    },
    {
      "cell_type": "code",
      "source": [
        "# also January 1, 2023\n",
        "pd.Timestamp('01/01/23')\n",
        "  # note the midnight default for time component"
      ],
      "metadata": {
        "colab": {
          "base_uri": "https://localhost:8080/"
        },
        "id": "OjXFyGv2_GoQ",
        "outputId": "fa63199a-e647-4611-cd44-e5497e6af8d0"
      },
      "execution_count": 35,
      "outputs": [
        {
          "output_type": "execute_result",
          "data": {
            "text/plain": [
              "Timestamp('2023-01-01 00:00:00')"
            ]
          },
          "metadata": {},
          "execution_count": 35
        }
      ]
    },
    {
      "cell_type": "code",
      "source": [
        "# March 3, 2022 at 1:39am, Maddie's birthday\n",
        "pd.Timestamp('2022-03-03 01:39:00')"
      ],
      "metadata": {
        "colab": {
          "base_uri": "https://localhost:8080/"
        },
        "id": "dCK9cCDW_La-",
        "outputId": "15f524f5-8e5c-4692-c3eb-bdb1ea7b74e7"
      },
      "execution_count": 36,
      "outputs": [
        {
          "output_type": "execute_result",
          "data": {
            "text/plain": [
              "Timestamp('2022-03-03 01:39:00')"
            ]
          },
          "metadata": {},
          "execution_count": 36
        }
      ]
    },
    {
      "cell_type": "code",
      "source": [
        "# also March 3, 2022 at 1:39am, Maddie's birthday\n",
        "pd.Timestamp('2022-03-03 1:39am')"
      ],
      "metadata": {
        "colab": {
          "base_uri": "https://localhost:8080/"
        },
        "id": "YRh4W6v7_-i2",
        "outputId": "c970f31a-754d-4e7e-d4f0-3608306da318"
      },
      "execution_count": 37,
      "outputs": [
        {
          "output_type": "execute_result",
          "data": {
            "text/plain": [
              "Timestamp('2022-03-03 01:39:00')"
            ]
          },
          "metadata": {},
          "execution_count": 37
        }
      ]
    },
    {
      "cell_type": "code",
      "source": [
        "# feed a Pandas Datetime object\n",
        "pd.Timestamp(dt.datetime(2023, 1, 1))"
      ],
      "metadata": {
        "colab": {
          "base_uri": "https://localhost:8080/"
        },
        "id": "mBo3LEsIACLH",
        "outputId": "49753554-2fc7-461d-f931-db40431ea097"
      },
      "execution_count": 38,
      "outputs": [
        {
          "output_type": "execute_result",
          "data": {
            "text/plain": [
              "Timestamp('2023-01-01 00:00:00')"
            ]
          },
          "metadata": {},
          "execution_count": 38
        }
      ]
    },
    {
      "cell_type": "markdown",
      "source": [
        "## pd.DatetimeIndex object\n",
        "- a collection of pandas Timestamps"
      ],
      "metadata": {
        "id": "3rhRpxgJBUvZ"
      }
    },
    {
      "cell_type": "code",
      "source": [
        "# follow along video\n",
        "list_of_dates = ['2023-01-01', '2023-01-02', '2023-01-03']\n",
        "pd.DatetimeIndex(list_of_dates)\n",
        "\n",
        "# convert date column/Series to index --> more relevant use case you'll encounter"
      ],
      "metadata": {
        "colab": {
          "base_uri": "https://localhost:8080/"
        },
        "id": "igERqWJ5AzBw",
        "outputId": "c21ffd65-d3a9-4d36-8fe2-532c73066984"
      },
      "execution_count": 39,
      "outputs": [
        {
          "output_type": "execute_result",
          "data": {
            "text/plain": [
              "DatetimeIndex(['2023-01-01', '2023-01-02', '2023-01-03'], dtype='datetime64[ns]', freq=None)"
            ]
          },
          "metadata": {},
          "execution_count": 39
        }
      ]
    },
    {
      "cell_type": "code",
      "source": [
        "# using Python date\n",
        "another_list_of_dates = [dt.date(2023, 1, 1), dt.date(2023, 1, 2), dt.date(2023, 1, 3)]\n",
        "pd.DatetimeIndex(another_list_of_dates)"
      ],
      "metadata": {
        "colab": {
          "base_uri": "https://localhost:8080/"
        },
        "id": "c2BNRpIkSmlZ",
        "outputId": "0f7ade44-8e1f-4bac-bb68-104217c6a805"
      },
      "execution_count": 40,
      "outputs": [
        {
          "output_type": "execute_result",
          "data": {
            "text/plain": [
              "DatetimeIndex(['2023-01-01', '2023-01-02', '2023-01-03'], dtype='datetime64[ns]', freq=None)"
            ]
          },
          "metadata": {},
          "execution_count": 40
        }
      ]
    },
    {
      "cell_type": "code",
      "source": [
        "# create a Series where index is datetime\n",
        "pd.Series(\n",
        "    data = [1, 2, 3],\n",
        "    index = pd.DatetimeIndex(list_of_dates)         # list_of_dates defined above\n",
        ")"
      ],
      "metadata": {
        "colab": {
          "base_uri": "https://localhost:8080/"
        },
        "id": "JThz511-TBKy",
        "outputId": "9dfba7e6-a66e-43c6-e3e6-f48219e2b2cd"
      },
      "execution_count": 41,
      "outputs": [
        {
          "output_type": "execute_result",
          "data": {
            "text/plain": [
              "2023-01-01    1\n",
              "2023-01-02    2\n",
              "2023-01-03    3\n",
              "dtype: int64"
            ]
          },
          "metadata": {},
          "execution_count": 41
        }
      ]
    },
    {
      "cell_type": "code",
      "source": [
        "# convert data column/Series to index\n",
        "fake_dat = pd.DataFrame(\n",
        "    {\n",
        "        'purchase_date': ['2023-01-01', '2023-01-02', '2023-01-03'], \n",
        "        'purchase_amout': [100, 200, 300],\n",
        "        'item': ['pen', 'pencil', 'paper']\n",
        "    }\n",
        ")\n",
        "\n",
        "fake_dat"
      ],
      "metadata": {
        "colab": {
          "base_uri": "https://localhost:8080/",
          "height": 143
        },
        "id": "kvgQwnd0KIX2",
        "outputId": "2fff2594-320f-485a-f34d-6ab90b800678"
      },
      "execution_count": 42,
      "outputs": [
        {
          "output_type": "execute_result",
          "data": {
            "text/plain": [
              "  purchase_date  purchase_amout    item\n",
              "0    2023-01-01             100     pen\n",
              "1    2023-01-02             200  pencil\n",
              "2    2023-01-03             300   paper"
            ],
            "text/html": [
              "\n",
              "  <div id=\"df-e8f29c83-b956-427e-827e-f1816ca5e06e\">\n",
              "    <div class=\"colab-df-container\">\n",
              "      <div>\n",
              "<style scoped>\n",
              "    .dataframe tbody tr th:only-of-type {\n",
              "        vertical-align: middle;\n",
              "    }\n",
              "\n",
              "    .dataframe tbody tr th {\n",
              "        vertical-align: top;\n",
              "    }\n",
              "\n",
              "    .dataframe thead th {\n",
              "        text-align: right;\n",
              "    }\n",
              "</style>\n",
              "<table border=\"1\" class=\"dataframe\">\n",
              "  <thead>\n",
              "    <tr style=\"text-align: right;\">\n",
              "      <th></th>\n",
              "      <th>purchase_date</th>\n",
              "      <th>purchase_amout</th>\n",
              "      <th>item</th>\n",
              "    </tr>\n",
              "  </thead>\n",
              "  <tbody>\n",
              "    <tr>\n",
              "      <th>0</th>\n",
              "      <td>2023-01-01</td>\n",
              "      <td>100</td>\n",
              "      <td>pen</td>\n",
              "    </tr>\n",
              "    <tr>\n",
              "      <th>1</th>\n",
              "      <td>2023-01-02</td>\n",
              "      <td>200</td>\n",
              "      <td>pencil</td>\n",
              "    </tr>\n",
              "    <tr>\n",
              "      <th>2</th>\n",
              "      <td>2023-01-03</td>\n",
              "      <td>300</td>\n",
              "      <td>paper</td>\n",
              "    </tr>\n",
              "  </tbody>\n",
              "</table>\n",
              "</div>\n",
              "      <button class=\"colab-df-convert\" onclick=\"convertToInteractive('df-e8f29c83-b956-427e-827e-f1816ca5e06e')\"\n",
              "              title=\"Convert this dataframe to an interactive table.\"\n",
              "              style=\"display:none;\">\n",
              "        \n",
              "  <svg xmlns=\"http://www.w3.org/2000/svg\" height=\"24px\"viewBox=\"0 0 24 24\"\n",
              "       width=\"24px\">\n",
              "    <path d=\"M0 0h24v24H0V0z\" fill=\"none\"/>\n",
              "    <path d=\"M18.56 5.44l.94 2.06.94-2.06 2.06-.94-2.06-.94-.94-2.06-.94 2.06-2.06.94zm-11 1L8.5 8.5l.94-2.06 2.06-.94-2.06-.94L8.5 2.5l-.94 2.06-2.06.94zm10 10l.94 2.06.94-2.06 2.06-.94-2.06-.94-.94-2.06-.94 2.06-2.06.94z\"/><path d=\"M17.41 7.96l-1.37-1.37c-.4-.4-.92-.59-1.43-.59-.52 0-1.04.2-1.43.59L10.3 9.45l-7.72 7.72c-.78.78-.78 2.05 0 2.83L4 21.41c.39.39.9.59 1.41.59.51 0 1.02-.2 1.41-.59l7.78-7.78 2.81-2.81c.8-.78.8-2.07 0-2.86zM5.41 20L4 18.59l7.72-7.72 1.47 1.35L5.41 20z\"/>\n",
              "  </svg>\n",
              "      </button>\n",
              "      \n",
              "  <style>\n",
              "    .colab-df-container {\n",
              "      display:flex;\n",
              "      flex-wrap:wrap;\n",
              "      gap: 12px;\n",
              "    }\n",
              "\n",
              "    .colab-df-convert {\n",
              "      background-color: #E8F0FE;\n",
              "      border: none;\n",
              "      border-radius: 50%;\n",
              "      cursor: pointer;\n",
              "      display: none;\n",
              "      fill: #1967D2;\n",
              "      height: 32px;\n",
              "      padding: 0 0 0 0;\n",
              "      width: 32px;\n",
              "    }\n",
              "\n",
              "    .colab-df-convert:hover {\n",
              "      background-color: #E2EBFA;\n",
              "      box-shadow: 0px 1px 2px rgba(60, 64, 67, 0.3), 0px 1px 3px 1px rgba(60, 64, 67, 0.15);\n",
              "      fill: #174EA6;\n",
              "    }\n",
              "\n",
              "    [theme=dark] .colab-df-convert {\n",
              "      background-color: #3B4455;\n",
              "      fill: #D2E3FC;\n",
              "    }\n",
              "\n",
              "    [theme=dark] .colab-df-convert:hover {\n",
              "      background-color: #434B5C;\n",
              "      box-shadow: 0px 1px 3px 1px rgba(0, 0, 0, 0.15);\n",
              "      filter: drop-shadow(0px 1px 2px rgba(0, 0, 0, 0.3));\n",
              "      fill: #FFFFFF;\n",
              "    }\n",
              "  </style>\n",
              "\n",
              "      <script>\n",
              "        const buttonEl =\n",
              "          document.querySelector('#df-e8f29c83-b956-427e-827e-f1816ca5e06e button.colab-df-convert');\n",
              "        buttonEl.style.display =\n",
              "          google.colab.kernel.accessAllowed ? 'block' : 'none';\n",
              "\n",
              "        async function convertToInteractive(key) {\n",
              "          const element = document.querySelector('#df-e8f29c83-b956-427e-827e-f1816ca5e06e');\n",
              "          const dataTable =\n",
              "            await google.colab.kernel.invokeFunction('convertToInteractive',\n",
              "                                                     [key], {});\n",
              "          if (!dataTable) return;\n",
              "\n",
              "          const docLinkHtml = 'Like what you see? Visit the ' +\n",
              "            '<a target=\"_blank\" href=https://colab.research.google.com/notebooks/data_table.ipynb>data table notebook</a>'\n",
              "            + ' to learn more about interactive tables.';\n",
              "          element.innerHTML = '';\n",
              "          dataTable['output_type'] = 'display_data';\n",
              "          await google.colab.output.renderOutput(dataTable, element);\n",
              "          const docLink = document.createElement('div');\n",
              "          docLink.innerHTML = docLinkHtml;\n",
              "          element.appendChild(docLink);\n",
              "        }\n",
              "      </script>\n",
              "    </div>\n",
              "  </div>\n",
              "  "
            ]
          },
          "metadata": {},
          "execution_count": 42
        }
      ]
    },
    {
      "cell_type": "code",
      "source": [
        "# convert purchase_date to datetime\n",
        "fake_dat['purchase_date'] = pd.to_datetime(fake_dat['purchase_date'])\n",
        "fake_dat.info()"
      ],
      "metadata": {
        "colab": {
          "base_uri": "https://localhost:8080/"
        },
        "id": "xDrOdtkQO0mV",
        "outputId": "f9cb25af-a39c-414c-9b05-a5afc694b63c"
      },
      "execution_count": 43,
      "outputs": [
        {
          "output_type": "stream",
          "name": "stdout",
          "text": [
            "<class 'pandas.core.frame.DataFrame'>\n",
            "RangeIndex: 3 entries, 0 to 2\n",
            "Data columns (total 3 columns):\n",
            " #   Column          Non-Null Count  Dtype         \n",
            "---  ------          --------------  -----         \n",
            " 0   purchase_date   3 non-null      datetime64[ns]\n",
            " 1   purchase_amout  3 non-null      int64         \n",
            " 2   item            3 non-null      object        \n",
            "dtypes: datetime64[ns](1), int64(1), object(1)\n",
            "memory usage: 200.0+ bytes\n"
          ]
        }
      ]
    },
    {
      "cell_type": "code",
      "source": [
        "# make purchase_date the index\n",
        "(\n",
        "    fake_dat\n",
        "      .set_index('purchase_date')\n",
        "      .index\n",
        ")\n",
        "\n",
        "# index is already a datetime index"
      ],
      "metadata": {
        "colab": {
          "base_uri": "https://localhost:8080/"
        },
        "id": "wnxXiIIxQbvA",
        "outputId": "08c3d7e5-5e0d-400f-9a88-db3bf1b43753"
      },
      "execution_count": 44,
      "outputs": [
        {
          "output_type": "execute_result",
          "data": {
            "text/plain": [
              "DatetimeIndex(['2023-01-01', '2023-01-02', '2023-01-03'], dtype='datetime64[ns]', name='purchase_date', freq=None)"
            ]
          },
          "metadata": {},
          "execution_count": 44
        }
      ]
    },
    {
      "cell_type": "markdown",
      "source": [
        "## pd.to_datetime() method\n",
        "- convert to Pandas time related object\n",
        "- e.g., string or Python date object to Pandas datetime object\n",
        "- errors = 'coerce' for NaT, not a time, when something can't be converted to a Pandas datetime\n",
        "  - default is errors = 'raise'"
      ],
      "metadata": {
        "id": "QQh899p9T20R"
      }
    },
    {
      "cell_type": "code",
      "source": [
        "# convert strings to Pandas datetime\n",
        "pd.to_datetime('2023-01-01')"
      ],
      "metadata": {
        "colab": {
          "base_uri": "https://localhost:8080/"
        },
        "id": "9JGWkKb0QjzT",
        "outputId": "4de6dfc3-b03b-47ac-8220-98a9b6a59b82"
      },
      "execution_count": 45,
      "outputs": [
        {
          "output_type": "execute_result",
          "data": {
            "text/plain": [
              "Timestamp('2023-01-01 00:00:00')"
            ]
          },
          "metadata": {},
          "execution_count": 45
        }
      ]
    },
    {
      "cell_type": "code",
      "source": [
        "# can also convert a list of strings\n",
        "pd.to_datetime(['2023-01-01', '2023-01-02', '2023-01-03'])"
      ],
      "metadata": {
        "colab": {
          "base_uri": "https://localhost:8080/"
        },
        "id": "K-VDZoF-Uswy",
        "outputId": "d4e2302b-e3b6-4e3e-9f9e-0910fe5c3509"
      },
      "execution_count": 46,
      "outputs": [
        {
          "output_type": "execute_result",
          "data": {
            "text/plain": [
              "DatetimeIndex(['2023-01-01', '2023-01-02', '2023-01-03'], dtype='datetime64[ns]', freq=None)"
            ]
          },
          "metadata": {},
          "execution_count": 46
        }
      ]
    },
    {
      "cell_type": "code",
      "source": [
        "# convert Pandas dates to datetime\n",
        "pd.to_datetime(dt.datetime(2023, 1, 1))\n",
        "\n",
        "# same with list"
      ],
      "metadata": {
        "colab": {
          "base_uri": "https://localhost:8080/"
        },
        "id": "_gQh1SXyUymE",
        "outputId": "6e4197d2-7c64-4129-8149-3ce271c029e8"
      },
      "execution_count": 47,
      "outputs": [
        {
          "output_type": "execute_result",
          "data": {
            "text/plain": [
              "Timestamp('2023-01-01 00:00:00')"
            ]
          },
          "metadata": {},
          "execution_count": 47
        }
      ]
    },
    {
      "cell_type": "code",
      "source": [
        "# common use is converting existing Series to datetime\n",
        "purchase_dates = pd.Series(\n",
        "    data = ['2023-01-01', '2023-01-02', '2023-01-03']\n",
        ")\n",
        "\n",
        "purchase_dates"
      ],
      "metadata": {
        "colab": {
          "base_uri": "https://localhost:8080/"
        },
        "id": "SBffAKfZVUFv",
        "outputId": "ed9638ef-710b-44a9-884c-5804f3e30e4f"
      },
      "execution_count": 48,
      "outputs": [
        {
          "output_type": "execute_result",
          "data": {
            "text/plain": [
              "0    2023-01-01\n",
              "1    2023-01-02\n",
              "2    2023-01-03\n",
              "dtype: object"
            ]
          },
          "metadata": {},
          "execution_count": 48
        }
      ]
    },
    {
      "cell_type": "code",
      "source": [
        "# convert purchase_dates Series to datetime\n",
        "purchase_dates = pd.to_datetime(purchase_dates)\n",
        "\n",
        "purchase_dates"
      ],
      "metadata": {
        "colab": {
          "base_uri": "https://localhost:8080/"
        },
        "id": "yNgMIxszVqi8",
        "outputId": "2c93b976-c573-40cf-f188-c1b2a79f5ea5"
      },
      "execution_count": 49,
      "outputs": [
        {
          "output_type": "execute_result",
          "data": {
            "text/plain": [
              "0   2023-01-01\n",
              "1   2023-01-02\n",
              "2   2023-01-03\n",
              "dtype: datetime64[ns]"
            ]
          },
          "metadata": {},
          "execution_count": 49
        }
      ]
    },
    {
      "cell_type": "code",
      "source": [
        "# what if some of the dates aren't a date?\n",
        "(\n",
        "    pd.to_datetime(\n",
        "        pd.Series(\n",
        "            data = ['2023-01-01', '2023-01-02', 'hello', '2023-02-31'],  # first two are fine; hello and feb 31 aren't dates\n",
        "        ),\n",
        "        errors = 'coerce'                                                # default is 'raise'\n",
        "\n",
        "    )\n",
        ")\n",
        "\n",
        "# NaT is not a time; basically can't be converted in pandas datetime\n",
        "# akin to NaN"
      ],
      "metadata": {
        "colab": {
          "base_uri": "https://localhost:8080/"
        },
        "id": "VzdzjACNVwrC",
        "outputId": "0c7c37aa-7b18-4913-d6e3-e0de4661784e"
      },
      "execution_count": 50,
      "outputs": [
        {
          "output_type": "execute_result",
          "data": {
            "text/plain": [
              "0   2023-01-01\n",
              "1   2023-01-02\n",
              "2          NaT\n",
              "3          NaT\n",
              "dtype: datetime64[ns]"
            ]
          },
          "metadata": {},
          "execution_count": 50
        }
      ]
    },
    {
      "cell_type": "code",
      "source": [
        "# unix time: number of seconds since Jan 1, 1970 at midnight\n",
        "# need additional parameter: unit = 's'\n",
        "(\n",
        "    pd.to_datetime(\n",
        "        [1, 2, 3],                # unix time\n",
        "        unit = 's'\n",
        "    )\n",
        ")"
      ],
      "metadata": {
        "colab": {
          "base_uri": "https://localhost:8080/"
        },
        "id": "_CcQ7WIfW4Du",
        "outputId": "0ae4fb6b-159f-4bfb-ed58-a146e7c74d54"
      },
      "execution_count": 51,
      "outputs": [
        {
          "output_type": "execute_result",
          "data": {
            "text/plain": [
              "DatetimeIndex(['1970-01-01 00:00:01', '1970-01-01 00:00:02',\n",
              "               '1970-01-01 00:00:03'],\n",
              "              dtype='datetime64[ns]', freq=None)"
            ]
          },
          "metadata": {},
          "execution_count": 51
        }
      ]
    },
    {
      "cell_type": "markdown",
      "source": [
        "## pd.date_range() method\n",
        "- create a date index quickly based on start, end, and frequency (freq)"
      ],
      "metadata": {
        "id": "XTgkImHiZ-4u"
      }
    },
    {
      "cell_type": "code",
      "source": [
        "# start, end, and freq\n",
        "# need at least 2 out of these 3 parameters"
      ],
      "metadata": {
        "id": "_h4LSCE8Zn6T"
      },
      "execution_count": 53,
      "outputs": []
    },
    {
      "cell_type": "code",
      "source": [
        "# from jan 1 thru dec 31, 2023\n",
        "(\n",
        "    pd.date_range(\n",
        "        start = '2023-01-01',\n",
        "        end = '2023-12-31', \n",
        "        freq = 'D'                # D for 1 Day; increments of 1 day; can do 2D for 2 days, 3D for 3 days\n",
        "    )\n",
        ")"
      ],
      "metadata": {
        "colab": {
          "base_uri": "https://localhost:8080/"
        },
        "id": "couH8YAqSVW1",
        "outputId": "4915418a-c3e3-4023-aeff-dd2b5dc0918f"
      },
      "execution_count": 54,
      "outputs": [
        {
          "output_type": "execute_result",
          "data": {
            "text/plain": [
              "DatetimeIndex(['2023-01-01', '2023-01-02', '2023-01-03', '2023-01-04',\n",
              "               '2023-01-05', '2023-01-06', '2023-01-07', '2023-01-08',\n",
              "               '2023-01-09', '2023-01-10',\n",
              "               ...\n",
              "               '2023-12-22', '2023-12-23', '2023-12-24', '2023-12-25',\n",
              "               '2023-12-26', '2023-12-27', '2023-12-28', '2023-12-29',\n",
              "               '2023-12-30', '2023-12-31'],\n",
              "              dtype='datetime64[ns]', length=365, freq='D')"
            ]
          },
          "metadata": {},
          "execution_count": 54
        }
      ]
    },
    {
      "cell_type": "code",
      "source": [
        "# other freq arguments\n",
        "# B for business days; excludes weekends and maybe holidays?\n",
        "(\n",
        "    pd.date_range(\n",
        "        start = '2018-12-20', \n",
        "        end = '2018-12-31', \n",
        "        freq = 'B'                  # excludes weekends, but inclues Christmas day\n",
        "    )\n",
        ")"
      ],
      "metadata": {
        "colab": {
          "base_uri": "https://localhost:8080/"
        },
        "id": "6RgpyF9FShA4",
        "outputId": "46d43b4e-2572-4be9-b3bd-508e1770b7ec"
      },
      "execution_count": 56,
      "outputs": [
        {
          "output_type": "execute_result",
          "data": {
            "text/plain": [
              "DatetimeIndex(['2018-12-20', '2018-12-21', '2018-12-24', '2018-12-25',\n",
              "               '2018-12-26', '2018-12-27', '2018-12-28', '2018-12-31'],\n",
              "              dtype='datetime64[ns]', freq='B')"
            ]
          },
          "metadata": {},
          "execution_count": 56
        }
      ]
    },
    {
      "cell_type": "code",
      "source": [
        "# W for week; see documentation; W-SUN, etc.\n",
        "# H for hour; can precede with number for number of hours\n",
        "# M for month end, last day of month"
      ],
      "metadata": {
        "id": "bbnxeR7gS973"
      },
      "execution_count": 57,
      "outputs": []
    },
    {
      "cell_type": "code",
      "source": [
        "pd.date_range(\n",
        "    start = '2023-01-01', \n",
        "    end = '2023-12-01',      \n",
        "    freq = 'M'                  # Dec 31 after the end parameter of Dec 1\n",
        ")"
      ],
      "metadata": {
        "colab": {
          "base_uri": "https://localhost:8080/"
        },
        "id": "vPJEej2mUaMx",
        "outputId": "c89cac78-1728-464b-ce1f-2cdeea783c10"
      },
      "execution_count": 58,
      "outputs": [
        {
          "output_type": "execute_result",
          "data": {
            "text/plain": [
              "DatetimeIndex(['2023-01-31', '2023-02-28', '2023-03-31', '2023-04-30',\n",
              "               '2023-05-31', '2023-06-30', '2023-07-31', '2023-08-31',\n",
              "               '2023-09-30', '2023-10-31', '2023-11-30'],\n",
              "              dtype='datetime64[ns]', freq='M')"
            ]
          },
          "metadata": {},
          "execution_count": 58
        }
      ]
    },
    {
      "cell_type": "code",
      "source": [
        "# MS for month start\n",
        "pd.date_range(\n",
        "    start = '2023-01-01', \n",
        "    end = '2023-12-01',      \n",
        "    freq = 'MS'                  # now we get start of each month\n",
        ")"
      ],
      "metadata": {
        "colab": {
          "base_uri": "https://localhost:8080/"
        },
        "id": "MT1K2lx9UeXL",
        "outputId": "1963d606-d5cc-4fd4-e582-0f0b23f35181"
      },
      "execution_count": 59,
      "outputs": [
        {
          "output_type": "execute_result",
          "data": {
            "text/plain": [
              "DatetimeIndex(['2023-01-01', '2023-02-01', '2023-03-01', '2023-04-01',\n",
              "               '2023-05-01', '2023-06-01', '2023-07-01', '2023-08-01',\n",
              "               '2023-09-01', '2023-10-01', '2023-11-01', '2023-12-01'],\n",
              "              dtype='datetime64[ns]', freq='MS')"
            ]
          },
          "metadata": {},
          "execution_count": 59
        }
      ]
    },
    {
      "cell_type": "code",
      "source": [
        "# A for year end; last day of each year\n",
        "pd.date_range(\n",
        "  start = '2023-01-01', \n",
        "  end = '2050-01-01',\n",
        "  freq = 'A'\n",
        ")"
      ],
      "metadata": {
        "colab": {
          "base_uri": "https://localhost:8080/"
        },
        "id": "_0RLdnM_Umd6",
        "outputId": "ae23ec95-e705-4e2b-b5f6-8dc238d72619"
      },
      "execution_count": 61,
      "outputs": [
        {
          "output_type": "execute_result",
          "data": {
            "text/plain": [
              "DatetimeIndex(['2023-12-31', '2024-12-31', '2025-12-31', '2026-12-31',\n",
              "               '2027-12-31', '2028-12-31', '2029-12-31', '2030-12-31',\n",
              "               '2031-12-31', '2032-12-31', '2033-12-31', '2034-12-31',\n",
              "               '2035-12-31', '2036-12-31', '2037-12-31', '2038-12-31',\n",
              "               '2039-12-31', '2040-12-31', '2041-12-31', '2042-12-31',\n",
              "               '2043-12-31', '2044-12-31', '2045-12-31', '2046-12-31',\n",
              "               '2047-12-31', '2048-12-31', '2049-12-31'],\n",
              "              dtype='datetime64[ns]', freq='A-DEC')"
            ]
          },
          "metadata": {},
          "execution_count": 61
        }
      ]
    },
    {
      "cell_type": "markdown",
      "source": [
        "## pd.date_range() method, continued\n",
        "- create a DatetimeIndex of a specified length using periods parameter"
      ],
      "metadata": {
        "id": "99z_BDY8VpG5"
      }
    },
    {
      "cell_type": "code",
      "source": [
        "# 25 days starting on sep 9, 2012\n",
        "(\n",
        "    pd.date_range(\n",
        "        start = '2012-09-12', \n",
        "        periods = 25,\n",
        "        freq = 'D'\n",
        "    )\n",
        ")\n",
        "\n",
        "# length of resulting DatetimeIndex is 25"
      ],
      "metadata": {
        "colab": {
          "base_uri": "https://localhost:8080/"
        },
        "id": "o5jy9gCxUy_N",
        "outputId": "6c4e0e21-7d85-4713-d2f3-c5dd7c864706"
      },
      "execution_count": 62,
      "outputs": [
        {
          "output_type": "execute_result",
          "data": {
            "text/plain": [
              "DatetimeIndex(['2012-09-12', '2012-09-13', '2012-09-14', '2012-09-15',\n",
              "               '2012-09-16', '2012-09-17', '2012-09-18', '2012-09-19',\n",
              "               '2012-09-20', '2012-09-21', '2012-09-22', '2012-09-23',\n",
              "               '2012-09-24', '2012-09-25', '2012-09-26', '2012-09-27',\n",
              "               '2012-09-28', '2012-09-29', '2012-09-30', '2012-10-01',\n",
              "               '2012-10-02', '2012-10-03', '2012-10-04', '2012-10-05',\n",
              "               '2012-10-06'],\n",
              "              dtype='datetime64[ns]', freq='D')"
            ]
          },
          "metadata": {},
          "execution_count": 62
        }
      ]
    },
    {
      "cell_type": "code",
      "source": [
        "# 50 business days staring on april 15, 2022\n",
        "(\n",
        "    pd.date_range(\n",
        "        start = '2022-04-15', \n",
        "        periods = 50,\n",
        "        freq = 'B'                 # exclude weekends\n",
        "    )\n",
        ")\n",
        "\n",
        "# length of resulting DatetimeIndex is 50"
      ],
      "metadata": {
        "colab": {
          "base_uri": "https://localhost:8080/"
        },
        "id": "SS2K1QB8XFAo",
        "outputId": "b46d2477-f1c3-4440-ec9c-5896b6665be5"
      },
      "execution_count": 65,
      "outputs": [
        {
          "output_type": "execute_result",
          "data": {
            "text/plain": [
              "DatetimeIndex(['2022-04-15', '2022-04-18', '2022-04-19', '2022-04-20',\n",
              "               '2022-04-21', '2022-04-22', '2022-04-25', '2022-04-26',\n",
              "               '2022-04-27', '2022-04-28', '2022-04-29', '2022-05-02',\n",
              "               '2022-05-03', '2022-05-04', '2022-05-05', '2022-05-06',\n",
              "               '2022-05-09', '2022-05-10', '2022-05-11', '2022-05-12',\n",
              "               '2022-05-13', '2022-05-16', '2022-05-17', '2022-05-18',\n",
              "               '2022-05-19', '2022-05-20', '2022-05-23', '2022-05-24',\n",
              "               '2022-05-25', '2022-05-26', '2022-05-27', '2022-05-30',\n",
              "               '2022-05-31', '2022-06-01', '2022-06-02', '2022-06-03',\n",
              "               '2022-06-06', '2022-06-07', '2022-06-08', '2022-06-09',\n",
              "               '2022-06-10', '2022-06-13', '2022-06-14', '2022-06-15',\n",
              "               '2022-06-16', '2022-06-17', '2022-06-20', '2022-06-21',\n",
              "               '2022-06-22', '2022-06-23'],\n",
              "              dtype='datetime64[ns]', freq='B')"
            ]
          },
          "metadata": {},
          "execution_count": 65
        }
      ]
    },
    {
      "cell_type": "code",
      "source": [
        "# 10 weeks, starting on Mondays\n",
        "# starting on Jan 1, 2023\n",
        "\n",
        "pd.date_range(\n",
        "    start = '2023-01-01', \n",
        "    periods = 10, \n",
        "    freq = 'W-MON'\n",
        ")"
      ],
      "metadata": {
        "colab": {
          "base_uri": "https://localhost:8080/"
        },
        "id": "bK0VrBv1Xq_d",
        "outputId": "a91d21e2-6e46-49cd-af2f-d523d66c46c0"
      },
      "execution_count": 66,
      "outputs": [
        {
          "output_type": "execute_result",
          "data": {
            "text/plain": [
              "DatetimeIndex(['2023-01-02', '2023-01-09', '2023-01-16', '2023-01-23',\n",
              "               '2023-01-30', '2023-02-06', '2023-02-13', '2023-02-20',\n",
              "               '2023-02-27', '2023-03-06'],\n",
              "              dtype='datetime64[ns]', freq='W-MON')"
            ]
          },
          "metadata": {},
          "execution_count": 66
        }
      ]
    },
    {
      "cell_type": "markdown",
      "source": [
        "## pd.date_range() method, continued"
      ],
      "metadata": {
        "id": "IKcRgkm9ZLAI"
      }
    },
    {
      "cell_type": "code",
      "source": [],
      "metadata": {
        "id": "XoKrRQaeYxke"
      },
      "execution_count": null,
      "outputs": []
    }
  ]
}