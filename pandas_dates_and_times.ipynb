{
  "nbformat": 4,
  "nbformat_minor": 0,
  "metadata": {
    "colab": {
      "provenance": [],
      "authorship_tag": "ABX9TyPqca2y/g4ffY5Mp4x6necA",
      "include_colab_link": true
    },
    "kernelspec": {
      "name": "python3",
      "display_name": "Python 3"
    },
    "language_info": {
      "name": "python"
    }
  },
  "cells": [
    {
      "cell_type": "markdown",
      "metadata": {
        "id": "view-in-github",
        "colab_type": "text"
      },
      "source": [
        "<a href=\"https://colab.research.google.com/github/jack-cao-623/python_learning/blob/main/pandas_dates_and_times.ipynb\" target=\"_parent\"><img src=\"https://colab.research.google.com/assets/colab-badge.svg\" alt=\"Open In Colab\"/></a>"
      ]
    },
    {
      "cell_type": "markdown",
      "source": [
        "# Pandas Dates and Times\n",
        "- Python has a built-in date module"
      ],
      "metadata": {
        "id": "LMkcZTu6FC-h"
      }
    },
    {
      "cell_type": "code",
      "source": [
        "# libraries needed\n",
        "import numpy as np\n",
        "import pandas as pd\n",
        "import datetime as dt   \n",
        "\n",
        "# datetime is not an external library\n",
        "# it's part of Python; part of standard library; think of as internal libraries\n",
        "# not imported automatically to preserve memory\n",
        "\n",
        "# but imported the same way as pandas is to keep things consistent and simple"
      ],
      "metadata": {
        "id": "mRa9kXuWFEFJ"
      },
      "execution_count": 2,
      "outputs": []
    },
    {
      "cell_type": "markdown",
      "source": [
        "## Review of Python's datetime module\n",
        "- internal library Python loads on demand\n",
        "- not automatically loaded to preserve memory\n",
        "- module is synonymous with libary\n",
        "- dt.date() method creates a date object\n",
        "- dt.datetime() method creates a datetime object, which is date plus time hh:mm:ss"
      ],
      "metadata": {
        "id": "fvZAd1WRaHYC"
      }
    },
    {
      "cell_type": "code",
      "source": [
        "# .datetime() method is part of datetime module/library\n",
        "# .datetime() method creates a datetime object\n",
        "\n",
        "# date object: YYYY-MM-DD\n",
        "# datetime object: YYYY-MM-DD also includes timestamp"
      ],
      "metadata": {
        "id": "jD0-Db0CFGF_"
      },
      "execution_count": 3,
      "outputs": []
    },
    {
      "cell_type": "code",
      "source": [
        "# create date object using dt.date() method\n",
        "new_years_day = dt.date(year = 2023, month = 1, day = 1)\n",
        "new_years_day "
      ],
      "metadata": {
        "colab": {
          "base_uri": "https://localhost:8080/"
        },
        "id": "Duo-IBxIbe_Q",
        "outputId": "5b361921-3593-41ef-f750-583435362a6d"
      },
      "execution_count": 4,
      "outputs": [
        {
          "output_type": "execute_result",
          "data": {
            "text/plain": [
              "datetime.date(2023, 1, 1)"
            ]
          },
          "metadata": {},
          "execution_count": 4
        }
      ]
    },
    {
      "cell_type": "code",
      "source": [
        "# attributes on new_years_day\n",
        "print(new_years_day.year)\n",
        "print(new_years_day.month)\n",
        "print(new_years_day.day)"
      ],
      "metadata": {
        "colab": {
          "base_uri": "https://localhost:8080/"
        },
        "id": "Ozs31d6VbkrZ",
        "outputId": "a6e24e6f-25c2-4412-bbeb-2e9b5ce04b8d"
      },
      "execution_count": 5,
      "outputs": [
        {
          "output_type": "stream",
          "name": "stdout",
          "text": [
            "2023\n",
            "1\n",
            "1\n"
          ]
        }
      ]
    },
    {
      "cell_type": "code",
      "source": [
        "# create datetime object using dt.datetime() method\n",
        "maddie_bday = dt.datetime(\n",
        "    year = 2022, month = 3, day = 3,\n",
        "    hour = 1, minute = 39\n",
        ")\n",
        "\n",
        "maddie_bday"
      ],
      "metadata": {
        "colab": {
          "base_uri": "https://localhost:8080/"
        },
        "id": "feMzmKuReWw0",
        "outputId": "4be9d20a-b33c-4f0e-d796-d53af61b9bd7"
      },
      "execution_count": 6,
      "outputs": [
        {
          "output_type": "execute_result",
          "data": {
            "text/plain": [
              "datetime.datetime(2022, 3, 3, 1, 39)"
            ]
          },
          "metadata": {},
          "execution_count": 6
        }
      ]
    },
    {
      "cell_type": "code",
      "source": [
        "# view in alternative format\n",
        "str(maddie_bday)"
      ],
      "metadata": {
        "colab": {
          "base_uri": "https://localhost:8080/",
          "height": 35
        },
        "id": "eeY-eVWSfcJV",
        "outputId": "a9def1e8-2987-4b1b-b872-2c1ba940f10c"
      },
      "execution_count": 7,
      "outputs": [
        {
          "output_type": "execute_result",
          "data": {
            "text/plain": [
              "'2022-03-03 01:39:00'"
            ],
            "application/vnd.google.colaboratory.intrinsic+json": {
              "type": "string"
            }
          },
          "metadata": {},
          "execution_count": 7
        }
      ]
    },
    {
      "cell_type": "code",
      "source": [
        "# attributes of maddie_bday\n",
        "print(maddie_bday.year)\n",
        "print(maddie_bday.month)\n",
        "print(maddie_bday.day)\n",
        "\n",
        "print(maddie_bday.hour)\n",
        "print(maddie_bday.minute)\n",
        "print(maddie_bday.second)"
      ],
      "metadata": {
        "colab": {
          "base_uri": "https://localhost:8080/"
        },
        "id": "_2nVTI3CfhLh",
        "outputId": "0d299111-77e0-4cd5-81bc-aee1fd4252a7"
      },
      "execution_count": 8,
      "outputs": [
        {
          "output_type": "stream",
          "name": "stdout",
          "text": [
            "2022\n",
            "3\n",
            "3\n",
            "1\n",
            "39\n",
            "0\n"
          ]
        }
      ]
    },
    {
      "cell_type": "markdown",
      "source": [
        "## Pandas timestamp object\n",
        "- equivalent of Python datetime object\n",
        "  - pandas Timestamp is better for data analysis; custom \n",
        "  built, so do things like add and subtract chunks of time; \n",
        "  more efficient\n",
        "- basically a single moment in time: a date and a time, but called a timestamp\n",
        "- don't need hour:minute:second part; default to midnight, 00:00:00\n",
        "- pd.Timestamp() method\n",
        "  - input is a string, can be flexible in string format\n",
        "  - but best stick with YYYY-MM-DD format"
      ],
      "metadata": {
        "id": "EpYhxro_fw89"
      }
    },
    {
      "cell_type": "code",
      "source": [
        "# January 1, 2023\n",
        "pd.Timestamp('2023-01-01')"
      ],
      "metadata": {
        "colab": {
          "base_uri": "https://localhost:8080/"
        },
        "id": "LPh59_JLfkyg",
        "outputId": "bfbb98ab-0187-44cb-91a6-e1cc05b0d043"
      },
      "execution_count": 9,
      "outputs": [
        {
          "output_type": "execute_result",
          "data": {
            "text/plain": [
              "Timestamp('2023-01-01 00:00:00')"
            ]
          },
          "metadata": {},
          "execution_count": 9
        }
      ]
    },
    {
      "cell_type": "code",
      "source": [
        "# also January 1, 2023\n",
        "pd.Timestamp('01/01/23')\n",
        "  # note the midnight default for time component"
      ],
      "metadata": {
        "colab": {
          "base_uri": "https://localhost:8080/"
        },
        "id": "OjXFyGv2_GoQ",
        "outputId": "38c0db83-02ef-42af-ed36-cd6477e4e286"
      },
      "execution_count": 10,
      "outputs": [
        {
          "output_type": "execute_result",
          "data": {
            "text/plain": [
              "Timestamp('2023-01-01 00:00:00')"
            ]
          },
          "metadata": {},
          "execution_count": 10
        }
      ]
    },
    {
      "cell_type": "code",
      "source": [
        "# March 3, 2022 at 1:39am, Maddie's birthday\n",
        "pd.Timestamp('2022-03-03 01:39:00')"
      ],
      "metadata": {
        "colab": {
          "base_uri": "https://localhost:8080/"
        },
        "id": "dCK9cCDW_La-",
        "outputId": "8d96b905-f864-485c-b27b-b9ed270cbc8d"
      },
      "execution_count": 11,
      "outputs": [
        {
          "output_type": "execute_result",
          "data": {
            "text/plain": [
              "Timestamp('2022-03-03 01:39:00')"
            ]
          },
          "metadata": {},
          "execution_count": 11
        }
      ]
    },
    {
      "cell_type": "code",
      "source": [
        "# also March 3, 2022 at 1:39am, Maddie's birthday\n",
        "pd.Timestamp('2022-03-03 1:39am')"
      ],
      "metadata": {
        "colab": {
          "base_uri": "https://localhost:8080/"
        },
        "id": "YRh4W6v7_-i2",
        "outputId": "cda6e22c-20cf-4712-bec0-87e80be722ee"
      },
      "execution_count": 12,
      "outputs": [
        {
          "output_type": "execute_result",
          "data": {
            "text/plain": [
              "Timestamp('2022-03-03 01:39:00')"
            ]
          },
          "metadata": {},
          "execution_count": 12
        }
      ]
    },
    {
      "cell_type": "code",
      "source": [
        "# feed a Pandas Datetime object\n",
        "pd.Timestamp(dt.datetime(2023, 1, 1))"
      ],
      "metadata": {
        "colab": {
          "base_uri": "https://localhost:8080/"
        },
        "id": "mBo3LEsIACLH",
        "outputId": "f3133acf-36ba-4718-da02-5b4dce0de8c4"
      },
      "execution_count": 13,
      "outputs": [
        {
          "output_type": "execute_result",
          "data": {
            "text/plain": [
              "Timestamp('2023-01-01 00:00:00')"
            ]
          },
          "metadata": {},
          "execution_count": 13
        }
      ]
    },
    {
      "cell_type": "markdown",
      "source": [
        "## pd.DatetimeIndex object\n",
        "- a collection of pandas Timestamps"
      ],
      "metadata": {
        "id": "3rhRpxgJBUvZ"
      }
    },
    {
      "cell_type": "code",
      "source": [
        "# follow along video\n",
        "list_of_dates = ['2023-01-01', '2023-01-02', '2023-01-03']\n",
        "pd.DatetimeIndex(list_of_dates)\n",
        "\n",
        "# convert date column/Series to index --> more relevant use case you'll encounter"
      ],
      "metadata": {
        "colab": {
          "base_uri": "https://localhost:8080/"
        },
        "id": "igERqWJ5AzBw",
        "outputId": "c8d5bf90-b4e1-4873-9569-f702022af25a"
      },
      "execution_count": 14,
      "outputs": [
        {
          "output_type": "execute_result",
          "data": {
            "text/plain": [
              "DatetimeIndex(['2023-01-01', '2023-01-02', '2023-01-03'], dtype='datetime64[ns]', freq=None)"
            ]
          },
          "metadata": {},
          "execution_count": 14
        }
      ]
    },
    {
      "cell_type": "code",
      "source": [
        "# using Python date\n",
        "another_list_of_dates = [dt.date(2023, 1, 1), dt.date(2023, 1, 2), dt.date(2023, 1, 3)]\n",
        "pd.DatetimeIndex(another_list_of_dates)"
      ],
      "metadata": {
        "colab": {
          "base_uri": "https://localhost:8080/"
        },
        "id": "c2BNRpIkSmlZ",
        "outputId": "b488f3fc-0411-4230-8ee7-7338eae39f22"
      },
      "execution_count": 15,
      "outputs": [
        {
          "output_type": "execute_result",
          "data": {
            "text/plain": [
              "DatetimeIndex(['2023-01-01', '2023-01-02', '2023-01-03'], dtype='datetime64[ns]', freq=None)"
            ]
          },
          "metadata": {},
          "execution_count": 15
        }
      ]
    },
    {
      "cell_type": "code",
      "source": [
        "# create a Series where index is datetime\n",
        "pd.Series(\n",
        "    data = [1, 2, 3],\n",
        "    index = pd.DatetimeIndex(list_of_dates)         # list_of_dates defined above\n",
        ")"
      ],
      "metadata": {
        "colab": {
          "base_uri": "https://localhost:8080/"
        },
        "id": "JThz511-TBKy",
        "outputId": "56dadbe9-fe6a-44c5-b9a9-b2180902a3fc"
      },
      "execution_count": 16,
      "outputs": [
        {
          "output_type": "execute_result",
          "data": {
            "text/plain": [
              "2023-01-01    1\n",
              "2023-01-02    2\n",
              "2023-01-03    3\n",
              "dtype: int64"
            ]
          },
          "metadata": {},
          "execution_count": 16
        }
      ]
    },
    {
      "cell_type": "code",
      "source": [
        "# convert data column/Series to index\n",
        "fake_dat = pd.DataFrame(\n",
        "    {\n",
        "        'purchase_date': ['2023-01-01', '2023-01-02', '2023-01-03'], \n",
        "        'purchase_amout': [100, 200, 300],\n",
        "        'item': ['pen', 'pencil', 'paper']\n",
        "    }\n",
        ")\n",
        "\n",
        "fake_dat"
      ],
      "metadata": {
        "colab": {
          "base_uri": "https://localhost:8080/",
          "height": 143
        },
        "id": "kvgQwnd0KIX2",
        "outputId": "8b5526bf-8ac6-4c93-984b-b82cd5251968"
      },
      "execution_count": 17,
      "outputs": [
        {
          "output_type": "execute_result",
          "data": {
            "text/plain": [
              "  purchase_date  purchase_amout    item\n",
              "0    2023-01-01             100     pen\n",
              "1    2023-01-02             200  pencil\n",
              "2    2023-01-03             300   paper"
            ],
            "text/html": [
              "\n",
              "  <div id=\"df-ef781f5d-f74d-48f9-8bfa-4ec38a340a0a\">\n",
              "    <div class=\"colab-df-container\">\n",
              "      <div>\n",
              "<style scoped>\n",
              "    .dataframe tbody tr th:only-of-type {\n",
              "        vertical-align: middle;\n",
              "    }\n",
              "\n",
              "    .dataframe tbody tr th {\n",
              "        vertical-align: top;\n",
              "    }\n",
              "\n",
              "    .dataframe thead th {\n",
              "        text-align: right;\n",
              "    }\n",
              "</style>\n",
              "<table border=\"1\" class=\"dataframe\">\n",
              "  <thead>\n",
              "    <tr style=\"text-align: right;\">\n",
              "      <th></th>\n",
              "      <th>purchase_date</th>\n",
              "      <th>purchase_amout</th>\n",
              "      <th>item</th>\n",
              "    </tr>\n",
              "  </thead>\n",
              "  <tbody>\n",
              "    <tr>\n",
              "      <th>0</th>\n",
              "      <td>2023-01-01</td>\n",
              "      <td>100</td>\n",
              "      <td>pen</td>\n",
              "    </tr>\n",
              "    <tr>\n",
              "      <th>1</th>\n",
              "      <td>2023-01-02</td>\n",
              "      <td>200</td>\n",
              "      <td>pencil</td>\n",
              "    </tr>\n",
              "    <tr>\n",
              "      <th>2</th>\n",
              "      <td>2023-01-03</td>\n",
              "      <td>300</td>\n",
              "      <td>paper</td>\n",
              "    </tr>\n",
              "  </tbody>\n",
              "</table>\n",
              "</div>\n",
              "      <button class=\"colab-df-convert\" onclick=\"convertToInteractive('df-ef781f5d-f74d-48f9-8bfa-4ec38a340a0a')\"\n",
              "              title=\"Convert this dataframe to an interactive table.\"\n",
              "              style=\"display:none;\">\n",
              "        \n",
              "  <svg xmlns=\"http://www.w3.org/2000/svg\" height=\"24px\"viewBox=\"0 0 24 24\"\n",
              "       width=\"24px\">\n",
              "    <path d=\"M0 0h24v24H0V0z\" fill=\"none\"/>\n",
              "    <path d=\"M18.56 5.44l.94 2.06.94-2.06 2.06-.94-2.06-.94-.94-2.06-.94 2.06-2.06.94zm-11 1L8.5 8.5l.94-2.06 2.06-.94-2.06-.94L8.5 2.5l-.94 2.06-2.06.94zm10 10l.94 2.06.94-2.06 2.06-.94-2.06-.94-.94-2.06-.94 2.06-2.06.94z\"/><path d=\"M17.41 7.96l-1.37-1.37c-.4-.4-.92-.59-1.43-.59-.52 0-1.04.2-1.43.59L10.3 9.45l-7.72 7.72c-.78.78-.78 2.05 0 2.83L4 21.41c.39.39.9.59 1.41.59.51 0 1.02-.2 1.41-.59l7.78-7.78 2.81-2.81c.8-.78.8-2.07 0-2.86zM5.41 20L4 18.59l7.72-7.72 1.47 1.35L5.41 20z\"/>\n",
              "  </svg>\n",
              "      </button>\n",
              "      \n",
              "  <style>\n",
              "    .colab-df-container {\n",
              "      display:flex;\n",
              "      flex-wrap:wrap;\n",
              "      gap: 12px;\n",
              "    }\n",
              "\n",
              "    .colab-df-convert {\n",
              "      background-color: #E8F0FE;\n",
              "      border: none;\n",
              "      border-radius: 50%;\n",
              "      cursor: pointer;\n",
              "      display: none;\n",
              "      fill: #1967D2;\n",
              "      height: 32px;\n",
              "      padding: 0 0 0 0;\n",
              "      width: 32px;\n",
              "    }\n",
              "\n",
              "    .colab-df-convert:hover {\n",
              "      background-color: #E2EBFA;\n",
              "      box-shadow: 0px 1px 2px rgba(60, 64, 67, 0.3), 0px 1px 3px 1px rgba(60, 64, 67, 0.15);\n",
              "      fill: #174EA6;\n",
              "    }\n",
              "\n",
              "    [theme=dark] .colab-df-convert {\n",
              "      background-color: #3B4455;\n",
              "      fill: #D2E3FC;\n",
              "    }\n",
              "\n",
              "    [theme=dark] .colab-df-convert:hover {\n",
              "      background-color: #434B5C;\n",
              "      box-shadow: 0px 1px 3px 1px rgba(0, 0, 0, 0.15);\n",
              "      filter: drop-shadow(0px 1px 2px rgba(0, 0, 0, 0.3));\n",
              "      fill: #FFFFFF;\n",
              "    }\n",
              "  </style>\n",
              "\n",
              "      <script>\n",
              "        const buttonEl =\n",
              "          document.querySelector('#df-ef781f5d-f74d-48f9-8bfa-4ec38a340a0a button.colab-df-convert');\n",
              "        buttonEl.style.display =\n",
              "          google.colab.kernel.accessAllowed ? 'block' : 'none';\n",
              "\n",
              "        async function convertToInteractive(key) {\n",
              "          const element = document.querySelector('#df-ef781f5d-f74d-48f9-8bfa-4ec38a340a0a');\n",
              "          const dataTable =\n",
              "            await google.colab.kernel.invokeFunction('convertToInteractive',\n",
              "                                                     [key], {});\n",
              "          if (!dataTable) return;\n",
              "\n",
              "          const docLinkHtml = 'Like what you see? Visit the ' +\n",
              "            '<a target=\"_blank\" href=https://colab.research.google.com/notebooks/data_table.ipynb>data table notebook</a>'\n",
              "            + ' to learn more about interactive tables.';\n",
              "          element.innerHTML = '';\n",
              "          dataTable['output_type'] = 'display_data';\n",
              "          await google.colab.output.renderOutput(dataTable, element);\n",
              "          const docLink = document.createElement('div');\n",
              "          docLink.innerHTML = docLinkHtml;\n",
              "          element.appendChild(docLink);\n",
              "        }\n",
              "      </script>\n",
              "    </div>\n",
              "  </div>\n",
              "  "
            ]
          },
          "metadata": {},
          "execution_count": 17
        }
      ]
    },
    {
      "cell_type": "code",
      "source": [
        "# convert purchase_date to datetime\n",
        "fake_dat['purchase_date'] = pd.to_datetime(fake_dat['purchase_date'])\n",
        "fake_dat.info()"
      ],
      "metadata": {
        "colab": {
          "base_uri": "https://localhost:8080/"
        },
        "id": "xDrOdtkQO0mV",
        "outputId": "668291ef-b9a0-4a06-9c30-582180e6aeec"
      },
      "execution_count": 18,
      "outputs": [
        {
          "output_type": "stream",
          "name": "stdout",
          "text": [
            "<class 'pandas.core.frame.DataFrame'>\n",
            "RangeIndex: 3 entries, 0 to 2\n",
            "Data columns (total 3 columns):\n",
            " #   Column          Non-Null Count  Dtype         \n",
            "---  ------          --------------  -----         \n",
            " 0   purchase_date   3 non-null      datetime64[ns]\n",
            " 1   purchase_amout  3 non-null      int64         \n",
            " 2   item            3 non-null      object        \n",
            "dtypes: datetime64[ns](1), int64(1), object(1)\n",
            "memory usage: 200.0+ bytes\n"
          ]
        }
      ]
    },
    {
      "cell_type": "code",
      "source": [
        "# make purchase_date the index\n",
        "(\n",
        "    fake_dat\n",
        "      .set_index('purchase_date')\n",
        "      .index\n",
        ")\n",
        "\n",
        "# index is already a datetime index"
      ],
      "metadata": {
        "colab": {
          "base_uri": "https://localhost:8080/"
        },
        "id": "wnxXiIIxQbvA",
        "outputId": "724380b7-cef7-487c-853f-4ac2f5f15d87"
      },
      "execution_count": 19,
      "outputs": [
        {
          "output_type": "execute_result",
          "data": {
            "text/plain": [
              "DatetimeIndex(['2023-01-01', '2023-01-02', '2023-01-03'], dtype='datetime64[ns]', name='purchase_date', freq=None)"
            ]
          },
          "metadata": {},
          "execution_count": 19
        }
      ]
    },
    {
      "cell_type": "markdown",
      "source": [
        "## pd.to_datetime() method\n",
        "- convert to Pandas time related object\n",
        "- e.g., string or Python date object to Pandas datetime object\n",
        "- errors = 'coerce' for NaT, not a time, when something can't be converted to a Pandas datetime\n",
        "  - default is errors = 'raise'"
      ],
      "metadata": {
        "id": "QQh899p9T20R"
      }
    },
    {
      "cell_type": "code",
      "source": [
        "# convert strings to Pandas datetime\n",
        "pd.to_datetime('2023-01-01')"
      ],
      "metadata": {
        "colab": {
          "base_uri": "https://localhost:8080/"
        },
        "id": "9JGWkKb0QjzT",
        "outputId": "34a5c093-522f-4d7b-a6f3-85bc1e75426a"
      },
      "execution_count": 20,
      "outputs": [
        {
          "output_type": "execute_result",
          "data": {
            "text/plain": [
              "Timestamp('2023-01-01 00:00:00')"
            ]
          },
          "metadata": {},
          "execution_count": 20
        }
      ]
    },
    {
      "cell_type": "code",
      "source": [
        "# can also convert a list of strings\n",
        "pd.to_datetime(['2023-01-01', '2023-01-02', '2023-01-03'])"
      ],
      "metadata": {
        "colab": {
          "base_uri": "https://localhost:8080/"
        },
        "id": "K-VDZoF-Uswy",
        "outputId": "aea1ae61-9b48-468b-c505-cfb2e1100b1b"
      },
      "execution_count": 21,
      "outputs": [
        {
          "output_type": "execute_result",
          "data": {
            "text/plain": [
              "DatetimeIndex(['2023-01-01', '2023-01-02', '2023-01-03'], dtype='datetime64[ns]', freq=None)"
            ]
          },
          "metadata": {},
          "execution_count": 21
        }
      ]
    },
    {
      "cell_type": "code",
      "source": [
        "# convert Pandas dates to datetime\n",
        "pd.to_datetime(dt.datetime(2023, 1, 1))\n",
        "\n",
        "# same with list"
      ],
      "metadata": {
        "colab": {
          "base_uri": "https://localhost:8080/"
        },
        "id": "_gQh1SXyUymE",
        "outputId": "9318043a-ef84-4132-8269-df880ad1d5d6"
      },
      "execution_count": 22,
      "outputs": [
        {
          "output_type": "execute_result",
          "data": {
            "text/plain": [
              "Timestamp('2023-01-01 00:00:00')"
            ]
          },
          "metadata": {},
          "execution_count": 22
        }
      ]
    },
    {
      "cell_type": "code",
      "source": [
        "# common use is converting existing Series to datetime\n",
        "purchase_dates = pd.Series(\n",
        "    data = ['2023-01-01', '2023-01-02', '2023-01-03']\n",
        ")\n",
        "\n",
        "purchase_dates"
      ],
      "metadata": {
        "colab": {
          "base_uri": "https://localhost:8080/"
        },
        "id": "SBffAKfZVUFv",
        "outputId": "7500bb48-56e1-4726-f23c-0df8b7c56712"
      },
      "execution_count": 23,
      "outputs": [
        {
          "output_type": "execute_result",
          "data": {
            "text/plain": [
              "0    2023-01-01\n",
              "1    2023-01-02\n",
              "2    2023-01-03\n",
              "dtype: object"
            ]
          },
          "metadata": {},
          "execution_count": 23
        }
      ]
    },
    {
      "cell_type": "code",
      "source": [
        "# convert purchase_dates Series to datetime\n",
        "purchase_dates = pd.to_datetime(purchase_dates)\n",
        "\n",
        "purchase_dates"
      ],
      "metadata": {
        "colab": {
          "base_uri": "https://localhost:8080/"
        },
        "id": "yNgMIxszVqi8",
        "outputId": "b16a7b73-2405-4a58-b2dc-07930904488a"
      },
      "execution_count": 24,
      "outputs": [
        {
          "output_type": "execute_result",
          "data": {
            "text/plain": [
              "0   2023-01-01\n",
              "1   2023-01-02\n",
              "2   2023-01-03\n",
              "dtype: datetime64[ns]"
            ]
          },
          "metadata": {},
          "execution_count": 24
        }
      ]
    },
    {
      "cell_type": "code",
      "source": [
        "# what if some of the dates aren't a date?\n",
        "(\n",
        "    pd.to_datetime(\n",
        "        pd.Series(\n",
        "            data = ['2023-01-01', '2023-01-02', 'hello', '2023-02-31'],  # first two are fine; hello and feb 31 aren't dates\n",
        "        ),\n",
        "        errors = 'coerce'                                                # default is 'raise'\n",
        "\n",
        "    )\n",
        ")\n",
        "\n",
        "# NaT is not a time; basically can't be converted in pandas datetime\n",
        "# akin to NaN"
      ],
      "metadata": {
        "colab": {
          "base_uri": "https://localhost:8080/"
        },
        "id": "VzdzjACNVwrC",
        "outputId": "65df971f-2bd5-4c0e-e8c5-718710fdcc2e"
      },
      "execution_count": 25,
      "outputs": [
        {
          "output_type": "execute_result",
          "data": {
            "text/plain": [
              "0   2023-01-01\n",
              "1   2023-01-02\n",
              "2          NaT\n",
              "3          NaT\n",
              "dtype: datetime64[ns]"
            ]
          },
          "metadata": {},
          "execution_count": 25
        }
      ]
    },
    {
      "cell_type": "code",
      "source": [
        "# unix time: number of seconds since Jan 1, 1970 at midnight\n",
        "# need additional parameter: unit = 's'\n",
        "(\n",
        "    pd.to_datetime(\n",
        "        [1, 2, 3],                # unix time\n",
        "        unit = 's'\n",
        "    )\n",
        ")"
      ],
      "metadata": {
        "colab": {
          "base_uri": "https://localhost:8080/"
        },
        "id": "_CcQ7WIfW4Du",
        "outputId": "7c5ebecd-95a0-42cb-b43e-28f8dc0c704a"
      },
      "execution_count": 26,
      "outputs": [
        {
          "output_type": "execute_result",
          "data": {
            "text/plain": [
              "DatetimeIndex(['1970-01-01 00:00:01', '1970-01-01 00:00:02',\n",
              "               '1970-01-01 00:00:03'],\n",
              "              dtype='datetime64[ns]', freq=None)"
            ]
          },
          "metadata": {},
          "execution_count": 26
        }
      ]
    },
    {
      "cell_type": "markdown",
      "source": [
        "## pd.date_range() method\n",
        "- create a date index quickly based on start, end, and frequency (freq)"
      ],
      "metadata": {
        "id": "XTgkImHiZ-4u"
      }
    },
    {
      "cell_type": "code",
      "source": [
        "# start, end, and freq\n",
        "# need at least 2 out of these 3 parameters"
      ],
      "metadata": {
        "id": "_h4LSCE8Zn6T"
      },
      "execution_count": 27,
      "outputs": []
    },
    {
      "cell_type": "code",
      "source": [
        "# from jan 1 thru dec 31, 2023\n",
        "(\n",
        "    pd.date_range(\n",
        "        start = '2023-01-01',\n",
        "        end = '2023-12-31', \n",
        "        freq = 'D'                # D for 1 Day; increments of 1 day; can do 2D for 2 days, 3D for 3 days\n",
        "    )\n",
        ")"
      ],
      "metadata": {
        "colab": {
          "base_uri": "https://localhost:8080/"
        },
        "id": "couH8YAqSVW1",
        "outputId": "43067228-55b8-4e79-ae1b-13797e8ea1c2"
      },
      "execution_count": 28,
      "outputs": [
        {
          "output_type": "execute_result",
          "data": {
            "text/plain": [
              "DatetimeIndex(['2023-01-01', '2023-01-02', '2023-01-03', '2023-01-04',\n",
              "               '2023-01-05', '2023-01-06', '2023-01-07', '2023-01-08',\n",
              "               '2023-01-09', '2023-01-10',\n",
              "               ...\n",
              "               '2023-12-22', '2023-12-23', '2023-12-24', '2023-12-25',\n",
              "               '2023-12-26', '2023-12-27', '2023-12-28', '2023-12-29',\n",
              "               '2023-12-30', '2023-12-31'],\n",
              "              dtype='datetime64[ns]', length=365, freq='D')"
            ]
          },
          "metadata": {},
          "execution_count": 28
        }
      ]
    },
    {
      "cell_type": "code",
      "source": [
        "# other freq arguments\n",
        "# B for business days; excludes weekends and maybe holidays?\n",
        "(\n",
        "    pd.date_range(\n",
        "        start = '2018-12-20', \n",
        "        end = '2018-12-31', \n",
        "        freq = 'B'                  # excludes weekends, but inclues Christmas day\n",
        "    )\n",
        ")"
      ],
      "metadata": {
        "colab": {
          "base_uri": "https://localhost:8080/"
        },
        "id": "6RgpyF9FShA4",
        "outputId": "98ec2535-5086-4d40-a10b-93a11a7549b7"
      },
      "execution_count": 29,
      "outputs": [
        {
          "output_type": "execute_result",
          "data": {
            "text/plain": [
              "DatetimeIndex(['2018-12-20', '2018-12-21', '2018-12-24', '2018-12-25',\n",
              "               '2018-12-26', '2018-12-27', '2018-12-28', '2018-12-31'],\n",
              "              dtype='datetime64[ns]', freq='B')"
            ]
          },
          "metadata": {},
          "execution_count": 29
        }
      ]
    },
    {
      "cell_type": "code",
      "source": [
        "# W for week; see documentation; W-SUN, etc.\n",
        "# H for hour; can precede with number for number of hours\n",
        "# M for month end, last day of month"
      ],
      "metadata": {
        "id": "bbnxeR7gS973"
      },
      "execution_count": 30,
      "outputs": []
    },
    {
      "cell_type": "code",
      "source": [
        "pd.date_range(\n",
        "    start = '2023-01-01', \n",
        "    end = '2023-12-01',      \n",
        "    freq = 'M'                  # Dec 31 after the end parameter of Dec 1\n",
        ")"
      ],
      "metadata": {
        "colab": {
          "base_uri": "https://localhost:8080/"
        },
        "id": "vPJEej2mUaMx",
        "outputId": "ec9ef8e7-13bb-40e6-ff26-fcd53526bc6e"
      },
      "execution_count": 31,
      "outputs": [
        {
          "output_type": "execute_result",
          "data": {
            "text/plain": [
              "DatetimeIndex(['2023-01-31', '2023-02-28', '2023-03-31', '2023-04-30',\n",
              "               '2023-05-31', '2023-06-30', '2023-07-31', '2023-08-31',\n",
              "               '2023-09-30', '2023-10-31', '2023-11-30'],\n",
              "              dtype='datetime64[ns]', freq='M')"
            ]
          },
          "metadata": {},
          "execution_count": 31
        }
      ]
    },
    {
      "cell_type": "code",
      "source": [
        "# MS for month start\n",
        "pd.date_range(\n",
        "    start = '2023-01-01', \n",
        "    end = '2023-12-01',      \n",
        "    freq = 'MS'                  # now we get start of each month\n",
        ")"
      ],
      "metadata": {
        "colab": {
          "base_uri": "https://localhost:8080/"
        },
        "id": "MT1K2lx9UeXL",
        "outputId": "36918a37-8833-4fb5-dbc0-55f046121529"
      },
      "execution_count": 32,
      "outputs": [
        {
          "output_type": "execute_result",
          "data": {
            "text/plain": [
              "DatetimeIndex(['2023-01-01', '2023-02-01', '2023-03-01', '2023-04-01',\n",
              "               '2023-05-01', '2023-06-01', '2023-07-01', '2023-08-01',\n",
              "               '2023-09-01', '2023-10-01', '2023-11-01', '2023-12-01'],\n",
              "              dtype='datetime64[ns]', freq='MS')"
            ]
          },
          "metadata": {},
          "execution_count": 32
        }
      ]
    },
    {
      "cell_type": "code",
      "source": [
        "# A for year end; last day of each year\n",
        "pd.date_range(\n",
        "  start = '2023-01-01', \n",
        "  end = '2050-01-01',\n",
        "  freq = 'A'\n",
        ")"
      ],
      "metadata": {
        "colab": {
          "base_uri": "https://localhost:8080/"
        },
        "id": "_0RLdnM_Umd6",
        "outputId": "c3bf1f36-94bf-4d6b-fbfe-72da2ffd1ea7"
      },
      "execution_count": 33,
      "outputs": [
        {
          "output_type": "execute_result",
          "data": {
            "text/plain": [
              "DatetimeIndex(['2023-12-31', '2024-12-31', '2025-12-31', '2026-12-31',\n",
              "               '2027-12-31', '2028-12-31', '2029-12-31', '2030-12-31',\n",
              "               '2031-12-31', '2032-12-31', '2033-12-31', '2034-12-31',\n",
              "               '2035-12-31', '2036-12-31', '2037-12-31', '2038-12-31',\n",
              "               '2039-12-31', '2040-12-31', '2041-12-31', '2042-12-31',\n",
              "               '2043-12-31', '2044-12-31', '2045-12-31', '2046-12-31',\n",
              "               '2047-12-31', '2048-12-31', '2049-12-31'],\n",
              "              dtype='datetime64[ns]', freq='A-DEC')"
            ]
          },
          "metadata": {},
          "execution_count": 33
        }
      ]
    },
    {
      "cell_type": "markdown",
      "source": [
        "## pd.date_range() method, continued\n",
        "- create a DatetimeIndex of a specified length using periods parameter"
      ],
      "metadata": {
        "id": "99z_BDY8VpG5"
      }
    },
    {
      "cell_type": "code",
      "source": [
        "# 25 days starting on sep 9, 2012\n",
        "(\n",
        "    pd.date_range(\n",
        "        start = '2012-09-12', \n",
        "        periods = 25,\n",
        "        freq = 'D'\n",
        "    )\n",
        ")\n",
        "\n",
        "# length of resulting DatetimeIndex is 25"
      ],
      "metadata": {
        "colab": {
          "base_uri": "https://localhost:8080/"
        },
        "id": "o5jy9gCxUy_N",
        "outputId": "abad6677-e0f8-485b-c786-8600515a6f9b"
      },
      "execution_count": 34,
      "outputs": [
        {
          "output_type": "execute_result",
          "data": {
            "text/plain": [
              "DatetimeIndex(['2012-09-12', '2012-09-13', '2012-09-14', '2012-09-15',\n",
              "               '2012-09-16', '2012-09-17', '2012-09-18', '2012-09-19',\n",
              "               '2012-09-20', '2012-09-21', '2012-09-22', '2012-09-23',\n",
              "               '2012-09-24', '2012-09-25', '2012-09-26', '2012-09-27',\n",
              "               '2012-09-28', '2012-09-29', '2012-09-30', '2012-10-01',\n",
              "               '2012-10-02', '2012-10-03', '2012-10-04', '2012-10-05',\n",
              "               '2012-10-06'],\n",
              "              dtype='datetime64[ns]', freq='D')"
            ]
          },
          "metadata": {},
          "execution_count": 34
        }
      ]
    },
    {
      "cell_type": "code",
      "source": [
        "# 50 business days staring on april 15, 2022\n",
        "(\n",
        "    pd.date_range(\n",
        "        start = '2022-04-15', \n",
        "        periods = 50,\n",
        "        freq = 'B'                 # exclude weekends\n",
        "    )\n",
        ")\n",
        "\n",
        "# length of resulting DatetimeIndex is 50"
      ],
      "metadata": {
        "colab": {
          "base_uri": "https://localhost:8080/"
        },
        "id": "SS2K1QB8XFAo",
        "outputId": "aaf36634-5730-4790-889c-1b6424103717"
      },
      "execution_count": 35,
      "outputs": [
        {
          "output_type": "execute_result",
          "data": {
            "text/plain": [
              "DatetimeIndex(['2022-04-15', '2022-04-18', '2022-04-19', '2022-04-20',\n",
              "               '2022-04-21', '2022-04-22', '2022-04-25', '2022-04-26',\n",
              "               '2022-04-27', '2022-04-28', '2022-04-29', '2022-05-02',\n",
              "               '2022-05-03', '2022-05-04', '2022-05-05', '2022-05-06',\n",
              "               '2022-05-09', '2022-05-10', '2022-05-11', '2022-05-12',\n",
              "               '2022-05-13', '2022-05-16', '2022-05-17', '2022-05-18',\n",
              "               '2022-05-19', '2022-05-20', '2022-05-23', '2022-05-24',\n",
              "               '2022-05-25', '2022-05-26', '2022-05-27', '2022-05-30',\n",
              "               '2022-05-31', '2022-06-01', '2022-06-02', '2022-06-03',\n",
              "               '2022-06-06', '2022-06-07', '2022-06-08', '2022-06-09',\n",
              "               '2022-06-10', '2022-06-13', '2022-06-14', '2022-06-15',\n",
              "               '2022-06-16', '2022-06-17', '2022-06-20', '2022-06-21',\n",
              "               '2022-06-22', '2022-06-23'],\n",
              "              dtype='datetime64[ns]', freq='B')"
            ]
          },
          "metadata": {},
          "execution_count": 35
        }
      ]
    },
    {
      "cell_type": "code",
      "source": [
        "# 10 weeks, starting on Mondays\n",
        "# starting on Jan 1, 2023\n",
        "\n",
        "pd.date_range(\n",
        "    start = '2023-01-01', \n",
        "    periods = 10, \n",
        "    freq = 'W-MON'\n",
        ")"
      ],
      "metadata": {
        "colab": {
          "base_uri": "https://localhost:8080/"
        },
        "id": "bK0VrBv1Xq_d",
        "outputId": "86c95e6d-d14e-4a73-eaab-28199da4f502"
      },
      "execution_count": 36,
      "outputs": [
        {
          "output_type": "execute_result",
          "data": {
            "text/plain": [
              "DatetimeIndex(['2023-01-02', '2023-01-09', '2023-01-16', '2023-01-23',\n",
              "               '2023-01-30', '2023-02-06', '2023-02-13', '2023-02-20',\n",
              "               '2023-02-27', '2023-03-06'],\n",
              "              dtype='datetime64[ns]', freq='W-MON')"
            ]
          },
          "metadata": {},
          "execution_count": 36
        }
      ]
    },
    {
      "cell_type": "markdown",
      "source": [
        "## pd.date_range() method, continued\n",
        "- create and DatetimeIndex of specific length and end date using end and periods parameter"
      ],
      "metadata": {
        "id": "IKcRgkm9ZLAI"
      }
    },
    {
      "cell_type": "code",
      "source": [
        "# 30 Mondays before 2023-01-02\n",
        "pd.date_range(\n",
        "    end = '2023-01-02', \n",
        "    periods = 30,\n",
        "    freq = 'W-MON'\n",
        ")"
      ],
      "metadata": {
        "colab": {
          "base_uri": "https://localhost:8080/"
        },
        "id": "XoKrRQaeYxke",
        "outputId": "e61d9f47-b90f-4eb2-8040-736271c078eb"
      },
      "execution_count": 37,
      "outputs": [
        {
          "output_type": "execute_result",
          "data": {
            "text/plain": [
              "DatetimeIndex(['2022-06-13', '2022-06-20', '2022-06-27', '2022-07-04',\n",
              "               '2022-07-11', '2022-07-18', '2022-07-25', '2022-08-01',\n",
              "               '2022-08-08', '2022-08-15', '2022-08-22', '2022-08-29',\n",
              "               '2022-09-05', '2022-09-12', '2022-09-19', '2022-09-26',\n",
              "               '2022-10-03', '2022-10-10', '2022-10-17', '2022-10-24',\n",
              "               '2022-10-31', '2022-11-07', '2022-11-14', '2022-11-21',\n",
              "               '2022-11-28', '2022-12-05', '2022-12-12', '2022-12-19',\n",
              "               '2022-12-26', '2023-01-02'],\n",
              "              dtype='datetime64[ns]', freq='W-MON')"
            ]
          },
          "metadata": {},
          "execution_count": 37
        }
      ]
    },
    {
      "cell_type": "code",
      "source": [
        "# 53 months ending Feb 2023\n",
        "pd.date_range(\n",
        "    end = '2023-02-01', \n",
        "    periods = 53, \n",
        "    freq = 'MS'\n",
        ")"
      ],
      "metadata": {
        "colab": {
          "base_uri": "https://localhost:8080/"
        },
        "id": "s837O1Q_ic6u",
        "outputId": "d7b86428-79fc-44b3-a67f-d8dab3aaec7a"
      },
      "execution_count": 38,
      "outputs": [
        {
          "output_type": "execute_result",
          "data": {
            "text/plain": [
              "DatetimeIndex(['2018-10-01', '2018-11-01', '2018-12-01', '2019-01-01',\n",
              "               '2019-02-01', '2019-03-01', '2019-04-01', '2019-05-01',\n",
              "               '2019-06-01', '2019-07-01', '2019-08-01', '2019-09-01',\n",
              "               '2019-10-01', '2019-11-01', '2019-12-01', '2020-01-01',\n",
              "               '2020-02-01', '2020-03-01', '2020-04-01', '2020-05-01',\n",
              "               '2020-06-01', '2020-07-01', '2020-08-01', '2020-09-01',\n",
              "               '2020-10-01', '2020-11-01', '2020-12-01', '2021-01-01',\n",
              "               '2021-02-01', '2021-03-01', '2021-04-01', '2021-05-01',\n",
              "               '2021-06-01', '2021-07-01', '2021-08-01', '2021-09-01',\n",
              "               '2021-10-01', '2021-11-01', '2021-12-01', '2022-01-01',\n",
              "               '2022-02-01', '2022-03-01', '2022-04-01', '2022-05-01',\n",
              "               '2022-06-01', '2022-07-01', '2022-08-01', '2022-09-01',\n",
              "               '2022-10-01', '2022-11-01', '2022-12-01', '2023-01-01',\n",
              "               '2023-02-01'],\n",
              "              dtype='datetime64[ns]', freq='MS')"
            ]
          },
          "metadata": {},
          "execution_count": 38
        }
      ]
    },
    {
      "cell_type": "markdown",
      "source": [
        "## .dt accessor\n",
        "- akin to .str prefix before string methods"
      ],
      "metadata": {
        "id": "iqrSc-erkBDC"
      }
    },
    {
      "cell_type": "code",
      "source": [],
      "metadata": {
        "id": "Z3_g1AltjAmW"
      },
      "execution_count": null,
      "outputs": []
    }
  ]
}