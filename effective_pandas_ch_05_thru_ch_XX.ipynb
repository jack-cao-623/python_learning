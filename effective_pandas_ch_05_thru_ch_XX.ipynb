{
  "nbformat": 4,
  "nbformat_minor": 0,
  "metadata": {
    "colab": {
      "provenance": [],
      "collapsed_sections": [
        "FUUnWV4PSlqW",
        "bddYxHVxX6w0"
      ],
      "authorship_tag": "ABX9TyNzXSNMO0VsOKWQOlOCz8u5",
      "include_colab_link": true
    },
    "kernelspec": {
      "name": "python3",
      "display_name": "Python 3"
    },
    "language_info": {
      "name": "python"
    }
  },
  "cells": [
    {
      "cell_type": "markdown",
      "metadata": {
        "id": "view-in-github",
        "colab_type": "text"
      },
      "source": [
        "<a href=\"https://colab.research.google.com/github/jack-cao-623/python_learning/blob/main/effective_pandas_ch_05_thru_ch_XX.ipynb\" target=\"_parent\"><img src=\"https://colab.research.google.com/assets/colab-badge.svg\" alt=\"Open In Colab\"/></a>"
      ]
    },
    {
      "cell_type": "markdown",
      "source": [
        "# Chapter 5: Series Deep Dive"
      ],
      "metadata": {
        "id": "E7EjoiH_LaBi"
      }
    },
    {
      "cell_type": "code",
      "execution_count": 1,
      "metadata": {
        "id": "pk-Cua5hLS6F"
      },
      "outputs": [],
      "source": [
        "# libraries needed\n",
        "import numpy as np\n",
        "import pandas as pd"
      ]
    },
    {
      "cell_type": "code",
      "source": [
        "# load data\n",
        "url = 'https://github.com/mattharrison/datasets/raw/master/data/vehicles.csv.zip'\n",
        "df = pd.read_csv(url)"
      ],
      "metadata": {
        "colab": {
          "base_uri": "https://localhost:8080/"
        },
        "id": "ndYSI0QELi3o",
        "outputId": "8986e147-9c1e-45e7-a9c6-e23cd423e868"
      },
      "execution_count": 2,
      "outputs": [
        {
          "output_type": "stream",
          "name": "stderr",
          "text": [
            "/usr/local/lib/python3.7/dist-packages/IPython/core/interactiveshell.py:3326: DtypeWarning: Columns (68,70,71,72,73,74,76,79) have mixed types.Specify dtype option on import or set low_memory=False.\n",
            "  exec(code_obj, self.user_global_ns, self.user_ns)\n"
          ]
        }
      ]
    },
    {
      "cell_type": "code",
      "source": [
        "# one column as a series; city vs.highway\n",
        "city_mpg = df.city08\n",
        "highway_mpg = df.highway08\n",
        "print(city_mpg)\n",
        "print('\\n')\n",
        "print(highway_mpg)"
      ],
      "metadata": {
        "colab": {
          "base_uri": "https://localhost:8080/"
        },
        "id": "Qm4og8fDLspH",
        "outputId": "1fea8560-be5e-409b-dcf7-6a702d092d00"
      },
      "execution_count": 3,
      "outputs": [
        {
          "output_type": "stream",
          "name": "stdout",
          "text": [
            "0        19\n",
            "1         9\n",
            "2        23\n",
            "3        10\n",
            "4        17\n",
            "         ..\n",
            "41139    19\n",
            "41140    20\n",
            "41141    18\n",
            "41142    18\n",
            "41143    16\n",
            "Name: city08, Length: 41144, dtype: int64\n",
            "\n",
            "\n",
            "0        25\n",
            "1        14\n",
            "2        33\n",
            "3        12\n",
            "4        23\n",
            "         ..\n",
            "41139    26\n",
            "41140    28\n",
            "41141    24\n",
            "41142    24\n",
            "41143    21\n",
            "Name: highway08, Length: 41144, dtype: int64\n"
          ]
        }
      ]
    },
    {
      "cell_type": "code",
      "source": [
        "# basic info about city_mpg series\n",
        "print(city_mpg.count())\n",
        "print(city_mpg.size)\n",
        "print(len(city_mpg))\n",
        "\n",
        "print('\\n')\n",
        "\n",
        "# basic info about highway_mpg series\n",
        "print(highway_mpg.count())\n",
        "print(highway_mpg.size)\n",
        "print(len(highway_mpg))"
      ],
      "metadata": {
        "colab": {
          "base_uri": "https://localhost:8080/"
        },
        "id": "J48f3F8sMB_q",
        "outputId": "f67f863a-3857-49e9-b69d-aaeb30426a15"
      },
      "execution_count": 4,
      "outputs": [
        {
          "output_type": "stream",
          "name": "stdout",
          "text": [
            "41144\n",
            "41144\n",
            "41144\n",
            "\n",
            "\n",
            "41144\n",
            "41144\n",
            "41144\n"
          ]
        }
      ]
    },
    {
      "cell_type": "code",
      "source": [
        "# number of properties and methods for each series:\n",
        "print(len(dir(city_mpg)))\n",
        "print(len(dir(highway_mpg)))"
      ],
      "metadata": {
        "colab": {
          "base_uri": "https://localhost:8080/"
        },
        "id": "UAekylPEMLeT",
        "outputId": "b6c21acd-d693-4c55-8e5c-fad847875bd2"
      },
      "execution_count": 5,
      "outputs": [
        {
          "output_type": "stream",
          "name": "stdout",
          "text": [
            "419\n",
            "419\n"
          ]
        }
      ]
    },
    {
      "cell_type": "markdown",
      "source": [
        "# Chapter 6: Operators (& Dunder Methods)"
      ],
      "metadata": {
        "id": "vT95zruGNujZ"
      }
    },
    {
      "cell_type": "code",
      "source": [
        "# find average of city and highway mpg\n",
        "print((city_mpg + highway_mpg) / 2)"
      ],
      "metadata": {
        "colab": {
          "base_uri": "https://localhost:8080/"
        },
        "id": "rI8O6TcwN0Hp",
        "outputId": "52f426d5-1982-4a37-9960-4e957dea2bbe"
      },
      "execution_count": 6,
      "outputs": [
        {
          "output_type": "stream",
          "name": "stdout",
          "text": [
            "0        22.0\n",
            "1        11.5\n",
            "2        28.0\n",
            "3        11.0\n",
            "4        20.0\n",
            "         ... \n",
            "41139    22.5\n",
            "41140    24.0\n",
            "41141    21.0\n",
            "41142    21.0\n",
            "41143    18.5\n",
            "Length: 41144, dtype: float64\n"
          ]
        }
      ]
    },
    {
      "cell_type": "code",
      "source": [
        "# be careful about math operations with series when indices aren't aligned, i.e., unique and common across series\n",
        "s1 = pd.Series(\n",
        "    data = [10, 20, 30], \n",
        "    index = [1, 2, 2]\n",
        ")\n",
        "\n",
        "s2 = pd.Series(\n",
        "    data = [35, 44, 53],\n",
        "    index = [2, 2, 4]\n",
        ")\n",
        "\n",
        "print(s1 + s2)"
      ],
      "metadata": {
        "colab": {
          "base_uri": "https://localhost:8080/"
        },
        "id": "0Cvy1OhvODTh",
        "outputId": "7cc4a10f-8f82-4129-be2f-6f7d5ebd6f26"
      },
      "execution_count": 7,
      "outputs": [
        {
          "output_type": "stream",
          "name": "stdout",
          "text": [
            "1     NaN\n",
            "2    55.0\n",
            "2    64.0\n",
            "2    65.0\n",
            "2    74.0\n",
            "4     NaN\n",
            "dtype: float64\n"
          ]
        }
      ]
    },
    {
      "cell_type": "code",
      "source": [
        "# two ways to add\n",
        "print(s1 + s2)\n",
        "\n",
        "print('\\n')\n",
        "\n",
        "print(s1.add(s2))"
      ],
      "metadata": {
        "colab": {
          "base_uri": "https://localhost:8080/"
        },
        "id": "Sbb9cEiUO-Tn",
        "outputId": "43419d05-9d2f-415d-c7f6-74289d18bef6"
      },
      "execution_count": 8,
      "outputs": [
        {
          "output_type": "stream",
          "name": "stdout",
          "text": [
            "1     NaN\n",
            "2    55.0\n",
            "2    64.0\n",
            "2    65.0\n",
            "2    74.0\n",
            "4     NaN\n",
            "dtype: float64\n",
            "\n",
            "\n",
            "1     NaN\n",
            "2    55.0\n",
            "2    64.0\n",
            "2    65.0\n",
            "2    74.0\n",
            "4     NaN\n",
            "dtype: float64\n"
          ]
        }
      ]
    },
    {
      "cell_type": "code",
      "source": [
        "# benefits of .add() methods\n",
        "print(s1.add(s2, fill_value = 0))"
      ],
      "metadata": {
        "colab": {
          "base_uri": "https://localhost:8080/"
        },
        "id": "AsNMIllsPser",
        "outputId": "672379d7-9317-440a-99df-bfd59396083e"
      },
      "execution_count": 9,
      "outputs": [
        {
          "output_type": "stream",
          "name": "stdout",
          "text": [
            "1    10.0\n",
            "2    55.0\n",
            "2    64.0\n",
            "2    65.0\n",
            "2    74.0\n",
            "4    53.0\n",
            "dtype: float64\n"
          ]
        }
      ]
    },
    {
      "cell_type": "code",
      "source": [
        "# benefits of methods: can chain together to make more readable\n",
        "print(\n",
        "    city_mpg\n",
        "      .add(highway_mpg)\n",
        "      .div(2)\n",
        ")"
      ],
      "metadata": {
        "colab": {
          "base_uri": "https://localhost:8080/"
        },
        "id": "a93_HOcGPxeq",
        "outputId": "e7aac677-10e3-4879-fe0c-583b0a6fa5d2"
      },
      "execution_count": 10,
      "outputs": [
        {
          "output_type": "stream",
          "name": "stdout",
          "text": [
            "0        22.0\n",
            "1        11.5\n",
            "2        28.0\n",
            "3        11.0\n",
            "4        20.0\n",
            "         ... \n",
            "41139    22.5\n",
            "41140    24.0\n",
            "41141    21.0\n",
            "41142    21.0\n",
            "41143    18.5\n",
            "Length: 41144, dtype: float64\n"
          ]
        }
      ]
    },
    {
      "cell_type": "markdown",
      "source": [
        "**see p. 41 for list of methods**"
      ],
      "metadata": {
        "id": "v1sOcglCQdpQ"
      }
    },
    {
      "cell_type": "markdown",
      "source": [
        "# Chapter 7: Aggregate Methods"
      ],
      "metadata": {
        "id": "xu9W0KnKShmC"
      }
    },
    {
      "cell_type": "code",
      "source": [
        "# average of city and highway mpg\n",
        "print('city_mpg average: ', city_mpg.mean())\n",
        "print('highway_mpg average: ', highway_mpg.mean())"
      ],
      "metadata": {
        "colab": {
          "base_uri": "https://localhost:8080/"
        },
        "id": "VbeaMQA0Si_6",
        "outputId": "bd4e4391-9b48-4a82-af4d-9e3d9df598c5"
      },
      "execution_count": 11,
      "outputs": [
        {
          "output_type": "stream",
          "name": "stdout",
          "text": [
            "city_mpg average:  18.369045304297103\n",
            "highway_mpg average:  24.504666537040638\n"
          ]
        }
      ]
    },
    {
      "cell_type": "code",
      "source": [
        "# check if values are unique\n",
        "print(city_mpg.is_unique)\n",
        "\n",
        "print(pd.Series(data = [0, 1, 2, 3]).is_unique)"
      ],
      "metadata": {
        "colab": {
          "base_uri": "https://localhost:8080/"
        },
        "id": "9lmhmgIMTTAe",
        "outputId": "d81e9446-48a8-4778-93ef-e0e63a663dd0"
      },
      "execution_count": 12,
      "outputs": [
        {
          "output_type": "stream",
          "name": "stdout",
          "text": [
            "False\n",
            "True\n"
          ]
        }
      ]
    },
    {
      "cell_type": "code",
      "source": [
        "# check if values are monotonically increasing\n",
        "print(pd.Series(data = [0, 1, 2, 2]).is_monotonic_increasing)"
      ],
      "metadata": {
        "colab": {
          "base_uri": "https://localhost:8080/"
        },
        "id": "OVnM3YSET8FT",
        "outputId": "533cc154-a23f-411a-8d43-dd8c457f195b"
      },
      "execution_count": 13,
      "outputs": [
        {
          "output_type": "stream",
          "name": "stdout",
          "text": [
            "True\n"
          ]
        }
      ]
    },
    {
      "cell_type": "code",
      "source": [
        "# find various quantiles\n",
        "print('city_mpg median: ', city_mpg.median())\n",
        "print('city_mpg 50th percentile: ', city_mpg.quantile(0.50))\n",
        "print('city_mpg 10th percentile: ', city_mpg.quantile(0.10))\n",
        "\n",
        "print('\\n')\n",
        "print('city_mpg various quantiles: ')\n",
        "print(city_mpg.quantile([0.10, 0.50, 0.90]))"
      ],
      "metadata": {
        "colab": {
          "base_uri": "https://localhost:8080/"
        },
        "id": "HzgLz1mcX6oc",
        "outputId": "bb407515-4761-46f1-d8b3-72c938a30fa5"
      },
      "execution_count": 14,
      "outputs": [
        {
          "output_type": "stream",
          "name": "stdout",
          "text": [
            "city_mpg median:  17.0\n",
            "city_mpg 50th percentile:  17.0\n",
            "city_mpg 10th percentile:  13.0\n",
            "\n",
            "\n",
            "city_mpg various quantiles: \n",
            "0.1    13.0\n",
            "0.5    17.0\n",
            "0.9    24.0\n",
            "Name: city08, dtype: float64\n"
          ]
        }
      ]
    },
    {
      "cell_type": "code",
      "source": [
        "# count of number of mpg's that are greater than 20\n",
        "print(\n",
        "    (\n",
        "        city_mpg\n",
        "          .gt(20)   # boolean vector at this stage\n",
        "          .sum()    # sum up booleans; get count\n",
        "    )\n",
        ")\n",
        "\n",
        "# equivalent to:\n",
        "print('\\n')\n",
        "(\n",
        "    city_mpg[city_mpg > 20].count()\n",
        ")"
      ],
      "metadata": {
        "colab": {
          "base_uri": "https://localhost:8080/"
        },
        "id": "yPu3o2jgYaK8",
        "outputId": "cb5b57c5-9d64-4bd0-fc0f-230426de5c87"
      },
      "execution_count": 15,
      "outputs": [
        {
          "output_type": "stream",
          "name": "stdout",
          "text": [
            "10272\n",
            "\n",
            "\n"
          ]
        },
        {
          "output_type": "execute_result",
          "data": {
            "text/plain": [
              "10272"
            ]
          },
          "metadata": {},
          "execution_count": 15
        }
      ]
    },
    {
      "cell_type": "code",
      "source": [
        "# percent of cars (assuming 1 city_mpg per car)\n",
        "(\n",
        "    city_mpg\n",
        "      .gt(20)  # boolean TRUE and FALSE\n",
        "      .mean()  # take mean to get proportion of TRUE\n",
        ") * 100"
      ],
      "metadata": {
        "colab": {
          "base_uri": "https://localhost:8080/"
        },
        "id": "C5xnJhpJZU-A",
        "outputId": "6a6a8be9-c488-4cd9-c365-fbed0041bad3"
      },
      "execution_count": 16,
      "outputs": [
        {
          "output_type": "execute_result",
          "data": {
            "text/plain": [
              "24.965973167412017"
            ]
          },
          "metadata": {},
          "execution_count": 16
        }
      ]
    },
    {
      "cell_type": "code",
      "source": [
        "# cell direciton above is equivalent to\n",
        "len(city_mpg[city_mpg > 20]) / len(city_mpg)"
      ],
      "metadata": {
        "colab": {
          "base_uri": "https://localhost:8080/"
        },
        "id": "F5ggYos3aoUr",
        "outputId": "e1583a66-0dc6-4152-d7e2-2ccc4ef33879"
      },
      "execution_count": 17,
      "outputs": [
        {
          "output_type": "execute_result",
          "data": {
            "text/plain": [
              "0.24965973167412017"
            ]
          },
          "metadata": {},
          "execution_count": 17
        }
      ]
    },
    {
      "cell_type": "code",
      "source": [
        "# more generic way to aggregate a Series\n",
        "city_mpg.agg(['mean', np.var, np.max])"
      ],
      "metadata": {
        "colab": {
          "base_uri": "https://localhost:8080/"
        },
        "id": "WhprBjV4bFXW",
        "outputId": "a356d046-3698-4bac-a7a7-c82549f68e45"
      },
      "execution_count": 18,
      "outputs": [
        {
          "output_type": "execute_result",
          "data": {
            "text/plain": [
              "mean     18.369045\n",
              "var      62.503036\n",
              "amax    150.000000\n",
              "Name: city08, dtype: float64"
            ]
          },
          "metadata": {},
          "execution_count": 18
        }
      ]
    },
    {
      "cell_type": "markdown",
      "source": [
        "# Chapter 8: Conversion Methods"
      ],
      "metadata": {
        "id": "FUUnWV4PSlqW"
      }
    },
    {
      "cell_type": "code",
      "source": [
        "# view series\n",
        "city_mpg"
      ],
      "metadata": {
        "id": "mBUDMhd-b_7o",
        "colab": {
          "base_uri": "https://localhost:8080/"
        },
        "outputId": "8f688c1a-00bb-450e-c722-ffaee43e4127"
      },
      "execution_count": 19,
      "outputs": [
        {
          "output_type": "execute_result",
          "data": {
            "text/plain": [
              "0        19\n",
              "1         9\n",
              "2        23\n",
              "3        10\n",
              "4        17\n",
              "         ..\n",
              "41139    19\n",
              "41140    20\n",
              "41141    18\n",
              "41142    18\n",
              "41143    16\n",
              "Name: city08, Length: 41144, dtype: int64"
            ]
          },
          "metadata": {},
          "execution_count": 19
        }
      ]
    },
    {
      "cell_type": "code",
      "source": [
        "# not sure what this does...\n",
        "city_mpg.convert_dtypes()"
      ],
      "metadata": {
        "colab": {
          "base_uri": "https://localhost:8080/"
        },
        "id": "FPC7nRBPSqv4",
        "outputId": "56cb39a7-16cc-4ef3-c4a4-2a7017f2b42f"
      },
      "execution_count": 20,
      "outputs": [
        {
          "output_type": "execute_result",
          "data": {
            "text/plain": [
              "0        19\n",
              "1         9\n",
              "2        23\n",
              "3        10\n",
              "4        17\n",
              "         ..\n",
              "41139    19\n",
              "41140    20\n",
              "41141    18\n",
              "41142    18\n",
              "41143    16\n",
              "Name: city08, Length: 41144, dtype: Int64"
            ]
          },
          "metadata": {},
          "execution_count": 20
        }
      ]
    },
    {
      "cell_type": "code",
      "source": [
        "type(city_mpg)"
      ],
      "metadata": {
        "colab": {
          "base_uri": "https://localhost:8080/"
        },
        "id": "o3A3HhPGStne",
        "outputId": "9e11b74e-1eac-4eb0-9914-3c042cd80789"
      },
      "execution_count": 21,
      "outputs": [
        {
          "output_type": "execute_result",
          "data": {
            "text/plain": [
              "pandas.core.series.Series"
            ]
          },
          "metadata": {},
          "execution_count": 21
        }
      ]
    },
    {
      "cell_type": "code",
      "source": [
        "# view limits on integers\n",
        "print(np.iinfo('int64'))\n",
        "print(np.iinfo('int32'))\n",
        "print(np.iinfo('int16'))\n",
        "print(np.iinfo('int8'))"
      ],
      "metadata": {
        "colab": {
          "base_uri": "https://localhost:8080/"
        },
        "id": "e6ZfmBYHSz9k",
        "outputId": "08227476-2942-4913-8c73-d88eb3e386c9"
      },
      "execution_count": 22,
      "outputs": [
        {
          "output_type": "stream",
          "name": "stdout",
          "text": [
            "Machine parameters for int64\n",
            "---------------------------------------------------------------\n",
            "min = -9223372036854775808\n",
            "max = 9223372036854775807\n",
            "---------------------------------------------------------------\n",
            "\n",
            "Machine parameters for int32\n",
            "---------------------------------------------------------------\n",
            "min = -2147483648\n",
            "max = 2147483647\n",
            "---------------------------------------------------------------\n",
            "\n",
            "Machine parameters for int16\n",
            "---------------------------------------------------------------\n",
            "min = -32768\n",
            "max = 32767\n",
            "---------------------------------------------------------------\n",
            "\n",
            "Machine parameters for int8\n",
            "---------------------------------------------------------------\n",
            "min = -128\n",
            "max = 127\n",
            "---------------------------------------------------------------\n",
            "\n"
          ]
        }
      ]
    },
    {
      "cell_type": "code",
      "source": [
        "# view limits on unsigned integers\n",
        "print(np.iinfo('uint64'))\n",
        "print(np.iinfo('uint32'))\n",
        "print(np.iinfo('uint16'))\n",
        "print(np.iinfo('uint8'))"
      ],
      "metadata": {
        "colab": {
          "base_uri": "https://localhost:8080/"
        },
        "id": "Tz1XwYZzTOjB",
        "outputId": "d84e6f35-f522-49bf-b7f9-8d108341f0d2"
      },
      "execution_count": 23,
      "outputs": [
        {
          "output_type": "stream",
          "name": "stdout",
          "text": [
            "Machine parameters for uint64\n",
            "---------------------------------------------------------------\n",
            "min = 0\n",
            "max = 18446744073709551615\n",
            "---------------------------------------------------------------\n",
            "\n",
            "Machine parameters for uint32\n",
            "---------------------------------------------------------------\n",
            "min = 0\n",
            "max = 4294967295\n",
            "---------------------------------------------------------------\n",
            "\n",
            "Machine parameters for uint16\n",
            "---------------------------------------------------------------\n",
            "min = 0\n",
            "max = 65535\n",
            "---------------------------------------------------------------\n",
            "\n",
            "Machine parameters for uint8\n",
            "---------------------------------------------------------------\n",
            "min = 0\n",
            "max = 255\n",
            "---------------------------------------------------------------\n",
            "\n"
          ]
        }
      ]
    },
    {
      "cell_type": "code",
      "source": [
        "# view limits on floats\n",
        "print(np.finfo('float64'))\n",
        "print(np.finfo('float32'))\n",
        "print(np.finfo('float16'))"
      ],
      "metadata": {
        "colab": {
          "base_uri": "https://localhost:8080/"
        },
        "id": "cSFKU1m-T33I",
        "outputId": "6ae3a780-8c64-4719-d85d-81ff0d042f93"
      },
      "execution_count": 24,
      "outputs": [
        {
          "output_type": "stream",
          "name": "stdout",
          "text": [
            "Machine parameters for float64\n",
            "---------------------------------------------------------------\n",
            "precision =  15   resolution = 1.0000000000000001e-15\n",
            "machep =    -52   eps =        2.2204460492503131e-16\n",
            "negep =     -53   epsneg =     1.1102230246251565e-16\n",
            "minexp =  -1022   tiny =       2.2250738585072014e-308\n",
            "maxexp =   1024   max =        1.7976931348623157e+308\n",
            "nexp =       11   min =        -max\n",
            "---------------------------------------------------------------\n",
            "\n",
            "Machine parameters for float32\n",
            "---------------------------------------------------------------\n",
            "precision =   6   resolution = 1.0000000e-06\n",
            "machep =    -23   eps =        1.1920929e-07\n",
            "negep =     -24   epsneg =     5.9604645e-08\n",
            "minexp =   -126   tiny =       1.1754944e-38\n",
            "maxexp =    128   max =        3.4028235e+38\n",
            "nexp =        8   min =        -max\n",
            "---------------------------------------------------------------\n",
            "\n",
            "Machine parameters for float16\n",
            "---------------------------------------------------------------\n",
            "precision =   3   resolution = 1.00040e-03\n",
            "machep =    -10   eps =        9.76562e-04\n",
            "negep =     -11   epsneg =     4.88281e-04\n",
            "minexp =    -14   tiny =       6.10352e-05\n",
            "maxexp =     16   max =        6.55040e+04\n",
            "nexp =        5   min =        -max\n",
            "---------------------------------------------------------------\n",
            "\n"
          ]
        }
      ]
    },
    {
      "cell_type": "code",
      "source": [
        "# city_mpg is currently int64\n",
        "print(city_mpg)\n",
        "\n",
        "# check memory usage\n",
        "print('\\n')\n",
        "print('nbytes: ', city_mpg.nbytes)"
      ],
      "metadata": {
        "colab": {
          "base_uri": "https://localhost:8080/"
        },
        "id": "TuAHyIWZUDUl",
        "outputId": "163df67d-fa9f-4e79-ad32-979831ce2a68"
      },
      "execution_count": 25,
      "outputs": [
        {
          "output_type": "stream",
          "name": "stdout",
          "text": [
            "0        19\n",
            "1         9\n",
            "2        23\n",
            "3        10\n",
            "4        17\n",
            "         ..\n",
            "41139    19\n",
            "41140    20\n",
            "41141    18\n",
            "41142    18\n",
            "41143    16\n",
            "Name: city08, Length: 41144, dtype: int64\n",
            "\n",
            "\n",
            "nbytes:  329152\n"
          ]
        }
      ]
    },
    {
      "cell_type": "code",
      "source": [
        "# cast as int32\n",
        "print(city_mpg.astype('int32').nbytes)"
      ],
      "metadata": {
        "colab": {
          "base_uri": "https://localhost:8080/"
        },
        "id": "vnIpFI9_UP5O",
        "outputId": "03d497b6-23b6-45a2-f26f-7a4022047851"
      },
      "execution_count": 26,
      "outputs": [
        {
          "output_type": "stream",
          "name": "stdout",
          "text": [
            "164576\n"
          ]
        }
      ]
    },
    {
      "cell_type": "code",
      "source": [
        "city_mpg"
      ],
      "metadata": {
        "colab": {
          "base_uri": "https://localhost:8080/"
        },
        "id": "1EeFDjqIUee6",
        "outputId": "d13059d6-0b61-4e07-ded1-684894358323"
      },
      "execution_count": 27,
      "outputs": [
        {
          "output_type": "execute_result",
          "data": {
            "text/plain": [
              "0        19\n",
              "1         9\n",
              "2        23\n",
              "3        10\n",
              "4        17\n",
              "         ..\n",
              "41139    19\n",
              "41140    20\n",
              "41141    18\n",
              "41142    18\n",
              "41143    16\n",
              "Name: city08, Length: 41144, dtype: int64"
            ]
          },
          "metadata": {},
          "execution_count": 27
        }
      ]
    },
    {
      "cell_type": "code",
      "source": [
        "print('city_mpg min and max: ', city_mpg.agg([np.min, np.max]))\n",
        "#city_mpg ranges from 6 to 150"
      ],
      "metadata": {
        "colab": {
          "base_uri": "https://localhost:8080/"
        },
        "id": "6LaDGaixWf2B",
        "outputId": "6e10765e-d883-4ed0-e3b4-3ee26ae71b4f"
      },
      "execution_count": 28,
      "outputs": [
        {
          "output_type": "stream",
          "name": "stdout",
          "text": [
            "city_mpg min and max:  amin      6\n",
            "amax    150\n",
            "Name: city08, dtype: int64\n"
          ]
        }
      ]
    },
    {
      "cell_type": "code",
      "source": [
        "# convert to uint8\n",
        "city_mpg.astype('uint8').agg([np.min, np.max])\n",
        "  # why does this happen? why not 6 and 150"
      ],
      "metadata": {
        "colab": {
          "base_uri": "https://localhost:8080/"
        },
        "id": "bs33D3wyWxf3",
        "outputId": "4426daab-23f4-42a3-c674-4ce820d27954"
      },
      "execution_count": 29,
      "outputs": [
        {
          "output_type": "execute_result",
          "data": {
            "text/plain": [
              "amin      6\n",
              "amax   -106\n",
              "Name: city08, dtype: int8"
            ]
          },
          "metadata": {},
          "execution_count": 29
        }
      ]
    },
    {
      "cell_type": "code",
      "source": [
        "# see notes about converting str to category (ordered) for memory saving; can still use str methods"
      ],
      "metadata": {
        "id": "bLkYh-d5XJM8"
      },
      "execution_count": 30,
      "outputs": []
    },
    {
      "cell_type": "markdown",
      "source": [
        "# Chapter 9: Manipulation Methods"
      ],
      "metadata": {
        "id": "bddYxHVxX6w0"
      }
    },
    {
      "cell_type": "code",
      "source": [
        "# series called make from df\n",
        "make = df.make\n",
        "print(make)"
      ],
      "metadata": {
        "colab": {
          "base_uri": "https://localhost:8080/"
        },
        "id": "58JReFXvX81o",
        "outputId": "2b3712a6-9824-4869-a579-bab8e19a1074"
      },
      "execution_count": 31,
      "outputs": [
        {
          "output_type": "stream",
          "name": "stdout",
          "text": [
            "0        Alfa Romeo\n",
            "1           Ferrari\n",
            "2             Dodge\n",
            "3             Dodge\n",
            "4            Subaru\n",
            "            ...    \n",
            "41139        Subaru\n",
            "41140        Subaru\n",
            "41141        Subaru\n",
            "41142        Subaru\n",
            "41143        Subaru\n",
            "Name: make, Length: 41144, dtype: object\n"
          ]
        }
      ]
    },
    {
      "cell_type": "code",
      "source": [
        "# get coutns fo each make\n",
        "print(make.value_counts())"
      ],
      "metadata": {
        "colab": {
          "base_uri": "https://localhost:8080/"
        },
        "id": "em0_zfIuY0OC",
        "outputId": "c26bd85d-699b-446a-962c-eab935368493"
      },
      "execution_count": 32,
      "outputs": [
        {
          "output_type": "stream",
          "name": "stdout",
          "text": [
            "Chevrolet                      4003\n",
            "Ford                           3371\n",
            "Dodge                          2583\n",
            "GMC                            2494\n",
            "Toyota                         2071\n",
            "                               ... \n",
            "Volga Associated Automobile       1\n",
            "Panos                             1\n",
            "Mahindra                          1\n",
            "Excalibur Autos                   1\n",
            "London Coach Co Inc               1\n",
            "Name: make, Length: 136, dtype: int64\n"
          ]
        }
      ]
    },
    {
      "cell_type": "code",
      "source": [
        "# for make, if make is in top 5 (Chevrolet, Ford, Dodge, GMC, Toyota), keep make as is; otherwise 'Other'\n",
        "\n",
        "# top 5\n",
        "top5 = make.value_counts().index[:5]   # .index pulls out index; [:5] pulls out top 5, which is 0 thru 4\n",
        "print(top5)"
      ],
      "metadata": {
        "colab": {
          "base_uri": "https://localhost:8080/"
        },
        "id": "7s-eKfY2Y3Px",
        "outputId": "1890ef40-c912-4a4c-ba32-e6fbffcce2b5"
      },
      "execution_count": 33,
      "outputs": [
        {
          "output_type": "stream",
          "name": "stdout",
          "text": [
            "Index(['Chevrolet', 'Ford', 'Dodge', 'GMC', 'Toyota'], dtype='object')\n"
          ]
        }
      ]
    },
    {
      "cell_type": "code",
      "source": [
        "# if make is in top5, leave as is; otherwise, replace with 'Other'\n",
        "make_bucketed = make.where(make.isin(top5), other = 'Other')\n",
        "print(make_bucketed)"
      ],
      "metadata": {
        "colab": {
          "base_uri": "https://localhost:8080/"
        },
        "id": "qgqvAwSwaAii",
        "outputId": "367d663c-1b8f-413e-f8fe-aca5debffebd"
      },
      "execution_count": 34,
      "outputs": [
        {
          "output_type": "stream",
          "name": "stdout",
          "text": [
            "0        Other\n",
            "1        Other\n",
            "2        Dodge\n",
            "3        Dodge\n",
            "4        Other\n",
            "         ...  \n",
            "41139    Other\n",
            "41140    Other\n",
            "41141    Other\n",
            "41142    Other\n",
            "41143    Other\n",
            "Name: make, Length: 41144, dtype: object\n"
          ]
        }
      ]
    },
    {
      "cell_type": "code",
      "source": [
        "# check value_counts()\n",
        "make_bucketed.value_counts()"
      ],
      "metadata": {
        "colab": {
          "base_uri": "https://localhost:8080/"
        },
        "id": "ondbPynOaQnG",
        "outputId": "73729ce6-6dce-45fa-9e0d-b3fd4555b374"
      },
      "execution_count": 35,
      "outputs": [
        {
          "output_type": "execute_result",
          "data": {
            "text/plain": [
              "Other        26622\n",
              "Chevrolet     4003\n",
              "Ford          3371\n",
              "Dodge         2583\n",
              "GMC           2494\n",
              "Toyota        2071\n",
              "Name: make, dtype: int64"
            ]
          },
          "metadata": {},
          "execution_count": 35
        }
      ]
    },
    {
      "cell_type": "code",
      "source": [
        "# see mask for inverse/reverse of .where"
      ],
      "metadata": {
        "id": "-rymzhYyaWAV"
      },
      "execution_count": 36,
      "outputs": []
    },
    {
      "cell_type": "code",
      "source": [
        "# for make series, if it's in top 5, keep make as is; if it's 6-10, say \"top 10\", i.e., 6-10, otherwise 'Other\n",
        "(\n",
        "    make\n",
        "      .where(cond = make.isin(make.value_counts().index[:5]), other = 'Top10')    # if in top5, keep as is, otherwise 'Top10'\n",
        "      .where(cond = make.isin(make.value_counts().index[:10]), other = 'Other')   # if in top10, keep as is, otherwise 'Other'\n",
        ")"
      ],
      "metadata": {
        "colab": {
          "base_uri": "https://localhost:8080/"
        },
        "id": "n1_TwKyxV-Q7",
        "outputId": "c1e4dede-b641-4cdd-ba93-29b622f54a15"
      },
      "execution_count": 37,
      "outputs": [
        {
          "output_type": "execute_result",
          "data": {
            "text/plain": [
              "0        Other\n",
              "1        Other\n",
              "2        Dodge\n",
              "3        Dodge\n",
              "4        Other\n",
              "         ...  \n",
              "41139    Other\n",
              "41140    Other\n",
              "41141    Other\n",
              "41142    Other\n",
              "41143    Other\n",
              "Name: make, Length: 41144, dtype: object"
            ]
          },
          "metadata": {},
          "execution_count": 37
        }
      ]
    },
    {
      "cell_type": "code",
      "source": [
        "# count how many missing values there are in cyl series\n",
        "\n",
        "# create variable\n",
        "cyl = df.cylinders\n",
        "\n",
        "# total number of entries in cyl\n",
        "print(len(cyl))\n",
        "\n",
        "# number of missing values\n",
        "print(\n",
        "    (\n",
        "        cyl\n",
        "          .isna()\n",
        "          .sum()\n",
        "    )\n",
        ")"
      ],
      "metadata": {
        "colab": {
          "base_uri": "https://localhost:8080/"
        },
        "id": "CVgZTYUCWWKr",
        "outputId": "df68e9ba-3ba9-4cb5-b4d2-61f261d84d5f"
      },
      "execution_count": 38,
      "outputs": [
        {
          "output_type": "stream",
          "name": "stdout",
          "text": [
            "41144\n",
            "206\n"
          ]
        }
      ]
    },
    {
      "cell_type": "code",
      "source": [
        "# entries in cyl that are missing\n",
        "cyl.loc[cyl.isna()]\n",
        "\n",
        "# equivlent to above\n",
        "cyl[cyl.isna()]  # boolean mask inside square brackets []"
      ],
      "metadata": {
        "id": "KnrywnktYaYF",
        "colab": {
          "base_uri": "https://localhost:8080/"
        },
        "outputId": "ae1e7cdb-d820-4611-b85a-9524722a26cc"
      },
      "execution_count": 39,
      "outputs": [
        {
          "output_type": "execute_result",
          "data": {
            "text/plain": [
              "7138    NaN\n",
              "7139    NaN\n",
              "8143    NaN\n",
              "8144    NaN\n",
              "8146    NaN\n",
              "         ..\n",
              "34563   NaN\n",
              "34564   NaN\n",
              "34565   NaN\n",
              "34566   NaN\n",
              "34567   NaN\n",
              "Name: cylinders, Length: 206, dtype: float64"
            ]
          },
          "metadata": {},
          "execution_count": 39
        }
      ]
    },
    {
      "cell_type": "code",
      "source": [
        "# based on subject matter expert, missing values (NaN) are for electric vehicles, which have 0 cylinders\n",
        "# so replace NaN with 0\n",
        "cyl.fillna(0)\n",
        "\n",
        "print(cyl.fillna(0)[cyl.fillna(0).isna()]) # should return empty"
      ],
      "metadata": {
        "colab": {
          "base_uri": "https://localhost:8080/"
        },
        "id": "MFv9nNa8UxaO",
        "outputId": "c862376a-23e4-4a9c-a5b4-85b61c4eac8e"
      },
      "execution_count": 40,
      "outputs": [
        {
          "output_type": "stream",
          "name": "stdout",
          "text": [
            "Series([], Name: cylinders, dtype: float64)\n"
          ]
        }
      ]
    },
    {
      "cell_type": "code",
      "source": [
        "# interpolate (as opposed to extrapolate)\n",
        "\n",
        "temp = pd.Series(\n",
        "    data = [32, 40, np.nan, 42, 39, 32]\n",
        ")\n",
        "\n",
        "print(temp)\n",
        "print('\\n')\n",
        "print(temp.interpolate())"
      ],
      "metadata": {
        "colab": {
          "base_uri": "https://localhost:8080/"
        },
        "id": "-wlvlem3U7tL",
        "outputId": "02651467-867a-458a-dbcc-41f3e18dff9e"
      },
      "execution_count": 41,
      "outputs": [
        {
          "output_type": "stream",
          "name": "stdout",
          "text": [
            "0    32.0\n",
            "1    40.0\n",
            "2     NaN\n",
            "3    42.0\n",
            "4    39.0\n",
            "5    32.0\n",
            "dtype: float64\n",
            "\n",
            "\n",
            "0    32.0\n",
            "1    40.0\n",
            "2    41.0\n",
            "3    42.0\n",
            "4    39.0\n",
            "5    32.0\n",
            "dtype: float64\n"
          ]
        }
      ]
    },
    {
      "cell_type": "code",
      "source": [
        "# before cliping\n",
        "print(city_mpg.agg(['min', 'max']))\n",
        "print('\\n')\n",
        "print(len(city_mpg))\n"
      ],
      "metadata": {
        "colab": {
          "base_uri": "https://localhost:8080/"
        },
        "id": "rTBmQ53NW9u_",
        "outputId": "2cdeef45-78d4-4970-b093-2ed52a4519bd"
      },
      "execution_count": 42,
      "outputs": [
        {
          "output_type": "stream",
          "name": "stdout",
          "text": [
            "min      6\n",
            "max    150\n",
            "Name: city08, dtype: int64\n",
            "\n",
            "\n",
            "41144\n"
          ]
        }
      ]
    },
    {
      "cell_type": "code",
      "source": [
        "# after clipping\n",
        "print(city_mpg.clip(lower = city_mpg.quantile(0.05), upper = city_mpg.quantile(0.95)).agg(['min', 'max']))\n",
        "print('\\n')\n",
        "print(len(city_mpg.clip(lower = city_mpg.quantile(0.05), upper = city_mpg.quantile(0.95))))"
      ],
      "metadata": {
        "colab": {
          "base_uri": "https://localhost:8080/"
        },
        "id": "5GkjB97RX3zc",
        "outputId": "2dd6bc01-1ccb-48eb-d445-b065b0de5c4f"
      },
      "execution_count": 43,
      "outputs": [
        {
          "output_type": "stream",
          "name": "stdout",
          "text": [
            "min    11.0\n",
            "max    27.0\n",
            "Name: city08, dtype: float64\n",
            "\n",
            "\n",
            "41144\n"
          ]
        }
      ]
    },
    {
      "cell_type": "code",
      "source": [
        "# clipping replaces values outside of lower and upper with lower and upper values, respectively"
      ],
      "metadata": {
        "id": "rL_Wg0WlYLa6"
      },
      "execution_count": 44,
      "outputs": []
    },
    {
      "cell_type": "code",
      "source": [
        "# sorting values\n",
        "city_mpg.sort_values() # by default, it's ascending, like SQL"
      ],
      "metadata": {
        "colab": {
          "base_uri": "https://localhost:8080/"
        },
        "id": "H12vYcbRY1o1",
        "outputId": "21e5b9c7-8190-452d-c4cb-3eb1ce6039fb"
      },
      "execution_count": 45,
      "outputs": [
        {
          "output_type": "execute_result",
          "data": {
            "text/plain": [
              "7901       6\n",
              "34557      6\n",
              "37161      6\n",
              "21060      6\n",
              "35887      6\n",
              "        ... \n",
              "34563    138\n",
              "34564    140\n",
              "32599    150\n",
              "31256    150\n",
              "33423    150\n",
              "Name: city08, Length: 41144, dtype: int64"
            ]
          },
          "metadata": {},
          "execution_count": 45
        }
      ]
    },
    {
      "cell_type": "code",
      "source": [
        "# sort index\n",
        "city_mpg.sort_values().sort_index()"
      ],
      "metadata": {
        "colab": {
          "base_uri": "https://localhost:8080/"
        },
        "id": "IlzUtV3tZHsM",
        "outputId": "33bd5b1e-7fef-4180-ed24-f58441884273"
      },
      "execution_count": 46,
      "outputs": [
        {
          "output_type": "execute_result",
          "data": {
            "text/plain": [
              "0        19\n",
              "1         9\n",
              "2        23\n",
              "3        10\n",
              "4        17\n",
              "         ..\n",
              "41139    19\n",
              "41140    20\n",
              "41141    18\n",
              "41142    18\n",
              "41143    16\n",
              "Name: city08, Length: 41144, dtype: int64"
            ]
          },
          "metadata": {},
          "execution_count": 46
        }
      ]
    },
    {
      "cell_type": "code",
      "source": [
        "# above is same as city_mpg\n",
        "city_mpg"
      ],
      "metadata": {
        "colab": {
          "base_uri": "https://localhost:8080/"
        },
        "id": "7N_7uXAyZyVu",
        "outputId": "810b7758-bb16-4332-fd60-d1ff17ec0264"
      },
      "execution_count": 47,
      "outputs": [
        {
          "output_type": "execute_result",
          "data": {
            "text/plain": [
              "0        19\n",
              "1         9\n",
              "2        23\n",
              "3        10\n",
              "4        17\n",
              "         ..\n",
              "41139    19\n",
              "41140    20\n",
              "41141    18\n",
              "41142    18\n",
              "41143    16\n",
              "Name: city08, Length: 41144, dtype: int64"
            ]
          },
          "metadata": {},
          "execution_count": 47
        }
      ]
    },
    {
      "cell_type": "code",
      "source": [
        "# dropping duplicate values\n",
        "duplicated_series = pd.Series(data = [40, 20, 30, 20, 10])\n",
        "print(duplicated_series)"
      ],
      "metadata": {
        "colab": {
          "base_uri": "https://localhost:8080/"
        },
        "id": "TraAUWkkZ0nV",
        "outputId": "a3f25a90-0c76-42b9-a324-a2ad9be2c7b5"
      },
      "execution_count": 48,
      "outputs": [
        {
          "output_type": "stream",
          "name": "stdout",
          "text": [
            "0    40\n",
            "1    20\n",
            "2    30\n",
            "3    20\n",
            "4    10\n",
            "dtype: int64\n"
          ]
        }
      ]
    },
    {
      "cell_type": "code",
      "source": [
        "# keep the first duplicated value -- index 1, value is 20 -- but drop others\n",
        "duplicated_series.drop_duplicates()"
      ],
      "metadata": {
        "colab": {
          "base_uri": "https://localhost:8080/"
        },
        "id": "LmLA0_w1a7GV",
        "outputId": "f938aea4-3ad1-4dc3-8aa7-1812c1481303"
      },
      "execution_count": 49,
      "outputs": [
        {
          "output_type": "execute_result",
          "data": {
            "text/plain": [
              "0    40\n",
              "1    20\n",
              "2    30\n",
              "4    10\n",
              "dtype: int64"
            ]
          },
          "metadata": {},
          "execution_count": 49
        }
      ]
    },
    {
      "cell_type": "code",
      "source": [
        "# keep the last duplicated value, drop others -- index 3, value 20\n",
        "duplicated_series.drop_duplicates(keep = 'last')"
      ],
      "metadata": {
        "colab": {
          "base_uri": "https://localhost:8080/"
        },
        "id": "zmFnqL5AbBIT",
        "outputId": "93814852-221e-48f8-aa80-da1b3bf1f2da"
      },
      "execution_count": 50,
      "outputs": [
        {
          "output_type": "execute_result",
          "data": {
            "text/plain": [
              "0    40\n",
              "2    30\n",
              "3    20\n",
              "4    10\n",
              "dtype: int64"
            ]
          },
          "metadata": {},
          "execution_count": 50
        }
      ]
    },
    {
      "cell_type": "code",
      "source": [
        "# drop all duplicates\n",
        "duplicated_series.drop_duplicates(keep = False)"
      ],
      "metadata": {
        "colab": {
          "base_uri": "https://localhost:8080/"
        },
        "id": "4lV5b3ombH5q",
        "outputId": "34b4c9ac-526f-4254-facc-9e5cb52c5e45"
      },
      "execution_count": 51,
      "outputs": [
        {
          "output_type": "execute_result",
          "data": {
            "text/plain": [
              "0    40\n",
              "2    30\n",
              "4    10\n",
              "dtype: int64"
            ]
          },
          "metadata": {},
          "execution_count": 51
        }
      ]
    },
    {
      "cell_type": "code",
      "source": [
        "city_mpg"
      ],
      "metadata": {
        "colab": {
          "base_uri": "https://localhost:8080/"
        },
        "id": "OKnk6KZCbdsJ",
        "outputId": "d54e0d2c-5580-431a-8a2f-ecbb6e74f2a7"
      },
      "execution_count": 52,
      "outputs": [
        {
          "output_type": "execute_result",
          "data": {
            "text/plain": [
              "0        19\n",
              "1         9\n",
              "2        23\n",
              "3        10\n",
              "4        17\n",
              "         ..\n",
              "41139    19\n",
              "41140    20\n",
              "41141    18\n",
              "41142    18\n",
              "41143    16\n",
              "Name: city08, Length: 41144, dtype: int64"
            ]
          },
          "metadata": {},
          "execution_count": 52
        }
      ]
    },
    {
      "cell_type": "code",
      "source": [
        "city_mpg.rank()"
      ],
      "metadata": {
        "colab": {
          "base_uri": "https://localhost:8080/"
        },
        "id": "vbBq9JDahW5W",
        "outputId": "946e412c-dbb8-44b1-fa98-901e4a29d775"
      },
      "execution_count": 53,
      "outputs": [
        {
          "output_type": "execute_result",
          "data": {
            "text/plain": [
              "0        27060.5\n",
              "1          235.5\n",
              "2        35830.0\n",
              "3          607.5\n",
              "4        19484.0\n",
              "          ...   \n",
              "41139    27060.5\n",
              "41140    29719.5\n",
              "41141    23528.0\n",
              "41142    23528.0\n",
              "41143    15479.0\n",
              "Name: city08, Length: 41144, dtype: float64"
            ]
          },
          "metadata": {},
          "execution_count": 53
        }
      ]
    },
    {
      "cell_type": "code",
      "source": [
        "# what does ranking do? .rank()\n",
        "# see fig. 9.5 on p. 74; instead of values, returns a rank, 1 thur n where n is len(series)"
      ],
      "metadata": {
        "id": "vV8O0wAshYG2"
      },
      "execution_count": 54,
      "outputs": []
    },
    {
      "cell_type": "code",
      "source": [
        "series_to_rank = pd.Series(data = [30, 20, 30, 20, 10])\n",
        "print(series_to_rank)"
      ],
      "metadata": {
        "colab": {
          "base_uri": "https://localhost:8080/"
        },
        "id": "ipVTJSm1h-QM",
        "outputId": "baefdaa4-df4b-4343-9e32-1ba137239678"
      },
      "execution_count": 55,
      "outputs": [
        {
          "output_type": "stream",
          "name": "stdout",
          "text": [
            "0    30\n",
            "1    20\n",
            "2    30\n",
            "3    20\n",
            "4    10\n",
            "dtype: int64\n"
          ]
        }
      ]
    },
    {
      "cell_type": "code",
      "source": [
        "print(series_to_rank.rank())"
      ],
      "metadata": {
        "colab": {
          "base_uri": "https://localhost:8080/"
        },
        "id": "9u1SE2muj7Hx",
        "outputId": "49352e40-9841-4b80-ef77-c594da4cb2dc"
      },
      "execution_count": 56,
      "outputs": [
        {
          "output_type": "stream",
          "name": "stdout",
          "text": [
            "0    4.5\n",
            "1    2.5\n",
            "2    4.5\n",
            "3    2.5\n",
            "4    1.0\n",
            "dtype: float64\n"
          ]
        }
      ]
    },
    {
      "cell_type": "code",
      "source": [
        "print(series_to_rank.rank(method = 'dense'))"
      ],
      "metadata": {
        "colab": {
          "base_uri": "https://localhost:8080/"
        },
        "id": "S8VtGL8tj9pA",
        "outputId": "91610f2c-0618-4cd9-8fc1-140c588e48a0"
      },
      "execution_count": 57,
      "outputs": [
        {
          "output_type": "stream",
          "name": "stdout",
          "text": [
            "0    3.0\n",
            "1    2.0\n",
            "2    3.0\n",
            "3    2.0\n",
            "4    1.0\n",
            "dtype: float64\n"
          ]
        }
      ]
    },
    {
      "cell_type": "code",
      "source": [
        "# replace values; see fig 9.6 on p. 75\n",
        "print(series_to_rank)"
      ],
      "metadata": {
        "colab": {
          "base_uri": "https://localhost:8080/"
        },
        "id": "OfN3kR1EkFT3",
        "outputId": "2b633f22-c9fa-438b-ac31-c2b7f288fcd6"
      },
      "execution_count": 58,
      "outputs": [
        {
          "output_type": "stream",
          "name": "stdout",
          "text": [
            "0    30\n",
            "1    20\n",
            "2    30\n",
            "3    20\n",
            "4    10\n",
            "dtype: int64\n"
          ]
        }
      ]
    },
    {
      "cell_type": "code",
      "source": [
        "print(series_to_rank.replace(to_replace = {30:3000, 10:1000}))"
      ],
      "metadata": {
        "colab": {
          "base_uri": "https://localhost:8080/"
        },
        "id": "bf7x02b_kRe4",
        "outputId": "892b4184-ffdd-4ed0-aa2e-cf3ac12d0add"
      },
      "execution_count": 59,
      "outputs": [
        {
          "output_type": "stream",
          "name": "stdout",
          "text": [
            "0    3000\n",
            "1      20\n",
            "2    3000\n",
            "3      20\n",
            "4    1000\n",
            "dtype: int64\n"
          ]
        }
      ]
    },
    {
      "cell_type": "code",
      "source": [
        "# bin these data\n",
        "print(city_mpg)"
      ],
      "metadata": {
        "colab": {
          "base_uri": "https://localhost:8080/"
        },
        "id": "FpWnteUdkczO",
        "outputId": "95db7709-7ee6-436b-a2c4-3a91c33abf47"
      },
      "execution_count": 60,
      "outputs": [
        {
          "output_type": "stream",
          "name": "stdout",
          "text": [
            "0        19\n",
            "1         9\n",
            "2        23\n",
            "3        10\n",
            "4        17\n",
            "         ..\n",
            "41139    19\n",
            "41140    20\n",
            "41141    18\n",
            "41142    18\n",
            "41143    16\n",
            "Name: city08, Length: 41144, dtype: int64\n"
          ]
        }
      ]
    },
    {
      "cell_type": "code",
      "source": [
        "# 10 bins\n",
        "(\n",
        "pd.cut(x = city_mpg, bins = 10)      # cut city_mpg series into 10 bins; each bin covers the same ground\n",
        "  .value_counts()                    # number of entries in each bin\n",
        "  .sort_index()                      # sort by index\n",
        ")"
      ],
      "metadata": {
        "colab": {
          "base_uri": "https://localhost:8080/"
        },
        "id": "1Ds6sDP9lYph",
        "outputId": "4c637bca-988d-49e4-cd0a-3439e1126e40"
      },
      "execution_count": 61,
      "outputs": [
        {
          "output_type": "execute_result",
          "data": {
            "text/plain": [
              "(5.856, 20.4]     30872\n",
              "(20.4, 34.8]       9667\n",
              "(34.8, 49.2]        367\n",
              "(49.2, 63.6]         54\n",
              "(63.6, 78.0]         11\n",
              "(78.0, 92.4]         48\n",
              "(92.4, 106.8]        32\n",
              "(106.8, 121.2]       26\n",
              "(121.2, 135.6]       55\n",
              "(135.6, 150.0]       12\n",
              "Name: city08, dtype: int64"
            ]
          },
          "metadata": {},
          "execution_count": 61
        }
      ]
    },
    {
      "cell_type": "code",
      "source": [
        "# 10 bins, approx. number of entries in each bin, i.e., deciles\n",
        "(\n",
        "    pd.qcut(x = city_mpg, q = 10)\n",
        "      .value_counts()\n",
        "      .sort_index()\n",
        ")"
      ],
      "metadata": {
        "colab": {
          "base_uri": "https://localhost:8080/"
        },
        "id": "N9BbmFacle7-",
        "outputId": "163f1e0d-52fe-44f1-eb8b-c94a0d0cc979"
      },
      "execution_count": 62,
      "outputs": [
        {
          "output_type": "execute_result",
          "data": {
            "text/plain": [
              "(5.999, 13.0]    6019\n",
              "(13.0, 14.0]     2969\n",
              "(14.0, 15.0]     4503\n",
              "(15.0, 16.0]     3975\n",
              "(16.0, 17.0]     4035\n",
              "(17.0, 18.0]     4053\n",
              "(18.0, 20.0]     5318\n",
              "(20.0, 21.0]     2532\n",
              "(21.0, 24.0]     4036\n",
              "(24.0, 150.0]    3704\n",
              "Name: city08, dtype: int64"
            ]
          },
          "metadata": {},
          "execution_count": 62
        }
      ]
    },
    {
      "cell_type": "code",
      "source": [
        "# label the bins\n",
        "pd.qcut(x = city_mpg, q = 10, labels = list(range(1, 11)))  # 1 is lowest decile, 10 is top decile"
      ],
      "metadata": {
        "colab": {
          "base_uri": "https://localhost:8080/"
        },
        "id": "Yp6dcgmHmOmq",
        "outputId": "e86027d3-d2d8-4e34-d4d9-3c0c60a2464b"
      },
      "execution_count": 63,
      "outputs": [
        {
          "output_type": "execute_result",
          "data": {
            "text/plain": [
              "0        7\n",
              "1        1\n",
              "2        9\n",
              "3        1\n",
              "4        5\n",
              "        ..\n",
              "41139    7\n",
              "41140    7\n",
              "41141    6\n",
              "41142    6\n",
              "41143    4\n",
              "Name: city08, Length: 41144, dtype: category\n",
              "Categories (10, int64): [1 < 2 < 3 < 4 ... 7 < 8 < 9 < 10]"
            ]
          },
          "metadata": {},
          "execution_count": 63
        }
      ]
    },
    {
      "cell_type": "code",
      "source": [
        "pd.qcut(x = city_mpg, q = 10)"
      ],
      "metadata": {
        "colab": {
          "base_uri": "https://localhost:8080/"
        },
        "id": "DoRNValcm9Jd",
        "outputId": "998d9b8d-1f24-4bb7-bd14-eed9565f1022"
      },
      "execution_count": 64,
      "outputs": [
        {
          "output_type": "execute_result",
          "data": {
            "text/plain": [
              "0         (18.0, 20.0]\n",
              "1        (5.999, 13.0]\n",
              "2         (21.0, 24.0]\n",
              "3        (5.999, 13.0]\n",
              "4         (16.0, 17.0]\n",
              "             ...      \n",
              "41139     (18.0, 20.0]\n",
              "41140     (18.0, 20.0]\n",
              "41141     (17.0, 18.0]\n",
              "41142     (17.0, 18.0]\n",
              "41143     (15.0, 16.0]\n",
              "Name: city08, Length: 41144, dtype: category\n",
              "Categories (10, interval[float64, right]): [(5.999, 13.0] < (13.0, 14.0] < (14.0, 15.0] <\n",
              "                                            (15.0, 16.0] ... (18.0, 20.0] < (20.0, 21.0] <\n",
              "                                            (21.0, 24.0] < (24.0, 150.0]]"
            ]
          },
          "metadata": {},
          "execution_count": 64
        }
      ]
    },
    {
      "cell_type": "markdown",
      "source": [
        "# Chapter 10: Indexing Operations"
      ],
      "metadata": {
        "id": "RL3LIxz-YlnR"
      }
    },
    {
      "cell_type": "code",
      "source": [
        "# reset index of city_mpg\n",
        "city_mpg"
      ],
      "metadata": {
        "colab": {
          "base_uri": "https://localhost:8080/"
        },
        "id": "6FQ1n0dGnF8_",
        "outputId": "8f1616f3-15cf-4b60-f591-608a77ff975a"
      },
      "execution_count": 65,
      "outputs": [
        {
          "output_type": "execute_result",
          "data": {
            "text/plain": [
              "0        19\n",
              "1         9\n",
              "2        23\n",
              "3        10\n",
              "4        17\n",
              "         ..\n",
              "41139    19\n",
              "41140    20\n",
              "41141    18\n",
              "41142    18\n",
              "41143    16\n",
              "Name: city08, Length: 41144, dtype: int64"
            ]
          },
          "metadata": {},
          "execution_count": 65
        }
      ]
    },
    {
      "cell_type": "code",
      "source": [
        "# index is 0, 1, 2, 3, etc...\n",
        "# change to make\n",
        "print(make) # make is a series\n",
        "print('\\n')\n",
        "city_mpg.rename(make) # change index in city_mpg to make values"
      ],
      "metadata": {
        "colab": {
          "base_uri": "https://localhost:8080/"
        },
        "id": "WZ0TrtzAYt0C",
        "outputId": "130acddb-d7d5-4cc5-c716-497628d222e1"
      },
      "execution_count": 66,
      "outputs": [
        {
          "output_type": "stream",
          "name": "stdout",
          "text": [
            "0        Alfa Romeo\n",
            "1           Ferrari\n",
            "2             Dodge\n",
            "3             Dodge\n",
            "4            Subaru\n",
            "            ...    \n",
            "41139        Subaru\n",
            "41140        Subaru\n",
            "41141        Subaru\n",
            "41142        Subaru\n",
            "41143        Subaru\n",
            "Name: make, Length: 41144, dtype: object\n",
            "\n",
            "\n"
          ]
        },
        {
          "output_type": "execute_result",
          "data": {
            "text/plain": [
              "Alfa Romeo    19\n",
              "Ferrari        9\n",
              "Dodge         23\n",
              "Dodge         10\n",
              "Subaru        17\n",
              "              ..\n",
              "Subaru        19\n",
              "Subaru        20\n",
              "Subaru        18\n",
              "Subaru        18\n",
              "Subaru        16\n",
              "Name: city08, Length: 41144, dtype: int64"
            ]
          },
          "metadata": {},
          "execution_count": 66
        }
      ]
    },
    {
      "cell_type": "code",
      "source": [
        "# to resent index\n",
        "city_mpg.rename(make).reset_index(drop = True) # drop = True keeps it as a Series; otherwise it's a Pandas Dataframe"
      ],
      "metadata": {
        "colab": {
          "base_uri": "https://localhost:8080/"
        },
        "id": "scnSmuaUZFjP",
        "outputId": "6d3fc96c-7099-4533-dee0-a94290a70fee"
      },
      "execution_count": 67,
      "outputs": [
        {
          "output_type": "execute_result",
          "data": {
            "text/plain": [
              "0        19\n",
              "1         9\n",
              "2        23\n",
              "3        10\n",
              "4        17\n",
              "         ..\n",
              "41139    19\n",
              "41140    20\n",
              "41141    18\n",
              "41142    18\n",
              "41143    16\n",
              "Name: city08, Length: 41144, dtype: int64"
            ]
          },
          "metadata": {},
          "execution_count": 67
        }
      ]
    },
    {
      "cell_type": "code",
      "source": [
        "# create new series where index is make\n",
        "city2 = city_mpg.rename(make)\n",
        "print(city2)"
      ],
      "metadata": {
        "colab": {
          "base_uri": "https://localhost:8080/"
        },
        "id": "nO5ePvGRZcE6",
        "outputId": "912ec997-1f0c-46c0-8451-8634e3fa5b87"
      },
      "execution_count": 68,
      "outputs": [
        {
          "output_type": "stream",
          "name": "stdout",
          "text": [
            "Alfa Romeo    19\n",
            "Ferrari        9\n",
            "Dodge         23\n",
            "Dodge         10\n",
            "Subaru        17\n",
            "              ..\n",
            "Subaru        19\n",
            "Subaru        20\n",
            "Subaru        18\n",
            "Subaru        18\n",
            "Subaru        16\n",
            "Name: city08, Length: 41144, dtype: int64\n"
          ]
        }
      ]
    },
    {
      "cell_type": "code",
      "source": [
        "# pull out parts of city2 series using .loc[]\n",
        "city2.loc['Alfa Romeo']\n",
        "  # best practice to put in double brackets so it's a list instead of a scalar"
      ],
      "metadata": {
        "colab": {
          "base_uri": "https://localhost:8080/"
        },
        "id": "8vwGVU0vaL9f",
        "outputId": "37bdc4f8-9645-417d-f916-896d228b3653"
      },
      "execution_count": 69,
      "outputs": [
        {
          "output_type": "execute_result",
          "data": {
            "text/plain": [
              "Alfa Romeo    19\n",
              "Alfa Romeo    19\n",
              "Alfa Romeo    14\n",
              "Alfa Romeo    15\n",
              "Alfa Romeo    14\n",
              "              ..\n",
              "Alfa Romeo    19\n",
              "Alfa Romeo    19\n",
              "Alfa Romeo    16\n",
              "Alfa Romeo    16\n",
              "Alfa Romeo    15\n",
              "Name: city08, Length: 62, dtype: int64"
            ]
          },
          "metadata": {},
          "execution_count": 69
        }
      ]
    },
    {
      "cell_type": "code",
      "source": [
        "# pull out more than one make\n",
        "city2.loc[['Alfa Romeo', 'Subaru']]"
      ],
      "metadata": {
        "colab": {
          "base_uri": "https://localhost:8080/"
        },
        "id": "SPvZkyuvbEBY",
        "outputId": "79e84378-74a2-40c4-dd40-a0d46b3b5454"
      },
      "execution_count": 70,
      "outputs": [
        {
          "output_type": "execute_result",
          "data": {
            "text/plain": [
              "Alfa Romeo    19\n",
              "Alfa Romeo    19\n",
              "Alfa Romeo    14\n",
              "Alfa Romeo    15\n",
              "Alfa Romeo    14\n",
              "              ..\n",
              "Subaru        19\n",
              "Subaru        20\n",
              "Subaru        18\n",
              "Subaru        18\n",
              "Subaru        16\n",
              "Name: city08, Length: 947, dtype: int64"
            ]
          },
          "metadata": {},
          "execution_count": 70
        }
      ]
    },
    {
      "cell_type": "code",
      "source": [
        "# can slice using .loc with string index labels, but need to sort first\n",
        "city2.sort_index().loc['Ferrari':'Subaru']  # note that both Ferrari and Subaru are included"
      ],
      "metadata": {
        "colab": {
          "base_uri": "https://localhost:8080/"
        },
        "id": "7suD5hxWbR0Y",
        "outputId": "818c4d69-13dd-427a-ef57-95b0df0f026b"
      },
      "execution_count": 71,
      "outputs": [
        {
          "output_type": "execute_result",
          "data": {
            "text/plain": [
              "Ferrari    10\n",
              "Ferrari    13\n",
              "Ferrari    13\n",
              "Ferrari     9\n",
              "Ferrari    10\n",
              "           ..\n",
              "Subaru     21\n",
              "Subaru     21\n",
              "Subaru     19\n",
              "Subaru     21\n",
              "Subaru     18\n",
              "Name: city08, Length: 23788, dtype: int64"
            ]
          },
          "metadata": {},
          "execution_count": 71
        }
      ]
    },
    {
      "cell_type": "code",
      "source": [
        "# imprecise slicing\n",
        "(\n",
        "    city2\n",
        "      .sort_index()\n",
        "      .loc['F':'J']\n",
        ")"
      ],
      "metadata": {
        "colab": {
          "base_uri": "https://localhost:8080/"
        },
        "id": "AZ8xTFkMcZ2K",
        "outputId": "39736827-c630-475b-8e4e-0d63f973f942"
      },
      "execution_count": 72,
      "outputs": [
        {
          "output_type": "execute_result",
          "data": {
            "text/plain": [
              "Federal Coach    15\n",
              "Federal Coach    13\n",
              "Federal Coach    13\n",
              "Federal Coach    14\n",
              "Federal Coach    13\n",
              "                 ..\n",
              "Isuzu            15\n",
              "Isuzu            15\n",
              "Isuzu            15\n",
              "Isuzu            27\n",
              "Isuzu            18\n",
              "Name: city08, Length: 9040, dtype: int64"
            ]
          },
          "metadata": {},
          "execution_count": 72
        }
      ]
    },
    {
      "cell_type": "code",
      "source": [
        "city2.loc[['Dodge']]\n",
        "# same as below"
      ],
      "metadata": {
        "colab": {
          "base_uri": "https://localhost:8080/"
        },
        "id": "p1ZXUsWpdLWm",
        "outputId": "d1d1004c-fc9a-4e13-d968-38e07629bee5"
      },
      "execution_count": 73,
      "outputs": [
        {
          "output_type": "execute_result",
          "data": {
            "text/plain": [
              "Dodge    23\n",
              "Dodge    10\n",
              "Dodge    12\n",
              "Dodge    11\n",
              "Dodge    11\n",
              "         ..\n",
              "Dodge    18\n",
              "Dodge    17\n",
              "Dodge    14\n",
              "Dodge    14\n",
              "Dodge    11\n",
              "Name: city08, Length: 2583, dtype: int64"
            ]
          },
          "metadata": {},
          "execution_count": 73
        }
      ]
    },
    {
      "cell_type": "code",
      "source": [
        "# same as above; so why do it this way?\n",
        "city2.loc[pd.Index(['Dodge'])]"
      ],
      "metadata": {
        "colab": {
          "base_uri": "https://localhost:8080/"
        },
        "id": "mIvEhlqCe9Yc",
        "outputId": "e358ee55-e00e-4592-8f0f-9279a384e651"
      },
      "execution_count": 74,
      "outputs": [
        {
          "output_type": "execute_result",
          "data": {
            "text/plain": [
              "Dodge    23\n",
              "Dodge    10\n",
              "Dodge    12\n",
              "Dodge    11\n",
              "Dodge    11\n",
              "         ..\n",
              "Dodge    18\n",
              "Dodge    17\n",
              "Dodge    14\n",
              "Dodge    14\n",
              "Dodge    11\n",
              "Name: city08, Length: 2583, dtype: int64"
            ]
          },
          "metadata": {},
          "execution_count": 74
        }
      ]
    },
    {
      "cell_type": "code",
      "source": [
        "# pass in boolean mask\n",
        "city2.loc[city2 <= 15] # gas guzzlers"
      ],
      "metadata": {
        "colab": {
          "base_uri": "https://localhost:8080/"
        },
        "id": "KmUZASntfA4T",
        "outputId": "6dff3ae9-0ad1-4a90-cb39-e0cfd476f26b"
      },
      "execution_count": 75,
      "outputs": [
        {
          "output_type": "execute_result",
          "data": {
            "text/plain": [
              "Ferrari         9\n",
              "Dodge          10\n",
              "Dodge          12\n",
              "BMW            14\n",
              "BMW            14\n",
              "               ..\n",
              "Chevrolet      10\n",
              "Dodge          14\n",
              "Dodge          14\n",
              "Rolls-Royce    10\n",
              "Dodge          11\n",
              "Name: city08, Length: 13491, dtype: int64"
            ]
          },
          "metadata": {},
          "execution_count": 75
        }
      ]
    },
    {
      "cell_type": "code",
      "source": [
        "# BMW with less than 15 mpg\n",
        "(\n",
        "    city2\n",
        "      .loc[city2 < 15]\n",
        "      .loc[['BMW']]\n",
        ")"
      ],
      "metadata": {
        "colab": {
          "base_uri": "https://localhost:8080/"
        },
        "id": "oZCdMAgqfcA1",
        "outputId": "37be2e3a-2841-4ace-c564-f46087f08b89"
      },
      "execution_count": 76,
      "outputs": [
        {
          "output_type": "execute_result",
          "data": {
            "text/plain": [
              "BMW    14\n",
              "BMW    14\n",
              "BMW    11\n",
              "BMW    11\n",
              "BMW    11\n",
              "       ..\n",
              "BMW    11\n",
              "BMW    11\n",
              "BMW    11\n",
              "BMW    11\n",
              "BMW    14\n",
              "Name: city08, Length: 318, dtype: int64"
            ]
          },
          "metadata": {},
          "execution_count": 76
        }
      ]
    },
    {
      "cell_type": "code",
      "source": [
        "# this way is better than above\n",
        "city2.loc[(city2 < 15) & (city2.index == 'BMW')]"
      ],
      "metadata": {
        "colab": {
          "base_uri": "https://localhost:8080/"
        },
        "id": "SWItk7LHft4Z",
        "outputId": "c4f5aeb1-7a14-4113-c934-09a9ca4cf706"
      },
      "execution_count": 77,
      "outputs": [
        {
          "output_type": "execute_result",
          "data": {
            "text/plain": [
              "BMW    14\n",
              "BMW    14\n",
              "BMW    11\n",
              "BMW    11\n",
              "BMW    11\n",
              "       ..\n",
              "BMW    11\n",
              "BMW    11\n",
              "BMW    11\n",
              "BMW    11\n",
              "BMW    14\n",
              "Name: city08, Length: 318, dtype: int64"
            ]
          },
          "metadata": {},
          "execution_count": 77
        }
      ]
    },
    {
      "cell_type": "code",
      "source": [
        "# this addresses the above\n",
        "\n",
        "# new series called cost\n",
        "cost = pd.Series(data = [1, 2.25, 3.99, 0.99, 2.79], \n",
        "                 index = ['Gum', 'Cookie', 'Melon', 'Roll', 'Carrots'])\n",
        "\n",
        "print(cost)"
      ],
      "metadata": {
        "colab": {
          "base_uri": "https://localhost:8080/"
        },
        "id": "clLHOkodgQOC",
        "outputId": "8041c1c4-cd79-4178-a979-7245f39278c9"
      },
      "execution_count": 79,
      "outputs": [
        {
          "output_type": "stream",
          "name": "stdout",
          "text": [
            "Gum        1.00\n",
            "Cookie     2.25\n",
            "Melon      3.99\n",
            "Roll       0.99\n",
            "Carrots    2.79\n",
            "dtype: float64\n"
          ]
        }
      ]
    },
    {
      "cell_type": "code",
      "source": [
        "# inflation rate\n",
        "inflation = 1.10"
      ],
      "metadata": {
        "id": "M2c-6IMggSsi"
      },
      "execution_count": 80,
      "outputs": []
    },
    {
      "cell_type": "code",
      "source": [
        "# for cost series, new price given inflation then filter to those whose prices are above 3\n",
        "(\n",
        "    cost.\n",
        "      mul(inflation)\n",
        "      .loc[lambda x_: x_ > 3]\n",
        ")"
      ],
      "metadata": {
        "colab": {
          "base_uri": "https://localhost:8080/"
        },
        "id": "C4a1d0R9nyeo",
        "outputId": "cc514721-de8c-4ac6-c1d4-88f2ce91a4e5"
      },
      "execution_count": 83,
      "outputs": [
        {
          "output_type": "execute_result",
          "data": {
            "text/plain": [
              "Melon      4.389\n",
              "Carrots    3.069\n",
              "dtype: float64"
            ]
          },
          "metadata": {},
          "execution_count": 83
        }
      ]
    },
    {
      "cell_type": "code",
      "source": [
        "# .iloc[]\n",
        "city2"
      ],
      "metadata": {
        "colab": {
          "base_uri": "https://localhost:8080/"
        },
        "id": "NdgL0pQen4Qg",
        "outputId": "4ed857fb-9315-4ad8-9f79-b0f75c365668"
      },
      "execution_count": 84,
      "outputs": [
        {
          "output_type": "execute_result",
          "data": {
            "text/plain": [
              "Alfa Romeo    19\n",
              "Ferrari        9\n",
              "Dodge         23\n",
              "Dodge         10\n",
              "Subaru        17\n",
              "              ..\n",
              "Subaru        19\n",
              "Subaru        20\n",
              "Subaru        18\n",
              "Subaru        18\n",
              "Subaru        16\n",
              "Name: city08, Length: 41144, dtype: int64"
            ]
          },
          "metadata": {},
          "execution_count": 84
        }
      ]
    },
    {
      "cell_type": "code",
      "source": [
        "# first element in city2: Alfa Romeo, 19\n",
        "city2.iloc[[0]]"
      ],
      "metadata": {
        "colab": {
          "base_uri": "https://localhost:8080/"
        },
        "id": "Qa0Cs9Xvocf_",
        "outputId": "7e97b5ae-8905-4171-afbd-d3e18ad3cbf1"
      },
      "execution_count": 85,
      "outputs": [
        {
          "output_type": "execute_result",
          "data": {
            "text/plain": [
              "Alfa Romeo    19\n",
              "Name: city08, dtype: int64"
            ]
          },
          "metadata": {},
          "execution_count": 85
        }
      ]
    },
    {
      "cell_type": "code",
      "source": [
        "# last element in city2: Subaru, 16\n",
        "city2.iloc[[-1]]"
      ],
      "metadata": {
        "colab": {
          "base_uri": "https://localhost:8080/"
        },
        "id": "bY0M6HRBogU8",
        "outputId": "34f8243a-2681-4439-f8dc-3efbbf428d54"
      },
      "execution_count": 86,
      "outputs": [
        {
          "output_type": "execute_result",
          "data": {
            "text/plain": [
              "Subaru    16\n",
              "Name: city08, dtype: int64"
            ]
          },
          "metadata": {},
          "execution_count": 86
        }
      ]
    },
    {
      "cell_type": "code",
      "source": [
        "# first, second, and last elements\n",
        "city2.iloc[[0, 1, -1]]"
      ],
      "metadata": {
        "colab": {
          "base_uri": "https://localhost:8080/"
        },
        "id": "ezKGOJqYojTz",
        "outputId": "e501189e-f9b9-4e86-80fb-6a1db7230341"
      },
      "execution_count": 88,
      "outputs": [
        {
          "output_type": "execute_result",
          "data": {
            "text/plain": [
              "Alfa Romeo    19\n",
              "Ferrari        9\n",
              "Subaru        16\n",
              "Name: city08, dtype: int64"
            ]
          },
          "metadata": {},
          "execution_count": 88
        }
      ]
    },
    {
      "cell_type": "code",
      "source": [
        "# first 5 elements\n",
        "city2.iloc[0:5]     # doesn't work with double square brackets"
      ],
      "metadata": {
        "colab": {
          "base_uri": "https://localhost:8080/"
        },
        "id": "EBTGPdmHo-Sc",
        "outputId": "4b79c440-7b25-447e-e2ed-a14f3c9abe17"
      },
      "execution_count": 91,
      "outputs": [
        {
          "output_type": "execute_result",
          "data": {
            "text/plain": [
              "Alfa Romeo    19\n",
              "Ferrari        9\n",
              "Dodge         23\n",
              "Dodge         10\n",
              "Subaru        17\n",
              "Name: city08, dtype: int64"
            ]
          },
          "metadata": {},
          "execution_count": 91
        }
      ]
    },
    {
      "cell_type": "code",
      "source": [
        "# eight to last element to the end\n",
        "city2.iloc[-8:]"
      ],
      "metadata": {
        "colab": {
          "base_uri": "https://localhost:8080/"
        },
        "id": "-KzOE6eFpB6b",
        "outputId": "a08f2bed-b4a8-434e-d92e-42917b28c870"
      },
      "execution_count": 92,
      "outputs": [
        {
          "output_type": "execute_result",
          "data": {
            "text/plain": [
              "Saturn    21\n",
              "Saturn    24\n",
              "Saturn    21\n",
              "Subaru    19\n",
              "Subaru    20\n",
              "Subaru    18\n",
              "Subaru    18\n",
              "Subaru    16\n",
              "Name: city08, dtype: int64"
            ]
          },
          "metadata": {},
          "execution_count": 92
        }
      ]
    },
    {
      "cell_type": "code",
      "source": [
        "# boolean masks work with .loc[]\n",
        "city2.loc[city2 == 10]"
      ],
      "metadata": {
        "colab": {
          "base_uri": "https://localhost:8080/"
        },
        "id": "eINTsL-MqFY8",
        "outputId": "7b9cbc69-8699-4d43-a3b0-6d5b1d3a5986"
      },
      "execution_count": 93,
      "outputs": [
        {
          "output_type": "execute_result",
          "data": {
            "text/plain": [
              "Dodge          10\n",
              "Dodge          10\n",
              "Dodge          10\n",
              "Rolls-Royce    10\n",
              "Ford           10\n",
              "               ..\n",
              "Toyota         10\n",
              "Toyota         10\n",
              "Ferrari        10\n",
              "Chevrolet      10\n",
              "Rolls-Royce    10\n",
              "Name: city08, Length: 544, dtype: int64"
            ]
          },
          "metadata": {},
          "execution_count": 93
        }
      ]
    },
    {
      "cell_type": "code",
      "source": [
        "# but not with .iloc[]; below is an error\n",
        "city2.iloc[city2 == 10]"
      ],
      "metadata": {
        "colab": {
          "base_uri": "https://localhost:8080/",
          "height": 336
        },
        "id": "WCVFH2yZqMSj",
        "outputId": "516c9f17-8d57-4075-a97f-331a9b6fab1b"
      },
      "execution_count": 94,
      "outputs": [
        {
          "output_type": "error",
          "ename": "ValueError",
          "evalue": "ignored",
          "traceback": [
            "\u001b[0;31m---------------------------------------------------------------------------\u001b[0m",
            "\u001b[0;31mValueError\u001b[0m                                Traceback (most recent call last)",
            "\u001b[0;32m<ipython-input-94-ee5e1ba6d277>\u001b[0m in \u001b[0;36m<module>\u001b[0;34m\u001b[0m\n\u001b[1;32m      1\u001b[0m \u001b[0;31m# but not with .iloc[]; below is an error\u001b[0m\u001b[0;34m\u001b[0m\u001b[0;34m\u001b[0m\u001b[0;34m\u001b[0m\u001b[0m\n\u001b[0;32m----> 2\u001b[0;31m \u001b[0mcity2\u001b[0m\u001b[0;34m.\u001b[0m\u001b[0miloc\u001b[0m\u001b[0;34m[\u001b[0m\u001b[0mcity2\u001b[0m \u001b[0;34m==\u001b[0m \u001b[0;36m10\u001b[0m\u001b[0;34m]\u001b[0m\u001b[0;34m\u001b[0m\u001b[0;34m\u001b[0m\u001b[0m\n\u001b[0m",
            "\u001b[0;32m/usr/local/lib/python3.7/dist-packages/pandas/core/indexing.py\u001b[0m in \u001b[0;36m__getitem__\u001b[0;34m(self, key)\u001b[0m\n\u001b[1;32m    929\u001b[0m \u001b[0;34m\u001b[0m\u001b[0m\n\u001b[1;32m    930\u001b[0m             \u001b[0mmaybe_callable\u001b[0m \u001b[0;34m=\u001b[0m \u001b[0mcom\u001b[0m\u001b[0;34m.\u001b[0m\u001b[0mapply_if_callable\u001b[0m\u001b[0;34m(\u001b[0m\u001b[0mkey\u001b[0m\u001b[0;34m,\u001b[0m \u001b[0mself\u001b[0m\u001b[0;34m.\u001b[0m\u001b[0mobj\u001b[0m\u001b[0;34m)\u001b[0m\u001b[0;34m\u001b[0m\u001b[0;34m\u001b[0m\u001b[0m\n\u001b[0;32m--> 931\u001b[0;31m             \u001b[0;32mreturn\u001b[0m \u001b[0mself\u001b[0m\u001b[0;34m.\u001b[0m\u001b[0m_getitem_axis\u001b[0m\u001b[0;34m(\u001b[0m\u001b[0mmaybe_callable\u001b[0m\u001b[0;34m,\u001b[0m \u001b[0maxis\u001b[0m\u001b[0;34m=\u001b[0m\u001b[0maxis\u001b[0m\u001b[0;34m)\u001b[0m\u001b[0;34m\u001b[0m\u001b[0;34m\u001b[0m\u001b[0m\n\u001b[0m\u001b[1;32m    932\u001b[0m \u001b[0;34m\u001b[0m\u001b[0m\n\u001b[1;32m    933\u001b[0m     \u001b[0;32mdef\u001b[0m \u001b[0m_is_scalar_access\u001b[0m\u001b[0;34m(\u001b[0m\u001b[0mself\u001b[0m\u001b[0;34m,\u001b[0m \u001b[0mkey\u001b[0m\u001b[0;34m:\u001b[0m \u001b[0mtuple\u001b[0m\u001b[0;34m)\u001b[0m\u001b[0;34m:\u001b[0m\u001b[0;34m\u001b[0m\u001b[0;34m\u001b[0m\u001b[0m\n",
            "\u001b[0;32m/usr/local/lib/python3.7/dist-packages/pandas/core/indexing.py\u001b[0m in \u001b[0;36m_getitem_axis\u001b[0;34m(self, key, axis)\u001b[0m\n\u001b[1;32m   1550\u001b[0m \u001b[0;34m\u001b[0m\u001b[0m\n\u001b[1;32m   1551\u001b[0m         \u001b[0;32mif\u001b[0m \u001b[0mcom\u001b[0m\u001b[0;34m.\u001b[0m\u001b[0mis_bool_indexer\u001b[0m\u001b[0;34m(\u001b[0m\u001b[0mkey\u001b[0m\u001b[0;34m)\u001b[0m\u001b[0;34m:\u001b[0m\u001b[0;34m\u001b[0m\u001b[0;34m\u001b[0m\u001b[0m\n\u001b[0;32m-> 1552\u001b[0;31m             \u001b[0mself\u001b[0m\u001b[0;34m.\u001b[0m\u001b[0m_validate_key\u001b[0m\u001b[0;34m(\u001b[0m\u001b[0mkey\u001b[0m\u001b[0;34m,\u001b[0m \u001b[0maxis\u001b[0m\u001b[0;34m)\u001b[0m\u001b[0;34m\u001b[0m\u001b[0;34m\u001b[0m\u001b[0m\n\u001b[0m\u001b[1;32m   1553\u001b[0m             \u001b[0;32mreturn\u001b[0m \u001b[0mself\u001b[0m\u001b[0;34m.\u001b[0m\u001b[0m_getbool_axis\u001b[0m\u001b[0;34m(\u001b[0m\u001b[0mkey\u001b[0m\u001b[0;34m,\u001b[0m \u001b[0maxis\u001b[0m\u001b[0;34m=\u001b[0m\u001b[0maxis\u001b[0m\u001b[0;34m)\u001b[0m\u001b[0;34m\u001b[0m\u001b[0;34m\u001b[0m\u001b[0m\n\u001b[1;32m   1554\u001b[0m \u001b[0;34m\u001b[0m\u001b[0m\n",
            "\u001b[0;32m/usr/local/lib/python3.7/dist-packages/pandas/core/indexing.py\u001b[0m in \u001b[0;36m_validate_key\u001b[0;34m(self, key, axis)\u001b[0m\n\u001b[1;32m   1399\u001b[0m                     )\n\u001b[1;32m   1400\u001b[0m                 raise ValueError(\n\u001b[0;32m-> 1401\u001b[0;31m                     \u001b[0;34m\"iLocation based boolean indexing cannot use \"\u001b[0m\u001b[0;34m\u001b[0m\u001b[0;34m\u001b[0m\u001b[0m\n\u001b[0m\u001b[1;32m   1402\u001b[0m                     \u001b[0;34m\"an indexable as a mask\"\u001b[0m\u001b[0;34m\u001b[0m\u001b[0;34m\u001b[0m\u001b[0m\n\u001b[1;32m   1403\u001b[0m                 )\n",
            "\u001b[0;31mValueError\u001b[0m: iLocation based boolean indexing cannot use an indexable as a mask"
          ]
        }
      ]
    },
    {
      "cell_type": "code",
      "source": [
        "# but this works\n",
        "city2.iloc[(city2 == 10).to_numpy()]"
      ],
      "metadata": {
        "colab": {
          "base_uri": "https://localhost:8080/"
        },
        "id": "TFX93VfQqSHR",
        "outputId": "a643a080-7d77-47d8-eb46-71e3bcd4c80b"
      },
      "execution_count": 95,
      "outputs": [
        {
          "output_type": "execute_result",
          "data": {
            "text/plain": [
              "Dodge          10\n",
              "Dodge          10\n",
              "Dodge          10\n",
              "Rolls-Royce    10\n",
              "Ford           10\n",
              "               ..\n",
              "Toyota         10\n",
              "Toyota         10\n",
              "Ferrari        10\n",
              "Chevrolet      10\n",
              "Rolls-Royce    10\n",
              "Name: city08, Length: 544, dtype: int64"
            ]
          },
          "metadata": {},
          "execution_count": 95
        }
      ]
    },
    {
      "cell_type": "code",
      "source": [
        "# or...\n",
        "city2.iloc[list(city2 == 10)]"
      ],
      "metadata": {
        "colab": {
          "base_uri": "https://localhost:8080/"
        },
        "id": "h7ZH42QCqWG4",
        "outputId": "68dfb329-a574-49a1-8396-b62daf605be1"
      },
      "execution_count": 96,
      "outputs": [
        {
          "output_type": "execute_result",
          "data": {
            "text/plain": [
              "Dodge          10\n",
              "Dodge          10\n",
              "Dodge          10\n",
              "Rolls-Royce    10\n",
              "Ford           10\n",
              "               ..\n",
              "Toyota         10\n",
              "Toyota         10\n",
              "Ferrari        10\n",
              "Chevrolet      10\n",
              "Rolls-Royce    10\n",
              "Name: city08, Length: 544, dtype: int64"
            ]
          },
          "metadata": {},
          "execution_count": 96
        }
      ]
    },
    {
      "cell_type": "code",
      "source": [
        "# for inspecting a series\n",
        "city2.head(n = 5)  # first 5 values/entries"
      ],
      "metadata": {
        "colab": {
          "base_uri": "https://localhost:8080/"
        },
        "id": "s4X3WPVNqZav",
        "outputId": "30bafee4-f77b-4151-d4b1-f72fefb3dba9"
      },
      "execution_count": 98,
      "outputs": [
        {
          "output_type": "execute_result",
          "data": {
            "text/plain": [
              "Alfa Romeo    19\n",
              "Ferrari        9\n",
              "Dodge         23\n",
              "Dodge         10\n",
              "Subaru        17\n",
              "Name: city08, dtype: int64"
            ]
          },
          "metadata": {},
          "execution_count": 98
        }
      ]
    },
    {
      "cell_type": "code",
      "source": [
        "# last n entries\n",
        "city2.tail(n = 5)"
      ],
      "metadata": {
        "colab": {
          "base_uri": "https://localhost:8080/"
        },
        "id": "NCDdd0UYq15f",
        "outputId": "61497609-34df-49e1-bbcb-b52beecbf062"
      },
      "execution_count": 99,
      "outputs": [
        {
          "output_type": "execute_result",
          "data": {
            "text/plain": [
              "Subaru    19\n",
              "Subaru    20\n",
              "Subaru    18\n",
              "Subaru    18\n",
              "Subaru    16\n",
              "Name: city08, dtype: int64"
            ]
          },
          "metadata": {},
          "execution_count": 99
        }
      ]
    },
    {
      "cell_type": "code",
      "source": [
        "# randomly sample n from series\n",
        "city2.sample(n = 6, random_state = 42)"
      ],
      "metadata": {
        "colab": {
          "base_uri": "https://localhost:8080/"
        },
        "id": "3jEHMAh1rRPb",
        "outputId": "6e12faaf-896f-4b16-e5ca-fb9c58e44763"
      },
      "execution_count": 100,
      "outputs": [
        {
          "output_type": "execute_result",
          "data": {
            "text/plain": [
              "Volvo         16\n",
              "Mitsubishi    19\n",
              "Buick         27\n",
              "Jeep          15\n",
              "Land Rover    13\n",
              "Saab          17\n",
              "Name: city08, dtype: int64"
            ]
          },
          "metadata": {},
          "execution_count": 100
        }
      ]
    },
    {
      "cell_type": "code",
      "source": [
        "# filter to Subaru\n",
        "city2[city2.index == 'Subaru']"
      ],
      "metadata": {
        "colab": {
          "base_uri": "https://localhost:8080/"
        },
        "id": "mQGxTCWErVaW",
        "outputId": "b773a150-8dad-43ed-a756-1f06223bed9b"
      },
      "execution_count": 102,
      "outputs": [
        {
          "output_type": "execute_result",
          "data": {
            "text/plain": [
              "Subaru    17\n",
              "Subaru    21\n",
              "Subaru    22\n",
              "Subaru    19\n",
              "Subaru    20\n",
              "          ..\n",
              "Subaru    19\n",
              "Subaru    20\n",
              "Subaru    18\n",
              "Subaru    18\n",
              "Subaru    16\n",
              "Name: city08, Length: 885, dtype: int64"
            ]
          },
          "metadata": {},
          "execution_count": 102
        }
      ]
    },
    {
      "cell_type": "code",
      "source": [
        "# filter to Subaru or Ford\n",
        "city2[(city2.index == 'Subaru') | (city2.index == 'Ford')]"
      ],
      "metadata": {
        "colab": {
          "base_uri": "https://localhost:8080/"
        },
        "id": "xST9OKmvsBcb",
        "outputId": "cb548d8d-2de9-4088-c851-2a58255ca62c"
      },
      "execution_count": 103,
      "outputs": [
        {
          "output_type": "execute_result",
          "data": {
            "text/plain": [
              "Subaru    17\n",
              "Subaru    21\n",
              "Subaru    22\n",
              "Ford      18\n",
              "Ford      16\n",
              "          ..\n",
              "Subaru    19\n",
              "Subaru    20\n",
              "Subaru    18\n",
              "Subaru    18\n",
              "Subaru    16\n",
              "Name: city08, Length: 4256, dtype: int64"
            ]
          },
          "metadata": {},
          "execution_count": 103
        }
      ]
    },
    {
      "cell_type": "code",
      "source": [
        "# s1 and s2 have difference indices\n",
        "s1 = pd.Series(data = [10, 20, 30], index = ['a', 'b', 'c'])\n",
        "s2 = pd.Series(data = [15, 25, 35], index = ['b', 'c', 'd'])\n",
        "print(s2)"
      ],
      "metadata": {
        "colab": {
          "base_uri": "https://localhost:8080/"
        },
        "id": "Q6Sy9RRqsTea",
        "outputId": "63ddb8c2-6023-4c84-b130-9b4adb8cd61c"
      },
      "execution_count": 106,
      "outputs": [
        {
          "output_type": "stream",
          "name": "stdout",
          "text": [
            "b    15\n",
            "c    25\n",
            "d    35\n",
            "dtype: int64\n"
          ]
        }
      ]
    },
    {
      "cell_type": "code",
      "source": [
        "# make s2 have same index as s1\n",
        "s2.reindex(s1.index)\n",
        "  # sort of like a sql join?"
      ],
      "metadata": {
        "colab": {
          "base_uri": "https://localhost:8080/"
        },
        "id": "5Y4KETDNtMva",
        "outputId": "006cbd35-6b4c-4293-ffcb-2c8c762aa7ea"
      },
      "execution_count": 107,
      "outputs": [
        {
          "output_type": "execute_result",
          "data": {
            "text/plain": [
              "a     NaN\n",
              "b    15.0\n",
              "c    25.0\n",
              "dtype: float64"
            ]
          },
          "metadata": {},
          "execution_count": 107
        }
      ]
    },
    {
      "cell_type": "markdown",
      "source": [
        "# Chapter 11: String Manipulation"
      ],
      "metadata": {
        "id": "CEWG9smtui3n"
      }
    },
    {
      "cell_type": "code",
      "source": [
        "print(make)"
      ],
      "metadata": {
        "colab": {
          "base_uri": "https://localhost:8080/"
        },
        "id": "EsCkKvIhukRo",
        "outputId": "4ad94af0-6b65-4dc2-8e39-ed158384a064"
      },
      "execution_count": 108,
      "outputs": [
        {
          "output_type": "stream",
          "name": "stdout",
          "text": [
            "0        Alfa Romeo\n",
            "1           Ferrari\n",
            "2             Dodge\n",
            "3             Dodge\n",
            "4            Subaru\n",
            "            ...    \n",
            "41139        Subaru\n",
            "41140        Subaru\n",
            "41141        Subaru\n",
            "41142        Subaru\n",
            "41143        Subaru\n",
            "Name: make, Length: 41144, dtype: object\n"
          ]
        }
      ]
    },
    {
      "cell_type": "code",
      "source": [
        "# conver to string\n",
        "make_str = make.astype('string')\n",
        "print(make_str)"
      ],
      "metadata": {
        "colab": {
          "base_uri": "https://localhost:8080/"
        },
        "id": "eJCZ6WSduz7-",
        "outputId": "e4434d3a-2f79-4212-dbce-9e26c191282f"
      },
      "execution_count": 109,
      "outputs": [
        {
          "output_type": "stream",
          "name": "stdout",
          "text": [
            "0        Alfa Romeo\n",
            "1           Ferrari\n",
            "2             Dodge\n",
            "3             Dodge\n",
            "4            Subaru\n",
            "            ...    \n",
            "41139        Subaru\n",
            "41140        Subaru\n",
            "41141        Subaru\n",
            "41142        Subaru\n",
            "41143        Subaru\n",
            "Name: make, Length: 41144, dtype: string\n"
          ]
        }
      ]
    },
    {
      "cell_type": "code",
      "source": [
        "# lower case\n",
        "make_str.str.lower()"
      ],
      "metadata": {
        "colab": {
          "base_uri": "https://localhost:8080/"
        },
        "id": "9FopTkV1vhWS",
        "outputId": "ab3dc223-0717-48f3-ceb8-1d4a69061059"
      },
      "execution_count": 110,
      "outputs": [
        {
          "output_type": "execute_result",
          "data": {
            "text/plain": [
              "0        alfa romeo\n",
              "1           ferrari\n",
              "2             dodge\n",
              "3             dodge\n",
              "4            subaru\n",
              "            ...    \n",
              "41139        subaru\n",
              "41140        subaru\n",
              "41141        subaru\n",
              "41142        subaru\n",
              "41143        subaru\n",
              "Name: make, Length: 41144, dtype: string"
            ]
          },
          "metadata": {},
          "execution_count": 110
        }
      ]
    },
    {
      "cell_type": "code",
      "source": [
        "(\n",
        "    make_str\n",
        "      .str.lower()       # convert to lowercase\n",
        "      .str.find('a')     # find index of lowercase a; -1 means not present\n",
        ")"
      ],
      "metadata": {
        "colab": {
          "base_uri": "https://localhost:8080/"
        },
        "id": "1dZWT_Euvk7A",
        "outputId": "22e6d0e0-a191-47b9-e302-832155aeb2ca"
      },
      "execution_count": 119,
      "outputs": [
        {
          "output_type": "execute_result",
          "data": {
            "text/plain": [
              "0         0\n",
              "1         4\n",
              "2        -1\n",
              "3        -1\n",
              "4         3\n",
              "         ..\n",
              "41139     3\n",
              "41140     3\n",
              "41141     3\n",
              "41142     3\n",
              "41143     3\n",
              "Name: make, Length: 41144, dtype: Int64"
            ]
          },
          "metadata": {},
          "execution_count": 119
        }
      ]
    },
    {
      "cell_type": "code",
      "source": [
        "# series called age; age brackets\n",
        "age = pd.Series(\n",
        "    data = ['0-10', '11-15', '11-15', '61-65', '46-50']\n",
        ")\n",
        "\n",
        "print(age)"
      ],
      "metadata": {
        "colab": {
          "base_uri": "https://localhost:8080/"
        },
        "id": "towu8hyhvy2-",
        "outputId": "db4e7133-4d98-49ae-a78d-36c88674234f"
      },
      "execution_count": 120,
      "outputs": [
        {
          "output_type": "stream",
          "name": "stdout",
          "text": [
            "0     0-10\n",
            "1    11-15\n",
            "2    11-15\n",
            "3    61-65\n",
            "4    46-50\n",
            "dtype: object\n"
          ]
        }
      ]
    },
    {
      "cell_type": "code",
      "source": [
        "# split\n",
        "(\n",
        "    age\n",
        "      .astype('str')                      # convert to string\n",
        "      .str.split('-', expand = True)      # split at the dash; by default it's a list; expand = True makes it a dataframe\n",
        "      .iloc[:,0]                          # all rows (:) and first column (0); now it's a series\n",
        ")"
      ],
      "metadata": {
        "colab": {
          "base_uri": "https://localhost:8080/"
        },
        "id": "xDc1xI3Nxu3E",
        "outputId": "bdc038e0-89e2-4ff4-fc52-4eb2fa117b37"
      },
      "execution_count": 127,
      "outputs": [
        {
          "output_type": "execute_result",
          "data": {
            "text/plain": [
              "0     0\n",
              "1    11\n",
              "2    11\n",
              "3    61\n",
              "4    46\n",
              "Name: 0, dtype: object"
            ]
          },
          "metadata": {},
          "execution_count": 127
        }
      ]
    },
    {
      "cell_type": "code",
      "source": [
        "(\n",
        "    age\n",
        "      .astype('str')\n",
        "      .str.slice(-2)   # start at second to last element\n",
        "      .astype('int')   # convert to integer\n",
        ")"
      ],
      "metadata": {
        "colab": {
          "base_uri": "https://localhost:8080/"
        },
        "id": "QM6bwAtixyiP",
        "outputId": "8e781914-14b5-441f-dafc-1492396b0227"
      },
      "execution_count": 132,
      "outputs": [
        {
          "output_type": "execute_result",
          "data": {
            "text/plain": [
              "0    10\n",
              "1    15\n",
              "2    15\n",
              "3    65\n",
              "4    50\n",
              "dtype: int64"
            ]
          },
          "metadata": {},
          "execution_count": 132
        }
      ]
    },
    {
      "cell_type": "code",
      "source": [
        "# above is same as\n",
        "(\n",
        "    age\n",
        "      .astype('str')  # convert to string\n",
        "      .str[-2:]       # from second to last to end\n",
        "      .astype('int')  # convert to int\n",
        ")"
      ],
      "metadata": {
        "colab": {
          "base_uri": "https://localhost:8080/"
        },
        "id": "1YOOka8iy703",
        "outputId": "8b36daab-d118-4e25-8cd1-e1c9ecdc32a8"
      },
      "execution_count": 134,
      "outputs": [
        {
          "output_type": "execute_result",
          "data": {
            "text/plain": [
              "0    10\n",
              "1    15\n",
              "2    15\n",
              "3    65\n",
              "4    50\n",
              "dtype: int64"
            ]
          },
          "metadata": {},
          "execution_count": 134
        }
      ]
    },
    {
      "cell_type": "code",
      "source": [
        "# take average age\n",
        "(\n",
        "    age\n",
        "      .astype('str')                   # conver to string\n",
        "      .str.split('-', expand = True )  # to dataframe; split at dash -\n",
        "      .astype('int')                   # convert to integer\n",
        "      .mean(axis = 'columns')          # take the average across columns\n",
        ")"
      ],
      "metadata": {
        "colab": {
          "base_uri": "https://localhost:8080/"
        },
        "id": "fbs9riG-0OMq",
        "outputId": "06b88488-df13-4d0e-88a7-a32376bd3241"
      },
      "execution_count": 138,
      "outputs": [
        {
          "output_type": "execute_result",
          "data": {
            "text/plain": [
              "0     5.0\n",
              "1    13.0\n",
              "2    13.0\n",
              "3    63.0\n",
              "4    48.0\n",
              "dtype: float64"
            ]
          },
          "metadata": {},
          "execution_count": 138
        }
      ]
    },
    {
      "cell_type": "code",
      "source": [
        "# section on replacing text; skipped this"
      ],
      "metadata": {
        "id": "Go8Wy_ox0TrJ"
      },
      "execution_count": null,
      "outputs": []
    },
    {
      "cell_type": "markdown",
      "source": [
        "# Chapter 12: Date and Time Manipulation"
      ],
      "metadata": {
        "id": "MCFRyrlP18mN"
      }
    },
    {
      "cell_type": "code",
      "source": [],
      "metadata": {
        "id": "a_Rj8_jH19-t"
      },
      "execution_count": null,
      "outputs": []
    }
  ]
}