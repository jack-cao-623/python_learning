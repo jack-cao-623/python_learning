{
  "nbformat": 4,
  "nbformat_minor": 0,
  "metadata": {
    "colab": {
      "provenance": [],
      "authorship_tag": "ABX9TyPUy8gtt8ekhsdRTLWkEmR9",
      "include_colab_link": true
    },
    "kernelspec": {
      "name": "python3",
      "display_name": "Python 3"
    },
    "language_info": {
      "name": "python"
    }
  },
  "cells": [
    {
      "cell_type": "markdown",
      "metadata": {
        "id": "view-in-github",
        "colab_type": "text"
      },
      "source": [
        "<a href=\"https://colab.research.google.com/github/jack-cao-623/python_learning/blob/main/effective_pandas_ch_05_thru_ch_XX.ipynb\" target=\"_parent\"><img src=\"https://colab.research.google.com/assets/colab-badge.svg\" alt=\"Open In Colab\"/></a>"
      ]
    },
    {
      "cell_type": "markdown",
      "source": [
        "# Chapter 5: Series Deep Dive"
      ],
      "metadata": {
        "id": "E7EjoiH_LaBi"
      }
    },
    {
      "cell_type": "code",
      "execution_count": 62,
      "metadata": {
        "id": "pk-Cua5hLS6F"
      },
      "outputs": [],
      "source": [
        "# libraries needed\n",
        "import numpy as np\n",
        "import pandas as pd"
      ]
    },
    {
      "cell_type": "code",
      "source": [
        "# load data\n",
        "url = 'https://github.com/mattharrison/datasets/raw/master/data/vehicles.csv.zip'\n",
        "df = pd.read_csv(url)"
      ],
      "metadata": {
        "colab": {
          "base_uri": "https://localhost:8080/"
        },
        "id": "ndYSI0QELi3o",
        "outputId": "ef485b68-480e-4a29-c9ac-f63e2b51f1d9"
      },
      "execution_count": 63,
      "outputs": [
        {
          "output_type": "stream",
          "name": "stderr",
          "text": [
            "/usr/local/lib/python3.7/dist-packages/IPython/core/interactiveshell.py:3326: DtypeWarning: Columns (68,70,71,72,73,74,76,79) have mixed types.Specify dtype option on import or set low_memory=False.\n",
            "  exec(code_obj, self.user_global_ns, self.user_ns)\n"
          ]
        }
      ]
    },
    {
      "cell_type": "code",
      "source": [
        "# one column as a series; city vs.highway\n",
        "city_mpg = df.city08\n",
        "highway_mpg = df.highway08\n",
        "print(city_mpg)\n",
        "print('\\n')\n",
        "print(highway_mpg)"
      ],
      "metadata": {
        "colab": {
          "base_uri": "https://localhost:8080/"
        },
        "id": "Qm4og8fDLspH",
        "outputId": "22123a5a-b9bd-4aab-fbbe-61a19bc4dcc1"
      },
      "execution_count": null,
      "outputs": [
        {
          "output_type": "stream",
          "name": "stdout",
          "text": [
            "0        19\n",
            "1         9\n",
            "2        23\n",
            "3        10\n",
            "4        17\n",
            "         ..\n",
            "41139    19\n",
            "41140    20\n",
            "41141    18\n",
            "41142    18\n",
            "41143    16\n",
            "Name: city08, Length: 41144, dtype: int64\n",
            "\n",
            "\n",
            "0        25\n",
            "1        14\n",
            "2        33\n",
            "3        12\n",
            "4        23\n",
            "         ..\n",
            "41139    26\n",
            "41140    28\n",
            "41141    24\n",
            "41142    24\n",
            "41143    21\n",
            "Name: highway08, Length: 41144, dtype: int64\n"
          ]
        }
      ]
    },
    {
      "cell_type": "code",
      "source": [
        "# basic info about city_mpg series\n",
        "print(city_mpg.count())\n",
        "print(city_mpg.size)\n",
        "print(len(city_mpg))\n",
        "\n",
        "print('\\n')\n",
        "\n",
        "# basic info about highway_mpg series\n",
        "print(highway_mpg.count())\n",
        "print(highway_mpg.size)\n",
        "print(len(highway_mpg))"
      ],
      "metadata": {
        "colab": {
          "base_uri": "https://localhost:8080/"
        },
        "id": "J48f3F8sMB_q",
        "outputId": "2ca8d4d4-4474-4ca1-9585-aead5a61fe51"
      },
      "execution_count": null,
      "outputs": [
        {
          "output_type": "stream",
          "name": "stdout",
          "text": [
            "41144\n",
            "41144\n",
            "41144\n",
            "\n",
            "\n",
            "41144\n",
            "41144\n",
            "41144\n"
          ]
        }
      ]
    },
    {
      "cell_type": "code",
      "source": [
        "# number of properties and methods for each series:\n",
        "print(len(dir(city_mpg)))\n",
        "print(len(dir(highway_mpg)))"
      ],
      "metadata": {
        "colab": {
          "base_uri": "https://localhost:8080/"
        },
        "id": "UAekylPEMLeT",
        "outputId": "0a169e85-46da-4c39-addd-641a9853b289"
      },
      "execution_count": null,
      "outputs": [
        {
          "output_type": "stream",
          "name": "stdout",
          "text": [
            "419\n",
            "419\n"
          ]
        }
      ]
    },
    {
      "cell_type": "markdown",
      "source": [
        "# Chapter 6: Operators (& Dunder Methods)"
      ],
      "metadata": {
        "id": "vT95zruGNujZ"
      }
    },
    {
      "cell_type": "code",
      "source": [
        "# find average of city and highway mpg\n",
        "print((city_mpg + highway_mpg) / 2)"
      ],
      "metadata": {
        "colab": {
          "base_uri": "https://localhost:8080/"
        },
        "id": "rI8O6TcwN0Hp",
        "outputId": "7a27e616-eaff-4253-8d70-f11a8293deb0"
      },
      "execution_count": null,
      "outputs": [
        {
          "output_type": "stream",
          "name": "stdout",
          "text": [
            "0        22.0\n",
            "1        11.5\n",
            "2        28.0\n",
            "3        11.0\n",
            "4        20.0\n",
            "         ... \n",
            "41139    22.5\n",
            "41140    24.0\n",
            "41141    21.0\n",
            "41142    21.0\n",
            "41143    18.5\n",
            "Length: 41144, dtype: float64\n"
          ]
        }
      ]
    },
    {
      "cell_type": "code",
      "source": [
        "# be careful about math operations with series when indices aren't aligned, i.e., unique and common across series\n",
        "s1 = pd.Series(\n",
        "    data = [10, 20, 30], \n",
        "    index = [1, 2, 2]\n",
        ")\n",
        "\n",
        "s2 = pd.Series(\n",
        "    data = [35, 44, 53],\n",
        "    index = [2, 2, 4]\n",
        ")\n",
        "\n",
        "print(s1 + s2)"
      ],
      "metadata": {
        "colab": {
          "base_uri": "https://localhost:8080/"
        },
        "id": "0Cvy1OhvODTh",
        "outputId": "b8ae4660-13d2-4e3c-e1a4-e4ee372f80d8"
      },
      "execution_count": null,
      "outputs": [
        {
          "output_type": "stream",
          "name": "stdout",
          "text": [
            "1     NaN\n",
            "2    55.0\n",
            "2    64.0\n",
            "2    65.0\n",
            "2    74.0\n",
            "4     NaN\n",
            "dtype: float64\n"
          ]
        }
      ]
    },
    {
      "cell_type": "code",
      "source": [
        "# two ways to add\n",
        "print(s1 + s2)\n",
        "\n",
        "print('\\n')\n",
        "\n",
        "print(s1.add(s2))"
      ],
      "metadata": {
        "colab": {
          "base_uri": "https://localhost:8080/"
        },
        "id": "Sbb9cEiUO-Tn",
        "outputId": "708f963a-32d0-4eae-9189-99adb9f62206"
      },
      "execution_count": null,
      "outputs": [
        {
          "output_type": "stream",
          "name": "stdout",
          "text": [
            "1     NaN\n",
            "2    55.0\n",
            "2    64.0\n",
            "2    65.0\n",
            "2    74.0\n",
            "4     NaN\n",
            "dtype: float64\n",
            "\n",
            "\n",
            "1     NaN\n",
            "2    55.0\n",
            "2    64.0\n",
            "2    65.0\n",
            "2    74.0\n",
            "4     NaN\n",
            "dtype: float64\n"
          ]
        }
      ]
    },
    {
      "cell_type": "code",
      "source": [
        "# benefits of .add() methods\n",
        "print(s1.add(s2, fill_value = 0))"
      ],
      "metadata": {
        "colab": {
          "base_uri": "https://localhost:8080/"
        },
        "id": "AsNMIllsPser",
        "outputId": "3421acc8-f201-47e8-ac99-81bd119b6627"
      },
      "execution_count": null,
      "outputs": [
        {
          "output_type": "stream",
          "name": "stdout",
          "text": [
            "1    10.0\n",
            "2    55.0\n",
            "2    64.0\n",
            "2    65.0\n",
            "2    74.0\n",
            "4    53.0\n",
            "dtype: float64\n"
          ]
        }
      ]
    },
    {
      "cell_type": "code",
      "source": [
        "# benefits of methods: can chain together to make more readable\n",
        "print(\n",
        "    city_mpg\n",
        "      .add(highway_mpg)\n",
        "      .div(2)\n",
        ")"
      ],
      "metadata": {
        "colab": {
          "base_uri": "https://localhost:8080/"
        },
        "id": "a93_HOcGPxeq",
        "outputId": "9a37bd99-c079-440b-cfc4-c4ed124a5e1e"
      },
      "execution_count": null,
      "outputs": [
        {
          "output_type": "stream",
          "name": "stdout",
          "text": [
            "0        22.0\n",
            "1        11.5\n",
            "2        28.0\n",
            "3        11.0\n",
            "4        20.0\n",
            "         ... \n",
            "41139    22.5\n",
            "41140    24.0\n",
            "41141    21.0\n",
            "41142    21.0\n",
            "41143    18.5\n",
            "Length: 41144, dtype: float64\n"
          ]
        }
      ]
    },
    {
      "cell_type": "markdown",
      "source": [
        "**see p. 41 for list of methods**"
      ],
      "metadata": {
        "id": "v1sOcglCQdpQ"
      }
    },
    {
      "cell_type": "markdown",
      "source": [
        "# Chapter 7: Aggregate Methods"
      ],
      "metadata": {
        "id": "xu9W0KnKShmC"
      }
    },
    {
      "cell_type": "code",
      "source": [
        "# average of city and highway mpg\n",
        "print('city_mpg average: ', city_mpg.mean())\n",
        "print('highway_mpg average: ', highway_mpg.mean())"
      ],
      "metadata": {
        "colab": {
          "base_uri": "https://localhost:8080/"
        },
        "id": "VbeaMQA0Si_6",
        "outputId": "2f5d28d1-85e3-4c88-9e8a-7d0204136b9b"
      },
      "execution_count": null,
      "outputs": [
        {
          "output_type": "stream",
          "name": "stdout",
          "text": [
            "city_mpg average:  18.369045304297103\n",
            "highway_mpg average:  24.504666537040638\n"
          ]
        }
      ]
    },
    {
      "cell_type": "code",
      "source": [
        "# check if values are unique\n",
        "print(city_mpg.is_unique)\n",
        "\n",
        "print(pd.Series(data = [0, 1, 2, 3]).is_unique)"
      ],
      "metadata": {
        "colab": {
          "base_uri": "https://localhost:8080/"
        },
        "id": "9lmhmgIMTTAe",
        "outputId": "32b417c8-eb9f-4ea8-c80b-40db33489a44"
      },
      "execution_count": null,
      "outputs": [
        {
          "output_type": "stream",
          "name": "stdout",
          "text": [
            "False\n",
            "True\n"
          ]
        }
      ]
    },
    {
      "cell_type": "code",
      "source": [
        "# check if values are monotonically increasing\n",
        "print(pd.Series(data = [0, 1, 2, 2]).is_monotonic_increasing)"
      ],
      "metadata": {
        "colab": {
          "base_uri": "https://localhost:8080/"
        },
        "id": "OVnM3YSET8FT",
        "outputId": "bef4acc2-2183-4c66-ff96-ac4d96ea0961"
      },
      "execution_count": null,
      "outputs": [
        {
          "output_type": "stream",
          "name": "stdout",
          "text": [
            "True\n"
          ]
        }
      ]
    },
    {
      "cell_type": "code",
      "source": [
        "# find various quantiles\n",
        "print('city_mpg median: ', city_mpg.median())\n",
        "print('city_mpg 50th percentile: ', city_mpg.quantile(0.50))\n",
        "print('city_mpg 10th percentile: ', city_mpg.quantile(0.10))\n",
        "\n",
        "print('\\n')\n",
        "print('city_mpg various quantiles: ')\n",
        "print(city_mpg.quantile([0.10, 0.50, 0.90]))"
      ],
      "metadata": {
        "colab": {
          "base_uri": "https://localhost:8080/"
        },
        "id": "HzgLz1mcX6oc",
        "outputId": "dc35f58d-55ba-4f85-a73e-0ced87e85e46"
      },
      "execution_count": null,
      "outputs": [
        {
          "output_type": "stream",
          "name": "stdout",
          "text": [
            "city_mpg median:  17.0\n",
            "city_mpg 50th percentile:  17.0\n",
            "city_mpg 10th percentile:  13.0\n",
            "\n",
            "\n",
            "city_mpg various quantiles: \n",
            "0.1    13.0\n",
            "0.5    17.0\n",
            "0.9    24.0\n",
            "Name: city08, dtype: float64\n"
          ]
        }
      ]
    },
    {
      "cell_type": "code",
      "source": [
        "# count of number of mpg's that are greater than 20\n",
        "print(\n",
        "    (\n",
        "        city_mpg\n",
        "          .gt(20)   # boolean vector at this stage\n",
        "          .sum()    # sum up booleans; get count\n",
        "    )\n",
        ")\n",
        "\n",
        "# equivalent to:\n",
        "print('\\n')\n",
        "(\n",
        "    city_mpg[city_mpg > 20].count()\n",
        ")"
      ],
      "metadata": {
        "colab": {
          "base_uri": "https://localhost:8080/"
        },
        "id": "yPu3o2jgYaK8",
        "outputId": "ceba5fec-7e25-413a-e69a-eb5f7da737a9"
      },
      "execution_count": null,
      "outputs": [
        {
          "output_type": "stream",
          "name": "stdout",
          "text": [
            "10272\n",
            "\n",
            "\n"
          ]
        },
        {
          "output_type": "execute_result",
          "data": {
            "text/plain": [
              "10272"
            ]
          },
          "metadata": {},
          "execution_count": 48
        }
      ]
    },
    {
      "cell_type": "code",
      "source": [
        "# percent of cars (assuming 1 city_mpg per car)\n",
        "(\n",
        "    city_mpg\n",
        "      .gt(20)  # boolean TRUE and FALSE\n",
        "      .mean()  # take mean to get proportion of TRUE\n",
        ") * 100"
      ],
      "metadata": {
        "colab": {
          "base_uri": "https://localhost:8080/"
        },
        "id": "C5xnJhpJZU-A",
        "outputId": "bd404715-7ed8-4813-eabe-deaca4597ad6"
      },
      "execution_count": null,
      "outputs": [
        {
          "output_type": "execute_result",
          "data": {
            "text/plain": [
              "24.965973167412017"
            ]
          },
          "metadata": {},
          "execution_count": 57
        }
      ]
    },
    {
      "cell_type": "code",
      "source": [
        "# cell direciton above is equivalent to\n",
        "len(city_mpg[city_mpg > 20]) / len(city_mpg)"
      ],
      "metadata": {
        "colab": {
          "base_uri": "https://localhost:8080/"
        },
        "id": "F5ggYos3aoUr",
        "outputId": "15fb82c0-517b-4f29-dbbf-db6038382fd7"
      },
      "execution_count": null,
      "outputs": [
        {
          "output_type": "execute_result",
          "data": {
            "text/plain": [
              "0.24965973167412017"
            ]
          },
          "metadata": {},
          "execution_count": 60
        }
      ]
    },
    {
      "cell_type": "code",
      "source": [
        "# more generic way to aggregate a Series\n",
        "city_mpg.agg(['mean', np.var, np.max])"
      ],
      "metadata": {
        "colab": {
          "base_uri": "https://localhost:8080/"
        },
        "id": "WhprBjV4bFXW",
        "outputId": "452303f9-541a-42b6-a1a4-855fcdc6604d"
      },
      "execution_count": null,
      "outputs": [
        {
          "output_type": "execute_result",
          "data": {
            "text/plain": [
              "mean     18.369045\n",
              "var      62.503036\n",
              "amax    150.000000\n",
              "Name: city08, dtype: float64"
            ]
          },
          "metadata": {},
          "execution_count": 61
        }
      ]
    },
    {
      "cell_type": "code",
      "source": [],
      "metadata": {
        "id": "mBUDMhd-b_7o"
      },
      "execution_count": null,
      "outputs": []
    }
  ]
}