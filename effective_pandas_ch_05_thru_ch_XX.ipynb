{
  "nbformat": 4,
  "nbformat_minor": 0,
  "metadata": {
    "colab": {
      "provenance": [],
      "authorship_tag": "ABX9TyNld/fQ5dBXlp9MEQsa8M6X",
      "include_colab_link": true
    },
    "kernelspec": {
      "name": "python3",
      "display_name": "Python 3"
    },
    "language_info": {
      "name": "python"
    }
  },
  "cells": [
    {
      "cell_type": "markdown",
      "metadata": {
        "id": "view-in-github",
        "colab_type": "text"
      },
      "source": [
        "<a href=\"https://colab.research.google.com/github/jack-cao-623/python_learning/blob/main/effective_pandas_ch_05_thru_ch_XX.ipynb\" target=\"_parent\"><img src=\"https://colab.research.google.com/assets/colab-badge.svg\" alt=\"Open In Colab\"/></a>"
      ]
    },
    {
      "cell_type": "markdown",
      "source": [
        "# Chapter 5: Series Deep Dive"
      ],
      "metadata": {
        "id": "E7EjoiH_LaBi"
      }
    },
    {
      "cell_type": "code",
      "execution_count": 2,
      "metadata": {
        "id": "pk-Cua5hLS6F"
      },
      "outputs": [],
      "source": [
        "# libraries needed\n",
        "import numpy as np\n",
        "import pandas as pd"
      ]
    },
    {
      "cell_type": "code",
      "source": [
        "# load data\n",
        "url = 'https://github.com/mattharrison/datasets/raw/master/data/vehicles.csv.zip'\n",
        "df = pd.read_csv(url)"
      ],
      "metadata": {
        "colab": {
          "base_uri": "https://localhost:8080/"
        },
        "id": "ndYSI0QELi3o",
        "outputId": "4d06e47b-2e34-43a9-99e6-0ea55dd628c2"
      },
      "execution_count": 3,
      "outputs": [
        {
          "output_type": "stream",
          "name": "stderr",
          "text": [
            "/usr/local/lib/python3.7/dist-packages/IPython/core/interactiveshell.py:3326: DtypeWarning: Columns (68,70,71,72,73,74,76,79) have mixed types.Specify dtype option on import or set low_memory=False.\n",
            "  exec(code_obj, self.user_global_ns, self.user_ns)\n"
          ]
        }
      ]
    },
    {
      "cell_type": "code",
      "source": [
        "# one column as a series; city vs.highway\n",
        "city_mpg = df.city08\n",
        "highway_mpg = df.highway08\n",
        "print(city_mpg)\n",
        "print('\\n')\n",
        "print(highway_mpg)"
      ],
      "metadata": {
        "colab": {
          "base_uri": "https://localhost:8080/"
        },
        "id": "Qm4og8fDLspH",
        "outputId": "7d4c2e6d-1a00-4a71-a52b-3098bc2f0cb2"
      },
      "execution_count": 4,
      "outputs": [
        {
          "output_type": "stream",
          "name": "stdout",
          "text": [
            "0        19\n",
            "1         9\n",
            "2        23\n",
            "3        10\n",
            "4        17\n",
            "         ..\n",
            "41139    19\n",
            "41140    20\n",
            "41141    18\n",
            "41142    18\n",
            "41143    16\n",
            "Name: city08, Length: 41144, dtype: int64\n",
            "\n",
            "\n",
            "0        25\n",
            "1        14\n",
            "2        33\n",
            "3        12\n",
            "4        23\n",
            "         ..\n",
            "41139    26\n",
            "41140    28\n",
            "41141    24\n",
            "41142    24\n",
            "41143    21\n",
            "Name: highway08, Length: 41144, dtype: int64\n"
          ]
        }
      ]
    },
    {
      "cell_type": "code",
      "source": [
        "# basic info about city_mpg series\n",
        "print(city_mpg.count())\n",
        "print(city_mpg.size)\n",
        "print(len(city_mpg))\n",
        "\n",
        "print('\\n')\n",
        "\n",
        "# basic info about highway_mpg series\n",
        "print(highway_mpg.count())\n",
        "print(highway_mpg.size)\n",
        "print(len(highway_mpg))"
      ],
      "metadata": {
        "colab": {
          "base_uri": "https://localhost:8080/"
        },
        "id": "J48f3F8sMB_q",
        "outputId": "8c09582d-5eef-47a9-dcba-6eeda423cc7a"
      },
      "execution_count": 5,
      "outputs": [
        {
          "output_type": "stream",
          "name": "stdout",
          "text": [
            "41144\n",
            "41144\n",
            "41144\n",
            "\n",
            "\n",
            "41144\n",
            "41144\n",
            "41144\n"
          ]
        }
      ]
    },
    {
      "cell_type": "code",
      "source": [
        "# number of properties and methods for each series:\n",
        "print(len(dir(city_mpg)))\n",
        "print(len(dir(highway_mpg)))"
      ],
      "metadata": {
        "colab": {
          "base_uri": "https://localhost:8080/"
        },
        "id": "UAekylPEMLeT",
        "outputId": "3ecafa58-9c69-4eda-db1c-15ae0e687650"
      },
      "execution_count": 6,
      "outputs": [
        {
          "output_type": "stream",
          "name": "stdout",
          "text": [
            "419\n",
            "419\n"
          ]
        }
      ]
    },
    {
      "cell_type": "markdown",
      "source": [
        "# Chapter 6: Operators (& Dunder Methods)"
      ],
      "metadata": {
        "id": "vT95zruGNujZ"
      }
    },
    {
      "cell_type": "code",
      "source": [
        "# find average of city and highway mpg\n",
        "print((city_mpg + highway_mpg) / 2)"
      ],
      "metadata": {
        "colab": {
          "base_uri": "https://localhost:8080/"
        },
        "id": "rI8O6TcwN0Hp",
        "outputId": "8776542e-dc97-4c3f-a874-ed0d582c3870"
      },
      "execution_count": 7,
      "outputs": [
        {
          "output_type": "stream",
          "name": "stdout",
          "text": [
            "0        22.0\n",
            "1        11.5\n",
            "2        28.0\n",
            "3        11.0\n",
            "4        20.0\n",
            "         ... \n",
            "41139    22.5\n",
            "41140    24.0\n",
            "41141    21.0\n",
            "41142    21.0\n",
            "41143    18.5\n",
            "Length: 41144, dtype: float64\n"
          ]
        }
      ]
    },
    {
      "cell_type": "code",
      "source": [
        "# be careful about math operations with series when indices aren't aligned, i.e., unique and common across series\n",
        "s1 = pd.Series(\n",
        "    data = [10, 20, 30], \n",
        "    index = [1, 2, 2]\n",
        ")\n",
        "\n",
        "s2 = pd.Series(\n",
        "    data = [35, 44, 53],\n",
        "    index = [2, 2, 4]\n",
        ")\n",
        "\n",
        "print(s1 + s2)"
      ],
      "metadata": {
        "colab": {
          "base_uri": "https://localhost:8080/"
        },
        "id": "0Cvy1OhvODTh",
        "outputId": "d98a8e05-6636-4e8d-ba57-f23822331985"
      },
      "execution_count": 8,
      "outputs": [
        {
          "output_type": "stream",
          "name": "stdout",
          "text": [
            "1     NaN\n",
            "2    55.0\n",
            "2    64.0\n",
            "2    65.0\n",
            "2    74.0\n",
            "4     NaN\n",
            "dtype: float64\n"
          ]
        }
      ]
    },
    {
      "cell_type": "code",
      "source": [
        "# two ways to add\n",
        "print(s1 + s2)\n",
        "\n",
        "print('\\n')\n",
        "\n",
        "print(s1.add(s2))"
      ],
      "metadata": {
        "colab": {
          "base_uri": "https://localhost:8080/"
        },
        "id": "Sbb9cEiUO-Tn",
        "outputId": "814ad261-ec6b-4a7c-ffec-f62b3b808c32"
      },
      "execution_count": 9,
      "outputs": [
        {
          "output_type": "stream",
          "name": "stdout",
          "text": [
            "1     NaN\n",
            "2    55.0\n",
            "2    64.0\n",
            "2    65.0\n",
            "2    74.0\n",
            "4     NaN\n",
            "dtype: float64\n",
            "\n",
            "\n",
            "1     NaN\n",
            "2    55.0\n",
            "2    64.0\n",
            "2    65.0\n",
            "2    74.0\n",
            "4     NaN\n",
            "dtype: float64\n"
          ]
        }
      ]
    },
    {
      "cell_type": "code",
      "source": [
        "# benefits of .add() methods\n",
        "print(s1.add(s2, fill_value = 0))"
      ],
      "metadata": {
        "colab": {
          "base_uri": "https://localhost:8080/"
        },
        "id": "AsNMIllsPser",
        "outputId": "59a7611f-c498-4dce-8346-709969f34410"
      },
      "execution_count": 10,
      "outputs": [
        {
          "output_type": "stream",
          "name": "stdout",
          "text": [
            "1    10.0\n",
            "2    55.0\n",
            "2    64.0\n",
            "2    65.0\n",
            "2    74.0\n",
            "4    53.0\n",
            "dtype: float64\n"
          ]
        }
      ]
    },
    {
      "cell_type": "code",
      "source": [
        "# benefits of methods: can chain together to make more readable\n",
        "print(\n",
        "    city_mpg\n",
        "      .add(highway_mpg)\n",
        "      .div(2)\n",
        ")"
      ],
      "metadata": {
        "colab": {
          "base_uri": "https://localhost:8080/"
        },
        "id": "a93_HOcGPxeq",
        "outputId": "92efedd5-7293-4664-bc00-4705adc4ebdf"
      },
      "execution_count": 11,
      "outputs": [
        {
          "output_type": "stream",
          "name": "stdout",
          "text": [
            "0        22.0\n",
            "1        11.5\n",
            "2        28.0\n",
            "3        11.0\n",
            "4        20.0\n",
            "         ... \n",
            "41139    22.5\n",
            "41140    24.0\n",
            "41141    21.0\n",
            "41142    21.0\n",
            "41143    18.5\n",
            "Length: 41144, dtype: float64\n"
          ]
        }
      ]
    },
    {
      "cell_type": "markdown",
      "source": [
        "**see p. 41 for list of methods**"
      ],
      "metadata": {
        "id": "v1sOcglCQdpQ"
      }
    },
    {
      "cell_type": "markdown",
      "source": [
        "# Chapter 7: Aggregate Methods"
      ],
      "metadata": {
        "id": "xu9W0KnKShmC"
      }
    },
    {
      "cell_type": "code",
      "source": [
        "# average of city and highway mpg\n",
        "print('city_mpg average: ', city_mpg.mean())\n",
        "print('highway_mpg average: ', highway_mpg.mean())"
      ],
      "metadata": {
        "colab": {
          "base_uri": "https://localhost:8080/"
        },
        "id": "VbeaMQA0Si_6",
        "outputId": "20dc4c61-92cb-4476-ad30-89731c4cc2b7"
      },
      "execution_count": 12,
      "outputs": [
        {
          "output_type": "stream",
          "name": "stdout",
          "text": [
            "city_mpg average:  18.369045304297103\n",
            "highway_mpg average:  24.504666537040638\n"
          ]
        }
      ]
    },
    {
      "cell_type": "code",
      "source": [
        "# check if values are unique\n",
        "print(city_mpg.is_unique)\n",
        "\n",
        "print(pd.Series(data = [0, 1, 2, 3]).is_unique)"
      ],
      "metadata": {
        "colab": {
          "base_uri": "https://localhost:8080/"
        },
        "id": "9lmhmgIMTTAe",
        "outputId": "3c2bf2a6-f6dd-41c1-862e-e6f78dca1cad"
      },
      "execution_count": 13,
      "outputs": [
        {
          "output_type": "stream",
          "name": "stdout",
          "text": [
            "False\n",
            "True\n"
          ]
        }
      ]
    },
    {
      "cell_type": "code",
      "source": [
        "# check if values are monotonically increasing\n",
        "print(pd.Series(data = [0, 1, 2, 2]).is_monotonic_increasing)"
      ],
      "metadata": {
        "colab": {
          "base_uri": "https://localhost:8080/"
        },
        "id": "OVnM3YSET8FT",
        "outputId": "10d4a6e9-0551-4b30-9797-7c432dcea7a8"
      },
      "execution_count": 14,
      "outputs": [
        {
          "output_type": "stream",
          "name": "stdout",
          "text": [
            "True\n"
          ]
        }
      ]
    },
    {
      "cell_type": "code",
      "source": [
        "# find various quantiles\n",
        "print('city_mpg median: ', city_mpg.median())\n",
        "print('city_mpg 50th percentile: ', city_mpg.quantile(0.50))\n",
        "print('city_mpg 10th percentile: ', city_mpg.quantile(0.10))\n",
        "\n",
        "print('\\n')\n",
        "print('city_mpg various quantiles: ')\n",
        "print(city_mpg.quantile([0.10, 0.50, 0.90]))"
      ],
      "metadata": {
        "colab": {
          "base_uri": "https://localhost:8080/"
        },
        "id": "HzgLz1mcX6oc",
        "outputId": "56468f15-0c65-414e-f0c3-8e28ea3f94cb"
      },
      "execution_count": 15,
      "outputs": [
        {
          "output_type": "stream",
          "name": "stdout",
          "text": [
            "city_mpg median:  17.0\n",
            "city_mpg 50th percentile:  17.0\n",
            "city_mpg 10th percentile:  13.0\n",
            "\n",
            "\n",
            "city_mpg various quantiles: \n",
            "0.1    13.0\n",
            "0.5    17.0\n",
            "0.9    24.0\n",
            "Name: city08, dtype: float64\n"
          ]
        }
      ]
    },
    {
      "cell_type": "code",
      "source": [
        "# count of number of mpg's that are greater than 20\n",
        "print(\n",
        "    (\n",
        "        city_mpg\n",
        "          .gt(20)   # boolean vector at this stage\n",
        "          .sum()    # sum up booleans; get count\n",
        "    )\n",
        ")\n",
        "\n",
        "# equivalent to:\n",
        "print('\\n')\n",
        "(\n",
        "    city_mpg[city_mpg > 20].count()\n",
        ")"
      ],
      "metadata": {
        "colab": {
          "base_uri": "https://localhost:8080/"
        },
        "id": "yPu3o2jgYaK8",
        "outputId": "6cf7cf41-2dc3-4825-9b48-28a3e76a1775"
      },
      "execution_count": 16,
      "outputs": [
        {
          "output_type": "stream",
          "name": "stdout",
          "text": [
            "10272\n",
            "\n",
            "\n"
          ]
        },
        {
          "output_type": "execute_result",
          "data": {
            "text/plain": [
              "10272"
            ]
          },
          "metadata": {},
          "execution_count": 16
        }
      ]
    },
    {
      "cell_type": "code",
      "source": [
        "# percent of cars (assuming 1 city_mpg per car)\n",
        "(\n",
        "    city_mpg\n",
        "      .gt(20)  # boolean TRUE and FALSE\n",
        "      .mean()  # take mean to get proportion of TRUE\n",
        ") * 100"
      ],
      "metadata": {
        "colab": {
          "base_uri": "https://localhost:8080/"
        },
        "id": "C5xnJhpJZU-A",
        "outputId": "edfa232b-e34a-4411-c01e-d2b37576ca6a"
      },
      "execution_count": 17,
      "outputs": [
        {
          "output_type": "execute_result",
          "data": {
            "text/plain": [
              "24.965973167412017"
            ]
          },
          "metadata": {},
          "execution_count": 17
        }
      ]
    },
    {
      "cell_type": "code",
      "source": [
        "# cell direciton above is equivalent to\n",
        "len(city_mpg[city_mpg > 20]) / len(city_mpg)"
      ],
      "metadata": {
        "colab": {
          "base_uri": "https://localhost:8080/"
        },
        "id": "F5ggYos3aoUr",
        "outputId": "b397f62c-b5ca-4280-a861-719c3ae857fc"
      },
      "execution_count": 18,
      "outputs": [
        {
          "output_type": "execute_result",
          "data": {
            "text/plain": [
              "0.24965973167412017"
            ]
          },
          "metadata": {},
          "execution_count": 18
        }
      ]
    },
    {
      "cell_type": "code",
      "source": [
        "# more generic way to aggregate a Series\n",
        "city_mpg.agg(['mean', np.var, np.max])"
      ],
      "metadata": {
        "colab": {
          "base_uri": "https://localhost:8080/"
        },
        "id": "WhprBjV4bFXW",
        "outputId": "37ff5d31-6b9d-44b6-ec98-fe160e33c883"
      },
      "execution_count": 19,
      "outputs": [
        {
          "output_type": "execute_result",
          "data": {
            "text/plain": [
              "mean     18.369045\n",
              "var      62.503036\n",
              "amax    150.000000\n",
              "Name: city08, dtype: float64"
            ]
          },
          "metadata": {},
          "execution_count": 19
        }
      ]
    },
    {
      "cell_type": "markdown",
      "source": [
        "# Chapter 8: Conversion Methods"
      ],
      "metadata": {
        "id": "FUUnWV4PSlqW"
      }
    },
    {
      "cell_type": "code",
      "source": [
        "# view series\n",
        "city_mpg"
      ],
      "metadata": {
        "id": "mBUDMhd-b_7o",
        "colab": {
          "base_uri": "https://localhost:8080/"
        },
        "outputId": "34e9c92c-7d34-4414-cc38-16f3a00f9869"
      },
      "execution_count": 20,
      "outputs": [
        {
          "output_type": "execute_result",
          "data": {
            "text/plain": [
              "0        19\n",
              "1         9\n",
              "2        23\n",
              "3        10\n",
              "4        17\n",
              "         ..\n",
              "41139    19\n",
              "41140    20\n",
              "41141    18\n",
              "41142    18\n",
              "41143    16\n",
              "Name: city08, Length: 41144, dtype: int64"
            ]
          },
          "metadata": {},
          "execution_count": 20
        }
      ]
    },
    {
      "cell_type": "code",
      "source": [
        "# not sure what this does...\n",
        "city_mpg.convert_dtypes()"
      ],
      "metadata": {
        "colab": {
          "base_uri": "https://localhost:8080/"
        },
        "id": "FPC7nRBPSqv4",
        "outputId": "1b5d27eb-6953-4aba-fc6e-090c0af083ad"
      },
      "execution_count": 21,
      "outputs": [
        {
          "output_type": "execute_result",
          "data": {
            "text/plain": [
              "0        19\n",
              "1         9\n",
              "2        23\n",
              "3        10\n",
              "4        17\n",
              "         ..\n",
              "41139    19\n",
              "41140    20\n",
              "41141    18\n",
              "41142    18\n",
              "41143    16\n",
              "Name: city08, Length: 41144, dtype: Int64"
            ]
          },
          "metadata": {},
          "execution_count": 21
        }
      ]
    },
    {
      "cell_type": "code",
      "source": [
        "type(city_mpg)"
      ],
      "metadata": {
        "colab": {
          "base_uri": "https://localhost:8080/"
        },
        "id": "o3A3HhPGStne",
        "outputId": "2efae0b2-0fbd-483d-b041-36b2f4a95cb3"
      },
      "execution_count": 22,
      "outputs": [
        {
          "output_type": "execute_result",
          "data": {
            "text/plain": [
              "pandas.core.series.Series"
            ]
          },
          "metadata": {},
          "execution_count": 22
        }
      ]
    },
    {
      "cell_type": "code",
      "source": [
        "# view limits on integers\n",
        "print(np.iinfo('int64'))\n",
        "print(np.iinfo('int32'))\n",
        "print(np.iinfo('int16'))\n",
        "print(np.iinfo('int8'))"
      ],
      "metadata": {
        "colab": {
          "base_uri": "https://localhost:8080/"
        },
        "id": "e6ZfmBYHSz9k",
        "outputId": "f2a5644c-636a-4626-a507-c38c0e6b1088"
      },
      "execution_count": 23,
      "outputs": [
        {
          "output_type": "stream",
          "name": "stdout",
          "text": [
            "Machine parameters for int64\n",
            "---------------------------------------------------------------\n",
            "min = -9223372036854775808\n",
            "max = 9223372036854775807\n",
            "---------------------------------------------------------------\n",
            "\n",
            "Machine parameters for int32\n",
            "---------------------------------------------------------------\n",
            "min = -2147483648\n",
            "max = 2147483647\n",
            "---------------------------------------------------------------\n",
            "\n",
            "Machine parameters for int16\n",
            "---------------------------------------------------------------\n",
            "min = -32768\n",
            "max = 32767\n",
            "---------------------------------------------------------------\n",
            "\n",
            "Machine parameters for int8\n",
            "---------------------------------------------------------------\n",
            "min = -128\n",
            "max = 127\n",
            "---------------------------------------------------------------\n",
            "\n"
          ]
        }
      ]
    },
    {
      "cell_type": "code",
      "source": [
        "# view limits on unsigned integers\n",
        "print(np.iinfo('uint64'))\n",
        "print(np.iinfo('uint32'))\n",
        "print(np.iinfo('uint16'))\n",
        "print(np.iinfo('uint8'))"
      ],
      "metadata": {
        "colab": {
          "base_uri": "https://localhost:8080/"
        },
        "id": "Tz1XwYZzTOjB",
        "outputId": "df8f4ac3-38d2-4736-fffe-431d9e0c117e"
      },
      "execution_count": 24,
      "outputs": [
        {
          "output_type": "stream",
          "name": "stdout",
          "text": [
            "Machine parameters for uint64\n",
            "---------------------------------------------------------------\n",
            "min = 0\n",
            "max = 18446744073709551615\n",
            "---------------------------------------------------------------\n",
            "\n",
            "Machine parameters for uint32\n",
            "---------------------------------------------------------------\n",
            "min = 0\n",
            "max = 4294967295\n",
            "---------------------------------------------------------------\n",
            "\n",
            "Machine parameters for uint16\n",
            "---------------------------------------------------------------\n",
            "min = 0\n",
            "max = 65535\n",
            "---------------------------------------------------------------\n",
            "\n",
            "Machine parameters for uint8\n",
            "---------------------------------------------------------------\n",
            "min = 0\n",
            "max = 255\n",
            "---------------------------------------------------------------\n",
            "\n"
          ]
        }
      ]
    },
    {
      "cell_type": "code",
      "source": [
        "# view limits on floats\n",
        "print(np.finfo('float64'))\n",
        "print(np.finfo('float32'))\n",
        "print(np.finfo('float16'))"
      ],
      "metadata": {
        "colab": {
          "base_uri": "https://localhost:8080/"
        },
        "id": "cSFKU1m-T33I",
        "outputId": "229f4dc3-8106-4ce4-a5b5-8333f51ffe95"
      },
      "execution_count": 25,
      "outputs": [
        {
          "output_type": "stream",
          "name": "stdout",
          "text": [
            "Machine parameters for float64\n",
            "---------------------------------------------------------------\n",
            "precision =  15   resolution = 1.0000000000000001e-15\n",
            "machep =    -52   eps =        2.2204460492503131e-16\n",
            "negep =     -53   epsneg =     1.1102230246251565e-16\n",
            "minexp =  -1022   tiny =       2.2250738585072014e-308\n",
            "maxexp =   1024   max =        1.7976931348623157e+308\n",
            "nexp =       11   min =        -max\n",
            "---------------------------------------------------------------\n",
            "\n",
            "Machine parameters for float32\n",
            "---------------------------------------------------------------\n",
            "precision =   6   resolution = 1.0000000e-06\n",
            "machep =    -23   eps =        1.1920929e-07\n",
            "negep =     -24   epsneg =     5.9604645e-08\n",
            "minexp =   -126   tiny =       1.1754944e-38\n",
            "maxexp =    128   max =        3.4028235e+38\n",
            "nexp =        8   min =        -max\n",
            "---------------------------------------------------------------\n",
            "\n",
            "Machine parameters for float16\n",
            "---------------------------------------------------------------\n",
            "precision =   3   resolution = 1.00040e-03\n",
            "machep =    -10   eps =        9.76562e-04\n",
            "negep =     -11   epsneg =     4.88281e-04\n",
            "minexp =    -14   tiny =       6.10352e-05\n",
            "maxexp =     16   max =        6.55040e+04\n",
            "nexp =        5   min =        -max\n",
            "---------------------------------------------------------------\n",
            "\n"
          ]
        }
      ]
    },
    {
      "cell_type": "code",
      "source": [
        "# city_mpg is currently int64\n",
        "print(city_mpg)\n",
        "\n",
        "# check memory usage\n",
        "print('\\n')\n",
        "print('nbytes: ', city_mpg.nbytes)"
      ],
      "metadata": {
        "colab": {
          "base_uri": "https://localhost:8080/"
        },
        "id": "TuAHyIWZUDUl",
        "outputId": "2df2e1b5-5050-4a29-d4a1-56ffdc19001e"
      },
      "execution_count": 26,
      "outputs": [
        {
          "output_type": "stream",
          "name": "stdout",
          "text": [
            "0        19\n",
            "1         9\n",
            "2        23\n",
            "3        10\n",
            "4        17\n",
            "         ..\n",
            "41139    19\n",
            "41140    20\n",
            "41141    18\n",
            "41142    18\n",
            "41143    16\n",
            "Name: city08, Length: 41144, dtype: int64\n",
            "\n",
            "\n",
            "nbytes:  329152\n"
          ]
        }
      ]
    },
    {
      "cell_type": "code",
      "source": [
        "# cast as int32\n",
        "print(city_mpg.astype('int32').nbytes)"
      ],
      "metadata": {
        "colab": {
          "base_uri": "https://localhost:8080/"
        },
        "id": "vnIpFI9_UP5O",
        "outputId": "6c9c30dd-0ffa-4741-cf53-deacbd166be4"
      },
      "execution_count": 27,
      "outputs": [
        {
          "output_type": "stream",
          "name": "stdout",
          "text": [
            "164576\n"
          ]
        }
      ]
    },
    {
      "cell_type": "code",
      "source": [
        "city_mpg"
      ],
      "metadata": {
        "colab": {
          "base_uri": "https://localhost:8080/"
        },
        "id": "1EeFDjqIUee6",
        "outputId": "b2e7f810-1b84-4a11-e51a-1b5dc34acbb4"
      },
      "execution_count": 28,
      "outputs": [
        {
          "output_type": "execute_result",
          "data": {
            "text/plain": [
              "0        19\n",
              "1         9\n",
              "2        23\n",
              "3        10\n",
              "4        17\n",
              "         ..\n",
              "41139    19\n",
              "41140    20\n",
              "41141    18\n",
              "41142    18\n",
              "41143    16\n",
              "Name: city08, Length: 41144, dtype: int64"
            ]
          },
          "metadata": {},
          "execution_count": 28
        }
      ]
    },
    {
      "cell_type": "code",
      "source": [
        "print('city_mpg min and max: ', city_mpg.agg([np.min, np.max]))\n",
        "#city_mpg ranges from 6 to 150"
      ],
      "metadata": {
        "colab": {
          "base_uri": "https://localhost:8080/"
        },
        "id": "6LaDGaixWf2B",
        "outputId": "3ae848fe-ae92-4732-cae9-94c8b771343e"
      },
      "execution_count": 29,
      "outputs": [
        {
          "output_type": "stream",
          "name": "stdout",
          "text": [
            "city_mpg min and max:  amin      6\n",
            "amax    150\n",
            "Name: city08, dtype: int64\n"
          ]
        }
      ]
    },
    {
      "cell_type": "code",
      "source": [
        "# convert to uint8\n",
        "city_mpg.astype('uint8').agg([np.min, np.max])\n",
        "  # why does this happen? why not 6 and 150"
      ],
      "metadata": {
        "colab": {
          "base_uri": "https://localhost:8080/"
        },
        "id": "bs33D3wyWxf3",
        "outputId": "a0dd2d70-8225-4186-964a-0ba867dd1dbb"
      },
      "execution_count": 30,
      "outputs": [
        {
          "output_type": "execute_result",
          "data": {
            "text/plain": [
              "amin      6\n",
              "amax   -106\n",
              "Name: city08, dtype: int8"
            ]
          },
          "metadata": {},
          "execution_count": 30
        }
      ]
    },
    {
      "cell_type": "code",
      "source": [
        "# see notes about converting str to category (ordered) for memory saving; can still use str methods"
      ],
      "metadata": {
        "id": "bLkYh-d5XJM8"
      },
      "execution_count": 31,
      "outputs": []
    },
    {
      "cell_type": "markdown",
      "source": [
        "# Chapter 9: Manipulation Methods"
      ],
      "metadata": {
        "id": "bddYxHVxX6w0"
      }
    },
    {
      "cell_type": "code",
      "source": [
        "# series called make from df\n",
        "make = df.make\n",
        "print(make)"
      ],
      "metadata": {
        "colab": {
          "base_uri": "https://localhost:8080/"
        },
        "id": "58JReFXvX81o",
        "outputId": "5dba0ba7-da58-44c2-b7cb-61c30083e0c9"
      },
      "execution_count": 32,
      "outputs": [
        {
          "output_type": "stream",
          "name": "stdout",
          "text": [
            "0        Alfa Romeo\n",
            "1           Ferrari\n",
            "2             Dodge\n",
            "3             Dodge\n",
            "4            Subaru\n",
            "            ...    \n",
            "41139        Subaru\n",
            "41140        Subaru\n",
            "41141        Subaru\n",
            "41142        Subaru\n",
            "41143        Subaru\n",
            "Name: make, Length: 41144, dtype: object\n"
          ]
        }
      ]
    },
    {
      "cell_type": "code",
      "source": [
        "# get coutns fo each make\n",
        "print(make.value_counts())"
      ],
      "metadata": {
        "colab": {
          "base_uri": "https://localhost:8080/"
        },
        "id": "em0_zfIuY0OC",
        "outputId": "baa97d26-f537-4c14-a6b3-5381d0603213"
      },
      "execution_count": 33,
      "outputs": [
        {
          "output_type": "stream",
          "name": "stdout",
          "text": [
            "Chevrolet                      4003\n",
            "Ford                           3371\n",
            "Dodge                          2583\n",
            "GMC                            2494\n",
            "Toyota                         2071\n",
            "                               ... \n",
            "Volga Associated Automobile       1\n",
            "Panos                             1\n",
            "Mahindra                          1\n",
            "Excalibur Autos                   1\n",
            "London Coach Co Inc               1\n",
            "Name: make, Length: 136, dtype: int64\n"
          ]
        }
      ]
    },
    {
      "cell_type": "code",
      "source": [
        "# for make, if make is in top 5 (Chevrolet, Ford, Dodge, GMC, Toyota), keep make as is; otherwise 'Other'\n",
        "\n",
        "# top 5\n",
        "top5 = make.value_counts().index[:5]   # .index pulls out index; [:5] pulls out top 5, which is 0 thru 4\n",
        "print(top5)"
      ],
      "metadata": {
        "colab": {
          "base_uri": "https://localhost:8080/"
        },
        "id": "7s-eKfY2Y3Px",
        "outputId": "a8862b49-f17c-4d5e-f669-9f09688ab828"
      },
      "execution_count": 34,
      "outputs": [
        {
          "output_type": "stream",
          "name": "stdout",
          "text": [
            "Index(['Chevrolet', 'Ford', 'Dodge', 'GMC', 'Toyota'], dtype='object')\n"
          ]
        }
      ]
    },
    {
      "cell_type": "code",
      "source": [
        "# if make is in top5, leave as is; otherwise, replace with 'Other'\n",
        "make_bucketed = make.where(make.isin(top5), other = 'Other')\n",
        "print(make_bucketed)"
      ],
      "metadata": {
        "colab": {
          "base_uri": "https://localhost:8080/"
        },
        "id": "qgqvAwSwaAii",
        "outputId": "c35f60c7-f7e2-4e74-d60f-b11b687bd5ff"
      },
      "execution_count": 35,
      "outputs": [
        {
          "output_type": "stream",
          "name": "stdout",
          "text": [
            "0        Other\n",
            "1        Other\n",
            "2        Dodge\n",
            "3        Dodge\n",
            "4        Other\n",
            "         ...  \n",
            "41139    Other\n",
            "41140    Other\n",
            "41141    Other\n",
            "41142    Other\n",
            "41143    Other\n",
            "Name: make, Length: 41144, dtype: object\n"
          ]
        }
      ]
    },
    {
      "cell_type": "code",
      "source": [
        "# check value_counts()\n",
        "make_bucketed.value_counts()"
      ],
      "metadata": {
        "colab": {
          "base_uri": "https://localhost:8080/"
        },
        "id": "ondbPynOaQnG",
        "outputId": "d88dda27-2fdb-4b39-ccea-7c7958ba8cf4"
      },
      "execution_count": 36,
      "outputs": [
        {
          "output_type": "execute_result",
          "data": {
            "text/plain": [
              "Other        26622\n",
              "Chevrolet     4003\n",
              "Ford          3371\n",
              "Dodge         2583\n",
              "GMC           2494\n",
              "Toyota        2071\n",
              "Name: make, dtype: int64"
            ]
          },
          "metadata": {},
          "execution_count": 36
        }
      ]
    },
    {
      "cell_type": "code",
      "source": [
        "# see mask for inverse/reverse of .where"
      ],
      "metadata": {
        "id": "-rymzhYyaWAV"
      },
      "execution_count": 37,
      "outputs": []
    },
    {
      "cell_type": "code",
      "source": [
        "# for make series, if it's in top 5, keep make as is; if it's 6-10, say \"top 10\", i.e., 6-10, otherwise 'Other\n",
        "(\n",
        "    make\n",
        "      .where(cond = make.isin(make.value_counts().index[:5]), other = 'Top10')    # if in top5, keep as is, otherwise 'Top10'\n",
        "      .where(cond = make.isin(make.value_counts().index[:10]), other = 'Other')   # if in top10, keep as is, otherwise 'Other'\n",
        ")"
      ],
      "metadata": {
        "colab": {
          "base_uri": "https://localhost:8080/"
        },
        "id": "n1_TwKyxV-Q7",
        "outputId": "05ba276a-4d78-4e34-e377-0d8b02d8446a"
      },
      "execution_count": 38,
      "outputs": [
        {
          "output_type": "execute_result",
          "data": {
            "text/plain": [
              "0        Other\n",
              "1        Other\n",
              "2        Dodge\n",
              "3        Dodge\n",
              "4        Other\n",
              "         ...  \n",
              "41139    Other\n",
              "41140    Other\n",
              "41141    Other\n",
              "41142    Other\n",
              "41143    Other\n",
              "Name: make, Length: 41144, dtype: object"
            ]
          },
          "metadata": {},
          "execution_count": 38
        }
      ]
    },
    {
      "cell_type": "code",
      "source": [
        "# count how many missing values there are in cyl series\n",
        "\n",
        "# create variable\n",
        "cyl = df.cylinders\n",
        "\n",
        "# total number of entries in cyl\n",
        "print(len(cyl))\n",
        "\n",
        "# number of missing values\n",
        "print(\n",
        "    (\n",
        "        cyl\n",
        "          .isna()\n",
        "          .sum()\n",
        "    )\n",
        ")"
      ],
      "metadata": {
        "colab": {
          "base_uri": "https://localhost:8080/"
        },
        "id": "CVgZTYUCWWKr",
        "outputId": "e283f941-f0b1-41ae-94fc-64040975b549"
      },
      "execution_count": 39,
      "outputs": [
        {
          "output_type": "stream",
          "name": "stdout",
          "text": [
            "41144\n",
            "206\n"
          ]
        }
      ]
    },
    {
      "cell_type": "code",
      "source": [
        "# entries in cyl that are missing\n",
        "cyl.loc[cyl.isna()]\n",
        "\n",
        "# equivlent to above\n",
        "cyl[cyl.isna()]  # boolean mask inside square brackets []"
      ],
      "metadata": {
        "id": "KnrywnktYaYF",
        "colab": {
          "base_uri": "https://localhost:8080/"
        },
        "outputId": "c795f480-3ec8-42e1-e74f-c069e57129cd"
      },
      "execution_count": 40,
      "outputs": [
        {
          "output_type": "execute_result",
          "data": {
            "text/plain": [
              "7138    NaN\n",
              "7139    NaN\n",
              "8143    NaN\n",
              "8144    NaN\n",
              "8146    NaN\n",
              "         ..\n",
              "34563   NaN\n",
              "34564   NaN\n",
              "34565   NaN\n",
              "34566   NaN\n",
              "34567   NaN\n",
              "Name: cylinders, Length: 206, dtype: float64"
            ]
          },
          "metadata": {},
          "execution_count": 40
        }
      ]
    },
    {
      "cell_type": "code",
      "source": [
        "# based on subject matter expert, missing values (NaN) are for electric vehicles, which have 0 cylinders\n",
        "# so replace NaN with 0\n",
        "cyl.fillna(0)\n",
        "\n",
        "print(cyl.fillna(0)[cyl.fillna(0).isna()]) # should return empty"
      ],
      "metadata": {
        "colab": {
          "base_uri": "https://localhost:8080/"
        },
        "id": "MFv9nNa8UxaO",
        "outputId": "a58c6637-9732-460d-93ae-a62933596c31"
      },
      "execution_count": 41,
      "outputs": [
        {
          "output_type": "stream",
          "name": "stdout",
          "text": [
            "Series([], Name: cylinders, dtype: float64)\n"
          ]
        }
      ]
    },
    {
      "cell_type": "code",
      "source": [
        "# interpolate (as opposed to extrapolate)\n",
        "\n",
        "temp = pd.Series(\n",
        "    data = [32, 40, np.nan, 42, 39, 32]\n",
        ")\n",
        "\n",
        "print(temp)\n",
        "print('\\n')\n",
        "print(temp.interpolate())"
      ],
      "metadata": {
        "colab": {
          "base_uri": "https://localhost:8080/"
        },
        "id": "-wlvlem3U7tL",
        "outputId": "f378c15f-4b63-4d07-8de8-51dc74c447c9"
      },
      "execution_count": 42,
      "outputs": [
        {
          "output_type": "stream",
          "name": "stdout",
          "text": [
            "0    32.0\n",
            "1    40.0\n",
            "2     NaN\n",
            "3    42.0\n",
            "4    39.0\n",
            "5    32.0\n",
            "dtype: float64\n",
            "\n",
            "\n",
            "0    32.0\n",
            "1    40.0\n",
            "2    41.0\n",
            "3    42.0\n",
            "4    39.0\n",
            "5    32.0\n",
            "dtype: float64\n"
          ]
        }
      ]
    },
    {
      "cell_type": "code",
      "source": [
        "# before cliping\n",
        "print(city_mpg.agg(['min', 'max']))\n",
        "print('\\n')\n",
        "print(len(city_mpg))\n"
      ],
      "metadata": {
        "colab": {
          "base_uri": "https://localhost:8080/"
        },
        "id": "rTBmQ53NW9u_",
        "outputId": "0e930824-7f08-46b3-b8ff-847318dd3436"
      },
      "execution_count": 43,
      "outputs": [
        {
          "output_type": "stream",
          "name": "stdout",
          "text": [
            "min      6\n",
            "max    150\n",
            "Name: city08, dtype: int64\n",
            "\n",
            "\n",
            "41144\n"
          ]
        }
      ]
    },
    {
      "cell_type": "code",
      "source": [
        "# after clipping\n",
        "print(city_mpg.clip(lower = city_mpg.quantile(0.05), upper = city_mpg.quantile(0.95)).agg(['min', 'max']))\n",
        "print('\\n')\n",
        "print(len(city_mpg.clip(lower = city_mpg.quantile(0.05), upper = city_mpg.quantile(0.95))))"
      ],
      "metadata": {
        "colab": {
          "base_uri": "https://localhost:8080/"
        },
        "id": "5GkjB97RX3zc",
        "outputId": "48afa034-3cbd-4bce-c751-1102d2df7321"
      },
      "execution_count": 44,
      "outputs": [
        {
          "output_type": "stream",
          "name": "stdout",
          "text": [
            "min    11.0\n",
            "max    27.0\n",
            "Name: city08, dtype: float64\n",
            "\n",
            "\n",
            "41144\n"
          ]
        }
      ]
    },
    {
      "cell_type": "code",
      "source": [
        "# clipping replaces values outside of lower and upper with lower and upper values, respectively"
      ],
      "metadata": {
        "id": "rL_Wg0WlYLa6"
      },
      "execution_count": 45,
      "outputs": []
    },
    {
      "cell_type": "code",
      "source": [
        "# sorting values\n",
        "city_mpg.sort_values() # by default, it's ascending, like SQL"
      ],
      "metadata": {
        "colab": {
          "base_uri": "https://localhost:8080/"
        },
        "id": "H12vYcbRY1o1",
        "outputId": "e8fa173a-ef57-4e78-cefa-19de1644f67c"
      },
      "execution_count": 46,
      "outputs": [
        {
          "output_type": "execute_result",
          "data": {
            "text/plain": [
              "7901       6\n",
              "34557      6\n",
              "37161      6\n",
              "21060      6\n",
              "35887      6\n",
              "        ... \n",
              "34563    138\n",
              "34564    140\n",
              "32599    150\n",
              "31256    150\n",
              "33423    150\n",
              "Name: city08, Length: 41144, dtype: int64"
            ]
          },
          "metadata": {},
          "execution_count": 46
        }
      ]
    },
    {
      "cell_type": "code",
      "source": [
        "# sort index\n",
        "city_mpg.sort_values().sort_index()"
      ],
      "metadata": {
        "colab": {
          "base_uri": "https://localhost:8080/"
        },
        "id": "IlzUtV3tZHsM",
        "outputId": "4e60f712-c19f-4a86-b646-5ffee424405f"
      },
      "execution_count": 47,
      "outputs": [
        {
          "output_type": "execute_result",
          "data": {
            "text/plain": [
              "0        19\n",
              "1         9\n",
              "2        23\n",
              "3        10\n",
              "4        17\n",
              "         ..\n",
              "41139    19\n",
              "41140    20\n",
              "41141    18\n",
              "41142    18\n",
              "41143    16\n",
              "Name: city08, Length: 41144, dtype: int64"
            ]
          },
          "metadata": {},
          "execution_count": 47
        }
      ]
    },
    {
      "cell_type": "code",
      "source": [
        "# above is same as city_mpg\n",
        "city_mpg"
      ],
      "metadata": {
        "colab": {
          "base_uri": "https://localhost:8080/"
        },
        "id": "7N_7uXAyZyVu",
        "outputId": "314df0bd-0a18-4f38-e82c-16bd8d74bb27"
      },
      "execution_count": 48,
      "outputs": [
        {
          "output_type": "execute_result",
          "data": {
            "text/plain": [
              "0        19\n",
              "1         9\n",
              "2        23\n",
              "3        10\n",
              "4        17\n",
              "         ..\n",
              "41139    19\n",
              "41140    20\n",
              "41141    18\n",
              "41142    18\n",
              "41143    16\n",
              "Name: city08, Length: 41144, dtype: int64"
            ]
          },
          "metadata": {},
          "execution_count": 48
        }
      ]
    },
    {
      "cell_type": "code",
      "source": [
        "# dropping duplicate values\n",
        "duplicated_series = pd.Series(data = [40, 20, 30, 20, 10])\n",
        "print(duplicated_series)"
      ],
      "metadata": {
        "colab": {
          "base_uri": "https://localhost:8080/"
        },
        "id": "TraAUWkkZ0nV",
        "outputId": "92ebf15d-2434-4fa6-a63a-de90dafedd5c"
      },
      "execution_count": 49,
      "outputs": [
        {
          "output_type": "stream",
          "name": "stdout",
          "text": [
            "0    40\n",
            "1    20\n",
            "2    30\n",
            "3    20\n",
            "4    10\n",
            "dtype: int64\n"
          ]
        }
      ]
    },
    {
      "cell_type": "code",
      "source": [
        "# keep the first duplicated value -- index 1, value is 20 -- but drop others\n",
        "duplicated_series.drop_duplicates()"
      ],
      "metadata": {
        "colab": {
          "base_uri": "https://localhost:8080/"
        },
        "id": "LmLA0_w1a7GV",
        "outputId": "758f2b7a-2e09-49f9-ef38-f06d0292817e"
      },
      "execution_count": 50,
      "outputs": [
        {
          "output_type": "execute_result",
          "data": {
            "text/plain": [
              "0    40\n",
              "1    20\n",
              "2    30\n",
              "4    10\n",
              "dtype: int64"
            ]
          },
          "metadata": {},
          "execution_count": 50
        }
      ]
    },
    {
      "cell_type": "code",
      "source": [
        "# keep the last duplicated value, drop others -- index 3, value 20\n",
        "duplicated_series.drop_duplicates(keep = 'last')"
      ],
      "metadata": {
        "colab": {
          "base_uri": "https://localhost:8080/"
        },
        "id": "zmFnqL5AbBIT",
        "outputId": "9675d836-a958-4aa5-829c-dd0d31648c03"
      },
      "execution_count": 51,
      "outputs": [
        {
          "output_type": "execute_result",
          "data": {
            "text/plain": [
              "0    40\n",
              "2    30\n",
              "3    20\n",
              "4    10\n",
              "dtype: int64"
            ]
          },
          "metadata": {},
          "execution_count": 51
        }
      ]
    },
    {
      "cell_type": "code",
      "source": [
        "# drop all duplicates\n",
        "duplicated_series.drop_duplicates(keep = False)"
      ],
      "metadata": {
        "colab": {
          "base_uri": "https://localhost:8080/"
        },
        "id": "4lV5b3ombH5q",
        "outputId": "61d5f3b9-4c74-4d5c-eff2-bac0b9490dfb"
      },
      "execution_count": 52,
      "outputs": [
        {
          "output_type": "execute_result",
          "data": {
            "text/plain": [
              "0    40\n",
              "2    30\n",
              "4    10\n",
              "dtype: int64"
            ]
          },
          "metadata": {},
          "execution_count": 52
        }
      ]
    },
    {
      "cell_type": "code",
      "source": [
        "city_mpg"
      ],
      "metadata": {
        "colab": {
          "base_uri": "https://localhost:8080/"
        },
        "id": "OKnk6KZCbdsJ",
        "outputId": "f87ac57e-2ad1-4ab6-aafc-e0b6dc48f94b"
      },
      "execution_count": 53,
      "outputs": [
        {
          "output_type": "execute_result",
          "data": {
            "text/plain": [
              "0        19\n",
              "1         9\n",
              "2        23\n",
              "3        10\n",
              "4        17\n",
              "         ..\n",
              "41139    19\n",
              "41140    20\n",
              "41141    18\n",
              "41142    18\n",
              "41143    16\n",
              "Name: city08, Length: 41144, dtype: int64"
            ]
          },
          "metadata": {},
          "execution_count": 53
        }
      ]
    },
    {
      "cell_type": "code",
      "source": [
        "city_mpg.rank()"
      ],
      "metadata": {
        "colab": {
          "base_uri": "https://localhost:8080/"
        },
        "id": "vbBq9JDahW5W",
        "outputId": "c4b88be2-253e-4a67-9323-5c2bd7b51a46"
      },
      "execution_count": 54,
      "outputs": [
        {
          "output_type": "execute_result",
          "data": {
            "text/plain": [
              "0        27060.5\n",
              "1          235.5\n",
              "2        35830.0\n",
              "3          607.5\n",
              "4        19484.0\n",
              "          ...   \n",
              "41139    27060.5\n",
              "41140    29719.5\n",
              "41141    23528.0\n",
              "41142    23528.0\n",
              "41143    15479.0\n",
              "Name: city08, Length: 41144, dtype: float64"
            ]
          },
          "metadata": {},
          "execution_count": 54
        }
      ]
    },
    {
      "cell_type": "code",
      "source": [
        "# what does ranking do? .rank()\n",
        "# see fig. 9.5 on p. 74; instead of values, returns a rank, 1 thur n where n is len(series)"
      ],
      "metadata": {
        "id": "vV8O0wAshYG2"
      },
      "execution_count": 55,
      "outputs": []
    },
    {
      "cell_type": "code",
      "source": [
        "series_to_rank = pd.Series(data = [30, 20, 30, 20, 10])\n",
        "print(series_to_rank)"
      ],
      "metadata": {
        "colab": {
          "base_uri": "https://localhost:8080/"
        },
        "id": "ipVTJSm1h-QM",
        "outputId": "935ff14f-1ec5-4ce1-b383-b140cb1fe253"
      },
      "execution_count": 56,
      "outputs": [
        {
          "output_type": "stream",
          "name": "stdout",
          "text": [
            "0    30\n",
            "1    20\n",
            "2    30\n",
            "3    20\n",
            "4    10\n",
            "dtype: int64\n"
          ]
        }
      ]
    },
    {
      "cell_type": "code",
      "source": [
        "print(series_to_rank.rank())"
      ],
      "metadata": {
        "colab": {
          "base_uri": "https://localhost:8080/"
        },
        "id": "9u1SE2muj7Hx",
        "outputId": "9e1f84e2-e4d1-4c9b-e866-6402c2830474"
      },
      "execution_count": 57,
      "outputs": [
        {
          "output_type": "stream",
          "name": "stdout",
          "text": [
            "0    4.5\n",
            "1    2.5\n",
            "2    4.5\n",
            "3    2.5\n",
            "4    1.0\n",
            "dtype: float64\n"
          ]
        }
      ]
    },
    {
      "cell_type": "code",
      "source": [
        "print(series_to_rank.rank(method = 'dense'))"
      ],
      "metadata": {
        "colab": {
          "base_uri": "https://localhost:8080/"
        },
        "id": "S8VtGL8tj9pA",
        "outputId": "136b3e08-74c4-46eb-90c5-798e6b64c40b"
      },
      "execution_count": 58,
      "outputs": [
        {
          "output_type": "stream",
          "name": "stdout",
          "text": [
            "0    3.0\n",
            "1    2.0\n",
            "2    3.0\n",
            "3    2.0\n",
            "4    1.0\n",
            "dtype: float64\n"
          ]
        }
      ]
    },
    {
      "cell_type": "code",
      "source": [
        "# replace values; see fig 9.6 on p. 75\n",
        "print(series_to_rank)"
      ],
      "metadata": {
        "colab": {
          "base_uri": "https://localhost:8080/"
        },
        "id": "OfN3kR1EkFT3",
        "outputId": "ffadcc55-0a3e-4caa-c5c8-66c99bd245cd"
      },
      "execution_count": 59,
      "outputs": [
        {
          "output_type": "stream",
          "name": "stdout",
          "text": [
            "0    30\n",
            "1    20\n",
            "2    30\n",
            "3    20\n",
            "4    10\n",
            "dtype: int64\n"
          ]
        }
      ]
    },
    {
      "cell_type": "code",
      "source": [
        "print(series_to_rank.replace(to_replace = {30:3000, 10:1000}))"
      ],
      "metadata": {
        "colab": {
          "base_uri": "https://localhost:8080/"
        },
        "id": "bf7x02b_kRe4",
        "outputId": "df5ac93d-44d5-4e85-e9eb-4beecd20f218"
      },
      "execution_count": 60,
      "outputs": [
        {
          "output_type": "stream",
          "name": "stdout",
          "text": [
            "0    3000\n",
            "1      20\n",
            "2    3000\n",
            "3      20\n",
            "4    1000\n",
            "dtype: int64\n"
          ]
        }
      ]
    },
    {
      "cell_type": "code",
      "source": [
        "# bin these data\n",
        "print(city_mpg)"
      ],
      "metadata": {
        "colab": {
          "base_uri": "https://localhost:8080/"
        },
        "id": "FpWnteUdkczO",
        "outputId": "7bbcfd4c-602c-43c5-819e-4fa7fa5b3727"
      },
      "execution_count": 61,
      "outputs": [
        {
          "output_type": "stream",
          "name": "stdout",
          "text": [
            "0        19\n",
            "1         9\n",
            "2        23\n",
            "3        10\n",
            "4        17\n",
            "         ..\n",
            "41139    19\n",
            "41140    20\n",
            "41141    18\n",
            "41142    18\n",
            "41143    16\n",
            "Name: city08, Length: 41144, dtype: int64\n"
          ]
        }
      ]
    },
    {
      "cell_type": "code",
      "source": [
        "# 10 bins\n",
        "(\n",
        "pd.cut(x = city_mpg, bins = 10)      # cut city_mpg series into 10 bins; each bin covers the same ground\n",
        "  .value_counts()                    # number of entries in each bin\n",
        "  .sort_index()                      # sort by index\n",
        ")"
      ],
      "metadata": {
        "colab": {
          "base_uri": "https://localhost:8080/"
        },
        "id": "1Ds6sDP9lYph",
        "outputId": "a7fbe3c9-97e8-4252-8760-98e84e68b964"
      },
      "execution_count": 62,
      "outputs": [
        {
          "output_type": "execute_result",
          "data": {
            "text/plain": [
              "(5.856, 20.4]     30872\n",
              "(20.4, 34.8]       9667\n",
              "(34.8, 49.2]        367\n",
              "(49.2, 63.6]         54\n",
              "(63.6, 78.0]         11\n",
              "(78.0, 92.4]         48\n",
              "(92.4, 106.8]        32\n",
              "(106.8, 121.2]       26\n",
              "(121.2, 135.6]       55\n",
              "(135.6, 150.0]       12\n",
              "Name: city08, dtype: int64"
            ]
          },
          "metadata": {},
          "execution_count": 62
        }
      ]
    },
    {
      "cell_type": "code",
      "source": [
        "# 10 bins, approx. number of entries in each bin, i.e., deciles\n",
        "(\n",
        "    pd.qcut(x = city_mpg, q = 10)\n",
        "      .value_counts()\n",
        "      .sort_index()\n",
        ")"
      ],
      "metadata": {
        "colab": {
          "base_uri": "https://localhost:8080/"
        },
        "id": "N9BbmFacle7-",
        "outputId": "c93f820a-62b4-40fb-aa40-b4d83f4fc8c7"
      },
      "execution_count": 63,
      "outputs": [
        {
          "output_type": "execute_result",
          "data": {
            "text/plain": [
              "(5.999, 13.0]    6019\n",
              "(13.0, 14.0]     2969\n",
              "(14.0, 15.0]     4503\n",
              "(15.0, 16.0]     3975\n",
              "(16.0, 17.0]     4035\n",
              "(17.0, 18.0]     4053\n",
              "(18.0, 20.0]     5318\n",
              "(20.0, 21.0]     2532\n",
              "(21.0, 24.0]     4036\n",
              "(24.0, 150.0]    3704\n",
              "Name: city08, dtype: int64"
            ]
          },
          "metadata": {},
          "execution_count": 63
        }
      ]
    },
    {
      "cell_type": "code",
      "source": [
        "# label the bins\n",
        "pd.qcut(x = city_mpg, q = 10, labels = list(range(1, 11)))  # 1 is lowest decile, 10 is top decile"
      ],
      "metadata": {
        "colab": {
          "base_uri": "https://localhost:8080/"
        },
        "id": "Yp6dcgmHmOmq",
        "outputId": "84f56c24-3fdc-41ee-fbeb-c40f78d4d809"
      },
      "execution_count": 64,
      "outputs": [
        {
          "output_type": "execute_result",
          "data": {
            "text/plain": [
              "0        7\n",
              "1        1\n",
              "2        9\n",
              "3        1\n",
              "4        5\n",
              "        ..\n",
              "41139    7\n",
              "41140    7\n",
              "41141    6\n",
              "41142    6\n",
              "41143    4\n",
              "Name: city08, Length: 41144, dtype: category\n",
              "Categories (10, int64): [1 < 2 < 3 < 4 ... 7 < 8 < 9 < 10]"
            ]
          },
          "metadata": {},
          "execution_count": 64
        }
      ]
    },
    {
      "cell_type": "code",
      "source": [
        "pd.qcut(x = city_mpg, q = 10)"
      ],
      "metadata": {
        "colab": {
          "base_uri": "https://localhost:8080/"
        },
        "id": "DoRNValcm9Jd",
        "outputId": "a6ed287a-df06-4317-ed45-8845e7458069"
      },
      "execution_count": 65,
      "outputs": [
        {
          "output_type": "execute_result",
          "data": {
            "text/plain": [
              "0         (18.0, 20.0]\n",
              "1        (5.999, 13.0]\n",
              "2         (21.0, 24.0]\n",
              "3        (5.999, 13.0]\n",
              "4         (16.0, 17.0]\n",
              "             ...      \n",
              "41139     (18.0, 20.0]\n",
              "41140     (18.0, 20.0]\n",
              "41141     (17.0, 18.0]\n",
              "41142     (17.0, 18.0]\n",
              "41143     (15.0, 16.0]\n",
              "Name: city08, Length: 41144, dtype: category\n",
              "Categories (10, interval[float64, right]): [(5.999, 13.0] < (13.0, 14.0] < (14.0, 15.0] <\n",
              "                                            (15.0, 16.0] ... (18.0, 20.0] < (20.0, 21.0] <\n",
              "                                            (21.0, 24.0] < (24.0, 150.0]]"
            ]
          },
          "metadata": {},
          "execution_count": 65
        }
      ]
    },
    {
      "cell_type": "markdown",
      "source": [
        "# Chapter 10: Indexing Operations"
      ],
      "metadata": {
        "id": "RL3LIxz-YlnR"
      }
    },
    {
      "cell_type": "code",
      "source": [
        "# reset index of city_mpg\n",
        "city_mpg"
      ],
      "metadata": {
        "colab": {
          "base_uri": "https://localhost:8080/"
        },
        "id": "6FQ1n0dGnF8_",
        "outputId": "4c68e40b-5835-48b6-a314-60797489897c"
      },
      "execution_count": 66,
      "outputs": [
        {
          "output_type": "execute_result",
          "data": {
            "text/plain": [
              "0        19\n",
              "1         9\n",
              "2        23\n",
              "3        10\n",
              "4        17\n",
              "         ..\n",
              "41139    19\n",
              "41140    20\n",
              "41141    18\n",
              "41142    18\n",
              "41143    16\n",
              "Name: city08, Length: 41144, dtype: int64"
            ]
          },
          "metadata": {},
          "execution_count": 66
        }
      ]
    },
    {
      "cell_type": "code",
      "source": [
        "# index is 0, 1, 2, 3, etc...\n",
        "# change to make\n",
        "print(make) # make is a series\n",
        "print('\\n')\n",
        "city_mpg.rename(make) # change index in city_mpg to make values"
      ],
      "metadata": {
        "colab": {
          "base_uri": "https://localhost:8080/"
        },
        "id": "WZ0TrtzAYt0C",
        "outputId": "7f79efa6-802f-4128-be92-f4200ea6fdb4"
      },
      "execution_count": 69,
      "outputs": [
        {
          "output_type": "stream",
          "name": "stdout",
          "text": [
            "0        Alfa Romeo\n",
            "1           Ferrari\n",
            "2             Dodge\n",
            "3             Dodge\n",
            "4            Subaru\n",
            "            ...    \n",
            "41139        Subaru\n",
            "41140        Subaru\n",
            "41141        Subaru\n",
            "41142        Subaru\n",
            "41143        Subaru\n",
            "Name: make, Length: 41144, dtype: object\n",
            "\n",
            "\n"
          ]
        },
        {
          "output_type": "execute_result",
          "data": {
            "text/plain": [
              "Alfa Romeo    19\n",
              "Ferrari        9\n",
              "Dodge         23\n",
              "Dodge         10\n",
              "Subaru        17\n",
              "              ..\n",
              "Subaru        19\n",
              "Subaru        20\n",
              "Subaru        18\n",
              "Subaru        18\n",
              "Subaru        16\n",
              "Name: city08, Length: 41144, dtype: int64"
            ]
          },
          "metadata": {},
          "execution_count": 69
        }
      ]
    },
    {
      "cell_type": "code",
      "source": [
        "# to resent index\n",
        "city_mpg.rename(make).reset_index(drop = True) # drop = True keeps it as a Series; otherwise it's a Pandas Dataframe"
      ],
      "metadata": {
        "colab": {
          "base_uri": "https://localhost:8080/"
        },
        "id": "scnSmuaUZFjP",
        "outputId": "20cfcff1-43f4-4b7b-c8e5-884ff2e0f88b"
      },
      "execution_count": 71,
      "outputs": [
        {
          "output_type": "execute_result",
          "data": {
            "text/plain": [
              "0        19\n",
              "1         9\n",
              "2        23\n",
              "3        10\n",
              "4        17\n",
              "         ..\n",
              "41139    19\n",
              "41140    20\n",
              "41141    18\n",
              "41142    18\n",
              "41143    16\n",
              "Name: city08, Length: 41144, dtype: int64"
            ]
          },
          "metadata": {},
          "execution_count": 71
        }
      ]
    },
    {
      "cell_type": "code",
      "source": [],
      "metadata": {
        "id": "nO5ePvGRZcE6"
      },
      "execution_count": null,
      "outputs": []
    }
  ]
}